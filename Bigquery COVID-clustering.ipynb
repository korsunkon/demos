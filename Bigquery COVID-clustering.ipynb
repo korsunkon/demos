{
 "cells": [
  {
   "cell_type": "code",
   "execution_count": 1,
   "metadata": {},
   "outputs": [],
   "source": [
    "import pandas as pd\n",
    "\n",
    "\n",
    "%matplotlib inline\n",
    "import matplotlib.pyplot as plt\n",
    "import seaborn as sns"
   ]
  },
  {
   "cell_type": "code",
   "execution_count": 2,
   "metadata": {},
   "outputs": [
    {
     "name": "stdout",
     "output_type": "stream",
     "text": [
      "Requirement already up-to-date: google-cloud-bigquery[pandas] in c:\\users\\pc\\anaconda3\\lib\\site-packages (1.24.0)\n",
      "Requirement already satisfied, skipping upgrade: google-resumable-media<0.6dev,>=0.5.0 in c:\\users\\pc\\anaconda3\\lib\\site-packages (from google-cloud-bigquery[pandas]) (0.5.0)\n",
      "Requirement already satisfied, skipping upgrade: google-api-core<2.0dev,>=1.15.0 in c:\\users\\pc\\anaconda3\\lib\\site-packages (from google-cloud-bigquery[pandas]) (1.17.0)\n",
      "Requirement already satisfied, skipping upgrade: google-cloud-core<2.0dev,>=1.1.0 in c:\\users\\pc\\anaconda3\\lib\\site-packages (from google-cloud-bigquery[pandas]) (1.3.0)\n",
      "Requirement already satisfied, skipping upgrade: six<2.0.0dev,>=1.13.0 in c:\\users\\pc\\anaconda3\\lib\\site-packages (from google-cloud-bigquery[pandas]) (1.14.0)\n",
      "Requirement already satisfied, skipping upgrade: protobuf>=3.6.0 in c:\\users\\pc\\anaconda3\\lib\\site-packages (from google-cloud-bigquery[pandas]) (3.11.3)\n",
      "Requirement already satisfied, skipping upgrade: google-auth<2.0dev,>=1.9.0 in c:\\users\\pc\\anaconda3\\lib\\site-packages (from google-cloud-bigquery[pandas]) (1.14.3)\n",
      "Requirement already satisfied, skipping upgrade: pandas>=0.17.1; extra == \"pandas\" in c:\\users\\pc\\anaconda3\\lib\\site-packages (from google-cloud-bigquery[pandas]) (1.0.1)\n",
      "Requirement already satisfied, skipping upgrade: setuptools>=34.0.0 in c:\\users\\pc\\anaconda3\\lib\\site-packages (from google-api-core<2.0dev,>=1.15.0->google-cloud-bigquery[pandas]) (45.2.0.post20200210)\n",
      "Requirement already satisfied, skipping upgrade: pytz in c:\\users\\pc\\anaconda3\\lib\\site-packages (from google-api-core<2.0dev,>=1.15.0->google-cloud-bigquery[pandas]) (2019.3)\n",
      "Requirement already satisfied, skipping upgrade: requests<3.0.0dev,>=2.18.0 in c:\\users\\pc\\anaconda3\\lib\\site-packages (from google-api-core<2.0dev,>=1.15.0->google-cloud-bigquery[pandas]) (2.22.0)\n",
      "Requirement already satisfied, skipping upgrade: googleapis-common-protos<2.0dev,>=1.6.0 in c:\\users\\pc\\anaconda3\\lib\\site-packages (from google-api-core<2.0dev,>=1.15.0->google-cloud-bigquery[pandas]) (1.51.0)\n",
      "Requirement already satisfied, skipping upgrade: rsa<4.1,>=3.1.4 in c:\\users\\pc\\anaconda3\\lib\\site-packages (from google-auth<2.0dev,>=1.9.0->google-cloud-bigquery[pandas]) (3.4.2)\n",
      "Requirement already satisfied, skipping upgrade: cachetools<5.0,>=2.0.0 in c:\\users\\pc\\anaconda3\\lib\\site-packages (from google-auth<2.0dev,>=1.9.0->google-cloud-bigquery[pandas]) (4.1.0)\n",
      "Requirement already satisfied, skipping upgrade: pyasn1-modules>=0.2.1 in c:\\users\\pc\\anaconda3\\lib\\site-packages (from google-auth<2.0dev,>=1.9.0->google-cloud-bigquery[pandas]) (0.2.8)\n",
      "Requirement already satisfied, skipping upgrade: numpy>=1.13.3 in c:\\users\\pc\\anaconda3\\lib\\site-packages (from pandas>=0.17.1; extra == \"pandas\"->google-cloud-bigquery[pandas]) (1.18.1)\n",
      "Requirement already satisfied, skipping upgrade: python-dateutil>=2.6.1 in c:\\users\\pc\\anaconda3\\lib\\site-packages (from pandas>=0.17.1; extra == \"pandas\"->google-cloud-bigquery[pandas]) (2.8.1)\n",
      "Requirement already satisfied, skipping upgrade: certifi>=2017.4.17 in c:\\users\\pc\\anaconda3\\lib\\site-packages (from requests<3.0.0dev,>=2.18.0->google-api-core<2.0dev,>=1.15.0->google-cloud-bigquery[pandas]) (2019.11.28)\n",
      "Requirement already satisfied, skipping upgrade: chardet<3.1.0,>=3.0.2 in c:\\users\\pc\\anaconda3\\lib\\site-packages (from requests<3.0.0dev,>=2.18.0->google-api-core<2.0dev,>=1.15.0->google-cloud-bigquery[pandas]) (3.0.4)\n",
      "Requirement already satisfied, skipping upgrade: urllib3!=1.25.0,!=1.25.1,<1.26,>=1.21.1 in c:\\users\\pc\\anaconda3\\lib\\site-packages (from requests<3.0.0dev,>=2.18.0->google-api-core<2.0dev,>=1.15.0->google-cloud-bigquery[pandas]) (1.25.8)\n",
      "Requirement already satisfied, skipping upgrade: idna<2.9,>=2.5 in c:\\users\\pc\\anaconda3\\lib\\site-packages (from requests<3.0.0dev,>=2.18.0->google-api-core<2.0dev,>=1.15.0->google-cloud-bigquery[pandas]) (2.8)\n",
      "Requirement already satisfied, skipping upgrade: pyasn1>=0.1.3 in c:\\users\\pc\\anaconda3\\lib\\site-packages (from rsa<4.1,>=3.1.4->google-auth<2.0dev,>=1.9.0->google-cloud-bigquery[pandas]) (0.4.8)\n",
      "Note: you may need to restart the kernel to use updated packages.\n"
     ]
    }
   ],
   "source": [
    "pip install --upgrade google-cloud-bigquery[pandas]"
   ]
  },
  {
   "cell_type": "code",
   "execution_count": 3,
   "metadata": {},
   "outputs": [],
   "source": [
    "%load_ext google.cloud.bigquery"
   ]
  },
  {
   "cell_type": "code",
   "execution_count": 4,
   "metadata": {},
   "outputs": [],
   "source": [
    "# set GOOGLE_APPLICATION_CREDENTIALS to serveice account that was created by me\n",
    "import os\n",
    "os.environ[\"GOOGLE_APPLICATION_CREDENTIALS\"]=\"korsunkonserv.json\""
   ]
  },
  {
   "cell_type": "markdown",
   "metadata": {},
   "source": [
    "# Now we can use SQL query directly from jupiter notebook and save it as pandas dataframes. It this query we will investigate connection between stringency index and deaths. We hope to find negative correlation(when stringency index increased deaths have to decrease).\n",
    "Stringency index -nine-point aggregation of the eight containment and closure indicators as well as H1 (public information campaigns). It reports a number between 0 to 100 that reflects the overall stringency of the governments response. This is a measure of how many of the these nine indicators (mostly around social isolation) a government has acted upon, and to what degree."
   ]
  },
  {
   "cell_type": "code",
   "execution_count": 5,
   "metadata": {},
   "outputs": [],
   "source": [
    "%%bigquery str_covid\n",
    "SELECT country_name,stringency_index,confirmed_cases,deaths\n",
    "FROM `bigquery-public-data.covid19_govt_response.oxford_policy_tracker` \n",
    "WHERE date='2020-05-20'\n"
   ]
  },
  {
   "cell_type": "code",
   "execution_count": 6,
   "metadata": {},
   "outputs": [
    {
     "data": {
      "text/html": [
       "<div>\n",
       "<style scoped>\n",
       "    .dataframe tbody tr th:only-of-type {\n",
       "        vertical-align: middle;\n",
       "    }\n",
       "\n",
       "    .dataframe tbody tr th {\n",
       "        vertical-align: top;\n",
       "    }\n",
       "\n",
       "    .dataframe thead th {\n",
       "        text-align: right;\n",
       "    }\n",
       "</style>\n",
       "<table border=\"1\" class=\"dataframe\">\n",
       "  <thead>\n",
       "    <tr style=\"text-align: right;\">\n",
       "      <th></th>\n",
       "      <th>country_name</th>\n",
       "      <th>stringency_index</th>\n",
       "      <th>confirmed_cases</th>\n",
       "      <th>deaths</th>\n",
       "    </tr>\n",
       "  </thead>\n",
       "  <tbody>\n",
       "    <tr>\n",
       "      <th>0</th>\n",
       "      <td>Angola</td>\n",
       "      <td>81.61</td>\n",
       "      <td>50.0</td>\n",
       "      <td>2.0</td>\n",
       "    </tr>\n",
       "    <tr>\n",
       "      <th>1</th>\n",
       "      <td>Albania</td>\n",
       "      <td>88.36</td>\n",
       "      <td>949.0</td>\n",
       "      <td>31.0</td>\n",
       "    </tr>\n",
       "    <tr>\n",
       "      <th>2</th>\n",
       "      <td>United Arab Emirates</td>\n",
       "      <td>77.78</td>\n",
       "      <td>25063.0</td>\n",
       "      <td>227.0</td>\n",
       "    </tr>\n",
       "    <tr>\n",
       "      <th>3</th>\n",
       "      <td>Argentina</td>\n",
       "      <td>91.54</td>\n",
       "      <td>8796.0</td>\n",
       "      <td>393.0</td>\n",
       "    </tr>\n",
       "    <tr>\n",
       "      <th>4</th>\n",
       "      <td>Burundi</td>\n",
       "      <td>22.22</td>\n",
       "      <td>42.0</td>\n",
       "      <td>1.0</td>\n",
       "    </tr>\n",
       "  </tbody>\n",
       "</table>\n",
       "</div>"
      ],
      "text/plain": [
       "           country_name  stringency_index  confirmed_cases  deaths\n",
       "0                Angola             81.61             50.0     2.0\n",
       "1               Albania             88.36            949.0    31.0\n",
       "2  United Arab Emirates             77.78          25063.0   227.0\n",
       "3             Argentina             91.54           8796.0   393.0\n",
       "4               Burundi             22.22             42.0     1.0"
      ]
     },
     "execution_count": 6,
     "metadata": {},
     "output_type": "execute_result"
    }
   ],
   "source": [
    "str_covid.head()"
   ]
  },
  {
   "cell_type": "code",
   "execution_count": 7,
   "metadata": {},
   "outputs": [
    {
     "name": "stdout",
     "output_type": "stream",
     "text": [
      "<class 'pandas.core.frame.DataFrame'>\n",
      "RangeIndex: 166 entries, 0 to 165\n",
      "Data columns (total 4 columns):\n",
      " #   Column            Non-Null Count  Dtype  \n",
      "---  ------            --------------  -----  \n",
      " 0   country_name      166 non-null    object \n",
      " 1   stringency_index  165 non-null    float64\n",
      " 2   confirmed_cases   165 non-null    float64\n",
      " 3   deaths            165 non-null    float64\n",
      "dtypes: float64(3), object(1)\n",
      "memory usage: 5.3+ KB\n"
     ]
    }
   ],
   "source": [
    "# inspect dtypes\n",
    "str_covid.info()"
   ]
  },
  {
   "cell_type": "code",
   "execution_count": 8,
   "metadata": {},
   "outputs": [],
   "source": [
    "#Find rows with Nan\n",
    "is_NaN = str_covid.isnull()\n",
    "row_has_NaN = is_NaN.any(axis=1)\n",
    "rows_with_NaN = str_covid[row_has_NaN]"
   ]
  },
  {
   "cell_type": "code",
   "execution_count": 9,
   "metadata": {},
   "outputs": [
    {
     "name": "stdout",
     "output_type": "stream",
     "text": [
      "        country_name  stringency_index  confirmed_cases  deaths\n",
      "48         Lithuania               NaN           1562.0    60.0\n",
      "113  Solomon Islands             50.41              NaN     NaN\n"
     ]
    }
   ],
   "source": [
    "# It is better to fill nan with zero in case of Solomon Islands, because there are no confirmed cases there. \n",
    "#And we should drop Lithuania,because we don't have  stringency_index for this country,aand it is certanly not zero\n",
    "print(rows_with_NaN)"
   ]
  },
  {
   "cell_type": "code",
   "execution_count": 10,
   "metadata": {},
   "outputs": [],
   "source": [
    "#fill nan with zero\n",
    "str_covid=str_covid.fillna(0)"
   ]
  },
  {
   "cell_type": "code",
   "execution_count": 11,
   "metadata": {},
   "outputs": [],
   "source": [
    "#drop Lithuania\n",
    "str_covid=str_covid.drop(54)"
   ]
  },
  {
   "cell_type": "code",
   "execution_count": 12,
   "metadata": {},
   "outputs": [
    {
     "name": "stdout",
     "output_type": "stream",
     "text": [
      "<class 'pandas.core.frame.DataFrame'>\n",
      "Int64Index: 165 entries, 0 to 165\n",
      "Data columns (total 4 columns):\n",
      " #   Column            Non-Null Count  Dtype  \n",
      "---  ------            --------------  -----  \n",
      " 0   country_name      165 non-null    object \n",
      " 1   stringency_index  165 non-null    float64\n",
      " 2   confirmed_cases   165 non-null    float64\n",
      " 3   deaths            165 non-null    float64\n",
      "dtypes: float64(3), object(1)\n",
      "memory usage: 6.4+ KB\n"
     ]
    }
   ],
   "source": [
    "str_covid.info()"
   ]
  },
  {
   "cell_type": "code",
   "execution_count": 13,
   "metadata": {},
   "outputs": [
    {
     "data": {
      "text/plain": [
       "<matplotlib.axes._subplots.AxesSubplot at 0x1ddeb085d08>"
      ]
     },
     "execution_count": 13,
     "metadata": {},
     "output_type": "execute_result"
    },
    {
     "data": {
      "image/png": "[encoded data removed]",
      "text/plain": [
       "<Figure size 432x288 with 1 Axes>"
      ]
     },
     "metadata": {
      "needs_background": "light"
     },
     "output_type": "display_data"
    }
   ],
   "source": [
    "str_covid.plot.scatter(x='stringency_index', y='confirmed_cases')"
   ]
  },
  {
   "cell_type": "code",
   "execution_count": 14,
   "metadata": {},
   "outputs": [
    {
     "data": {
      "text/plain": [
       "<seaborn.axisgrid.FacetGrid at 0x1ddeb486f88>"
      ]
     },
     "execution_count": 14,
     "metadata": {},
     "output_type": "execute_result"
    },
    {
     "data": {
      "image/png": "[encoded data removed]",
      "text/plain": [
       "<Figure size 360x360 with 1 Axes>"
      ]
     },
     "metadata": {
      "needs_background": "light"
     },
     "output_type": "display_data"
    }
   ],
   "source": [
    "# Here we cannot see clear correlation between stringency index and confirmed cases\n",
    "ax=sns.lmplot(x='stringency_index', y='confirmed_cases',data=str_covid)\n",
    "ax.set_xlabels('stringency_index')\n",
    "ax.set_ylabels('confirmed_cases')"
   ]
  },
  {
   "cell_type": "code",
   "execution_count": 15,
   "metadata": {},
   "outputs": [
    {
     "data": {
      "text/html": [
       "<div>\n",
       "<style scoped>\n",
       "    .dataframe tbody tr th:only-of-type {\n",
       "        vertical-align: middle;\n",
       "    }\n",
       "\n",
       "    .dataframe tbody tr th {\n",
       "        vertical-align: top;\n",
       "    }\n",
       "\n",
       "    .dataframe thead th {\n",
       "        text-align: right;\n",
       "    }\n",
       "</style>\n",
       "<table border=\"1\" class=\"dataframe\">\n",
       "  <thead>\n",
       "    <tr style=\"text-align: right;\">\n",
       "      <th></th>\n",
       "      <th>stringency_index</th>\n",
       "      <th>confirmed_cases</th>\n",
       "      <th>deaths</th>\n",
       "    </tr>\n",
       "  </thead>\n",
       "  <tbody>\n",
       "    <tr>\n",
       "      <th>stringency_index</th>\n",
       "      <td>1.000000</td>\n",
       "      <td>-0.013132</td>\n",
       "      <td>-0.010627</td>\n",
       "    </tr>\n",
       "    <tr>\n",
       "      <th>confirmed_cases</th>\n",
       "      <td>-0.013132</td>\n",
       "      <td>1.000000</td>\n",
       "      <td>0.930097</td>\n",
       "    </tr>\n",
       "    <tr>\n",
       "      <th>deaths</th>\n",
       "      <td>-0.010627</td>\n",
       "      <td>0.930097</td>\n",
       "      <td>1.000000</td>\n",
       "    </tr>\n",
       "  </tbody>\n",
       "</table>\n",
       "</div>"
      ],
      "text/plain": [
       "                  stringency_index  confirmed_cases    deaths\n",
       "stringency_index          1.000000        -0.013132 -0.010627\n",
       "confirmed_cases          -0.013132         1.000000  0.930097\n",
       "deaths                   -0.010627         0.930097  1.000000"
      ]
     },
     "execution_count": 15,
     "metadata": {},
     "output_type": "execute_result"
    }
   ],
   "source": [
    "str_covid.corr().head()"
   ]
  },
  {
   "cell_type": "code",
   "execution_count": 16,
   "metadata": {},
   "outputs": [
    {
     "data": {
      "image/png": "[encoded data removed]",
      "text/plain": [
       "<Figure size 432x288 with 2 Axes>"
      ]
     },
     "metadata": {
      "needs_background": "light"
     },
     "output_type": "display_data"
    }
   ],
   "source": [
    "#plot correl matrix. Also no correlation. \n",
    "corrMatrix = str_covid.corr()\n",
    "sns.heatmap(corrMatrix, annot=True)\n",
    "plt.show()"
   ]
  },
  {
   "cell_type": "markdown",
   "metadata": {},
   "source": [
    "Generally it dont mean anything because there are real ploblems in counting cases and deaths from covid in different countries. For example in Russia there is suspiciously low deaths rating,same situation in Belarus. I am doing this research mostly in educational purposes(train clustering and SQL)."
   ]
  },
  {
   "cell_type": "code",
   "execution_count": 17,
   "metadata": {},
   "outputs": [],
   "source": [
    "# Now we will use clustering to detrmine groups of countries based on covid situation\n",
    "from pycaret.clustering import *"
   ]
  },
  {
   "cell_type": "code",
   "execution_count": 18,
   "metadata": {},
   "outputs": [
    {
     "name": "stdout",
     "output_type": "stream",
     "text": [
      "\n",
      "Setup Succesfully Completed!\n"
     ]
    },
    {
     "data": {
      "text/html": [
       "<style  type=\"text/css\" >\n",
       "    #T_235363c6_9cd1_11ea_827b_b42e996eeb4drow10_col1 {\n",
       "            background-color:  lightgreen;\n",
       "        }</style><table id=\"T_235363c6_9cd1_11ea_827b_b42e996eeb4d\" ><thead>    <tr>        <th class=\"blank level0\" ></th>        <th class=\"col_heading level0 col0\" >Description</th>        <th class=\"col_heading level0 col1\" >Value</th>    </tr></thead><tbody>\n",
       "                <tr>\n",
       "                        <th id=\"T_235363c6_9cd1_11ea_827b_b42e996eeb4dlevel0_row0\" class=\"row_heading level0 row0\" >0</th>\n",
       "                        <td id=\"T_235363c6_9cd1_11ea_827b_b42e996eeb4drow0_col0\" class=\"data row0 col0\" >session_id </td>\n",
       "                        <td id=\"T_235363c6_9cd1_11ea_827b_b42e996eeb4drow0_col1\" class=\"data row0 col1\" >2390</td>\n",
       "            </tr>\n",
       "            <tr>\n",
       "                        <th id=\"T_235363c6_9cd1_11ea_827b_b42e996eeb4dlevel0_row1\" class=\"row_heading level0 row1\" >1</th>\n",
       "                        <td id=\"T_235363c6_9cd1_11ea_827b_b42e996eeb4drow1_col0\" class=\"data row1 col0\" >Original Data </td>\n",
       "                        <td id=\"T_235363c6_9cd1_11ea_827b_b42e996eeb4drow1_col1\" class=\"data row1 col1\" >(165, 4)</td>\n",
       "            </tr>\n",
       "            <tr>\n",
       "                        <th id=\"T_235363c6_9cd1_11ea_827b_b42e996eeb4dlevel0_row2\" class=\"row_heading level0 row2\" >2</th>\n",
       "                        <td id=\"T_235363c6_9cd1_11ea_827b_b42e996eeb4drow2_col0\" class=\"data row2 col0\" >Missing Values </td>\n",
       "                        <td id=\"T_235363c6_9cd1_11ea_827b_b42e996eeb4drow2_col1\" class=\"data row2 col1\" >False</td>\n",
       "            </tr>\n",
       "            <tr>\n",
       "                        <th id=\"T_235363c6_9cd1_11ea_827b_b42e996eeb4dlevel0_row3\" class=\"row_heading level0 row3\" >3</th>\n",
       "                        <td id=\"T_235363c6_9cd1_11ea_827b_b42e996eeb4drow3_col0\" class=\"data row3 col0\" >Numeric Features </td>\n",
       "                        <td id=\"T_235363c6_9cd1_11ea_827b_b42e996eeb4drow3_col1\" class=\"data row3 col1\" >3</td>\n",
       "            </tr>\n",
       "            <tr>\n",
       "                        <th id=\"T_235363c6_9cd1_11ea_827b_b42e996eeb4dlevel0_row4\" class=\"row_heading level0 row4\" >4</th>\n",
       "                        <td id=\"T_235363c6_9cd1_11ea_827b_b42e996eeb4drow4_col0\" class=\"data row4 col0\" >Categorical Features </td>\n",
       "                        <td id=\"T_235363c6_9cd1_11ea_827b_b42e996eeb4drow4_col1\" class=\"data row4 col1\" >1</td>\n",
       "            </tr>\n",
       "            <tr>\n",
       "                        <th id=\"T_235363c6_9cd1_11ea_827b_b42e996eeb4dlevel0_row5\" class=\"row_heading level0 row5\" >5</th>\n",
       "                        <td id=\"T_235363c6_9cd1_11ea_827b_b42e996eeb4drow5_col0\" class=\"data row5 col0\" >Ordinal Features </td>\n",
       "                        <td id=\"T_235363c6_9cd1_11ea_827b_b42e996eeb4drow5_col1\" class=\"data row5 col1\" >False</td>\n",
       "            </tr>\n",
       "            <tr>\n",
       "                        <th id=\"T_235363c6_9cd1_11ea_827b_b42e996eeb4dlevel0_row6\" class=\"row_heading level0 row6\" >6</th>\n",
       "                        <td id=\"T_235363c6_9cd1_11ea_827b_b42e996eeb4drow6_col0\" class=\"data row6 col0\" >High Cardinality Features </td>\n",
       "                        <td id=\"T_235363c6_9cd1_11ea_827b_b42e996eeb4drow6_col1\" class=\"data row6 col1\" >False</td>\n",
       "            </tr>\n",
       "            <tr>\n",
       "                        <th id=\"T_235363c6_9cd1_11ea_827b_b42e996eeb4dlevel0_row7\" class=\"row_heading level0 row7\" >7</th>\n",
       "                        <td id=\"T_235363c6_9cd1_11ea_827b_b42e996eeb4drow7_col0\" class=\"data row7 col0\" >Transformed Data </td>\n",
       "                        <td id=\"T_235363c6_9cd1_11ea_827b_b42e996eeb4drow7_col1\" class=\"data row7 col1\" >(165, 168)</td>\n",
       "            </tr>\n",
       "            <tr>\n",
       "                        <th id=\"T_235363c6_9cd1_11ea_827b_b42e996eeb4dlevel0_row8\" class=\"row_heading level0 row8\" >8</th>\n",
       "                        <td id=\"T_235363c6_9cd1_11ea_827b_b42e996eeb4drow8_col0\" class=\"data row8 col0\" >Numeric Imputer </td>\n",
       "                        <td id=\"T_235363c6_9cd1_11ea_827b_b42e996eeb4drow8_col1\" class=\"data row8 col1\" >mean</td>\n",
       "            </tr>\n",
       "            <tr>\n",
       "                        <th id=\"T_235363c6_9cd1_11ea_827b_b42e996eeb4dlevel0_row9\" class=\"row_heading level0 row9\" >9</th>\n",
       "                        <td id=\"T_235363c6_9cd1_11ea_827b_b42e996eeb4drow9_col0\" class=\"data row9 col0\" >Categorical Imputer </td>\n",
       "                        <td id=\"T_235363c6_9cd1_11ea_827b_b42e996eeb4drow9_col1\" class=\"data row9 col1\" >constant</td>\n",
       "            </tr>\n",
       "            <tr>\n",
       "                        <th id=\"T_235363c6_9cd1_11ea_827b_b42e996eeb4dlevel0_row10\" class=\"row_heading level0 row10\" >10</th>\n",
       "                        <td id=\"T_235363c6_9cd1_11ea_827b_b42e996eeb4drow10_col0\" class=\"data row10 col0\" >Normalize </td>\n",
       "                        <td id=\"T_235363c6_9cd1_11ea_827b_b42e996eeb4drow10_col1\" class=\"data row10 col1\" >True</td>\n",
       "            </tr>\n",
       "            <tr>\n",
       "                        <th id=\"T_235363c6_9cd1_11ea_827b_b42e996eeb4dlevel0_row11\" class=\"row_heading level0 row11\" >11</th>\n",
       "                        <td id=\"T_235363c6_9cd1_11ea_827b_b42e996eeb4drow11_col0\" class=\"data row11 col0\" >Normalize Method </td>\n",
       "                        <td id=\"T_235363c6_9cd1_11ea_827b_b42e996eeb4drow11_col1\" class=\"data row11 col1\" >zscore</td>\n",
       "            </tr>\n",
       "            <tr>\n",
       "                        <th id=\"T_235363c6_9cd1_11ea_827b_b42e996eeb4dlevel0_row12\" class=\"row_heading level0 row12\" >12</th>\n",
       "                        <td id=\"T_235363c6_9cd1_11ea_827b_b42e996eeb4drow12_col0\" class=\"data row12 col0\" >Transformation </td>\n",
       "                        <td id=\"T_235363c6_9cd1_11ea_827b_b42e996eeb4drow12_col1\" class=\"data row12 col1\" >False</td>\n",
       "            </tr>\n",
       "            <tr>\n",
       "                        <th id=\"T_235363c6_9cd1_11ea_827b_b42e996eeb4dlevel0_row13\" class=\"row_heading level0 row13\" >13</th>\n",
       "                        <td id=\"T_235363c6_9cd1_11ea_827b_b42e996eeb4drow13_col0\" class=\"data row13 col0\" >Transformation Method </td>\n",
       "                        <td id=\"T_235363c6_9cd1_11ea_827b_b42e996eeb4drow13_col1\" class=\"data row13 col1\" >None</td>\n",
       "            </tr>\n",
       "            <tr>\n",
       "                        <th id=\"T_235363c6_9cd1_11ea_827b_b42e996eeb4dlevel0_row14\" class=\"row_heading level0 row14\" >14</th>\n",
       "                        <td id=\"T_235363c6_9cd1_11ea_827b_b42e996eeb4drow14_col0\" class=\"data row14 col0\" >PCA </td>\n",
       "                        <td id=\"T_235363c6_9cd1_11ea_827b_b42e996eeb4drow14_col1\" class=\"data row14 col1\" >False</td>\n",
       "            </tr>\n",
       "            <tr>\n",
       "                        <th id=\"T_235363c6_9cd1_11ea_827b_b42e996eeb4dlevel0_row15\" class=\"row_heading level0 row15\" >15</th>\n",
       "                        <td id=\"T_235363c6_9cd1_11ea_827b_b42e996eeb4drow15_col0\" class=\"data row15 col0\" >PCA Method </td>\n",
       "                        <td id=\"T_235363c6_9cd1_11ea_827b_b42e996eeb4drow15_col1\" class=\"data row15 col1\" >None</td>\n",
       "            </tr>\n",
       "            <tr>\n",
       "                        <th id=\"T_235363c6_9cd1_11ea_827b_b42e996eeb4dlevel0_row16\" class=\"row_heading level0 row16\" >16</th>\n",
       "                        <td id=\"T_235363c6_9cd1_11ea_827b_b42e996eeb4drow16_col0\" class=\"data row16 col0\" >PCA components </td>\n",
       "                        <td id=\"T_235363c6_9cd1_11ea_827b_b42e996eeb4drow16_col1\" class=\"data row16 col1\" >None</td>\n",
       "            </tr>\n",
       "            <tr>\n",
       "                        <th id=\"T_235363c6_9cd1_11ea_827b_b42e996eeb4dlevel0_row17\" class=\"row_heading level0 row17\" >17</th>\n",
       "                        <td id=\"T_235363c6_9cd1_11ea_827b_b42e996eeb4drow17_col0\" class=\"data row17 col0\" >Ignore Low Variance </td>\n",
       "                        <td id=\"T_235363c6_9cd1_11ea_827b_b42e996eeb4drow17_col1\" class=\"data row17 col1\" >False</td>\n",
       "            </tr>\n",
       "            <tr>\n",
       "                        <th id=\"T_235363c6_9cd1_11ea_827b_b42e996eeb4dlevel0_row18\" class=\"row_heading level0 row18\" >18</th>\n",
       "                        <td id=\"T_235363c6_9cd1_11ea_827b_b42e996eeb4drow18_col0\" class=\"data row18 col0\" >Combine Rare Levels </td>\n",
       "                        <td id=\"T_235363c6_9cd1_11ea_827b_b42e996eeb4drow18_col1\" class=\"data row18 col1\" >False</td>\n",
       "            </tr>\n",
       "            <tr>\n",
       "                        <th id=\"T_235363c6_9cd1_11ea_827b_b42e996eeb4dlevel0_row19\" class=\"row_heading level0 row19\" >19</th>\n",
       "                        <td id=\"T_235363c6_9cd1_11ea_827b_b42e996eeb4drow19_col0\" class=\"data row19 col0\" >Rare Level Threshold </td>\n",
       "                        <td id=\"T_235363c6_9cd1_11ea_827b_b42e996eeb4drow19_col1\" class=\"data row19 col1\" >None</td>\n",
       "            </tr>\n",
       "            <tr>\n",
       "                        <th id=\"T_235363c6_9cd1_11ea_827b_b42e996eeb4dlevel0_row20\" class=\"row_heading level0 row20\" >20</th>\n",
       "                        <td id=\"T_235363c6_9cd1_11ea_827b_b42e996eeb4drow20_col0\" class=\"data row20 col0\" >Numeric Binning </td>\n",
       "                        <td id=\"T_235363c6_9cd1_11ea_827b_b42e996eeb4drow20_col1\" class=\"data row20 col1\" >False</td>\n",
       "            </tr>\n",
       "            <tr>\n",
       "                        <th id=\"T_235363c6_9cd1_11ea_827b_b42e996eeb4dlevel0_row21\" class=\"row_heading level0 row21\" >21</th>\n",
       "                        <td id=\"T_235363c6_9cd1_11ea_827b_b42e996eeb4drow21_col0\" class=\"data row21 col0\" >Remove Multicollinearity </td>\n",
       "                        <td id=\"T_235363c6_9cd1_11ea_827b_b42e996eeb4drow21_col1\" class=\"data row21 col1\" >False</td>\n",
       "            </tr>\n",
       "            <tr>\n",
       "                        <th id=\"T_235363c6_9cd1_11ea_827b_b42e996eeb4dlevel0_row22\" class=\"row_heading level0 row22\" >22</th>\n",
       "                        <td id=\"T_235363c6_9cd1_11ea_827b_b42e996eeb4drow22_col0\" class=\"data row22 col0\" >Multicollinearity Threshold </td>\n",
       "                        <td id=\"T_235363c6_9cd1_11ea_827b_b42e996eeb4drow22_col1\" class=\"data row22 col1\" >None</td>\n",
       "            </tr>\n",
       "            <tr>\n",
       "                        <th id=\"T_235363c6_9cd1_11ea_827b_b42e996eeb4dlevel0_row23\" class=\"row_heading level0 row23\" >23</th>\n",
       "                        <td id=\"T_235363c6_9cd1_11ea_827b_b42e996eeb4drow23_col0\" class=\"data row23 col0\" >Group Features </td>\n",
       "                        <td id=\"T_235363c6_9cd1_11ea_827b_b42e996eeb4drow23_col1\" class=\"data row23 col1\" >False</td>\n",
       "            </tr>\n",
       "    </tbody></table>"
      ],
      "text/plain": [
       "<pandas.io.formats.style.Styler at 0x1ddee448d88>"
      ]
     },
     "metadata": {},
     "output_type": "display_data"
    }
   ],
   "source": [
    "clust = setup(str_covid, normalize = True, \n",
    "                                     )"
   ]
  },
  {
   "cell_type": "code",
   "execution_count": 19,
   "metadata": {},
   "outputs": [],
   "source": [
    "# We will use k means clustering\n",
    "kmeans = create_model('kmeans')"
   ]
  },
  {
   "cell_type": "code",
   "execution_count": 20,
   "metadata": {},
   "outputs": [
    {
     "name": "stdout",
     "output_type": "stream",
     "text": [
      "KMeans(algorithm='auto', copy_x=True, init='k-means++', max_iter=300,\n",
      "       n_clusters=4, n_init=10, n_jobs=None, precompute_distances='auto',\n",
      "       random_state=2390, tol=0.0001, verbose=0)\n"
     ]
    }
   ],
   "source": [
    "print(kmeans)"
   ]
  },
  {
   "cell_type": "code",
   "execution_count": 21,
   "metadata": {},
   "outputs": [
    {
     "data": {
      "text/html": [
       "<div>\n",
       "<style scoped>\n",
       "    .dataframe tbody tr th:only-of-type {\n",
       "        vertical-align: middle;\n",
       "    }\n",
       "\n",
       "    .dataframe tbody tr th {\n",
       "        vertical-align: top;\n",
       "    }\n",
       "\n",
       "    .dataframe thead th {\n",
       "        text-align: right;\n",
       "    }\n",
       "</style>\n",
       "<table border=\"1\" class=\"dataframe\">\n",
       "  <thead>\n",
       "    <tr style=\"text-align: right;\">\n",
       "      <th></th>\n",
       "      <th>country_name</th>\n",
       "      <th>stringency_index</th>\n",
       "      <th>confirmed_cases</th>\n",
       "      <th>deaths</th>\n",
       "      <th>Cluster</th>\n",
       "    </tr>\n",
       "  </thead>\n",
       "  <tbody>\n",
       "    <tr>\n",
       "      <th>0</th>\n",
       "      <td>Angola</td>\n",
       "      <td>81.61</td>\n",
       "      <td>50.0</td>\n",
       "      <td>2.0</td>\n",
       "      <td>Cluster 0</td>\n",
       "    </tr>\n",
       "    <tr>\n",
       "      <th>1</th>\n",
       "      <td>Albania</td>\n",
       "      <td>88.36</td>\n",
       "      <td>949.0</td>\n",
       "      <td>31.0</td>\n",
       "      <td>Cluster 0</td>\n",
       "    </tr>\n",
       "    <tr>\n",
       "      <th>2</th>\n",
       "      <td>United Arab Emirates</td>\n",
       "      <td>77.78</td>\n",
       "      <td>25063.0</td>\n",
       "      <td>227.0</td>\n",
       "      <td>Cluster 0</td>\n",
       "    </tr>\n",
       "    <tr>\n",
       "      <th>3</th>\n",
       "      <td>Argentina</td>\n",
       "      <td>91.54</td>\n",
       "      <td>8796.0</td>\n",
       "      <td>393.0</td>\n",
       "      <td>Cluster 0</td>\n",
       "    </tr>\n",
       "    <tr>\n",
       "      <th>4</th>\n",
       "      <td>Burundi</td>\n",
       "      <td>22.22</td>\n",
       "      <td>42.0</td>\n",
       "      <td>1.0</td>\n",
       "      <td>Cluster 3</td>\n",
       "    </tr>\n",
       "  </tbody>\n",
       "</table>\n",
       "</div>"
      ],
      "text/plain": [
       "           country_name  stringency_index  confirmed_cases  deaths    Cluster\n",
       "0                Angola             81.61             50.0     2.0  Cluster 0\n",
       "1               Albania             88.36            949.0    31.0  Cluster 0\n",
       "2  United Arab Emirates             77.78          25063.0   227.0  Cluster 0\n",
       "3             Argentina             91.54           8796.0   393.0  Cluster 0\n",
       "4               Burundi             22.22             42.0     1.0  Cluster 3"
      ]
     },
     "execution_count": 21,
     "metadata": {},
     "output_type": "execute_result"
    }
   ],
   "source": [
    "kmean_results = assign_model(kmeans)\n",
    "kmean_results.head()"
   ]
  },
  {
   "cell_type": "code",
   "execution_count": 22,
   "metadata": {},
   "outputs": [],
   "source": [
    "cluster3=kmean_results[kmean_results['Cluster']=='Cluster 3']"
   ]
  },
  {
   "cell_type": "code",
   "execution_count": 23,
   "metadata": {},
   "outputs": [
    {
     "data": {
      "text/html": [
       "<div>\n",
       "<style scoped>\n",
       "    .dataframe tbody tr th:only-of-type {\n",
       "        vertical-align: middle;\n",
       "    }\n",
       "\n",
       "    .dataframe tbody tr th {\n",
       "        vertical-align: top;\n",
       "    }\n",
       "\n",
       "    .dataframe thead th {\n",
       "        text-align: right;\n",
       "    }\n",
       "</style>\n",
       "<table border=\"1\" class=\"dataframe\">\n",
       "  <thead>\n",
       "    <tr style=\"text-align: right;\">\n",
       "      <th></th>\n",
       "      <th>country_name</th>\n",
       "      <th>stringency_index</th>\n",
       "      <th>confirmed_cases</th>\n",
       "      <th>deaths</th>\n",
       "      <th>Cluster</th>\n",
       "    </tr>\n",
       "  </thead>\n",
       "  <tbody>\n",
       "    <tr>\n",
       "      <th>4</th>\n",
       "      <td>Burundi</td>\n",
       "      <td>22.22</td>\n",
       "      <td>42.0</td>\n",
       "      <td>1.0</td>\n",
       "      <td>Cluster 3</td>\n",
       "    </tr>\n",
       "    <tr>\n",
       "      <th>6</th>\n",
       "      <td>Burkina Faso</td>\n",
       "      <td>62.04</td>\n",
       "      <td>806.0</td>\n",
       "      <td>52.0</td>\n",
       "      <td>Cluster 3</td>\n",
       "    </tr>\n",
       "    <tr>\n",
       "      <th>9</th>\n",
       "      <td>Belarus</td>\n",
       "      <td>15.47</td>\n",
       "      <td>31508.0</td>\n",
       "      <td>175.0</td>\n",
       "      <td>Cluster 3</td>\n",
       "    </tr>\n",
       "    <tr>\n",
       "      <th>22</th>\n",
       "      <td>Czech Republic</td>\n",
       "      <td>59.65</td>\n",
       "      <td>8647.0</td>\n",
       "      <td>302.0</td>\n",
       "      <td>Cluster 3</td>\n",
       "    </tr>\n",
       "    <tr>\n",
       "      <th>27</th>\n",
       "      <td>Estonia</td>\n",
       "      <td>41.54</td>\n",
       "      <td>1791.0</td>\n",
       "      <td>64.0</td>\n",
       "      <td>Cluster 3</td>\n",
       "    </tr>\n",
       "  </tbody>\n",
       "</table>\n",
       "</div>"
      ],
      "text/plain": [
       "      country_name  stringency_index  confirmed_cases  deaths    Cluster\n",
       "4          Burundi             22.22             42.0     1.0  Cluster 3\n",
       "6     Burkina Faso             62.04            806.0    52.0  Cluster 3\n",
       "9          Belarus             15.47          31508.0   175.0  Cluster 3\n",
       "22  Czech Republic             59.65           8647.0   302.0  Cluster 3\n",
       "27         Estonia             41.54           1791.0    64.0  Cluster 3"
      ]
     },
     "execution_count": 23,
     "metadata": {},
     "output_type": "execute_result"
    }
   ],
   "source": [
    "cluster3.head()"
   ]
  },
  {
   "cell_type": "code",
   "execution_count": 24,
   "metadata": {},
   "outputs": [
    {
     "data": {
      "text/html": [
       "<div>\n",
       "<style scoped>\n",
       "    .dataframe tbody tr th:only-of-type {\n",
       "        vertical-align: middle;\n",
       "    }\n",
       "\n",
       "    .dataframe tbody tr th {\n",
       "        vertical-align: top;\n",
       "    }\n",
       "\n",
       "    .dataframe thead th {\n",
       "        text-align: right;\n",
       "    }\n",
       "</style>\n",
       "<table border=\"1\" class=\"dataframe\">\n",
       "  <thead>\n",
       "    <tr style=\"text-align: right;\">\n",
       "      <th></th>\n",
       "      <th>country_name</th>\n",
       "      <th>stringency_index</th>\n",
       "      <th>confirmed_cases</th>\n",
       "      <th>deaths</th>\n",
       "      <th>Cluster</th>\n",
       "    </tr>\n",
       "  </thead>\n",
       "  <tbody>\n",
       "    <tr>\n",
       "      <th>164</th>\n",
       "      <td>United States</td>\n",
       "      <td>68.41</td>\n",
       "      <td>1528568.0</td>\n",
       "      <td>91921.0</td>\n",
       "      <td>Cluster 1</td>\n",
       "    </tr>\n",
       "  </tbody>\n",
       "</table>\n",
       "</div>"
      ],
      "text/plain": [
       "      country_name  stringency_index  confirmed_cases   deaths    Cluster\n",
       "164  United States             68.41        1528568.0  91921.0  Cluster 1"
      ]
     },
     "execution_count": 24,
     "metadata": {},
     "output_type": "execute_result"
    }
   ],
   "source": [
    "cluster1=kmean_results[kmean_results['Cluster']=='Cluster 1']\n",
    "cluster1.head()"
   ]
  },
  {
   "cell_type": "code",
   "execution_count": 25,
   "metadata": {},
   "outputs": [
    {
     "data": {
      "text/html": [
       "        <script type=\"text/javascript\">\n",
       "        window.PlotlyConfig = {MathJaxConfig: 'local'};\n",
       "        if (window.MathJax) {MathJax.Hub.Config({SVG: {font: \"STIX-Web\"}});}\n",
       "        if (typeof require !== 'undefined') {\n",
       "        require.undef(\"plotly\");\n",
       "        requirejs.config({\n",
       "            paths: {\n",
       "                'plotly': ['https://cdn.plot.ly/plotly-latest.min']\n",
       "            }\n",
       "        });\n",
       "        require(['plotly'], function(Plotly) {\n",
       "            window._Plotly = Plotly;\n",
       "        });\n",
       "        }\n",
       "        </script>\n",
       "        "
      ]
     },
     "metadata": {},
     "output_type": "display_data"
    },
    {
     "data": {
      "application/vnd.plotly.v1+json": {
       "config": {
        "plotlyServerURL": "https://plot.ly"
       },
       "data": [
        {
         "customdata": [
          [
           "Angola"
          ],
          [
           "Albania"
          ],
          [
           "United Arab Emirates"
          ],
          [
           "Argentina"
          ],
          [
           "Burundi"
          ],
          [
           "Belgium"
          ],
          [
           "Burkina Faso"
          ],
          [
           "Bangladesh"
          ],
          [
           "Bosnia and Herzegovina"
          ],
          [
           "Belarus"
          ],
          [
           "Belize"
          ],
          [
           "Bermuda"
          ],
          [
           "Barbados"
          ],
          [
           "Botswana"
          ],
          [
           "Canada"
          ],
          [
           "Switzerland"
          ],
          [
           "Chile"
          ],
          [
           "China"
          ],
          [
           "Cote d'Ivoire"
          ],
          [
           "Cameroon"
          ],
          [
           "Democratic Republic of Congo"
          ],
          [
           "Cyprus"
          ],
          [
           "Czech Republic"
          ],
          [
           "Germany"
          ],
          [
           "Dominican Republic"
          ],
          [
           "Algeria"
          ],
          [
           "Egypt"
          ],
          [
           "Estonia"
          ],
          [
           "Finland"
          ],
          [
           "France"
          ],
          [
           "Gabon"
          ],
          [
           "Georgia"
          ],
          [
           "Ghana"
          ],
          [
           "Gambia"
          ],
          [
           "Greece"
          ],
          [
           "Greenland"
          ],
          [
           "Guatemala"
          ],
          [
           "Honduras"
          ],
          [
           "Hungary"
          ],
          [
           "Indonesia"
          ],
          [
           "Ireland"
          ],
          [
           "Iran"
          ],
          [
           "Israel"
          ],
          [
           "Italy"
          ],
          [
           "Jamaica"
          ],
          [
           "Kyrgyz Republic"
          ],
          [
           "Kuwait"
          ],
          [
           "Lesotho"
          ],
          [
           "Lithuania"
          ],
          [
           "Luxembourg"
          ],
          [
           "Moldova"
          ],
          [
           "Madagascar"
          ],
          [
           "Mali"
          ],
          [
           "Mozambique"
          ],
          [
           null
          ],
          [
           "Malawi"
          ],
          [
           "Namibia"
          ],
          [
           "Niger"
          ],
          [
           "Nigeria"
          ],
          [
           "Nicaragua"
          ],
          [
           "Netherlands"
          ],
          [
           "Nepal"
          ],
          [
           "Peru"
          ],
          [
           "Philippines"
          ],
          [
           "Papua New Guinea"
          ],
          [
           "Qatar"
          ],
          [
           "Romania"
          ],
          [
           "Saudi Arabia"
          ],
          [
           "Senegal"
          ],
          [
           "Singapore"
          ],
          [
           "El Salvador"
          ],
          [
           "Somalia"
          ],
          [
           "Serbia"
          ],
          [
           "South Sudan"
          ],
          [
           "Slovak Republic"
          ],
          [
           "Sweden"
          ],
          [
           "Eswatini"
          ],
          [
           "Chad"
          ],
          [
           "Thailand"
          ],
          [
           "Trinidad and Tobago"
          ],
          [
           "Tunisia"
          ],
          [
           "Turkey"
          ],
          [
           "Tanzania"
          ],
          [
           "Uganda"
          ],
          [
           "Ukraine"
          ],
          [
           "Uruguay"
          ],
          [
           "Uzbekistan"
          ],
          [
           "Venezuela"
          ],
          [
           "Vietnam"
          ],
          [
           "Yemen"
          ],
          [
           "South Africa"
          ],
          [
           "Zambia"
          ],
          [
           "Zimbabwe"
          ],
          [
           "Taiwan"
          ],
          [
           "Cape Verde"
          ],
          [
           "Iraq"
          ],
          [
           "Jordan"
          ],
          [
           "New Zealand"
          ],
          [
           "Sierra Leone"
          ],
          [
           "Aruba"
          ],
          [
           "Bhutan"
          ],
          [
           "Japan"
          ],
          [
           "Andorra"
          ],
          [
           "Brunei"
          ],
          [
           "Costa Rica"
          ],
          [
           "Denmark"
          ],
          [
           "South Korea"
          ],
          [
           "Suriname"
          ],
          [
           "Brazil"
          ],
          [
           "Colombia"
          ],
          [
           "Guyana"
          ],
          [
           "Puerto Rico"
          ],
          [
           "Russia"
          ],
          [
           "Solomon Islands"
          ],
          [
           "Afghanistan"
          ],
          [
           "Australia"
          ],
          [
           "Austria"
          ],
          [
           "Azerbaijan"
          ],
          [
           "Benin"
          ],
          [
           "Bulgaria"
          ],
          [
           "Bahrain"
          ]
         ],
         "hoverlabel": {
          "namelength": 0
         },
         "hovertemplate": "Cluster=Cluster 0<br>PCA1=%{x}<br>PCA2=%{y}<br>Feature=%{customdata[0]}",
         "legendgroup": "Cluster=Cluster 0",
         "marker": {
          "color": "#636efa",
          "opacity": 0.5,
          "symbol": "circle"
         },
         "mode": "markers",
         "name": "Cluster=Cluster 0",
         "showlegend": true,
         "textposition": "top center",
         "type": "scatter",
         "x": [
          -0.3300303290885044,
          -0.2927971551137517,
          -0.2938572406160257,
          -0.31219999447305646,
          -0.26766224115231746,
          -0.268134656354201,
          1.5776771018215283,
          -0.32047609344179717,
          -0.3296191704944133,
          -0.19541441131151513,
          -0.3258442690888675,
          -0.21800917520354574,
          -0.31814230564971246,
          -0.3270489560453245,
          -0.32084327558639847,
          -0.31701165486657856,
          -0.3024820698908257,
          -0.32916418398169534,
          -0.31723088832861096,
          -0.33179920985202777,
          -0.3276321237118142,
          -0.3079905205533619,
          -0.34092884842303245,
          -0.3271730938022936,
          -0.3058534281457947,
          0.8561667361020195,
          -0.314300044026994,
          -0.3169837568441838,
          -0.3301173389856442,
          -0.3162567748386822,
          -0.21654793714625833,
          -0.3396670367684865,
          -0.1912595155152926,
          -0.3414816569547344,
          -0.3165624289970034,
          -0.331899947201019,
          -0.32872563474430705,
          -0.3146898848644429,
          -0.3133050493804536,
          -0.31226104116848463,
          -0.32928964581302533,
          -0.34269835367359375,
          -0.3393690511583106,
          -0.06016747900473332,
          -0.15243423140133783,
          -0.2526915387183821,
          0.004606746007728435,
          -0.30033317688263483,
          -0.2749867277165805,
          -0.3309759820286213,
          -0.3160905439637014,
          -0.32654193381362967,
          0.4305818672593039,
          -0.3297234592644668,
          0.0869977973390205,
          -0.3226217844931442,
          -0.31732210555677026,
          -0.31054018564922947,
          -0.2951655273457828,
          -0.3433021581552844,
          0.538034694213727,
          -0.3335903193788306,
          -0.3255536970800059,
          -0.32400184927641434,
          -0.34504979719129625,
          -0.3246893948110551,
          -0.2874382488030373,
          -0.2866550841291376,
          -0.337983088471121,
          -0.33734668781650484,
          -0.33172593601947903,
          -0.010647569973679051,
          0.532690249172671,
          -0.24445731456478284,
          -0.3217367893259988,
          -0.2458122045474645,
          -0.3195149955819356,
          -0.31944624777282454,
          -0.21665061185826215,
          -0.2856827593796642,
          -0.31430205901262936,
          -0.07440361984171719,
          -0.1172590409926635,
          -0.336536623818153,
          -0.17226111594454716,
          -0.3204101923177651,
          -0.3308278590557421,
          -0.32975123909439363,
          -0.2939501544519628,
          -0.33342257027120364,
          -0.2790081410827835,
          -0.3381174608183376,
          -0.3257702853277457,
          -0.25447513861759896,
          1.3185733825857404,
          -0.20884205124540847,
          -0.018981366064318522,
          0.6059074938973453,
          -0.30487583224983017,
          -0.32669533566015385,
          -0.3294077061554079,
          -0.16884991954899842,
          0.022734106621050704,
          -0.13833410667832652,
          -0.14053894039995737,
          -0.2594086691008659,
          -0.20313257315495564,
          0.44462230900921906,
          -0.34168777615410406,
          -0.2837147459596366,
          0.387216048208867,
          0.7300184358448514,
          -0.2742065253927467,
          -0.23736252494109158,
          -0.170976271786798,
          -0.3063308862414003,
          -0.28049567620371346,
          -0.3356314060390683,
          -0.3157219162231915,
          -0.32758349741849485,
          -0.31922216176762713
         ],
         "xaxis": "x",
         "y": [
          -0.41495955478328334,
          -0.7014709482400927,
          0.38340519437785636,
          -0.6717998249968475,
          0.44116532795479024,
          -0.12346062766646596,
          0.10183915281855566,
          -1.287276290310779,
          -0.45153807337592416,
          -0.9232038585452489,
          -0.16624439687701614,
          -0.07950712712450544,
          -0.04835244310834874,
          -0.2316062062955967,
          -0.1951475008380397,
          0.09070401626803512,
          -0.5694800139423309,
          -0.459300390426207,
          -0.26834312133477095,
          -0.5617625186084639,
          -0.6793120200040306,
          -0.3571543452855311,
          -1.0669389682065131,
          -0.7668615033601233,
          -1.2875330838629249,
          -0.36951965406163556,
          0.16379547263882127,
          -0.6135351667006097,
          -0.6715003389514167,
          0.2735414802808574,
          -0.8125059671464376,
          -0.9572500103366016,
          -0.9963895477682441,
          -1.1406222315679289,
          0.2297739922057769,
          -1.4339090507343017,
          -0.34959936302843747,
          0.4569170851049903,
          0.14936671393844891,
          -0.6795759311124295,
          -0.4443372273607892,
          -1.2868794222415163,
          -1.2137967102009009,
          -0.14821297178683626,
          -0.7771719508398705,
          -0.41629752957330896,
          -0.44339627202086107,
          -0.6138088620686839,
          -0.00531049626234968,
          -0.5905905627256164,
          0.3394744803823065,
          -0.2836999317271577,
          -0.6417959608086594,
          -0.378394521276903,
          -0.6575202011313442,
          -0.1147681970530704,
          0.24419083834326819,
          0.347140593652666,
          0.42000196573286114,
          -1.3239965401066738,
          -0.12306895818096314,
          -1.1113972803591172,
          -0.5541138852987824,
          -0.23221674687472776,
          -1.2580288409948392,
          -0.45161750290208447,
          -1.0678618809705387,
          -0.29155721914299493,
          -1.4337956879615439,
          -0.8763904086067733,
          -0.9208168818580853,
          -0.2662491481776005,
          0.5209979602273788,
          -0.4613986142148424,
          0.06917407802351155,
          -1.4353146526701603,
          -0.26220691440049715,
          -0.004558607324828827,
          -0.49001800782123683,
          0.34669611218309654,
          -0.32824157841013263,
          -0.7642191325756215,
          0.17408583917432358,
          -1.1113393339571975,
          -0.6153248440121627,
          -1.4341161034039656,
          -1.2870835920266408,
          -0.378394071925864,
          -0.012776794923864585,
          -0.5905481820899996,
          0.4197608783337058,
          -1.1113122043368981,
          -0.6715712780204819,
          0.46305229867945413,
          0.1193527065439071,
          -0.812738799701803,
          0.13691272705084218,
          0.33656956711191527,
          0.2140619468363005,
          -0.21776020254259099,
          -0.7889836258859447,
          -0.20542368513148873,
          -0.7659603510606953,
          -0.16187106538281307,
          -0.9239050512239982,
          -0.9664266458724518,
          -1.1359161170099354,
          -1.3005219518609723,
          -1.169983965643553,
          0.46413920476980725,
          -0.15684261561951307,
          -0.08310364765117012,
          -0.13777289428487158,
          -1.32584297732686,
          -0.98945908353618,
          -0.393774571103003,
          -0.5992300287220251,
          -0.71573516585159,
          -0.11489477074637712,
          -0.3341054285087586,
          0.14947302624972314
         ],
         "yaxis": "y"
        },
        {
         "customdata": [
          [
           "Bolivia"
          ]
         ],
         "hoverlabel": {
          "namelength": 0
         },
         "hovertemplate": "Cluster=Cluster 1<br>PCA1=%{x}<br>PCA2=%{y}<br>Feature=%{customdata[0]}",
         "legendgroup": "Cluster=Cluster 1",
         "marker": {
          "color": "#EF553B",
          "opacity": 0.5,
          "symbol": "circle"
         },
         "mode": "markers",
         "name": "Cluster=Cluster 1",
         "showlegend": true,
         "textposition": "top center",
         "type": "scatter",
         "x": [
          15.685847671011814
         ],
         "xaxis": "x",
         "y": [
          0.02870582407033701
         ],
         "yaxis": "y"
        },
        {
         "customdata": [
          [
           "Central African Republic"
          ],
          [
           "Congo"
          ],
          [
           "Cuba"
          ],
          [
           "Djibouti"
          ],
          [
           "Dominica"
          ]
         ],
         "hoverlabel": {
          "namelength": 0
         },
         "hovertemplate": "Cluster=Cluster 2<br>PCA1=%{x}<br>PCA2=%{y}<br>Feature=%{customdata[0]}",
         "legendgroup": "Cluster=Cluster 2",
         "marker": {
          "color": "#00cc96",
          "opacity": 0.5,
          "symbol": "circle"
         },
         "mode": "markers",
         "name": "Cluster=Cluster 2",
         "showlegend": true,
         "textposition": "top center",
         "type": "scatter",
         "x": [
          3.5702631174368205,
          2.6534683772492467,
          3.9481010349400316,
          2.754111598862081,
          3.238744697837954
         ],
         "xaxis": "x",
         "y": [
          0.22280902050648924,
          -0.11088468080889839,
          -0.018668070578244864,
          -0.5760879548135018,
          -0.5622761561720934
         ],
         "yaxis": "y"
        },
        {
         "customdata": [
          [
           "Ecuador"
          ],
          [
           "Spain"
          ],
          [
           "Ethiopia"
          ],
          [
           "United Kingdom"
          ],
          [
           "Guam"
          ],
          [
           "Hong Kong"
          ],
          [
           "Croatia"
          ],
          [
           "India"
          ],
          [
           "Iceland"
          ],
          [
           "Kazakhstan"
          ],
          [
           "Kenya"
          ],
          [
           "Laos"
          ],
          [
           "Lebanon"
          ],
          [
           "Liberia"
          ],
          [
           "Libya"
          ],
          [
           "Sri Lanka"
          ],
          [
           "Macao"
          ],
          [
           "Morocco"
          ],
          [
           "Mexico"
          ],
          [
           "Myanmar"
          ],
          [
           "Mongolia"
          ],
          [
           "Mauritius"
          ],
          [
           "Malaysia"
          ],
          [
           "Norway"
          ],
          [
           "Oman"
          ],
          [
           "Pakistan"
          ],
          [
           "Panama"
          ],
          [
           "Poland"
          ],
          [
           "Portugal"
          ],
          [
           "Paraguay"
          ],
          [
           "Palestine"
          ],
          [
           "Rwanda"
          ],
          [
           "Sudan"
          ],
          [
           "San Marino"
          ],
          [
           "Slovenia"
          ],
          [
           "Seychelles"
          ],
          [
           "Syria"
          ],
          [
           "United States"
          ]
         ],
         "hoverlabel": {
          "namelength": 0
         },
         "hovertemplate": "Cluster=Cluster 3<br>PCA1=%{x}<br>PCA2=%{y}<br>Feature=%{customdata[0]}",
         "legendgroup": "Cluster=Cluster 3",
         "marker": {
          "color": "#ab63fa",
          "opacity": 0.5,
          "symbol": "circle"
         },
         "mode": "markers",
         "name": "Cluster=Cluster 3",
         "showlegend": true,
         "textposition": "top center",
         "type": "scatter",
         "x": [
          -0.24204762065205412,
          -0.3050073689456432,
          -0.3021989344923875,
          -0.28768418088870024,
          -0.07505745544626011,
          -0.27083991562711995,
          -0.2934887247333973,
          -0.23582115146953225,
          -0.29511331932917056,
          -0.27527118773778786,
          -0.2270108269850807,
          -0.29459378801129865,
          0.180688490215754,
          -0.29252401447014403,
          -0.29475632344743113,
          -0.25926616463685065,
          -0.27267927193719854,
          -0.3055989380559607,
          -0.2999097887363271,
          -0.3075095829790661,
          -0.2894152026678378,
          -0.3019147163974905,
          -0.29467354302098164,
          -0.2752695790499503,
          -0.27928300755452395,
          -0.2955774694617849,
          -0.23538168890989647,
          -0.13866875385319682,
          -0.29683770640151247,
          -0.3047671925023852,
          -0.20920328344460967,
          0.9778184004259745,
          -0.2993101161139531,
          -0.16327148329333113,
          -0.2500268253482771,
          -0.30125066873234796,
          -0.3113381248060764,
          -0.2961672236575397
         ],
         "xaxis": "x",
         "y": [
          0.8878529278867405,
          0.9914490362592258,
          0.6689120098728435,
          1.9441888681305537,
          3.245556719585246,
          2.8747728782204143,
          0.712527338165401,
          0.8001858350826841,
          0.815626790731519,
          1.8043396109830712,
          0.9540991596995072,
          0.632226478638132,
          1.4738959308486879,
          1.6871733757802876,
          1.313752060096062,
          3.490167942669957,
          2.2592013372645026,
          0.7133075499628316,
          1.1016200534479614,
          0.8230478237214068,
          1.5923729841482184,
          1.123824470574647,
          0.9696695889149922,
          2.4792285255707394,
          1.9734127433796733,
          1.4755627290623519,
          4.105349845758405,
          1.6772412607420693,
          0.9846520107143784,
          0.9626326056915185,
          1.694054850174934,
          1.4665984215047132,
          1.3132781855935243,
          0.9823103758246017,
          0.8070122167300983,
          0.7060341563250663,
          0.5366499698052791,
          1.438449125245475
         ],
         "yaxis": "y"
        }
       ],
       "layout": {
        "height": 600,
        "legend": {
         "tracegroupgap": 0
        },
        "margin": {
         "t": 60
        },
        "plot_bgcolor": "rgb(240,240,240)",
        "template": {
         "data": {
          "bar": [
           {
            "error_x": {
             "color": "#2a3f5f"
            },
            "error_y": {
             "color": "#2a3f5f"
            },
            "marker": {
             "line": {
              "color": "#E5ECF6",
              "width": 0.5
             }
            },
            "type": "bar"
           }
          ],
          "barpolar": [
           {
            "marker": {
             "line": {
              "color": "#E5ECF6",
              "width": 0.5
             }
            },
            "type": "barpolar"
           }
          ],
          "carpet": [
           {
            "aaxis": {
             "endlinecolor": "#2a3f5f",
             "gridcolor": "white",
             "linecolor": "white",
             "minorgridcolor": "white",
             "startlinecolor": "#2a3f5f"
            },
            "baxis": {
             "endlinecolor": "#2a3f5f",
             "gridcolor": "white",
             "linecolor": "white",
             "minorgridcolor": "white",
             "startlinecolor": "#2a3f5f"
            },
            "type": "carpet"
           }
          ],
          "choropleth": [
           {
            "colorbar": {
             "outlinewidth": 0,
             "ticks": ""
            },
            "type": "choropleth"
           }
          ],
          "contour": [
           {
            "colorbar": {
             "outlinewidth": 0,
             "ticks": ""
            },
            "colorscale": [
             [
              0,
              "#0d0887"
             ],
             [
              0.1111111111111111,
              "#46039f"
             ],
             [
              0.2222222222222222,
              "#7201a8"
             ],
             [
              0.3333333333333333,
              "#9c179e"
             ],
             [
              0.4444444444444444,
              "#bd3786"
             ],
             [
              0.5555555555555556,
              "#d8576b"
             ],
             [
              0.6666666666666666,
              "#ed7953"
             ],
             [
              0.7777777777777778,
              "#fb9f3a"
             ],
             [
              0.8888888888888888,
              "#fdca26"
             ],
             [
              1,
              "#f0f921"
             ]
            ],
            "type": "contour"
           }
          ],
          "contourcarpet": [
           {
            "colorbar": {
             "outlinewidth": 0,
             "ticks": ""
            },
            "type": "contourcarpet"
           }
          ],
          "heatmap": [
           {
            "colorbar": {
             "outlinewidth": 0,
             "ticks": ""
            },
            "colorscale": [
             [
              0,
              "#0d0887"
             ],
             [
              0.1111111111111111,
              "#46039f"
             ],
             [
              0.2222222222222222,
              "#7201a8"
             ],
             [
              0.3333333333333333,
              "#9c179e"
             ],
             [
              0.4444444444444444,
              "#bd3786"
             ],
             [
              0.5555555555555556,
              "#d8576b"
             ],
             [
              0.6666666666666666,
              "#ed7953"
             ],
             [
              0.7777777777777778,
              "#fb9f3a"
             ],
             [
              0.8888888888888888,
              "#fdca26"
             ],
             [
              1,
              "#f0f921"
             ]
            ],
            "type": "heatmap"
           }
          ],
          "heatmapgl": [
           {
            "colorbar": {
             "outlinewidth": 0,
             "ticks": ""
            },
            "colorscale": [
             [
              0,
              "#0d0887"
             ],
             [
              0.1111111111111111,
              "#46039f"
             ],
             [
              0.2222222222222222,
              "#7201a8"
             ],
             [
              0.3333333333333333,
              "#9c179e"
             ],
             [
              0.4444444444444444,
              "#bd3786"
             ],
             [
              0.5555555555555556,
              "#d8576b"
             ],
             [
              0.6666666666666666,
              "#ed7953"
             ],
             [
              0.7777777777777778,
              "#fb9f3a"
             ],
             [
              0.8888888888888888,
              "#fdca26"
             ],
             [
              1,
              "#f0f921"
             ]
            ],
            "type": "heatmapgl"
           }
          ],
          "histogram": [
           {
            "marker": {
             "colorbar": {
              "outlinewidth": 0,
              "ticks": ""
             }
            },
            "type": "histogram"
           }
          ],
          "histogram2d": [
           {
            "colorbar": {
             "outlinewidth": 0,
             "ticks": ""
            },
            "colorscale": [
             [
              0,
              "#0d0887"
             ],
             [
              0.1111111111111111,
              "#46039f"
             ],
             [
              0.2222222222222222,
              "#7201a8"
             ],
             [
              0.3333333333333333,
              "#9c179e"
             ],
             [
              0.4444444444444444,
              "#bd3786"
             ],
             [
              0.5555555555555556,
              "#d8576b"
             ],
             [
              0.6666666666666666,
              "#ed7953"
             ],
             [
              0.7777777777777778,
              "#fb9f3a"
             ],
             [
              0.8888888888888888,
              "#fdca26"
             ],
             [
              1,
              "#f0f921"
             ]
            ],
            "type": "histogram2d"
           }
          ],
          "histogram2dcontour": [
           {
            "colorbar": {
             "outlinewidth": 0,
             "ticks": ""
            },
            "colorscale": [
             [
              0,
              "#0d0887"
             ],
             [
              0.1111111111111111,
              "#46039f"
             ],
             [
              0.2222222222222222,
              "#7201a8"
             ],
             [
              0.3333333333333333,
              "#9c179e"
             ],
             [
              0.4444444444444444,
              "#bd3786"
             ],
             [
              0.5555555555555556,
              "#d8576b"
             ],
             [
              0.6666666666666666,
              "#ed7953"
             ],
             [
              0.7777777777777778,
              "#fb9f3a"
             ],
             [
              0.8888888888888888,
              "#fdca26"
             ],
             [
              1,
              "#f0f921"
             ]
            ],
            "type": "histogram2dcontour"
           }
          ],
          "mesh3d": [
           {
            "colorbar": {
             "outlinewidth": 0,
             "ticks": ""
            },
            "type": "mesh3d"
           }
          ],
          "parcoords": [
           {
            "line": {
             "colorbar": {
              "outlinewidth": 0,
              "ticks": ""
             }
            },
            "type": "parcoords"
           }
          ],
          "pie": [
           {
            "automargin": true,
            "type": "pie"
           }
          ],
          "scatter": [
           {
            "marker": {
             "colorbar": {
              "outlinewidth": 0,
              "ticks": ""
             }
            },
            "type": "scatter"
           }
          ],
          "scatter3d": [
           {
            "line": {
             "colorbar": {
              "outlinewidth": 0,
              "ticks": ""
             }
            },
            "marker": {
             "colorbar": {
              "outlinewidth": 0,
              "ticks": ""
             }
            },
            "type": "scatter3d"
           }
          ],
          "scattercarpet": [
           {
            "marker": {
             "colorbar": {
              "outlinewidth": 0,
              "ticks": ""
             }
            },
            "type": "scattercarpet"
           }
          ],
          "scattergeo": [
           {
            "marker": {
             "colorbar": {
              "outlinewidth": 0,
              "ticks": ""
             }
            },
            "type": "scattergeo"
           }
          ],
          "scattergl": [
           {
            "marker": {
             "colorbar": {
              "outlinewidth": 0,
              "ticks": ""
             }
            },
            "type": "scattergl"
           }
          ],
          "scattermapbox": [
           {
            "marker": {
             "colorbar": {
              "outlinewidth": 0,
              "ticks": ""
             }
            },
            "type": "scattermapbox"
           }
          ],
          "scatterpolar": [
           {
            "marker": {
             "colorbar": {
              "outlinewidth": 0,
              "ticks": ""
             }
            },
            "type": "scatterpolar"
           }
          ],
          "scatterpolargl": [
           {
            "marker": {
             "colorbar": {
              "outlinewidth": 0,
              "ticks": ""
             }
            },
            "type": "scatterpolargl"
           }
          ],
          "scatterternary": [
           {
            "marker": {
             "colorbar": {
              "outlinewidth": 0,
              "ticks": ""
             }
            },
            "type": "scatterternary"
           }
          ],
          "surface": [
           {
            "colorbar": {
             "outlinewidth": 0,
             "ticks": ""
            },
            "colorscale": [
             [
              0,
              "#0d0887"
             ],
             [
              0.1111111111111111,
              "#46039f"
             ],
             [
              0.2222222222222222,
              "#7201a8"
             ],
             [
              0.3333333333333333,
              "#9c179e"
             ],
             [
              0.4444444444444444,
              "#bd3786"
             ],
             [
              0.5555555555555556,
              "#d8576b"
             ],
             [
              0.6666666666666666,
              "#ed7953"
             ],
             [
              0.7777777777777778,
              "#fb9f3a"
             ],
             [
              0.8888888888888888,
              "#fdca26"
             ],
             [
              1,
              "#f0f921"
             ]
            ],
            "type": "surface"
           }
          ],
          "table": [
           {
            "cells": {
             "fill": {
              "color": "#EBF0F8"
             },
             "line": {
              "color": "white"
             }
            },
            "header": {
             "fill": {
              "color": "#C8D4E3"
             },
             "line": {
              "color": "white"
             }
            },
            "type": "table"
           }
          ]
         },
         "layout": {
          "annotationdefaults": {
           "arrowcolor": "#2a3f5f",
           "arrowhead": 0,
           "arrowwidth": 1
          },
          "coloraxis": {
           "colorbar": {
            "outlinewidth": 0,
            "ticks": ""
           }
          },
          "colorscale": {
           "diverging": [
            [
             0,
             "#8e0152"
            ],
            [
             0.1,
             "#c51b7d"
            ],
            [
             0.2,
             "#de77ae"
            ],
            [
             0.3,
             "#f1b6da"
            ],
            [
             0.4,
             "#fde0ef"
            ],
            [
             0.5,
             "#f7f7f7"
            ],
            [
             0.6,
             "#e6f5d0"
            ],
            [
             0.7,
             "#b8e186"
            ],
            [
             0.8,
             "#7fbc41"
            ],
            [
             0.9,
             "#4d9221"
            ],
            [
             1,
             "#276419"
            ]
           ],
           "sequential": [
            [
             0,
             "#0d0887"
            ],
            [
             0.1111111111111111,
             "#46039f"
            ],
            [
             0.2222222222222222,
             "#7201a8"
            ],
            [
             0.3333333333333333,
             "#9c179e"
            ],
            [
             0.4444444444444444,
             "#bd3786"
            ],
            [
             0.5555555555555556,
             "#d8576b"
            ],
            [
             0.6666666666666666,
             "#ed7953"
            ],
            [
             0.7777777777777778,
             "#fb9f3a"
            ],
            [
             0.8888888888888888,
             "#fdca26"
            ],
            [
             1,
             "#f0f921"
            ]
           ],
           "sequentialminus": [
            [
             0,
             "#0d0887"
            ],
            [
             0.1111111111111111,
             "#46039f"
            ],
            [
             0.2222222222222222,
             "#7201a8"
            ],
            [
             0.3333333333333333,
             "#9c179e"
            ],
            [
             0.4444444444444444,
             "#bd3786"
            ],
            [
             0.5555555555555556,
             "#d8576b"
            ],
            [
             0.6666666666666666,
             "#ed7953"
            ],
            [
             0.7777777777777778,
             "#fb9f3a"
            ],
            [
             0.8888888888888888,
             "#fdca26"
            ],
            [
             1,
             "#f0f921"
            ]
           ]
          },
          "colorway": [
           "#636efa",
           "#EF553B",
           "#00cc96",
           "#ab63fa",
           "#FFA15A",
           "#19d3f3",
           "#FF6692",
           "#B6E880",
           "#FF97FF",
           "#FECB52"
          ],
          "font": {
           "color": "#2a3f5f"
          },
          "geo": {
           "bgcolor": "white",
           "lakecolor": "white",
           "landcolor": "#E5ECF6",
           "showlakes": true,
           "showland": true,
           "subunitcolor": "white"
          },
          "hoverlabel": {
           "align": "left"
          },
          "hovermode": "closest",
          "mapbox": {
           "style": "light"
          },
          "paper_bgcolor": "white",
          "plot_bgcolor": "#E5ECF6",
          "polar": {
           "angularaxis": {
            "gridcolor": "white",
            "linecolor": "white",
            "ticks": ""
           },
           "bgcolor": "#E5ECF6",
           "radialaxis": {
            "gridcolor": "white",
            "linecolor": "white",
            "ticks": ""
           }
          },
          "scene": {
           "xaxis": {
            "backgroundcolor": "#E5ECF6",
            "gridcolor": "white",
            "gridwidth": 2,
            "linecolor": "white",
            "showbackground": true,
            "ticks": "",
            "zerolinecolor": "white"
           },
           "yaxis": {
            "backgroundcolor": "#E5ECF6",
            "gridcolor": "white",
            "gridwidth": 2,
            "linecolor": "white",
            "showbackground": true,
            "ticks": "",
            "zerolinecolor": "white"
           },
           "zaxis": {
            "backgroundcolor": "#E5ECF6",
            "gridcolor": "white",
            "gridwidth": 2,
            "linecolor": "white",
            "showbackground": true,
            "ticks": "",
            "zerolinecolor": "white"
           }
          },
          "shapedefaults": {
           "line": {
            "color": "#2a3f5f"
           }
          },
          "ternary": {
           "aaxis": {
            "gridcolor": "white",
            "linecolor": "white",
            "ticks": ""
           },
           "baxis": {
            "gridcolor": "white",
            "linecolor": "white",
            "ticks": ""
           },
           "bgcolor": "#E5ECF6",
           "caxis": {
            "gridcolor": "white",
            "linecolor": "white",
            "ticks": ""
           }
          },
          "title": {
           "x": 0.05
          },
          "xaxis": {
           "automargin": true,
           "gridcolor": "white",
           "linecolor": "white",
           "ticks": "",
           "title": {
            "standoff": 15
           },
           "zerolinecolor": "white",
           "zerolinewidth": 2
          },
          "yaxis": {
           "automargin": true,
           "gridcolor": "white",
           "linecolor": "white",
           "ticks": "",
           "title": {
            "standoff": 15
           },
           "zerolinecolor": "white",
           "zerolinewidth": 2
          }
         }
        },
        "title": {
         "text": "2D Cluster PCA Plot"
        },
        "xaxis": {
         "anchor": "y",
         "domain": [
          0,
          1
         ],
         "title": {
          "text": "PCA1"
         }
        },
        "yaxis": {
         "anchor": "x",
         "domain": [
          0,
          1
         ],
         "title": {
          "text": "PCA2"
         }
        }
       }
      },
      "text/html": [
       "<div>\n",
       "        \n",
       "        \n",
       "            <div id=\"c4f479a7-a158-42fa-a5b2-3146c2101df7\" class=\"plotly-graph-div\" style=\"height:600px; width:100%;\"></div>\n",
       "            <script type=\"text/javascript\">\n",
       "                require([\"plotly\"], function(Plotly) {\n",
       "                    window.PLOTLYENV=window.PLOTLYENV || {};\n",
       "                    \n",
       "                if (document.getElementById(\"c4f479a7-a158-42fa-a5b2-3146c2101df7\")) {\n",
       "                    Plotly.newPlot(\n",
       "                        'c4f479a7-a158-42fa-a5b2-3146c2101df7',\n",
       "                        [{\"customdata\": [[\"Angola\"], [\"Albania\"], [\"United Arab Emirates\"], [\"Argentina\"], [\"Burundi\"], [\"Belgium\"], [\"Burkina Faso\"], [\"Bangladesh\"], [\"Bosnia and Herzegovina\"], [\"Belarus\"], [\"Belize\"], [\"Bermuda\"], [\"Barbados\"], [\"Botswana\"], [\"Canada\"], [\"Switzerland\"], [\"Chile\"], [\"China\"], [\"Cote d'Ivoire\"], [\"Cameroon\"], [\"Democratic Republic of Congo\"], [\"Cyprus\"], [\"Czech Republic\"], [\"Germany\"], [\"Dominican Republic\"], [\"Algeria\"], [\"Egypt\"], [\"Estonia\"], [\"Finland\"], [\"France\"], [\"Gabon\"], [\"Georgia\"], [\"Ghana\"], [\"Gambia\"], [\"Greece\"], [\"Greenland\"], [\"Guatemala\"], [\"Honduras\"], [\"Hungary\"], [\"Indonesia\"], [\"Ireland\"], [\"Iran\"], [\"Israel\"], [\"Italy\"], [\"Jamaica\"], [\"Kyrgyz Republic\"], [\"Kuwait\"], [\"Lesotho\"], [\"Lithuania\"], [\"Luxembourg\"], [\"Moldova\"], [\"Madagascar\"], [\"Mali\"], [\"Mozambique\"], [null], [\"Malawi\"], [\"Namibia\"], [\"Niger\"], [\"Nigeria\"], [\"Nicaragua\"], [\"Netherlands\"], [\"Nepal\"], [\"Peru\"], [\"Philippines\"], [\"Papua New Guinea\"], [\"Qatar\"], [\"Romania\"], [\"Saudi Arabia\"], [\"Senegal\"], [\"Singapore\"], [\"El Salvador\"], [\"Somalia\"], [\"Serbia\"], [\"South Sudan\"], [\"Slovak Republic\"], [\"Sweden\"], [\"Eswatini\"], [\"Chad\"], [\"Thailand\"], [\"Trinidad and Tobago\"], [\"Tunisia\"], [\"Turkey\"], [\"Tanzania\"], [\"Uganda\"], [\"Ukraine\"], [\"Uruguay\"], [\"Uzbekistan\"], [\"Venezuela\"], [\"Vietnam\"], [\"Yemen\"], [\"South Africa\"], [\"Zambia\"], [\"Zimbabwe\"], [\"Taiwan\"], [\"Cape Verde\"], [\"Iraq\"], [\"Jordan\"], [\"New Zealand\"], [\"Sierra Leone\"], [\"Aruba\"], [\"Bhutan\"], [\"Japan\"], [\"Andorra\"], [\"Brunei\"], [\"Costa Rica\"], [\"Denmark\"], [\"South Korea\"], [\"Suriname\"], [\"Brazil\"], [\"Colombia\"], [\"Guyana\"], [\"Puerto Rico\"], [\"Russia\"], [\"Solomon Islands\"], [\"Afghanistan\"], [\"Australia\"], [\"Austria\"], [\"Azerbaijan\"], [\"Benin\"], [\"Bulgaria\"], [\"Bahrain\"]], \"hoverlabel\": {\"namelength\": 0}, \"hovertemplate\": \"Cluster=Cluster 0<br>PCA1=%{x}<br>PCA2=%{y}<br>Feature=%{customdata[0]}\", \"legendgroup\": \"Cluster=Cluster 0\", \"marker\": {\"color\": \"#636efa\", \"opacity\": 0.5, \"symbol\": \"circle\"}, \"mode\": \"markers\", \"name\": \"Cluster=Cluster 0\", \"showlegend\": true, \"textposition\": \"top center\", \"type\": \"scatter\", \"x\": [-0.3300303290885044, -0.2927971551137517, -0.2938572406160257, -0.31219999447305646, -0.26766224115231746, -0.268134656354201, 1.5776771018215283, -0.32047609344179717, -0.3296191704944133, -0.19541441131151513, -0.3258442690888675, -0.21800917520354574, -0.31814230564971246, -0.3270489560453245, -0.32084327558639847, -0.31701165486657856, -0.3024820698908257, -0.32916418398169534, -0.31723088832861096, -0.33179920985202777, -0.3276321237118142, -0.3079905205533619, -0.34092884842303245, -0.3271730938022936, -0.3058534281457947, 0.8561667361020195, -0.314300044026994, -0.3169837568441838, -0.3301173389856442, -0.3162567748386822, -0.21654793714625833, -0.3396670367684865, -0.1912595155152926, -0.3414816569547344, -0.3165624289970034, -0.331899947201019, -0.32872563474430705, -0.3146898848644429, -0.3133050493804536, -0.31226104116848463, -0.32928964581302533, -0.34269835367359375, -0.3393690511583106, -0.06016747900473332, -0.15243423140133783, -0.2526915387183821, 0.004606746007728435, -0.30033317688263483, -0.2749867277165805, -0.3309759820286213, -0.3160905439637014, -0.32654193381362967, 0.4305818672593039, -0.3297234592644668, 0.0869977973390205, -0.3226217844931442, -0.31732210555677026, -0.31054018564922947, -0.2951655273457828, -0.3433021581552844, 0.538034694213727, -0.3335903193788306, -0.3255536970800059, -0.32400184927641434, -0.34504979719129625, -0.3246893948110551, -0.2874382488030373, -0.2866550841291376, -0.337983088471121, -0.33734668781650484, -0.33172593601947903, -0.010647569973679051, 0.532690249172671, -0.24445731456478284, -0.3217367893259988, -0.2458122045474645, -0.3195149955819356, -0.31944624777282454, -0.21665061185826215, -0.2856827593796642, -0.31430205901262936, -0.07440361984171719, -0.1172590409926635, -0.336536623818153, -0.17226111594454716, -0.3204101923177651, -0.3308278590557421, -0.32975123909439363, -0.2939501544519628, -0.33342257027120364, -0.2790081410827835, -0.3381174608183376, -0.3257702853277457, -0.25447513861759896, 1.3185733825857404, -0.20884205124540847, -0.018981366064318522, 0.6059074938973453, -0.30487583224983017, -0.32669533566015385, -0.3294077061554079, -0.16884991954899842, 0.022734106621050704, -0.13833410667832652, -0.14053894039995737, -0.2594086691008659, -0.20313257315495564, 0.44462230900921906, -0.34168777615410406, -0.2837147459596366, 0.387216048208867, 0.7300184358448514, -0.2742065253927467, -0.23736252494109158, -0.170976271786798, -0.3063308862414003, -0.28049567620371346, -0.3356314060390683, -0.3157219162231915, -0.32758349741849485, -0.31922216176762713], \"xaxis\": \"x\", \"y\": [-0.41495955478328334, -0.7014709482400927, 0.38340519437785636, -0.6717998249968475, 0.44116532795479024, -0.12346062766646596, 0.10183915281855566, -1.287276290310779, -0.45153807337592416, -0.9232038585452489, -0.16624439687701614, -0.07950712712450544, -0.04835244310834874, -0.2316062062955967, -0.1951475008380397, 0.09070401626803512, -0.5694800139423309, -0.459300390426207, -0.26834312133477095, -0.5617625186084639, -0.6793120200040306, -0.3571543452855311, -1.0669389682065131, -0.7668615033601233, -1.2875330838629249, -0.36951965406163556, 0.16379547263882127, -0.6135351667006097, -0.6715003389514167, 0.2735414802808574, -0.8125059671464376, -0.9572500103366016, -0.9963895477682441, -1.1406222315679289, 0.2297739922057769, -1.4339090507343017, -0.34959936302843747, 0.4569170851049903, 0.14936671393844891, -0.6795759311124295, -0.4443372273607892, -1.2868794222415163, -1.2137967102009009, -0.14821297178683626, -0.7771719508398705, -0.41629752957330896, -0.44339627202086107, -0.6138088620686839, -0.00531049626234968, -0.5905905627256164, 0.3394744803823065, -0.2836999317271577, -0.6417959608086594, -0.378394521276903, -0.6575202011313442, -0.1147681970530704, 0.24419083834326819, 0.347140593652666, 0.42000196573286114, -1.3239965401066738, -0.12306895818096314, -1.1113972803591172, -0.5541138852987824, -0.23221674687472776, -1.2580288409948392, -0.45161750290208447, -1.0678618809705387, -0.29155721914299493, -1.4337956879615439, -0.8763904086067733, -0.9208168818580853, -0.2662491481776005, 0.5209979602273788, -0.4613986142148424, 0.06917407802351155, -1.4353146526701603, -0.26220691440049715, -0.004558607324828827, -0.49001800782123683, 0.34669611218309654, -0.32824157841013263, -0.7642191325756215, 0.17408583917432358, -1.1113393339571975, -0.6153248440121627, -1.4341161034039656, -1.2870835920266408, -0.378394071925864, -0.012776794923864585, -0.5905481820899996, 0.4197608783337058, -1.1113122043368981, -0.6715712780204819, 0.46305229867945413, 0.1193527065439071, -0.812738799701803, 0.13691272705084218, 0.33656956711191527, 0.2140619468363005, -0.21776020254259099, -0.7889836258859447, -0.20542368513148873, -0.7659603510606953, -0.16187106538281307, -0.9239050512239982, -0.9664266458724518, -1.1359161170099354, -1.3005219518609723, -1.169983965643553, 0.46413920476980725, -0.15684261561951307, -0.08310364765117012, -0.13777289428487158, -1.32584297732686, -0.98945908353618, -0.393774571103003, -0.5992300287220251, -0.71573516585159, -0.11489477074637712, -0.3341054285087586, 0.14947302624972314], \"yaxis\": \"y\"}, {\"customdata\": [[\"Bolivia\"]], \"hoverlabel\": {\"namelength\": 0}, \"hovertemplate\": \"Cluster=Cluster 1<br>PCA1=%{x}<br>PCA2=%{y}<br>Feature=%{customdata[0]}\", \"legendgroup\": \"Cluster=Cluster 1\", \"marker\": {\"color\": \"#EF553B\", \"opacity\": 0.5, \"symbol\": \"circle\"}, \"mode\": \"markers\", \"name\": \"Cluster=Cluster 1\", \"showlegend\": true, \"textposition\": \"top center\", \"type\": \"scatter\", \"x\": [15.685847671011814], \"xaxis\": \"x\", \"y\": [0.02870582407033701], \"yaxis\": \"y\"}, {\"customdata\": [[\"Central African Republic\"], [\"Congo\"], [\"Cuba\"], [\"Djibouti\"], [\"Dominica\"]], \"hoverlabel\": {\"namelength\": 0}, \"hovertemplate\": \"Cluster=Cluster 2<br>PCA1=%{x}<br>PCA2=%{y}<br>Feature=%{customdata[0]}\", \"legendgroup\": \"Cluster=Cluster 2\", \"marker\": {\"color\": \"#00cc96\", \"opacity\": 0.5, \"symbol\": \"circle\"}, \"mode\": \"markers\", \"name\": \"Cluster=Cluster 2\", \"showlegend\": true, \"textposition\": \"top center\", \"type\": \"scatter\", \"x\": [3.5702631174368205, 2.6534683772492467, 3.9481010349400316, 2.754111598862081, 3.238744697837954], \"xaxis\": \"x\", \"y\": [0.22280902050648924, -0.11088468080889839, -0.018668070578244864, -0.5760879548135018, -0.5622761561720934], \"yaxis\": \"y\"}, {\"customdata\": [[\"Ecuador\"], [\"Spain\"], [\"Ethiopia\"], [\"United Kingdom\"], [\"Guam\"], [\"Hong Kong\"], [\"Croatia\"], [\"India\"], [\"Iceland\"], [\"Kazakhstan\"], [\"Kenya\"], [\"Laos\"], [\"Lebanon\"], [\"Liberia\"], [\"Libya\"], [\"Sri Lanka\"], [\"Macao\"], [\"Morocco\"], [\"Mexico\"], [\"Myanmar\"], [\"Mongolia\"], [\"Mauritius\"], [\"Malaysia\"], [\"Norway\"], [\"Oman\"], [\"Pakistan\"], [\"Panama\"], [\"Poland\"], [\"Portugal\"], [\"Paraguay\"], [\"Palestine\"], [\"Rwanda\"], [\"Sudan\"], [\"San Marino\"], [\"Slovenia\"], [\"Seychelles\"], [\"Syria\"], [\"United States\"]], \"hoverlabel\": {\"namelength\": 0}, \"hovertemplate\": \"Cluster=Cluster 3<br>PCA1=%{x}<br>PCA2=%{y}<br>Feature=%{customdata[0]}\", \"legendgroup\": \"Cluster=Cluster 3\", \"marker\": {\"color\": \"#ab63fa\", \"opacity\": 0.5, \"symbol\": \"circle\"}, \"mode\": \"markers\", \"name\": \"Cluster=Cluster 3\", \"showlegend\": true, \"textposition\": \"top center\", \"type\": \"scatter\", \"x\": [-0.24204762065205412, -0.3050073689456432, -0.3021989344923875, -0.28768418088870024, -0.07505745544626011, -0.27083991562711995, -0.2934887247333973, -0.23582115146953225, -0.29511331932917056, -0.27527118773778786, -0.2270108269850807, -0.29459378801129865, 0.180688490215754, -0.29252401447014403, -0.29475632344743113, -0.25926616463685065, -0.27267927193719854, -0.3055989380559607, -0.2999097887363271, -0.3075095829790661, -0.2894152026678378, -0.3019147163974905, -0.29467354302098164, -0.2752695790499503, -0.27928300755452395, -0.2955774694617849, -0.23538168890989647, -0.13866875385319682, -0.29683770640151247, -0.3047671925023852, -0.20920328344460967, 0.9778184004259745, -0.2993101161139531, -0.16327148329333113, -0.2500268253482771, -0.30125066873234796, -0.3113381248060764, -0.2961672236575397], \"xaxis\": \"x\", \"y\": [0.8878529278867405, 0.9914490362592258, 0.6689120098728435, 1.9441888681305537, 3.245556719585246, 2.8747728782204143, 0.712527338165401, 0.8001858350826841, 0.815626790731519, 1.8043396109830712, 0.9540991596995072, 0.632226478638132, 1.4738959308486879, 1.6871733757802876, 1.313752060096062, 3.490167942669957, 2.2592013372645026, 0.7133075499628316, 1.1016200534479614, 0.8230478237214068, 1.5923729841482184, 1.123824470574647, 0.9696695889149922, 2.4792285255707394, 1.9734127433796733, 1.4755627290623519, 4.105349845758405, 1.6772412607420693, 0.9846520107143784, 0.9626326056915185, 1.694054850174934, 1.4665984215047132, 1.3132781855935243, 0.9823103758246017, 0.8070122167300983, 0.7060341563250663, 0.5366499698052791, 1.438449125245475], \"yaxis\": \"y\"}],\n",
       "                        {\"height\": 600, \"legend\": {\"tracegroupgap\": 0}, \"margin\": {\"t\": 60}, \"plot_bgcolor\": \"rgb(240,240,240)\", \"template\": {\"data\": {\"bar\": [{\"error_x\": {\"color\": \"#2a3f5f\"}, \"error_y\": {\"color\": \"#2a3f5f\"}, \"marker\": {\"line\": {\"color\": \"#E5ECF6\", \"width\": 0.5}}, \"type\": \"bar\"}], \"barpolar\": [{\"marker\": {\"line\": {\"color\": \"#E5ECF6\", \"width\": 0.5}}, \"type\": \"barpolar\"}], \"carpet\": [{\"aaxis\": {\"endlinecolor\": \"#2a3f5f\", \"gridcolor\": \"white\", \"linecolor\": \"white\", \"minorgridcolor\": \"white\", \"startlinecolor\": \"#2a3f5f\"}, \"baxis\": {\"endlinecolor\": \"#2a3f5f\", \"gridcolor\": \"white\", \"linecolor\": \"white\", \"minorgridcolor\": \"white\", \"startlinecolor\": \"#2a3f5f\"}, \"type\": \"carpet\"}], \"choropleth\": [{\"colorbar\": {\"outlinewidth\": 0, \"ticks\": \"\"}, \"type\": \"choropleth\"}], \"contour\": [{\"colorbar\": {\"outlinewidth\": 0, \"ticks\": \"\"}, \"colorscale\": [[0.0, \"#0d0887\"], [0.1111111111111111, \"#46039f\"], [0.2222222222222222, \"#7201a8\"], [0.3333333333333333, \"#9c179e\"], [0.4444444444444444, \"#bd3786\"], [0.5555555555555556, \"#d8576b\"], [0.6666666666666666, \"#ed7953\"], [0.7777777777777778, \"#fb9f3a\"], [0.8888888888888888, \"#fdca26\"], [1.0, \"#f0f921\"]], \"type\": \"contour\"}], \"contourcarpet\": [{\"colorbar\": {\"outlinewidth\": 0, \"ticks\": \"\"}, \"type\": \"contourcarpet\"}], \"heatmap\": [{\"colorbar\": {\"outlinewidth\": 0, \"ticks\": \"\"}, \"colorscale\": [[0.0, \"#0d0887\"], [0.1111111111111111, \"#46039f\"], [0.2222222222222222, \"#7201a8\"], [0.3333333333333333, \"#9c179e\"], [0.4444444444444444, \"#bd3786\"], [0.5555555555555556, \"#d8576b\"], [0.6666666666666666, \"#ed7953\"], [0.7777777777777778, \"#fb9f3a\"], [0.8888888888888888, \"#fdca26\"], [1.0, \"#f0f921\"]], \"type\": \"heatmap\"}], \"heatmapgl\": [{\"colorbar\": {\"outlinewidth\": 0, \"ticks\": \"\"}, \"colorscale\": [[0.0, \"#0d0887\"], [0.1111111111111111, \"#46039f\"], [0.2222222222222222, \"#7201a8\"], [0.3333333333333333, \"#9c179e\"], [0.4444444444444444, \"#bd3786\"], [0.5555555555555556, \"#d8576b\"], [0.6666666666666666, \"#ed7953\"], [0.7777777777777778, \"#fb9f3a\"], [0.8888888888888888, \"#fdca26\"], [1.0, \"#f0f921\"]], \"type\": \"heatmapgl\"}], \"histogram\": [{\"marker\": {\"colorbar\": {\"outlinewidth\": 0, \"ticks\": \"\"}}, \"type\": \"histogram\"}], \"histogram2d\": [{\"colorbar\": {\"outlinewidth\": 0, \"ticks\": \"\"}, \"colorscale\": [[0.0, \"#0d0887\"], [0.1111111111111111, \"#46039f\"], [0.2222222222222222, \"#7201a8\"], [0.3333333333333333, \"#9c179e\"], [0.4444444444444444, \"#bd3786\"], [0.5555555555555556, \"#d8576b\"], [0.6666666666666666, \"#ed7953\"], [0.7777777777777778, \"#fb9f3a\"], [0.8888888888888888, \"#fdca26\"], [1.0, \"#f0f921\"]], \"type\": \"histogram2d\"}], \"histogram2dcontour\": [{\"colorbar\": {\"outlinewidth\": 0, \"ticks\": \"\"}, \"colorscale\": [[0.0, \"#0d0887\"], [0.1111111111111111, \"#46039f\"], [0.2222222222222222, \"#7201a8\"], [0.3333333333333333, \"#9c179e\"], [0.4444444444444444, \"#bd3786\"], [0.5555555555555556, \"#d8576b\"], [0.6666666666666666, \"#ed7953\"], [0.7777777777777778, \"#fb9f3a\"], [0.8888888888888888, \"#fdca26\"], [1.0, \"#f0f921\"]], \"type\": \"histogram2dcontour\"}], \"mesh3d\": [{\"colorbar\": {\"outlinewidth\": 0, \"ticks\": \"\"}, \"type\": \"mesh3d\"}], \"parcoords\": [{\"line\": {\"colorbar\": {\"outlinewidth\": 0, \"ticks\": \"\"}}, \"type\": \"parcoords\"}], \"pie\": [{\"automargin\": true, \"type\": \"pie\"}], \"scatter\": [{\"marker\": {\"colorbar\": {\"outlinewidth\": 0, \"ticks\": \"\"}}, \"type\": \"scatter\"}], \"scatter3d\": [{\"line\": {\"colorbar\": {\"outlinewidth\": 0, \"ticks\": \"\"}}, \"marker\": {\"colorbar\": {\"outlinewidth\": 0, \"ticks\": \"\"}}, \"type\": \"scatter3d\"}], \"scattercarpet\": [{\"marker\": {\"colorbar\": {\"outlinewidth\": 0, \"ticks\": \"\"}}, \"type\": \"scattercarpet\"}], \"scattergeo\": [{\"marker\": {\"colorbar\": {\"outlinewidth\": 0, \"ticks\": \"\"}}, \"type\": \"scattergeo\"}], \"scattergl\": [{\"marker\": {\"colorbar\": {\"outlinewidth\": 0, \"ticks\": \"\"}}, \"type\": \"scattergl\"}], \"scattermapbox\": [{\"marker\": {\"colorbar\": {\"outlinewidth\": 0, \"ticks\": \"\"}}, \"type\": \"scattermapbox\"}], \"scatterpolar\": [{\"marker\": {\"colorbar\": {\"outlinewidth\": 0, \"ticks\": \"\"}}, \"type\": \"scatterpolar\"}], \"scatterpolargl\": [{\"marker\": {\"colorbar\": {\"outlinewidth\": 0, \"ticks\": \"\"}}, \"type\": \"scatterpolargl\"}], \"scatterternary\": [{\"marker\": {\"colorbar\": {\"outlinewidth\": 0, \"ticks\": \"\"}}, \"type\": \"scatterternary\"}], \"surface\": [{\"colorbar\": {\"outlinewidth\": 0, \"ticks\": \"\"}, \"colorscale\": [[0.0, \"#0d0887\"], [0.1111111111111111, \"#46039f\"], [0.2222222222222222, \"#7201a8\"], [0.3333333333333333, \"#9c179e\"], [0.4444444444444444, \"#bd3786\"], [0.5555555555555556, \"#d8576b\"], [0.6666666666666666, \"#ed7953\"], [0.7777777777777778, \"#fb9f3a\"], [0.8888888888888888, \"#fdca26\"], [1.0, \"#f0f921\"]], \"type\": \"surface\"}], \"table\": [{\"cells\": {\"fill\": {\"color\": \"#EBF0F8\"}, \"line\": {\"color\": \"white\"}}, \"header\": {\"fill\": {\"color\": \"#C8D4E3\"}, \"line\": {\"color\": \"white\"}}, \"type\": \"table\"}]}, \"layout\": {\"annotationdefaults\": {\"arrowcolor\": \"#2a3f5f\", \"arrowhead\": 0, \"arrowwidth\": 1}, \"coloraxis\": {\"colorbar\": {\"outlinewidth\": 0, \"ticks\": \"\"}}, \"colorscale\": {\"diverging\": [[0, \"#8e0152\"], [0.1, \"#c51b7d\"], [0.2, \"#de77ae\"], [0.3, \"#f1b6da\"], [0.4, \"#fde0ef\"], [0.5, \"#f7f7f7\"], [0.6, \"#e6f5d0\"], [0.7, \"#b8e186\"], [0.8, \"#7fbc41\"], [0.9, \"#4d9221\"], [1, \"#276419\"]], \"sequential\": [[0.0, \"#0d0887\"], [0.1111111111111111, \"#46039f\"], [0.2222222222222222, \"#7201a8\"], [0.3333333333333333, \"#9c179e\"], [0.4444444444444444, \"#bd3786\"], [0.5555555555555556, \"#d8576b\"], [0.6666666666666666, \"#ed7953\"], [0.7777777777777778, \"#fb9f3a\"], [0.8888888888888888, \"#fdca26\"], [1.0, \"#f0f921\"]], \"sequentialminus\": [[0.0, \"#0d0887\"], [0.1111111111111111, \"#46039f\"], [0.2222222222222222, \"#7201a8\"], [0.3333333333333333, \"#9c179e\"], [0.4444444444444444, \"#bd3786\"], [0.5555555555555556, \"#d8576b\"], [0.6666666666666666, \"#ed7953\"], [0.7777777777777778, \"#fb9f3a\"], [0.8888888888888888, \"#fdca26\"], [1.0, \"#f0f921\"]]}, \"colorway\": [\"#636efa\", \"#EF553B\", \"#00cc96\", \"#ab63fa\", \"#FFA15A\", \"#19d3f3\", \"#FF6692\", \"#B6E880\", \"#FF97FF\", \"#FECB52\"], \"font\": {\"color\": \"#2a3f5f\"}, \"geo\": {\"bgcolor\": \"white\", \"lakecolor\": \"white\", \"landcolor\": \"#E5ECF6\", \"showlakes\": true, \"showland\": true, \"subunitcolor\": \"white\"}, \"hoverlabel\": {\"align\": \"left\"}, \"hovermode\": \"closest\", \"mapbox\": {\"style\": \"light\"}, \"paper_bgcolor\": \"white\", \"plot_bgcolor\": \"#E5ECF6\", \"polar\": {\"angularaxis\": {\"gridcolor\": \"white\", \"linecolor\": \"white\", \"ticks\": \"\"}, \"bgcolor\": \"#E5ECF6\", \"radialaxis\": {\"gridcolor\": \"white\", \"linecolor\": \"white\", \"ticks\": \"\"}}, \"scene\": {\"xaxis\": {\"backgroundcolor\": \"#E5ECF6\", \"gridcolor\": \"white\", \"gridwidth\": 2, \"linecolor\": \"white\", \"showbackground\": true, \"ticks\": \"\", \"zerolinecolor\": \"white\"}, \"yaxis\": {\"backgroundcolor\": \"#E5ECF6\", \"gridcolor\": \"white\", \"gridwidth\": 2, \"linecolor\": \"white\", \"showbackground\": true, \"ticks\": \"\", \"zerolinecolor\": \"white\"}, \"zaxis\": {\"backgroundcolor\": \"#E5ECF6\", \"gridcolor\": \"white\", \"gridwidth\": 2, \"linecolor\": \"white\", \"showbackground\": true, \"ticks\": \"\", \"zerolinecolor\": \"white\"}}, \"shapedefaults\": {\"line\": {\"color\": \"#2a3f5f\"}}, \"ternary\": {\"aaxis\": {\"gridcolor\": \"white\", \"linecolor\": \"white\", \"ticks\": \"\"}, \"baxis\": {\"gridcolor\": \"white\", \"linecolor\": \"white\", \"ticks\": \"\"}, \"bgcolor\": \"#E5ECF6\", \"caxis\": {\"gridcolor\": \"white\", \"linecolor\": \"white\", \"ticks\": \"\"}}, \"title\": {\"x\": 0.05}, \"xaxis\": {\"automargin\": true, \"gridcolor\": \"white\", \"linecolor\": \"white\", \"ticks\": \"\", \"title\": {\"standoff\": 15}, \"zerolinecolor\": \"white\", \"zerolinewidth\": 2}, \"yaxis\": {\"automargin\": true, \"gridcolor\": \"white\", \"linecolor\": \"white\", \"ticks\": \"\", \"title\": {\"standoff\": 15}, \"zerolinecolor\": \"white\", \"zerolinewidth\": 2}}}, \"title\": {\"text\": \"2D Cluster PCA Plot\"}, \"xaxis\": {\"anchor\": \"y\", \"domain\": [0.0, 1.0], \"title\": {\"text\": \"PCA1\"}}, \"yaxis\": {\"anchor\": \"x\", \"domain\": [0.0, 1.0], \"title\": {\"text\": \"PCA2\"}}},\n",
       "                        {\"responsive\": true}\n",
       "                    ).then(function(){\n",
       "                            \n",
       "var gd = document.getElementById('c4f479a7-a158-42fa-a5b2-3146c2101df7');\n",
       "var x = new MutationObserver(function (mutations, observer) {{\n",
       "        var display = window.getComputedStyle(gd).display;\n",
       "        if (!display || display === 'none') {{\n",
       "            console.log([gd, 'removed!']);\n",
       "            Plotly.purge(gd);\n",
       "            observer.disconnect();\n",
       "        }}\n",
       "}});\n",
       "\n",
       "// Listen for the removal of the full notebook cells\n",
       "var notebookContainer = gd.closest('#notebook-container');\n",
       "if (notebookContainer) {{\n",
       "    x.observe(notebookContainer, {childList: true});\n",
       "}}\n",
       "\n",
       "// Listen for the clearing of the current output cell\n",
       "var outputEl = gd.closest('.output');\n",
       "if (outputEl) {{\n",
       "    x.observe(outputEl, {childList: true});\n",
       "}}\n",
       "\n",
       "                        })\n",
       "                };\n",
       "                });\n",
       "            </script>\n",
       "        </div>"
      ]
     },
     "metadata": {},
     "output_type": "display_data"
    }
   ],
   "source": [
    "plot_model(kmeans)"
   ]
  },
  {
   "cell_type": "code",
   "execution_count": 26,
   "metadata": {},
   "outputs": [
    {
     "data": {
      "text/html": [
       "        <script type=\"text/javascript\">\n",
       "        window.PlotlyConfig = {MathJaxConfig: 'local'};\n",
       "        if (window.MathJax) {MathJax.Hub.Config({SVG: {font: \"STIX-Web\"}});}\n",
       "        if (typeof require !== 'undefined') {\n",
       "        require.undef(\"plotly\");\n",
       "        requirejs.config({\n",
       "            paths: {\n",
       "                'plotly': ['https://cdn.plot.ly/plotly-latest.min']\n",
       "            }\n",
       "        });\n",
       "        require(['plotly'], function(Plotly) {\n",
       "            window._Plotly = Plotly;\n",
       "        });\n",
       "        }\n",
       "        </script>\n",
       "        "
      ]
     },
     "metadata": {},
     "output_type": "display_data"
    },
    {
     "data": {
      "image/png": "[encoded data removed]",
      "text/plain": [
       "<Figure size 576x396 with 1 Axes>"
      ]
     },
     "metadata": {},
     "output_type": "display_data"
    }
   ],
   "source": [
    "# 4 clusters \n",
    "plot_model(kmeans, plot = 'elbow')"
   ]
  },
  {
   "cell_type": "code",
   "execution_count": 27,
   "metadata": {},
   "outputs": [
    {
     "data": {
      "text/html": [
       "        <script type=\"text/javascript\">\n",
       "        window.PlotlyConfig = {MathJaxConfig: 'local'};\n",
       "        if (window.MathJax) {MathJax.Hub.Config({SVG: {font: \"STIX-Web\"}});}\n",
       "        if (typeof require !== 'undefined') {\n",
       "        require.undef(\"plotly\");\n",
       "        requirejs.config({\n",
       "            paths: {\n",
       "                'plotly': ['https://cdn.plot.ly/plotly-latest.min']\n",
       "            }\n",
       "        });\n",
       "        require(['plotly'], function(Plotly) {\n",
       "            window._Plotly = Plotly;\n",
       "        });\n",
       "        }\n",
       "        </script>\n",
       "        "
      ]
     },
     "metadata": {},
     "output_type": "display_data"
    },
    {
     "data": {
      "application/vnd.plotly.v1+json": {
       "config": {
        "plotlyServerURL": "https://plot.ly"
       },
       "data": [
        {
         "alignmentgroup": "True",
         "bingroup": "x",
         "hoverlabel": {
          "namelength": 0
         },
         "hovertemplate": "Cluster=%{x}<br>count=%{y}",
         "legendgroup": "Cluster=Cluster 0",
         "marker": {
          "color": "#636efa",
          "opacity": 0.7
         },
         "name": "Cluster=Cluster 0",
         "offsetgroup": "Cluster=Cluster 0",
         "orientation": "v",
         "showlegend": true,
         "type": "histogram",
         "x": [
          "Cluster 0",
          "Cluster 0",
          "Cluster 0",
          "Cluster 0",
          "Cluster 0",
          "Cluster 0",
          "Cluster 0",
          "Cluster 0",
          "Cluster 0",
          "Cluster 0",
          "Cluster 0",
          "Cluster 0",
          "Cluster 0",
          "Cluster 0",
          "Cluster 0",
          "Cluster 0",
          "Cluster 0",
          "Cluster 0",
          "Cluster 0",
          "Cluster 0",
          "Cluster 0",
          "Cluster 0",
          "Cluster 0",
          "Cluster 0",
          "Cluster 0",
          "Cluster 0",
          "Cluster 0",
          "Cluster 0",
          "Cluster 0",
          "Cluster 0",
          "Cluster 0",
          "Cluster 0",
          "Cluster 0",
          "Cluster 0",
          "Cluster 0",
          "Cluster 0",
          "Cluster 0",
          "Cluster 0",
          "Cluster 0",
          "Cluster 0",
          "Cluster 0",
          "Cluster 0",
          "Cluster 0",
          "Cluster 0",
          "Cluster 0",
          "Cluster 0",
          "Cluster 0",
          "Cluster 0",
          "Cluster 0",
          "Cluster 0",
          "Cluster 0",
          "Cluster 0",
          "Cluster 0",
          "Cluster 0",
          "Cluster 0",
          "Cluster 0",
          "Cluster 0",
          "Cluster 0",
          "Cluster 0",
          "Cluster 0",
          "Cluster 0",
          "Cluster 0",
          "Cluster 0",
          "Cluster 0",
          "Cluster 0",
          "Cluster 0",
          "Cluster 0",
          "Cluster 0",
          "Cluster 0",
          "Cluster 0",
          "Cluster 0",
          "Cluster 0",
          "Cluster 0",
          "Cluster 0",
          "Cluster 0",
          "Cluster 0",
          "Cluster 0",
          "Cluster 0",
          "Cluster 0",
          "Cluster 0",
          "Cluster 0",
          "Cluster 0",
          "Cluster 0",
          "Cluster 0",
          "Cluster 0",
          "Cluster 0",
          "Cluster 0",
          "Cluster 0",
          "Cluster 0",
          "Cluster 0",
          "Cluster 0",
          "Cluster 0",
          "Cluster 0",
          "Cluster 0",
          "Cluster 0",
          "Cluster 0",
          "Cluster 0",
          "Cluster 0",
          "Cluster 0",
          "Cluster 0",
          "Cluster 0",
          "Cluster 0",
          "Cluster 0",
          "Cluster 0",
          "Cluster 0",
          "Cluster 0",
          "Cluster 0",
          "Cluster 0",
          "Cluster 0",
          "Cluster 0",
          "Cluster 0",
          "Cluster 0",
          "Cluster 0",
          "Cluster 0",
          "Cluster 0",
          "Cluster 0",
          "Cluster 0",
          "Cluster 0",
          "Cluster 0",
          "Cluster 0",
          "Cluster 0"
         ],
         "xaxis": "x",
         "yaxis": "y"
        },
        {
         "alignmentgroup": "True",
         "customdata": [
          [
           "Angola",
           81.61,
           50,
           2,
           "Cluster 0"
          ],
          [
           "Bahrain",
           86.77,
           7532,
           12,
           "Cluster 0"
          ],
          [
           "Bulgaria",
           67.19,
           2292,
           116,
           "Cluster 0"
          ],
          [
           "Azerbaijan",
           86.24,
           3518,
           41,
           "Cluster 0"
          ],
          [
           "Australia",
           66.14,
           7068,
           99,
           "Cluster 0"
          ],
          [
           "Afghanistan",
           76.33,
           7653,
           178,
           "Cluster 0"
          ],
          [
           "Russia",
           71.71,
           299941,
           2837,
           "Cluster 0"
          ],
          [
           "Puerto Rico",
           97.35,
           2805,
           124,
           "Cluster 0"
          ],
          [
           "Guyana",
           82.27,
           125,
           10,
           "Cluster 0"
          ],
          [
           "Colombia",
           90.74,
           16935,
           613,
           "Cluster 0"
          ],
          [
           "Suriname",
           77.12,
           11,
           1,
           "Cluster 0"
          ],
          [
           "Denmark",
           75.52,
           11044,
           551,
           "Cluster 0"
          ],
          [
           "Costa Rica",
           74.99,
           882,
           10,
           "Cluster 0"
          ],
          [
           "Bhutan",
           78.3,
           21,
           0,
           "Cluster 0"
          ],
          [
           "Sierra Leone",
           77.64,
           534,
           33,
           "Cluster 0"
          ],
          [
           "Jordan",
           72.48,
           649,
           9,
           "Cluster 0"
          ],
          [
           "Iraq",
           84.39,
           3611,
           131,
           "Cluster 0"
          ],
          [
           "Cape Verde",
           82.41,
           335,
           3,
           "Cluster 0"
          ],
          [
           "Slovak Republic",
           78.96,
           1495,
           28,
           "Cluster 0"
          ],
          [
           "Eswatini",
           84.26,
           208,
           2,
           "Cluster 0"
          ],
          [
           "Chad",
           86.38,
           545,
           56,
           "Cluster 0"
          ],
          [
           "Thailand",
           80.56,
           3034,
           56,
           "Cluster 0"
          ],
          [
           "Trinidad and Tobago",
           93.38,
           116,
           8,
           "Cluster 0"
          ],
          [
           "Tunisia",
           87.96,
           1044,
           47,
           "Cluster 0"
          ],
          [
           "Bolivia",
           97.35,
           4481,
           189,
           "Cluster 0"
          ],
          [
           "Turkey",
           80.42,
           151615,
           4199,
           "Cluster 0"
          ],
          [
           "Uruguay",
           71.16,
           738,
           20,
           "Cluster 0"
          ],
          [
           "Uzbekistan",
           85.19,
           2880,
           13,
           "Cluster 0"
          ],
          [
           "Venezuela",
           86.24,
           749,
           10,
           "Cluster 0"
          ],
          [
           "Vietnam",
           69.18,
           324,
           0,
           "Cluster 0"
          ],
          [
           "South Africa",
           88.75,
           17200,
           312,
           "Cluster 0"
          ],
          [
           "Zimbabwe",
           91.4,
           46,
           4,
           "Cluster 0"
          ],
          [
           "Ukraine",
           92.06,
           18876,
           548,
           "Cluster 0"
          ],
          [
           "South Sudan",
           94.71,
           285,
           6,
           "Cluster 0"
          ],
          [
           "Central African Republic",
           69.97,
           411,
           0,
           "Cluster 0"
          ],
          [
           "Cuba",
           100,
           1887,
           79,
           "Cluster 0"
          ],
          [
           "Syria",
           80.43,
           58,
           3,
           "Cluster 0"
          ],
          [
           "Seychelles",
           65.87,
           11,
           0,
           "Cluster 0"
          ],
          [
           "San Marino",
           71.42,
           655,
           41,
           "Cluster 0"
          ],
          [
           "Sudan",
           86.38,
           2591,
           105,
           "Cluster 0"
          ],
          [
           "Rwanda",
           82.14,
           308,
           0,
           "Cluster 0"
          ],
          [
           "Palestine",
           97.35,
           570,
           4,
           "Cluster 0"
          ],
          [
           "Paraguay",
           96.03,
           829,
           11,
           "Cluster 0"
          ],
          [
           "Portugal",
           76.71,
           29432,
           1247,
           "Cluster 0"
          ],
          [
           "Poland",
           88.09,
           19268,
           948,
           "Cluster 0"
          ],
          [
           "Panama",
           81.61,
           9867,
           281,
           "Cluster 0"
          ],
          [
           "Pakistan",
           82.02,
           45898,
           985,
           "Cluster 0"
          ],
          [
           "Oman",
           85.19,
           5671,
           27,
           "Cluster 0"
          ],
          [
           "Malaysia",
           74.2,
           6978,
           114,
           "Cluster 0"
          ],
          [
           "Mauritius",
           84.78,
           332,
           10,
           "Cluster 0"
          ],
          [
           "Mongolia",
           67.99,
           140,
           0,
           "Cluster 0"
          ],
          [
           "Myanmar",
           79.24,
           193,
           6,
           "Cluster 0"
          ],
          [
           "Mexico",
           85.45,
           54346,
           5666,
           "Cluster 0"
          ],
          [
           "Dominica",
           80.95,
           16,
           0,
           "Cluster 0"
          ],
          [
           "Ecuador",
           85.85,
           34151,
           2839,
           "Cluster 0"
          ],
          [
           "Ethiopia",
           76.19,
           365,
           5,
           "Cluster 0"
          ],
          [
           "Guam",
           69.71,
           154,
           5,
           "Cluster 0"
          ],
          [
           "Hong Kong",
           67.85,
           1055,
           4,
           "Cluster 0"
          ],
          [
           "Croatia",
           66.53,
           2232,
           96,
           "Cluster 0"
          ],
          [
           "Congo",
           98.02,
           420,
           15,
           "Cluster 0"
          ],
          [
           "India",
           76.07,
           106750,
           3303,
           "Cluster 0"
          ],
          [
           "Kenya",
           94.18,
           963,
           50,
           "Cluster 0"
          ],
          [
           "Lebanon",
           84.12,
           954,
           26,
           "Cluster 0"
          ],
          [
           "Liberia",
           78.31,
           233,
           23,
           "Cluster 0"
          ],
          [
           "Libya",
           96.83,
           68,
           3,
           "Cluster 0"
          ],
          [
           "Sri Lanka",
           82.27,
           1027,
           9,
           "Cluster 0"
          ],
          [
           "Morocco",
           93.38,
           7023,
           193,
           "Cluster 0"
          ],
          [
           "Kazakhstan",
           79.37,
           6969,
           35,
           "Cluster 0"
          ],
          [
           "El Salvador",
           100,
           1498,
           31,
           "Cluster 0"
          ],
          [
           "Uganda",
           89.94,
           260,
           0,
           "Cluster 0"
          ],
          [
           "Kosovo",
           90.74,
           989,
           29,
           "Cluster 0"
          ],
          [
           "Chile",
           78.83,
           49579,
           509,
           "Cluster 0"
          ],
          [
           "China",
           64.44,
           84065,
           4638,
           "Cluster 0"
          ],
          [
           "Algeria",
           82.42,
           7377,
           561,
           "Cluster 0"
          ],
          [
           "Lesotho",
           72.87,
           1,
           0,
           "Cluster 0"
          ],
          [
           "Kuwait",
           100,
           16764,
           121,
           "Cluster 0"
          ],
          [
           "Kyrgyz Republic",
           78.85,
           1270,
           14,
           "Cluster 0"
          ],
          [
           "Jamaica",
           74.2,
           520,
           9,
           "Cluster 0"
          ],
          [
           "Israel",
           82.93,
           16650,
           277,
           "Cluster 0"
          ],
          [
           "Cameroon",
           67.85,
           3529,
           140,
           "Cluster 0"
          ],
          [
           "Democratic Republic of Congo",
           80.04,
           1731,
           61,
           "Cluster 0"
          ],
          [
           "Ireland",
           87.83,
           24251,
           1561,
           "Cluster 0"
          ],
          [
           "Indonesia",
           70.91,
           18496,
           1221,
           "Cluster 0"
          ],
          [
           "Cyprus",
           94.18,
           918,
           17,
           "Cluster 0"
          ],
          [
           "Singapore",
           85.18,
           28794,
           22,
           "Cluster 0"
          ],
          [
           "Honduras",
           100,
           2955,
           147,
           "Cluster 0"
          ],
          [
           "Guatemala",
           97.35,
           2133,
           43,
           "Cluster 0"
          ],
          [
           "Greenland",
           80.95,
           11,
           0,
           "Cluster 0"
          ],
          [
           "Greece",
           74.34,
           2840,
           165,
           "Cluster 0"
          ],
          [
           "Gambia",
           84.78,
           24,
           1,
           "Cluster 0"
          ],
          [
           "Ghana",
           66.53,
           6096,
           31,
           "Cluster 0"
          ],
          [
           "Georgia",
           94.18,
           707,
           12,
           "Cluster 0"
          ],
          [
           "Gabon",
           86.24,
           1502,
           12,
           "Cluster 0"
          ],
          [
           "Finland",
           65.74,
           6399,
           301,
           "Cluster 0"
          ],
          [
           "Germany",
           71.44,
           176007,
           8090,
           "Cluster 0"
          ],
          [
           "Egypt",
           88.75,
           13484,
           659,
           "Cluster 0"
          ],
          [
           "Switzerland",
           71.55,
           30535,
           1613,
           "Cluster 0"
          ],
          [
           "Canada",
           67.74,
           79101,
           5912,
           "Cluster 0"
          ],
          [
           "Cote d'Ivoire",
           70.25,
           2153,
           28,
           "Cluster 0"
          ],
          [
           "Botswana",
           78.05,
           25,
           1,
           "Cluster 0"
          ],
          [
           "Albania",
           88.36,
           949,
           31,
           "Cluster 0"
          ],
          [
           "United Arab Emirates",
           77.78,
           25063,
           227,
           "Cluster 0"
          ],
          [
           "Saudi Arabia",
           87.84,
           59854,
           329,
           "Cluster 0"
          ],
          [
           "Romania",
           76.98,
           17191,
           1126,
           "Cluster 0"
          ],
          [
           "Qatar",
           90.74,
           35606,
           15,
           "Cluster 0"
          ],
          [
           "Argentina",
           91.54,
           8796,
           393,
           "Cluster 0"
          ],
          [
           "Philippines",
           94.58,
           12942,
           837,
           "Cluster 0"
          ],
          [
           "Peru",
           97.35,
           99483,
           2914,
           "Cluster 0"
          ],
          [
           "Nepal",
           95.24,
           402,
           2,
           "Cluster 0"
          ],
          [
           "Luxembourg",
           65.73,
           3958,
           109,
           "Cluster 0"
          ],
          [
           "Netherlands",
           76.71,
           44249,
           5715,
           "Cluster 0"
          ],
          [
           "Belgium",
           75.26,
           55791,
           9108,
           "Cluster 0"
          ],
          [
           "Nigeria",
           76.59,
           6401,
           192,
           "Cluster 0"
          ],
          [
           "Dominican Republic",
           98.02,
           13223,
           441,
           "Cluster 0"
          ],
          [
           "Bangladesh",
           91.93,
           25121,
           370,
           "Cluster 0"
          ],
          [
           "Bosnia and Herzegovina",
           81.22,
           2319,
           133,
           "Cluster 0"
          ],
          [
           "Moldova",
           84.92,
           6340,
           221,
           "Cluster 0"
          ],
          [
           "Belize",
           87.04,
           18,
           2,
           "Cluster 0"
          ],
          [
           "Mali",
           76.19,
           901,
           53,
           "Cluster 0"
          ],
          [
           "Bermuda",
           80.15,
           125,
           9,
           "Cluster 0"
          ],
          [
           "Barbados",
           71.42,
           90,
           7,
           "Cluster 0"
          ]
         ],
         "hoverlabel": {
          "namelength": 0
         },
         "hovertemplate": "Cluster=%{customdata[4]}<br>country_name=%{customdata[0]}<br>stringency_index=%{customdata[1]}<br>confirmed_cases=%{customdata[2]}<br>deaths=%{customdata[3]}",
         "legendgroup": "Cluster=Cluster 0",
         "marker": {
          "color": "#636efa"
         },
         "name": "Cluster=Cluster 0",
         "notched": true,
         "offsetgroup": "Cluster=Cluster 0",
         "showlegend": false,
         "type": "box",
         "x": [
          "Cluster 0",
          "Cluster 0",
          "Cluster 0",
          "Cluster 0",
          "Cluster 0",
          "Cluster 0",
          "Cluster 0",
          "Cluster 0",
          "Cluster 0",
          "Cluster 0",
          "Cluster 0",
          "Cluster 0",
          "Cluster 0",
          "Cluster 0",
          "Cluster 0",
          "Cluster 0",
          "Cluster 0",
          "Cluster 0",
          "Cluster 0",
          "Cluster 0",
          "Cluster 0",
          "Cluster 0",
          "Cluster 0",
          "Cluster 0",
          "Cluster 0",
          "Cluster 0",
          "Cluster 0",
          "Cluster 0",
          "Cluster 0",
          "Cluster 0",
          "Cluster 0",
          "Cluster 0",
          "Cluster 0",
          "Cluster 0",
          "Cluster 0",
          "Cluster 0",
          "Cluster 0",
          "Cluster 0",
          "Cluster 0",
          "Cluster 0",
          "Cluster 0",
          "Cluster 0",
          "Cluster 0",
          "Cluster 0",
          "Cluster 0",
          "Cluster 0",
          "Cluster 0",
          "Cluster 0",
          "Cluster 0",
          "Cluster 0",
          "Cluster 0",
          "Cluster 0",
          "Cluster 0",
          "Cluster 0",
          "Cluster 0",
          "Cluster 0",
          "Cluster 0",
          "Cluster 0",
          "Cluster 0",
          "Cluster 0",
          "Cluster 0",
          "Cluster 0",
          "Cluster 0",
          "Cluster 0",
          "Cluster 0",
          "Cluster 0",
          "Cluster 0",
          "Cluster 0",
          "Cluster 0",
          "Cluster 0",
          "Cluster 0",
          "Cluster 0",
          "Cluster 0",
          "Cluster 0",
          "Cluster 0",
          "Cluster 0",
          "Cluster 0",
          "Cluster 0",
          "Cluster 0",
          "Cluster 0",
          "Cluster 0",
          "Cluster 0",
          "Cluster 0",
          "Cluster 0",
          "Cluster 0",
          "Cluster 0",
          "Cluster 0",
          "Cluster 0",
          "Cluster 0",
          "Cluster 0",
          "Cluster 0",
          "Cluster 0",
          "Cluster 0",
          "Cluster 0",
          "Cluster 0",
          "Cluster 0",
          "Cluster 0",
          "Cluster 0",
          "Cluster 0",
          "Cluster 0",
          "Cluster 0",
          "Cluster 0",
          "Cluster 0",
          "Cluster 0",
          "Cluster 0",
          "Cluster 0",
          "Cluster 0",
          "Cluster 0",
          "Cluster 0",
          "Cluster 0",
          "Cluster 0",
          "Cluster 0",
          "Cluster 0",
          "Cluster 0",
          "Cluster 0",
          "Cluster 0",
          "Cluster 0",
          "Cluster 0",
          "Cluster 0",
          "Cluster 0",
          "Cluster 0"
         ],
         "xaxis": "x2",
         "yaxis": "y2"
        },
        {
         "alignmentgroup": "True",
         "bingroup": "x",
         "hoverlabel": {
          "namelength": 0
         },
         "hovertemplate": "Cluster=%{x}<br>count=%{y}",
         "legendgroup": "Cluster=Cluster 1",
         "marker": {
          "color": "#EF553B",
          "opacity": 0.7
         },
         "name": "Cluster=Cluster 1",
         "offsetgroup": "Cluster=Cluster 1",
         "orientation": "v",
         "showlegend": true,
         "type": "histogram",
         "x": [
          "Cluster 1"
         ],
         "xaxis": "x",
         "yaxis": "y"
        },
        {
         "alignmentgroup": "True",
         "customdata": [
          [
           "United States",
           68.41,
           1528568,
           91921,
           "Cluster 1"
          ]
         ],
         "hoverlabel": {
          "namelength": 0
         },
         "hovertemplate": "Cluster=%{customdata[4]}<br>country_name=%{customdata[0]}<br>stringency_index=%{customdata[1]}<br>confirmed_cases=%{customdata[2]}<br>deaths=%{customdata[3]}",
         "legendgroup": "Cluster=Cluster 1",
         "marker": {
          "color": "#EF553B"
         },
         "name": "Cluster=Cluster 1",
         "notched": true,
         "offsetgroup": "Cluster=Cluster 1",
         "showlegend": false,
         "type": "box",
         "x": [
          "Cluster 1"
         ],
         "xaxis": "x2",
         "yaxis": "y2"
        },
        {
         "alignmentgroup": "True",
         "bingroup": "x",
         "hoverlabel": {
          "namelength": 0
         },
         "hovertemplate": "Cluster=%{x}<br>count=%{y}",
         "legendgroup": "Cluster=Cluster 2",
         "marker": {
          "color": "#00cc96",
          "opacity": 0.7
         },
         "name": "Cluster=Cluster 2",
         "offsetgroup": "Cluster=Cluster 2",
         "orientation": "v",
         "showlegend": true,
         "type": "histogram",
         "x": [
          "Cluster 2",
          "Cluster 2",
          "Cluster 2",
          "Cluster 2",
          "Cluster 2"
         ],
         "xaxis": "x",
         "yaxis": "y"
        },
        {
         "alignmentgroup": "True",
         "customdata": [
          [
           "Italy",
           68.78,
           226699,
           32169,
           "Cluster 2"
          ],
          [
           "Brazil",
           75.15,
           271628,
           17971,
           "Cluster 2"
          ],
          [
           "United Kingdom",
           73.01,
           248818,
           35341,
           "Cluster 2"
          ],
          [
           "France",
           83.46,
           143427,
           28022,
           "Cluster 2"
          ],
          [
           "Spain",
           83.07,
           232555,
           27888,
           "Cluster 2"
          ]
         ],
         "hoverlabel": {
          "namelength": 0
         },
         "hovertemplate": "Cluster=%{customdata[4]}<br>country_name=%{customdata[0]}<br>stringency_index=%{customdata[1]}<br>confirmed_cases=%{customdata[2]}<br>deaths=%{customdata[3]}",
         "legendgroup": "Cluster=Cluster 2",
         "marker": {
          "color": "#00cc96"
         },
         "name": "Cluster=Cluster 2",
         "notched": true,
         "offsetgroup": "Cluster=Cluster 2",
         "showlegend": false,
         "type": "box",
         "x": [
          "Cluster 2",
          "Cluster 2",
          "Cluster 2",
          "Cluster 2",
          "Cluster 2"
         ],
         "xaxis": "x2",
         "yaxis": "y2"
        },
        {
         "alignmentgroup": "True",
         "bingroup": "x",
         "hoverlabel": {
          "namelength": 0
         },
         "hovertemplate": "Cluster=%{x}<br>count=%{y}",
         "legendgroup": "Cluster=Cluster 3",
         "marker": {
          "color": "#ab63fa",
          "opacity": 0.7
         },
         "name": "Cluster=Cluster 3",
         "offsetgroup": "Cluster=Cluster 3",
         "orientation": "v",
         "showlegend": true,
         "type": "histogram",
         "x": [
          "Cluster 3",
          "Cluster 3",
          "Cluster 3",
          "Cluster 3",
          "Cluster 3",
          "Cluster 3",
          "Cluster 3",
          "Cluster 3",
          "Cluster 3",
          "Cluster 3",
          "Cluster 3",
          "Cluster 3",
          "Cluster 3",
          "Cluster 3",
          "Cluster 3",
          "Cluster 3",
          "Cluster 3",
          "Cluster 3",
          "Cluster 3",
          "Cluster 3",
          "Cluster 3",
          "Cluster 3",
          "Cluster 3",
          "Cluster 3",
          "Cluster 3",
          "Cluster 3",
          "Cluster 3",
          "Cluster 3",
          "Cluster 3",
          "Cluster 3",
          "Cluster 3",
          "Cluster 3",
          "Cluster 3",
          "Cluster 3",
          "Cluster 3",
          "Cluster 3",
          "Cluster 3",
          "Cluster 3"
         ],
         "xaxis": "x",
         "yaxis": "y"
        },
        {
         "alignmentgroup": "True",
         "customdata": [
          [
           "Norway",
           58.07,
           8257,
           233,
           "Cluster 3"
          ],
          [
           "Laos",
           56.22,
           19,
           0,
           "Cluster 3"
          ],
          [
           "Burkina Faso",
           62.04,
           806,
           52,
           "Cluster 3"
          ],
          [
           "Macao",
           39.02,
           45,
           0,
           "Cluster 3"
          ],
          [
           "Belarus",
           15.47,
           31508,
           175,
           "Cluster 3"
          ],
          [
           "Burundi",
           22.22,
           42,
           1,
           "Cluster 3"
          ],
          [
           "Slovenia",
           61.25,
           1467,
           104,
           "Cluster 3"
          ],
          [
           "Czech Republic",
           59.65,
           8647,
           302,
           "Cluster 3"
          ],
          [
           "Somalia",
           59.39,
           1502,
           59,
           "Cluster 3"
          ],
          [
           "Estonia",
           41.54,
           1791,
           64,
           "Cluster 3"
          ],
          [
           "Serbia",
           56.87,
           10733,
           234,
           "Cluster 3"
          ],
          [
           "Senegal",
           62.7,
           2617,
           30,
           "Cluster 3"
          ],
          [
           "Sweden",
           47.35,
           30799,
           3743,
           "Cluster 3"
          ],
          [
           "Papua New Guinea",
           43.66,
           8,
           0,
           "Cluster 3"
          ],
          [
           "Tanzania",
           50.4,
           509,
           21,
           "Cluster 3"
          ],
          [
           "Nicaragua",
           11.11,
           25,
           8,
           "Cluster 3"
          ],
          [
           "Niger",
           33.33,
           914,
           55,
           "Cluster 3"
          ],
          [
           "Namibia",
           61.24,
           712,
           7,
           "Cluster 3"
          ],
          [
           "Yemen",
           54.23,
           167,
           28,
           "Cluster 3"
          ],
          [
           "Malawi",
           59.26,
           71,
           3,
           "Cluster 3"
          ],
          [
           "Zambia",
           45.37,
           772,
           7,
           "Cluster 3"
          ],
          [
           "Mozambique",
           53.83,
           146,
           0,
           "Cluster 3"
          ],
          [
           "Iceland",
           56.61,
           1802,
           10,
           "Cluster 3"
          ],
          [
           "Taiwan",
           29.36,
           440,
           7,
           "Cluster 3"
          ],
          [
           "New Zealand",
           38.49,
           1153,
           21,
           "Cluster 3"
          ],
          [
           "Aruba",
           47.48,
           101,
           3,
           "Cluster 3"
          ],
          [
           "Lithuania",
           0,
           1562,
           60,
           "Cluster 3"
          ],
          [
           "Japan",
           43.79,
           16385,
           771,
           "Cluster 3"
          ],
          [
           "Andorra",
           56.34,
           761,
           51,
           "Cluster 3"
          ],
          [
           "Brunei",
           56.74,
           141,
           1,
           "Cluster 3"
          ],
          [
           "South Korea",
           43.51,
           11110,
           263,
           "Cluster 3"
          ],
          [
           "Iran",
           47.23,
           124603,
           7119,
           "Cluster 3"
          ],
          [
           "Solomon Islands",
           50.41,
           0,
           0,
           "Cluster 3"
          ],
          [
           "Austria",
           56.34,
           16257,
           632,
           "Cluster 3"
          ],
          [
           "Hungary",
           59.53,
           3598,
           470,
           "Cluster 3"
          ],
          [
           "Djibouti",
           61.37,
           1518,
           7,
           "Cluster 3"
          ],
          [
           "Madagascar",
           64.43,
           326,
           2,
           "Cluster 3"
          ],
          [
           "Benin",
           48.15,
           130,
           2,
           "Cluster 3"
          ]
         ],
         "hoverlabel": {
          "namelength": 0
         },
         "hovertemplate": "Cluster=%{customdata[4]}<br>country_name=%{customdata[0]}<br>stringency_index=%{customdata[1]}<br>confirmed_cases=%{customdata[2]}<br>deaths=%{customdata[3]}",
         "legendgroup": "Cluster=Cluster 3",
         "marker": {
          "color": "#ab63fa"
         },
         "name": "Cluster=Cluster 3",
         "notched": true,
         "offsetgroup": "Cluster=Cluster 3",
         "showlegend": false,
         "type": "box",
         "x": [
          "Cluster 3",
          "Cluster 3",
          "Cluster 3",
          "Cluster 3",
          "Cluster 3",
          "Cluster 3",
          "Cluster 3",
          "Cluster 3",
          "Cluster 3",
          "Cluster 3",
          "Cluster 3",
          "Cluster 3",
          "Cluster 3",
          "Cluster 3",
          "Cluster 3",
          "Cluster 3",
          "Cluster 3",
          "Cluster 3",
          "Cluster 3",
          "Cluster 3",
          "Cluster 3",
          "Cluster 3",
          "Cluster 3",
          "Cluster 3",
          "Cluster 3",
          "Cluster 3",
          "Cluster 3",
          "Cluster 3",
          "Cluster 3",
          "Cluster 3",
          "Cluster 3",
          "Cluster 3",
          "Cluster 3",
          "Cluster 3",
          "Cluster 3",
          "Cluster 3",
          "Cluster 3",
          "Cluster 3"
         ],
         "xaxis": "x2",
         "yaxis": "y2"
        }
       ],
       "layout": {
        "barmode": "relative",
        "legend": {
         "tracegroupgap": 0
        },
        "margin": {
         "t": 60
        },
        "template": {
         "data": {
          "bar": [
           {
            "error_x": {
             "color": "#2a3f5f"
            },
            "error_y": {
             "color": "#2a3f5f"
            },
            "marker": {
             "line": {
              "color": "#E5ECF6",
              "width": 0.5
             }
            },
            "type": "bar"
           }
          ],
          "barpolar": [
           {
            "marker": {
             "line": {
              "color": "#E5ECF6",
              "width": 0.5
             }
            },
            "type": "barpolar"
           }
          ],
          "carpet": [
           {
            "aaxis": {
             "endlinecolor": "#2a3f5f",
             "gridcolor": "white",
             "linecolor": "white",
             "minorgridcolor": "white",
             "startlinecolor": "#2a3f5f"
            },
            "baxis": {
             "endlinecolor": "#2a3f5f",
             "gridcolor": "white",
             "linecolor": "white",
             "minorgridcolor": "white",
             "startlinecolor": "#2a3f5f"
            },
            "type": "carpet"
           }
          ],
          "choropleth": [
           {
            "colorbar": {
             "outlinewidth": 0,
             "ticks": ""
            },
            "type": "choropleth"
           }
          ],
          "contour": [
           {
            "colorbar": {
             "outlinewidth": 0,
             "ticks": ""
            },
            "colorscale": [
             [
              0,
              "#0d0887"
             ],
             [
              0.1111111111111111,
              "#46039f"
             ],
             [
              0.2222222222222222,
              "#7201a8"
             ],
             [
              0.3333333333333333,
              "#9c179e"
             ],
             [
              0.4444444444444444,
              "#bd3786"
             ],
             [
              0.5555555555555556,
              "#d8576b"
             ],
             [
              0.6666666666666666,
              "#ed7953"
             ],
             [
              0.7777777777777778,
              "#fb9f3a"
             ],
             [
              0.8888888888888888,
              "#fdca26"
             ],
             [
              1,
              "#f0f921"
             ]
            ],
            "type": "contour"
           }
          ],
          "contourcarpet": [
           {
            "colorbar": {
             "outlinewidth": 0,
             "ticks": ""
            },
            "type": "contourcarpet"
           }
          ],
          "heatmap": [
           {
            "colorbar": {
             "outlinewidth": 0,
             "ticks": ""
            },
            "colorscale": [
             [
              0,
              "#0d0887"
             ],
             [
              0.1111111111111111,
              "#46039f"
             ],
             [
              0.2222222222222222,
              "#7201a8"
             ],
             [
              0.3333333333333333,
              "#9c179e"
             ],
             [
              0.4444444444444444,
              "#bd3786"
             ],
             [
              0.5555555555555556,
              "#d8576b"
             ],
             [
              0.6666666666666666,
              "#ed7953"
             ],
             [
              0.7777777777777778,
              "#fb9f3a"
             ],
             [
              0.8888888888888888,
              "#fdca26"
             ],
             [
              1,
              "#f0f921"
             ]
            ],
            "type": "heatmap"
           }
          ],
          "heatmapgl": [
           {
            "colorbar": {
             "outlinewidth": 0,
             "ticks": ""
            },
            "colorscale": [
             [
              0,
              "#0d0887"
             ],
             [
              0.1111111111111111,
              "#46039f"
             ],
             [
              0.2222222222222222,
              "#7201a8"
             ],
             [
              0.3333333333333333,
              "#9c179e"
             ],
             [
              0.4444444444444444,
              "#bd3786"
             ],
             [
              0.5555555555555556,
              "#d8576b"
             ],
             [
              0.6666666666666666,
              "#ed7953"
             ],
             [
              0.7777777777777778,
              "#fb9f3a"
             ],
             [
              0.8888888888888888,
              "#fdca26"
             ],
             [
              1,
              "#f0f921"
             ]
            ],
            "type": "heatmapgl"
           }
          ],
          "histogram": [
           {
            "marker": {
             "colorbar": {
              "outlinewidth": 0,
              "ticks": ""
             }
            },
            "type": "histogram"
           }
          ],
          "histogram2d": [
           {
            "colorbar": {
             "outlinewidth": 0,
             "ticks": ""
            },
            "colorscale": [
             [
              0,
              "#0d0887"
             ],
             [
              0.1111111111111111,
              "#46039f"
             ],
             [
              0.2222222222222222,
              "#7201a8"
             ],
             [
              0.3333333333333333,
              "#9c179e"
             ],
             [
              0.4444444444444444,
              "#bd3786"
             ],
             [
              0.5555555555555556,
              "#d8576b"
             ],
             [
              0.6666666666666666,
              "#ed7953"
             ],
             [
              0.7777777777777778,
              "#fb9f3a"
             ],
             [
              0.8888888888888888,
              "#fdca26"
             ],
             [
              1,
              "#f0f921"
             ]
            ],
            "type": "histogram2d"
           }
          ],
          "histogram2dcontour": [
           {
            "colorbar": {
             "outlinewidth": 0,
             "ticks": ""
            },
            "colorscale": [
             [
              0,
              "#0d0887"
             ],
             [
              0.1111111111111111,
              "#46039f"
             ],
             [
              0.2222222222222222,
              "#7201a8"
             ],
             [
              0.3333333333333333,
              "#9c179e"
             ],
             [
              0.4444444444444444,
              "#bd3786"
             ],
             [
              0.5555555555555556,
              "#d8576b"
             ],
             [
              0.6666666666666666,
              "#ed7953"
             ],
             [
              0.7777777777777778,
              "#fb9f3a"
             ],
             [
              0.8888888888888888,
              "#fdca26"
             ],
             [
              1,
              "#f0f921"
             ]
            ],
            "type": "histogram2dcontour"
           }
          ],
          "mesh3d": [
           {
            "colorbar": {
             "outlinewidth": 0,
             "ticks": ""
            },
            "type": "mesh3d"
           }
          ],
          "parcoords": [
           {
            "line": {
             "colorbar": {
              "outlinewidth": 0,
              "ticks": ""
             }
            },
            "type": "parcoords"
           }
          ],
          "pie": [
           {
            "automargin": true,
            "type": "pie"
           }
          ],
          "scatter": [
           {
            "marker": {
             "colorbar": {
              "outlinewidth": 0,
              "ticks": ""
             }
            },
            "type": "scatter"
           }
          ],
          "scatter3d": [
           {
            "line": {
             "colorbar": {
              "outlinewidth": 0,
              "ticks": ""
             }
            },
            "marker": {
             "colorbar": {
              "outlinewidth": 0,
              "ticks": ""
             }
            },
            "type": "scatter3d"
           }
          ],
          "scattercarpet": [
           {
            "marker": {
             "colorbar": {
              "outlinewidth": 0,
              "ticks": ""
             }
            },
            "type": "scattercarpet"
           }
          ],
          "scattergeo": [
           {
            "marker": {
             "colorbar": {
              "outlinewidth": 0,
              "ticks": ""
             }
            },
            "type": "scattergeo"
           }
          ],
          "scattergl": [
           {
            "marker": {
             "colorbar": {
              "outlinewidth": 0,
              "ticks": ""
             }
            },
            "type": "scattergl"
           }
          ],
          "scattermapbox": [
           {
            "marker": {
             "colorbar": {
              "outlinewidth": 0,
              "ticks": ""
             }
            },
            "type": "scattermapbox"
           }
          ],
          "scatterpolar": [
           {
            "marker": {
             "colorbar": {
              "outlinewidth": 0,
              "ticks": ""
             }
            },
            "type": "scatterpolar"
           }
          ],
          "scatterpolargl": [
           {
            "marker": {
             "colorbar": {
              "outlinewidth": 0,
              "ticks": ""
             }
            },
            "type": "scatterpolargl"
           }
          ],
          "scatterternary": [
           {
            "marker": {
             "colorbar": {
              "outlinewidth": 0,
              "ticks": ""
             }
            },
            "type": "scatterternary"
           }
          ],
          "surface": [
           {
            "colorbar": {
             "outlinewidth": 0,
             "ticks": ""
            },
            "colorscale": [
             [
              0,
              "#0d0887"
             ],
             [
              0.1111111111111111,
              "#46039f"
             ],
             [
              0.2222222222222222,
              "#7201a8"
             ],
             [
              0.3333333333333333,
              "#9c179e"
             ],
             [
              0.4444444444444444,
              "#bd3786"
             ],
             [
              0.5555555555555556,
              "#d8576b"
             ],
             [
              0.6666666666666666,
              "#ed7953"
             ],
             [
              0.7777777777777778,
              "#fb9f3a"
             ],
             [
              0.8888888888888888,
              "#fdca26"
             ],
             [
              1,
              "#f0f921"
             ]
            ],
            "type": "surface"
           }
          ],
          "table": [
           {
            "cells": {
             "fill": {
              "color": "#EBF0F8"
             },
             "line": {
              "color": "white"
             }
            },
            "header": {
             "fill": {
              "color": "#C8D4E3"
             },
             "line": {
              "color": "white"
             }
            },
            "type": "table"
           }
          ]
         },
         "layout": {
          "annotationdefaults": {
           "arrowcolor": "#2a3f5f",
           "arrowhead": 0,
           "arrowwidth": 1
          },
          "coloraxis": {
           "colorbar": {
            "outlinewidth": 0,
            "ticks": ""
           }
          },
          "colorscale": {
           "diverging": [
            [
             0,
             "#8e0152"
            ],
            [
             0.1,
             "#c51b7d"
            ],
            [
             0.2,
             "#de77ae"
            ],
            [
             0.3,
             "#f1b6da"
            ],
            [
             0.4,
             "#fde0ef"
            ],
            [
             0.5,
             "#f7f7f7"
            ],
            [
             0.6,
             "#e6f5d0"
            ],
            [
             0.7,
             "#b8e186"
            ],
            [
             0.8,
             "#7fbc41"
            ],
            [
             0.9,
             "#4d9221"
            ],
            [
             1,
             "#276419"
            ]
           ],
           "sequential": [
            [
             0,
             "#0d0887"
            ],
            [
             0.1111111111111111,
             "#46039f"
            ],
            [
             0.2222222222222222,
             "#7201a8"
            ],
            [
             0.3333333333333333,
             "#9c179e"
            ],
            [
             0.4444444444444444,
             "#bd3786"
            ],
            [
             0.5555555555555556,
             "#d8576b"
            ],
            [
             0.6666666666666666,
             "#ed7953"
            ],
            [
             0.7777777777777778,
             "#fb9f3a"
            ],
            [
             0.8888888888888888,
             "#fdca26"
            ],
            [
             1,
             "#f0f921"
            ]
           ],
           "sequentialminus": [
            [
             0,
             "#0d0887"
            ],
            [
             0.1111111111111111,
             "#46039f"
            ],
            [
             0.2222222222222222,
             "#7201a8"
            ],
            [
             0.3333333333333333,
             "#9c179e"
            ],
            [
             0.4444444444444444,
             "#bd3786"
            ],
            [
             0.5555555555555556,
             "#d8576b"
            ],
            [
             0.6666666666666666,
             "#ed7953"
            ],
            [
             0.7777777777777778,
             "#fb9f3a"
            ],
            [
             0.8888888888888888,
             "#fdca26"
            ],
            [
             1,
             "#f0f921"
            ]
           ]
          },
          "colorway": [
           "#636efa",
           "#EF553B",
           "#00cc96",
           "#ab63fa",
           "#FFA15A",
           "#19d3f3",
           "#FF6692",
           "#B6E880",
           "#FF97FF",
           "#FECB52"
          ],
          "font": {
           "color": "#2a3f5f"
          },
          "geo": {
           "bgcolor": "white",
           "lakecolor": "white",
           "landcolor": "#E5ECF6",
           "showlakes": true,
           "showland": true,
           "subunitcolor": "white"
          },
          "hoverlabel": {
           "align": "left"
          },
          "hovermode": "closest",
          "mapbox": {
           "style": "light"
          },
          "paper_bgcolor": "white",
          "plot_bgcolor": "#E5ECF6",
          "polar": {
           "angularaxis": {
            "gridcolor": "white",
            "linecolor": "white",
            "ticks": ""
           },
           "bgcolor": "#E5ECF6",
           "radialaxis": {
            "gridcolor": "white",
            "linecolor": "white",
            "ticks": ""
           }
          },
          "scene": {
           "xaxis": {
            "backgroundcolor": "#E5ECF6",
            "gridcolor": "white",
            "gridwidth": 2,
            "linecolor": "white",
            "showbackground": true,
            "ticks": "",
            "zerolinecolor": "white"
           },
           "yaxis": {
            "backgroundcolor": "#E5ECF6",
            "gridcolor": "white",
            "gridwidth": 2,
            "linecolor": "white",
            "showbackground": true,
            "ticks": "",
            "zerolinecolor": "white"
           },
           "zaxis": {
            "backgroundcolor": "#E5ECF6",
            "gridcolor": "white",
            "gridwidth": 2,
            "linecolor": "white",
            "showbackground": true,
            "ticks": "",
            "zerolinecolor": "white"
           }
          },
          "shapedefaults": {
           "line": {
            "color": "#2a3f5f"
           }
          },
          "ternary": {
           "aaxis": {
            "gridcolor": "white",
            "linecolor": "white",
            "ticks": ""
           },
           "baxis": {
            "gridcolor": "white",
            "linecolor": "white",
            "ticks": ""
           },
           "bgcolor": "#E5ECF6",
           "caxis": {
            "gridcolor": "white",
            "linecolor": "white",
            "ticks": ""
           }
          },
          "title": {
           "x": 0.05
          },
          "xaxis": {
           "automargin": true,
           "gridcolor": "white",
           "linecolor": "white",
           "ticks": "",
           "title": {
            "standoff": 15
           },
           "zerolinecolor": "white",
           "zerolinewidth": 2
          },
          "yaxis": {
           "automargin": true,
           "gridcolor": "white",
           "linecolor": "white",
           "ticks": "",
           "title": {
            "standoff": 15
           },
           "zerolinecolor": "white",
           "zerolinewidth": 2
          }
         }
        },
        "xaxis": {
         "anchor": "y",
         "categoryarray": [
          "Cluster 0",
          "Cluster 1",
          "Cluster 2",
          "Cluster 3"
         ],
         "categoryorder": "array",
         "domain": [
          0,
          1
         ],
         "title": {
          "text": "Cluster"
         }
        },
        "xaxis2": {
         "anchor": "y2",
         "domain": [
          0,
          1
         ],
         "matches": "x",
         "showgrid": true,
         "showticklabels": false
        },
        "yaxis": {
         "anchor": "x",
         "domain": [
          0,
          0.7326
         ],
         "title": {
          "text": "count"
         }
        },
        "yaxis2": {
         "anchor": "x2",
         "domain": [
          0.7426,
          1
         ],
         "matches": "y2",
         "showgrid": false,
         "showline": false,
         "showticklabels": false,
         "ticks": ""
        }
       }
      },
      "text/html": [
       "<div>\n",
       "        \n",
       "        \n",
       "            <div id=\"18750763-a97b-4d29-922e-a057f9bf6d36\" class=\"plotly-graph-div\" style=\"height:525px; width:100%;\"></div>\n",
       "            <script type=\"text/javascript\">\n",
       "                require([\"plotly\"], function(Plotly) {\n",
       "                    window.PLOTLYENV=window.PLOTLYENV || {};\n",
       "                    \n",
       "                if (document.getElementById(\"18750763-a97b-4d29-922e-a057f9bf6d36\")) {\n",
       "                    Plotly.newPlot(\n",
       "                        '18750763-a97b-4d29-922e-a057f9bf6d36',\n",
       "                        [{\"alignmentgroup\": \"True\", \"bingroup\": \"x\", \"hoverlabel\": {\"namelength\": 0}, \"hovertemplate\": \"Cluster=%{x}<br>count=%{y}\", \"legendgroup\": \"Cluster=Cluster 0\", \"marker\": {\"color\": \"#636efa\", \"opacity\": 0.7}, \"name\": \"Cluster=Cluster 0\", \"offsetgroup\": \"Cluster=Cluster 0\", \"orientation\": \"v\", \"showlegend\": true, \"type\": \"histogram\", \"x\": [\"Cluster 0\", \"Cluster 0\", \"Cluster 0\", \"Cluster 0\", \"Cluster 0\", \"Cluster 0\", \"Cluster 0\", \"Cluster 0\", \"Cluster 0\", \"Cluster 0\", \"Cluster 0\", \"Cluster 0\", \"Cluster 0\", \"Cluster 0\", \"Cluster 0\", \"Cluster 0\", \"Cluster 0\", \"Cluster 0\", \"Cluster 0\", \"Cluster 0\", \"Cluster 0\", \"Cluster 0\", \"Cluster 0\", \"Cluster 0\", \"Cluster 0\", \"Cluster 0\", \"Cluster 0\", \"Cluster 0\", \"Cluster 0\", \"Cluster 0\", \"Cluster 0\", \"Cluster 0\", \"Cluster 0\", \"Cluster 0\", \"Cluster 0\", \"Cluster 0\", \"Cluster 0\", \"Cluster 0\", \"Cluster 0\", \"Cluster 0\", \"Cluster 0\", \"Cluster 0\", \"Cluster 0\", \"Cluster 0\", \"Cluster 0\", \"Cluster 0\", \"Cluster 0\", \"Cluster 0\", \"Cluster 0\", \"Cluster 0\", \"Cluster 0\", \"Cluster 0\", \"Cluster 0\", \"Cluster 0\", \"Cluster 0\", \"Cluster 0\", \"Cluster 0\", \"Cluster 0\", \"Cluster 0\", \"Cluster 0\", \"Cluster 0\", \"Cluster 0\", \"Cluster 0\", \"Cluster 0\", \"Cluster 0\", \"Cluster 0\", \"Cluster 0\", \"Cluster 0\", \"Cluster 0\", \"Cluster 0\", \"Cluster 0\", \"Cluster 0\", \"Cluster 0\", \"Cluster 0\", \"Cluster 0\", \"Cluster 0\", \"Cluster 0\", \"Cluster 0\", \"Cluster 0\", \"Cluster 0\", \"Cluster 0\", \"Cluster 0\", \"Cluster 0\", \"Cluster 0\", \"Cluster 0\", \"Cluster 0\", \"Cluster 0\", \"Cluster 0\", \"Cluster 0\", \"Cluster 0\", \"Cluster 0\", \"Cluster 0\", \"Cluster 0\", \"Cluster 0\", \"Cluster 0\", \"Cluster 0\", \"Cluster 0\", \"Cluster 0\", \"Cluster 0\", \"Cluster 0\", \"Cluster 0\", \"Cluster 0\", \"Cluster 0\", \"Cluster 0\", \"Cluster 0\", \"Cluster 0\", \"Cluster 0\", \"Cluster 0\", \"Cluster 0\", \"Cluster 0\", \"Cluster 0\", \"Cluster 0\", \"Cluster 0\", \"Cluster 0\", \"Cluster 0\", \"Cluster 0\", \"Cluster 0\", \"Cluster 0\", \"Cluster 0\", \"Cluster 0\", \"Cluster 0\"], \"xaxis\": \"x\", \"yaxis\": \"y\"}, {\"alignmentgroup\": \"True\", \"customdata\": [[\"Angola\", 81.61, 50.0, 2.0, \"Cluster 0\"], [\"Bahrain\", 86.77, 7532.0, 12.0, \"Cluster 0\"], [\"Bulgaria\", 67.19, 2292.0, 116.0, \"Cluster 0\"], [\"Azerbaijan\", 86.24, 3518.0, 41.0, \"Cluster 0\"], [\"Australia\", 66.14, 7068.0, 99.0, \"Cluster 0\"], [\"Afghanistan\", 76.33, 7653.0, 178.0, \"Cluster 0\"], [\"Russia\", 71.71, 299941.0, 2837.0, \"Cluster 0\"], [\"Puerto Rico\", 97.35, 2805.0, 124.0, \"Cluster 0\"], [\"Guyana\", 82.27, 125.0, 10.0, \"Cluster 0\"], [\"Colombia\", 90.74, 16935.0, 613.0, \"Cluster 0\"], [\"Suriname\", 77.12, 11.0, 1.0, \"Cluster 0\"], [\"Denmark\", 75.52, 11044.0, 551.0, \"Cluster 0\"], [\"Costa Rica\", 74.99, 882.0, 10.0, \"Cluster 0\"], [\"Bhutan\", 78.3, 21.0, 0.0, \"Cluster 0\"], [\"Sierra Leone\", 77.64, 534.0, 33.0, \"Cluster 0\"], [\"Jordan\", 72.48, 649.0, 9.0, \"Cluster 0\"], [\"Iraq\", 84.39, 3611.0, 131.0, \"Cluster 0\"], [\"Cape Verde\", 82.41, 335.0, 3.0, \"Cluster 0\"], [\"Slovak Republic\", 78.96, 1495.0, 28.0, \"Cluster 0\"], [\"Eswatini\", 84.26, 208.0, 2.0, \"Cluster 0\"], [\"Chad\", 86.38, 545.0, 56.0, \"Cluster 0\"], [\"Thailand\", 80.56, 3034.0, 56.0, \"Cluster 0\"], [\"Trinidad and Tobago\", 93.38, 116.0, 8.0, \"Cluster 0\"], [\"Tunisia\", 87.96, 1044.0, 47.0, \"Cluster 0\"], [\"Bolivia\", 97.35, 4481.0, 189.0, \"Cluster 0\"], [\"Turkey\", 80.42, 151615.0, 4199.0, \"Cluster 0\"], [\"Uruguay\", 71.16, 738.0, 20.0, \"Cluster 0\"], [\"Uzbekistan\", 85.19, 2880.0, 13.0, \"Cluster 0\"], [\"Venezuela\", 86.24, 749.0, 10.0, \"Cluster 0\"], [\"Vietnam\", 69.18, 324.0, 0.0, \"Cluster 0\"], [\"South Africa\", 88.75, 17200.0, 312.0, \"Cluster 0\"], [\"Zimbabwe\", 91.4, 46.0, 4.0, \"Cluster 0\"], [\"Ukraine\", 92.06, 18876.0, 548.0, \"Cluster 0\"], [\"South Sudan\", 94.71, 285.0, 6.0, \"Cluster 0\"], [\"Central African Republic\", 69.97, 411.0, 0.0, \"Cluster 0\"], [\"Cuba\", 100.0, 1887.0, 79.0, \"Cluster 0\"], [\"Syria\", 80.43, 58.0, 3.0, \"Cluster 0\"], [\"Seychelles\", 65.87, 11.0, 0.0, \"Cluster 0\"], [\"San Marino\", 71.42, 655.0, 41.0, \"Cluster 0\"], [\"Sudan\", 86.38, 2591.0, 105.0, \"Cluster 0\"], [\"Rwanda\", 82.14, 308.0, 0.0, \"Cluster 0\"], [\"Palestine\", 97.35, 570.0, 4.0, \"Cluster 0\"], [\"Paraguay\", 96.03, 829.0, 11.0, \"Cluster 0\"], [\"Portugal\", 76.71, 29432.0, 1247.0, \"Cluster 0\"], [\"Poland\", 88.09, 19268.0, 948.0, \"Cluster 0\"], [\"Panama\", 81.61, 9867.0, 281.0, \"Cluster 0\"], [\"Pakistan\", 82.02, 45898.0, 985.0, \"Cluster 0\"], [\"Oman\", 85.19, 5671.0, 27.0, \"Cluster 0\"], [\"Malaysia\", 74.2, 6978.0, 114.0, \"Cluster 0\"], [\"Mauritius\", 84.78, 332.0, 10.0, \"Cluster 0\"], [\"Mongolia\", 67.99, 140.0, 0.0, \"Cluster 0\"], [\"Myanmar\", 79.24, 193.0, 6.0, \"Cluster 0\"], [\"Mexico\", 85.45, 54346.0, 5666.0, \"Cluster 0\"], [\"Dominica\", 80.95, 16.0, 0.0, \"Cluster 0\"], [\"Ecuador\", 85.85, 34151.0, 2839.0, \"Cluster 0\"], [\"Ethiopia\", 76.19, 365.0, 5.0, \"Cluster 0\"], [\"Guam\", 69.71, 154.0, 5.0, \"Cluster 0\"], [\"Hong Kong\", 67.85, 1055.0, 4.0, \"Cluster 0\"], [\"Croatia\", 66.53, 2232.0, 96.0, \"Cluster 0\"], [\"Congo\", 98.02, 420.0, 15.0, \"Cluster 0\"], [\"India\", 76.07, 106750.0, 3303.0, \"Cluster 0\"], [\"Kenya\", 94.18, 963.0, 50.0, \"Cluster 0\"], [\"Lebanon\", 84.12, 954.0, 26.0, \"Cluster 0\"], [\"Liberia\", 78.31, 233.0, 23.0, \"Cluster 0\"], [\"Libya\", 96.83, 68.0, 3.0, \"Cluster 0\"], [\"Sri Lanka\", 82.27, 1027.0, 9.0, \"Cluster 0\"], [\"Morocco\", 93.38, 7023.0, 193.0, \"Cluster 0\"], [\"Kazakhstan\", 79.37, 6969.0, 35.0, \"Cluster 0\"], [\"El Salvador\", 100.0, 1498.0, 31.0, \"Cluster 0\"], [\"Uganda\", 89.94, 260.0, 0.0, \"Cluster 0\"], [\"Kosovo\", 90.74, 989.0, 29.0, \"Cluster 0\"], [\"Chile\", 78.83, 49579.0, 509.0, \"Cluster 0\"], [\"China\", 64.44, 84065.0, 4638.0, \"Cluster 0\"], [\"Algeria\", 82.42, 7377.0, 561.0, \"Cluster 0\"], [\"Lesotho\", 72.87, 1.0, 0.0, \"Cluster 0\"], [\"Kuwait\", 100.0, 16764.0, 121.0, \"Cluster 0\"], [\"Kyrgyz Republic\", 78.85, 1270.0, 14.0, \"Cluster 0\"], [\"Jamaica\", 74.2, 520.0, 9.0, \"Cluster 0\"], [\"Israel\", 82.93, 16650.0, 277.0, \"Cluster 0\"], [\"Cameroon\", 67.85, 3529.0, 140.0, \"Cluster 0\"], [\"Democratic Republic of Congo\", 80.04, 1731.0, 61.0, \"Cluster 0\"], [\"Ireland\", 87.83, 24251.0, 1561.0, \"Cluster 0\"], [\"Indonesia\", 70.91, 18496.0, 1221.0, \"Cluster 0\"], [\"Cyprus\", 94.18, 918.0, 17.0, \"Cluster 0\"], [\"Singapore\", 85.18, 28794.0, 22.0, \"Cluster 0\"], [\"Honduras\", 100.0, 2955.0, 147.0, \"Cluster 0\"], [\"Guatemala\", 97.35, 2133.0, 43.0, \"Cluster 0\"], [\"Greenland\", 80.95, 11.0, 0.0, \"Cluster 0\"], [\"Greece\", 74.34, 2840.0, 165.0, \"Cluster 0\"], [\"Gambia\", 84.78, 24.0, 1.0, \"Cluster 0\"], [\"Ghana\", 66.53, 6096.0, 31.0, \"Cluster 0\"], [\"Georgia\", 94.18, 707.0, 12.0, \"Cluster 0\"], [\"Gabon\", 86.24, 1502.0, 12.0, \"Cluster 0\"], [\"Finland\", 65.74, 6399.0, 301.0, \"Cluster 0\"], [\"Germany\", 71.44, 176007.0, 8090.0, \"Cluster 0\"], [\"Egypt\", 88.75, 13484.0, 659.0, \"Cluster 0\"], [\"Switzerland\", 71.55, 30535.0, 1613.0, \"Cluster 0\"], [\"Canada\", 67.74, 79101.0, 5912.0, \"Cluster 0\"], [\"Cote d'Ivoire\", 70.25, 2153.0, 28.0, \"Cluster 0\"], [\"Botswana\", 78.05, 25.0, 1.0, \"Cluster 0\"], [\"Albania\", 88.36, 949.0, 31.0, \"Cluster 0\"], [\"United Arab Emirates\", 77.78, 25063.0, 227.0, \"Cluster 0\"], [\"Saudi Arabia\", 87.84, 59854.0, 329.0, \"Cluster 0\"], [\"Romania\", 76.98, 17191.0, 1126.0, \"Cluster 0\"], [\"Qatar\", 90.74, 35606.0, 15.0, \"Cluster 0\"], [\"Argentina\", 91.54, 8796.0, 393.0, \"Cluster 0\"], [\"Philippines\", 94.58, 12942.0, 837.0, \"Cluster 0\"], [\"Peru\", 97.35, 99483.0, 2914.0, \"Cluster 0\"], [\"Nepal\", 95.24, 402.0, 2.0, \"Cluster 0\"], [\"Luxembourg\", 65.73, 3958.0, 109.0, \"Cluster 0\"], [\"Netherlands\", 76.71, 44249.0, 5715.0, \"Cluster 0\"], [\"Belgium\", 75.26, 55791.0, 9108.0, \"Cluster 0\"], [\"Nigeria\", 76.59, 6401.0, 192.0, \"Cluster 0\"], [\"Dominican Republic\", 98.02, 13223.0, 441.0, \"Cluster 0\"], [\"Bangladesh\", 91.93, 25121.0, 370.0, \"Cluster 0\"], [\"Bosnia and Herzegovina\", 81.22, 2319.0, 133.0, \"Cluster 0\"], [\"Moldova\", 84.92, 6340.0, 221.0, \"Cluster 0\"], [\"Belize\", 87.04, 18.0, 2.0, \"Cluster 0\"], [\"Mali\", 76.19, 901.0, 53.0, \"Cluster 0\"], [\"Bermuda\", 80.15, 125.0, 9.0, \"Cluster 0\"], [\"Barbados\", 71.42, 90.0, 7.0, \"Cluster 0\"]], \"hoverlabel\": {\"namelength\": 0}, \"hovertemplate\": \"Cluster=%{customdata[4]}<br>country_name=%{customdata[0]}<br>stringency_index=%{customdata[1]}<br>confirmed_cases=%{customdata[2]}<br>deaths=%{customdata[3]}\", \"legendgroup\": \"Cluster=Cluster 0\", \"marker\": {\"color\": \"#636efa\"}, \"name\": \"Cluster=Cluster 0\", \"notched\": true, \"offsetgroup\": \"Cluster=Cluster 0\", \"showlegend\": false, \"type\": \"box\", \"x\": [\"Cluster 0\", \"Cluster 0\", \"Cluster 0\", \"Cluster 0\", \"Cluster 0\", \"Cluster 0\", \"Cluster 0\", \"Cluster 0\", \"Cluster 0\", \"Cluster 0\", \"Cluster 0\", \"Cluster 0\", \"Cluster 0\", \"Cluster 0\", \"Cluster 0\", \"Cluster 0\", \"Cluster 0\", \"Cluster 0\", \"Cluster 0\", \"Cluster 0\", \"Cluster 0\", \"Cluster 0\", \"Cluster 0\", \"Cluster 0\", \"Cluster 0\", \"Cluster 0\", \"Cluster 0\", \"Cluster 0\", \"Cluster 0\", \"Cluster 0\", \"Cluster 0\", \"Cluster 0\", \"Cluster 0\", \"Cluster 0\", \"Cluster 0\", \"Cluster 0\", \"Cluster 0\", \"Cluster 0\", \"Cluster 0\", \"Cluster 0\", \"Cluster 0\", \"Cluster 0\", \"Cluster 0\", \"Cluster 0\", \"Cluster 0\", \"Cluster 0\", \"Cluster 0\", \"Cluster 0\", \"Cluster 0\", \"Cluster 0\", \"Cluster 0\", \"Cluster 0\", \"Cluster 0\", \"Cluster 0\", \"Cluster 0\", \"Cluster 0\", \"Cluster 0\", \"Cluster 0\", \"Cluster 0\", \"Cluster 0\", \"Cluster 0\", \"Cluster 0\", \"Cluster 0\", \"Cluster 0\", \"Cluster 0\", \"Cluster 0\", \"Cluster 0\", \"Cluster 0\", \"Cluster 0\", \"Cluster 0\", \"Cluster 0\", \"Cluster 0\", \"Cluster 0\", \"Cluster 0\", \"Cluster 0\", \"Cluster 0\", \"Cluster 0\", \"Cluster 0\", \"Cluster 0\", \"Cluster 0\", \"Cluster 0\", \"Cluster 0\", \"Cluster 0\", \"Cluster 0\", \"Cluster 0\", \"Cluster 0\", \"Cluster 0\", \"Cluster 0\", \"Cluster 0\", \"Cluster 0\", \"Cluster 0\", \"Cluster 0\", \"Cluster 0\", \"Cluster 0\", \"Cluster 0\", \"Cluster 0\", \"Cluster 0\", \"Cluster 0\", \"Cluster 0\", \"Cluster 0\", \"Cluster 0\", \"Cluster 0\", \"Cluster 0\", \"Cluster 0\", \"Cluster 0\", \"Cluster 0\", \"Cluster 0\", \"Cluster 0\", \"Cluster 0\", \"Cluster 0\", \"Cluster 0\", \"Cluster 0\", \"Cluster 0\", \"Cluster 0\", \"Cluster 0\", \"Cluster 0\", \"Cluster 0\", \"Cluster 0\", \"Cluster 0\", \"Cluster 0\", \"Cluster 0\"], \"xaxis\": \"x2\", \"yaxis\": \"y2\"}, {\"alignmentgroup\": \"True\", \"bingroup\": \"x\", \"hoverlabel\": {\"namelength\": 0}, \"hovertemplate\": \"Cluster=%{x}<br>count=%{y}\", \"legendgroup\": \"Cluster=Cluster 1\", \"marker\": {\"color\": \"#EF553B\", \"opacity\": 0.7}, \"name\": \"Cluster=Cluster 1\", \"offsetgroup\": \"Cluster=Cluster 1\", \"orientation\": \"v\", \"showlegend\": true, \"type\": \"histogram\", \"x\": [\"Cluster 1\"], \"xaxis\": \"x\", \"yaxis\": \"y\"}, {\"alignmentgroup\": \"True\", \"customdata\": [[\"United States\", 68.41, 1528568.0, 91921.0, \"Cluster 1\"]], \"hoverlabel\": {\"namelength\": 0}, \"hovertemplate\": \"Cluster=%{customdata[4]}<br>country_name=%{customdata[0]}<br>stringency_index=%{customdata[1]}<br>confirmed_cases=%{customdata[2]}<br>deaths=%{customdata[3]}\", \"legendgroup\": \"Cluster=Cluster 1\", \"marker\": {\"color\": \"#EF553B\"}, \"name\": \"Cluster=Cluster 1\", \"notched\": true, \"offsetgroup\": \"Cluster=Cluster 1\", \"showlegend\": false, \"type\": \"box\", \"x\": [\"Cluster 1\"], \"xaxis\": \"x2\", \"yaxis\": \"y2\"}, {\"alignmentgroup\": \"True\", \"bingroup\": \"x\", \"hoverlabel\": {\"namelength\": 0}, \"hovertemplate\": \"Cluster=%{x}<br>count=%{y}\", \"legendgroup\": \"Cluster=Cluster 2\", \"marker\": {\"color\": \"#00cc96\", \"opacity\": 0.7}, \"name\": \"Cluster=Cluster 2\", \"offsetgroup\": \"Cluster=Cluster 2\", \"orientation\": \"v\", \"showlegend\": true, \"type\": \"histogram\", \"x\": [\"Cluster 2\", \"Cluster 2\", \"Cluster 2\", \"Cluster 2\", \"Cluster 2\"], \"xaxis\": \"x\", \"yaxis\": \"y\"}, {\"alignmentgroup\": \"True\", \"customdata\": [[\"Italy\", 68.78, 226699.0, 32169.0, \"Cluster 2\"], [\"Brazil\", 75.15, 271628.0, 17971.0, \"Cluster 2\"], [\"United Kingdom\", 73.01, 248818.0, 35341.0, \"Cluster 2\"], [\"France\", 83.46, 143427.0, 28022.0, \"Cluster 2\"], [\"Spain\", 83.07, 232555.0, 27888.0, \"Cluster 2\"]], \"hoverlabel\": {\"namelength\": 0}, \"hovertemplate\": \"Cluster=%{customdata[4]}<br>country_name=%{customdata[0]}<br>stringency_index=%{customdata[1]}<br>confirmed_cases=%{customdata[2]}<br>deaths=%{customdata[3]}\", \"legendgroup\": \"Cluster=Cluster 2\", \"marker\": {\"color\": \"#00cc96\"}, \"name\": \"Cluster=Cluster 2\", \"notched\": true, \"offsetgroup\": \"Cluster=Cluster 2\", \"showlegend\": false, \"type\": \"box\", \"x\": [\"Cluster 2\", \"Cluster 2\", \"Cluster 2\", \"Cluster 2\", \"Cluster 2\"], \"xaxis\": \"x2\", \"yaxis\": \"y2\"}, {\"alignmentgroup\": \"True\", \"bingroup\": \"x\", \"hoverlabel\": {\"namelength\": 0}, \"hovertemplate\": \"Cluster=%{x}<br>count=%{y}\", \"legendgroup\": \"Cluster=Cluster 3\", \"marker\": {\"color\": \"#ab63fa\", \"opacity\": 0.7}, \"name\": \"Cluster=Cluster 3\", \"offsetgroup\": \"Cluster=Cluster 3\", \"orientation\": \"v\", \"showlegend\": true, \"type\": \"histogram\", \"x\": [\"Cluster 3\", \"Cluster 3\", \"Cluster 3\", \"Cluster 3\", \"Cluster 3\", \"Cluster 3\", \"Cluster 3\", \"Cluster 3\", \"Cluster 3\", \"Cluster 3\", \"Cluster 3\", \"Cluster 3\", \"Cluster 3\", \"Cluster 3\", \"Cluster 3\", \"Cluster 3\", \"Cluster 3\", \"Cluster 3\", \"Cluster 3\", \"Cluster 3\", \"Cluster 3\", \"Cluster 3\", \"Cluster 3\", \"Cluster 3\", \"Cluster 3\", \"Cluster 3\", \"Cluster 3\", \"Cluster 3\", \"Cluster 3\", \"Cluster 3\", \"Cluster 3\", \"Cluster 3\", \"Cluster 3\", \"Cluster 3\", \"Cluster 3\", \"Cluster 3\", \"Cluster 3\", \"Cluster 3\"], \"xaxis\": \"x\", \"yaxis\": \"y\"}, {\"alignmentgroup\": \"True\", \"customdata\": [[\"Norway\", 58.07, 8257.0, 233.0, \"Cluster 3\"], [\"Laos\", 56.22, 19.0, 0.0, \"Cluster 3\"], [\"Burkina Faso\", 62.04, 806.0, 52.0, \"Cluster 3\"], [\"Macao\", 39.02, 45.0, 0.0, \"Cluster 3\"], [\"Belarus\", 15.47, 31508.0, 175.0, \"Cluster 3\"], [\"Burundi\", 22.22, 42.0, 1.0, \"Cluster 3\"], [\"Slovenia\", 61.25, 1467.0, 104.0, \"Cluster 3\"], [\"Czech Republic\", 59.65, 8647.0, 302.0, \"Cluster 3\"], [\"Somalia\", 59.39, 1502.0, 59.0, \"Cluster 3\"], [\"Estonia\", 41.54, 1791.0, 64.0, \"Cluster 3\"], [\"Serbia\", 56.87, 10733.0, 234.0, \"Cluster 3\"], [\"Senegal\", 62.7, 2617.0, 30.0, \"Cluster 3\"], [\"Sweden\", 47.35, 30799.0, 3743.0, \"Cluster 3\"], [\"Papua New Guinea\", 43.66, 8.0, 0.0, \"Cluster 3\"], [\"Tanzania\", 50.4, 509.0, 21.0, \"Cluster 3\"], [\"Nicaragua\", 11.11, 25.0, 8.0, \"Cluster 3\"], [\"Niger\", 33.33, 914.0, 55.0, \"Cluster 3\"], [\"Namibia\", 61.24, 712.0, 7.0, \"Cluster 3\"], [\"Yemen\", 54.23, 167.0, 28.0, \"Cluster 3\"], [\"Malawi\", 59.26, 71.0, 3.0, \"Cluster 3\"], [\"Zambia\", 45.37, 772.0, 7.0, \"Cluster 3\"], [\"Mozambique\", 53.83, 146.0, 0.0, \"Cluster 3\"], [\"Iceland\", 56.61, 1802.0, 10.0, \"Cluster 3\"], [\"Taiwan\", 29.36, 440.0, 7.0, \"Cluster 3\"], [\"New Zealand\", 38.49, 1153.0, 21.0, \"Cluster 3\"], [\"Aruba\", 47.48, 101.0, 3.0, \"Cluster 3\"], [\"Lithuania\", 0.0, 1562.0, 60.0, \"Cluster 3\"], [\"Japan\", 43.79, 16385.0, 771.0, \"Cluster 3\"], [\"Andorra\", 56.34, 761.0, 51.0, \"Cluster 3\"], [\"Brunei\", 56.74, 141.0, 1.0, \"Cluster 3\"], [\"South Korea\", 43.51, 11110.0, 263.0, \"Cluster 3\"], [\"Iran\", 47.23, 124603.0, 7119.0, \"Cluster 3\"], [\"Solomon Islands\", 50.41, 0.0, 0.0, \"Cluster 3\"], [\"Austria\", 56.34, 16257.0, 632.0, \"Cluster 3\"], [\"Hungary\", 59.53, 3598.0, 470.0, \"Cluster 3\"], [\"Djibouti\", 61.37, 1518.0, 7.0, \"Cluster 3\"], [\"Madagascar\", 64.43, 326.0, 2.0, \"Cluster 3\"], [\"Benin\", 48.15, 130.0, 2.0, \"Cluster 3\"]], \"hoverlabel\": {\"namelength\": 0}, \"hovertemplate\": \"Cluster=%{customdata[4]}<br>country_name=%{customdata[0]}<br>stringency_index=%{customdata[1]}<br>confirmed_cases=%{customdata[2]}<br>deaths=%{customdata[3]}\", \"legendgroup\": \"Cluster=Cluster 3\", \"marker\": {\"color\": \"#ab63fa\"}, \"name\": \"Cluster=Cluster 3\", \"notched\": true, \"offsetgroup\": \"Cluster=Cluster 3\", \"showlegend\": false, \"type\": \"box\", \"x\": [\"Cluster 3\", \"Cluster 3\", \"Cluster 3\", \"Cluster 3\", \"Cluster 3\", \"Cluster 3\", \"Cluster 3\", \"Cluster 3\", \"Cluster 3\", \"Cluster 3\", \"Cluster 3\", \"Cluster 3\", \"Cluster 3\", \"Cluster 3\", \"Cluster 3\", \"Cluster 3\", \"Cluster 3\", \"Cluster 3\", \"Cluster 3\", \"Cluster 3\", \"Cluster 3\", \"Cluster 3\", \"Cluster 3\", \"Cluster 3\", \"Cluster 3\", \"Cluster 3\", \"Cluster 3\", \"Cluster 3\", \"Cluster 3\", \"Cluster 3\", \"Cluster 3\", \"Cluster 3\", \"Cluster 3\", \"Cluster 3\", \"Cluster 3\", \"Cluster 3\", \"Cluster 3\", \"Cluster 3\"], \"xaxis\": \"x2\", \"yaxis\": \"y2\"}],\n",
       "                        {\"barmode\": \"relative\", \"legend\": {\"tracegroupgap\": 0}, \"margin\": {\"t\": 60}, \"template\": {\"data\": {\"bar\": [{\"error_x\": {\"color\": \"#2a3f5f\"}, \"error_y\": {\"color\": \"#2a3f5f\"}, \"marker\": {\"line\": {\"color\": \"#E5ECF6\", \"width\": 0.5}}, \"type\": \"bar\"}], \"barpolar\": [{\"marker\": {\"line\": {\"color\": \"#E5ECF6\", \"width\": 0.5}}, \"type\": \"barpolar\"}], \"carpet\": [{\"aaxis\": {\"endlinecolor\": \"#2a3f5f\", \"gridcolor\": \"white\", \"linecolor\": \"white\", \"minorgridcolor\": \"white\", \"startlinecolor\": \"#2a3f5f\"}, \"baxis\": {\"endlinecolor\": \"#2a3f5f\", \"gridcolor\": \"white\", \"linecolor\": \"white\", \"minorgridcolor\": \"white\", \"startlinecolor\": \"#2a3f5f\"}, \"type\": \"carpet\"}], \"choropleth\": [{\"colorbar\": {\"outlinewidth\": 0, \"ticks\": \"\"}, \"type\": \"choropleth\"}], \"contour\": [{\"colorbar\": {\"outlinewidth\": 0, \"ticks\": \"\"}, \"colorscale\": [[0.0, \"#0d0887\"], [0.1111111111111111, \"#46039f\"], [0.2222222222222222, \"#7201a8\"], [0.3333333333333333, \"#9c179e\"], [0.4444444444444444, \"#bd3786\"], [0.5555555555555556, \"#d8576b\"], [0.6666666666666666, \"#ed7953\"], [0.7777777777777778, \"#fb9f3a\"], [0.8888888888888888, \"#fdca26\"], [1.0, \"#f0f921\"]], \"type\": \"contour\"}], \"contourcarpet\": [{\"colorbar\": {\"outlinewidth\": 0, \"ticks\": \"\"}, \"type\": \"contourcarpet\"}], \"heatmap\": [{\"colorbar\": {\"outlinewidth\": 0, \"ticks\": \"\"}, \"colorscale\": [[0.0, \"#0d0887\"], [0.1111111111111111, \"#46039f\"], [0.2222222222222222, \"#7201a8\"], [0.3333333333333333, \"#9c179e\"], [0.4444444444444444, \"#bd3786\"], [0.5555555555555556, \"#d8576b\"], [0.6666666666666666, \"#ed7953\"], [0.7777777777777778, \"#fb9f3a\"], [0.8888888888888888, \"#fdca26\"], [1.0, \"#f0f921\"]], \"type\": \"heatmap\"}], \"heatmapgl\": [{\"colorbar\": {\"outlinewidth\": 0, \"ticks\": \"\"}, \"colorscale\": [[0.0, \"#0d0887\"], [0.1111111111111111, \"#46039f\"], [0.2222222222222222, \"#7201a8\"], [0.3333333333333333, \"#9c179e\"], [0.4444444444444444, \"#bd3786\"], [0.5555555555555556, \"#d8576b\"], [0.6666666666666666, \"#ed7953\"], [0.7777777777777778, \"#fb9f3a\"], [0.8888888888888888, \"#fdca26\"], [1.0, \"#f0f921\"]], \"type\": \"heatmapgl\"}], \"histogram\": [{\"marker\": {\"colorbar\": {\"outlinewidth\": 0, \"ticks\": \"\"}}, \"type\": \"histogram\"}], \"histogram2d\": [{\"colorbar\": {\"outlinewidth\": 0, \"ticks\": \"\"}, \"colorscale\": [[0.0, \"#0d0887\"], [0.1111111111111111, \"#46039f\"], [0.2222222222222222, \"#7201a8\"], [0.3333333333333333, \"#9c179e\"], [0.4444444444444444, \"#bd3786\"], [0.5555555555555556, \"#d8576b\"], [0.6666666666666666, \"#ed7953\"], [0.7777777777777778, \"#fb9f3a\"], [0.8888888888888888, \"#fdca26\"], [1.0, \"#f0f921\"]], \"type\": \"histogram2d\"}], \"histogram2dcontour\": [{\"colorbar\": {\"outlinewidth\": 0, \"ticks\": \"\"}, \"colorscale\": [[0.0, \"#0d0887\"], [0.1111111111111111, \"#46039f\"], [0.2222222222222222, \"#7201a8\"], [0.3333333333333333, \"#9c179e\"], [0.4444444444444444, \"#bd3786\"], [0.5555555555555556, \"#d8576b\"], [0.6666666666666666, \"#ed7953\"], [0.7777777777777778, \"#fb9f3a\"], [0.8888888888888888, \"#fdca26\"], [1.0, \"#f0f921\"]], \"type\": \"histogram2dcontour\"}], \"mesh3d\": [{\"colorbar\": {\"outlinewidth\": 0, \"ticks\": \"\"}, \"type\": \"mesh3d\"}], \"parcoords\": [{\"line\": {\"colorbar\": {\"outlinewidth\": 0, \"ticks\": \"\"}}, \"type\": \"parcoords\"}], \"pie\": [{\"automargin\": true, \"type\": \"pie\"}], \"scatter\": [{\"marker\": {\"colorbar\": {\"outlinewidth\": 0, \"ticks\": \"\"}}, \"type\": \"scatter\"}], \"scatter3d\": [{\"line\": {\"colorbar\": {\"outlinewidth\": 0, \"ticks\": \"\"}}, \"marker\": {\"colorbar\": {\"outlinewidth\": 0, \"ticks\": \"\"}}, \"type\": \"scatter3d\"}], \"scattercarpet\": [{\"marker\": {\"colorbar\": {\"outlinewidth\": 0, \"ticks\": \"\"}}, \"type\": \"scattercarpet\"}], \"scattergeo\": [{\"marker\": {\"colorbar\": {\"outlinewidth\": 0, \"ticks\": \"\"}}, \"type\": \"scattergeo\"}], \"scattergl\": [{\"marker\": {\"colorbar\": {\"outlinewidth\": 0, \"ticks\": \"\"}}, \"type\": \"scattergl\"}], \"scattermapbox\": [{\"marker\": {\"colorbar\": {\"outlinewidth\": 0, \"ticks\": \"\"}}, \"type\": \"scattermapbox\"}], \"scatterpolar\": [{\"marker\": {\"colorbar\": {\"outlinewidth\": 0, \"ticks\": \"\"}}, \"type\": \"scatterpolar\"}], \"scatterpolargl\": [{\"marker\": {\"colorbar\": {\"outlinewidth\": 0, \"ticks\": \"\"}}, \"type\": \"scatterpolargl\"}], \"scatterternary\": [{\"marker\": {\"colorbar\": {\"outlinewidth\": 0, \"ticks\": \"\"}}, \"type\": \"scatterternary\"}], \"surface\": [{\"colorbar\": {\"outlinewidth\": 0, \"ticks\": \"\"}, \"colorscale\": [[0.0, \"#0d0887\"], [0.1111111111111111, \"#46039f\"], [0.2222222222222222, \"#7201a8\"], [0.3333333333333333, \"#9c179e\"], [0.4444444444444444, \"#bd3786\"], [0.5555555555555556, \"#d8576b\"], [0.6666666666666666, \"#ed7953\"], [0.7777777777777778, \"#fb9f3a\"], [0.8888888888888888, \"#fdca26\"], [1.0, \"#f0f921\"]], \"type\": \"surface\"}], \"table\": [{\"cells\": {\"fill\": {\"color\": \"#EBF0F8\"}, \"line\": {\"color\": \"white\"}}, \"header\": {\"fill\": {\"color\": \"#C8D4E3\"}, \"line\": {\"color\": \"white\"}}, \"type\": \"table\"}]}, \"layout\": {\"annotationdefaults\": {\"arrowcolor\": \"#2a3f5f\", \"arrowhead\": 0, \"arrowwidth\": 1}, \"coloraxis\": {\"colorbar\": {\"outlinewidth\": 0, \"ticks\": \"\"}}, \"colorscale\": {\"diverging\": [[0, \"#8e0152\"], [0.1, \"#c51b7d\"], [0.2, \"#de77ae\"], [0.3, \"#f1b6da\"], [0.4, \"#fde0ef\"], [0.5, \"#f7f7f7\"], [0.6, \"#e6f5d0\"], [0.7, \"#b8e186\"], [0.8, \"#7fbc41\"], [0.9, \"#4d9221\"], [1, \"#276419\"]], \"sequential\": [[0.0, \"#0d0887\"], [0.1111111111111111, \"#46039f\"], [0.2222222222222222, \"#7201a8\"], [0.3333333333333333, \"#9c179e\"], [0.4444444444444444, \"#bd3786\"], [0.5555555555555556, \"#d8576b\"], [0.6666666666666666, \"#ed7953\"], [0.7777777777777778, \"#fb9f3a\"], [0.8888888888888888, \"#fdca26\"], [1.0, \"#f0f921\"]], \"sequentialminus\": [[0.0, \"#0d0887\"], [0.1111111111111111, \"#46039f\"], [0.2222222222222222, \"#7201a8\"], [0.3333333333333333, \"#9c179e\"], [0.4444444444444444, \"#bd3786\"], [0.5555555555555556, \"#d8576b\"], [0.6666666666666666, \"#ed7953\"], [0.7777777777777778, \"#fb9f3a\"], [0.8888888888888888, \"#fdca26\"], [1.0, \"#f0f921\"]]}, \"colorway\": [\"#636efa\", \"#EF553B\", \"#00cc96\", \"#ab63fa\", \"#FFA15A\", \"#19d3f3\", \"#FF6692\", \"#B6E880\", \"#FF97FF\", \"#FECB52\"], \"font\": {\"color\": \"#2a3f5f\"}, \"geo\": {\"bgcolor\": \"white\", \"lakecolor\": \"white\", \"landcolor\": \"#E5ECF6\", \"showlakes\": true, \"showland\": true, \"subunitcolor\": \"white\"}, \"hoverlabel\": {\"align\": \"left\"}, \"hovermode\": \"closest\", \"mapbox\": {\"style\": \"light\"}, \"paper_bgcolor\": \"white\", \"plot_bgcolor\": \"#E5ECF6\", \"polar\": {\"angularaxis\": {\"gridcolor\": \"white\", \"linecolor\": \"white\", \"ticks\": \"\"}, \"bgcolor\": \"#E5ECF6\", \"radialaxis\": {\"gridcolor\": \"white\", \"linecolor\": \"white\", \"ticks\": \"\"}}, \"scene\": {\"xaxis\": {\"backgroundcolor\": \"#E5ECF6\", \"gridcolor\": \"white\", \"gridwidth\": 2, \"linecolor\": \"white\", \"showbackground\": true, \"ticks\": \"\", \"zerolinecolor\": \"white\"}, \"yaxis\": {\"backgroundcolor\": \"#E5ECF6\", \"gridcolor\": \"white\", \"gridwidth\": 2, \"linecolor\": \"white\", \"showbackground\": true, \"ticks\": \"\", \"zerolinecolor\": \"white\"}, \"zaxis\": {\"backgroundcolor\": \"#E5ECF6\", \"gridcolor\": \"white\", \"gridwidth\": 2, \"linecolor\": \"white\", \"showbackground\": true, \"ticks\": \"\", \"zerolinecolor\": \"white\"}}, \"shapedefaults\": {\"line\": {\"color\": \"#2a3f5f\"}}, \"ternary\": {\"aaxis\": {\"gridcolor\": \"white\", \"linecolor\": \"white\", \"ticks\": \"\"}, \"baxis\": {\"gridcolor\": \"white\", \"linecolor\": \"white\", \"ticks\": \"\"}, \"bgcolor\": \"#E5ECF6\", \"caxis\": {\"gridcolor\": \"white\", \"linecolor\": \"white\", \"ticks\": \"\"}}, \"title\": {\"x\": 0.05}, \"xaxis\": {\"automargin\": true, \"gridcolor\": \"white\", \"linecolor\": \"white\", \"ticks\": \"\", \"title\": {\"standoff\": 15}, \"zerolinecolor\": \"white\", \"zerolinewidth\": 2}, \"yaxis\": {\"automargin\": true, \"gridcolor\": \"white\", \"linecolor\": \"white\", \"ticks\": \"\", \"title\": {\"standoff\": 15}, \"zerolinecolor\": \"white\", \"zerolinewidth\": 2}}}, \"xaxis\": {\"anchor\": \"y\", \"categoryarray\": [\"Cluster 0\", \"Cluster 1\", \"Cluster 2\", \"Cluster 3\"], \"categoryorder\": \"array\", \"domain\": [0.0, 1.0], \"title\": {\"text\": \"Cluster\"}}, \"xaxis2\": {\"anchor\": \"y2\", \"domain\": [0.0, 1.0], \"matches\": \"x\", \"showgrid\": true, \"showticklabels\": false}, \"yaxis\": {\"anchor\": \"x\", \"domain\": [0.0, 0.7326], \"title\": {\"text\": \"count\"}}, \"yaxis2\": {\"anchor\": \"x2\", \"domain\": [0.7426, 1.0], \"matches\": \"y2\", \"showgrid\": false, \"showline\": false, \"showticklabels\": false, \"ticks\": \"\"}},\n",
       "                        {\"responsive\": true}\n",
       "                    ).then(function(){\n",
       "                            \n",
       "var gd = document.getElementById('18750763-a97b-4d29-922e-a057f9bf6d36');\n",
       "var x = new MutationObserver(function (mutations, observer) {{\n",
       "        var display = window.getComputedStyle(gd).display;\n",
       "        if (!display || display === 'none') {{\n",
       "            console.log([gd, 'removed!']);\n",
       "            Plotly.purge(gd);\n",
       "            observer.disconnect();\n",
       "        }}\n",
       "}});\n",
       "\n",
       "// Listen for the removal of the full notebook cells\n",
       "var notebookContainer = gd.closest('#notebook-container');\n",
       "if (notebookContainer) {{\n",
       "    x.observe(notebookContainer, {childList: true});\n",
       "}}\n",
       "\n",
       "// Listen for the clearing of the current output cell\n",
       "var outputEl = gd.closest('.output');\n",
       "if (outputEl) {{\n",
       "    x.observe(outputEl, {childList: true});\n",
       "}}\n",
       "\n",
       "                        })\n",
       "                };\n",
       "                });\n",
       "            </script>\n",
       "        </div>"
      ]
     },
     "metadata": {},
     "output_type": "display_data"
    }
   ],
   "source": [
    "#most of countries belong to cluster 0\n",
    "plot_model(kmeans, plot = 'distribution')"
   ]
  },
  {
   "cell_type": "code",
   "execution_count": 28,
   "metadata": {},
   "outputs": [
    {
     "data": {
      "text/html": [
       "        <script type=\"text/javascript\">\n",
       "        window.PlotlyConfig = {MathJaxConfig: 'local'};\n",
       "        if (window.MathJax) {MathJax.Hub.Config({SVG: {font: \"STIX-Web\"}});}\n",
       "        if (typeof require !== 'undefined') {\n",
       "        require.undef(\"plotly\");\n",
       "        requirejs.config({\n",
       "            paths: {\n",
       "                'plotly': ['https://cdn.plot.ly/plotly-latest.min']\n",
       "            }\n",
       "        });\n",
       "        require(['plotly'], function(Plotly) {\n",
       "            window._Plotly = Plotly;\n",
       "        });\n",
       "        }\n",
       "        </script>\n",
       "        "
      ]
     },
     "metadata": {},
     "output_type": "display_data"
    },
    {
     "data": {
      "application/vnd.plotly.v1+json": {
       "config": {
        "plotlyServerURL": "https://plot.ly"
       },
       "data": [
        {
         "alignmentgroup": "True",
         "bingroup": "x",
         "hoverlabel": {
          "namelength": 0
         },
         "hovertemplate": "Cluster=Cluster 0<br>stringency_index=%{x}<br>count=%{y}",
         "legendgroup": "Cluster=Cluster 0",
         "marker": {
          "color": "#636efa",
          "opacity": 0.7
         },
         "name": "Cluster=Cluster 0",
         "offsetgroup": "Cluster=Cluster 0",
         "orientation": "v",
         "showlegend": true,
         "type": "histogram",
         "x": [
          81.61,
          86.77,
          67.19,
          86.24,
          66.14,
          76.33,
          71.71,
          97.35,
          82.27,
          90.74,
          77.12,
          75.52,
          74.99,
          78.3,
          77.64,
          72.48,
          84.39,
          82.41,
          78.96,
          84.26,
          86.38,
          80.56,
          93.38,
          87.96,
          97.35,
          80.42,
          71.16,
          85.19,
          86.24,
          69.18,
          88.75,
          91.4,
          92.06,
          94.71,
          69.97,
          100,
          80.43,
          65.87,
          71.42,
          86.38,
          82.14,
          97.35,
          96.03,
          76.71,
          88.09,
          81.61,
          82.02,
          85.19,
          74.2,
          84.78,
          67.99,
          79.24,
          85.45,
          80.95,
          85.85,
          76.19,
          69.71,
          67.85,
          66.53,
          98.02,
          76.07,
          94.18,
          84.12,
          78.31,
          96.83,
          82.27,
          93.38,
          79.37,
          100,
          89.94,
          90.74,
          78.83,
          64.44,
          82.42,
          72.87,
          100,
          78.85,
          74.2,
          82.93,
          67.85,
          80.04,
          87.83,
          70.91,
          94.18,
          85.18,
          100,
          97.35,
          80.95,
          74.34,
          84.78,
          66.53,
          94.18,
          86.24,
          65.74,
          71.44,
          88.75,
          71.55,
          67.74,
          70.25,
          78.05,
          88.36,
          77.78,
          87.84,
          76.98,
          90.74,
          91.54,
          94.58,
          97.35,
          95.24,
          65.73,
          76.71,
          75.26,
          76.59,
          98.02,
          91.93,
          81.22,
          84.92,
          87.04,
          76.19,
          80.15,
          71.42
         ],
         "xaxis": "x",
         "yaxis": "y"
        },
        {
         "alignmentgroup": "True",
         "customdata": [
          [
           "Angola",
           81.61,
           50,
           2,
           "Cluster 0"
          ],
          [
           "Bahrain",
           86.77,
           7532,
           12,
           "Cluster 0"
          ],
          [
           "Bulgaria",
           67.19,
           2292,
           116,
           "Cluster 0"
          ],
          [
           "Azerbaijan",
           86.24,
           3518,
           41,
           "Cluster 0"
          ],
          [
           "Australia",
           66.14,
           7068,
           99,
           "Cluster 0"
          ],
          [
           "Afghanistan",
           76.33,
           7653,
           178,
           "Cluster 0"
          ],
          [
           "Russia",
           71.71,
           299941,
           2837,
           "Cluster 0"
          ],
          [
           "Puerto Rico",
           97.35,
           2805,
           124,
           "Cluster 0"
          ],
          [
           "Guyana",
           82.27,
           125,
           10,
           "Cluster 0"
          ],
          [
           "Colombia",
           90.74,
           16935,
           613,
           "Cluster 0"
          ],
          [
           "Suriname",
           77.12,
           11,
           1,
           "Cluster 0"
          ],
          [
           "Denmark",
           75.52,
           11044,
           551,
           "Cluster 0"
          ],
          [
           "Costa Rica",
           74.99,
           882,
           10,
           "Cluster 0"
          ],
          [
           "Bhutan",
           78.3,
           21,
           0,
           "Cluster 0"
          ],
          [
           "Sierra Leone",
           77.64,
           534,
           33,
           "Cluster 0"
          ],
          [
           "Jordan",
           72.48,
           649,
           9,
           "Cluster 0"
          ],
          [
           "Iraq",
           84.39,
           3611,
           131,
           "Cluster 0"
          ],
          [
           "Cape Verde",
           82.41,
           335,
           3,
           "Cluster 0"
          ],
          [
           "Slovak Republic",
           78.96,
           1495,
           28,
           "Cluster 0"
          ],
          [
           "Eswatini",
           84.26,
           208,
           2,
           "Cluster 0"
          ],
          [
           "Chad",
           86.38,
           545,
           56,
           "Cluster 0"
          ],
          [
           "Thailand",
           80.56,
           3034,
           56,
           "Cluster 0"
          ],
          [
           "Trinidad and Tobago",
           93.38,
           116,
           8,
           "Cluster 0"
          ],
          [
           "Tunisia",
           87.96,
           1044,
           47,
           "Cluster 0"
          ],
          [
           "Bolivia",
           97.35,
           4481,
           189,
           "Cluster 0"
          ],
          [
           "Turkey",
           80.42,
           151615,
           4199,
           "Cluster 0"
          ],
          [
           "Uruguay",
           71.16,
           738,
           20,
           "Cluster 0"
          ],
          [
           "Uzbekistan",
           85.19,
           2880,
           13,
           "Cluster 0"
          ],
          [
           "Venezuela",
           86.24,
           749,
           10,
           "Cluster 0"
          ],
          [
           "Vietnam",
           69.18,
           324,
           0,
           "Cluster 0"
          ],
          [
           "South Africa",
           88.75,
           17200,
           312,
           "Cluster 0"
          ],
          [
           "Zimbabwe",
           91.4,
           46,
           4,
           "Cluster 0"
          ],
          [
           "Ukraine",
           92.06,
           18876,
           548,
           "Cluster 0"
          ],
          [
           "South Sudan",
           94.71,
           285,
           6,
           "Cluster 0"
          ],
          [
           "Central African Republic",
           69.97,
           411,
           0,
           "Cluster 0"
          ],
          [
           "Cuba",
           100,
           1887,
           79,
           "Cluster 0"
          ],
          [
           "Syria",
           80.43,
           58,
           3,
           "Cluster 0"
          ],
          [
           "Seychelles",
           65.87,
           11,
           0,
           "Cluster 0"
          ],
          [
           "San Marino",
           71.42,
           655,
           41,
           "Cluster 0"
          ],
          [
           "Sudan",
           86.38,
           2591,
           105,
           "Cluster 0"
          ],
          [
           "Rwanda",
           82.14,
           308,
           0,
           "Cluster 0"
          ],
          [
           "Palestine",
           97.35,
           570,
           4,
           "Cluster 0"
          ],
          [
           "Paraguay",
           96.03,
           829,
           11,
           "Cluster 0"
          ],
          [
           "Portugal",
           76.71,
           29432,
           1247,
           "Cluster 0"
          ],
          [
           "Poland",
           88.09,
           19268,
           948,
           "Cluster 0"
          ],
          [
           "Panama",
           81.61,
           9867,
           281,
           "Cluster 0"
          ],
          [
           "Pakistan",
           82.02,
           45898,
           985,
           "Cluster 0"
          ],
          [
           "Oman",
           85.19,
           5671,
           27,
           "Cluster 0"
          ],
          [
           "Malaysia",
           74.2,
           6978,
           114,
           "Cluster 0"
          ],
          [
           "Mauritius",
           84.78,
           332,
           10,
           "Cluster 0"
          ],
          [
           "Mongolia",
           67.99,
           140,
           0,
           "Cluster 0"
          ],
          [
           "Myanmar",
           79.24,
           193,
           6,
           "Cluster 0"
          ],
          [
           "Mexico",
           85.45,
           54346,
           5666,
           "Cluster 0"
          ],
          [
           "Dominica",
           80.95,
           16,
           0,
           "Cluster 0"
          ],
          [
           "Ecuador",
           85.85,
           34151,
           2839,
           "Cluster 0"
          ],
          [
           "Ethiopia",
           76.19,
           365,
           5,
           "Cluster 0"
          ],
          [
           "Guam",
           69.71,
           154,
           5,
           "Cluster 0"
          ],
          [
           "Hong Kong",
           67.85,
           1055,
           4,
           "Cluster 0"
          ],
          [
           "Croatia",
           66.53,
           2232,
           96,
           "Cluster 0"
          ],
          [
           "Congo",
           98.02,
           420,
           15,
           "Cluster 0"
          ],
          [
           "India",
           76.07,
           106750,
           3303,
           "Cluster 0"
          ],
          [
           "Kenya",
           94.18,
           963,
           50,
           "Cluster 0"
          ],
          [
           "Lebanon",
           84.12,
           954,
           26,
           "Cluster 0"
          ],
          [
           "Liberia",
           78.31,
           233,
           23,
           "Cluster 0"
          ],
          [
           "Libya",
           96.83,
           68,
           3,
           "Cluster 0"
          ],
          [
           "Sri Lanka",
           82.27,
           1027,
           9,
           "Cluster 0"
          ],
          [
           "Morocco",
           93.38,
           7023,
           193,
           "Cluster 0"
          ],
          [
           "Kazakhstan",
           79.37,
           6969,
           35,
           "Cluster 0"
          ],
          [
           "El Salvador",
           100,
           1498,
           31,
           "Cluster 0"
          ],
          [
           "Uganda",
           89.94,
           260,
           0,
           "Cluster 0"
          ],
          [
           "Kosovo",
           90.74,
           989,
           29,
           "Cluster 0"
          ],
          [
           "Chile",
           78.83,
           49579,
           509,
           "Cluster 0"
          ],
          [
           "China",
           64.44,
           84065,
           4638,
           "Cluster 0"
          ],
          [
           "Algeria",
           82.42,
           7377,
           561,
           "Cluster 0"
          ],
          [
           "Lesotho",
           72.87,
           1,
           0,
           "Cluster 0"
          ],
          [
           "Kuwait",
           100,
           16764,
           121,
           "Cluster 0"
          ],
          [
           "Kyrgyz Republic",
           78.85,
           1270,
           14,
           "Cluster 0"
          ],
          [
           "Jamaica",
           74.2,
           520,
           9,
           "Cluster 0"
          ],
          [
           "Israel",
           82.93,
           16650,
           277,
           "Cluster 0"
          ],
          [
           "Cameroon",
           67.85,
           3529,
           140,
           "Cluster 0"
          ],
          [
           "Democratic Republic of Congo",
           80.04,
           1731,
           61,
           "Cluster 0"
          ],
          [
           "Ireland",
           87.83,
           24251,
           1561,
           "Cluster 0"
          ],
          [
           "Indonesia",
           70.91,
           18496,
           1221,
           "Cluster 0"
          ],
          [
           "Cyprus",
           94.18,
           918,
           17,
           "Cluster 0"
          ],
          [
           "Singapore",
           85.18,
           28794,
           22,
           "Cluster 0"
          ],
          [
           "Honduras",
           100,
           2955,
           147,
           "Cluster 0"
          ],
          [
           "Guatemala",
           97.35,
           2133,
           43,
           "Cluster 0"
          ],
          [
           "Greenland",
           80.95,
           11,
           0,
           "Cluster 0"
          ],
          [
           "Greece",
           74.34,
           2840,
           165,
           "Cluster 0"
          ],
          [
           "Gambia",
           84.78,
           24,
           1,
           "Cluster 0"
          ],
          [
           "Ghana",
           66.53,
           6096,
           31,
           "Cluster 0"
          ],
          [
           "Georgia",
           94.18,
           707,
           12,
           "Cluster 0"
          ],
          [
           "Gabon",
           86.24,
           1502,
           12,
           "Cluster 0"
          ],
          [
           "Finland",
           65.74,
           6399,
           301,
           "Cluster 0"
          ],
          [
           "Germany",
           71.44,
           176007,
           8090,
           "Cluster 0"
          ],
          [
           "Egypt",
           88.75,
           13484,
           659,
           "Cluster 0"
          ],
          [
           "Switzerland",
           71.55,
           30535,
           1613,
           "Cluster 0"
          ],
          [
           "Canada",
           67.74,
           79101,
           5912,
           "Cluster 0"
          ],
          [
           "Cote d'Ivoire",
           70.25,
           2153,
           28,
           "Cluster 0"
          ],
          [
           "Botswana",
           78.05,
           25,
           1,
           "Cluster 0"
          ],
          [
           "Albania",
           88.36,
           949,
           31,
           "Cluster 0"
          ],
          [
           "United Arab Emirates",
           77.78,
           25063,
           227,
           "Cluster 0"
          ],
          [
           "Saudi Arabia",
           87.84,
           59854,
           329,
           "Cluster 0"
          ],
          [
           "Romania",
           76.98,
           17191,
           1126,
           "Cluster 0"
          ],
          [
           "Qatar",
           90.74,
           35606,
           15,
           "Cluster 0"
          ],
          [
           "Argentina",
           91.54,
           8796,
           393,
           "Cluster 0"
          ],
          [
           "Philippines",
           94.58,
           12942,
           837,
           "Cluster 0"
          ],
          [
           "Peru",
           97.35,
           99483,
           2914,
           "Cluster 0"
          ],
          [
           "Nepal",
           95.24,
           402,
           2,
           "Cluster 0"
          ],
          [
           "Luxembourg",
           65.73,
           3958,
           109,
           "Cluster 0"
          ],
          [
           "Netherlands",
           76.71,
           44249,
           5715,
           "Cluster 0"
          ],
          [
           "Belgium",
           75.26,
           55791,
           9108,
           "Cluster 0"
          ],
          [
           "Nigeria",
           76.59,
           6401,
           192,
           "Cluster 0"
          ],
          [
           "Dominican Republic",
           98.02,
           13223,
           441,
           "Cluster 0"
          ],
          [
           "Bangladesh",
           91.93,
           25121,
           370,
           "Cluster 0"
          ],
          [
           "Bosnia and Herzegovina",
           81.22,
           2319,
           133,
           "Cluster 0"
          ],
          [
           "Moldova",
           84.92,
           6340,
           221,
           "Cluster 0"
          ],
          [
           "Belize",
           87.04,
           18,
           2,
           "Cluster 0"
          ],
          [
           "Mali",
           76.19,
           901,
           53,
           "Cluster 0"
          ],
          [
           "Bermuda",
           80.15,
           125,
           9,
           "Cluster 0"
          ],
          [
           "Barbados",
           71.42,
           90,
           7,
           "Cluster 0"
          ]
         ],
         "hoverlabel": {
          "namelength": 0
         },
         "hovertemplate": "Cluster=%{customdata[4]}<br>stringency_index=%{customdata[1]}<br>country_name=%{customdata[0]}<br>confirmed_cases=%{customdata[2]}<br>deaths=%{customdata[3]}",
         "legendgroup": "Cluster=Cluster 0",
         "marker": {
          "color": "#636efa"
         },
         "name": "Cluster=Cluster 0",
         "notched": true,
         "offsetgroup": "Cluster=Cluster 0",
         "showlegend": false,
         "type": "box",
         "x": [
          81.61,
          86.77,
          67.19,
          86.24,
          66.14,
          76.33,
          71.71,
          97.35,
          82.27,
          90.74,
          77.12,
          75.52,
          74.99,
          78.3,
          77.64,
          72.48,
          84.39,
          82.41,
          78.96,
          84.26,
          86.38,
          80.56,
          93.38,
          87.96,
          97.35,
          80.42,
          71.16,
          85.19,
          86.24,
          69.18,
          88.75,
          91.4,
          92.06,
          94.71,
          69.97,
          100,
          80.43,
          65.87,
          71.42,
          86.38,
          82.14,
          97.35,
          96.03,
          76.71,
          88.09,
          81.61,
          82.02,
          85.19,
          74.2,
          84.78,
          67.99,
          79.24,
          85.45,
          80.95,
          85.85,
          76.19,
          69.71,
          67.85,
          66.53,
          98.02,
          76.07,
          94.18,
          84.12,
          78.31,
          96.83,
          82.27,
          93.38,
          79.37,
          100,
          89.94,
          90.74,
          78.83,
          64.44,
          82.42,
          72.87,
          100,
          78.85,
          74.2,
          82.93,
          67.85,
          80.04,
          87.83,
          70.91,
          94.18,
          85.18,
          100,
          97.35,
          80.95,
          74.34,
          84.78,
          66.53,
          94.18,
          86.24,
          65.74,
          71.44,
          88.75,
          71.55,
          67.74,
          70.25,
          78.05,
          88.36,
          77.78,
          87.84,
          76.98,
          90.74,
          91.54,
          94.58,
          97.35,
          95.24,
          65.73,
          76.71,
          75.26,
          76.59,
          98.02,
          91.93,
          81.22,
          84.92,
          87.04,
          76.19,
          80.15,
          71.42
         ],
         "xaxis": "x2",
         "yaxis": "y2"
        },
        {
         "alignmentgroup": "True",
         "bingroup": "x",
         "hoverlabel": {
          "namelength": 0
         },
         "hovertemplate": "Cluster=Cluster 1<br>stringency_index=%{x}<br>count=%{y}",
         "legendgroup": "Cluster=Cluster 1",
         "marker": {
          "color": "#EF553B",
          "opacity": 0.7
         },
         "name": "Cluster=Cluster 1",
         "offsetgroup": "Cluster=Cluster 1",
         "orientation": "v",
         "showlegend": true,
         "type": "histogram",
         "x": [
          68.41
         ],
         "xaxis": "x",
         "yaxis": "y"
        },
        {
         "alignmentgroup": "True",
         "customdata": [
          [
           "United States",
           68.41,
           1528568,
           91921,
           "Cluster 1"
          ]
         ],
         "hoverlabel": {
          "namelength": 0
         },
         "hovertemplate": "Cluster=%{customdata[4]}<br>stringency_index=%{customdata[1]}<br>country_name=%{customdata[0]}<br>confirmed_cases=%{customdata[2]}<br>deaths=%{customdata[3]}",
         "legendgroup": "Cluster=Cluster 1",
         "marker": {
          "color": "#EF553B"
         },
         "name": "Cluster=Cluster 1",
         "notched": true,
         "offsetgroup": "Cluster=Cluster 1",
         "showlegend": false,
         "type": "box",
         "x": [
          68.41
         ],
         "xaxis": "x2",
         "yaxis": "y2"
        },
        {
         "alignmentgroup": "True",
         "bingroup": "x",
         "hoverlabel": {
          "namelength": 0
         },
         "hovertemplate": "Cluster=Cluster 2<br>stringency_index=%{x}<br>count=%{y}",
         "legendgroup": "Cluster=Cluster 2",
         "marker": {
          "color": "#00cc96",
          "opacity": 0.7
         },
         "name": "Cluster=Cluster 2",
         "offsetgroup": "Cluster=Cluster 2",
         "orientation": "v",
         "showlegend": true,
         "type": "histogram",
         "x": [
          68.78,
          75.15,
          73.01,
          83.46,
          83.07
         ],
         "xaxis": "x",
         "yaxis": "y"
        },
        {
         "alignmentgroup": "True",
         "customdata": [
          [
           "Italy",
           68.78,
           226699,
           32169,
           "Cluster 2"
          ],
          [
           "Brazil",
           75.15,
           271628,
           17971,
           "Cluster 2"
          ],
          [
           "United Kingdom",
           73.01,
           248818,
           35341,
           "Cluster 2"
          ],
          [
           "France",
           83.46,
           143427,
           28022,
           "Cluster 2"
          ],
          [
           "Spain",
           83.07,
           232555,
           27888,
           "Cluster 2"
          ]
         ],
         "hoverlabel": {
          "namelength": 0
         },
         "hovertemplate": "Cluster=%{customdata[4]}<br>stringency_index=%{customdata[1]}<br>country_name=%{customdata[0]}<br>confirmed_cases=%{customdata[2]}<br>deaths=%{customdata[3]}",
         "legendgroup": "Cluster=Cluster 2",
         "marker": {
          "color": "#00cc96"
         },
         "name": "Cluster=Cluster 2",
         "notched": true,
         "offsetgroup": "Cluster=Cluster 2",
         "showlegend": false,
         "type": "box",
         "x": [
          68.78,
          75.15,
          73.01,
          83.46,
          83.07
         ],
         "xaxis": "x2",
         "yaxis": "y2"
        },
        {
         "alignmentgroup": "True",
         "bingroup": "x",
         "hoverlabel": {
          "namelength": 0
         },
         "hovertemplate": "Cluster=Cluster 3<br>stringency_index=%{x}<br>count=%{y}",
         "legendgroup": "Cluster=Cluster 3",
         "marker": {
          "color": "#ab63fa",
          "opacity": 0.7
         },
         "name": "Cluster=Cluster 3",
         "offsetgroup": "Cluster=Cluster 3",
         "orientation": "v",
         "showlegend": true,
         "type": "histogram",
         "x": [
          58.07,
          56.22,
          62.04,
          39.02,
          15.47,
          22.22,
          61.25,
          59.65,
          59.39,
          41.54,
          56.87,
          62.7,
          47.35,
          43.66,
          50.4,
          11.11,
          33.33,
          61.24,
          54.23,
          59.26,
          45.37,
          53.83,
          56.61,
          29.36,
          38.49,
          47.48,
          0,
          43.79,
          56.34,
          56.74,
          43.51,
          47.23,
          50.41,
          56.34,
          59.53,
          61.37,
          64.43,
          48.15
         ],
         "xaxis": "x",
         "yaxis": "y"
        },
        {
         "alignmentgroup": "True",
         "customdata": [
          [
           "Norway",
           58.07,
           8257,
           233,
           "Cluster 3"
          ],
          [
           "Laos",
           56.22,
           19,
           0,
           "Cluster 3"
          ],
          [
           "Burkina Faso",
           62.04,
           806,
           52,
           "Cluster 3"
          ],
          [
           "Macao",
           39.02,
           45,
           0,
           "Cluster 3"
          ],
          [
           "Belarus",
           15.47,
           31508,
           175,
           "Cluster 3"
          ],
          [
           "Burundi",
           22.22,
           42,
           1,
           "Cluster 3"
          ],
          [
           "Slovenia",
           61.25,
           1467,
           104,
           "Cluster 3"
          ],
          [
           "Czech Republic",
           59.65,
           8647,
           302,
           "Cluster 3"
          ],
          [
           "Somalia",
           59.39,
           1502,
           59,
           "Cluster 3"
          ],
          [
           "Estonia",
           41.54,
           1791,
           64,
           "Cluster 3"
          ],
          [
           "Serbia",
           56.87,
           10733,
           234,
           "Cluster 3"
          ],
          [
           "Senegal",
           62.7,
           2617,
           30,
           "Cluster 3"
          ],
          [
           "Sweden",
           47.35,
           30799,
           3743,
           "Cluster 3"
          ],
          [
           "Papua New Guinea",
           43.66,
           8,
           0,
           "Cluster 3"
          ],
          [
           "Tanzania",
           50.4,
           509,
           21,
           "Cluster 3"
          ],
          [
           "Nicaragua",
           11.11,
           25,
           8,
           "Cluster 3"
          ],
          [
           "Niger",
           33.33,
           914,
           55,
           "Cluster 3"
          ],
          [
           "Namibia",
           61.24,
           712,
           7,
           "Cluster 3"
          ],
          [
           "Yemen",
           54.23,
           167,
           28,
           "Cluster 3"
          ],
          [
           "Malawi",
           59.26,
           71,
           3,
           "Cluster 3"
          ],
          [
           "Zambia",
           45.37,
           772,
           7,
           "Cluster 3"
          ],
          [
           "Mozambique",
           53.83,
           146,
           0,
           "Cluster 3"
          ],
          [
           "Iceland",
           56.61,
           1802,
           10,
           "Cluster 3"
          ],
          [
           "Taiwan",
           29.36,
           440,
           7,
           "Cluster 3"
          ],
          [
           "New Zealand",
           38.49,
           1153,
           21,
           "Cluster 3"
          ],
          [
           "Aruba",
           47.48,
           101,
           3,
           "Cluster 3"
          ],
          [
           "Lithuania",
           0,
           1562,
           60,
           "Cluster 3"
          ],
          [
           "Japan",
           43.79,
           16385,
           771,
           "Cluster 3"
          ],
          [
           "Andorra",
           56.34,
           761,
           51,
           "Cluster 3"
          ],
          [
           "Brunei",
           56.74,
           141,
           1,
           "Cluster 3"
          ],
          [
           "South Korea",
           43.51,
           11110,
           263,
           "Cluster 3"
          ],
          [
           "Iran",
           47.23,
           124603,
           7119,
           "Cluster 3"
          ],
          [
           "Solomon Islands",
           50.41,
           0,
           0,
           "Cluster 3"
          ],
          [
           "Austria",
           56.34,
           16257,
           632,
           "Cluster 3"
          ],
          [
           "Hungary",
           59.53,
           3598,
           470,
           "Cluster 3"
          ],
          [
           "Djibouti",
           61.37,
           1518,
           7,
           "Cluster 3"
          ],
          [
           "Madagascar",
           64.43,
           326,
           2,
           "Cluster 3"
          ],
          [
           "Benin",
           48.15,
           130,
           2,
           "Cluster 3"
          ]
         ],
         "hoverlabel": {
          "namelength": 0
         },
         "hovertemplate": "Cluster=%{customdata[4]}<br>stringency_index=%{customdata[1]}<br>country_name=%{customdata[0]}<br>confirmed_cases=%{customdata[2]}<br>deaths=%{customdata[3]}",
         "legendgroup": "Cluster=Cluster 3",
         "marker": {
          "color": "#ab63fa"
         },
         "name": "Cluster=Cluster 3",
         "notched": true,
         "offsetgroup": "Cluster=Cluster 3",
         "showlegend": false,
         "type": "box",
         "x": [
          58.07,
          56.22,
          62.04,
          39.02,
          15.47,
          22.22,
          61.25,
          59.65,
          59.39,
          41.54,
          56.87,
          62.7,
          47.35,
          43.66,
          50.4,
          11.11,
          33.33,
          61.24,
          54.23,
          59.26,
          45.37,
          53.83,
          56.61,
          29.36,
          38.49,
          47.48,
          0,
          43.79,
          56.34,
          56.74,
          43.51,
          47.23,
          50.41,
          56.34,
          59.53,
          61.37,
          64.43,
          48.15
         ],
         "xaxis": "x2",
         "yaxis": "y2"
        }
       ],
       "layout": {
        "barmode": "relative",
        "legend": {
         "tracegroupgap": 0
        },
        "margin": {
         "t": 60
        },
        "template": {
         "data": {
          "bar": [
           {
            "error_x": {
             "color": "#2a3f5f"
            },
            "error_y": {
             "color": "#2a3f5f"
            },
            "marker": {
             "line": {
              "color": "#E5ECF6",
              "width": 0.5
             }
            },
            "type": "bar"
           }
          ],
          "barpolar": [
           {
            "marker": {
             "line": {
              "color": "#E5ECF6",
              "width": 0.5
             }
            },
            "type": "barpolar"
           }
          ],
          "carpet": [
           {
            "aaxis": {
             "endlinecolor": "#2a3f5f",
             "gridcolor": "white",
             "linecolor": "white",
             "minorgridcolor": "white",
             "startlinecolor": "#2a3f5f"
            },
            "baxis": {
             "endlinecolor": "#2a3f5f",
             "gridcolor": "white",
             "linecolor": "white",
             "minorgridcolor": "white",
             "startlinecolor": "#2a3f5f"
            },
            "type": "carpet"
           }
          ],
          "choropleth": [
           {
            "colorbar": {
             "outlinewidth": 0,
             "ticks": ""
            },
            "type": "choropleth"
           }
          ],
          "contour": [
           {
            "colorbar": {
             "outlinewidth": 0,
             "ticks": ""
            },
            "colorscale": [
             [
              0,
              "#0d0887"
             ],
             [
              0.1111111111111111,
              "#46039f"
             ],
             [
              0.2222222222222222,
              "#7201a8"
             ],
             [
              0.3333333333333333,
              "#9c179e"
             ],
             [
              0.4444444444444444,
              "#bd3786"
             ],
             [
              0.5555555555555556,
              "#d8576b"
             ],
             [
              0.6666666666666666,
              "#ed7953"
             ],
             [
              0.7777777777777778,
              "#fb9f3a"
             ],
             [
              0.8888888888888888,
              "#fdca26"
             ],
             [
              1,
              "#f0f921"
             ]
            ],
            "type": "contour"
           }
          ],
          "contourcarpet": [
           {
            "colorbar": {
             "outlinewidth": 0,
             "ticks": ""
            },
            "type": "contourcarpet"
           }
          ],
          "heatmap": [
           {
            "colorbar": {
             "outlinewidth": 0,
             "ticks": ""
            },
            "colorscale": [
             [
              0,
              "#0d0887"
             ],
             [
              0.1111111111111111,
              "#46039f"
             ],
             [
              0.2222222222222222,
              "#7201a8"
             ],
             [
              0.3333333333333333,
              "#9c179e"
             ],
             [
              0.4444444444444444,
              "#bd3786"
             ],
             [
              0.5555555555555556,
              "#d8576b"
             ],
             [
              0.6666666666666666,
              "#ed7953"
             ],
             [
              0.7777777777777778,
              "#fb9f3a"
             ],
             [
              0.8888888888888888,
              "#fdca26"
             ],
             [
              1,
              "#f0f921"
             ]
            ],
            "type": "heatmap"
           }
          ],
          "heatmapgl": [
           {
            "colorbar": {
             "outlinewidth": 0,
             "ticks": ""
            },
            "colorscale": [
             [
              0,
              "#0d0887"
             ],
             [
              0.1111111111111111,
              "#46039f"
             ],
             [
              0.2222222222222222,
              "#7201a8"
             ],
             [
              0.3333333333333333,
              "#9c179e"
             ],
             [
              0.4444444444444444,
              "#bd3786"
             ],
             [
              0.5555555555555556,
              "#d8576b"
             ],
             [
              0.6666666666666666,
              "#ed7953"
             ],
             [
              0.7777777777777778,
              "#fb9f3a"
             ],
             [
              0.8888888888888888,
              "#fdca26"
             ],
             [
              1,
              "#f0f921"
             ]
            ],
            "type": "heatmapgl"
           }
          ],
          "histogram": [
           {
            "marker": {
             "colorbar": {
              "outlinewidth": 0,
              "ticks": ""
             }
            },
            "type": "histogram"
           }
          ],
          "histogram2d": [
           {
            "colorbar": {
             "outlinewidth": 0,
             "ticks": ""
            },
            "colorscale": [
             [
              0,
              "#0d0887"
             ],
             [
              0.1111111111111111,
              "#46039f"
             ],
             [
              0.2222222222222222,
              "#7201a8"
             ],
             [
              0.3333333333333333,
              "#9c179e"
             ],
             [
              0.4444444444444444,
              "#bd3786"
             ],
             [
              0.5555555555555556,
              "#d8576b"
             ],
             [
              0.6666666666666666,
              "#ed7953"
             ],
             [
              0.7777777777777778,
              "#fb9f3a"
             ],
             [
              0.8888888888888888,
              "#fdca26"
             ],
             [
              1,
              "#f0f921"
             ]
            ],
            "type": "histogram2d"
           }
          ],
          "histogram2dcontour": [
           {
            "colorbar": {
             "outlinewidth": 0,
             "ticks": ""
            },
            "colorscale": [
             [
              0,
              "#0d0887"
             ],
             [
              0.1111111111111111,
              "#46039f"
             ],
             [
              0.2222222222222222,
              "#7201a8"
             ],
             [
              0.3333333333333333,
              "#9c179e"
             ],
             [
              0.4444444444444444,
              "#bd3786"
             ],
             [
              0.5555555555555556,
              "#d8576b"
             ],
             [
              0.6666666666666666,
              "#ed7953"
             ],
             [
              0.7777777777777778,
              "#fb9f3a"
             ],
             [
              0.8888888888888888,
              "#fdca26"
             ],
             [
              1,
              "#f0f921"
             ]
            ],
            "type": "histogram2dcontour"
           }
          ],
          "mesh3d": [
           {
            "colorbar": {
             "outlinewidth": 0,
             "ticks": ""
            },
            "type": "mesh3d"
           }
          ],
          "parcoords": [
           {
            "line": {
             "colorbar": {
              "outlinewidth": 0,
              "ticks": ""
             }
            },
            "type": "parcoords"
           }
          ],
          "pie": [
           {
            "automargin": true,
            "type": "pie"
           }
          ],
          "scatter": [
           {
            "marker": {
             "colorbar": {
              "outlinewidth": 0,
              "ticks": ""
             }
            },
            "type": "scatter"
           }
          ],
          "scatter3d": [
           {
            "line": {
             "colorbar": {
              "outlinewidth": 0,
              "ticks": ""
             }
            },
            "marker": {
             "colorbar": {
              "outlinewidth": 0,
              "ticks": ""
             }
            },
            "type": "scatter3d"
           }
          ],
          "scattercarpet": [
           {
            "marker": {
             "colorbar": {
              "outlinewidth": 0,
              "ticks": ""
             }
            },
            "type": "scattercarpet"
           }
          ],
          "scattergeo": [
           {
            "marker": {
             "colorbar": {
              "outlinewidth": 0,
              "ticks": ""
             }
            },
            "type": "scattergeo"
           }
          ],
          "scattergl": [
           {
            "marker": {
             "colorbar": {
              "outlinewidth": 0,
              "ticks": ""
             }
            },
            "type": "scattergl"
           }
          ],
          "scattermapbox": [
           {
            "marker": {
             "colorbar": {
              "outlinewidth": 0,
              "ticks": ""
             }
            },
            "type": "scattermapbox"
           }
          ],
          "scatterpolar": [
           {
            "marker": {
             "colorbar": {
              "outlinewidth": 0,
              "ticks": ""
             }
            },
            "type": "scatterpolar"
           }
          ],
          "scatterpolargl": [
           {
            "marker": {
             "colorbar": {
              "outlinewidth": 0,
              "ticks": ""
             }
            },
            "type": "scatterpolargl"
           }
          ],
          "scatterternary": [
           {
            "marker": {
             "colorbar": {
              "outlinewidth": 0,
              "ticks": ""
             }
            },
            "type": "scatterternary"
           }
          ],
          "surface": [
           {
            "colorbar": {
             "outlinewidth": 0,
             "ticks": ""
            },
            "colorscale": [
             [
              0,
              "#0d0887"
             ],
             [
              0.1111111111111111,
              "#46039f"
             ],
             [
              0.2222222222222222,
              "#7201a8"
             ],
             [
              0.3333333333333333,
              "#9c179e"
             ],
             [
              0.4444444444444444,
              "#bd3786"
             ],
             [
              0.5555555555555556,
              "#d8576b"
             ],
             [
              0.6666666666666666,
              "#ed7953"
             ],
             [
              0.7777777777777778,
              "#fb9f3a"
             ],
             [
              0.8888888888888888,
              "#fdca26"
             ],
             [
              1,
              "#f0f921"
             ]
            ],
            "type": "surface"
           }
          ],
          "table": [
           {
            "cells": {
             "fill": {
              "color": "#EBF0F8"
             },
             "line": {
              "color": "white"
             }
            },
            "header": {
             "fill": {
              "color": "#C8D4E3"
             },
             "line": {
              "color": "white"
             }
            },
            "type": "table"
           }
          ]
         },
         "layout": {
          "annotationdefaults": {
           "arrowcolor": "#2a3f5f",
           "arrowhead": 0,
           "arrowwidth": 1
          },
          "coloraxis": {
           "colorbar": {
            "outlinewidth": 0,
            "ticks": ""
           }
          },
          "colorscale": {
           "diverging": [
            [
             0,
             "#8e0152"
            ],
            [
             0.1,
             "#c51b7d"
            ],
            [
             0.2,
             "#de77ae"
            ],
            [
             0.3,
             "#f1b6da"
            ],
            [
             0.4,
             "#fde0ef"
            ],
            [
             0.5,
             "#f7f7f7"
            ],
            [
             0.6,
             "#e6f5d0"
            ],
            [
             0.7,
             "#b8e186"
            ],
            [
             0.8,
             "#7fbc41"
            ],
            [
             0.9,
             "#4d9221"
            ],
            [
             1,
             "#276419"
            ]
           ],
           "sequential": [
            [
             0,
             "#0d0887"
            ],
            [
             0.1111111111111111,
             "#46039f"
            ],
            [
             0.2222222222222222,
             "#7201a8"
            ],
            [
             0.3333333333333333,
             "#9c179e"
            ],
            [
             0.4444444444444444,
             "#bd3786"
            ],
            [
             0.5555555555555556,
             "#d8576b"
            ],
            [
             0.6666666666666666,
             "#ed7953"
            ],
            [
             0.7777777777777778,
             "#fb9f3a"
            ],
            [
             0.8888888888888888,
             "#fdca26"
            ],
            [
             1,
             "#f0f921"
            ]
           ],
           "sequentialminus": [
            [
             0,
             "#0d0887"
            ],
            [
             0.1111111111111111,
             "#46039f"
            ],
            [
             0.2222222222222222,
             "#7201a8"
            ],
            [
             0.3333333333333333,
             "#9c179e"
            ],
            [
             0.4444444444444444,
             "#bd3786"
            ],
            [
             0.5555555555555556,
             "#d8576b"
            ],
            [
             0.6666666666666666,
             "#ed7953"
            ],
            [
             0.7777777777777778,
             "#fb9f3a"
            ],
            [
             0.8888888888888888,
             "#fdca26"
            ],
            [
             1,
             "#f0f921"
            ]
           ]
          },
          "colorway": [
           "#636efa",
           "#EF553B",
           "#00cc96",
           "#ab63fa",
           "#FFA15A",
           "#19d3f3",
           "#FF6692",
           "#B6E880",
           "#FF97FF",
           "#FECB52"
          ],
          "font": {
           "color": "#2a3f5f"
          },
          "geo": {
           "bgcolor": "white",
           "lakecolor": "white",
           "landcolor": "#E5ECF6",
           "showlakes": true,
           "showland": true,
           "subunitcolor": "white"
          },
          "hoverlabel": {
           "align": "left"
          },
          "hovermode": "closest",
          "mapbox": {
           "style": "light"
          },
          "paper_bgcolor": "white",
          "plot_bgcolor": "#E5ECF6",
          "polar": {
           "angularaxis": {
            "gridcolor": "white",
            "linecolor": "white",
            "ticks": ""
           },
           "bgcolor": "#E5ECF6",
           "radialaxis": {
            "gridcolor": "white",
            "linecolor": "white",
            "ticks": ""
           }
          },
          "scene": {
           "xaxis": {
            "backgroundcolor": "#E5ECF6",
            "gridcolor": "white",
            "gridwidth": 2,
            "linecolor": "white",
            "showbackground": true,
            "ticks": "",
            "zerolinecolor": "white"
           },
           "yaxis": {
            "backgroundcolor": "#E5ECF6",
            "gridcolor": "white",
            "gridwidth": 2,
            "linecolor": "white",
            "showbackground": true,
            "ticks": "",
            "zerolinecolor": "white"
           },
           "zaxis": {
            "backgroundcolor": "#E5ECF6",
            "gridcolor": "white",
            "gridwidth": 2,
            "linecolor": "white",
            "showbackground": true,
            "ticks": "",
            "zerolinecolor": "white"
           }
          },
          "shapedefaults": {
           "line": {
            "color": "#2a3f5f"
           }
          },
          "ternary": {
           "aaxis": {
            "gridcolor": "white",
            "linecolor": "white",
            "ticks": ""
           },
           "baxis": {
            "gridcolor": "white",
            "linecolor": "white",
            "ticks": ""
           },
           "bgcolor": "#E5ECF6",
           "caxis": {
            "gridcolor": "white",
            "linecolor": "white",
            "ticks": ""
           }
          },
          "title": {
           "x": 0.05
          },
          "xaxis": {
           "automargin": true,
           "gridcolor": "white",
           "linecolor": "white",
           "ticks": "",
           "title": {
            "standoff": 15
           },
           "zerolinecolor": "white",
           "zerolinewidth": 2
          },
          "yaxis": {
           "automargin": true,
           "gridcolor": "white",
           "linecolor": "white",
           "ticks": "",
           "title": {
            "standoff": 15
           },
           "zerolinecolor": "white",
           "zerolinewidth": 2
          }
         }
        },
        "xaxis": {
         "anchor": "y",
         "domain": [
          0,
          1
         ],
         "title": {
          "text": "stringency_index"
         }
        },
        "xaxis2": {
         "anchor": "y2",
         "domain": [
          0,
          1
         ],
         "matches": "x",
         "showgrid": true,
         "showticklabels": false
        },
        "yaxis": {
         "anchor": "x",
         "domain": [
          0,
          0.7326
         ],
         "title": {
          "text": "count"
         }
        },
        "yaxis2": {
         "anchor": "x2",
         "domain": [
          0.7426,
          1
         ],
         "matches": "y2",
         "showgrid": false,
         "showline": false,
         "showticklabels": false,
         "ticks": ""
        }
       }
      },
      "text/html": [
       "<div>\n",
       "        \n",
       "        \n",
       "            <div id=\"20987f73-0a8f-4446-b5a0-0b02b715f0ab\" class=\"plotly-graph-div\" style=\"height:525px; width:100%;\"></div>\n",
       "            <script type=\"text/javascript\">\n",
       "                require([\"plotly\"], function(Plotly) {\n",
       "                    window.PLOTLYENV=window.PLOTLYENV || {};\n",
       "                    \n",
       "                if (document.getElementById(\"20987f73-0a8f-4446-b5a0-0b02b715f0ab\")) {\n",
       "                    Plotly.newPlot(\n",
       "                        '20987f73-0a8f-4446-b5a0-0b02b715f0ab',\n",
       "                        [{\"alignmentgroup\": \"True\", \"bingroup\": \"x\", \"hoverlabel\": {\"namelength\": 0}, \"hovertemplate\": \"Cluster=Cluster 0<br>stringency_index=%{x}<br>count=%{y}\", \"legendgroup\": \"Cluster=Cluster 0\", \"marker\": {\"color\": \"#636efa\", \"opacity\": 0.7}, \"name\": \"Cluster=Cluster 0\", \"offsetgroup\": \"Cluster=Cluster 0\", \"orientation\": \"v\", \"showlegend\": true, \"type\": \"histogram\", \"x\": [81.61, 86.77, 67.19, 86.24, 66.14, 76.33, 71.71, 97.35, 82.27, 90.74, 77.12, 75.52, 74.99, 78.3, 77.64, 72.48, 84.39, 82.41, 78.96, 84.26, 86.38, 80.56, 93.38, 87.96, 97.35, 80.42, 71.16, 85.19, 86.24, 69.18, 88.75, 91.4, 92.06, 94.71, 69.97, 100.0, 80.43, 65.87, 71.42, 86.38, 82.14, 97.35, 96.03, 76.71, 88.09, 81.61, 82.02, 85.19, 74.2, 84.78, 67.99, 79.24, 85.45, 80.95, 85.85, 76.19, 69.71, 67.85, 66.53, 98.02, 76.07, 94.18, 84.12, 78.31, 96.83, 82.27, 93.38, 79.37, 100.0, 89.94, 90.74, 78.83, 64.44, 82.42, 72.87, 100.0, 78.85, 74.2, 82.93, 67.85, 80.04, 87.83, 70.91, 94.18, 85.18, 100.0, 97.35, 80.95, 74.34, 84.78, 66.53, 94.18, 86.24, 65.74, 71.44, 88.75, 71.55, 67.74, 70.25, 78.05, 88.36, 77.78, 87.84, 76.98, 90.74, 91.54, 94.58, 97.35, 95.24, 65.73, 76.71, 75.26, 76.59, 98.02, 91.93, 81.22, 84.92, 87.04, 76.19, 80.15, 71.42], \"xaxis\": \"x\", \"yaxis\": \"y\"}, {\"alignmentgroup\": \"True\", \"customdata\": [[\"Angola\", 81.61, 50.0, 2.0, \"Cluster 0\"], [\"Bahrain\", 86.77, 7532.0, 12.0, \"Cluster 0\"], [\"Bulgaria\", 67.19, 2292.0, 116.0, \"Cluster 0\"], [\"Azerbaijan\", 86.24, 3518.0, 41.0, \"Cluster 0\"], [\"Australia\", 66.14, 7068.0, 99.0, \"Cluster 0\"], [\"Afghanistan\", 76.33, 7653.0, 178.0, \"Cluster 0\"], [\"Russia\", 71.71, 299941.0, 2837.0, \"Cluster 0\"], [\"Puerto Rico\", 97.35, 2805.0, 124.0, \"Cluster 0\"], [\"Guyana\", 82.27, 125.0, 10.0, \"Cluster 0\"], [\"Colombia\", 90.74, 16935.0, 613.0, \"Cluster 0\"], [\"Suriname\", 77.12, 11.0, 1.0, \"Cluster 0\"], [\"Denmark\", 75.52, 11044.0, 551.0, \"Cluster 0\"], [\"Costa Rica\", 74.99, 882.0, 10.0, \"Cluster 0\"], [\"Bhutan\", 78.3, 21.0, 0.0, \"Cluster 0\"], [\"Sierra Leone\", 77.64, 534.0, 33.0, \"Cluster 0\"], [\"Jordan\", 72.48, 649.0, 9.0, \"Cluster 0\"], [\"Iraq\", 84.39, 3611.0, 131.0, \"Cluster 0\"], [\"Cape Verde\", 82.41, 335.0, 3.0, \"Cluster 0\"], [\"Slovak Republic\", 78.96, 1495.0, 28.0, \"Cluster 0\"], [\"Eswatini\", 84.26, 208.0, 2.0, \"Cluster 0\"], [\"Chad\", 86.38, 545.0, 56.0, \"Cluster 0\"], [\"Thailand\", 80.56, 3034.0, 56.0, \"Cluster 0\"], [\"Trinidad and Tobago\", 93.38, 116.0, 8.0, \"Cluster 0\"], [\"Tunisia\", 87.96, 1044.0, 47.0, \"Cluster 0\"], [\"Bolivia\", 97.35, 4481.0, 189.0, \"Cluster 0\"], [\"Turkey\", 80.42, 151615.0, 4199.0, \"Cluster 0\"], [\"Uruguay\", 71.16, 738.0, 20.0, \"Cluster 0\"], [\"Uzbekistan\", 85.19, 2880.0, 13.0, \"Cluster 0\"], [\"Venezuela\", 86.24, 749.0, 10.0, \"Cluster 0\"], [\"Vietnam\", 69.18, 324.0, 0.0, \"Cluster 0\"], [\"South Africa\", 88.75, 17200.0, 312.0, \"Cluster 0\"], [\"Zimbabwe\", 91.4, 46.0, 4.0, \"Cluster 0\"], [\"Ukraine\", 92.06, 18876.0, 548.0, \"Cluster 0\"], [\"South Sudan\", 94.71, 285.0, 6.0, \"Cluster 0\"], [\"Central African Republic\", 69.97, 411.0, 0.0, \"Cluster 0\"], [\"Cuba\", 100.0, 1887.0, 79.0, \"Cluster 0\"], [\"Syria\", 80.43, 58.0, 3.0, \"Cluster 0\"], [\"Seychelles\", 65.87, 11.0, 0.0, \"Cluster 0\"], [\"San Marino\", 71.42, 655.0, 41.0, \"Cluster 0\"], [\"Sudan\", 86.38, 2591.0, 105.0, \"Cluster 0\"], [\"Rwanda\", 82.14, 308.0, 0.0, \"Cluster 0\"], [\"Palestine\", 97.35, 570.0, 4.0, \"Cluster 0\"], [\"Paraguay\", 96.03, 829.0, 11.0, \"Cluster 0\"], [\"Portugal\", 76.71, 29432.0, 1247.0, \"Cluster 0\"], [\"Poland\", 88.09, 19268.0, 948.0, \"Cluster 0\"], [\"Panama\", 81.61, 9867.0, 281.0, \"Cluster 0\"], [\"Pakistan\", 82.02, 45898.0, 985.0, \"Cluster 0\"], [\"Oman\", 85.19, 5671.0, 27.0, \"Cluster 0\"], [\"Malaysia\", 74.2, 6978.0, 114.0, \"Cluster 0\"], [\"Mauritius\", 84.78, 332.0, 10.0, \"Cluster 0\"], [\"Mongolia\", 67.99, 140.0, 0.0, \"Cluster 0\"], [\"Myanmar\", 79.24, 193.0, 6.0, \"Cluster 0\"], [\"Mexico\", 85.45, 54346.0, 5666.0, \"Cluster 0\"], [\"Dominica\", 80.95, 16.0, 0.0, \"Cluster 0\"], [\"Ecuador\", 85.85, 34151.0, 2839.0, \"Cluster 0\"], [\"Ethiopia\", 76.19, 365.0, 5.0, \"Cluster 0\"], [\"Guam\", 69.71, 154.0, 5.0, \"Cluster 0\"], [\"Hong Kong\", 67.85, 1055.0, 4.0, \"Cluster 0\"], [\"Croatia\", 66.53, 2232.0, 96.0, \"Cluster 0\"], [\"Congo\", 98.02, 420.0, 15.0, \"Cluster 0\"], [\"India\", 76.07, 106750.0, 3303.0, \"Cluster 0\"], [\"Kenya\", 94.18, 963.0, 50.0, \"Cluster 0\"], [\"Lebanon\", 84.12, 954.0, 26.0, \"Cluster 0\"], [\"Liberia\", 78.31, 233.0, 23.0, \"Cluster 0\"], [\"Libya\", 96.83, 68.0, 3.0, \"Cluster 0\"], [\"Sri Lanka\", 82.27, 1027.0, 9.0, \"Cluster 0\"], [\"Morocco\", 93.38, 7023.0, 193.0, \"Cluster 0\"], [\"Kazakhstan\", 79.37, 6969.0, 35.0, \"Cluster 0\"], [\"El Salvador\", 100.0, 1498.0, 31.0, \"Cluster 0\"], [\"Uganda\", 89.94, 260.0, 0.0, \"Cluster 0\"], [\"Kosovo\", 90.74, 989.0, 29.0, \"Cluster 0\"], [\"Chile\", 78.83, 49579.0, 509.0, \"Cluster 0\"], [\"China\", 64.44, 84065.0, 4638.0, \"Cluster 0\"], [\"Algeria\", 82.42, 7377.0, 561.0, \"Cluster 0\"], [\"Lesotho\", 72.87, 1.0, 0.0, \"Cluster 0\"], [\"Kuwait\", 100.0, 16764.0, 121.0, \"Cluster 0\"], [\"Kyrgyz Republic\", 78.85, 1270.0, 14.0, \"Cluster 0\"], [\"Jamaica\", 74.2, 520.0, 9.0, \"Cluster 0\"], [\"Israel\", 82.93, 16650.0, 277.0, \"Cluster 0\"], [\"Cameroon\", 67.85, 3529.0, 140.0, \"Cluster 0\"], [\"Democratic Republic of Congo\", 80.04, 1731.0, 61.0, \"Cluster 0\"], [\"Ireland\", 87.83, 24251.0, 1561.0, \"Cluster 0\"], [\"Indonesia\", 70.91, 18496.0, 1221.0, \"Cluster 0\"], [\"Cyprus\", 94.18, 918.0, 17.0, \"Cluster 0\"], [\"Singapore\", 85.18, 28794.0, 22.0, \"Cluster 0\"], [\"Honduras\", 100.0, 2955.0, 147.0, \"Cluster 0\"], [\"Guatemala\", 97.35, 2133.0, 43.0, \"Cluster 0\"], [\"Greenland\", 80.95, 11.0, 0.0, \"Cluster 0\"], [\"Greece\", 74.34, 2840.0, 165.0, \"Cluster 0\"], [\"Gambia\", 84.78, 24.0, 1.0, \"Cluster 0\"], [\"Ghana\", 66.53, 6096.0, 31.0, \"Cluster 0\"], [\"Georgia\", 94.18, 707.0, 12.0, \"Cluster 0\"], [\"Gabon\", 86.24, 1502.0, 12.0, \"Cluster 0\"], [\"Finland\", 65.74, 6399.0, 301.0, \"Cluster 0\"], [\"Germany\", 71.44, 176007.0, 8090.0, \"Cluster 0\"], [\"Egypt\", 88.75, 13484.0, 659.0, \"Cluster 0\"], [\"Switzerland\", 71.55, 30535.0, 1613.0, \"Cluster 0\"], [\"Canada\", 67.74, 79101.0, 5912.0, \"Cluster 0\"], [\"Cote d'Ivoire\", 70.25, 2153.0, 28.0, \"Cluster 0\"], [\"Botswana\", 78.05, 25.0, 1.0, \"Cluster 0\"], [\"Albania\", 88.36, 949.0, 31.0, \"Cluster 0\"], [\"United Arab Emirates\", 77.78, 25063.0, 227.0, \"Cluster 0\"], [\"Saudi Arabia\", 87.84, 59854.0, 329.0, \"Cluster 0\"], [\"Romania\", 76.98, 17191.0, 1126.0, \"Cluster 0\"], [\"Qatar\", 90.74, 35606.0, 15.0, \"Cluster 0\"], [\"Argentina\", 91.54, 8796.0, 393.0, \"Cluster 0\"], [\"Philippines\", 94.58, 12942.0, 837.0, \"Cluster 0\"], [\"Peru\", 97.35, 99483.0, 2914.0, \"Cluster 0\"], [\"Nepal\", 95.24, 402.0, 2.0, \"Cluster 0\"], [\"Luxembourg\", 65.73, 3958.0, 109.0, \"Cluster 0\"], [\"Netherlands\", 76.71, 44249.0, 5715.0, \"Cluster 0\"], [\"Belgium\", 75.26, 55791.0, 9108.0, \"Cluster 0\"], [\"Nigeria\", 76.59, 6401.0, 192.0, \"Cluster 0\"], [\"Dominican Republic\", 98.02, 13223.0, 441.0, \"Cluster 0\"], [\"Bangladesh\", 91.93, 25121.0, 370.0, \"Cluster 0\"], [\"Bosnia and Herzegovina\", 81.22, 2319.0, 133.0, \"Cluster 0\"], [\"Moldova\", 84.92, 6340.0, 221.0, \"Cluster 0\"], [\"Belize\", 87.04, 18.0, 2.0, \"Cluster 0\"], [\"Mali\", 76.19, 901.0, 53.0, \"Cluster 0\"], [\"Bermuda\", 80.15, 125.0, 9.0, \"Cluster 0\"], [\"Barbados\", 71.42, 90.0, 7.0, \"Cluster 0\"]], \"hoverlabel\": {\"namelength\": 0}, \"hovertemplate\": \"Cluster=%{customdata[4]}<br>stringency_index=%{customdata[1]}<br>country_name=%{customdata[0]}<br>confirmed_cases=%{customdata[2]}<br>deaths=%{customdata[3]}\", \"legendgroup\": \"Cluster=Cluster 0\", \"marker\": {\"color\": \"#636efa\"}, \"name\": \"Cluster=Cluster 0\", \"notched\": true, \"offsetgroup\": \"Cluster=Cluster 0\", \"showlegend\": false, \"type\": \"box\", \"x\": [81.61, 86.77, 67.19, 86.24, 66.14, 76.33, 71.71, 97.35, 82.27, 90.74, 77.12, 75.52, 74.99, 78.3, 77.64, 72.48, 84.39, 82.41, 78.96, 84.26, 86.38, 80.56, 93.38, 87.96, 97.35, 80.42, 71.16, 85.19, 86.24, 69.18, 88.75, 91.4, 92.06, 94.71, 69.97, 100.0, 80.43, 65.87, 71.42, 86.38, 82.14, 97.35, 96.03, 76.71, 88.09, 81.61, 82.02, 85.19, 74.2, 84.78, 67.99, 79.24, 85.45, 80.95, 85.85, 76.19, 69.71, 67.85, 66.53, 98.02, 76.07, 94.18, 84.12, 78.31, 96.83, 82.27, 93.38, 79.37, 100.0, 89.94, 90.74, 78.83, 64.44, 82.42, 72.87, 100.0, 78.85, 74.2, 82.93, 67.85, 80.04, 87.83, 70.91, 94.18, 85.18, 100.0, 97.35, 80.95, 74.34, 84.78, 66.53, 94.18, 86.24, 65.74, 71.44, 88.75, 71.55, 67.74, 70.25, 78.05, 88.36, 77.78, 87.84, 76.98, 90.74, 91.54, 94.58, 97.35, 95.24, 65.73, 76.71, 75.26, 76.59, 98.02, 91.93, 81.22, 84.92, 87.04, 76.19, 80.15, 71.42], \"xaxis\": \"x2\", \"yaxis\": \"y2\"}, {\"alignmentgroup\": \"True\", \"bingroup\": \"x\", \"hoverlabel\": {\"namelength\": 0}, \"hovertemplate\": \"Cluster=Cluster 1<br>stringency_index=%{x}<br>count=%{y}\", \"legendgroup\": \"Cluster=Cluster 1\", \"marker\": {\"color\": \"#EF553B\", \"opacity\": 0.7}, \"name\": \"Cluster=Cluster 1\", \"offsetgroup\": \"Cluster=Cluster 1\", \"orientation\": \"v\", \"showlegend\": true, \"type\": \"histogram\", \"x\": [68.41], \"xaxis\": \"x\", \"yaxis\": \"y\"}, {\"alignmentgroup\": \"True\", \"customdata\": [[\"United States\", 68.41, 1528568.0, 91921.0, \"Cluster 1\"]], \"hoverlabel\": {\"namelength\": 0}, \"hovertemplate\": \"Cluster=%{customdata[4]}<br>stringency_index=%{customdata[1]}<br>country_name=%{customdata[0]}<br>confirmed_cases=%{customdata[2]}<br>deaths=%{customdata[3]}\", \"legendgroup\": \"Cluster=Cluster 1\", \"marker\": {\"color\": \"#EF553B\"}, \"name\": \"Cluster=Cluster 1\", \"notched\": true, \"offsetgroup\": \"Cluster=Cluster 1\", \"showlegend\": false, \"type\": \"box\", \"x\": [68.41], \"xaxis\": \"x2\", \"yaxis\": \"y2\"}, {\"alignmentgroup\": \"True\", \"bingroup\": \"x\", \"hoverlabel\": {\"namelength\": 0}, \"hovertemplate\": \"Cluster=Cluster 2<br>stringency_index=%{x}<br>count=%{y}\", \"legendgroup\": \"Cluster=Cluster 2\", \"marker\": {\"color\": \"#00cc96\", \"opacity\": 0.7}, \"name\": \"Cluster=Cluster 2\", \"offsetgroup\": \"Cluster=Cluster 2\", \"orientation\": \"v\", \"showlegend\": true, \"type\": \"histogram\", \"x\": [68.78, 75.15, 73.01, 83.46, 83.07], \"xaxis\": \"x\", \"yaxis\": \"y\"}, {\"alignmentgroup\": \"True\", \"customdata\": [[\"Italy\", 68.78, 226699.0, 32169.0, \"Cluster 2\"], [\"Brazil\", 75.15, 271628.0, 17971.0, \"Cluster 2\"], [\"United Kingdom\", 73.01, 248818.0, 35341.0, \"Cluster 2\"], [\"France\", 83.46, 143427.0, 28022.0, \"Cluster 2\"], [\"Spain\", 83.07, 232555.0, 27888.0, \"Cluster 2\"]], \"hoverlabel\": {\"namelength\": 0}, \"hovertemplate\": \"Cluster=%{customdata[4]}<br>stringency_index=%{customdata[1]}<br>country_name=%{customdata[0]}<br>confirmed_cases=%{customdata[2]}<br>deaths=%{customdata[3]}\", \"legendgroup\": \"Cluster=Cluster 2\", \"marker\": {\"color\": \"#00cc96\"}, \"name\": \"Cluster=Cluster 2\", \"notched\": true, \"offsetgroup\": \"Cluster=Cluster 2\", \"showlegend\": false, \"type\": \"box\", \"x\": [68.78, 75.15, 73.01, 83.46, 83.07], \"xaxis\": \"x2\", \"yaxis\": \"y2\"}, {\"alignmentgroup\": \"True\", \"bingroup\": \"x\", \"hoverlabel\": {\"namelength\": 0}, \"hovertemplate\": \"Cluster=Cluster 3<br>stringency_index=%{x}<br>count=%{y}\", \"legendgroup\": \"Cluster=Cluster 3\", \"marker\": {\"color\": \"#ab63fa\", \"opacity\": 0.7}, \"name\": \"Cluster=Cluster 3\", \"offsetgroup\": \"Cluster=Cluster 3\", \"orientation\": \"v\", \"showlegend\": true, \"type\": \"histogram\", \"x\": [58.07, 56.22, 62.04, 39.02, 15.47, 22.22, 61.25, 59.65, 59.39, 41.54, 56.87, 62.7, 47.35, 43.66, 50.4, 11.11, 33.33, 61.24, 54.23, 59.26, 45.37, 53.83, 56.61, 29.36, 38.49, 47.48, 0.0, 43.79, 56.34, 56.74, 43.51, 47.23, 50.41, 56.34, 59.53, 61.37, 64.43, 48.15], \"xaxis\": \"x\", \"yaxis\": \"y\"}, {\"alignmentgroup\": \"True\", \"customdata\": [[\"Norway\", 58.07, 8257.0, 233.0, \"Cluster 3\"], [\"Laos\", 56.22, 19.0, 0.0, \"Cluster 3\"], [\"Burkina Faso\", 62.04, 806.0, 52.0, \"Cluster 3\"], [\"Macao\", 39.02, 45.0, 0.0, \"Cluster 3\"], [\"Belarus\", 15.47, 31508.0, 175.0, \"Cluster 3\"], [\"Burundi\", 22.22, 42.0, 1.0, \"Cluster 3\"], [\"Slovenia\", 61.25, 1467.0, 104.0, \"Cluster 3\"], [\"Czech Republic\", 59.65, 8647.0, 302.0, \"Cluster 3\"], [\"Somalia\", 59.39, 1502.0, 59.0, \"Cluster 3\"], [\"Estonia\", 41.54, 1791.0, 64.0, \"Cluster 3\"], [\"Serbia\", 56.87, 10733.0, 234.0, \"Cluster 3\"], [\"Senegal\", 62.7, 2617.0, 30.0, \"Cluster 3\"], [\"Sweden\", 47.35, 30799.0, 3743.0, \"Cluster 3\"], [\"Papua New Guinea\", 43.66, 8.0, 0.0, \"Cluster 3\"], [\"Tanzania\", 50.4, 509.0, 21.0, \"Cluster 3\"], [\"Nicaragua\", 11.11, 25.0, 8.0, \"Cluster 3\"], [\"Niger\", 33.33, 914.0, 55.0, \"Cluster 3\"], [\"Namibia\", 61.24, 712.0, 7.0, \"Cluster 3\"], [\"Yemen\", 54.23, 167.0, 28.0, \"Cluster 3\"], [\"Malawi\", 59.26, 71.0, 3.0, \"Cluster 3\"], [\"Zambia\", 45.37, 772.0, 7.0, \"Cluster 3\"], [\"Mozambique\", 53.83, 146.0, 0.0, \"Cluster 3\"], [\"Iceland\", 56.61, 1802.0, 10.0, \"Cluster 3\"], [\"Taiwan\", 29.36, 440.0, 7.0, \"Cluster 3\"], [\"New Zealand\", 38.49, 1153.0, 21.0, \"Cluster 3\"], [\"Aruba\", 47.48, 101.0, 3.0, \"Cluster 3\"], [\"Lithuania\", 0.0, 1562.0, 60.0, \"Cluster 3\"], [\"Japan\", 43.79, 16385.0, 771.0, \"Cluster 3\"], [\"Andorra\", 56.34, 761.0, 51.0, \"Cluster 3\"], [\"Brunei\", 56.74, 141.0, 1.0, \"Cluster 3\"], [\"South Korea\", 43.51, 11110.0, 263.0, \"Cluster 3\"], [\"Iran\", 47.23, 124603.0, 7119.0, \"Cluster 3\"], [\"Solomon Islands\", 50.41, 0.0, 0.0, \"Cluster 3\"], [\"Austria\", 56.34, 16257.0, 632.0, \"Cluster 3\"], [\"Hungary\", 59.53, 3598.0, 470.0, \"Cluster 3\"], [\"Djibouti\", 61.37, 1518.0, 7.0, \"Cluster 3\"], [\"Madagascar\", 64.43, 326.0, 2.0, \"Cluster 3\"], [\"Benin\", 48.15, 130.0, 2.0, \"Cluster 3\"]], \"hoverlabel\": {\"namelength\": 0}, \"hovertemplate\": \"Cluster=%{customdata[4]}<br>stringency_index=%{customdata[1]}<br>country_name=%{customdata[0]}<br>confirmed_cases=%{customdata[2]}<br>deaths=%{customdata[3]}\", \"legendgroup\": \"Cluster=Cluster 3\", \"marker\": {\"color\": \"#ab63fa\"}, \"name\": \"Cluster=Cluster 3\", \"notched\": true, \"offsetgroup\": \"Cluster=Cluster 3\", \"showlegend\": false, \"type\": \"box\", \"x\": [58.07, 56.22, 62.04, 39.02, 15.47, 22.22, 61.25, 59.65, 59.39, 41.54, 56.87, 62.7, 47.35, 43.66, 50.4, 11.11, 33.33, 61.24, 54.23, 59.26, 45.37, 53.83, 56.61, 29.36, 38.49, 47.48, 0.0, 43.79, 56.34, 56.74, 43.51, 47.23, 50.41, 56.34, 59.53, 61.37, 64.43, 48.15], \"xaxis\": \"x2\", \"yaxis\": \"y2\"}],\n",
       "                        {\"barmode\": \"relative\", \"legend\": {\"tracegroupgap\": 0}, \"margin\": {\"t\": 60}, \"template\": {\"data\": {\"bar\": [{\"error_x\": {\"color\": \"#2a3f5f\"}, \"error_y\": {\"color\": \"#2a3f5f\"}, \"marker\": {\"line\": {\"color\": \"#E5ECF6\", \"width\": 0.5}}, \"type\": \"bar\"}], \"barpolar\": [{\"marker\": {\"line\": {\"color\": \"#E5ECF6\", \"width\": 0.5}}, \"type\": \"barpolar\"}], \"carpet\": [{\"aaxis\": {\"endlinecolor\": \"#2a3f5f\", \"gridcolor\": \"white\", \"linecolor\": \"white\", \"minorgridcolor\": \"white\", \"startlinecolor\": \"#2a3f5f\"}, \"baxis\": {\"endlinecolor\": \"#2a3f5f\", \"gridcolor\": \"white\", \"linecolor\": \"white\", \"minorgridcolor\": \"white\", \"startlinecolor\": \"#2a3f5f\"}, \"type\": \"carpet\"}], \"choropleth\": [{\"colorbar\": {\"outlinewidth\": 0, \"ticks\": \"\"}, \"type\": \"choropleth\"}], \"contour\": [{\"colorbar\": {\"outlinewidth\": 0, \"ticks\": \"\"}, \"colorscale\": [[0.0, \"#0d0887\"], [0.1111111111111111, \"#46039f\"], [0.2222222222222222, \"#7201a8\"], [0.3333333333333333, \"#9c179e\"], [0.4444444444444444, \"#bd3786\"], [0.5555555555555556, \"#d8576b\"], [0.6666666666666666, \"#ed7953\"], [0.7777777777777778, \"#fb9f3a\"], [0.8888888888888888, \"#fdca26\"], [1.0, \"#f0f921\"]], \"type\": \"contour\"}], \"contourcarpet\": [{\"colorbar\": {\"outlinewidth\": 0, \"ticks\": \"\"}, \"type\": \"contourcarpet\"}], \"heatmap\": [{\"colorbar\": {\"outlinewidth\": 0, \"ticks\": \"\"}, \"colorscale\": [[0.0, \"#0d0887\"], [0.1111111111111111, \"#46039f\"], [0.2222222222222222, \"#7201a8\"], [0.3333333333333333, \"#9c179e\"], [0.4444444444444444, \"#bd3786\"], [0.5555555555555556, \"#d8576b\"], [0.6666666666666666, \"#ed7953\"], [0.7777777777777778, \"#fb9f3a\"], [0.8888888888888888, \"#fdca26\"], [1.0, \"#f0f921\"]], \"type\": \"heatmap\"}], \"heatmapgl\": [{\"colorbar\": {\"outlinewidth\": 0, \"ticks\": \"\"}, \"colorscale\": [[0.0, \"#0d0887\"], [0.1111111111111111, \"#46039f\"], [0.2222222222222222, \"#7201a8\"], [0.3333333333333333, \"#9c179e\"], [0.4444444444444444, \"#bd3786\"], [0.5555555555555556, \"#d8576b\"], [0.6666666666666666, \"#ed7953\"], [0.7777777777777778, \"#fb9f3a\"], [0.8888888888888888, \"#fdca26\"], [1.0, \"#f0f921\"]], \"type\": \"heatmapgl\"}], \"histogram\": [{\"marker\": {\"colorbar\": {\"outlinewidth\": 0, \"ticks\": \"\"}}, \"type\": \"histogram\"}], \"histogram2d\": [{\"colorbar\": {\"outlinewidth\": 0, \"ticks\": \"\"}, \"colorscale\": [[0.0, \"#0d0887\"], [0.1111111111111111, \"#46039f\"], [0.2222222222222222, \"#7201a8\"], [0.3333333333333333, \"#9c179e\"], [0.4444444444444444, \"#bd3786\"], [0.5555555555555556, \"#d8576b\"], [0.6666666666666666, \"#ed7953\"], [0.7777777777777778, \"#fb9f3a\"], [0.8888888888888888, \"#fdca26\"], [1.0, \"#f0f921\"]], \"type\": \"histogram2d\"}], \"histogram2dcontour\": [{\"colorbar\": {\"outlinewidth\": 0, \"ticks\": \"\"}, \"colorscale\": [[0.0, \"#0d0887\"], [0.1111111111111111, \"#46039f\"], [0.2222222222222222, \"#7201a8\"], [0.3333333333333333, \"#9c179e\"], [0.4444444444444444, \"#bd3786\"], [0.5555555555555556, \"#d8576b\"], [0.6666666666666666, \"#ed7953\"], [0.7777777777777778, \"#fb9f3a\"], [0.8888888888888888, \"#fdca26\"], [1.0, \"#f0f921\"]], \"type\": \"histogram2dcontour\"}], \"mesh3d\": [{\"colorbar\": {\"outlinewidth\": 0, \"ticks\": \"\"}, \"type\": \"mesh3d\"}], \"parcoords\": [{\"line\": {\"colorbar\": {\"outlinewidth\": 0, \"ticks\": \"\"}}, \"type\": \"parcoords\"}], \"pie\": [{\"automargin\": true, \"type\": \"pie\"}], \"scatter\": [{\"marker\": {\"colorbar\": {\"outlinewidth\": 0, \"ticks\": \"\"}}, \"type\": \"scatter\"}], \"scatter3d\": [{\"line\": {\"colorbar\": {\"outlinewidth\": 0, \"ticks\": \"\"}}, \"marker\": {\"colorbar\": {\"outlinewidth\": 0, \"ticks\": \"\"}}, \"type\": \"scatter3d\"}], \"scattercarpet\": [{\"marker\": {\"colorbar\": {\"outlinewidth\": 0, \"ticks\": \"\"}}, \"type\": \"scattercarpet\"}], \"scattergeo\": [{\"marker\": {\"colorbar\": {\"outlinewidth\": 0, \"ticks\": \"\"}}, \"type\": \"scattergeo\"}], \"scattergl\": [{\"marker\": {\"colorbar\": {\"outlinewidth\": 0, \"ticks\": \"\"}}, \"type\": \"scattergl\"}], \"scattermapbox\": [{\"marker\": {\"colorbar\": {\"outlinewidth\": 0, \"ticks\": \"\"}}, \"type\": \"scattermapbox\"}], \"scatterpolar\": [{\"marker\": {\"colorbar\": {\"outlinewidth\": 0, \"ticks\": \"\"}}, \"type\": \"scatterpolar\"}], \"scatterpolargl\": [{\"marker\": {\"colorbar\": {\"outlinewidth\": 0, \"ticks\": \"\"}}, \"type\": \"scatterpolargl\"}], \"scatterternary\": [{\"marker\": {\"colorbar\": {\"outlinewidth\": 0, \"ticks\": \"\"}}, \"type\": \"scatterternary\"}], \"surface\": [{\"colorbar\": {\"outlinewidth\": 0, \"ticks\": \"\"}, \"colorscale\": [[0.0, \"#0d0887\"], [0.1111111111111111, \"#46039f\"], [0.2222222222222222, \"#7201a8\"], [0.3333333333333333, \"#9c179e\"], [0.4444444444444444, \"#bd3786\"], [0.5555555555555556, \"#d8576b\"], [0.6666666666666666, \"#ed7953\"], [0.7777777777777778, \"#fb9f3a\"], [0.8888888888888888, \"#fdca26\"], [1.0, \"#f0f921\"]], \"type\": \"surface\"}], \"table\": [{\"cells\": {\"fill\": {\"color\": \"#EBF0F8\"}, \"line\": {\"color\": \"white\"}}, \"header\": {\"fill\": {\"color\": \"#C8D4E3\"}, \"line\": {\"color\": \"white\"}}, \"type\": \"table\"}]}, \"layout\": {\"annotationdefaults\": {\"arrowcolor\": \"#2a3f5f\", \"arrowhead\": 0, \"arrowwidth\": 1}, \"coloraxis\": {\"colorbar\": {\"outlinewidth\": 0, \"ticks\": \"\"}}, \"colorscale\": {\"diverging\": [[0, \"#8e0152\"], [0.1, \"#c51b7d\"], [0.2, \"#de77ae\"], [0.3, \"#f1b6da\"], [0.4, \"#fde0ef\"], [0.5, \"#f7f7f7\"], [0.6, \"#e6f5d0\"], [0.7, \"#b8e186\"], [0.8, \"#7fbc41\"], [0.9, \"#4d9221\"], [1, \"#276419\"]], \"sequential\": [[0.0, \"#0d0887\"], [0.1111111111111111, \"#46039f\"], [0.2222222222222222, \"#7201a8\"], [0.3333333333333333, \"#9c179e\"], [0.4444444444444444, \"#bd3786\"], [0.5555555555555556, \"#d8576b\"], [0.6666666666666666, \"#ed7953\"], [0.7777777777777778, \"#fb9f3a\"], [0.8888888888888888, \"#fdca26\"], [1.0, \"#f0f921\"]], \"sequentialminus\": [[0.0, \"#0d0887\"], [0.1111111111111111, \"#46039f\"], [0.2222222222222222, \"#7201a8\"], [0.3333333333333333, \"#9c179e\"], [0.4444444444444444, \"#bd3786\"], [0.5555555555555556, \"#d8576b\"], [0.6666666666666666, \"#ed7953\"], [0.7777777777777778, \"#fb9f3a\"], [0.8888888888888888, \"#fdca26\"], [1.0, \"#f0f921\"]]}, \"colorway\": [\"#636efa\", \"#EF553B\", \"#00cc96\", \"#ab63fa\", \"#FFA15A\", \"#19d3f3\", \"#FF6692\", \"#B6E880\", \"#FF97FF\", \"#FECB52\"], \"font\": {\"color\": \"#2a3f5f\"}, \"geo\": {\"bgcolor\": \"white\", \"lakecolor\": \"white\", \"landcolor\": \"#E5ECF6\", \"showlakes\": true, \"showland\": true, \"subunitcolor\": \"white\"}, \"hoverlabel\": {\"align\": \"left\"}, \"hovermode\": \"closest\", \"mapbox\": {\"style\": \"light\"}, \"paper_bgcolor\": \"white\", \"plot_bgcolor\": \"#E5ECF6\", \"polar\": {\"angularaxis\": {\"gridcolor\": \"white\", \"linecolor\": \"white\", \"ticks\": \"\"}, \"bgcolor\": \"#E5ECF6\", \"radialaxis\": {\"gridcolor\": \"white\", \"linecolor\": \"white\", \"ticks\": \"\"}}, \"scene\": {\"xaxis\": {\"backgroundcolor\": \"#E5ECF6\", \"gridcolor\": \"white\", \"gridwidth\": 2, \"linecolor\": \"white\", \"showbackground\": true, \"ticks\": \"\", \"zerolinecolor\": \"white\"}, \"yaxis\": {\"backgroundcolor\": \"#E5ECF6\", \"gridcolor\": \"white\", \"gridwidth\": 2, \"linecolor\": \"white\", \"showbackground\": true, \"ticks\": \"\", \"zerolinecolor\": \"white\"}, \"zaxis\": {\"backgroundcolor\": \"#E5ECF6\", \"gridcolor\": \"white\", \"gridwidth\": 2, \"linecolor\": \"white\", \"showbackground\": true, \"ticks\": \"\", \"zerolinecolor\": \"white\"}}, \"shapedefaults\": {\"line\": {\"color\": \"#2a3f5f\"}}, \"ternary\": {\"aaxis\": {\"gridcolor\": \"white\", \"linecolor\": \"white\", \"ticks\": \"\"}, \"baxis\": {\"gridcolor\": \"white\", \"linecolor\": \"white\", \"ticks\": \"\"}, \"bgcolor\": \"#E5ECF6\", \"caxis\": {\"gridcolor\": \"white\", \"linecolor\": \"white\", \"ticks\": \"\"}}, \"title\": {\"x\": 0.05}, \"xaxis\": {\"automargin\": true, \"gridcolor\": \"white\", \"linecolor\": \"white\", \"ticks\": \"\", \"title\": {\"standoff\": 15}, \"zerolinecolor\": \"white\", \"zerolinewidth\": 2}, \"yaxis\": {\"automargin\": true, \"gridcolor\": \"white\", \"linecolor\": \"white\", \"ticks\": \"\", \"title\": {\"standoff\": 15}, \"zerolinecolor\": \"white\", \"zerolinewidth\": 2}}}, \"xaxis\": {\"anchor\": \"y\", \"domain\": [0.0, 1.0], \"title\": {\"text\": \"stringency_index\"}}, \"xaxis2\": {\"anchor\": \"y2\", \"domain\": [0.0, 1.0], \"matches\": \"x\", \"showgrid\": true, \"showticklabels\": false}, \"yaxis\": {\"anchor\": \"x\", \"domain\": [0.0, 0.7326], \"title\": {\"text\": \"count\"}}, \"yaxis2\": {\"anchor\": \"x2\", \"domain\": [0.7426, 1.0], \"matches\": \"y2\", \"showgrid\": false, \"showline\": false, \"showticklabels\": false, \"ticks\": \"\"}},\n",
       "                        {\"responsive\": true}\n",
       "                    ).then(function(){\n",
       "                            \n",
       "var gd = document.getElementById('20987f73-0a8f-4446-b5a0-0b02b715f0ab');\n",
       "var x = new MutationObserver(function (mutations, observer) {{\n",
       "        var display = window.getComputedStyle(gd).display;\n",
       "        if (!display || display === 'none') {{\n",
       "            console.log([gd, 'removed!']);\n",
       "            Plotly.purge(gd);\n",
       "            observer.disconnect();\n",
       "        }}\n",
       "}});\n",
       "\n",
       "// Listen for the removal of the full notebook cells\n",
       "var notebookContainer = gd.closest('#notebook-container');\n",
       "if (notebookContainer) {{\n",
       "    x.observe(notebookContainer, {childList: true});\n",
       "}}\n",
       "\n",
       "// Listen for the clearing of the current output cell\n",
       "var outputEl = gd.closest('.output');\n",
       "if (outputEl) {{\n",
       "    x.observe(outputEl, {childList: true});\n",
       "}}\n",
       "\n",
       "                        })\n",
       "                };\n",
       "                });\n",
       "            </script>\n",
       "        </div>"
      ]
     },
     "metadata": {},
     "output_type": "display_data"
    }
   ],
   "source": [
    "# cluster 0 countries have high stringency_index\n",
    "plot_model(kmeans, plot = 'distribution', feature = 'stringency_index')"
   ]
  },
  {
   "cell_type": "code",
   "execution_count": 29,
   "metadata": {},
   "outputs": [
    {
     "data": {
      "text/html": [
       "        <script type=\"text/javascript\">\n",
       "        window.PlotlyConfig = {MathJaxConfig: 'local'};\n",
       "        if (window.MathJax) {MathJax.Hub.Config({SVG: {font: \"STIX-Web\"}});}\n",
       "        if (typeof require !== 'undefined') {\n",
       "        require.undef(\"plotly\");\n",
       "        requirejs.config({\n",
       "            paths: {\n",
       "                'plotly': ['https://cdn.plot.ly/plotly-latest.min']\n",
       "            }\n",
       "        });\n",
       "        require(['plotly'], function(Plotly) {\n",
       "            window._Plotly = Plotly;\n",
       "        });\n",
       "        }\n",
       "        </script>\n",
       "        "
      ]
     },
     "metadata": {},
     "output_type": "display_data"
    },
    {
     "data": {
      "application/vnd.plotly.v1+json": {
       "config": {
        "plotlyServerURL": "https://plot.ly"
       },
       "data": [
        {
         "alignmentgroup": "True",
         "bingroup": "x",
         "hoverlabel": {
          "namelength": 0
         },
         "hovertemplate": "Cluster=Cluster 0<br>confirmed_cases=%{x}<br>count=%{y}",
         "legendgroup": "Cluster=Cluster 0",
         "marker": {
          "color": "#636efa",
          "opacity": 0.7
         },
         "name": "Cluster=Cluster 0",
         "offsetgroup": "Cluster=Cluster 0",
         "orientation": "v",
         "showlegend": true,
         "type": "histogram",
         "x": [
          50,
          7532,
          2292,
          3518,
          7068,
          7653,
          299941,
          2805,
          125,
          16935,
          11,
          11044,
          882,
          21,
          534,
          649,
          3611,
          335,
          1495,
          208,
          545,
          3034,
          116,
          1044,
          4481,
          151615,
          738,
          2880,
          749,
          324,
          17200,
          46,
          18876,
          285,
          411,
          1887,
          58,
          11,
          655,
          2591,
          308,
          570,
          829,
          29432,
          19268,
          9867,
          45898,
          5671,
          6978,
          332,
          140,
          193,
          54346,
          16,
          34151,
          365,
          154,
          1055,
          2232,
          420,
          106750,
          963,
          954,
          233,
          68,
          1027,
          7023,
          6969,
          1498,
          260,
          989,
          49579,
          84065,
          7377,
          1,
          16764,
          1270,
          520,
          16650,
          3529,
          1731,
          24251,
          18496,
          918,
          28794,
          2955,
          2133,
          11,
          2840,
          24,
          6096,
          707,
          1502,
          6399,
          176007,
          13484,
          30535,
          79101,
          2153,
          25,
          949,
          25063,
          59854,
          17191,
          35606,
          8796,
          12942,
          99483,
          402,
          3958,
          44249,
          55791,
          6401,
          13223,
          25121,
          2319,
          6340,
          18,
          901,
          125,
          90
         ],
         "xaxis": "x",
         "yaxis": "y"
        },
        {
         "alignmentgroup": "True",
         "customdata": [
          [
           "Angola",
           81.61,
           50,
           2,
           "Cluster 0"
          ],
          [
           "Bahrain",
           86.77,
           7532,
           12,
           "Cluster 0"
          ],
          [
           "Bulgaria",
           67.19,
           2292,
           116,
           "Cluster 0"
          ],
          [
           "Azerbaijan",
           86.24,
           3518,
           41,
           "Cluster 0"
          ],
          [
           "Australia",
           66.14,
           7068,
           99,
           "Cluster 0"
          ],
          [
           "Afghanistan",
           76.33,
           7653,
           178,
           "Cluster 0"
          ],
          [
           "Russia",
           71.71,
           299941,
           2837,
           "Cluster 0"
          ],
          [
           "Puerto Rico",
           97.35,
           2805,
           124,
           "Cluster 0"
          ],
          [
           "Guyana",
           82.27,
           125,
           10,
           "Cluster 0"
          ],
          [
           "Colombia",
           90.74,
           16935,
           613,
           "Cluster 0"
          ],
          [
           "Suriname",
           77.12,
           11,
           1,
           "Cluster 0"
          ],
          [
           "Denmark",
           75.52,
           11044,
           551,
           "Cluster 0"
          ],
          [
           "Costa Rica",
           74.99,
           882,
           10,
           "Cluster 0"
          ],
          [
           "Bhutan",
           78.3,
           21,
           0,
           "Cluster 0"
          ],
          [
           "Sierra Leone",
           77.64,
           534,
           33,
           "Cluster 0"
          ],
          [
           "Jordan",
           72.48,
           649,
           9,
           "Cluster 0"
          ],
          [
           "Iraq",
           84.39,
           3611,
           131,
           "Cluster 0"
          ],
          [
           "Cape Verde",
           82.41,
           335,
           3,
           "Cluster 0"
          ],
          [
           "Slovak Republic",
           78.96,
           1495,
           28,
           "Cluster 0"
          ],
          [
           "Eswatini",
           84.26,
           208,
           2,
           "Cluster 0"
          ],
          [
           "Chad",
           86.38,
           545,
           56,
           "Cluster 0"
          ],
          [
           "Thailand",
           80.56,
           3034,
           56,
           "Cluster 0"
          ],
          [
           "Trinidad and Tobago",
           93.38,
           116,
           8,
           "Cluster 0"
          ],
          [
           "Tunisia",
           87.96,
           1044,
           47,
           "Cluster 0"
          ],
          [
           "Bolivia",
           97.35,
           4481,
           189,
           "Cluster 0"
          ],
          [
           "Turkey",
           80.42,
           151615,
           4199,
           "Cluster 0"
          ],
          [
           "Uruguay",
           71.16,
           738,
           20,
           "Cluster 0"
          ],
          [
           "Uzbekistan",
           85.19,
           2880,
           13,
           "Cluster 0"
          ],
          [
           "Venezuela",
           86.24,
           749,
           10,
           "Cluster 0"
          ],
          [
           "Vietnam",
           69.18,
           324,
           0,
           "Cluster 0"
          ],
          [
           "South Africa",
           88.75,
           17200,
           312,
           "Cluster 0"
          ],
          [
           "Zimbabwe",
           91.4,
           46,
           4,
           "Cluster 0"
          ],
          [
           "Ukraine",
           92.06,
           18876,
           548,
           "Cluster 0"
          ],
          [
           "South Sudan",
           94.71,
           285,
           6,
           "Cluster 0"
          ],
          [
           "Central African Republic",
           69.97,
           411,
           0,
           "Cluster 0"
          ],
          [
           "Cuba",
           100,
           1887,
           79,
           "Cluster 0"
          ],
          [
           "Syria",
           80.43,
           58,
           3,
           "Cluster 0"
          ],
          [
           "Seychelles",
           65.87,
           11,
           0,
           "Cluster 0"
          ],
          [
           "San Marino",
           71.42,
           655,
           41,
           "Cluster 0"
          ],
          [
           "Sudan",
           86.38,
           2591,
           105,
           "Cluster 0"
          ],
          [
           "Rwanda",
           82.14,
           308,
           0,
           "Cluster 0"
          ],
          [
           "Palestine",
           97.35,
           570,
           4,
           "Cluster 0"
          ],
          [
           "Paraguay",
           96.03,
           829,
           11,
           "Cluster 0"
          ],
          [
           "Portugal",
           76.71,
           29432,
           1247,
           "Cluster 0"
          ],
          [
           "Poland",
           88.09,
           19268,
           948,
           "Cluster 0"
          ],
          [
           "Panama",
           81.61,
           9867,
           281,
           "Cluster 0"
          ],
          [
           "Pakistan",
           82.02,
           45898,
           985,
           "Cluster 0"
          ],
          [
           "Oman",
           85.19,
           5671,
           27,
           "Cluster 0"
          ],
          [
           "Malaysia",
           74.2,
           6978,
           114,
           "Cluster 0"
          ],
          [
           "Mauritius",
           84.78,
           332,
           10,
           "Cluster 0"
          ],
          [
           "Mongolia",
           67.99,
           140,
           0,
           "Cluster 0"
          ],
          [
           "Myanmar",
           79.24,
           193,
           6,
           "Cluster 0"
          ],
          [
           "Mexico",
           85.45,
           54346,
           5666,
           "Cluster 0"
          ],
          [
           "Dominica",
           80.95,
           16,
           0,
           "Cluster 0"
          ],
          [
           "Ecuador",
           85.85,
           34151,
           2839,
           "Cluster 0"
          ],
          [
           "Ethiopia",
           76.19,
           365,
           5,
           "Cluster 0"
          ],
          [
           "Guam",
           69.71,
           154,
           5,
           "Cluster 0"
          ],
          [
           "Hong Kong",
           67.85,
           1055,
           4,
           "Cluster 0"
          ],
          [
           "Croatia",
           66.53,
           2232,
           96,
           "Cluster 0"
          ],
          [
           "Congo",
           98.02,
           420,
           15,
           "Cluster 0"
          ],
          [
           "India",
           76.07,
           106750,
           3303,
           "Cluster 0"
          ],
          [
           "Kenya",
           94.18,
           963,
           50,
           "Cluster 0"
          ],
          [
           "Lebanon",
           84.12,
           954,
           26,
           "Cluster 0"
          ],
          [
           "Liberia",
           78.31,
           233,
           23,
           "Cluster 0"
          ],
          [
           "Libya",
           96.83,
           68,
           3,
           "Cluster 0"
          ],
          [
           "Sri Lanka",
           82.27,
           1027,
           9,
           "Cluster 0"
          ],
          [
           "Morocco",
           93.38,
           7023,
           193,
           "Cluster 0"
          ],
          [
           "Kazakhstan",
           79.37,
           6969,
           35,
           "Cluster 0"
          ],
          [
           "El Salvador",
           100,
           1498,
           31,
           "Cluster 0"
          ],
          [
           "Uganda",
           89.94,
           260,
           0,
           "Cluster 0"
          ],
          [
           "Kosovo",
           90.74,
           989,
           29,
           "Cluster 0"
          ],
          [
           "Chile",
           78.83,
           49579,
           509,
           "Cluster 0"
          ],
          [
           "China",
           64.44,
           84065,
           4638,
           "Cluster 0"
          ],
          [
           "Algeria",
           82.42,
           7377,
           561,
           "Cluster 0"
          ],
          [
           "Lesotho",
           72.87,
           1,
           0,
           "Cluster 0"
          ],
          [
           "Kuwait",
           100,
           16764,
           121,
           "Cluster 0"
          ],
          [
           "Kyrgyz Republic",
           78.85,
           1270,
           14,
           "Cluster 0"
          ],
          [
           "Jamaica",
           74.2,
           520,
           9,
           "Cluster 0"
          ],
          [
           "Israel",
           82.93,
           16650,
           277,
           "Cluster 0"
          ],
          [
           "Cameroon",
           67.85,
           3529,
           140,
           "Cluster 0"
          ],
          [
           "Democratic Republic of Congo",
           80.04,
           1731,
           61,
           "Cluster 0"
          ],
          [
           "Ireland",
           87.83,
           24251,
           1561,
           "Cluster 0"
          ],
          [
           "Indonesia",
           70.91,
           18496,
           1221,
           "Cluster 0"
          ],
          [
           "Cyprus",
           94.18,
           918,
           17,
           "Cluster 0"
          ],
          [
           "Singapore",
           85.18,
           28794,
           22,
           "Cluster 0"
          ],
          [
           "Honduras",
           100,
           2955,
           147,
           "Cluster 0"
          ],
          [
           "Guatemala",
           97.35,
           2133,
           43,
           "Cluster 0"
          ],
          [
           "Greenland",
           80.95,
           11,
           0,
           "Cluster 0"
          ],
          [
           "Greece",
           74.34,
           2840,
           165,
           "Cluster 0"
          ],
          [
           "Gambia",
           84.78,
           24,
           1,
           "Cluster 0"
          ],
          [
           "Ghana",
           66.53,
           6096,
           31,
           "Cluster 0"
          ],
          [
           "Georgia",
           94.18,
           707,
           12,
           "Cluster 0"
          ],
          [
           "Gabon",
           86.24,
           1502,
           12,
           "Cluster 0"
          ],
          [
           "Finland",
           65.74,
           6399,
           301,
           "Cluster 0"
          ],
          [
           "Germany",
           71.44,
           176007,
           8090,
           "Cluster 0"
          ],
          [
           "Egypt",
           88.75,
           13484,
           659,
           "Cluster 0"
          ],
          [
           "Switzerland",
           71.55,
           30535,
           1613,
           "Cluster 0"
          ],
          [
           "Canada",
           67.74,
           79101,
           5912,
           "Cluster 0"
          ],
          [
           "Cote d'Ivoire",
           70.25,
           2153,
           28,
           "Cluster 0"
          ],
          [
           "Botswana",
           78.05,
           25,
           1,
           "Cluster 0"
          ],
          [
           "Albania",
           88.36,
           949,
           31,
           "Cluster 0"
          ],
          [
           "United Arab Emirates",
           77.78,
           25063,
           227,
           "Cluster 0"
          ],
          [
           "Saudi Arabia",
           87.84,
           59854,
           329,
           "Cluster 0"
          ],
          [
           "Romania",
           76.98,
           17191,
           1126,
           "Cluster 0"
          ],
          [
           "Qatar",
           90.74,
           35606,
           15,
           "Cluster 0"
          ],
          [
           "Argentina",
           91.54,
           8796,
           393,
           "Cluster 0"
          ],
          [
           "Philippines",
           94.58,
           12942,
           837,
           "Cluster 0"
          ],
          [
           "Peru",
           97.35,
           99483,
           2914,
           "Cluster 0"
          ],
          [
           "Nepal",
           95.24,
           402,
           2,
           "Cluster 0"
          ],
          [
           "Luxembourg",
           65.73,
           3958,
           109,
           "Cluster 0"
          ],
          [
           "Netherlands",
           76.71,
           44249,
           5715,
           "Cluster 0"
          ],
          [
           "Belgium",
           75.26,
           55791,
           9108,
           "Cluster 0"
          ],
          [
           "Nigeria",
           76.59,
           6401,
           192,
           "Cluster 0"
          ],
          [
           "Dominican Republic",
           98.02,
           13223,
           441,
           "Cluster 0"
          ],
          [
           "Bangladesh",
           91.93,
           25121,
           370,
           "Cluster 0"
          ],
          [
           "Bosnia and Herzegovina",
           81.22,
           2319,
           133,
           "Cluster 0"
          ],
          [
           "Moldova",
           84.92,
           6340,
           221,
           "Cluster 0"
          ],
          [
           "Belize",
           87.04,
           18,
           2,
           "Cluster 0"
          ],
          [
           "Mali",
           76.19,
           901,
           53,
           "Cluster 0"
          ],
          [
           "Bermuda",
           80.15,
           125,
           9,
           "Cluster 0"
          ],
          [
           "Barbados",
           71.42,
           90,
           7,
           "Cluster 0"
          ]
         ],
         "hoverlabel": {
          "namelength": 0
         },
         "hovertemplate": "Cluster=%{customdata[4]}<br>confirmed_cases=%{customdata[2]}<br>country_name=%{customdata[0]}<br>stringency_index=%{customdata[1]}<br>deaths=%{customdata[3]}",
         "legendgroup": "Cluster=Cluster 0",
         "marker": {
          "color": "#636efa"
         },
         "name": "Cluster=Cluster 0",
         "notched": true,
         "offsetgroup": "Cluster=Cluster 0",
         "showlegend": false,
         "type": "box",
         "x": [
          50,
          7532,
          2292,
          3518,
          7068,
          7653,
          299941,
          2805,
          125,
          16935,
          11,
          11044,
          882,
          21,
          534,
          649,
          3611,
          335,
          1495,
          208,
          545,
          3034,
          116,
          1044,
          4481,
          151615,
          738,
          2880,
          749,
          324,
          17200,
          46,
          18876,
          285,
          411,
          1887,
          58,
          11,
          655,
          2591,
          308,
          570,
          829,
          29432,
          19268,
          9867,
          45898,
          5671,
          6978,
          332,
          140,
          193,
          54346,
          16,
          34151,
          365,
          154,
          1055,
          2232,
          420,
          106750,
          963,
          954,
          233,
          68,
          1027,
          7023,
          6969,
          1498,
          260,
          989,
          49579,
          84065,
          7377,
          1,
          16764,
          1270,
          520,
          16650,
          3529,
          1731,
          24251,
          18496,
          918,
          28794,
          2955,
          2133,
          11,
          2840,
          24,
          6096,
          707,
          1502,
          6399,
          176007,
          13484,
          30535,
          79101,
          2153,
          25,
          949,
          25063,
          59854,
          17191,
          35606,
          8796,
          12942,
          99483,
          402,
          3958,
          44249,
          55791,
          6401,
          13223,
          25121,
          2319,
          6340,
          18,
          901,
          125,
          90
         ],
         "xaxis": "x2",
         "yaxis": "y2"
        },
        {
         "alignmentgroup": "True",
         "bingroup": "x",
         "hoverlabel": {
          "namelength": 0
         },
         "hovertemplate": "Cluster=Cluster 1<br>confirmed_cases=%{x}<br>count=%{y}",
         "legendgroup": "Cluster=Cluster 1",
         "marker": {
          "color": "#EF553B",
          "opacity": 0.7
         },
         "name": "Cluster=Cluster 1",
         "offsetgroup": "Cluster=Cluster 1",
         "orientation": "v",
         "showlegend": true,
         "type": "histogram",
         "x": [
          1528568
         ],
         "xaxis": "x",
         "yaxis": "y"
        },
        {
         "alignmentgroup": "True",
         "customdata": [
          [
           "United States",
           68.41,
           1528568,
           91921,
           "Cluster 1"
          ]
         ],
         "hoverlabel": {
          "namelength": 0
         },
         "hovertemplate": "Cluster=%{customdata[4]}<br>confirmed_cases=%{customdata[2]}<br>country_name=%{customdata[0]}<br>stringency_index=%{customdata[1]}<br>deaths=%{customdata[3]}",
         "legendgroup": "Cluster=Cluster 1",
         "marker": {
          "color": "#EF553B"
         },
         "name": "Cluster=Cluster 1",
         "notched": true,
         "offsetgroup": "Cluster=Cluster 1",
         "showlegend": false,
         "type": "box",
         "x": [
          1528568
         ],
         "xaxis": "x2",
         "yaxis": "y2"
        },
        {
         "alignmentgroup": "True",
         "bingroup": "x",
         "hoverlabel": {
          "namelength": 0
         },
         "hovertemplate": "Cluster=Cluster 2<br>confirmed_cases=%{x}<br>count=%{y}",
         "legendgroup": "Cluster=Cluster 2",
         "marker": {
          "color": "#00cc96",
          "opacity": 0.7
         },
         "name": "Cluster=Cluster 2",
         "offsetgroup": "Cluster=Cluster 2",
         "orientation": "v",
         "showlegend": true,
         "type": "histogram",
         "x": [
          226699,
          271628,
          248818,
          143427,
          232555
         ],
         "xaxis": "x",
         "yaxis": "y"
        },
        {
         "alignmentgroup": "True",
         "customdata": [
          [
           "Italy",
           68.78,
           226699,
           32169,
           "Cluster 2"
          ],
          [
           "Brazil",
           75.15,
           271628,
           17971,
           "Cluster 2"
          ],
          [
           "United Kingdom",
           73.01,
           248818,
           35341,
           "Cluster 2"
          ],
          [
           "France",
           83.46,
           143427,
           28022,
           "Cluster 2"
          ],
          [
           "Spain",
           83.07,
           232555,
           27888,
           "Cluster 2"
          ]
         ],
         "hoverlabel": {
          "namelength": 0
         },
         "hovertemplate": "Cluster=%{customdata[4]}<br>confirmed_cases=%{customdata[2]}<br>country_name=%{customdata[0]}<br>stringency_index=%{customdata[1]}<br>deaths=%{customdata[3]}",
         "legendgroup": "Cluster=Cluster 2",
         "marker": {
          "color": "#00cc96"
         },
         "name": "Cluster=Cluster 2",
         "notched": true,
         "offsetgroup": "Cluster=Cluster 2",
         "showlegend": false,
         "type": "box",
         "x": [
          226699,
          271628,
          248818,
          143427,
          232555
         ],
         "xaxis": "x2",
         "yaxis": "y2"
        },
        {
         "alignmentgroup": "True",
         "bingroup": "x",
         "hoverlabel": {
          "namelength": 0
         },
         "hovertemplate": "Cluster=Cluster 3<br>confirmed_cases=%{x}<br>count=%{y}",
         "legendgroup": "Cluster=Cluster 3",
         "marker": {
          "color": "#ab63fa",
          "opacity": 0.7
         },
         "name": "Cluster=Cluster 3",
         "offsetgroup": "Cluster=Cluster 3",
         "orientation": "v",
         "showlegend": true,
         "type": "histogram",
         "x": [
          8257,
          19,
          806,
          45,
          31508,
          42,
          1467,
          8647,
          1502,
          1791,
          10733,
          2617,
          30799,
          8,
          509,
          25,
          914,
          712,
          167,
          71,
          772,
          146,
          1802,
          440,
          1153,
          101,
          1562,
          16385,
          761,
          141,
          11110,
          124603,
          0,
          16257,
          3598,
          1518,
          326,
          130
         ],
         "xaxis": "x",
         "yaxis": "y"
        },
        {
         "alignmentgroup": "True",
         "customdata": [
          [
           "Norway",
           58.07,
           8257,
           233,
           "Cluster 3"
          ],
          [
           "Laos",
           56.22,
           19,
           0,
           "Cluster 3"
          ],
          [
           "Burkina Faso",
           62.04,
           806,
           52,
           "Cluster 3"
          ],
          [
           "Macao",
           39.02,
           45,
           0,
           "Cluster 3"
          ],
          [
           "Belarus",
           15.47,
           31508,
           175,
           "Cluster 3"
          ],
          [
           "Burundi",
           22.22,
           42,
           1,
           "Cluster 3"
          ],
          [
           "Slovenia",
           61.25,
           1467,
           104,
           "Cluster 3"
          ],
          [
           "Czech Republic",
           59.65,
           8647,
           302,
           "Cluster 3"
          ],
          [
           "Somalia",
           59.39,
           1502,
           59,
           "Cluster 3"
          ],
          [
           "Estonia",
           41.54,
           1791,
           64,
           "Cluster 3"
          ],
          [
           "Serbia",
           56.87,
           10733,
           234,
           "Cluster 3"
          ],
          [
           "Senegal",
           62.7,
           2617,
           30,
           "Cluster 3"
          ],
          [
           "Sweden",
           47.35,
           30799,
           3743,
           "Cluster 3"
          ],
          [
           "Papua New Guinea",
           43.66,
           8,
           0,
           "Cluster 3"
          ],
          [
           "Tanzania",
           50.4,
           509,
           21,
           "Cluster 3"
          ],
          [
           "Nicaragua",
           11.11,
           25,
           8,
           "Cluster 3"
          ],
          [
           "Niger",
           33.33,
           914,
           55,
           "Cluster 3"
          ],
          [
           "Namibia",
           61.24,
           712,
           7,
           "Cluster 3"
          ],
          [
           "Yemen",
           54.23,
           167,
           28,
           "Cluster 3"
          ],
          [
           "Malawi",
           59.26,
           71,
           3,
           "Cluster 3"
          ],
          [
           "Zambia",
           45.37,
           772,
           7,
           "Cluster 3"
          ],
          [
           "Mozambique",
           53.83,
           146,
           0,
           "Cluster 3"
          ],
          [
           "Iceland",
           56.61,
           1802,
           10,
           "Cluster 3"
          ],
          [
           "Taiwan",
           29.36,
           440,
           7,
           "Cluster 3"
          ],
          [
           "New Zealand",
           38.49,
           1153,
           21,
           "Cluster 3"
          ],
          [
           "Aruba",
           47.48,
           101,
           3,
           "Cluster 3"
          ],
          [
           "Lithuania",
           0,
           1562,
           60,
           "Cluster 3"
          ],
          [
           "Japan",
           43.79,
           16385,
           771,
           "Cluster 3"
          ],
          [
           "Andorra",
           56.34,
           761,
           51,
           "Cluster 3"
          ],
          [
           "Brunei",
           56.74,
           141,
           1,
           "Cluster 3"
          ],
          [
           "South Korea",
           43.51,
           11110,
           263,
           "Cluster 3"
          ],
          [
           "Iran",
           47.23,
           124603,
           7119,
           "Cluster 3"
          ],
          [
           "Solomon Islands",
           50.41,
           0,
           0,
           "Cluster 3"
          ],
          [
           "Austria",
           56.34,
           16257,
           632,
           "Cluster 3"
          ],
          [
           "Hungary",
           59.53,
           3598,
           470,
           "Cluster 3"
          ],
          [
           "Djibouti",
           61.37,
           1518,
           7,
           "Cluster 3"
          ],
          [
           "Madagascar",
           64.43,
           326,
           2,
           "Cluster 3"
          ],
          [
           "Benin",
           48.15,
           130,
           2,
           "Cluster 3"
          ]
         ],
         "hoverlabel": {
          "namelength": 0
         },
         "hovertemplate": "Cluster=%{customdata[4]}<br>confirmed_cases=%{customdata[2]}<br>country_name=%{customdata[0]}<br>stringency_index=%{customdata[1]}<br>deaths=%{customdata[3]}",
         "legendgroup": "Cluster=Cluster 3",
         "marker": {
          "color": "#ab63fa"
         },
         "name": "Cluster=Cluster 3",
         "notched": true,
         "offsetgroup": "Cluster=Cluster 3",
         "showlegend": false,
         "type": "box",
         "x": [
          8257,
          19,
          806,
          45,
          31508,
          42,
          1467,
          8647,
          1502,
          1791,
          10733,
          2617,
          30799,
          8,
          509,
          25,
          914,
          712,
          167,
          71,
          772,
          146,
          1802,
          440,
          1153,
          101,
          1562,
          16385,
          761,
          141,
          11110,
          124603,
          0,
          16257,
          3598,
          1518,
          326,
          130
         ],
         "xaxis": "x2",
         "yaxis": "y2"
        }
       ],
       "layout": {
        "barmode": "relative",
        "legend": {
         "tracegroupgap": 0
        },
        "margin": {
         "t": 60
        },
        "template": {
         "data": {
          "bar": [
           {
            "error_x": {
             "color": "#2a3f5f"
            },
            "error_y": {
             "color": "#2a3f5f"
            },
            "marker": {
             "line": {
              "color": "#E5ECF6",
              "width": 0.5
             }
            },
            "type": "bar"
           }
          ],
          "barpolar": [
           {
            "marker": {
             "line": {
              "color": "#E5ECF6",
              "width": 0.5
             }
            },
            "type": "barpolar"
           }
          ],
          "carpet": [
           {
            "aaxis": {
             "endlinecolor": "#2a3f5f",
             "gridcolor": "white",
             "linecolor": "white",
             "minorgridcolor": "white",
             "startlinecolor": "#2a3f5f"
            },
            "baxis": {
             "endlinecolor": "#2a3f5f",
             "gridcolor": "white",
             "linecolor": "white",
             "minorgridcolor": "white",
             "startlinecolor": "#2a3f5f"
            },
            "type": "carpet"
           }
          ],
          "choropleth": [
           {
            "colorbar": {
             "outlinewidth": 0,
             "ticks": ""
            },
            "type": "choropleth"
           }
          ],
          "contour": [
           {
            "colorbar": {
             "outlinewidth": 0,
             "ticks": ""
            },
            "colorscale": [
             [
              0,
              "#0d0887"
             ],
             [
              0.1111111111111111,
              "#46039f"
             ],
             [
              0.2222222222222222,
              "#7201a8"
             ],
             [
              0.3333333333333333,
              "#9c179e"
             ],
             [
              0.4444444444444444,
              "#bd3786"
             ],
             [
              0.5555555555555556,
              "#d8576b"
             ],
             [
              0.6666666666666666,
              "#ed7953"
             ],
             [
              0.7777777777777778,
              "#fb9f3a"
             ],
             [
              0.8888888888888888,
              "#fdca26"
             ],
             [
              1,
              "#f0f921"
             ]
            ],
            "type": "contour"
           }
          ],
          "contourcarpet": [
           {
            "colorbar": {
             "outlinewidth": 0,
             "ticks": ""
            },
            "type": "contourcarpet"
           }
          ],
          "heatmap": [
           {
            "colorbar": {
             "outlinewidth": 0,
             "ticks": ""
            },
            "colorscale": [
             [
              0,
              "#0d0887"
             ],
             [
              0.1111111111111111,
              "#46039f"
             ],
             [
              0.2222222222222222,
              "#7201a8"
             ],
             [
              0.3333333333333333,
              "#9c179e"
             ],
             [
              0.4444444444444444,
              "#bd3786"
             ],
             [
              0.5555555555555556,
              "#d8576b"
             ],
             [
              0.6666666666666666,
              "#ed7953"
             ],
             [
              0.7777777777777778,
              "#fb9f3a"
             ],
             [
              0.8888888888888888,
              "#fdca26"
             ],
             [
              1,
              "#f0f921"
             ]
            ],
            "type": "heatmap"
           }
          ],
          "heatmapgl": [
           {
            "colorbar": {
             "outlinewidth": 0,
             "ticks": ""
            },
            "colorscale": [
             [
              0,
              "#0d0887"
             ],
             [
              0.1111111111111111,
              "#46039f"
             ],
             [
              0.2222222222222222,
              "#7201a8"
             ],
             [
              0.3333333333333333,
              "#9c179e"
             ],
             [
              0.4444444444444444,
              "#bd3786"
             ],
             [
              0.5555555555555556,
              "#d8576b"
             ],
             [
              0.6666666666666666,
              "#ed7953"
             ],
             [
              0.7777777777777778,
              "#fb9f3a"
             ],
             [
              0.8888888888888888,
              "#fdca26"
             ],
             [
              1,
              "#f0f921"
             ]
            ],
            "type": "heatmapgl"
           }
          ],
          "histogram": [
           {
            "marker": {
             "colorbar": {
              "outlinewidth": 0,
              "ticks": ""
             }
            },
            "type": "histogram"
           }
          ],
          "histogram2d": [
           {
            "colorbar": {
             "outlinewidth": 0,
             "ticks": ""
            },
            "colorscale": [
             [
              0,
              "#0d0887"
             ],
             [
              0.1111111111111111,
              "#46039f"
             ],
             [
              0.2222222222222222,
              "#7201a8"
             ],
             [
              0.3333333333333333,
              "#9c179e"
             ],
             [
              0.4444444444444444,
              "#bd3786"
             ],
             [
              0.5555555555555556,
              "#d8576b"
             ],
             [
              0.6666666666666666,
              "#ed7953"
             ],
             [
              0.7777777777777778,
              "#fb9f3a"
             ],
             [
              0.8888888888888888,
              "#fdca26"
             ],
             [
              1,
              "#f0f921"
             ]
            ],
            "type": "histogram2d"
           }
          ],
          "histogram2dcontour": [
           {
            "colorbar": {
             "outlinewidth": 0,
             "ticks": ""
            },
            "colorscale": [
             [
              0,
              "#0d0887"
             ],
             [
              0.1111111111111111,
              "#46039f"
             ],
             [
              0.2222222222222222,
              "#7201a8"
             ],
             [
              0.3333333333333333,
              "#9c179e"
             ],
             [
              0.4444444444444444,
              "#bd3786"
             ],
             [
              0.5555555555555556,
              "#d8576b"
             ],
             [
              0.6666666666666666,
              "#ed7953"
             ],
             [
              0.7777777777777778,
              "#fb9f3a"
             ],
             [
              0.8888888888888888,
              "#fdca26"
             ],
             [
              1,
              "#f0f921"
             ]
            ],
            "type": "histogram2dcontour"
           }
          ],
          "mesh3d": [
           {
            "colorbar": {
             "outlinewidth": 0,
             "ticks": ""
            },
            "type": "mesh3d"
           }
          ],
          "parcoords": [
           {
            "line": {
             "colorbar": {
              "outlinewidth": 0,
              "ticks": ""
             }
            },
            "type": "parcoords"
           }
          ],
          "pie": [
           {
            "automargin": true,
            "type": "pie"
           }
          ],
          "scatter": [
           {
            "marker": {
             "colorbar": {
              "outlinewidth": 0,
              "ticks": ""
             }
            },
            "type": "scatter"
           }
          ],
          "scatter3d": [
           {
            "line": {
             "colorbar": {
              "outlinewidth": 0,
              "ticks": ""
             }
            },
            "marker": {
             "colorbar": {
              "outlinewidth": 0,
              "ticks": ""
             }
            },
            "type": "scatter3d"
           }
          ],
          "scattercarpet": [
           {
            "marker": {
             "colorbar": {
              "outlinewidth": 0,
              "ticks": ""
             }
            },
            "type": "scattercarpet"
           }
          ],
          "scattergeo": [
           {
            "marker": {
             "colorbar": {
              "outlinewidth": 0,
              "ticks": ""
             }
            },
            "type": "scattergeo"
           }
          ],
          "scattergl": [
           {
            "marker": {
             "colorbar": {
              "outlinewidth": 0,
              "ticks": ""
             }
            },
            "type": "scattergl"
           }
          ],
          "scattermapbox": [
           {
            "marker": {
             "colorbar": {
              "outlinewidth": 0,
              "ticks": ""
             }
            },
            "type": "scattermapbox"
           }
          ],
          "scatterpolar": [
           {
            "marker": {
             "colorbar": {
              "outlinewidth": 0,
              "ticks": ""
             }
            },
            "type": "scatterpolar"
           }
          ],
          "scatterpolargl": [
           {
            "marker": {
             "colorbar": {
              "outlinewidth": 0,
              "ticks": ""
             }
            },
            "type": "scatterpolargl"
           }
          ],
          "scatterternary": [
           {
            "marker": {
             "colorbar": {
              "outlinewidth": 0,
              "ticks": ""
             }
            },
            "type": "scatterternary"
           }
          ],
          "surface": [
           {
            "colorbar": {
             "outlinewidth": 0,
             "ticks": ""
            },
            "colorscale": [
             [
              0,
              "#0d0887"
             ],
             [
              0.1111111111111111,
              "#46039f"
             ],
             [
              0.2222222222222222,
              "#7201a8"
             ],
             [
              0.3333333333333333,
              "#9c179e"
             ],
             [
              0.4444444444444444,
              "#bd3786"
             ],
             [
              0.5555555555555556,
              "#d8576b"
             ],
             [
              0.6666666666666666,
              "#ed7953"
             ],
             [
              0.7777777777777778,
              "#fb9f3a"
             ],
             [
              0.8888888888888888,
              "#fdca26"
             ],
             [
              1,
              "#f0f921"
             ]
            ],
            "type": "surface"
           }
          ],
          "table": [
           {
            "cells": {
             "fill": {
              "color": "#EBF0F8"
             },
             "line": {
              "color": "white"
             }
            },
            "header": {
             "fill": {
              "color": "#C8D4E3"
             },
             "line": {
              "color": "white"
             }
            },
            "type": "table"
           }
          ]
         },
         "layout": {
          "annotationdefaults": {
           "arrowcolor": "#2a3f5f",
           "arrowhead": 0,
           "arrowwidth": 1
          },
          "coloraxis": {
           "colorbar": {
            "outlinewidth": 0,
            "ticks": ""
           }
          },
          "colorscale": {
           "diverging": [
            [
             0,
             "#8e0152"
            ],
            [
             0.1,
             "#c51b7d"
            ],
            [
             0.2,
             "#de77ae"
            ],
            [
             0.3,
             "#f1b6da"
            ],
            [
             0.4,
             "#fde0ef"
            ],
            [
             0.5,
             "#f7f7f7"
            ],
            [
             0.6,
             "#e6f5d0"
            ],
            [
             0.7,
             "#b8e186"
            ],
            [
             0.8,
             "#7fbc41"
            ],
            [
             0.9,
             "#4d9221"
            ],
            [
             1,
             "#276419"
            ]
           ],
           "sequential": [
            [
             0,
             "#0d0887"
            ],
            [
             0.1111111111111111,
             "#46039f"
            ],
            [
             0.2222222222222222,
             "#7201a8"
            ],
            [
             0.3333333333333333,
             "#9c179e"
            ],
            [
             0.4444444444444444,
             "#bd3786"
            ],
            [
             0.5555555555555556,
             "#d8576b"
            ],
            [
             0.6666666666666666,
             "#ed7953"
            ],
            [
             0.7777777777777778,
             "#fb9f3a"
            ],
            [
             0.8888888888888888,
             "#fdca26"
            ],
            [
             1,
             "#f0f921"
            ]
           ],
           "sequentialminus": [
            [
             0,
             "#0d0887"
            ],
            [
             0.1111111111111111,
             "#46039f"
            ],
            [
             0.2222222222222222,
             "#7201a8"
            ],
            [
             0.3333333333333333,
             "#9c179e"
            ],
            [
             0.4444444444444444,
             "#bd3786"
            ],
            [
             0.5555555555555556,
             "#d8576b"
            ],
            [
             0.6666666666666666,
             "#ed7953"
            ],
            [
             0.7777777777777778,
             "#fb9f3a"
            ],
            [
             0.8888888888888888,
             "#fdca26"
            ],
            [
             1,
             "#f0f921"
            ]
           ]
          },
          "colorway": [
           "#636efa",
           "#EF553B",
           "#00cc96",
           "#ab63fa",
           "#FFA15A",
           "#19d3f3",
           "#FF6692",
           "#B6E880",
           "#FF97FF",
           "#FECB52"
          ],
          "font": {
           "color": "#2a3f5f"
          },
          "geo": {
           "bgcolor": "white",
           "lakecolor": "white",
           "landcolor": "#E5ECF6",
           "showlakes": true,
           "showland": true,
           "subunitcolor": "white"
          },
          "hoverlabel": {
           "align": "left"
          },
          "hovermode": "closest",
          "mapbox": {
           "style": "light"
          },
          "paper_bgcolor": "white",
          "plot_bgcolor": "#E5ECF6",
          "polar": {
           "angularaxis": {
            "gridcolor": "white",
            "linecolor": "white",
            "ticks": ""
           },
           "bgcolor": "#E5ECF6",
           "radialaxis": {
            "gridcolor": "white",
            "linecolor": "white",
            "ticks": ""
           }
          },
          "scene": {
           "xaxis": {
            "backgroundcolor": "#E5ECF6",
            "gridcolor": "white",
            "gridwidth": 2,
            "linecolor": "white",
            "showbackground": true,
            "ticks": "",
            "zerolinecolor": "white"
           },
           "yaxis": {
            "backgroundcolor": "#E5ECF6",
            "gridcolor": "white",
            "gridwidth": 2,
            "linecolor": "white",
            "showbackground": true,
            "ticks": "",
            "zerolinecolor": "white"
           },
           "zaxis": {
            "backgroundcolor": "#E5ECF6",
            "gridcolor": "white",
            "gridwidth": 2,
            "linecolor": "white",
            "showbackground": true,
            "ticks": "",
            "zerolinecolor": "white"
           }
          },
          "shapedefaults": {
           "line": {
            "color": "#2a3f5f"
           }
          },
          "ternary": {
           "aaxis": {
            "gridcolor": "white",
            "linecolor": "white",
            "ticks": ""
           },
           "baxis": {
            "gridcolor": "white",
            "linecolor": "white",
            "ticks": ""
           },
           "bgcolor": "#E5ECF6",
           "caxis": {
            "gridcolor": "white",
            "linecolor": "white",
            "ticks": ""
           }
          },
          "title": {
           "x": 0.05
          },
          "xaxis": {
           "automargin": true,
           "gridcolor": "white",
           "linecolor": "white",
           "ticks": "",
           "title": {
            "standoff": 15
           },
           "zerolinecolor": "white",
           "zerolinewidth": 2
          },
          "yaxis": {
           "automargin": true,
           "gridcolor": "white",
           "linecolor": "white",
           "ticks": "",
           "title": {
            "standoff": 15
           },
           "zerolinecolor": "white",
           "zerolinewidth": 2
          }
         }
        },
        "xaxis": {
         "anchor": "y",
         "domain": [
          0,
          1
         ],
         "title": {
          "text": "confirmed_cases"
         }
        },
        "xaxis2": {
         "anchor": "y2",
         "domain": [
          0,
          1
         ],
         "matches": "x",
         "showgrid": true,
         "showticklabels": false
        },
        "yaxis": {
         "anchor": "x",
         "domain": [
          0,
          0.7326
         ],
         "title": {
          "text": "count"
         }
        },
        "yaxis2": {
         "anchor": "x2",
         "domain": [
          0.7426,
          1
         ],
         "matches": "y2",
         "showgrid": false,
         "showline": false,
         "showticklabels": false,
         "ticks": ""
        }
       }
      },
      "text/html": [
       "<div>\n",
       "        \n",
       "        \n",
       "            <div id=\"f54a43d5-d7ba-4add-b666-dcb4256ae41a\" class=\"plotly-graph-div\" style=\"height:525px; width:100%;\"></div>\n",
       "            <script type=\"text/javascript\">\n",
       "                require([\"plotly\"], function(Plotly) {\n",
       "                    window.PLOTLYENV=window.PLOTLYENV || {};\n",
       "                    \n",
       "                if (document.getElementById(\"f54a43d5-d7ba-4add-b666-dcb4256ae41a\")) {\n",
       "                    Plotly.newPlot(\n",
       "                        'f54a43d5-d7ba-4add-b666-dcb4256ae41a',\n",
       "                        [{\"alignmentgroup\": \"True\", \"bingroup\": \"x\", \"hoverlabel\": {\"namelength\": 0}, \"hovertemplate\": \"Cluster=Cluster 0<br>confirmed_cases=%{x}<br>count=%{y}\", \"legendgroup\": \"Cluster=Cluster 0\", \"marker\": {\"color\": \"#636efa\", \"opacity\": 0.7}, \"name\": \"Cluster=Cluster 0\", \"offsetgroup\": \"Cluster=Cluster 0\", \"orientation\": \"v\", \"showlegend\": true, \"type\": \"histogram\", \"x\": [50.0, 7532.0, 2292.0, 3518.0, 7068.0, 7653.0, 299941.0, 2805.0, 125.0, 16935.0, 11.0, 11044.0, 882.0, 21.0, 534.0, 649.0, 3611.0, 335.0, 1495.0, 208.0, 545.0, 3034.0, 116.0, 1044.0, 4481.0, 151615.0, 738.0, 2880.0, 749.0, 324.0, 17200.0, 46.0, 18876.0, 285.0, 411.0, 1887.0, 58.0, 11.0, 655.0, 2591.0, 308.0, 570.0, 829.0, 29432.0, 19268.0, 9867.0, 45898.0, 5671.0, 6978.0, 332.0, 140.0, 193.0, 54346.0, 16.0, 34151.0, 365.0, 154.0, 1055.0, 2232.0, 420.0, 106750.0, 963.0, 954.0, 233.0, 68.0, 1027.0, 7023.0, 6969.0, 1498.0, 260.0, 989.0, 49579.0, 84065.0, 7377.0, 1.0, 16764.0, 1270.0, 520.0, 16650.0, 3529.0, 1731.0, 24251.0, 18496.0, 918.0, 28794.0, 2955.0, 2133.0, 11.0, 2840.0, 24.0, 6096.0, 707.0, 1502.0, 6399.0, 176007.0, 13484.0, 30535.0, 79101.0, 2153.0, 25.0, 949.0, 25063.0, 59854.0, 17191.0, 35606.0, 8796.0, 12942.0, 99483.0, 402.0, 3958.0, 44249.0, 55791.0, 6401.0, 13223.0, 25121.0, 2319.0, 6340.0, 18.0, 901.0, 125.0, 90.0], \"xaxis\": \"x\", \"yaxis\": \"y\"}, {\"alignmentgroup\": \"True\", \"customdata\": [[\"Angola\", 81.61, 50.0, 2.0, \"Cluster 0\"], [\"Bahrain\", 86.77, 7532.0, 12.0, \"Cluster 0\"], [\"Bulgaria\", 67.19, 2292.0, 116.0, \"Cluster 0\"], [\"Azerbaijan\", 86.24, 3518.0, 41.0, \"Cluster 0\"], [\"Australia\", 66.14, 7068.0, 99.0, \"Cluster 0\"], [\"Afghanistan\", 76.33, 7653.0, 178.0, \"Cluster 0\"], [\"Russia\", 71.71, 299941.0, 2837.0, \"Cluster 0\"], [\"Puerto Rico\", 97.35, 2805.0, 124.0, \"Cluster 0\"], [\"Guyana\", 82.27, 125.0, 10.0, \"Cluster 0\"], [\"Colombia\", 90.74, 16935.0, 613.0, \"Cluster 0\"], [\"Suriname\", 77.12, 11.0, 1.0, \"Cluster 0\"], [\"Denmark\", 75.52, 11044.0, 551.0, \"Cluster 0\"], [\"Costa Rica\", 74.99, 882.0, 10.0, \"Cluster 0\"], [\"Bhutan\", 78.3, 21.0, 0.0, \"Cluster 0\"], [\"Sierra Leone\", 77.64, 534.0, 33.0, \"Cluster 0\"], [\"Jordan\", 72.48, 649.0, 9.0, \"Cluster 0\"], [\"Iraq\", 84.39, 3611.0, 131.0, \"Cluster 0\"], [\"Cape Verde\", 82.41, 335.0, 3.0, \"Cluster 0\"], [\"Slovak Republic\", 78.96, 1495.0, 28.0, \"Cluster 0\"], [\"Eswatini\", 84.26, 208.0, 2.0, \"Cluster 0\"], [\"Chad\", 86.38, 545.0, 56.0, \"Cluster 0\"], [\"Thailand\", 80.56, 3034.0, 56.0, \"Cluster 0\"], [\"Trinidad and Tobago\", 93.38, 116.0, 8.0, \"Cluster 0\"], [\"Tunisia\", 87.96, 1044.0, 47.0, \"Cluster 0\"], [\"Bolivia\", 97.35, 4481.0, 189.0, \"Cluster 0\"], [\"Turkey\", 80.42, 151615.0, 4199.0, \"Cluster 0\"], [\"Uruguay\", 71.16, 738.0, 20.0, \"Cluster 0\"], [\"Uzbekistan\", 85.19, 2880.0, 13.0, \"Cluster 0\"], [\"Venezuela\", 86.24, 749.0, 10.0, \"Cluster 0\"], [\"Vietnam\", 69.18, 324.0, 0.0, \"Cluster 0\"], [\"South Africa\", 88.75, 17200.0, 312.0, \"Cluster 0\"], [\"Zimbabwe\", 91.4, 46.0, 4.0, \"Cluster 0\"], [\"Ukraine\", 92.06, 18876.0, 548.0, \"Cluster 0\"], [\"South Sudan\", 94.71, 285.0, 6.0, \"Cluster 0\"], [\"Central African Republic\", 69.97, 411.0, 0.0, \"Cluster 0\"], [\"Cuba\", 100.0, 1887.0, 79.0, \"Cluster 0\"], [\"Syria\", 80.43, 58.0, 3.0, \"Cluster 0\"], [\"Seychelles\", 65.87, 11.0, 0.0, \"Cluster 0\"], [\"San Marino\", 71.42, 655.0, 41.0, \"Cluster 0\"], [\"Sudan\", 86.38, 2591.0, 105.0, \"Cluster 0\"], [\"Rwanda\", 82.14, 308.0, 0.0, \"Cluster 0\"], [\"Palestine\", 97.35, 570.0, 4.0, \"Cluster 0\"], [\"Paraguay\", 96.03, 829.0, 11.0, \"Cluster 0\"], [\"Portugal\", 76.71, 29432.0, 1247.0, \"Cluster 0\"], [\"Poland\", 88.09, 19268.0, 948.0, \"Cluster 0\"], [\"Panama\", 81.61, 9867.0, 281.0, \"Cluster 0\"], [\"Pakistan\", 82.02, 45898.0, 985.0, \"Cluster 0\"], [\"Oman\", 85.19, 5671.0, 27.0, \"Cluster 0\"], [\"Malaysia\", 74.2, 6978.0, 114.0, \"Cluster 0\"], [\"Mauritius\", 84.78, 332.0, 10.0, \"Cluster 0\"], [\"Mongolia\", 67.99, 140.0, 0.0, \"Cluster 0\"], [\"Myanmar\", 79.24, 193.0, 6.0, \"Cluster 0\"], [\"Mexico\", 85.45, 54346.0, 5666.0, \"Cluster 0\"], [\"Dominica\", 80.95, 16.0, 0.0, \"Cluster 0\"], [\"Ecuador\", 85.85, 34151.0, 2839.0, \"Cluster 0\"], [\"Ethiopia\", 76.19, 365.0, 5.0, \"Cluster 0\"], [\"Guam\", 69.71, 154.0, 5.0, \"Cluster 0\"], [\"Hong Kong\", 67.85, 1055.0, 4.0, \"Cluster 0\"], [\"Croatia\", 66.53, 2232.0, 96.0, \"Cluster 0\"], [\"Congo\", 98.02, 420.0, 15.0, \"Cluster 0\"], [\"India\", 76.07, 106750.0, 3303.0, \"Cluster 0\"], [\"Kenya\", 94.18, 963.0, 50.0, \"Cluster 0\"], [\"Lebanon\", 84.12, 954.0, 26.0, \"Cluster 0\"], [\"Liberia\", 78.31, 233.0, 23.0, \"Cluster 0\"], [\"Libya\", 96.83, 68.0, 3.0, \"Cluster 0\"], [\"Sri Lanka\", 82.27, 1027.0, 9.0, \"Cluster 0\"], [\"Morocco\", 93.38, 7023.0, 193.0, \"Cluster 0\"], [\"Kazakhstan\", 79.37, 6969.0, 35.0, \"Cluster 0\"], [\"El Salvador\", 100.0, 1498.0, 31.0, \"Cluster 0\"], [\"Uganda\", 89.94, 260.0, 0.0, \"Cluster 0\"], [\"Kosovo\", 90.74, 989.0, 29.0, \"Cluster 0\"], [\"Chile\", 78.83, 49579.0, 509.0, \"Cluster 0\"], [\"China\", 64.44, 84065.0, 4638.0, \"Cluster 0\"], [\"Algeria\", 82.42, 7377.0, 561.0, \"Cluster 0\"], [\"Lesotho\", 72.87, 1.0, 0.0, \"Cluster 0\"], [\"Kuwait\", 100.0, 16764.0, 121.0, \"Cluster 0\"], [\"Kyrgyz Republic\", 78.85, 1270.0, 14.0, \"Cluster 0\"], [\"Jamaica\", 74.2, 520.0, 9.0, \"Cluster 0\"], [\"Israel\", 82.93, 16650.0, 277.0, \"Cluster 0\"], [\"Cameroon\", 67.85, 3529.0, 140.0, \"Cluster 0\"], [\"Democratic Republic of Congo\", 80.04, 1731.0, 61.0, \"Cluster 0\"], [\"Ireland\", 87.83, 24251.0, 1561.0, \"Cluster 0\"], [\"Indonesia\", 70.91, 18496.0, 1221.0, \"Cluster 0\"], [\"Cyprus\", 94.18, 918.0, 17.0, \"Cluster 0\"], [\"Singapore\", 85.18, 28794.0, 22.0, \"Cluster 0\"], [\"Honduras\", 100.0, 2955.0, 147.0, \"Cluster 0\"], [\"Guatemala\", 97.35, 2133.0, 43.0, \"Cluster 0\"], [\"Greenland\", 80.95, 11.0, 0.0, \"Cluster 0\"], [\"Greece\", 74.34, 2840.0, 165.0, \"Cluster 0\"], [\"Gambia\", 84.78, 24.0, 1.0, \"Cluster 0\"], [\"Ghana\", 66.53, 6096.0, 31.0, \"Cluster 0\"], [\"Georgia\", 94.18, 707.0, 12.0, \"Cluster 0\"], [\"Gabon\", 86.24, 1502.0, 12.0, \"Cluster 0\"], [\"Finland\", 65.74, 6399.0, 301.0, \"Cluster 0\"], [\"Germany\", 71.44, 176007.0, 8090.0, \"Cluster 0\"], [\"Egypt\", 88.75, 13484.0, 659.0, \"Cluster 0\"], [\"Switzerland\", 71.55, 30535.0, 1613.0, \"Cluster 0\"], [\"Canada\", 67.74, 79101.0, 5912.0, \"Cluster 0\"], [\"Cote d'Ivoire\", 70.25, 2153.0, 28.0, \"Cluster 0\"], [\"Botswana\", 78.05, 25.0, 1.0, \"Cluster 0\"], [\"Albania\", 88.36, 949.0, 31.0, \"Cluster 0\"], [\"United Arab Emirates\", 77.78, 25063.0, 227.0, \"Cluster 0\"], [\"Saudi Arabia\", 87.84, 59854.0, 329.0, \"Cluster 0\"], [\"Romania\", 76.98, 17191.0, 1126.0, \"Cluster 0\"], [\"Qatar\", 90.74, 35606.0, 15.0, \"Cluster 0\"], [\"Argentina\", 91.54, 8796.0, 393.0, \"Cluster 0\"], [\"Philippines\", 94.58, 12942.0, 837.0, \"Cluster 0\"], [\"Peru\", 97.35, 99483.0, 2914.0, \"Cluster 0\"], [\"Nepal\", 95.24, 402.0, 2.0, \"Cluster 0\"], [\"Luxembourg\", 65.73, 3958.0, 109.0, \"Cluster 0\"], [\"Netherlands\", 76.71, 44249.0, 5715.0, \"Cluster 0\"], [\"Belgium\", 75.26, 55791.0, 9108.0, \"Cluster 0\"], [\"Nigeria\", 76.59, 6401.0, 192.0, \"Cluster 0\"], [\"Dominican Republic\", 98.02, 13223.0, 441.0, \"Cluster 0\"], [\"Bangladesh\", 91.93, 25121.0, 370.0, \"Cluster 0\"], [\"Bosnia and Herzegovina\", 81.22, 2319.0, 133.0, \"Cluster 0\"], [\"Moldova\", 84.92, 6340.0, 221.0, \"Cluster 0\"], [\"Belize\", 87.04, 18.0, 2.0, \"Cluster 0\"], [\"Mali\", 76.19, 901.0, 53.0, \"Cluster 0\"], [\"Bermuda\", 80.15, 125.0, 9.0, \"Cluster 0\"], [\"Barbados\", 71.42, 90.0, 7.0, \"Cluster 0\"]], \"hoverlabel\": {\"namelength\": 0}, \"hovertemplate\": \"Cluster=%{customdata[4]}<br>confirmed_cases=%{customdata[2]}<br>country_name=%{customdata[0]}<br>stringency_index=%{customdata[1]}<br>deaths=%{customdata[3]}\", \"legendgroup\": \"Cluster=Cluster 0\", \"marker\": {\"color\": \"#636efa\"}, \"name\": \"Cluster=Cluster 0\", \"notched\": true, \"offsetgroup\": \"Cluster=Cluster 0\", \"showlegend\": false, \"type\": \"box\", \"x\": [50.0, 7532.0, 2292.0, 3518.0, 7068.0, 7653.0, 299941.0, 2805.0, 125.0, 16935.0, 11.0, 11044.0, 882.0, 21.0, 534.0, 649.0, 3611.0, 335.0, 1495.0, 208.0, 545.0, 3034.0, 116.0, 1044.0, 4481.0, 151615.0, 738.0, 2880.0, 749.0, 324.0, 17200.0, 46.0, 18876.0, 285.0, 411.0, 1887.0, 58.0, 11.0, 655.0, 2591.0, 308.0, 570.0, 829.0, 29432.0, 19268.0, 9867.0, 45898.0, 5671.0, 6978.0, 332.0, 140.0, 193.0, 54346.0, 16.0, 34151.0, 365.0, 154.0, 1055.0, 2232.0, 420.0, 106750.0, 963.0, 954.0, 233.0, 68.0, 1027.0, 7023.0, 6969.0, 1498.0, 260.0, 989.0, 49579.0, 84065.0, 7377.0, 1.0, 16764.0, 1270.0, 520.0, 16650.0, 3529.0, 1731.0, 24251.0, 18496.0, 918.0, 28794.0, 2955.0, 2133.0, 11.0, 2840.0, 24.0, 6096.0, 707.0, 1502.0, 6399.0, 176007.0, 13484.0, 30535.0, 79101.0, 2153.0, 25.0, 949.0, 25063.0, 59854.0, 17191.0, 35606.0, 8796.0, 12942.0, 99483.0, 402.0, 3958.0, 44249.0, 55791.0, 6401.0, 13223.0, 25121.0, 2319.0, 6340.0, 18.0, 901.0, 125.0, 90.0], \"xaxis\": \"x2\", \"yaxis\": \"y2\"}, {\"alignmentgroup\": \"True\", \"bingroup\": \"x\", \"hoverlabel\": {\"namelength\": 0}, \"hovertemplate\": \"Cluster=Cluster 1<br>confirmed_cases=%{x}<br>count=%{y}\", \"legendgroup\": \"Cluster=Cluster 1\", \"marker\": {\"color\": \"#EF553B\", \"opacity\": 0.7}, \"name\": \"Cluster=Cluster 1\", \"offsetgroup\": \"Cluster=Cluster 1\", \"orientation\": \"v\", \"showlegend\": true, \"type\": \"histogram\", \"x\": [1528568.0], \"xaxis\": \"x\", \"yaxis\": \"y\"}, {\"alignmentgroup\": \"True\", \"customdata\": [[\"United States\", 68.41, 1528568.0, 91921.0, \"Cluster 1\"]], \"hoverlabel\": {\"namelength\": 0}, \"hovertemplate\": \"Cluster=%{customdata[4]}<br>confirmed_cases=%{customdata[2]}<br>country_name=%{customdata[0]}<br>stringency_index=%{customdata[1]}<br>deaths=%{customdata[3]}\", \"legendgroup\": \"Cluster=Cluster 1\", \"marker\": {\"color\": \"#EF553B\"}, \"name\": \"Cluster=Cluster 1\", \"notched\": true, \"offsetgroup\": \"Cluster=Cluster 1\", \"showlegend\": false, \"type\": \"box\", \"x\": [1528568.0], \"xaxis\": \"x2\", \"yaxis\": \"y2\"}, {\"alignmentgroup\": \"True\", \"bingroup\": \"x\", \"hoverlabel\": {\"namelength\": 0}, \"hovertemplate\": \"Cluster=Cluster 2<br>confirmed_cases=%{x}<br>count=%{y}\", \"legendgroup\": \"Cluster=Cluster 2\", \"marker\": {\"color\": \"#00cc96\", \"opacity\": 0.7}, \"name\": \"Cluster=Cluster 2\", \"offsetgroup\": \"Cluster=Cluster 2\", \"orientation\": \"v\", \"showlegend\": true, \"type\": \"histogram\", \"x\": [226699.0, 271628.0, 248818.0, 143427.0, 232555.0], \"xaxis\": \"x\", \"yaxis\": \"y\"}, {\"alignmentgroup\": \"True\", \"customdata\": [[\"Italy\", 68.78, 226699.0, 32169.0, \"Cluster 2\"], [\"Brazil\", 75.15, 271628.0, 17971.0, \"Cluster 2\"], [\"United Kingdom\", 73.01, 248818.0, 35341.0, \"Cluster 2\"], [\"France\", 83.46, 143427.0, 28022.0, \"Cluster 2\"], [\"Spain\", 83.07, 232555.0, 27888.0, \"Cluster 2\"]], \"hoverlabel\": {\"namelength\": 0}, \"hovertemplate\": \"Cluster=%{customdata[4]}<br>confirmed_cases=%{customdata[2]}<br>country_name=%{customdata[0]}<br>stringency_index=%{customdata[1]}<br>deaths=%{customdata[3]}\", \"legendgroup\": \"Cluster=Cluster 2\", \"marker\": {\"color\": \"#00cc96\"}, \"name\": \"Cluster=Cluster 2\", \"notched\": true, \"offsetgroup\": \"Cluster=Cluster 2\", \"showlegend\": false, \"type\": \"box\", \"x\": [226699.0, 271628.0, 248818.0, 143427.0, 232555.0], \"xaxis\": \"x2\", \"yaxis\": \"y2\"}, {\"alignmentgroup\": \"True\", \"bingroup\": \"x\", \"hoverlabel\": {\"namelength\": 0}, \"hovertemplate\": \"Cluster=Cluster 3<br>confirmed_cases=%{x}<br>count=%{y}\", \"legendgroup\": \"Cluster=Cluster 3\", \"marker\": {\"color\": \"#ab63fa\", \"opacity\": 0.7}, \"name\": \"Cluster=Cluster 3\", \"offsetgroup\": \"Cluster=Cluster 3\", \"orientation\": \"v\", \"showlegend\": true, \"type\": \"histogram\", \"x\": [8257.0, 19.0, 806.0, 45.0, 31508.0, 42.0, 1467.0, 8647.0, 1502.0, 1791.0, 10733.0, 2617.0, 30799.0, 8.0, 509.0, 25.0, 914.0, 712.0, 167.0, 71.0, 772.0, 146.0, 1802.0, 440.0, 1153.0, 101.0, 1562.0, 16385.0, 761.0, 141.0, 11110.0, 124603.0, 0.0, 16257.0, 3598.0, 1518.0, 326.0, 130.0], \"xaxis\": \"x\", \"yaxis\": \"y\"}, {\"alignmentgroup\": \"True\", \"customdata\": [[\"Norway\", 58.07, 8257.0, 233.0, \"Cluster 3\"], [\"Laos\", 56.22, 19.0, 0.0, \"Cluster 3\"], [\"Burkina Faso\", 62.04, 806.0, 52.0, \"Cluster 3\"], [\"Macao\", 39.02, 45.0, 0.0, \"Cluster 3\"], [\"Belarus\", 15.47, 31508.0, 175.0, \"Cluster 3\"], [\"Burundi\", 22.22, 42.0, 1.0, \"Cluster 3\"], [\"Slovenia\", 61.25, 1467.0, 104.0, \"Cluster 3\"], [\"Czech Republic\", 59.65, 8647.0, 302.0, \"Cluster 3\"], [\"Somalia\", 59.39, 1502.0, 59.0, \"Cluster 3\"], [\"Estonia\", 41.54, 1791.0, 64.0, \"Cluster 3\"], [\"Serbia\", 56.87, 10733.0, 234.0, \"Cluster 3\"], [\"Senegal\", 62.7, 2617.0, 30.0, \"Cluster 3\"], [\"Sweden\", 47.35, 30799.0, 3743.0, \"Cluster 3\"], [\"Papua New Guinea\", 43.66, 8.0, 0.0, \"Cluster 3\"], [\"Tanzania\", 50.4, 509.0, 21.0, \"Cluster 3\"], [\"Nicaragua\", 11.11, 25.0, 8.0, \"Cluster 3\"], [\"Niger\", 33.33, 914.0, 55.0, \"Cluster 3\"], [\"Namibia\", 61.24, 712.0, 7.0, \"Cluster 3\"], [\"Yemen\", 54.23, 167.0, 28.0, \"Cluster 3\"], [\"Malawi\", 59.26, 71.0, 3.0, \"Cluster 3\"], [\"Zambia\", 45.37, 772.0, 7.0, \"Cluster 3\"], [\"Mozambique\", 53.83, 146.0, 0.0, \"Cluster 3\"], [\"Iceland\", 56.61, 1802.0, 10.0, \"Cluster 3\"], [\"Taiwan\", 29.36, 440.0, 7.0, \"Cluster 3\"], [\"New Zealand\", 38.49, 1153.0, 21.0, \"Cluster 3\"], [\"Aruba\", 47.48, 101.0, 3.0, \"Cluster 3\"], [\"Lithuania\", 0.0, 1562.0, 60.0, \"Cluster 3\"], [\"Japan\", 43.79, 16385.0, 771.0, \"Cluster 3\"], [\"Andorra\", 56.34, 761.0, 51.0, \"Cluster 3\"], [\"Brunei\", 56.74, 141.0, 1.0, \"Cluster 3\"], [\"South Korea\", 43.51, 11110.0, 263.0, \"Cluster 3\"], [\"Iran\", 47.23, 124603.0, 7119.0, \"Cluster 3\"], [\"Solomon Islands\", 50.41, 0.0, 0.0, \"Cluster 3\"], [\"Austria\", 56.34, 16257.0, 632.0, \"Cluster 3\"], [\"Hungary\", 59.53, 3598.0, 470.0, \"Cluster 3\"], [\"Djibouti\", 61.37, 1518.0, 7.0, \"Cluster 3\"], [\"Madagascar\", 64.43, 326.0, 2.0, \"Cluster 3\"], [\"Benin\", 48.15, 130.0, 2.0, \"Cluster 3\"]], \"hoverlabel\": {\"namelength\": 0}, \"hovertemplate\": \"Cluster=%{customdata[4]}<br>confirmed_cases=%{customdata[2]}<br>country_name=%{customdata[0]}<br>stringency_index=%{customdata[1]}<br>deaths=%{customdata[3]}\", \"legendgroup\": \"Cluster=Cluster 3\", \"marker\": {\"color\": \"#ab63fa\"}, \"name\": \"Cluster=Cluster 3\", \"notched\": true, \"offsetgroup\": \"Cluster=Cluster 3\", \"showlegend\": false, \"type\": \"box\", \"x\": [8257.0, 19.0, 806.0, 45.0, 31508.0, 42.0, 1467.0, 8647.0, 1502.0, 1791.0, 10733.0, 2617.0, 30799.0, 8.0, 509.0, 25.0, 914.0, 712.0, 167.0, 71.0, 772.0, 146.0, 1802.0, 440.0, 1153.0, 101.0, 1562.0, 16385.0, 761.0, 141.0, 11110.0, 124603.0, 0.0, 16257.0, 3598.0, 1518.0, 326.0, 130.0], \"xaxis\": \"x2\", \"yaxis\": \"y2\"}],\n",
       "                        {\"barmode\": \"relative\", \"legend\": {\"tracegroupgap\": 0}, \"margin\": {\"t\": 60}, \"template\": {\"data\": {\"bar\": [{\"error_x\": {\"color\": \"#2a3f5f\"}, \"error_y\": {\"color\": \"#2a3f5f\"}, \"marker\": {\"line\": {\"color\": \"#E5ECF6\", \"width\": 0.5}}, \"type\": \"bar\"}], \"barpolar\": [{\"marker\": {\"line\": {\"color\": \"#E5ECF6\", \"width\": 0.5}}, \"type\": \"barpolar\"}], \"carpet\": [{\"aaxis\": {\"endlinecolor\": \"#2a3f5f\", \"gridcolor\": \"white\", \"linecolor\": \"white\", \"minorgridcolor\": \"white\", \"startlinecolor\": \"#2a3f5f\"}, \"baxis\": {\"endlinecolor\": \"#2a3f5f\", \"gridcolor\": \"white\", \"linecolor\": \"white\", \"minorgridcolor\": \"white\", \"startlinecolor\": \"#2a3f5f\"}, \"type\": \"carpet\"}], \"choropleth\": [{\"colorbar\": {\"outlinewidth\": 0, \"ticks\": \"\"}, \"type\": \"choropleth\"}], \"contour\": [{\"colorbar\": {\"outlinewidth\": 0, \"ticks\": \"\"}, \"colorscale\": [[0.0, \"#0d0887\"], [0.1111111111111111, \"#46039f\"], [0.2222222222222222, \"#7201a8\"], [0.3333333333333333, \"#9c179e\"], [0.4444444444444444, \"#bd3786\"], [0.5555555555555556, \"#d8576b\"], [0.6666666666666666, \"#ed7953\"], [0.7777777777777778, \"#fb9f3a\"], [0.8888888888888888, \"#fdca26\"], [1.0, \"#f0f921\"]], \"type\": \"contour\"}], \"contourcarpet\": [{\"colorbar\": {\"outlinewidth\": 0, \"ticks\": \"\"}, \"type\": \"contourcarpet\"}], \"heatmap\": [{\"colorbar\": {\"outlinewidth\": 0, \"ticks\": \"\"}, \"colorscale\": [[0.0, \"#0d0887\"], [0.1111111111111111, \"#46039f\"], [0.2222222222222222, \"#7201a8\"], [0.3333333333333333, \"#9c179e\"], [0.4444444444444444, \"#bd3786\"], [0.5555555555555556, \"#d8576b\"], [0.6666666666666666, \"#ed7953\"], [0.7777777777777778, \"#fb9f3a\"], [0.8888888888888888, \"#fdca26\"], [1.0, \"#f0f921\"]], \"type\": \"heatmap\"}], \"heatmapgl\": [{\"colorbar\": {\"outlinewidth\": 0, \"ticks\": \"\"}, \"colorscale\": [[0.0, \"#0d0887\"], [0.1111111111111111, \"#46039f\"], [0.2222222222222222, \"#7201a8\"], [0.3333333333333333, \"#9c179e\"], [0.4444444444444444, \"#bd3786\"], [0.5555555555555556, \"#d8576b\"], [0.6666666666666666, \"#ed7953\"], [0.7777777777777778, \"#fb9f3a\"], [0.8888888888888888, \"#fdca26\"], [1.0, \"#f0f921\"]], \"type\": \"heatmapgl\"}], \"histogram\": [{\"marker\": {\"colorbar\": {\"outlinewidth\": 0, \"ticks\": \"\"}}, \"type\": \"histogram\"}], \"histogram2d\": [{\"colorbar\": {\"outlinewidth\": 0, \"ticks\": \"\"}, \"colorscale\": [[0.0, \"#0d0887\"], [0.1111111111111111, \"#46039f\"], [0.2222222222222222, \"#7201a8\"], [0.3333333333333333, \"#9c179e\"], [0.4444444444444444, \"#bd3786\"], [0.5555555555555556, \"#d8576b\"], [0.6666666666666666, \"#ed7953\"], [0.7777777777777778, \"#fb9f3a\"], [0.8888888888888888, \"#fdca26\"], [1.0, \"#f0f921\"]], \"type\": \"histogram2d\"}], \"histogram2dcontour\": [{\"colorbar\": {\"outlinewidth\": 0, \"ticks\": \"\"}, \"colorscale\": [[0.0, \"#0d0887\"], [0.1111111111111111, \"#46039f\"], [0.2222222222222222, \"#7201a8\"], [0.3333333333333333, \"#9c179e\"], [0.4444444444444444, \"#bd3786\"], [0.5555555555555556, \"#d8576b\"], [0.6666666666666666, \"#ed7953\"], [0.7777777777777778, \"#fb9f3a\"], [0.8888888888888888, \"#fdca26\"], [1.0, \"#f0f921\"]], \"type\": \"histogram2dcontour\"}], \"mesh3d\": [{\"colorbar\": {\"outlinewidth\": 0, \"ticks\": \"\"}, \"type\": \"mesh3d\"}], \"parcoords\": [{\"line\": {\"colorbar\": {\"outlinewidth\": 0, \"ticks\": \"\"}}, \"type\": \"parcoords\"}], \"pie\": [{\"automargin\": true, \"type\": \"pie\"}], \"scatter\": [{\"marker\": {\"colorbar\": {\"outlinewidth\": 0, \"ticks\": \"\"}}, \"type\": \"scatter\"}], \"scatter3d\": [{\"line\": {\"colorbar\": {\"outlinewidth\": 0, \"ticks\": \"\"}}, \"marker\": {\"colorbar\": {\"outlinewidth\": 0, \"ticks\": \"\"}}, \"type\": \"scatter3d\"}], \"scattercarpet\": [{\"marker\": {\"colorbar\": {\"outlinewidth\": 0, \"ticks\": \"\"}}, \"type\": \"scattercarpet\"}], \"scattergeo\": [{\"marker\": {\"colorbar\": {\"outlinewidth\": 0, \"ticks\": \"\"}}, \"type\": \"scattergeo\"}], \"scattergl\": [{\"marker\": {\"colorbar\": {\"outlinewidth\": 0, \"ticks\": \"\"}}, \"type\": \"scattergl\"}], \"scattermapbox\": [{\"marker\": {\"colorbar\": {\"outlinewidth\": 0, \"ticks\": \"\"}}, \"type\": \"scattermapbox\"}], \"scatterpolar\": [{\"marker\": {\"colorbar\": {\"outlinewidth\": 0, \"ticks\": \"\"}}, \"type\": \"scatterpolar\"}], \"scatterpolargl\": [{\"marker\": {\"colorbar\": {\"outlinewidth\": 0, \"ticks\": \"\"}}, \"type\": \"scatterpolargl\"}], \"scatterternary\": [{\"marker\": {\"colorbar\": {\"outlinewidth\": 0, \"ticks\": \"\"}}, \"type\": \"scatterternary\"}], \"surface\": [{\"colorbar\": {\"outlinewidth\": 0, \"ticks\": \"\"}, \"colorscale\": [[0.0, \"#0d0887\"], [0.1111111111111111, \"#46039f\"], [0.2222222222222222, \"#7201a8\"], [0.3333333333333333, \"#9c179e\"], [0.4444444444444444, \"#bd3786\"], [0.5555555555555556, \"#d8576b\"], [0.6666666666666666, \"#ed7953\"], [0.7777777777777778, \"#fb9f3a\"], [0.8888888888888888, \"#fdca26\"], [1.0, \"#f0f921\"]], \"type\": \"surface\"}], \"table\": [{\"cells\": {\"fill\": {\"color\": \"#EBF0F8\"}, \"line\": {\"color\": \"white\"}}, \"header\": {\"fill\": {\"color\": \"#C8D4E3\"}, \"line\": {\"color\": \"white\"}}, \"type\": \"table\"}]}, \"layout\": {\"annotationdefaults\": {\"arrowcolor\": \"#2a3f5f\", \"arrowhead\": 0, \"arrowwidth\": 1}, \"coloraxis\": {\"colorbar\": {\"outlinewidth\": 0, \"ticks\": \"\"}}, \"colorscale\": {\"diverging\": [[0, \"#8e0152\"], [0.1, \"#c51b7d\"], [0.2, \"#de77ae\"], [0.3, \"#f1b6da\"], [0.4, \"#fde0ef\"], [0.5, \"#f7f7f7\"], [0.6, \"#e6f5d0\"], [0.7, \"#b8e186\"], [0.8, \"#7fbc41\"], [0.9, \"#4d9221\"], [1, \"#276419\"]], \"sequential\": [[0.0, \"#0d0887\"], [0.1111111111111111, \"#46039f\"], [0.2222222222222222, \"#7201a8\"], [0.3333333333333333, \"#9c179e\"], [0.4444444444444444, \"#bd3786\"], [0.5555555555555556, \"#d8576b\"], [0.6666666666666666, \"#ed7953\"], [0.7777777777777778, \"#fb9f3a\"], [0.8888888888888888, \"#fdca26\"], [1.0, \"#f0f921\"]], \"sequentialminus\": [[0.0, \"#0d0887\"], [0.1111111111111111, \"#46039f\"], [0.2222222222222222, \"#7201a8\"], [0.3333333333333333, \"#9c179e\"], [0.4444444444444444, \"#bd3786\"], [0.5555555555555556, \"#d8576b\"], [0.6666666666666666, \"#ed7953\"], [0.7777777777777778, \"#fb9f3a\"], [0.8888888888888888, \"#fdca26\"], [1.0, \"#f0f921\"]]}, \"colorway\": [\"#636efa\", \"#EF553B\", \"#00cc96\", \"#ab63fa\", \"#FFA15A\", \"#19d3f3\", \"#FF6692\", \"#B6E880\", \"#FF97FF\", \"#FECB52\"], \"font\": {\"color\": \"#2a3f5f\"}, \"geo\": {\"bgcolor\": \"white\", \"lakecolor\": \"white\", \"landcolor\": \"#E5ECF6\", \"showlakes\": true, \"showland\": true, \"subunitcolor\": \"white\"}, \"hoverlabel\": {\"align\": \"left\"}, \"hovermode\": \"closest\", \"mapbox\": {\"style\": \"light\"}, \"paper_bgcolor\": \"white\", \"plot_bgcolor\": \"#E5ECF6\", \"polar\": {\"angularaxis\": {\"gridcolor\": \"white\", \"linecolor\": \"white\", \"ticks\": \"\"}, \"bgcolor\": \"#E5ECF6\", \"radialaxis\": {\"gridcolor\": \"white\", \"linecolor\": \"white\", \"ticks\": \"\"}}, \"scene\": {\"xaxis\": {\"backgroundcolor\": \"#E5ECF6\", \"gridcolor\": \"white\", \"gridwidth\": 2, \"linecolor\": \"white\", \"showbackground\": true, \"ticks\": \"\", \"zerolinecolor\": \"white\"}, \"yaxis\": {\"backgroundcolor\": \"#E5ECF6\", \"gridcolor\": \"white\", \"gridwidth\": 2, \"linecolor\": \"white\", \"showbackground\": true, \"ticks\": \"\", \"zerolinecolor\": \"white\"}, \"zaxis\": {\"backgroundcolor\": \"#E5ECF6\", \"gridcolor\": \"white\", \"gridwidth\": 2, \"linecolor\": \"white\", \"showbackground\": true, \"ticks\": \"\", \"zerolinecolor\": \"white\"}}, \"shapedefaults\": {\"line\": {\"color\": \"#2a3f5f\"}}, \"ternary\": {\"aaxis\": {\"gridcolor\": \"white\", \"linecolor\": \"white\", \"ticks\": \"\"}, \"baxis\": {\"gridcolor\": \"white\", \"linecolor\": \"white\", \"ticks\": \"\"}, \"bgcolor\": \"#E5ECF6\", \"caxis\": {\"gridcolor\": \"white\", \"linecolor\": \"white\", \"ticks\": \"\"}}, \"title\": {\"x\": 0.05}, \"xaxis\": {\"automargin\": true, \"gridcolor\": \"white\", \"linecolor\": \"white\", \"ticks\": \"\", \"title\": {\"standoff\": 15}, \"zerolinecolor\": \"white\", \"zerolinewidth\": 2}, \"yaxis\": {\"automargin\": true, \"gridcolor\": \"white\", \"linecolor\": \"white\", \"ticks\": \"\", \"title\": {\"standoff\": 15}, \"zerolinecolor\": \"white\", \"zerolinewidth\": 2}}}, \"xaxis\": {\"anchor\": \"y\", \"domain\": [0.0, 1.0], \"title\": {\"text\": \"confirmed_cases\"}}, \"xaxis2\": {\"anchor\": \"y2\", \"domain\": [0.0, 1.0], \"matches\": \"x\", \"showgrid\": true, \"showticklabels\": false}, \"yaxis\": {\"anchor\": \"x\", \"domain\": [0.0, 0.7326], \"title\": {\"text\": \"count\"}}, \"yaxis2\": {\"anchor\": \"x2\", \"domain\": [0.7426, 1.0], \"matches\": \"y2\", \"showgrid\": false, \"showline\": false, \"showticklabels\": false, \"ticks\": \"\"}},\n",
       "                        {\"responsive\": true}\n",
       "                    ).then(function(){\n",
       "                            \n",
       "var gd = document.getElementById('f54a43d5-d7ba-4add-b666-dcb4256ae41a');\n",
       "var x = new MutationObserver(function (mutations, observer) {{\n",
       "        var display = window.getComputedStyle(gd).display;\n",
       "        if (!display || display === 'none') {{\n",
       "            console.log([gd, 'removed!']);\n",
       "            Plotly.purge(gd);\n",
       "            observer.disconnect();\n",
       "        }}\n",
       "}});\n",
       "\n",
       "// Listen for the removal of the full notebook cells\n",
       "var notebookContainer = gd.closest('#notebook-container');\n",
       "if (notebookContainer) {{\n",
       "    x.observe(notebookContainer, {childList: true});\n",
       "}}\n",
       "\n",
       "// Listen for the clearing of the current output cell\n",
       "var outputEl = gd.closest('.output');\n",
       "if (outputEl) {{\n",
       "    x.observe(outputEl, {childList: true});\n",
       "}}\n",
       "\n",
       "                        })\n",
       "                };\n",
       "                });\n",
       "            </script>\n",
       "        </div>"
      ]
     },
     "metadata": {},
     "output_type": "display_data"
    }
   ],
   "source": [
    "#Also cluster 0 countries have at general low confirmed_cases compared to cluster 3 countries. Which means that stringency works!\n",
    "plot_model(kmeans, plot = 'distribution', feature = 'confirmed_cases')"
   ]
  },
  {
   "cell_type": "code",
   "execution_count": 30,
   "metadata": {},
   "outputs": [
    {
     "data": {
      "text/html": [
       "        <script type=\"text/javascript\">\n",
       "        window.PlotlyConfig = {MathJaxConfig: 'local'};\n",
       "        if (window.MathJax) {MathJax.Hub.Config({SVG: {font: \"STIX-Web\"}});}\n",
       "        if (typeof require !== 'undefined') {\n",
       "        require.undef(\"plotly\");\n",
       "        requirejs.config({\n",
       "            paths: {\n",
       "                'plotly': ['https://cdn.plot.ly/plotly-latest.min']\n",
       "            }\n",
       "        });\n",
       "        require(['plotly'], function(Plotly) {\n",
       "            window._Plotly = Plotly;\n",
       "        });\n",
       "        }\n",
       "        </script>\n",
       "        "
      ]
     },
     "metadata": {},
     "output_type": "display_data"
    },
    {
     "data": {
      "application/vnd.plotly.v1+json": {
       "config": {
        "plotlyServerURL": "https://plot.ly"
       },
       "data": [
        {
         "alignmentgroup": "True",
         "bingroup": "x",
         "hoverlabel": {
          "namelength": 0
         },
         "hovertemplate": "Cluster=Cluster 0<br>country_name=%{x}<br>count=%{y}",
         "legendgroup": "Cluster=Cluster 0",
         "marker": {
          "color": "#636efa",
          "opacity": 0.7
         },
         "name": "Cluster=Cluster 0",
         "offsetgroup": "Cluster=Cluster 0",
         "orientation": "v",
         "showlegend": true,
         "type": "histogram",
         "x": [
          "Angola",
          "Bahrain",
          "Bulgaria",
          "Azerbaijan",
          "Australia",
          "Afghanistan",
          "Russia",
          "Puerto Rico",
          "Guyana",
          "Colombia",
          "Suriname",
          "Denmark",
          "Costa Rica",
          "Bhutan",
          "Sierra Leone",
          "Jordan",
          "Iraq",
          "Cape Verde",
          "Slovak Republic",
          "Eswatini",
          "Chad",
          "Thailand",
          "Trinidad and Tobago",
          "Tunisia",
          "Bolivia",
          "Turkey",
          "Uruguay",
          "Uzbekistan",
          "Venezuela",
          "Vietnam",
          "South Africa",
          "Zimbabwe",
          "Ukraine",
          "South Sudan",
          "Central African Republic",
          "Cuba",
          "Syria",
          "Seychelles",
          "San Marino",
          "Sudan",
          "Rwanda",
          "Palestine",
          "Paraguay",
          "Portugal",
          "Poland",
          "Panama",
          "Pakistan",
          "Oman",
          "Malaysia",
          "Mauritius",
          "Mongolia",
          "Myanmar",
          "Mexico",
          "Dominica",
          "Ecuador",
          "Ethiopia",
          "Guam",
          "Hong Kong",
          "Croatia",
          "Congo",
          "India",
          "Kenya",
          "Lebanon",
          "Liberia",
          "Libya",
          "Sri Lanka",
          "Morocco",
          "Kazakhstan",
          "El Salvador",
          "Uganda",
          "Kosovo",
          "Chile",
          "China",
          "Algeria",
          "Lesotho",
          "Kuwait",
          "Kyrgyz Republic",
          "Jamaica",
          "Israel",
          "Cameroon",
          "Democratic Republic of Congo",
          "Ireland",
          "Indonesia",
          "Cyprus",
          "Singapore",
          "Honduras",
          "Guatemala",
          "Greenland",
          "Greece",
          "Gambia",
          "Ghana",
          "Georgia",
          "Gabon",
          "Finland",
          "Germany",
          "Egypt",
          "Switzerland",
          "Canada",
          "Cote d'Ivoire",
          "Botswana",
          "Albania",
          "United Arab Emirates",
          "Saudi Arabia",
          "Romania",
          "Qatar",
          "Argentina",
          "Philippines",
          "Peru",
          "Nepal",
          "Luxembourg",
          "Netherlands",
          "Belgium",
          "Nigeria",
          "Dominican Republic",
          "Bangladesh",
          "Bosnia and Herzegovina",
          "Moldova",
          "Belize",
          "Mali",
          "Bermuda",
          "Barbados"
         ],
         "xaxis": "x",
         "yaxis": "y"
        },
        {
         "alignmentgroup": "True",
         "customdata": [
          [
           "Angola",
           81.61,
           50,
           2,
           "Cluster 0"
          ],
          [
           "Bahrain",
           86.77,
           7532,
           12,
           "Cluster 0"
          ],
          [
           "Bulgaria",
           67.19,
           2292,
           116,
           "Cluster 0"
          ],
          [
           "Azerbaijan",
           86.24,
           3518,
           41,
           "Cluster 0"
          ],
          [
           "Australia",
           66.14,
           7068,
           99,
           "Cluster 0"
          ],
          [
           "Afghanistan",
           76.33,
           7653,
           178,
           "Cluster 0"
          ],
          [
           "Russia",
           71.71,
           299941,
           2837,
           "Cluster 0"
          ],
          [
           "Puerto Rico",
           97.35,
           2805,
           124,
           "Cluster 0"
          ],
          [
           "Guyana",
           82.27,
           125,
           10,
           "Cluster 0"
          ],
          [
           "Colombia",
           90.74,
           16935,
           613,
           "Cluster 0"
          ],
          [
           "Suriname",
           77.12,
           11,
           1,
           "Cluster 0"
          ],
          [
           "Denmark",
           75.52,
           11044,
           551,
           "Cluster 0"
          ],
          [
           "Costa Rica",
           74.99,
           882,
           10,
           "Cluster 0"
          ],
          [
           "Bhutan",
           78.3,
           21,
           0,
           "Cluster 0"
          ],
          [
           "Sierra Leone",
           77.64,
           534,
           33,
           "Cluster 0"
          ],
          [
           "Jordan",
           72.48,
           649,
           9,
           "Cluster 0"
          ],
          [
           "Iraq",
           84.39,
           3611,
           131,
           "Cluster 0"
          ],
          [
           "Cape Verde",
           82.41,
           335,
           3,
           "Cluster 0"
          ],
          [
           "Slovak Republic",
           78.96,
           1495,
           28,
           "Cluster 0"
          ],
          [
           "Eswatini",
           84.26,
           208,
           2,
           "Cluster 0"
          ],
          [
           "Chad",
           86.38,
           545,
           56,
           "Cluster 0"
          ],
          [
           "Thailand",
           80.56,
           3034,
           56,
           "Cluster 0"
          ],
          [
           "Trinidad and Tobago",
           93.38,
           116,
           8,
           "Cluster 0"
          ],
          [
           "Tunisia",
           87.96,
           1044,
           47,
           "Cluster 0"
          ],
          [
           "Bolivia",
           97.35,
           4481,
           189,
           "Cluster 0"
          ],
          [
           "Turkey",
           80.42,
           151615,
           4199,
           "Cluster 0"
          ],
          [
           "Uruguay",
           71.16,
           738,
           20,
           "Cluster 0"
          ],
          [
           "Uzbekistan",
           85.19,
           2880,
           13,
           "Cluster 0"
          ],
          [
           "Venezuela",
           86.24,
           749,
           10,
           "Cluster 0"
          ],
          [
           "Vietnam",
           69.18,
           324,
           0,
           "Cluster 0"
          ],
          [
           "South Africa",
           88.75,
           17200,
           312,
           "Cluster 0"
          ],
          [
           "Zimbabwe",
           91.4,
           46,
           4,
           "Cluster 0"
          ],
          [
           "Ukraine",
           92.06,
           18876,
           548,
           "Cluster 0"
          ],
          [
           "South Sudan",
           94.71,
           285,
           6,
           "Cluster 0"
          ],
          [
           "Central African Republic",
           69.97,
           411,
           0,
           "Cluster 0"
          ],
          [
           "Cuba",
           100,
           1887,
           79,
           "Cluster 0"
          ],
          [
           "Syria",
           80.43,
           58,
           3,
           "Cluster 0"
          ],
          [
           "Seychelles",
           65.87,
           11,
           0,
           "Cluster 0"
          ],
          [
           "San Marino",
           71.42,
           655,
           41,
           "Cluster 0"
          ],
          [
           "Sudan",
           86.38,
           2591,
           105,
           "Cluster 0"
          ],
          [
           "Rwanda",
           82.14,
           308,
           0,
           "Cluster 0"
          ],
          [
           "Palestine",
           97.35,
           570,
           4,
           "Cluster 0"
          ],
          [
           "Paraguay",
           96.03,
           829,
           11,
           "Cluster 0"
          ],
          [
           "Portugal",
           76.71,
           29432,
           1247,
           "Cluster 0"
          ],
          [
           "Poland",
           88.09,
           19268,
           948,
           "Cluster 0"
          ],
          [
           "Panama",
           81.61,
           9867,
           281,
           "Cluster 0"
          ],
          [
           "Pakistan",
           82.02,
           45898,
           985,
           "Cluster 0"
          ],
          [
           "Oman",
           85.19,
           5671,
           27,
           "Cluster 0"
          ],
          [
           "Malaysia",
           74.2,
           6978,
           114,
           "Cluster 0"
          ],
          [
           "Mauritius",
           84.78,
           332,
           10,
           "Cluster 0"
          ],
          [
           "Mongolia",
           67.99,
           140,
           0,
           "Cluster 0"
          ],
          [
           "Myanmar",
           79.24,
           193,
           6,
           "Cluster 0"
          ],
          [
           "Mexico",
           85.45,
           54346,
           5666,
           "Cluster 0"
          ],
          [
           "Dominica",
           80.95,
           16,
           0,
           "Cluster 0"
          ],
          [
           "Ecuador",
           85.85,
           34151,
           2839,
           "Cluster 0"
          ],
          [
           "Ethiopia",
           76.19,
           365,
           5,
           "Cluster 0"
          ],
          [
           "Guam",
           69.71,
           154,
           5,
           "Cluster 0"
          ],
          [
           "Hong Kong",
           67.85,
           1055,
           4,
           "Cluster 0"
          ],
          [
           "Croatia",
           66.53,
           2232,
           96,
           "Cluster 0"
          ],
          [
           "Congo",
           98.02,
           420,
           15,
           "Cluster 0"
          ],
          [
           "India",
           76.07,
           106750,
           3303,
           "Cluster 0"
          ],
          [
           "Kenya",
           94.18,
           963,
           50,
           "Cluster 0"
          ],
          [
           "Lebanon",
           84.12,
           954,
           26,
           "Cluster 0"
          ],
          [
           "Liberia",
           78.31,
           233,
           23,
           "Cluster 0"
          ],
          [
           "Libya",
           96.83,
           68,
           3,
           "Cluster 0"
          ],
          [
           "Sri Lanka",
           82.27,
           1027,
           9,
           "Cluster 0"
          ],
          [
           "Morocco",
           93.38,
           7023,
           193,
           "Cluster 0"
          ],
          [
           "Kazakhstan",
           79.37,
           6969,
           35,
           "Cluster 0"
          ],
          [
           "El Salvador",
           100,
           1498,
           31,
           "Cluster 0"
          ],
          [
           "Uganda",
           89.94,
           260,
           0,
           "Cluster 0"
          ],
          [
           "Kosovo",
           90.74,
           989,
           29,
           "Cluster 0"
          ],
          [
           "Chile",
           78.83,
           49579,
           509,
           "Cluster 0"
          ],
          [
           "China",
           64.44,
           84065,
           4638,
           "Cluster 0"
          ],
          [
           "Algeria",
           82.42,
           7377,
           561,
           "Cluster 0"
          ],
          [
           "Lesotho",
           72.87,
           1,
           0,
           "Cluster 0"
          ],
          [
           "Kuwait",
           100,
           16764,
           121,
           "Cluster 0"
          ],
          [
           "Kyrgyz Republic",
           78.85,
           1270,
           14,
           "Cluster 0"
          ],
          [
           "Jamaica",
           74.2,
           520,
           9,
           "Cluster 0"
          ],
          [
           "Israel",
           82.93,
           16650,
           277,
           "Cluster 0"
          ],
          [
           "Cameroon",
           67.85,
           3529,
           140,
           "Cluster 0"
          ],
          [
           "Democratic Republic of Congo",
           80.04,
           1731,
           61,
           "Cluster 0"
          ],
          [
           "Ireland",
           87.83,
           24251,
           1561,
           "Cluster 0"
          ],
          [
           "Indonesia",
           70.91,
           18496,
           1221,
           "Cluster 0"
          ],
          [
           "Cyprus",
           94.18,
           918,
           17,
           "Cluster 0"
          ],
          [
           "Singapore",
           85.18,
           28794,
           22,
           "Cluster 0"
          ],
          [
           "Honduras",
           100,
           2955,
           147,
           "Cluster 0"
          ],
          [
           "Guatemala",
           97.35,
           2133,
           43,
           "Cluster 0"
          ],
          [
           "Greenland",
           80.95,
           11,
           0,
           "Cluster 0"
          ],
          [
           "Greece",
           74.34,
           2840,
           165,
           "Cluster 0"
          ],
          [
           "Gambia",
           84.78,
           24,
           1,
           "Cluster 0"
          ],
          [
           "Ghana",
           66.53,
           6096,
           31,
           "Cluster 0"
          ],
          [
           "Georgia",
           94.18,
           707,
           12,
           "Cluster 0"
          ],
          [
           "Gabon",
           86.24,
           1502,
           12,
           "Cluster 0"
          ],
          [
           "Finland",
           65.74,
           6399,
           301,
           "Cluster 0"
          ],
          [
           "Germany",
           71.44,
           176007,
           8090,
           "Cluster 0"
          ],
          [
           "Egypt",
           88.75,
           13484,
           659,
           "Cluster 0"
          ],
          [
           "Switzerland",
           71.55,
           30535,
           1613,
           "Cluster 0"
          ],
          [
           "Canada",
           67.74,
           79101,
           5912,
           "Cluster 0"
          ],
          [
           "Cote d'Ivoire",
           70.25,
           2153,
           28,
           "Cluster 0"
          ],
          [
           "Botswana",
           78.05,
           25,
           1,
           "Cluster 0"
          ],
          [
           "Albania",
           88.36,
           949,
           31,
           "Cluster 0"
          ],
          [
           "United Arab Emirates",
           77.78,
           25063,
           227,
           "Cluster 0"
          ],
          [
           "Saudi Arabia",
           87.84,
           59854,
           329,
           "Cluster 0"
          ],
          [
           "Romania",
           76.98,
           17191,
           1126,
           "Cluster 0"
          ],
          [
           "Qatar",
           90.74,
           35606,
           15,
           "Cluster 0"
          ],
          [
           "Argentina",
           91.54,
           8796,
           393,
           "Cluster 0"
          ],
          [
           "Philippines",
           94.58,
           12942,
           837,
           "Cluster 0"
          ],
          [
           "Peru",
           97.35,
           99483,
           2914,
           "Cluster 0"
          ],
          [
           "Nepal",
           95.24,
           402,
           2,
           "Cluster 0"
          ],
          [
           "Luxembourg",
           65.73,
           3958,
           109,
           "Cluster 0"
          ],
          [
           "Netherlands",
           76.71,
           44249,
           5715,
           "Cluster 0"
          ],
          [
           "Belgium",
           75.26,
           55791,
           9108,
           "Cluster 0"
          ],
          [
           "Nigeria",
           76.59,
           6401,
           192,
           "Cluster 0"
          ],
          [
           "Dominican Republic",
           98.02,
           13223,
           441,
           "Cluster 0"
          ],
          [
           "Bangladesh",
           91.93,
           25121,
           370,
           "Cluster 0"
          ],
          [
           "Bosnia and Herzegovina",
           81.22,
           2319,
           133,
           "Cluster 0"
          ],
          [
           "Moldova",
           84.92,
           6340,
           221,
           "Cluster 0"
          ],
          [
           "Belize",
           87.04,
           18,
           2,
           "Cluster 0"
          ],
          [
           "Mali",
           76.19,
           901,
           53,
           "Cluster 0"
          ],
          [
           "Bermuda",
           80.15,
           125,
           9,
           "Cluster 0"
          ],
          [
           "Barbados",
           71.42,
           90,
           7,
           "Cluster 0"
          ]
         ],
         "hoverlabel": {
          "namelength": 0
         },
         "hovertemplate": "Cluster=%{customdata[4]}<br>country_name=%{customdata[0]}<br>stringency_index=%{customdata[1]}<br>confirmed_cases=%{customdata[2]}<br>deaths=%{customdata[3]}",
         "legendgroup": "Cluster=Cluster 0",
         "marker": {
          "color": "#636efa"
         },
         "name": "Cluster=Cluster 0",
         "notched": true,
         "offsetgroup": "Cluster=Cluster 0",
         "showlegend": false,
         "type": "box",
         "x": [
          "Angola",
          "Bahrain",
          "Bulgaria",
          "Azerbaijan",
          "Australia",
          "Afghanistan",
          "Russia",
          "Puerto Rico",
          "Guyana",
          "Colombia",
          "Suriname",
          "Denmark",
          "Costa Rica",
          "Bhutan",
          "Sierra Leone",
          "Jordan",
          "Iraq",
          "Cape Verde",
          "Slovak Republic",
          "Eswatini",
          "Chad",
          "Thailand",
          "Trinidad and Tobago",
          "Tunisia",
          "Bolivia",
          "Turkey",
          "Uruguay",
          "Uzbekistan",
          "Venezuela",
          "Vietnam",
          "South Africa",
          "Zimbabwe",
          "Ukraine",
          "South Sudan",
          "Central African Republic",
          "Cuba",
          "Syria",
          "Seychelles",
          "San Marino",
          "Sudan",
          "Rwanda",
          "Palestine",
          "Paraguay",
          "Portugal",
          "Poland",
          "Panama",
          "Pakistan",
          "Oman",
          "Malaysia",
          "Mauritius",
          "Mongolia",
          "Myanmar",
          "Mexico",
          "Dominica",
          "Ecuador",
          "Ethiopia",
          "Guam",
          "Hong Kong",
          "Croatia",
          "Congo",
          "India",
          "Kenya",
          "Lebanon",
          "Liberia",
          "Libya",
          "Sri Lanka",
          "Morocco",
          "Kazakhstan",
          "El Salvador",
          "Uganda",
          "Kosovo",
          "Chile",
          "China",
          "Algeria",
          "Lesotho",
          "Kuwait",
          "Kyrgyz Republic",
          "Jamaica",
          "Israel",
          "Cameroon",
          "Democratic Republic of Congo",
          "Ireland",
          "Indonesia",
          "Cyprus",
          "Singapore",
          "Honduras",
          "Guatemala",
          "Greenland",
          "Greece",
          "Gambia",
          "Ghana",
          "Georgia",
          "Gabon",
          "Finland",
          "Germany",
          "Egypt",
          "Switzerland",
          "Canada",
          "Cote d'Ivoire",
          "Botswana",
          "Albania",
          "United Arab Emirates",
          "Saudi Arabia",
          "Romania",
          "Qatar",
          "Argentina",
          "Philippines",
          "Peru",
          "Nepal",
          "Luxembourg",
          "Netherlands",
          "Belgium",
          "Nigeria",
          "Dominican Republic",
          "Bangladesh",
          "Bosnia and Herzegovina",
          "Moldova",
          "Belize",
          "Mali",
          "Bermuda",
          "Barbados"
         ],
         "xaxis": "x2",
         "yaxis": "y2"
        },
        {
         "alignmentgroup": "True",
         "bingroup": "x",
         "hoverlabel": {
          "namelength": 0
         },
         "hovertemplate": "Cluster=Cluster 1<br>country_name=%{x}<br>count=%{y}",
         "legendgroup": "Cluster=Cluster 1",
         "marker": {
          "color": "#EF553B",
          "opacity": 0.7
         },
         "name": "Cluster=Cluster 1",
         "offsetgroup": "Cluster=Cluster 1",
         "orientation": "v",
         "showlegend": true,
         "type": "histogram",
         "x": [
          "United States"
         ],
         "xaxis": "x",
         "yaxis": "y"
        },
        {
         "alignmentgroup": "True",
         "customdata": [
          [
           "United States",
           68.41,
           1528568,
           91921,
           "Cluster 1"
          ]
         ],
         "hoverlabel": {
          "namelength": 0
         },
         "hovertemplate": "Cluster=%{customdata[4]}<br>country_name=%{customdata[0]}<br>stringency_index=%{customdata[1]}<br>confirmed_cases=%{customdata[2]}<br>deaths=%{customdata[3]}",
         "legendgroup": "Cluster=Cluster 1",
         "marker": {
          "color": "#EF553B"
         },
         "name": "Cluster=Cluster 1",
         "notched": true,
         "offsetgroup": "Cluster=Cluster 1",
         "showlegend": false,
         "type": "box",
         "x": [
          "United States"
         ],
         "xaxis": "x2",
         "yaxis": "y2"
        },
        {
         "alignmentgroup": "True",
         "bingroup": "x",
         "hoverlabel": {
          "namelength": 0
         },
         "hovertemplate": "Cluster=Cluster 2<br>country_name=%{x}<br>count=%{y}",
         "legendgroup": "Cluster=Cluster 2",
         "marker": {
          "color": "#00cc96",
          "opacity": 0.7
         },
         "name": "Cluster=Cluster 2",
         "offsetgroup": "Cluster=Cluster 2",
         "orientation": "v",
         "showlegend": true,
         "type": "histogram",
         "x": [
          "Italy",
          "Brazil",
          "United Kingdom",
          "France",
          "Spain"
         ],
         "xaxis": "x",
         "yaxis": "y"
        },
        {
         "alignmentgroup": "True",
         "customdata": [
          [
           "Italy",
           68.78,
           226699,
           32169,
           "Cluster 2"
          ],
          [
           "Brazil",
           75.15,
           271628,
           17971,
           "Cluster 2"
          ],
          [
           "United Kingdom",
           73.01,
           248818,
           35341,
           "Cluster 2"
          ],
          [
           "France",
           83.46,
           143427,
           28022,
           "Cluster 2"
          ],
          [
           "Spain",
           83.07,
           232555,
           27888,
           "Cluster 2"
          ]
         ],
         "hoverlabel": {
          "namelength": 0
         },
         "hovertemplate": "Cluster=%{customdata[4]}<br>country_name=%{customdata[0]}<br>stringency_index=%{customdata[1]}<br>confirmed_cases=%{customdata[2]}<br>deaths=%{customdata[3]}",
         "legendgroup": "Cluster=Cluster 2",
         "marker": {
          "color": "#00cc96"
         },
         "name": "Cluster=Cluster 2",
         "notched": true,
         "offsetgroup": "Cluster=Cluster 2",
         "showlegend": false,
         "type": "box",
         "x": [
          "Italy",
          "Brazil",
          "United Kingdom",
          "France",
          "Spain"
         ],
         "xaxis": "x2",
         "yaxis": "y2"
        },
        {
         "alignmentgroup": "True",
         "bingroup": "x",
         "hoverlabel": {
          "namelength": 0
         },
         "hovertemplate": "Cluster=Cluster 3<br>country_name=%{x}<br>count=%{y}",
         "legendgroup": "Cluster=Cluster 3",
         "marker": {
          "color": "#ab63fa",
          "opacity": 0.7
         },
         "name": "Cluster=Cluster 3",
         "offsetgroup": "Cluster=Cluster 3",
         "orientation": "v",
         "showlegend": true,
         "type": "histogram",
         "x": [
          "Norway",
          "Laos",
          "Burkina Faso",
          "Macao",
          "Belarus",
          "Burundi",
          "Slovenia",
          "Czech Republic",
          "Somalia",
          "Estonia",
          "Serbia",
          "Senegal",
          "Sweden",
          "Papua New Guinea",
          "Tanzania",
          "Nicaragua",
          "Niger",
          "Namibia",
          "Yemen",
          "Malawi",
          "Zambia",
          "Mozambique",
          "Iceland",
          "Taiwan",
          "New Zealand",
          "Aruba",
          "Lithuania",
          "Japan",
          "Andorra",
          "Brunei",
          "South Korea",
          "Iran",
          "Solomon Islands",
          "Austria",
          "Hungary",
          "Djibouti",
          "Madagascar",
          "Benin"
         ],
         "xaxis": "x",
         "yaxis": "y"
        },
        {
         "alignmentgroup": "True",
         "customdata": [
          [
           "Norway",
           58.07,
           8257,
           233,
           "Cluster 3"
          ],
          [
           "Laos",
           56.22,
           19,
           0,
           "Cluster 3"
          ],
          [
           "Burkina Faso",
           62.04,
           806,
           52,
           "Cluster 3"
          ],
          [
           "Macao",
           39.02,
           45,
           0,
           "Cluster 3"
          ],
          [
           "Belarus",
           15.47,
           31508,
           175,
           "Cluster 3"
          ],
          [
           "Burundi",
           22.22,
           42,
           1,
           "Cluster 3"
          ],
          [
           "Slovenia",
           61.25,
           1467,
           104,
           "Cluster 3"
          ],
          [
           "Czech Republic",
           59.65,
           8647,
           302,
           "Cluster 3"
          ],
          [
           "Somalia",
           59.39,
           1502,
           59,
           "Cluster 3"
          ],
          [
           "Estonia",
           41.54,
           1791,
           64,
           "Cluster 3"
          ],
          [
           "Serbia",
           56.87,
           10733,
           234,
           "Cluster 3"
          ],
          [
           "Senegal",
           62.7,
           2617,
           30,
           "Cluster 3"
          ],
          [
           "Sweden",
           47.35,
           30799,
           3743,
           "Cluster 3"
          ],
          [
           "Papua New Guinea",
           43.66,
           8,
           0,
           "Cluster 3"
          ],
          [
           "Tanzania",
           50.4,
           509,
           21,
           "Cluster 3"
          ],
          [
           "Nicaragua",
           11.11,
           25,
           8,
           "Cluster 3"
          ],
          [
           "Niger",
           33.33,
           914,
           55,
           "Cluster 3"
          ],
          [
           "Namibia",
           61.24,
           712,
           7,
           "Cluster 3"
          ],
          [
           "Yemen",
           54.23,
           167,
           28,
           "Cluster 3"
          ],
          [
           "Malawi",
           59.26,
           71,
           3,
           "Cluster 3"
          ],
          [
           "Zambia",
           45.37,
           772,
           7,
           "Cluster 3"
          ],
          [
           "Mozambique",
           53.83,
           146,
           0,
           "Cluster 3"
          ],
          [
           "Iceland",
           56.61,
           1802,
           10,
           "Cluster 3"
          ],
          [
           "Taiwan",
           29.36,
           440,
           7,
           "Cluster 3"
          ],
          [
           "New Zealand",
           38.49,
           1153,
           21,
           "Cluster 3"
          ],
          [
           "Aruba",
           47.48,
           101,
           3,
           "Cluster 3"
          ],
          [
           "Lithuania",
           0,
           1562,
           60,
           "Cluster 3"
          ],
          [
           "Japan",
           43.79,
           16385,
           771,
           "Cluster 3"
          ],
          [
           "Andorra",
           56.34,
           761,
           51,
           "Cluster 3"
          ],
          [
           "Brunei",
           56.74,
           141,
           1,
           "Cluster 3"
          ],
          [
           "South Korea",
           43.51,
           11110,
           263,
           "Cluster 3"
          ],
          [
           "Iran",
           47.23,
           124603,
           7119,
           "Cluster 3"
          ],
          [
           "Solomon Islands",
           50.41,
           0,
           0,
           "Cluster 3"
          ],
          [
           "Austria",
           56.34,
           16257,
           632,
           "Cluster 3"
          ],
          [
           "Hungary",
           59.53,
           3598,
           470,
           "Cluster 3"
          ],
          [
           "Djibouti",
           61.37,
           1518,
           7,
           "Cluster 3"
          ],
          [
           "Madagascar",
           64.43,
           326,
           2,
           "Cluster 3"
          ],
          [
           "Benin",
           48.15,
           130,
           2,
           "Cluster 3"
          ]
         ],
         "hoverlabel": {
          "namelength": 0
         },
         "hovertemplate": "Cluster=%{customdata[4]}<br>country_name=%{customdata[0]}<br>stringency_index=%{customdata[1]}<br>confirmed_cases=%{customdata[2]}<br>deaths=%{customdata[3]}",
         "legendgroup": "Cluster=Cluster 3",
         "marker": {
          "color": "#ab63fa"
         },
         "name": "Cluster=Cluster 3",
         "notched": true,
         "offsetgroup": "Cluster=Cluster 3",
         "showlegend": false,
         "type": "box",
         "x": [
          "Norway",
          "Laos",
          "Burkina Faso",
          "Macao",
          "Belarus",
          "Burundi",
          "Slovenia",
          "Czech Republic",
          "Somalia",
          "Estonia",
          "Serbia",
          "Senegal",
          "Sweden",
          "Papua New Guinea",
          "Tanzania",
          "Nicaragua",
          "Niger",
          "Namibia",
          "Yemen",
          "Malawi",
          "Zambia",
          "Mozambique",
          "Iceland",
          "Taiwan",
          "New Zealand",
          "Aruba",
          "Lithuania",
          "Japan",
          "Andorra",
          "Brunei",
          "South Korea",
          "Iran",
          "Solomon Islands",
          "Austria",
          "Hungary",
          "Djibouti",
          "Madagascar",
          "Benin"
         ],
         "xaxis": "x2",
         "yaxis": "y2"
        }
       ],
       "layout": {
        "barmode": "relative",
        "legend": {
         "tracegroupgap": 0
        },
        "margin": {
         "t": 60
        },
        "template": {
         "data": {
          "bar": [
           {
            "error_x": {
             "color": "#2a3f5f"
            },
            "error_y": {
             "color": "#2a3f5f"
            },
            "marker": {
             "line": {
              "color": "#E5ECF6",
              "width": 0.5
             }
            },
            "type": "bar"
           }
          ],
          "barpolar": [
           {
            "marker": {
             "line": {
              "color": "#E5ECF6",
              "width": 0.5
             }
            },
            "type": "barpolar"
           }
          ],
          "carpet": [
           {
            "aaxis": {
             "endlinecolor": "#2a3f5f",
             "gridcolor": "white",
             "linecolor": "white",
             "minorgridcolor": "white",
             "startlinecolor": "#2a3f5f"
            },
            "baxis": {
             "endlinecolor": "#2a3f5f",
             "gridcolor": "white",
             "linecolor": "white",
             "minorgridcolor": "white",
             "startlinecolor": "#2a3f5f"
            },
            "type": "carpet"
           }
          ],
          "choropleth": [
           {
            "colorbar": {
             "outlinewidth": 0,
             "ticks": ""
            },
            "type": "choropleth"
           }
          ],
          "contour": [
           {
            "colorbar": {
             "outlinewidth": 0,
             "ticks": ""
            },
            "colorscale": [
             [
              0,
              "#0d0887"
             ],
             [
              0.1111111111111111,
              "#46039f"
             ],
             [
              0.2222222222222222,
              "#7201a8"
             ],
             [
              0.3333333333333333,
              "#9c179e"
             ],
             [
              0.4444444444444444,
              "#bd3786"
             ],
             [
              0.5555555555555556,
              "#d8576b"
             ],
             [
              0.6666666666666666,
              "#ed7953"
             ],
             [
              0.7777777777777778,
              "#fb9f3a"
             ],
             [
              0.8888888888888888,
              "#fdca26"
             ],
             [
              1,
              "#f0f921"
             ]
            ],
            "type": "contour"
           }
          ],
          "contourcarpet": [
           {
            "colorbar": {
             "outlinewidth": 0,
             "ticks": ""
            },
            "type": "contourcarpet"
           }
          ],
          "heatmap": [
           {
            "colorbar": {
             "outlinewidth": 0,
             "ticks": ""
            },
            "colorscale": [
             [
              0,
              "#0d0887"
             ],
             [
              0.1111111111111111,
              "#46039f"
             ],
             [
              0.2222222222222222,
              "#7201a8"
             ],
             [
              0.3333333333333333,
              "#9c179e"
             ],
             [
              0.4444444444444444,
              "#bd3786"
             ],
             [
              0.5555555555555556,
              "#d8576b"
             ],
             [
              0.6666666666666666,
              "#ed7953"
             ],
             [
              0.7777777777777778,
              "#fb9f3a"
             ],
             [
              0.8888888888888888,
              "#fdca26"
             ],
             [
              1,
              "#f0f921"
             ]
            ],
            "type": "heatmap"
           }
          ],
          "heatmapgl": [
           {
            "colorbar": {
             "outlinewidth": 0,
             "ticks": ""
            },
            "colorscale": [
             [
              0,
              "#0d0887"
             ],
             [
              0.1111111111111111,
              "#46039f"
             ],
             [
              0.2222222222222222,
              "#7201a8"
             ],
             [
              0.3333333333333333,
              "#9c179e"
             ],
             [
              0.4444444444444444,
              "#bd3786"
             ],
             [
              0.5555555555555556,
              "#d8576b"
             ],
             [
              0.6666666666666666,
              "#ed7953"
             ],
             [
              0.7777777777777778,
              "#fb9f3a"
             ],
             [
              0.8888888888888888,
              "#fdca26"
             ],
             [
              1,
              "#f0f921"
             ]
            ],
            "type": "heatmapgl"
           }
          ],
          "histogram": [
           {
            "marker": {
             "colorbar": {
              "outlinewidth": 0,
              "ticks": ""
             }
            },
            "type": "histogram"
           }
          ],
          "histogram2d": [
           {
            "colorbar": {
             "outlinewidth": 0,
             "ticks": ""
            },
            "colorscale": [
             [
              0,
              "#0d0887"
             ],
             [
              0.1111111111111111,
              "#46039f"
             ],
             [
              0.2222222222222222,
              "#7201a8"
             ],
             [
              0.3333333333333333,
              "#9c179e"
             ],
             [
              0.4444444444444444,
              "#bd3786"
             ],
             [
              0.5555555555555556,
              "#d8576b"
             ],
             [
              0.6666666666666666,
              "#ed7953"
             ],
             [
              0.7777777777777778,
              "#fb9f3a"
             ],
             [
              0.8888888888888888,
              "#fdca26"
             ],
             [
              1,
              "#f0f921"
             ]
            ],
            "type": "histogram2d"
           }
          ],
          "histogram2dcontour": [
           {
            "colorbar": {
             "outlinewidth": 0,
             "ticks": ""
            },
            "colorscale": [
             [
              0,
              "#0d0887"
             ],
             [
              0.1111111111111111,
              "#46039f"
             ],
             [
              0.2222222222222222,
              "#7201a8"
             ],
             [
              0.3333333333333333,
              "#9c179e"
             ],
             [
              0.4444444444444444,
              "#bd3786"
             ],
             [
              0.5555555555555556,
              "#d8576b"
             ],
             [
              0.6666666666666666,
              "#ed7953"
             ],
             [
              0.7777777777777778,
              "#fb9f3a"
             ],
             [
              0.8888888888888888,
              "#fdca26"
             ],
             [
              1,
              "#f0f921"
             ]
            ],
            "type": "histogram2dcontour"
           }
          ],
          "mesh3d": [
           {
            "colorbar": {
             "outlinewidth": 0,
             "ticks": ""
            },
            "type": "mesh3d"
           }
          ],
          "parcoords": [
           {
            "line": {
             "colorbar": {
              "outlinewidth": 0,
              "ticks": ""
             }
            },
            "type": "parcoords"
           }
          ],
          "pie": [
           {
            "automargin": true,
            "type": "pie"
           }
          ],
          "scatter": [
           {
            "marker": {
             "colorbar": {
              "outlinewidth": 0,
              "ticks": ""
             }
            },
            "type": "scatter"
           }
          ],
          "scatter3d": [
           {
            "line": {
             "colorbar": {
              "outlinewidth": 0,
              "ticks": ""
             }
            },
            "marker": {
             "colorbar": {
              "outlinewidth": 0,
              "ticks": ""
             }
            },
            "type": "scatter3d"
           }
          ],
          "scattercarpet": [
           {
            "marker": {
             "colorbar": {
              "outlinewidth": 0,
              "ticks": ""
             }
            },
            "type": "scattercarpet"
           }
          ],
          "scattergeo": [
           {
            "marker": {
             "colorbar": {
              "outlinewidth": 0,
              "ticks": ""
             }
            },
            "type": "scattergeo"
           }
          ],
          "scattergl": [
           {
            "marker": {
             "colorbar": {
              "outlinewidth": 0,
              "ticks": ""
             }
            },
            "type": "scattergl"
           }
          ],
          "scattermapbox": [
           {
            "marker": {
             "colorbar": {
              "outlinewidth": 0,
              "ticks": ""
             }
            },
            "type": "scattermapbox"
           }
          ],
          "scatterpolar": [
           {
            "marker": {
             "colorbar": {
              "outlinewidth": 0,
              "ticks": ""
             }
            },
            "type": "scatterpolar"
           }
          ],
          "scatterpolargl": [
           {
            "marker": {
             "colorbar": {
              "outlinewidth": 0,
              "ticks": ""
             }
            },
            "type": "scatterpolargl"
           }
          ],
          "scatterternary": [
           {
            "marker": {
             "colorbar": {
              "outlinewidth": 0,
              "ticks": ""
             }
            },
            "type": "scatterternary"
           }
          ],
          "surface": [
           {
            "colorbar": {
             "outlinewidth": 0,
             "ticks": ""
            },
            "colorscale": [
             [
              0,
              "#0d0887"
             ],
             [
              0.1111111111111111,
              "#46039f"
             ],
             [
              0.2222222222222222,
              "#7201a8"
             ],
             [
              0.3333333333333333,
              "#9c179e"
             ],
             [
              0.4444444444444444,
              "#bd3786"
             ],
             [
              0.5555555555555556,
              "#d8576b"
             ],
             [
              0.6666666666666666,
              "#ed7953"
             ],
             [
              0.7777777777777778,
              "#fb9f3a"
             ],
             [
              0.8888888888888888,
              "#fdca26"
             ],
             [
              1,
              "#f0f921"
             ]
            ],
            "type": "surface"
           }
          ],
          "table": [
           {
            "cells": {
             "fill": {
              "color": "#EBF0F8"
             },
             "line": {
              "color": "white"
             }
            },
            "header": {
             "fill": {
              "color": "#C8D4E3"
             },
             "line": {
              "color": "white"
             }
            },
            "type": "table"
           }
          ]
         },
         "layout": {
          "annotationdefaults": {
           "arrowcolor": "#2a3f5f",
           "arrowhead": 0,
           "arrowwidth": 1
          },
          "coloraxis": {
           "colorbar": {
            "outlinewidth": 0,
            "ticks": ""
           }
          },
          "colorscale": {
           "diverging": [
            [
             0,
             "#8e0152"
            ],
            [
             0.1,
             "#c51b7d"
            ],
            [
             0.2,
             "#de77ae"
            ],
            [
             0.3,
             "#f1b6da"
            ],
            [
             0.4,
             "#fde0ef"
            ],
            [
             0.5,
             "#f7f7f7"
            ],
            [
             0.6,
             "#e6f5d0"
            ],
            [
             0.7,
             "#b8e186"
            ],
            [
             0.8,
             "#7fbc41"
            ],
            [
             0.9,
             "#4d9221"
            ],
            [
             1,
             "#276419"
            ]
           ],
           "sequential": [
            [
             0,
             "#0d0887"
            ],
            [
             0.1111111111111111,
             "#46039f"
            ],
            [
             0.2222222222222222,
             "#7201a8"
            ],
            [
             0.3333333333333333,
             "#9c179e"
            ],
            [
             0.4444444444444444,
             "#bd3786"
            ],
            [
             0.5555555555555556,
             "#d8576b"
            ],
            [
             0.6666666666666666,
             "#ed7953"
            ],
            [
             0.7777777777777778,
             "#fb9f3a"
            ],
            [
             0.8888888888888888,
             "#fdca26"
            ],
            [
             1,
             "#f0f921"
            ]
           ],
           "sequentialminus": [
            [
             0,
             "#0d0887"
            ],
            [
             0.1111111111111111,
             "#46039f"
            ],
            [
             0.2222222222222222,
             "#7201a8"
            ],
            [
             0.3333333333333333,
             "#9c179e"
            ],
            [
             0.4444444444444444,
             "#bd3786"
            ],
            [
             0.5555555555555556,
             "#d8576b"
            ],
            [
             0.6666666666666666,
             "#ed7953"
            ],
            [
             0.7777777777777778,
             "#fb9f3a"
            ],
            [
             0.8888888888888888,
             "#fdca26"
            ],
            [
             1,
             "#f0f921"
            ]
           ]
          },
          "colorway": [
           "#636efa",
           "#EF553B",
           "#00cc96",
           "#ab63fa",
           "#FFA15A",
           "#19d3f3",
           "#FF6692",
           "#B6E880",
           "#FF97FF",
           "#FECB52"
          ],
          "font": {
           "color": "#2a3f5f"
          },
          "geo": {
           "bgcolor": "white",
           "lakecolor": "white",
           "landcolor": "#E5ECF6",
           "showlakes": true,
           "showland": true,
           "subunitcolor": "white"
          },
          "hoverlabel": {
           "align": "left"
          },
          "hovermode": "closest",
          "mapbox": {
           "style": "light"
          },
          "paper_bgcolor": "white",
          "plot_bgcolor": "#E5ECF6",
          "polar": {
           "angularaxis": {
            "gridcolor": "white",
            "linecolor": "white",
            "ticks": ""
           },
           "bgcolor": "#E5ECF6",
           "radialaxis": {
            "gridcolor": "white",
            "linecolor": "white",
            "ticks": ""
           }
          },
          "scene": {
           "xaxis": {
            "backgroundcolor": "#E5ECF6",
            "gridcolor": "white",
            "gridwidth": 2,
            "linecolor": "white",
            "showbackground": true,
            "ticks": "",
            "zerolinecolor": "white"
           },
           "yaxis": {
            "backgroundcolor": "#E5ECF6",
            "gridcolor": "white",
            "gridwidth": 2,
            "linecolor": "white",
            "showbackground": true,
            "ticks": "",
            "zerolinecolor": "white"
           },
           "zaxis": {
            "backgroundcolor": "#E5ECF6",
            "gridcolor": "white",
            "gridwidth": 2,
            "linecolor": "white",
            "showbackground": true,
            "ticks": "",
            "zerolinecolor": "white"
           }
          },
          "shapedefaults": {
           "line": {
            "color": "#2a3f5f"
           }
          },
          "ternary": {
           "aaxis": {
            "gridcolor": "white",
            "linecolor": "white",
            "ticks": ""
           },
           "baxis": {
            "gridcolor": "white",
            "linecolor": "white",
            "ticks": ""
           },
           "bgcolor": "#E5ECF6",
           "caxis": {
            "gridcolor": "white",
            "linecolor": "white",
            "ticks": ""
           }
          },
          "title": {
           "x": 0.05
          },
          "xaxis": {
           "automargin": true,
           "gridcolor": "white",
           "linecolor": "white",
           "ticks": "",
           "title": {
            "standoff": 15
           },
           "zerolinecolor": "white",
           "zerolinewidth": 2
          },
          "yaxis": {
           "automargin": true,
           "gridcolor": "white",
           "linecolor": "white",
           "ticks": "",
           "title": {
            "standoff": 15
           },
           "zerolinecolor": "white",
           "zerolinewidth": 2
          }
         }
        },
        "xaxis": {
         "anchor": "y",
         "domain": [
          0,
          1
         ],
         "title": {
          "text": "country_name"
         }
        },
        "xaxis2": {
         "anchor": "y2",
         "domain": [
          0,
          1
         ],
         "matches": "x",
         "showgrid": true,
         "showticklabels": false
        },
        "yaxis": {
         "anchor": "x",
         "domain": [
          0,
          0.7326
         ],
         "title": {
          "text": "count"
         }
        },
        "yaxis2": {
         "anchor": "x2",
         "domain": [
          0.7426,
          1
         ],
         "matches": "y2",
         "showgrid": false,
         "showline": false,
         "showticklabels": false,
         "ticks": ""
        }
       }
      },
      "text/html": [
       "<div>\n",
       "        \n",
       "        \n",
       "            <div id=\"c960530f-7899-4bfd-b7d8-80e284b910a9\" class=\"plotly-graph-div\" style=\"height:525px; width:100%;\"></div>\n",
       "            <script type=\"text/javascript\">\n",
       "                require([\"plotly\"], function(Plotly) {\n",
       "                    window.PLOTLYENV=window.PLOTLYENV || {};\n",
       "                    \n",
       "                if (document.getElementById(\"c960530f-7899-4bfd-b7d8-80e284b910a9\")) {\n",
       "                    Plotly.newPlot(\n",
       "                        'c960530f-7899-4bfd-b7d8-80e284b910a9',\n",
       "                        [{\"alignmentgroup\": \"True\", \"bingroup\": \"x\", \"hoverlabel\": {\"namelength\": 0}, \"hovertemplate\": \"Cluster=Cluster 0<br>country_name=%{x}<br>count=%{y}\", \"legendgroup\": \"Cluster=Cluster 0\", \"marker\": {\"color\": \"#636efa\", \"opacity\": 0.7}, \"name\": \"Cluster=Cluster 0\", \"offsetgroup\": \"Cluster=Cluster 0\", \"orientation\": \"v\", \"showlegend\": true, \"type\": \"histogram\", \"x\": [\"Angola\", \"Bahrain\", \"Bulgaria\", \"Azerbaijan\", \"Australia\", \"Afghanistan\", \"Russia\", \"Puerto Rico\", \"Guyana\", \"Colombia\", \"Suriname\", \"Denmark\", \"Costa Rica\", \"Bhutan\", \"Sierra Leone\", \"Jordan\", \"Iraq\", \"Cape Verde\", \"Slovak Republic\", \"Eswatini\", \"Chad\", \"Thailand\", \"Trinidad and Tobago\", \"Tunisia\", \"Bolivia\", \"Turkey\", \"Uruguay\", \"Uzbekistan\", \"Venezuela\", \"Vietnam\", \"South Africa\", \"Zimbabwe\", \"Ukraine\", \"South Sudan\", \"Central African Republic\", \"Cuba\", \"Syria\", \"Seychelles\", \"San Marino\", \"Sudan\", \"Rwanda\", \"Palestine\", \"Paraguay\", \"Portugal\", \"Poland\", \"Panama\", \"Pakistan\", \"Oman\", \"Malaysia\", \"Mauritius\", \"Mongolia\", \"Myanmar\", \"Mexico\", \"Dominica\", \"Ecuador\", \"Ethiopia\", \"Guam\", \"Hong Kong\", \"Croatia\", \"Congo\", \"India\", \"Kenya\", \"Lebanon\", \"Liberia\", \"Libya\", \"Sri Lanka\", \"Morocco\", \"Kazakhstan\", \"El Salvador\", \"Uganda\", \"Kosovo\", \"Chile\", \"China\", \"Algeria\", \"Lesotho\", \"Kuwait\", \"Kyrgyz Republic\", \"Jamaica\", \"Israel\", \"Cameroon\", \"Democratic Republic of Congo\", \"Ireland\", \"Indonesia\", \"Cyprus\", \"Singapore\", \"Honduras\", \"Guatemala\", \"Greenland\", \"Greece\", \"Gambia\", \"Ghana\", \"Georgia\", \"Gabon\", \"Finland\", \"Germany\", \"Egypt\", \"Switzerland\", \"Canada\", \"Cote d'Ivoire\", \"Botswana\", \"Albania\", \"United Arab Emirates\", \"Saudi Arabia\", \"Romania\", \"Qatar\", \"Argentina\", \"Philippines\", \"Peru\", \"Nepal\", \"Luxembourg\", \"Netherlands\", \"Belgium\", \"Nigeria\", \"Dominican Republic\", \"Bangladesh\", \"Bosnia and Herzegovina\", \"Moldova\", \"Belize\", \"Mali\", \"Bermuda\", \"Barbados\"], \"xaxis\": \"x\", \"yaxis\": \"y\"}, {\"alignmentgroup\": \"True\", \"customdata\": [[\"Angola\", 81.61, 50.0, 2.0, \"Cluster 0\"], [\"Bahrain\", 86.77, 7532.0, 12.0, \"Cluster 0\"], [\"Bulgaria\", 67.19, 2292.0, 116.0, \"Cluster 0\"], [\"Azerbaijan\", 86.24, 3518.0, 41.0, \"Cluster 0\"], [\"Australia\", 66.14, 7068.0, 99.0, \"Cluster 0\"], [\"Afghanistan\", 76.33, 7653.0, 178.0, \"Cluster 0\"], [\"Russia\", 71.71, 299941.0, 2837.0, \"Cluster 0\"], [\"Puerto Rico\", 97.35, 2805.0, 124.0, \"Cluster 0\"], [\"Guyana\", 82.27, 125.0, 10.0, \"Cluster 0\"], [\"Colombia\", 90.74, 16935.0, 613.0, \"Cluster 0\"], [\"Suriname\", 77.12, 11.0, 1.0, \"Cluster 0\"], [\"Denmark\", 75.52, 11044.0, 551.0, \"Cluster 0\"], [\"Costa Rica\", 74.99, 882.0, 10.0, \"Cluster 0\"], [\"Bhutan\", 78.3, 21.0, 0.0, \"Cluster 0\"], [\"Sierra Leone\", 77.64, 534.0, 33.0, \"Cluster 0\"], [\"Jordan\", 72.48, 649.0, 9.0, \"Cluster 0\"], [\"Iraq\", 84.39, 3611.0, 131.0, \"Cluster 0\"], [\"Cape Verde\", 82.41, 335.0, 3.0, \"Cluster 0\"], [\"Slovak Republic\", 78.96, 1495.0, 28.0, \"Cluster 0\"], [\"Eswatini\", 84.26, 208.0, 2.0, \"Cluster 0\"], [\"Chad\", 86.38, 545.0, 56.0, \"Cluster 0\"], [\"Thailand\", 80.56, 3034.0, 56.0, \"Cluster 0\"], [\"Trinidad and Tobago\", 93.38, 116.0, 8.0, \"Cluster 0\"], [\"Tunisia\", 87.96, 1044.0, 47.0, \"Cluster 0\"], [\"Bolivia\", 97.35, 4481.0, 189.0, \"Cluster 0\"], [\"Turkey\", 80.42, 151615.0, 4199.0, \"Cluster 0\"], [\"Uruguay\", 71.16, 738.0, 20.0, \"Cluster 0\"], [\"Uzbekistan\", 85.19, 2880.0, 13.0, \"Cluster 0\"], [\"Venezuela\", 86.24, 749.0, 10.0, \"Cluster 0\"], [\"Vietnam\", 69.18, 324.0, 0.0, \"Cluster 0\"], [\"South Africa\", 88.75, 17200.0, 312.0, \"Cluster 0\"], [\"Zimbabwe\", 91.4, 46.0, 4.0, \"Cluster 0\"], [\"Ukraine\", 92.06, 18876.0, 548.0, \"Cluster 0\"], [\"South Sudan\", 94.71, 285.0, 6.0, \"Cluster 0\"], [\"Central African Republic\", 69.97, 411.0, 0.0, \"Cluster 0\"], [\"Cuba\", 100.0, 1887.0, 79.0, \"Cluster 0\"], [\"Syria\", 80.43, 58.0, 3.0, \"Cluster 0\"], [\"Seychelles\", 65.87, 11.0, 0.0, \"Cluster 0\"], [\"San Marino\", 71.42, 655.0, 41.0, \"Cluster 0\"], [\"Sudan\", 86.38, 2591.0, 105.0, \"Cluster 0\"], [\"Rwanda\", 82.14, 308.0, 0.0, \"Cluster 0\"], [\"Palestine\", 97.35, 570.0, 4.0, \"Cluster 0\"], [\"Paraguay\", 96.03, 829.0, 11.0, \"Cluster 0\"], [\"Portugal\", 76.71, 29432.0, 1247.0, \"Cluster 0\"], [\"Poland\", 88.09, 19268.0, 948.0, \"Cluster 0\"], [\"Panama\", 81.61, 9867.0, 281.0, \"Cluster 0\"], [\"Pakistan\", 82.02, 45898.0, 985.0, \"Cluster 0\"], [\"Oman\", 85.19, 5671.0, 27.0, \"Cluster 0\"], [\"Malaysia\", 74.2, 6978.0, 114.0, \"Cluster 0\"], [\"Mauritius\", 84.78, 332.0, 10.0, \"Cluster 0\"], [\"Mongolia\", 67.99, 140.0, 0.0, \"Cluster 0\"], [\"Myanmar\", 79.24, 193.0, 6.0, \"Cluster 0\"], [\"Mexico\", 85.45, 54346.0, 5666.0, \"Cluster 0\"], [\"Dominica\", 80.95, 16.0, 0.0, \"Cluster 0\"], [\"Ecuador\", 85.85, 34151.0, 2839.0, \"Cluster 0\"], [\"Ethiopia\", 76.19, 365.0, 5.0, \"Cluster 0\"], [\"Guam\", 69.71, 154.0, 5.0, \"Cluster 0\"], [\"Hong Kong\", 67.85, 1055.0, 4.0, \"Cluster 0\"], [\"Croatia\", 66.53, 2232.0, 96.0, \"Cluster 0\"], [\"Congo\", 98.02, 420.0, 15.0, \"Cluster 0\"], [\"India\", 76.07, 106750.0, 3303.0, \"Cluster 0\"], [\"Kenya\", 94.18, 963.0, 50.0, \"Cluster 0\"], [\"Lebanon\", 84.12, 954.0, 26.0, \"Cluster 0\"], [\"Liberia\", 78.31, 233.0, 23.0, \"Cluster 0\"], [\"Libya\", 96.83, 68.0, 3.0, \"Cluster 0\"], [\"Sri Lanka\", 82.27, 1027.0, 9.0, \"Cluster 0\"], [\"Morocco\", 93.38, 7023.0, 193.0, \"Cluster 0\"], [\"Kazakhstan\", 79.37, 6969.0, 35.0, \"Cluster 0\"], [\"El Salvador\", 100.0, 1498.0, 31.0, \"Cluster 0\"], [\"Uganda\", 89.94, 260.0, 0.0, \"Cluster 0\"], [\"Kosovo\", 90.74, 989.0, 29.0, \"Cluster 0\"], [\"Chile\", 78.83, 49579.0, 509.0, \"Cluster 0\"], [\"China\", 64.44, 84065.0, 4638.0, \"Cluster 0\"], [\"Algeria\", 82.42, 7377.0, 561.0, \"Cluster 0\"], [\"Lesotho\", 72.87, 1.0, 0.0, \"Cluster 0\"], [\"Kuwait\", 100.0, 16764.0, 121.0, \"Cluster 0\"], [\"Kyrgyz Republic\", 78.85, 1270.0, 14.0, \"Cluster 0\"], [\"Jamaica\", 74.2, 520.0, 9.0, \"Cluster 0\"], [\"Israel\", 82.93, 16650.0, 277.0, \"Cluster 0\"], [\"Cameroon\", 67.85, 3529.0, 140.0, \"Cluster 0\"], [\"Democratic Republic of Congo\", 80.04, 1731.0, 61.0, \"Cluster 0\"], [\"Ireland\", 87.83, 24251.0, 1561.0, \"Cluster 0\"], [\"Indonesia\", 70.91, 18496.0, 1221.0, \"Cluster 0\"], [\"Cyprus\", 94.18, 918.0, 17.0, \"Cluster 0\"], [\"Singapore\", 85.18, 28794.0, 22.0, \"Cluster 0\"], [\"Honduras\", 100.0, 2955.0, 147.0, \"Cluster 0\"], [\"Guatemala\", 97.35, 2133.0, 43.0, \"Cluster 0\"], [\"Greenland\", 80.95, 11.0, 0.0, \"Cluster 0\"], [\"Greece\", 74.34, 2840.0, 165.0, \"Cluster 0\"], [\"Gambia\", 84.78, 24.0, 1.0, \"Cluster 0\"], [\"Ghana\", 66.53, 6096.0, 31.0, \"Cluster 0\"], [\"Georgia\", 94.18, 707.0, 12.0, \"Cluster 0\"], [\"Gabon\", 86.24, 1502.0, 12.0, \"Cluster 0\"], [\"Finland\", 65.74, 6399.0, 301.0, \"Cluster 0\"], [\"Germany\", 71.44, 176007.0, 8090.0, \"Cluster 0\"], [\"Egypt\", 88.75, 13484.0, 659.0, \"Cluster 0\"], [\"Switzerland\", 71.55, 30535.0, 1613.0, \"Cluster 0\"], [\"Canada\", 67.74, 79101.0, 5912.0, \"Cluster 0\"], [\"Cote d'Ivoire\", 70.25, 2153.0, 28.0, \"Cluster 0\"], [\"Botswana\", 78.05, 25.0, 1.0, \"Cluster 0\"], [\"Albania\", 88.36, 949.0, 31.0, \"Cluster 0\"], [\"United Arab Emirates\", 77.78, 25063.0, 227.0, \"Cluster 0\"], [\"Saudi Arabia\", 87.84, 59854.0, 329.0, \"Cluster 0\"], [\"Romania\", 76.98, 17191.0, 1126.0, \"Cluster 0\"], [\"Qatar\", 90.74, 35606.0, 15.0, \"Cluster 0\"], [\"Argentina\", 91.54, 8796.0, 393.0, \"Cluster 0\"], [\"Philippines\", 94.58, 12942.0, 837.0, \"Cluster 0\"], [\"Peru\", 97.35, 99483.0, 2914.0, \"Cluster 0\"], [\"Nepal\", 95.24, 402.0, 2.0, \"Cluster 0\"], [\"Luxembourg\", 65.73, 3958.0, 109.0, \"Cluster 0\"], [\"Netherlands\", 76.71, 44249.0, 5715.0, \"Cluster 0\"], [\"Belgium\", 75.26, 55791.0, 9108.0, \"Cluster 0\"], [\"Nigeria\", 76.59, 6401.0, 192.0, \"Cluster 0\"], [\"Dominican Republic\", 98.02, 13223.0, 441.0, \"Cluster 0\"], [\"Bangladesh\", 91.93, 25121.0, 370.0, \"Cluster 0\"], [\"Bosnia and Herzegovina\", 81.22, 2319.0, 133.0, \"Cluster 0\"], [\"Moldova\", 84.92, 6340.0, 221.0, \"Cluster 0\"], [\"Belize\", 87.04, 18.0, 2.0, \"Cluster 0\"], [\"Mali\", 76.19, 901.0, 53.0, \"Cluster 0\"], [\"Bermuda\", 80.15, 125.0, 9.0, \"Cluster 0\"], [\"Barbados\", 71.42, 90.0, 7.0, \"Cluster 0\"]], \"hoverlabel\": {\"namelength\": 0}, \"hovertemplate\": \"Cluster=%{customdata[4]}<br>country_name=%{customdata[0]}<br>stringency_index=%{customdata[1]}<br>confirmed_cases=%{customdata[2]}<br>deaths=%{customdata[3]}\", \"legendgroup\": \"Cluster=Cluster 0\", \"marker\": {\"color\": \"#636efa\"}, \"name\": \"Cluster=Cluster 0\", \"notched\": true, \"offsetgroup\": \"Cluster=Cluster 0\", \"showlegend\": false, \"type\": \"box\", \"x\": [\"Angola\", \"Bahrain\", \"Bulgaria\", \"Azerbaijan\", \"Australia\", \"Afghanistan\", \"Russia\", \"Puerto Rico\", \"Guyana\", \"Colombia\", \"Suriname\", \"Denmark\", \"Costa Rica\", \"Bhutan\", \"Sierra Leone\", \"Jordan\", \"Iraq\", \"Cape Verde\", \"Slovak Republic\", \"Eswatini\", \"Chad\", \"Thailand\", \"Trinidad and Tobago\", \"Tunisia\", \"Bolivia\", \"Turkey\", \"Uruguay\", \"Uzbekistan\", \"Venezuela\", \"Vietnam\", \"South Africa\", \"Zimbabwe\", \"Ukraine\", \"South Sudan\", \"Central African Republic\", \"Cuba\", \"Syria\", \"Seychelles\", \"San Marino\", \"Sudan\", \"Rwanda\", \"Palestine\", \"Paraguay\", \"Portugal\", \"Poland\", \"Panama\", \"Pakistan\", \"Oman\", \"Malaysia\", \"Mauritius\", \"Mongolia\", \"Myanmar\", \"Mexico\", \"Dominica\", \"Ecuador\", \"Ethiopia\", \"Guam\", \"Hong Kong\", \"Croatia\", \"Congo\", \"India\", \"Kenya\", \"Lebanon\", \"Liberia\", \"Libya\", \"Sri Lanka\", \"Morocco\", \"Kazakhstan\", \"El Salvador\", \"Uganda\", \"Kosovo\", \"Chile\", \"China\", \"Algeria\", \"Lesotho\", \"Kuwait\", \"Kyrgyz Republic\", \"Jamaica\", \"Israel\", \"Cameroon\", \"Democratic Republic of Congo\", \"Ireland\", \"Indonesia\", \"Cyprus\", \"Singapore\", \"Honduras\", \"Guatemala\", \"Greenland\", \"Greece\", \"Gambia\", \"Ghana\", \"Georgia\", \"Gabon\", \"Finland\", \"Germany\", \"Egypt\", \"Switzerland\", \"Canada\", \"Cote d'Ivoire\", \"Botswana\", \"Albania\", \"United Arab Emirates\", \"Saudi Arabia\", \"Romania\", \"Qatar\", \"Argentina\", \"Philippines\", \"Peru\", \"Nepal\", \"Luxembourg\", \"Netherlands\", \"Belgium\", \"Nigeria\", \"Dominican Republic\", \"Bangladesh\", \"Bosnia and Herzegovina\", \"Moldova\", \"Belize\", \"Mali\", \"Bermuda\", \"Barbados\"], \"xaxis\": \"x2\", \"yaxis\": \"y2\"}, {\"alignmentgroup\": \"True\", \"bingroup\": \"x\", \"hoverlabel\": {\"namelength\": 0}, \"hovertemplate\": \"Cluster=Cluster 1<br>country_name=%{x}<br>count=%{y}\", \"legendgroup\": \"Cluster=Cluster 1\", \"marker\": {\"color\": \"#EF553B\", \"opacity\": 0.7}, \"name\": \"Cluster=Cluster 1\", \"offsetgroup\": \"Cluster=Cluster 1\", \"orientation\": \"v\", \"showlegend\": true, \"type\": \"histogram\", \"x\": [\"United States\"], \"xaxis\": \"x\", \"yaxis\": \"y\"}, {\"alignmentgroup\": \"True\", \"customdata\": [[\"United States\", 68.41, 1528568.0, 91921.0, \"Cluster 1\"]], \"hoverlabel\": {\"namelength\": 0}, \"hovertemplate\": \"Cluster=%{customdata[4]}<br>country_name=%{customdata[0]}<br>stringency_index=%{customdata[1]}<br>confirmed_cases=%{customdata[2]}<br>deaths=%{customdata[3]}\", \"legendgroup\": \"Cluster=Cluster 1\", \"marker\": {\"color\": \"#EF553B\"}, \"name\": \"Cluster=Cluster 1\", \"notched\": true, \"offsetgroup\": \"Cluster=Cluster 1\", \"showlegend\": false, \"type\": \"box\", \"x\": [\"United States\"], \"xaxis\": \"x2\", \"yaxis\": \"y2\"}, {\"alignmentgroup\": \"True\", \"bingroup\": \"x\", \"hoverlabel\": {\"namelength\": 0}, \"hovertemplate\": \"Cluster=Cluster 2<br>country_name=%{x}<br>count=%{y}\", \"legendgroup\": \"Cluster=Cluster 2\", \"marker\": {\"color\": \"#00cc96\", \"opacity\": 0.7}, \"name\": \"Cluster=Cluster 2\", \"offsetgroup\": \"Cluster=Cluster 2\", \"orientation\": \"v\", \"showlegend\": true, \"type\": \"histogram\", \"x\": [\"Italy\", \"Brazil\", \"United Kingdom\", \"France\", \"Spain\"], \"xaxis\": \"x\", \"yaxis\": \"y\"}, {\"alignmentgroup\": \"True\", \"customdata\": [[\"Italy\", 68.78, 226699.0, 32169.0, \"Cluster 2\"], [\"Brazil\", 75.15, 271628.0, 17971.0, \"Cluster 2\"], [\"United Kingdom\", 73.01, 248818.0, 35341.0, \"Cluster 2\"], [\"France\", 83.46, 143427.0, 28022.0, \"Cluster 2\"], [\"Spain\", 83.07, 232555.0, 27888.0, \"Cluster 2\"]], \"hoverlabel\": {\"namelength\": 0}, \"hovertemplate\": \"Cluster=%{customdata[4]}<br>country_name=%{customdata[0]}<br>stringency_index=%{customdata[1]}<br>confirmed_cases=%{customdata[2]}<br>deaths=%{customdata[3]}\", \"legendgroup\": \"Cluster=Cluster 2\", \"marker\": {\"color\": \"#00cc96\"}, \"name\": \"Cluster=Cluster 2\", \"notched\": true, \"offsetgroup\": \"Cluster=Cluster 2\", \"showlegend\": false, \"type\": \"box\", \"x\": [\"Italy\", \"Brazil\", \"United Kingdom\", \"France\", \"Spain\"], \"xaxis\": \"x2\", \"yaxis\": \"y2\"}, {\"alignmentgroup\": \"True\", \"bingroup\": \"x\", \"hoverlabel\": {\"namelength\": 0}, \"hovertemplate\": \"Cluster=Cluster 3<br>country_name=%{x}<br>count=%{y}\", \"legendgroup\": \"Cluster=Cluster 3\", \"marker\": {\"color\": \"#ab63fa\", \"opacity\": 0.7}, \"name\": \"Cluster=Cluster 3\", \"offsetgroup\": \"Cluster=Cluster 3\", \"orientation\": \"v\", \"showlegend\": true, \"type\": \"histogram\", \"x\": [\"Norway\", \"Laos\", \"Burkina Faso\", \"Macao\", \"Belarus\", \"Burundi\", \"Slovenia\", \"Czech Republic\", \"Somalia\", \"Estonia\", \"Serbia\", \"Senegal\", \"Sweden\", \"Papua New Guinea\", \"Tanzania\", \"Nicaragua\", \"Niger\", \"Namibia\", \"Yemen\", \"Malawi\", \"Zambia\", \"Mozambique\", \"Iceland\", \"Taiwan\", \"New Zealand\", \"Aruba\", \"Lithuania\", \"Japan\", \"Andorra\", \"Brunei\", \"South Korea\", \"Iran\", \"Solomon Islands\", \"Austria\", \"Hungary\", \"Djibouti\", \"Madagascar\", \"Benin\"], \"xaxis\": \"x\", \"yaxis\": \"y\"}, {\"alignmentgroup\": \"True\", \"customdata\": [[\"Norway\", 58.07, 8257.0, 233.0, \"Cluster 3\"], [\"Laos\", 56.22, 19.0, 0.0, \"Cluster 3\"], [\"Burkina Faso\", 62.04, 806.0, 52.0, \"Cluster 3\"], [\"Macao\", 39.02, 45.0, 0.0, \"Cluster 3\"], [\"Belarus\", 15.47, 31508.0, 175.0, \"Cluster 3\"], [\"Burundi\", 22.22, 42.0, 1.0, \"Cluster 3\"], [\"Slovenia\", 61.25, 1467.0, 104.0, \"Cluster 3\"], [\"Czech Republic\", 59.65, 8647.0, 302.0, \"Cluster 3\"], [\"Somalia\", 59.39, 1502.0, 59.0, \"Cluster 3\"], [\"Estonia\", 41.54, 1791.0, 64.0, \"Cluster 3\"], [\"Serbia\", 56.87, 10733.0, 234.0, \"Cluster 3\"], [\"Senegal\", 62.7, 2617.0, 30.0, \"Cluster 3\"], [\"Sweden\", 47.35, 30799.0, 3743.0, \"Cluster 3\"], [\"Papua New Guinea\", 43.66, 8.0, 0.0, \"Cluster 3\"], [\"Tanzania\", 50.4, 509.0, 21.0, \"Cluster 3\"], [\"Nicaragua\", 11.11, 25.0, 8.0, \"Cluster 3\"], [\"Niger\", 33.33, 914.0, 55.0, \"Cluster 3\"], [\"Namibia\", 61.24, 712.0, 7.0, \"Cluster 3\"], [\"Yemen\", 54.23, 167.0, 28.0, \"Cluster 3\"], [\"Malawi\", 59.26, 71.0, 3.0, \"Cluster 3\"], [\"Zambia\", 45.37, 772.0, 7.0, \"Cluster 3\"], [\"Mozambique\", 53.83, 146.0, 0.0, \"Cluster 3\"], [\"Iceland\", 56.61, 1802.0, 10.0, \"Cluster 3\"], [\"Taiwan\", 29.36, 440.0, 7.0, \"Cluster 3\"], [\"New Zealand\", 38.49, 1153.0, 21.0, \"Cluster 3\"], [\"Aruba\", 47.48, 101.0, 3.0, \"Cluster 3\"], [\"Lithuania\", 0.0, 1562.0, 60.0, \"Cluster 3\"], [\"Japan\", 43.79, 16385.0, 771.0, \"Cluster 3\"], [\"Andorra\", 56.34, 761.0, 51.0, \"Cluster 3\"], [\"Brunei\", 56.74, 141.0, 1.0, \"Cluster 3\"], [\"South Korea\", 43.51, 11110.0, 263.0, \"Cluster 3\"], [\"Iran\", 47.23, 124603.0, 7119.0, \"Cluster 3\"], [\"Solomon Islands\", 50.41, 0.0, 0.0, \"Cluster 3\"], [\"Austria\", 56.34, 16257.0, 632.0, \"Cluster 3\"], [\"Hungary\", 59.53, 3598.0, 470.0, \"Cluster 3\"], [\"Djibouti\", 61.37, 1518.0, 7.0, \"Cluster 3\"], [\"Madagascar\", 64.43, 326.0, 2.0, \"Cluster 3\"], [\"Benin\", 48.15, 130.0, 2.0, \"Cluster 3\"]], \"hoverlabel\": {\"namelength\": 0}, \"hovertemplate\": \"Cluster=%{customdata[4]}<br>country_name=%{customdata[0]}<br>stringency_index=%{customdata[1]}<br>confirmed_cases=%{customdata[2]}<br>deaths=%{customdata[3]}\", \"legendgroup\": \"Cluster=Cluster 3\", \"marker\": {\"color\": \"#ab63fa\"}, \"name\": \"Cluster=Cluster 3\", \"notched\": true, \"offsetgroup\": \"Cluster=Cluster 3\", \"showlegend\": false, \"type\": \"box\", \"x\": [\"Norway\", \"Laos\", \"Burkina Faso\", \"Macao\", \"Belarus\", \"Burundi\", \"Slovenia\", \"Czech Republic\", \"Somalia\", \"Estonia\", \"Serbia\", \"Senegal\", \"Sweden\", \"Papua New Guinea\", \"Tanzania\", \"Nicaragua\", \"Niger\", \"Namibia\", \"Yemen\", \"Malawi\", \"Zambia\", \"Mozambique\", \"Iceland\", \"Taiwan\", \"New Zealand\", \"Aruba\", \"Lithuania\", \"Japan\", \"Andorra\", \"Brunei\", \"South Korea\", \"Iran\", \"Solomon Islands\", \"Austria\", \"Hungary\", \"Djibouti\", \"Madagascar\", \"Benin\"], \"xaxis\": \"x2\", \"yaxis\": \"y2\"}],\n",
       "                        {\"barmode\": \"relative\", \"legend\": {\"tracegroupgap\": 0}, \"margin\": {\"t\": 60}, \"template\": {\"data\": {\"bar\": [{\"error_x\": {\"color\": \"#2a3f5f\"}, \"error_y\": {\"color\": \"#2a3f5f\"}, \"marker\": {\"line\": {\"color\": \"#E5ECF6\", \"width\": 0.5}}, \"type\": \"bar\"}], \"barpolar\": [{\"marker\": {\"line\": {\"color\": \"#E5ECF6\", \"width\": 0.5}}, \"type\": \"barpolar\"}], \"carpet\": [{\"aaxis\": {\"endlinecolor\": \"#2a3f5f\", \"gridcolor\": \"white\", \"linecolor\": \"white\", \"minorgridcolor\": \"white\", \"startlinecolor\": \"#2a3f5f\"}, \"baxis\": {\"endlinecolor\": \"#2a3f5f\", \"gridcolor\": \"white\", \"linecolor\": \"white\", \"minorgridcolor\": \"white\", \"startlinecolor\": \"#2a3f5f\"}, \"type\": \"carpet\"}], \"choropleth\": [{\"colorbar\": {\"outlinewidth\": 0, \"ticks\": \"\"}, \"type\": \"choropleth\"}], \"contour\": [{\"colorbar\": {\"outlinewidth\": 0, \"ticks\": \"\"}, \"colorscale\": [[0.0, \"#0d0887\"], [0.1111111111111111, \"#46039f\"], [0.2222222222222222, \"#7201a8\"], [0.3333333333333333, \"#9c179e\"], [0.4444444444444444, \"#bd3786\"], [0.5555555555555556, \"#d8576b\"], [0.6666666666666666, \"#ed7953\"], [0.7777777777777778, \"#fb9f3a\"], [0.8888888888888888, \"#fdca26\"], [1.0, \"#f0f921\"]], \"type\": \"contour\"}], \"contourcarpet\": [{\"colorbar\": {\"outlinewidth\": 0, \"ticks\": \"\"}, \"type\": \"contourcarpet\"}], \"heatmap\": [{\"colorbar\": {\"outlinewidth\": 0, \"ticks\": \"\"}, \"colorscale\": [[0.0, \"#0d0887\"], [0.1111111111111111, \"#46039f\"], [0.2222222222222222, \"#7201a8\"], [0.3333333333333333, \"#9c179e\"], [0.4444444444444444, \"#bd3786\"], [0.5555555555555556, \"#d8576b\"], [0.6666666666666666, \"#ed7953\"], [0.7777777777777778, \"#fb9f3a\"], [0.8888888888888888, \"#fdca26\"], [1.0, \"#f0f921\"]], \"type\": \"heatmap\"}], \"heatmapgl\": [{\"colorbar\": {\"outlinewidth\": 0, \"ticks\": \"\"}, \"colorscale\": [[0.0, \"#0d0887\"], [0.1111111111111111, \"#46039f\"], [0.2222222222222222, \"#7201a8\"], [0.3333333333333333, \"#9c179e\"], [0.4444444444444444, \"#bd3786\"], [0.5555555555555556, \"#d8576b\"], [0.6666666666666666, \"#ed7953\"], [0.7777777777777778, \"#fb9f3a\"], [0.8888888888888888, \"#fdca26\"], [1.0, \"#f0f921\"]], \"type\": \"heatmapgl\"}], \"histogram\": [{\"marker\": {\"colorbar\": {\"outlinewidth\": 0, \"ticks\": \"\"}}, \"type\": \"histogram\"}], \"histogram2d\": [{\"colorbar\": {\"outlinewidth\": 0, \"ticks\": \"\"}, \"colorscale\": [[0.0, \"#0d0887\"], [0.1111111111111111, \"#46039f\"], [0.2222222222222222, \"#7201a8\"], [0.3333333333333333, \"#9c179e\"], [0.4444444444444444, \"#bd3786\"], [0.5555555555555556, \"#d8576b\"], [0.6666666666666666, \"#ed7953\"], [0.7777777777777778, \"#fb9f3a\"], [0.8888888888888888, \"#fdca26\"], [1.0, \"#f0f921\"]], \"type\": \"histogram2d\"}], \"histogram2dcontour\": [{\"colorbar\": {\"outlinewidth\": 0, \"ticks\": \"\"}, \"colorscale\": [[0.0, \"#0d0887\"], [0.1111111111111111, \"#46039f\"], [0.2222222222222222, \"#7201a8\"], [0.3333333333333333, \"#9c179e\"], [0.4444444444444444, \"#bd3786\"], [0.5555555555555556, \"#d8576b\"], [0.6666666666666666, \"#ed7953\"], [0.7777777777777778, \"#fb9f3a\"], [0.8888888888888888, \"#fdca26\"], [1.0, \"#f0f921\"]], \"type\": \"histogram2dcontour\"}], \"mesh3d\": [{\"colorbar\": {\"outlinewidth\": 0, \"ticks\": \"\"}, \"type\": \"mesh3d\"}], \"parcoords\": [{\"line\": {\"colorbar\": {\"outlinewidth\": 0, \"ticks\": \"\"}}, \"type\": \"parcoords\"}], \"pie\": [{\"automargin\": true, \"type\": \"pie\"}], \"scatter\": [{\"marker\": {\"colorbar\": {\"outlinewidth\": 0, \"ticks\": \"\"}}, \"type\": \"scatter\"}], \"scatter3d\": [{\"line\": {\"colorbar\": {\"outlinewidth\": 0, \"ticks\": \"\"}}, \"marker\": {\"colorbar\": {\"outlinewidth\": 0, \"ticks\": \"\"}}, \"type\": \"scatter3d\"}], \"scattercarpet\": [{\"marker\": {\"colorbar\": {\"outlinewidth\": 0, \"ticks\": \"\"}}, \"type\": \"scattercarpet\"}], \"scattergeo\": [{\"marker\": {\"colorbar\": {\"outlinewidth\": 0, \"ticks\": \"\"}}, \"type\": \"scattergeo\"}], \"scattergl\": [{\"marker\": {\"colorbar\": {\"outlinewidth\": 0, \"ticks\": \"\"}}, \"type\": \"scattergl\"}], \"scattermapbox\": [{\"marker\": {\"colorbar\": {\"outlinewidth\": 0, \"ticks\": \"\"}}, \"type\": \"scattermapbox\"}], \"scatterpolar\": [{\"marker\": {\"colorbar\": {\"outlinewidth\": 0, \"ticks\": \"\"}}, \"type\": \"scatterpolar\"}], \"scatterpolargl\": [{\"marker\": {\"colorbar\": {\"outlinewidth\": 0, \"ticks\": \"\"}}, \"type\": \"scatterpolargl\"}], \"scatterternary\": [{\"marker\": {\"colorbar\": {\"outlinewidth\": 0, \"ticks\": \"\"}}, \"type\": \"scatterternary\"}], \"surface\": [{\"colorbar\": {\"outlinewidth\": 0, \"ticks\": \"\"}, \"colorscale\": [[0.0, \"#0d0887\"], [0.1111111111111111, \"#46039f\"], [0.2222222222222222, \"#7201a8\"], [0.3333333333333333, \"#9c179e\"], [0.4444444444444444, \"#bd3786\"], [0.5555555555555556, \"#d8576b\"], [0.6666666666666666, \"#ed7953\"], [0.7777777777777778, \"#fb9f3a\"], [0.8888888888888888, \"#fdca26\"], [1.0, \"#f0f921\"]], \"type\": \"surface\"}], \"table\": [{\"cells\": {\"fill\": {\"color\": \"#EBF0F8\"}, \"line\": {\"color\": \"white\"}}, \"header\": {\"fill\": {\"color\": \"#C8D4E3\"}, \"line\": {\"color\": \"white\"}}, \"type\": \"table\"}]}, \"layout\": {\"annotationdefaults\": {\"arrowcolor\": \"#2a3f5f\", \"arrowhead\": 0, \"arrowwidth\": 1}, \"coloraxis\": {\"colorbar\": {\"outlinewidth\": 0, \"ticks\": \"\"}}, \"colorscale\": {\"diverging\": [[0, \"#8e0152\"], [0.1, \"#c51b7d\"], [0.2, \"#de77ae\"], [0.3, \"#f1b6da\"], [0.4, \"#fde0ef\"], [0.5, \"#f7f7f7\"], [0.6, \"#e6f5d0\"], [0.7, \"#b8e186\"], [0.8, \"#7fbc41\"], [0.9, \"#4d9221\"], [1, \"#276419\"]], \"sequential\": [[0.0, \"#0d0887\"], [0.1111111111111111, \"#46039f\"], [0.2222222222222222, \"#7201a8\"], [0.3333333333333333, \"#9c179e\"], [0.4444444444444444, \"#bd3786\"], [0.5555555555555556, \"#d8576b\"], [0.6666666666666666, \"#ed7953\"], [0.7777777777777778, \"#fb9f3a\"], [0.8888888888888888, \"#fdca26\"], [1.0, \"#f0f921\"]], \"sequentialminus\": [[0.0, \"#0d0887\"], [0.1111111111111111, \"#46039f\"], [0.2222222222222222, \"#7201a8\"], [0.3333333333333333, \"#9c179e\"], [0.4444444444444444, \"#bd3786\"], [0.5555555555555556, \"#d8576b\"], [0.6666666666666666, \"#ed7953\"], [0.7777777777777778, \"#fb9f3a\"], [0.8888888888888888, \"#fdca26\"], [1.0, \"#f0f921\"]]}, \"colorway\": [\"#636efa\", \"#EF553B\", \"#00cc96\", \"#ab63fa\", \"#FFA15A\", \"#19d3f3\", \"#FF6692\", \"#B6E880\", \"#FF97FF\", \"#FECB52\"], \"font\": {\"color\": \"#2a3f5f\"}, \"geo\": {\"bgcolor\": \"white\", \"lakecolor\": \"white\", \"landcolor\": \"#E5ECF6\", \"showlakes\": true, \"showland\": true, \"subunitcolor\": \"white\"}, \"hoverlabel\": {\"align\": \"left\"}, \"hovermode\": \"closest\", \"mapbox\": {\"style\": \"light\"}, \"paper_bgcolor\": \"white\", \"plot_bgcolor\": \"#E5ECF6\", \"polar\": {\"angularaxis\": {\"gridcolor\": \"white\", \"linecolor\": \"white\", \"ticks\": \"\"}, \"bgcolor\": \"#E5ECF6\", \"radialaxis\": {\"gridcolor\": \"white\", \"linecolor\": \"white\", \"ticks\": \"\"}}, \"scene\": {\"xaxis\": {\"backgroundcolor\": \"#E5ECF6\", \"gridcolor\": \"white\", \"gridwidth\": 2, \"linecolor\": \"white\", \"showbackground\": true, \"ticks\": \"\", \"zerolinecolor\": \"white\"}, \"yaxis\": {\"backgroundcolor\": \"#E5ECF6\", \"gridcolor\": \"white\", \"gridwidth\": 2, \"linecolor\": \"white\", \"showbackground\": true, \"ticks\": \"\", \"zerolinecolor\": \"white\"}, \"zaxis\": {\"backgroundcolor\": \"#E5ECF6\", \"gridcolor\": \"white\", \"gridwidth\": 2, \"linecolor\": \"white\", \"showbackground\": true, \"ticks\": \"\", \"zerolinecolor\": \"white\"}}, \"shapedefaults\": {\"line\": {\"color\": \"#2a3f5f\"}}, \"ternary\": {\"aaxis\": {\"gridcolor\": \"white\", \"linecolor\": \"white\", \"ticks\": \"\"}, \"baxis\": {\"gridcolor\": \"white\", \"linecolor\": \"white\", \"ticks\": \"\"}, \"bgcolor\": \"#E5ECF6\", \"caxis\": {\"gridcolor\": \"white\", \"linecolor\": \"white\", \"ticks\": \"\"}}, \"title\": {\"x\": 0.05}, \"xaxis\": {\"automargin\": true, \"gridcolor\": \"white\", \"linecolor\": \"white\", \"ticks\": \"\", \"title\": {\"standoff\": 15}, \"zerolinecolor\": \"white\", \"zerolinewidth\": 2}, \"yaxis\": {\"automargin\": true, \"gridcolor\": \"white\", \"linecolor\": \"white\", \"ticks\": \"\", \"title\": {\"standoff\": 15}, \"zerolinecolor\": \"white\", \"zerolinewidth\": 2}}}, \"xaxis\": {\"anchor\": \"y\", \"domain\": [0.0, 1.0], \"title\": {\"text\": \"country_name\"}}, \"xaxis2\": {\"anchor\": \"y2\", \"domain\": [0.0, 1.0], \"matches\": \"x\", \"showgrid\": true, \"showticklabels\": false}, \"yaxis\": {\"anchor\": \"x\", \"domain\": [0.0, 0.7326], \"title\": {\"text\": \"count\"}}, \"yaxis2\": {\"anchor\": \"x2\", \"domain\": [0.7426, 1.0], \"matches\": \"y2\", \"showgrid\": false, \"showline\": false, \"showticklabels\": false, \"ticks\": \"\"}},\n",
       "                        {\"responsive\": true}\n",
       "                    ).then(function(){\n",
       "                            \n",
       "var gd = document.getElementById('c960530f-7899-4bfd-b7d8-80e284b910a9');\n",
       "var x = new MutationObserver(function (mutations, observer) {{\n",
       "        var display = window.getComputedStyle(gd).display;\n",
       "        if (!display || display === 'none') {{\n",
       "            console.log([gd, 'removed!']);\n",
       "            Plotly.purge(gd);\n",
       "            observer.disconnect();\n",
       "        }}\n",
       "}});\n",
       "\n",
       "// Listen for the removal of the full notebook cells\n",
       "var notebookContainer = gd.closest('#notebook-container');\n",
       "if (notebookContainer) {{\n",
       "    x.observe(notebookContainer, {childList: true});\n",
       "}}\n",
       "\n",
       "// Listen for the clearing of the current output cell\n",
       "var outputEl = gd.closest('.output');\n",
       "if (outputEl) {{\n",
       "    x.observe(outputEl, {childList: true});\n",
       "}}\n",
       "\n",
       "                        })\n",
       "                };\n",
       "                });\n",
       "            </script>\n",
       "        </div>"
      ]
     },
     "metadata": {},
     "output_type": "display_data"
    }
   ],
   "source": [
    "plot_model(kmeans, plot = 'distribution', feature = 'country_name')"
   ]
  },
  {
   "cell_type": "code",
   "execution_count": 32,
   "metadata": {},
   "outputs": [
    {
     "data": {
      "text/html": [
       "        <script type=\"text/javascript\">\n",
       "        window.PlotlyConfig = {MathJaxConfig: 'local'};\n",
       "        if (window.MathJax) {MathJax.Hub.Config({SVG: {font: \"STIX-Web\"}});}\n",
       "        if (typeof require !== 'undefined') {\n",
       "        require.undef(\"plotly\");\n",
       "        requirejs.config({\n",
       "            paths: {\n",
       "                'plotly': ['https://cdn.plot.ly/plotly-latest.min']\n",
       "            }\n",
       "        });\n",
       "        require(['plotly'], function(Plotly) {\n",
       "            window._Plotly = Plotly;\n",
       "        });\n",
       "        }\n",
       "        </script>\n",
       "        "
      ]
     },
     "metadata": {},
     "output_type": "display_data"
    },
    {
     "data": {
      "application/vnd.plotly.v1+json": {
       "config": {
        "plotlyServerURL": "https://plot.ly"
       },
       "data": [
        {
         "hoverlabel": {
          "namelength": 0
         },
         "hovertemplate": "Cluster=Cluster 0<br>0=%{x}<br>1=%{y}<br>2=%{z}<br>Label=%{text}",
         "legendgroup": "Cluster=Cluster 0",
         "marker": {
          "color": "#636efa",
          "opacity": 0.7,
          "symbol": "circle"
         },
         "mode": "markers+text",
         "name": "Cluster=Cluster 0",
         "scene": "scene",
         "showlegend": true,
         "text": [
          81.61,
          88.36,
          77.78,
          91.54,
          22.22,
          75.26,
          62.04,
          91.93,
          81.22,
          15.47,
          87.04,
          80.15,
          71.42,
          78.05,
          67.74,
          71.55,
          78.83,
          64.44,
          70.25,
          67.85,
          80.04,
          94.18,
          59.65,
          71.44,
          98.02,
          82.42,
          88.75,
          41.54,
          65.74,
          83.46,
          86.24,
          94.18,
          66.53,
          84.78,
          74.34,
          80.95,
          97.35,
          100,
          59.53,
          70.91,
          87.83,
          47.23,
          82.93,
          68.78,
          74.2,
          78.85,
          100,
          72.87,
          0,
          65.73,
          84.92,
          64.43,
          76.19,
          53.83,
          null,
          59.26,
          61.24,
          33.33,
          76.59,
          11.11,
          76.71,
          95.24,
          97.35,
          94.58,
          43.66,
          90.74,
          76.98,
          87.84,
          62.7,
          85.18,
          100,
          59.39,
          56.87,
          94.71,
          78.96,
          47.35,
          84.26,
          86.38,
          80.56,
          93.38,
          87.96,
          80.42,
          50.4,
          89.94,
          92.06,
          71.16,
          85.19,
          86.24,
          69.18,
          54.23,
          88.75,
          45.37,
          91.4,
          29.36,
          82.41,
          84.39,
          72.48,
          38.49,
          77.64,
          47.48,
          78.3,
          43.79,
          56.34,
          56.74,
          74.99,
          75.52,
          43.51,
          77.12,
          75.15,
          90.74,
          82.27,
          97.35,
          71.71,
          50.41,
          76.33,
          66.14,
          56.34,
          86.24,
          48.15,
          67.19,
          86.77
         ],
         "type": "scatter3d",
         "x": [
          -94.85608673095703,
          -4.033115386962891,
          -62.31369400024414,
          30.982559204101562,
          -40.379398345947266,
          4.28714656829834,
          80.33686828613281,
          138.9346466064453,
          -106.60021209716797,
          38.81393051147461,
          -99.13694763183594,
          -38.04398727416992,
          -85.3211669921875,
          -81.8384780883789,
          -45.81084060668945,
          15.955156326293945,
          17.212146759033203,
          126.88260650634766,
          -36.872493743896484,
          77.1753921508789,
          -8.074280738830566,
          -69.4829330444336,
          -117.13311767578125,
          21.785451889038086,
          135.40283203125,
          68.07298278808594,
          -105.3870849609375,
          87.47541809082031,
          1.1334620714187622,
          -47.1054801940918,
          13.834681510925293,
          73.17269134521484,
          60.67471694946289,
          108.72611999511719,
          -72.02371215820312,
          63.92739486694336,
          -78.13279724121094,
          -2.251434803009033,
          -110.13736724853516,
          75.25646209716797,
          -58.171390533447266,
          -93.1422348022461,
          149.09751892089844,
          3.7258036136627197,
          24.27587127685547,
          -51.711151123046875,
          26.31856346130371,
          2.7559010982513428,
          -89.0921859741211,
          -23.24390411376953,
          1.731719732284546,
          -118.32161712646484,
          38.28494644165039,
          -120.32405090332031,
          30.11980438232422,
          -45.955684661865234,
          -35.56224822998047,
          -84.96517181396484,
          -53.88457107543945,
          104.15089416503906,
          37.40129852294922,
          99.24834442138672,
          -47.32237243652344,
          -89.41380310058594,
          96.93644714355469,
          -81.3184814453125,
          90.1077651977539,
          -57.58642578125,
          137.52133178710938,
          51.25038146972656,
          51.235450744628906,
          22.12144660949707,
          139.09860229492188,
          74.26691436767578,
          39.49510955810547,
          98.06695556640625,
          -129.12841796875,
          -52.94300079345703,
          -24.00468635559082,
          -16.039234161376953,
          -32.882328033447266,
          -55.639930725097656,
          -99.11741638183594,
          -155.92111206054688,
          2.868075370788574,
          77.62659454345703,
          125.58148956298828,
          -104.55587768554688,
          -85.77412414550781,
          -25.306852340698242,
          -25.922975540161133,
          108.16688537597656,
          -33.448326110839844,
          83.1319351196289,
          -156.79684448242188,
          64.44157409667969,
          -80.19632720947266,
          130.660400390625,
          -73.77961730957031,
          -119.34248352050781,
          -2.154977560043335,
          -14.96410083770752,
          -2.8575613498687744,
          50.34295654296875,
          30.459848403930664,
          74.8885269165039,
          99.9624252319336,
          77.10572814941406,
          128.18350219726562,
          -43.04562759399414,
          30.478479385375977,
          62.40351486206055,
          -59.51571273803711,
          162.46656799316406,
          56.57320022583008,
          -93.99378967285156,
          -44.733543395996094,
          -2.3218979835510254,
          -43.33405685424805,
          -136.7392578125,
          -70.10311889648438
         ],
         "y": [
          87.85004425048828,
          131.4387969970703,
          -75.30066680908203,
          95.5351333618164,
          5.487733840942383,
          82.27137756347656,
          67.39012145996094,
          40.37419509887695,
          46.48979187011719,
          71.2675552368164,
          -51.20028305053711,
          -53.50180435180664,
          -75.18982696533203,
          -8.82440185546875,
          65.86713409423828,
          36.1280632019043,
          62.31849670410156,
          -21.844032287597656,
          112.95352172851562,
          -13.53692626953125,
          91.66637420654297,
          59.3163948059082,
          -94.13752746582031,
          115.64781188964844,
          28.498159408569336,
          55.14454650878906,
          -27.202363967895508,
          19.44476318359375,
          54.84572219848633,
          -86.81385803222656,
          98.59955596923828,
          45.32124710083008,
          74.01907348632812,
          110.95885467529297,
          32.57477569580078,
          161.0034637451172,
          34.47288131713867,
          -90.17005157470703,
          -68.09109497070312,
          -64.3681869506836,
          72.20366668701172,
          104.48714447021484,
          84.7267074584961,
          -74.48796844482422,
          49.7027702331543,
          28.130111694335938,
          -21.612598419189453,
          105.11180877685547,
          -84.74967193603516,
          15.560504913330078,
          -49.63462829589844,
          14.938501358032227,
          20.25215721130371,
          73.60497283935547,
          11.574694633483887,
          -88.5059814453125,
          -43.28239059448242,
          -41.371238708496094,
          -27.790571212768555,
          99.78321075439453,
          -110.69535827636719,
          15.992301940917969,
          64.00080871582031,
          -18.74049186706543,
          38.627262115478516,
          99.21647644042969,
          100.79647827148438,
          -148.29331970214844,
          123.75790405273438,
          85.82805633544922,
          112.37702941894531,
          -53.96883773803711,
          -39.02045822143555,
          -144.65643310546875,
          -32.09286880493164,
          138.6048126220703,
          -27.500150680541992,
          -69.57718658447266,
          19.302968978881836,
          -17.65275001525879,
          163.25514221191406,
          141.74514770507812,
          -0.17321161925792694,
          -78.21009826660156,
          15.430977821350098,
          141.31082153320312,
          77.90674591064453,
          67.39859008789062,
          -99.6551513671875,
          66.77191925048828,
          -59.226192474365234,
          69.9371566772461,
          103.10814666748047,
          -24.629671096801758,
          -1.0691865682601929,
          65.10365295410156,
          13.311565399169922,
          -58.5451545715332,
          -55.79954147338867,
          -13.574308395385742,
          120.89913940429688,
          -40.23704147338867,
          54.61677932739258,
          -69.49609375,
          43.708702087402344,
          78.37007141113281,
          54.0588264465332,
          150.8314666748047,
          82.86441040039062,
          -34.998809814453125,
          30.45169448852539,
          27.56929588317871,
          -44.60890579223633,
          61.20558166503906,
          35.56446075439453,
          36.246131896972656,
          104.18376159667969,
          81.48455047607422,
          -112.05377197265625,
          31.51192855834961,
          -20.902259826660156
         ],
         "z": [
          -16.703399658203125,
          7.355208873748779,
          31.50756072998047,
          14.010368347167969,
          32.695613861083984,
          106.37066650390625,
          103.92430877685547,
          -47.54340362548828,
          -19.41748046875,
          -70.84793090820312,
          -73.58443450927734,
          -126.95386505126953,
          -112.88712310791016,
          -79.6213150024414,
          102.78632354736328,
          77.64897918701172,
          37.8260383605957,
          -24.0791072845459,
          85.8865966796875,
          -30.6113224029541,
          3.6717681884765625,
          -41.705596923828125,
          72.5625,
          -22.35236930847168,
          -99.90320587158203,
          143.0077362060547,
          -3.7639729976654053,
          4.28014612197876,
          -1.4126847982406616,
          -8.374612808227539,
          -86.33356475830078,
          -37.612762451171875,
          -104.7522201538086,
          -50.813880920410156,
          46.461212158203125,
          -29.687397003173828,
          -105.73074340820312,
          -10.60457992553711,
          4.387107849121094,
          2.2887001037597656,
          -82.6483383178711,
          76.22406768798828,
          -32.17755126953125,
          -106.9679183959961,
          -38.941017150878906,
          -63.034263610839844,
          -62.055389404296875,
          44.87489700317383,
          -41.14152145385742,
          -103.08975982666016,
          -8.25611400604248,
          -99.43934631347656,
          16.138118743896484,
          -52.37910461425781,
          -19.929689407348633,
          -99.74759674072266,
          -23.618263244628906,
          39.54298782348633,
          14.219679832458496,
          11.071953773498535,
          -72.60783386230469,
          -69.01258087158203,
          -0.2961973547935486,
          -120.73582458496094,
          -125.32586669921875,
          -58.29423141479492,
          -90.53230285644531,
          31.32728385925293,
          -4.740102291107178,
          -27.158864974975586,
          -58.00709915161133,
          -77.64035034179688,
          52.65586471557617,
          -12.737939834594727,
          2.27504563331604,
          -17.89032554626465,
          -97.74869537353516,
          -57.46986770629883,
          -26.35915756225586,
          7.405319690704346,
          -49.227806091308594,
          -13.448225021362305,
          33.433353424072266,
          -30.92014503479004,
          -60.64662170410156,
          21.5115909576416,
          -115.5105972290039,
          -91.45894622802734,
          -78.25849151611328,
          37.05687713623047,
          19.668819427490234,
          -30.514814376831055,
          -24.489091873168945,
          30.78102684020996,
          34.30210876464844,
          7.107961654663086,
          4.7497711181640625,
          30.970212936401367,
          -7.808652400970459,
          -56.66166687011719,
          -53.53712463378906,
          -86.80950164794922,
          -85.47400665283203,
          -50.186405181884766,
          -108.60093688964844,
          -59.5244026184082,
          -82.9718246459961,
          -91.76048278808594,
          -70.79489135742188,
          49.57466125488281,
          128.49053955078125,
          68.751708984375,
          -91.2033462524414,
          -83.31441497802734,
          -78.70638275146484,
          -62.33893585205078,
          24.300376892089844,
          -36.43904113769531,
          -64.62213134765625,
          -61.109737396240234,
          -29.07630729675293
         ]
        },
        {
         "hoverlabel": {
          "namelength": 0
         },
         "hovertemplate": "Cluster=Cluster 1<br>0=%{x}<br>1=%{y}<br>2=%{z}<br>Label=%{text}",
         "legendgroup": "Cluster=Cluster 1",
         "marker": {
          "color": "#EF553B",
          "opacity": 0.7,
          "symbol": "circle"
         },
         "mode": "markers+text",
         "name": "Cluster=Cluster 1",
         "scene": "scene",
         "showlegend": true,
         "text": [
          97.35
         ],
         "type": "scatter3d",
         "x": [
          105.47444915771484
         ],
         "y": [
          -102.37562561035156
         ],
         "z": [
          -48.94379425048828
         ]
        },
        {
         "hoverlabel": {
          "namelength": 0
         },
         "hovertemplate": "Cluster=Cluster 2<br>0=%{x}<br>1=%{y}<br>2=%{z}<br>Label=%{text}",
         "legendgroup": "Cluster=Cluster 2",
         "marker": {
          "color": "#00cc96",
          "opacity": 0.7,
          "symbol": "circle"
         },
         "mode": "markers+text",
         "name": "Cluster=Cluster 2",
         "scene": "scene",
         "showlegend": true,
         "text": [
          69.97,
          98.02,
          100,
          61.37,
          80.95
         ],
         "type": "scatter3d",
         "x": [
          -103.06670379638672,
          95.58049011230469,
          -107.60816192626953,
          120.6706771850586,
          -127.25469207763672
         ],
         "y": [
          -129.95106506347656,
          -7.130908012390137,
          20.273937225341797,
          25.422395706176758,
          28.611854553222656
         ],
         "z": [
          1.3497450351715088,
          77.41998291015625,
          107.8507308959961,
          68.99691772460938,
          77.53755187988281
         ]
        },
        {
         "hoverlabel": {
          "namelength": 0
         },
         "hovertemplate": "Cluster=Cluster 3<br>0=%{x}<br>1=%{y}<br>2=%{z}<br>Label=%{text}",
         "legendgroup": "Cluster=Cluster 3",
         "marker": {
          "color": "#ab63fa",
          "opacity": 0.7,
          "symbol": "circle"
         },
         "mode": "markers+text",
         "name": "Cluster=Cluster 3",
         "scene": "scene",
         "showlegend": true,
         "text": [
          85.85,
          83.07,
          76.19,
          73.01,
          69.71,
          67.85,
          66.53,
          76.07,
          56.61,
          79.37,
          94.18,
          56.22,
          84.12,
          78.31,
          96.83,
          82.27,
          39.02,
          93.38,
          85.45,
          79.24,
          67.99,
          84.78,
          74.2,
          58.07,
          85.19,
          82.02,
          81.61,
          88.09,
          76.71,
          96.03,
          97.35,
          82.14,
          86.38,
          71.42,
          61.25,
          65.87,
          80.43,
          68.41
         ],
         "type": "scatter3d",
         "x": [
          -48.28553771972656,
          33.444847106933594,
          55.69743347167969,
          63.21125030517578,
          80.65790557861328,
          62.052398681640625,
          -7.949668884277344,
          -11.413029670715332,
          24.806676864624023,
          55.54978942871094,
          -69.29824829101562,
          -9.245981216430664,
          73.08106231689453,
          11.344470024108887,
          -20.151966094970703,
          81.90084075927734,
          24.93921661376953,
          25.10643196105957,
          -12.134514808654785,
          -38.90284729003906,
          32.357093811035156,
          4.119271755218506,
          19.1315975189209,
          31.451026916503906,
          83.72213745117188,
          31.510984420776367,
          108.0600357055664,
          -2.5158307552337646,
          -22.60710906982422,
          -48.117698669433594,
          42.25369644165039,
          -37.95595169067383,
          -13.137482643127441,
          -50.14759063720703,
          0.4934261739253998,
          -38.131954193115234,
          -7.032784938812256,
          58.50132751464844
         ],
         "y": [
          -15.474408149719238,
          -57.559383392333984,
          -33.43034744262695,
          -90.0787353515625,
          -37.224365234375,
          -118.97341918945312,
          -52.4037971496582,
          4.058411121368408,
          -74.41549682617188,
          -128.31045532226562,
          -41.12330627441406,
          -100.10116577148438,
          -89.8261947631836,
          -127.49620819091797,
          62.487735748291016,
          -9.716875076293945,
          -85.64653015136719,
          -30.199892044067383,
          -38.37940216064453,
          -71.47916412353516,
          -91.30720520019531,
          -61.088844299316406,
          -22.122526168823242,
          -145.49057006835938,
          -98.86260223388672,
          -48.60124969482422,
          -39.77646255493164,
          9.098592758178711,
          -34.71649932861328,
          -0.9898346662521362,
          -119.34105682373047,
          -3.3842906951904297,
          -88.85517883300781,
          -59.54208755493164,
          -90.11913299560547,
          -102.01820373535156,
          -6.748410701751709,
          -59.95685958862305
         ],
         "z": [
          126.1353988647461,
          78.83952331542969,
          -117.41326904296875,
          154.40316772460938,
          161.02371215820312,
          37.86661911010742,
          60.15534210205078,
          106.75118255615234,
          40.64192199707031,
          132.4055938720703,
          96.06857299804688,
          32.086849212646484,
          76.97673797607422,
          125.61852264404297,
          -150.1649627685547,
          132.0404510498047,
          172.1088104248047,
          48.15696716308594,
          139.8113250732422,
          88.47917175292969,
          123.16107940673828,
          109.39751434326172,
          96.93128967285156,
          53.056758880615234,
          119.09143829345703,
          143.28443908691406,
          128.55535888671875,
          -160.7801971435547,
          96.78291320800781,
          86.89364624023438,
          93.09232330322266,
          175.1410369873047,
          134.892578125,
          129.95030212402344,
          75.89183044433594,
          62.75065994262695,
          49.17594909667969,
          112.8152847290039
         ]
        }
       ],
       "layout": {
        "height": 800,
        "legend": {
         "tracegroupgap": 0
        },
        "scene": {
         "domain": {
          "x": [
           0,
           1
          ],
          "y": [
           0,
           1
          ]
         },
         "xaxis": {
          "title": {
           "text": "0"
          }
         },
         "yaxis": {
          "title": {
           "text": "1"
          }
         },
         "zaxis": {
          "title": {
           "text": "2"
          }
         }
        },
        "template": {
         "data": {
          "bar": [
           {
            "error_x": {
             "color": "#2a3f5f"
            },
            "error_y": {
             "color": "#2a3f5f"
            },
            "marker": {
             "line": {
              "color": "#E5ECF6",
              "width": 0.5
             }
            },
            "type": "bar"
           }
          ],
          "barpolar": [
           {
            "marker": {
             "line": {
              "color": "#E5ECF6",
              "width": 0.5
             }
            },
            "type": "barpolar"
           }
          ],
          "carpet": [
           {
            "aaxis": {
             "endlinecolor": "#2a3f5f",
             "gridcolor": "white",
             "linecolor": "white",
             "minorgridcolor": "white",
             "startlinecolor": "#2a3f5f"
            },
            "baxis": {
             "endlinecolor": "#2a3f5f",
             "gridcolor": "white",
             "linecolor": "white",
             "minorgridcolor": "white",
             "startlinecolor": "#2a3f5f"
            },
            "type": "carpet"
           }
          ],
          "choropleth": [
           {
            "colorbar": {
             "outlinewidth": 0,
             "ticks": ""
            },
            "type": "choropleth"
           }
          ],
          "contour": [
           {
            "colorbar": {
             "outlinewidth": 0,
             "ticks": ""
            },
            "colorscale": [
             [
              0,
              "#0d0887"
             ],
             [
              0.1111111111111111,
              "#46039f"
             ],
             [
              0.2222222222222222,
              "#7201a8"
             ],
             [
              0.3333333333333333,
              "#9c179e"
             ],
             [
              0.4444444444444444,
              "#bd3786"
             ],
             [
              0.5555555555555556,
              "#d8576b"
             ],
             [
              0.6666666666666666,
              "#ed7953"
             ],
             [
              0.7777777777777778,
              "#fb9f3a"
             ],
             [
              0.8888888888888888,
              "#fdca26"
             ],
             [
              1,
              "#f0f921"
             ]
            ],
            "type": "contour"
           }
          ],
          "contourcarpet": [
           {
            "colorbar": {
             "outlinewidth": 0,
             "ticks": ""
            },
            "type": "contourcarpet"
           }
          ],
          "heatmap": [
           {
            "colorbar": {
             "outlinewidth": 0,
             "ticks": ""
            },
            "colorscale": [
             [
              0,
              "#0d0887"
             ],
             [
              0.1111111111111111,
              "#46039f"
             ],
             [
              0.2222222222222222,
              "#7201a8"
             ],
             [
              0.3333333333333333,
              "#9c179e"
             ],
             [
              0.4444444444444444,
              "#bd3786"
             ],
             [
              0.5555555555555556,
              "#d8576b"
             ],
             [
              0.6666666666666666,
              "#ed7953"
             ],
             [
              0.7777777777777778,
              "#fb9f3a"
             ],
             [
              0.8888888888888888,
              "#fdca26"
             ],
             [
              1,
              "#f0f921"
             ]
            ],
            "type": "heatmap"
           }
          ],
          "heatmapgl": [
           {
            "colorbar": {
             "outlinewidth": 0,
             "ticks": ""
            },
            "colorscale": [
             [
              0,
              "#0d0887"
             ],
             [
              0.1111111111111111,
              "#46039f"
             ],
             [
              0.2222222222222222,
              "#7201a8"
             ],
             [
              0.3333333333333333,
              "#9c179e"
             ],
             [
              0.4444444444444444,
              "#bd3786"
             ],
             [
              0.5555555555555556,
              "#d8576b"
             ],
             [
              0.6666666666666666,
              "#ed7953"
             ],
             [
              0.7777777777777778,
              "#fb9f3a"
             ],
             [
              0.8888888888888888,
              "#fdca26"
             ],
             [
              1,
              "#f0f921"
             ]
            ],
            "type": "heatmapgl"
           }
          ],
          "histogram": [
           {
            "marker": {
             "colorbar": {
              "outlinewidth": 0,
              "ticks": ""
             }
            },
            "type": "histogram"
           }
          ],
          "histogram2d": [
           {
            "colorbar": {
             "outlinewidth": 0,
             "ticks": ""
            },
            "colorscale": [
             [
              0,
              "#0d0887"
             ],
             [
              0.1111111111111111,
              "#46039f"
             ],
             [
              0.2222222222222222,
              "#7201a8"
             ],
             [
              0.3333333333333333,
              "#9c179e"
             ],
             [
              0.4444444444444444,
              "#bd3786"
             ],
             [
              0.5555555555555556,
              "#d8576b"
             ],
             [
              0.6666666666666666,
              "#ed7953"
             ],
             [
              0.7777777777777778,
              "#fb9f3a"
             ],
             [
              0.8888888888888888,
              "#fdca26"
             ],
             [
              1,
              "#f0f921"
             ]
            ],
            "type": "histogram2d"
           }
          ],
          "histogram2dcontour": [
           {
            "colorbar": {
             "outlinewidth": 0,
             "ticks": ""
            },
            "colorscale": [
             [
              0,
              "#0d0887"
             ],
             [
              0.1111111111111111,
              "#46039f"
             ],
             [
              0.2222222222222222,
              "#7201a8"
             ],
             [
              0.3333333333333333,
              "#9c179e"
             ],
             [
              0.4444444444444444,
              "#bd3786"
             ],
             [
              0.5555555555555556,
              "#d8576b"
             ],
             [
              0.6666666666666666,
              "#ed7953"
             ],
             [
              0.7777777777777778,
              "#fb9f3a"
             ],
             [
              0.8888888888888888,
              "#fdca26"
             ],
             [
              1,
              "#f0f921"
             ]
            ],
            "type": "histogram2dcontour"
           }
          ],
          "mesh3d": [
           {
            "colorbar": {
             "outlinewidth": 0,
             "ticks": ""
            },
            "type": "mesh3d"
           }
          ],
          "parcoords": [
           {
            "line": {
             "colorbar": {
              "outlinewidth": 0,
              "ticks": ""
             }
            },
            "type": "parcoords"
           }
          ],
          "pie": [
           {
            "automargin": true,
            "type": "pie"
           }
          ],
          "scatter": [
           {
            "marker": {
             "colorbar": {
              "outlinewidth": 0,
              "ticks": ""
             }
            },
            "type": "scatter"
           }
          ],
          "scatter3d": [
           {
            "line": {
             "colorbar": {
              "outlinewidth": 0,
              "ticks": ""
             }
            },
            "marker": {
             "colorbar": {
              "outlinewidth": 0,
              "ticks": ""
             }
            },
            "type": "scatter3d"
           }
          ],
          "scattercarpet": [
           {
            "marker": {
             "colorbar": {
              "outlinewidth": 0,
              "ticks": ""
             }
            },
            "type": "scattercarpet"
           }
          ],
          "scattergeo": [
           {
            "marker": {
             "colorbar": {
              "outlinewidth": 0,
              "ticks": ""
             }
            },
            "type": "scattergeo"
           }
          ],
          "scattergl": [
           {
            "marker": {
             "colorbar": {
              "outlinewidth": 0,
              "ticks": ""
             }
            },
            "type": "scattergl"
           }
          ],
          "scattermapbox": [
           {
            "marker": {
             "colorbar": {
              "outlinewidth": 0,
              "ticks": ""
             }
            },
            "type": "scattermapbox"
           }
          ],
          "scatterpolar": [
           {
            "marker": {
             "colorbar": {
              "outlinewidth": 0,
              "ticks": ""
             }
            },
            "type": "scatterpolar"
           }
          ],
          "scatterpolargl": [
           {
            "marker": {
             "colorbar": {
              "outlinewidth": 0,
              "ticks": ""
             }
            },
            "type": "scatterpolargl"
           }
          ],
          "scatterternary": [
           {
            "marker": {
             "colorbar": {
              "outlinewidth": 0,
              "ticks": ""
             }
            },
            "type": "scatterternary"
           }
          ],
          "surface": [
           {
            "colorbar": {
             "outlinewidth": 0,
             "ticks": ""
            },
            "colorscale": [
             [
              0,
              "#0d0887"
             ],
             [
              0.1111111111111111,
              "#46039f"
             ],
             [
              0.2222222222222222,
              "#7201a8"
             ],
             [
              0.3333333333333333,
              "#9c179e"
             ],
             [
              0.4444444444444444,
              "#bd3786"
             ],
             [
              0.5555555555555556,
              "#d8576b"
             ],
             [
              0.6666666666666666,
              "#ed7953"
             ],
             [
              0.7777777777777778,
              "#fb9f3a"
             ],
             [
              0.8888888888888888,
              "#fdca26"
             ],
             [
              1,
              "#f0f921"
             ]
            ],
            "type": "surface"
           }
          ],
          "table": [
           {
            "cells": {
             "fill": {
              "color": "#EBF0F8"
             },
             "line": {
              "color": "white"
             }
            },
            "header": {
             "fill": {
              "color": "#C8D4E3"
             },
             "line": {
              "color": "white"
             }
            },
            "type": "table"
           }
          ]
         },
         "layout": {
          "annotationdefaults": {
           "arrowcolor": "#2a3f5f",
           "arrowhead": 0,
           "arrowwidth": 1
          },
          "coloraxis": {
           "colorbar": {
            "outlinewidth": 0,
            "ticks": ""
           }
          },
          "colorscale": {
           "diverging": [
            [
             0,
             "#8e0152"
            ],
            [
             0.1,
             "#c51b7d"
            ],
            [
             0.2,
             "#de77ae"
            ],
            [
             0.3,
             "#f1b6da"
            ],
            [
             0.4,
             "#fde0ef"
            ],
            [
             0.5,
             "#f7f7f7"
            ],
            [
             0.6,
             "#e6f5d0"
            ],
            [
             0.7,
             "#b8e186"
            ],
            [
             0.8,
             "#7fbc41"
            ],
            [
             0.9,
             "#4d9221"
            ],
            [
             1,
             "#276419"
            ]
           ],
           "sequential": [
            [
             0,
             "#0d0887"
            ],
            [
             0.1111111111111111,
             "#46039f"
            ],
            [
             0.2222222222222222,
             "#7201a8"
            ],
            [
             0.3333333333333333,
             "#9c179e"
            ],
            [
             0.4444444444444444,
             "#bd3786"
            ],
            [
             0.5555555555555556,
             "#d8576b"
            ],
            [
             0.6666666666666666,
             "#ed7953"
            ],
            [
             0.7777777777777778,
             "#fb9f3a"
            ],
            [
             0.8888888888888888,
             "#fdca26"
            ],
            [
             1,
             "#f0f921"
            ]
           ],
           "sequentialminus": [
            [
             0,
             "#0d0887"
            ],
            [
             0.1111111111111111,
             "#46039f"
            ],
            [
             0.2222222222222222,
             "#7201a8"
            ],
            [
             0.3333333333333333,
             "#9c179e"
            ],
            [
             0.4444444444444444,
             "#bd3786"
            ],
            [
             0.5555555555555556,
             "#d8576b"
            ],
            [
             0.6666666666666666,
             "#ed7953"
            ],
            [
             0.7777777777777778,
             "#fb9f3a"
            ],
            [
             0.8888888888888888,
             "#fdca26"
            ],
            [
             1,
             "#f0f921"
            ]
           ]
          },
          "colorway": [
           "#636efa",
           "#EF553B",
           "#00cc96",
           "#ab63fa",
           "#FFA15A",
           "#19d3f3",
           "#FF6692",
           "#B6E880",
           "#FF97FF",
           "#FECB52"
          ],
          "font": {
           "color": "#2a3f5f"
          },
          "geo": {
           "bgcolor": "white",
           "lakecolor": "white",
           "landcolor": "#E5ECF6",
           "showlakes": true,
           "showland": true,
           "subunitcolor": "white"
          },
          "hoverlabel": {
           "align": "left"
          },
          "hovermode": "closest",
          "mapbox": {
           "style": "light"
          },
          "paper_bgcolor": "white",
          "plot_bgcolor": "#E5ECF6",
          "polar": {
           "angularaxis": {
            "gridcolor": "white",
            "linecolor": "white",
            "ticks": ""
           },
           "bgcolor": "#E5ECF6",
           "radialaxis": {
            "gridcolor": "white",
            "linecolor": "white",
            "ticks": ""
           }
          },
          "scene": {
           "xaxis": {
            "backgroundcolor": "#E5ECF6",
            "gridcolor": "white",
            "gridwidth": 2,
            "linecolor": "white",
            "showbackground": true,
            "ticks": "",
            "zerolinecolor": "white"
           },
           "yaxis": {
            "backgroundcolor": "#E5ECF6",
            "gridcolor": "white",
            "gridwidth": 2,
            "linecolor": "white",
            "showbackground": true,
            "ticks": "",
            "zerolinecolor": "white"
           },
           "zaxis": {
            "backgroundcolor": "#E5ECF6",
            "gridcolor": "white",
            "gridwidth": 2,
            "linecolor": "white",
            "showbackground": true,
            "ticks": "",
            "zerolinecolor": "white"
           }
          },
          "shapedefaults": {
           "line": {
            "color": "#2a3f5f"
           }
          },
          "ternary": {
           "aaxis": {
            "gridcolor": "white",
            "linecolor": "white",
            "ticks": ""
           },
           "baxis": {
            "gridcolor": "white",
            "linecolor": "white",
            "ticks": ""
           },
           "bgcolor": "#E5ECF6",
           "caxis": {
            "gridcolor": "white",
            "linecolor": "white",
            "ticks": ""
           }
          },
          "title": {
           "x": 0.05
          },
          "xaxis": {
           "automargin": true,
           "gridcolor": "white",
           "linecolor": "white",
           "ticks": "",
           "title": {
            "standoff": 15
           },
           "zerolinecolor": "white",
           "zerolinewidth": 2
          },
          "yaxis": {
           "automargin": true,
           "gridcolor": "white",
           "linecolor": "white",
           "ticks": "",
           "title": {
            "standoff": 15
           },
           "zerolinecolor": "white",
           "zerolinewidth": 2
          }
         }
        },
        "title": {
         "text": "3d TSNE Plot for Clusters"
        },
        "width": 900
       }
      },
      "text/html": [
       "<div>\n",
       "        \n",
       "        \n",
       "            <div id=\"9e8022dd-780d-41c1-b794-92a481d9d1aa\" class=\"plotly-graph-div\" style=\"height:800px; width:900px;\"></div>\n",
       "            <script type=\"text/javascript\">\n",
       "                require([\"plotly\"], function(Plotly) {\n",
       "                    window.PLOTLYENV=window.PLOTLYENV || {};\n",
       "                    \n",
       "                if (document.getElementById(\"9e8022dd-780d-41c1-b794-92a481d9d1aa\")) {\n",
       "                    Plotly.newPlot(\n",
       "                        '9e8022dd-780d-41c1-b794-92a481d9d1aa',\n",
       "                        [{\"hoverlabel\": {\"namelength\": 0}, \"hovertemplate\": \"Cluster=Cluster 0<br>0=%{x}<br>1=%{y}<br>2=%{z}<br>Label=%{text}\", \"legendgroup\": \"Cluster=Cluster 0\", \"marker\": {\"color\": \"#636efa\", \"opacity\": 0.7, \"symbol\": \"circle\"}, \"mode\": \"markers+text\", \"name\": \"Cluster=Cluster 0\", \"scene\": \"scene\", \"showlegend\": true, \"text\": [81.61, 88.36, 77.78, 91.54, 22.22, 75.26, 62.04, 91.93, 81.22, 15.47, 87.04, 80.15, 71.42, 78.05, 67.74, 71.55, 78.83, 64.44, 70.25, 67.85, 80.04, 94.18, 59.65, 71.44, 98.02, 82.42, 88.75, 41.54, 65.74, 83.46, 86.24, 94.18, 66.53, 84.78, 74.34, 80.95, 97.35, 100.0, 59.53, 70.91, 87.83, 47.23, 82.93, 68.78, 74.2, 78.85, 100.0, 72.87, 0.0, 65.73, 84.92, 64.43, 76.19, 53.83, null, 59.26, 61.24, 33.33, 76.59, 11.11, 76.71, 95.24, 97.35, 94.58, 43.66, 90.74, 76.98, 87.84, 62.7, 85.18, 100.0, 59.39, 56.87, 94.71, 78.96, 47.35, 84.26, 86.38, 80.56, 93.38, 87.96, 80.42, 50.4, 89.94, 92.06, 71.16, 85.19, 86.24, 69.18, 54.23, 88.75, 45.37, 91.4, 29.36, 82.41, 84.39, 72.48, 38.49, 77.64, 47.48, 78.3, 43.79, 56.34, 56.74, 74.99, 75.52, 43.51, 77.12, 75.15, 90.74, 82.27, 97.35, 71.71, 50.41, 76.33, 66.14, 56.34, 86.24, 48.15, 67.19, 86.77], \"type\": \"scatter3d\", \"x\": [-94.85608673095703, -4.033115386962891, -62.31369400024414, 30.982559204101562, -40.379398345947266, 4.28714656829834, 80.33686828613281, 138.9346466064453, -106.60021209716797, 38.81393051147461, -99.13694763183594, -38.04398727416992, -85.3211669921875, -81.8384780883789, -45.81084060668945, 15.955156326293945, 17.212146759033203, 126.88260650634766, -36.872493743896484, 77.1753921508789, -8.074280738830566, -69.4829330444336, -117.13311767578125, 21.785451889038086, 135.40283203125, 68.07298278808594, -105.3870849609375, 87.47541809082031, 1.1334620714187622, -47.1054801940918, 13.834681510925293, 73.17269134521484, 60.67471694946289, 108.72611999511719, -72.02371215820312, 63.92739486694336, -78.13279724121094, -2.251434803009033, -110.13736724853516, 75.25646209716797, -58.171390533447266, -93.1422348022461, 149.09751892089844, 3.7258036136627197, 24.27587127685547, -51.711151123046875, 26.31856346130371, 2.7559010982513428, -89.0921859741211, -23.24390411376953, 1.731719732284546, -118.32161712646484, 38.28494644165039, -120.32405090332031, 30.11980438232422, -45.955684661865234, -35.56224822998047, -84.96517181396484, -53.88457107543945, 104.15089416503906, 37.40129852294922, 99.24834442138672, -47.32237243652344, -89.41380310058594, 96.93644714355469, -81.3184814453125, 90.1077651977539, -57.58642578125, 137.52133178710938, 51.25038146972656, 51.235450744628906, 22.12144660949707, 139.09860229492188, 74.26691436767578, 39.49510955810547, 98.06695556640625, -129.12841796875, -52.94300079345703, -24.00468635559082, -16.039234161376953, -32.882328033447266, -55.639930725097656, -99.11741638183594, -155.92111206054688, 2.868075370788574, 77.62659454345703, 125.58148956298828, -104.55587768554688, -85.77412414550781, -25.306852340698242, -25.922975540161133, 108.16688537597656, -33.448326110839844, 83.1319351196289, -156.79684448242188, 64.44157409667969, -80.19632720947266, 130.660400390625, -73.77961730957031, -119.34248352050781, -2.154977560043335, -14.96410083770752, -2.8575613498687744, 50.34295654296875, 30.459848403930664, 74.8885269165039, 99.9624252319336, 77.10572814941406, 128.18350219726562, -43.04562759399414, 30.478479385375977, 62.40351486206055, -59.51571273803711, 162.46656799316406, 56.57320022583008, -93.99378967285156, -44.733543395996094, -2.3218979835510254, -43.33405685424805, -136.7392578125, -70.10311889648438], \"y\": [87.85004425048828, 131.4387969970703, -75.30066680908203, 95.5351333618164, 5.487733840942383, 82.27137756347656, 67.39012145996094, 40.37419509887695, 46.48979187011719, 71.2675552368164, -51.20028305053711, -53.50180435180664, -75.18982696533203, -8.82440185546875, 65.86713409423828, 36.1280632019043, 62.31849670410156, -21.844032287597656, 112.95352172851562, -13.53692626953125, 91.66637420654297, 59.3163948059082, -94.13752746582031, 115.64781188964844, 28.498159408569336, 55.14454650878906, -27.202363967895508, 19.44476318359375, 54.84572219848633, -86.81385803222656, 98.59955596923828, 45.32124710083008, 74.01907348632812, 110.95885467529297, 32.57477569580078, 161.0034637451172, 34.47288131713867, -90.17005157470703, -68.09109497070312, -64.3681869506836, 72.20366668701172, 104.48714447021484, 84.7267074584961, -74.48796844482422, 49.7027702331543, 28.130111694335938, -21.612598419189453, 105.11180877685547, -84.74967193603516, 15.560504913330078, -49.63462829589844, 14.938501358032227, 20.25215721130371, 73.60497283935547, 11.574694633483887, -88.5059814453125, -43.28239059448242, -41.371238708496094, -27.790571212768555, 99.78321075439453, -110.69535827636719, 15.992301940917969, 64.00080871582031, -18.74049186706543, 38.627262115478516, 99.21647644042969, 100.79647827148438, -148.29331970214844, 123.75790405273438, 85.82805633544922, 112.37702941894531, -53.96883773803711, -39.02045822143555, -144.65643310546875, -32.09286880493164, 138.6048126220703, -27.500150680541992, -69.57718658447266, 19.302968978881836, -17.65275001525879, 163.25514221191406, 141.74514770507812, -0.17321161925792694, -78.21009826660156, 15.430977821350098, 141.31082153320312, 77.90674591064453, 67.39859008789062, -99.6551513671875, 66.77191925048828, -59.226192474365234, 69.9371566772461, 103.10814666748047, -24.629671096801758, -1.0691865682601929, 65.10365295410156, 13.311565399169922, -58.5451545715332, -55.79954147338867, -13.574308395385742, 120.89913940429688, -40.23704147338867, 54.61677932739258, -69.49609375, 43.708702087402344, 78.37007141113281, 54.0588264465332, 150.8314666748047, 82.86441040039062, -34.998809814453125, 30.45169448852539, 27.56929588317871, -44.60890579223633, 61.20558166503906, 35.56446075439453, 36.246131896972656, 104.18376159667969, 81.48455047607422, -112.05377197265625, 31.51192855834961, -20.902259826660156], \"z\": [-16.703399658203125, 7.355208873748779, 31.50756072998047, 14.010368347167969, 32.695613861083984, 106.37066650390625, 103.92430877685547, -47.54340362548828, -19.41748046875, -70.84793090820312, -73.58443450927734, -126.95386505126953, -112.88712310791016, -79.6213150024414, 102.78632354736328, 77.64897918701172, 37.8260383605957, -24.0791072845459, 85.8865966796875, -30.6113224029541, 3.6717681884765625, -41.705596923828125, 72.5625, -22.35236930847168, -99.90320587158203, 143.0077362060547, -3.7639729976654053, 4.28014612197876, -1.4126847982406616, -8.374612808227539, -86.33356475830078, -37.612762451171875, -104.7522201538086, -50.813880920410156, 46.461212158203125, -29.687397003173828, -105.73074340820312, -10.60457992553711, 4.387107849121094, 2.2887001037597656, -82.6483383178711, 76.22406768798828, -32.17755126953125, -106.9679183959961, -38.941017150878906, -63.034263610839844, -62.055389404296875, 44.87489700317383, -41.14152145385742, -103.08975982666016, -8.25611400604248, -99.43934631347656, 16.138118743896484, -52.37910461425781, -19.929689407348633, -99.74759674072266, -23.618263244628906, 39.54298782348633, 14.219679832458496, 11.071953773498535, -72.60783386230469, -69.01258087158203, -0.2961973547935486, -120.73582458496094, -125.32586669921875, -58.29423141479492, -90.53230285644531, 31.32728385925293, -4.740102291107178, -27.158864974975586, -58.00709915161133, -77.64035034179688, 52.65586471557617, -12.737939834594727, 2.27504563331604, -17.89032554626465, -97.74869537353516, -57.46986770629883, -26.35915756225586, 7.405319690704346, -49.227806091308594, -13.448225021362305, 33.433353424072266, -30.92014503479004, -60.64662170410156, 21.5115909576416, -115.5105972290039, -91.45894622802734, -78.25849151611328, 37.05687713623047, 19.668819427490234, -30.514814376831055, -24.489091873168945, 30.78102684020996, 34.30210876464844, 7.107961654663086, 4.7497711181640625, 30.970212936401367, -7.808652400970459, -56.66166687011719, -53.53712463378906, -86.80950164794922, -85.47400665283203, -50.186405181884766, -108.60093688964844, -59.5244026184082, -82.9718246459961, -91.76048278808594, -70.79489135742188, 49.57466125488281, 128.49053955078125, 68.751708984375, -91.2033462524414, -83.31441497802734, -78.70638275146484, -62.33893585205078, 24.300376892089844, -36.43904113769531, -64.62213134765625, -61.109737396240234, -29.07630729675293]}, {\"hoverlabel\": {\"namelength\": 0}, \"hovertemplate\": \"Cluster=Cluster 1<br>0=%{x}<br>1=%{y}<br>2=%{z}<br>Label=%{text}\", \"legendgroup\": \"Cluster=Cluster 1\", \"marker\": {\"color\": \"#EF553B\", \"opacity\": 0.7, \"symbol\": \"circle\"}, \"mode\": \"markers+text\", \"name\": \"Cluster=Cluster 1\", \"scene\": \"scene\", \"showlegend\": true, \"text\": [97.35], \"type\": \"scatter3d\", \"x\": [105.47444915771484], \"y\": [-102.37562561035156], \"z\": [-48.94379425048828]}, {\"hoverlabel\": {\"namelength\": 0}, \"hovertemplate\": \"Cluster=Cluster 2<br>0=%{x}<br>1=%{y}<br>2=%{z}<br>Label=%{text}\", \"legendgroup\": \"Cluster=Cluster 2\", \"marker\": {\"color\": \"#00cc96\", \"opacity\": 0.7, \"symbol\": \"circle\"}, \"mode\": \"markers+text\", \"name\": \"Cluster=Cluster 2\", \"scene\": \"scene\", \"showlegend\": true, \"text\": [69.97, 98.02, 100.0, 61.37, 80.95], \"type\": \"scatter3d\", \"x\": [-103.06670379638672, 95.58049011230469, -107.60816192626953, 120.6706771850586, -127.25469207763672], \"y\": [-129.95106506347656, -7.130908012390137, 20.273937225341797, 25.422395706176758, 28.611854553222656], \"z\": [1.3497450351715088, 77.41998291015625, 107.8507308959961, 68.99691772460938, 77.53755187988281]}, {\"hoverlabel\": {\"namelength\": 0}, \"hovertemplate\": \"Cluster=Cluster 3<br>0=%{x}<br>1=%{y}<br>2=%{z}<br>Label=%{text}\", \"legendgroup\": \"Cluster=Cluster 3\", \"marker\": {\"color\": \"#ab63fa\", \"opacity\": 0.7, \"symbol\": \"circle\"}, \"mode\": \"markers+text\", \"name\": \"Cluster=Cluster 3\", \"scene\": \"scene\", \"showlegend\": true, \"text\": [85.85, 83.07, 76.19, 73.01, 69.71, 67.85, 66.53, 76.07, 56.61, 79.37, 94.18, 56.22, 84.12, 78.31, 96.83, 82.27, 39.02, 93.38, 85.45, 79.24, 67.99, 84.78, 74.2, 58.07, 85.19, 82.02, 81.61, 88.09, 76.71, 96.03, 97.35, 82.14, 86.38, 71.42, 61.25, 65.87, 80.43, 68.41], \"type\": \"scatter3d\", \"x\": [-48.28553771972656, 33.444847106933594, 55.69743347167969, 63.21125030517578, 80.65790557861328, 62.052398681640625, -7.949668884277344, -11.413029670715332, 24.806676864624023, 55.54978942871094, -69.29824829101562, -9.245981216430664, 73.08106231689453, 11.344470024108887, -20.151966094970703, 81.90084075927734, 24.93921661376953, 25.10643196105957, -12.134514808654785, -38.90284729003906, 32.357093811035156, 4.119271755218506, 19.1315975189209, 31.451026916503906, 83.72213745117188, 31.510984420776367, 108.0600357055664, -2.5158307552337646, -22.60710906982422, -48.117698669433594, 42.25369644165039, -37.95595169067383, -13.137482643127441, -50.14759063720703, 0.4934261739253998, -38.131954193115234, -7.032784938812256, 58.50132751464844], \"y\": [-15.474408149719238, -57.559383392333984, -33.43034744262695, -90.0787353515625, -37.224365234375, -118.97341918945312, -52.4037971496582, 4.058411121368408, -74.41549682617188, -128.31045532226562, -41.12330627441406, -100.10116577148438, -89.8261947631836, -127.49620819091797, 62.487735748291016, -9.716875076293945, -85.64653015136719, -30.199892044067383, -38.37940216064453, -71.47916412353516, -91.30720520019531, -61.088844299316406, -22.122526168823242, -145.49057006835938, -98.86260223388672, -48.60124969482422, -39.77646255493164, 9.098592758178711, -34.71649932861328, -0.9898346662521362, -119.34105682373047, -3.3842906951904297, -88.85517883300781, -59.54208755493164, -90.11913299560547, -102.01820373535156, -6.748410701751709, -59.95685958862305], \"z\": [126.1353988647461, 78.83952331542969, -117.41326904296875, 154.40316772460938, 161.02371215820312, 37.86661911010742, 60.15534210205078, 106.75118255615234, 40.64192199707031, 132.4055938720703, 96.06857299804688, 32.086849212646484, 76.97673797607422, 125.61852264404297, -150.1649627685547, 132.0404510498047, 172.1088104248047, 48.15696716308594, 139.8113250732422, 88.47917175292969, 123.16107940673828, 109.39751434326172, 96.93128967285156, 53.056758880615234, 119.09143829345703, 143.28443908691406, 128.55535888671875, -160.7801971435547, 96.78291320800781, 86.89364624023438, 93.09232330322266, 175.1410369873047, 134.892578125, 129.95030212402344, 75.89183044433594, 62.75065994262695, 49.17594909667969, 112.8152847290039]}],\n",
       "                        {\"height\": 800, \"legend\": {\"tracegroupgap\": 0}, \"scene\": {\"domain\": {\"x\": [0.0, 1.0], \"y\": [0.0, 1.0]}, \"xaxis\": {\"title\": {\"text\": \"0\"}}, \"yaxis\": {\"title\": {\"text\": \"1\"}}, \"zaxis\": {\"title\": {\"text\": \"2\"}}}, \"template\": {\"data\": {\"bar\": [{\"error_x\": {\"color\": \"#2a3f5f\"}, \"error_y\": {\"color\": \"#2a3f5f\"}, \"marker\": {\"line\": {\"color\": \"#E5ECF6\", \"width\": 0.5}}, \"type\": \"bar\"}], \"barpolar\": [{\"marker\": {\"line\": {\"color\": \"#E5ECF6\", \"width\": 0.5}}, \"type\": \"barpolar\"}], \"carpet\": [{\"aaxis\": {\"endlinecolor\": \"#2a3f5f\", \"gridcolor\": \"white\", \"linecolor\": \"white\", \"minorgridcolor\": \"white\", \"startlinecolor\": \"#2a3f5f\"}, \"baxis\": {\"endlinecolor\": \"#2a3f5f\", \"gridcolor\": \"white\", \"linecolor\": \"white\", \"minorgridcolor\": \"white\", \"startlinecolor\": \"#2a3f5f\"}, \"type\": \"carpet\"}], \"choropleth\": [{\"colorbar\": {\"outlinewidth\": 0, \"ticks\": \"\"}, \"type\": \"choropleth\"}], \"contour\": [{\"colorbar\": {\"outlinewidth\": 0, \"ticks\": \"\"}, \"colorscale\": [[0.0, \"#0d0887\"], [0.1111111111111111, \"#46039f\"], [0.2222222222222222, \"#7201a8\"], [0.3333333333333333, \"#9c179e\"], [0.4444444444444444, \"#bd3786\"], [0.5555555555555556, \"#d8576b\"], [0.6666666666666666, \"#ed7953\"], [0.7777777777777778, \"#fb9f3a\"], [0.8888888888888888, \"#fdca26\"], [1.0, \"#f0f921\"]], \"type\": \"contour\"}], \"contourcarpet\": [{\"colorbar\": {\"outlinewidth\": 0, \"ticks\": \"\"}, \"type\": \"contourcarpet\"}], \"heatmap\": [{\"colorbar\": {\"outlinewidth\": 0, \"ticks\": \"\"}, \"colorscale\": [[0.0, \"#0d0887\"], [0.1111111111111111, \"#46039f\"], [0.2222222222222222, \"#7201a8\"], [0.3333333333333333, \"#9c179e\"], [0.4444444444444444, \"#bd3786\"], [0.5555555555555556, \"#d8576b\"], [0.6666666666666666, \"#ed7953\"], [0.7777777777777778, \"#fb9f3a\"], [0.8888888888888888, \"#fdca26\"], [1.0, \"#f0f921\"]], \"type\": \"heatmap\"}], \"heatmapgl\": [{\"colorbar\": {\"outlinewidth\": 0, \"ticks\": \"\"}, \"colorscale\": [[0.0, \"#0d0887\"], [0.1111111111111111, \"#46039f\"], [0.2222222222222222, \"#7201a8\"], [0.3333333333333333, \"#9c179e\"], [0.4444444444444444, \"#bd3786\"], [0.5555555555555556, \"#d8576b\"], [0.6666666666666666, \"#ed7953\"], [0.7777777777777778, \"#fb9f3a\"], [0.8888888888888888, \"#fdca26\"], [1.0, \"#f0f921\"]], \"type\": \"heatmapgl\"}], \"histogram\": [{\"marker\": {\"colorbar\": {\"outlinewidth\": 0, \"ticks\": \"\"}}, \"type\": \"histogram\"}], \"histogram2d\": [{\"colorbar\": {\"outlinewidth\": 0, \"ticks\": \"\"}, \"colorscale\": [[0.0, \"#0d0887\"], [0.1111111111111111, \"#46039f\"], [0.2222222222222222, \"#7201a8\"], [0.3333333333333333, \"#9c179e\"], [0.4444444444444444, \"#bd3786\"], [0.5555555555555556, \"#d8576b\"], [0.6666666666666666, \"#ed7953\"], [0.7777777777777778, \"#fb9f3a\"], [0.8888888888888888, \"#fdca26\"], [1.0, \"#f0f921\"]], \"type\": \"histogram2d\"}], \"histogram2dcontour\": [{\"colorbar\": {\"outlinewidth\": 0, \"ticks\": \"\"}, \"colorscale\": [[0.0, \"#0d0887\"], [0.1111111111111111, \"#46039f\"], [0.2222222222222222, \"#7201a8\"], [0.3333333333333333, \"#9c179e\"], [0.4444444444444444, \"#bd3786\"], [0.5555555555555556, \"#d8576b\"], [0.6666666666666666, \"#ed7953\"], [0.7777777777777778, \"#fb9f3a\"], [0.8888888888888888, \"#fdca26\"], [1.0, \"#f0f921\"]], \"type\": \"histogram2dcontour\"}], \"mesh3d\": [{\"colorbar\": {\"outlinewidth\": 0, \"ticks\": \"\"}, \"type\": \"mesh3d\"}], \"parcoords\": [{\"line\": {\"colorbar\": {\"outlinewidth\": 0, \"ticks\": \"\"}}, \"type\": \"parcoords\"}], \"pie\": [{\"automargin\": true, \"type\": \"pie\"}], \"scatter\": [{\"marker\": {\"colorbar\": {\"outlinewidth\": 0, \"ticks\": \"\"}}, \"type\": \"scatter\"}], \"scatter3d\": [{\"line\": {\"colorbar\": {\"outlinewidth\": 0, \"ticks\": \"\"}}, \"marker\": {\"colorbar\": {\"outlinewidth\": 0, \"ticks\": \"\"}}, \"type\": \"scatter3d\"}], \"scattercarpet\": [{\"marker\": {\"colorbar\": {\"outlinewidth\": 0, \"ticks\": \"\"}}, \"type\": \"scattercarpet\"}], \"scattergeo\": [{\"marker\": {\"colorbar\": {\"outlinewidth\": 0, \"ticks\": \"\"}}, \"type\": \"scattergeo\"}], \"scattergl\": [{\"marker\": {\"colorbar\": {\"outlinewidth\": 0, \"ticks\": \"\"}}, \"type\": \"scattergl\"}], \"scattermapbox\": [{\"marker\": {\"colorbar\": {\"outlinewidth\": 0, \"ticks\": \"\"}}, \"type\": \"scattermapbox\"}], \"scatterpolar\": [{\"marker\": {\"colorbar\": {\"outlinewidth\": 0, \"ticks\": \"\"}}, \"type\": \"scatterpolar\"}], \"scatterpolargl\": [{\"marker\": {\"colorbar\": {\"outlinewidth\": 0, \"ticks\": \"\"}}, \"type\": \"scatterpolargl\"}], \"scatterternary\": [{\"marker\": {\"colorbar\": {\"outlinewidth\": 0, \"ticks\": \"\"}}, \"type\": \"scatterternary\"}], \"surface\": [{\"colorbar\": {\"outlinewidth\": 0, \"ticks\": \"\"}, \"colorscale\": [[0.0, \"#0d0887\"], [0.1111111111111111, \"#46039f\"], [0.2222222222222222, \"#7201a8\"], [0.3333333333333333, \"#9c179e\"], [0.4444444444444444, \"#bd3786\"], [0.5555555555555556, \"#d8576b\"], [0.6666666666666666, \"#ed7953\"], [0.7777777777777778, \"#fb9f3a\"], [0.8888888888888888, \"#fdca26\"], [1.0, \"#f0f921\"]], \"type\": \"surface\"}], \"table\": [{\"cells\": {\"fill\": {\"color\": \"#EBF0F8\"}, \"line\": {\"color\": \"white\"}}, \"header\": {\"fill\": {\"color\": \"#C8D4E3\"}, \"line\": {\"color\": \"white\"}}, \"type\": \"table\"}]}, \"layout\": {\"annotationdefaults\": {\"arrowcolor\": \"#2a3f5f\", \"arrowhead\": 0, \"arrowwidth\": 1}, \"coloraxis\": {\"colorbar\": {\"outlinewidth\": 0, \"ticks\": \"\"}}, \"colorscale\": {\"diverging\": [[0, \"#8e0152\"], [0.1, \"#c51b7d\"], [0.2, \"#de77ae\"], [0.3, \"#f1b6da\"], [0.4, \"#fde0ef\"], [0.5, \"#f7f7f7\"], [0.6, \"#e6f5d0\"], [0.7, \"#b8e186\"], [0.8, \"#7fbc41\"], [0.9, \"#4d9221\"], [1, \"#276419\"]], \"sequential\": [[0.0, \"#0d0887\"], [0.1111111111111111, \"#46039f\"], [0.2222222222222222, \"#7201a8\"], [0.3333333333333333, \"#9c179e\"], [0.4444444444444444, \"#bd3786\"], [0.5555555555555556, \"#d8576b\"], [0.6666666666666666, \"#ed7953\"], [0.7777777777777778, \"#fb9f3a\"], [0.8888888888888888, \"#fdca26\"], [1.0, \"#f0f921\"]], \"sequentialminus\": [[0.0, \"#0d0887\"], [0.1111111111111111, \"#46039f\"], [0.2222222222222222, \"#7201a8\"], [0.3333333333333333, \"#9c179e\"], [0.4444444444444444, \"#bd3786\"], [0.5555555555555556, \"#d8576b\"], [0.6666666666666666, \"#ed7953\"], [0.7777777777777778, \"#fb9f3a\"], [0.8888888888888888, \"#fdca26\"], [1.0, \"#f0f921\"]]}, \"colorway\": [\"#636efa\", \"#EF553B\", \"#00cc96\", \"#ab63fa\", \"#FFA15A\", \"#19d3f3\", \"#FF6692\", \"#B6E880\", \"#FF97FF\", \"#FECB52\"], \"font\": {\"color\": \"#2a3f5f\"}, \"geo\": {\"bgcolor\": \"white\", \"lakecolor\": \"white\", \"landcolor\": \"#E5ECF6\", \"showlakes\": true, \"showland\": true, \"subunitcolor\": \"white\"}, \"hoverlabel\": {\"align\": \"left\"}, \"hovermode\": \"closest\", \"mapbox\": {\"style\": \"light\"}, \"paper_bgcolor\": \"white\", \"plot_bgcolor\": \"#E5ECF6\", \"polar\": {\"angularaxis\": {\"gridcolor\": \"white\", \"linecolor\": \"white\", \"ticks\": \"\"}, \"bgcolor\": \"#E5ECF6\", \"radialaxis\": {\"gridcolor\": \"white\", \"linecolor\": \"white\", \"ticks\": \"\"}}, \"scene\": {\"xaxis\": {\"backgroundcolor\": \"#E5ECF6\", \"gridcolor\": \"white\", \"gridwidth\": 2, \"linecolor\": \"white\", \"showbackground\": true, \"ticks\": \"\", \"zerolinecolor\": \"white\"}, \"yaxis\": {\"backgroundcolor\": \"#E5ECF6\", \"gridcolor\": \"white\", \"gridwidth\": 2, \"linecolor\": \"white\", \"showbackground\": true, \"ticks\": \"\", \"zerolinecolor\": \"white\"}, \"zaxis\": {\"backgroundcolor\": \"#E5ECF6\", \"gridcolor\": \"white\", \"gridwidth\": 2, \"linecolor\": \"white\", \"showbackground\": true, \"ticks\": \"\", \"zerolinecolor\": \"white\"}}, \"shapedefaults\": {\"line\": {\"color\": \"#2a3f5f\"}}, \"ternary\": {\"aaxis\": {\"gridcolor\": \"white\", \"linecolor\": \"white\", \"ticks\": \"\"}, \"baxis\": {\"gridcolor\": \"white\", \"linecolor\": \"white\", \"ticks\": \"\"}, \"bgcolor\": \"#E5ECF6\", \"caxis\": {\"gridcolor\": \"white\", \"linecolor\": \"white\", \"ticks\": \"\"}}, \"title\": {\"x\": 0.05}, \"xaxis\": {\"automargin\": true, \"gridcolor\": \"white\", \"linecolor\": \"white\", \"ticks\": \"\", \"title\": {\"standoff\": 15}, \"zerolinecolor\": \"white\", \"zerolinewidth\": 2}, \"yaxis\": {\"automargin\": true, \"gridcolor\": \"white\", \"linecolor\": \"white\", \"ticks\": \"\", \"title\": {\"standoff\": 15}, \"zerolinecolor\": \"white\", \"zerolinewidth\": 2}}}, \"title\": {\"text\": \"3d TSNE Plot for Clusters\"}, \"width\": 900},\n",
       "                        {\"responsive\": true}\n",
       "                    ).then(function(){\n",
       "                            \n",
       "var gd = document.getElementById('9e8022dd-780d-41c1-b794-92a481d9d1aa');\n",
       "var x = new MutationObserver(function (mutations, observer) {{\n",
       "        var display = window.getComputedStyle(gd).display;\n",
       "        if (!display || display === 'none') {{\n",
       "            console.log([gd, 'removed!']);\n",
       "            Plotly.purge(gd);\n",
       "            observer.disconnect();\n",
       "        }}\n",
       "}});\n",
       "\n",
       "// Listen for the removal of the full notebook cells\n",
       "var notebookContainer = gd.closest('#notebook-container');\n",
       "if (notebookContainer) {{\n",
       "    x.observe(notebookContainer, {childList: true});\n",
       "}}\n",
       "\n",
       "// Listen for the clearing of the current output cell\n",
       "var outputEl = gd.closest('.output');\n",
       "if (outputEl) {{\n",
       "    x.observe(outputEl, {childList: true});\n",
       "}}\n",
       "\n",
       "                        })\n",
       "                };\n",
       "                });\n",
       "            </script>\n",
       "        </div>"
      ]
     },
     "metadata": {},
     "output_type": "display_data"
    }
   ],
   "source": [
    "plot_model(kmeans, plot = 'tsne',label=True,feature = 'stringency_index')"
   ]
  },
  {
   "cell_type": "code",
   "execution_count": 33,
   "metadata": {},
   "outputs": [
    {
     "data": {
      "text/html": [
       "        <script type=\"text/javascript\">\n",
       "        window.PlotlyConfig = {MathJaxConfig: 'local'};\n",
       "        if (window.MathJax) {MathJax.Hub.Config({SVG: {font: \"STIX-Web\"}});}\n",
       "        if (typeof require !== 'undefined') {\n",
       "        require.undef(\"plotly\");\n",
       "        requirejs.config({\n",
       "            paths: {\n",
       "                'plotly': ['https://cdn.plot.ly/plotly-latest.min']\n",
       "            }\n",
       "        });\n",
       "        require(['plotly'], function(Plotly) {\n",
       "            window._Plotly = Plotly;\n",
       "        });\n",
       "        }\n",
       "        </script>\n",
       "        "
      ]
     },
     "metadata": {},
     "output_type": "display_data"
    },
    {
     "data": {
      "image/png": "[encoded data removed]",
      "text/plain": [
       "<Figure size 576x396 with 2 Axes>"
      ]
     },
     "metadata": {},
     "output_type": "display_data"
    }
   ],
   "source": [
    "plot_model(kmeans, plot = 'distance')"
   ]
  },
  {
   "cell_type": "code",
   "execution_count": null,
   "metadata": {},
   "outputs": [],
   "source": []
  }
 ],
 "metadata": {
  "kernelspec": {
   "display_name": "Python 3",
   "language": "python",
   "name": "python3"
  },
  "language_info": {
   "codemirror_mode": {
    "name": "ipython",
    "version": 3
   },
   "file_extension": ".py",
   "mimetype": "text/x-python",
   "name": "python",
   "nbconvert_exporter": "python",
   "pygments_lexer": "ipython3",
   "version": "3.7.6"
  }
 },
 "nbformat": 4,
 "nbformat_minor": 4
}
