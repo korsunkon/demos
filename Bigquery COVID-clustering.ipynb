{
 "cells": [
  {
   "cell_type": "code",
   "execution_count": 2,
   "metadata": {},
   "outputs": [],
   "source": [
    "import pandas as pd\n",
    "\n",
    "\n",
    "%matplotlib inline\n",
    "import matplotlib.pyplot as plt\n",
    "import seaborn as sns"
   ]
  },
  {
   "cell_type": "code",
   "execution_count": 2,
   "metadata": {},
   "outputs": [
    {
     "name": "stdout",
     "output_type": "stream",
     "text": [
      "Requirement already up-to-date: google-cloud-bigquery[pandas] in c:\\users\\pc\\anaconda3\\lib\\site-packages (1.24.0)\n",
      "Requirement already satisfied, skipping upgrade: google-auth<2.0dev,>=1.9.0 in c:\\users\\pc\\anaconda3\\lib\\site-packages (from google-cloud-bigquery[pandas]) (1.14.3)\n",
      "Requirement already satisfied, skipping upgrade: google-resumable-media<0.6dev,>=0.5.0 in c:\\users\\pc\\anaconda3\\lib\\site-packages (from google-cloud-bigquery[pandas]) (0.5.0)\n",
      "Requirement already satisfied, skipping upgrade: protobuf>=3.6.0 in c:\\users\\pc\\anaconda3\\lib\\site-packages (from google-cloud-bigquery[pandas]) (3.11.3)\n",
      "Requirement already satisfied, skipping upgrade: google-api-core<2.0dev,>=1.15.0 in c:\\users\\pc\\anaconda3\\lib\\site-packages (from google-cloud-bigquery[pandas]) (1.17.0)\n",
      "Requirement already satisfied, skipping upgrade: six<2.0.0dev,>=1.13.0 in c:\\users\\pc\\anaconda3\\lib\\site-packages (from google-cloud-bigquery[pandas]) (1.14.0)\n",
      "Requirement already satisfied, skipping upgrade: google-cloud-core<2.0dev,>=1.1.0 in c:\\users\\pc\\anaconda3\\lib\\site-packages (from google-cloud-bigquery[pandas]) (1.3.0)\n",
      "Requirement already satisfied, skipping upgrade: pandas>=0.17.1; extra == \"pandas\" in c:\\users\\pc\\anaconda3\\lib\\site-packages (from google-cloud-bigquery[pandas]) (1.0.1)\n",
      "Requirement already satisfied, skipping upgrade: pyasn1-modules>=0.2.1 in c:\\users\\pc\\anaconda3\\lib\\site-packages (from google-auth<2.0dev,>=1.9.0->google-cloud-bigquery[pandas]) (0.2.8)\n",
      "Requirement already satisfied, skipping upgrade: setuptools>=40.3.0 in c:\\users\\pc\\anaconda3\\lib\\site-packages (from google-auth<2.0dev,>=1.9.0->google-cloud-bigquery[pandas]) (45.2.0.post20200210)\n",
      "Requirement already satisfied, skipping upgrade: rsa<4.1,>=3.1.4 in c:\\users\\pc\\anaconda3\\lib\\site-packages (from google-auth<2.0dev,>=1.9.0->google-cloud-bigquery[pandas]) (3.4.2)\n",
      "Requirement already satisfied, skipping upgrade: cachetools<5.0,>=2.0.0 in c:\\users\\pc\\anaconda3\\lib\\site-packages (from google-auth<2.0dev,>=1.9.0->google-cloud-bigquery[pandas]) (4.1.0)\n",
      "Requirement already satisfied, skipping upgrade: pytz in c:\\users\\pc\\anaconda3\\lib\\site-packages (from google-api-core<2.0dev,>=1.15.0->google-cloud-bigquery[pandas]) (2019.3)\n",
      "Requirement already satisfied, skipping upgrade: googleapis-common-protos<2.0dev,>=1.6.0 in c:\\users\\pc\\anaconda3\\lib\\site-packages (from google-api-core<2.0dev,>=1.15.0->google-cloud-bigquery[pandas]) (1.51.0)\n",
      "Requirement already satisfied, skipping upgrade: requests<3.0.0dev,>=2.18.0 in c:\\users\\pc\\anaconda3\\lib\\site-packages (from google-api-core<2.0dev,>=1.15.0->google-cloud-bigquery[pandas]) (2.22.0)\n",
      "Requirement already satisfied, skipping upgrade: python-dateutil>=2.6.1 in c:\\users\\pc\\anaconda3\\lib\\site-packages (from pandas>=0.17.1; extra == \"pandas\"->google-cloud-bigquery[pandas]) (2.8.1)\n",
      "Requirement already satisfied, skipping upgrade: numpy>=1.13.3 in c:\\users\\pc\\anaconda3\\lib\\site-packages (from pandas>=0.17.1; extra == \"pandas\"->google-cloud-bigquery[pandas]) (1.18.1)\n",
      "Requirement already satisfied, skipping upgrade: pyasn1<0.5.0,>=0.4.6 in c:\\users\\pc\\anaconda3\\lib\\site-packages (from pyasn1-modules>=0.2.1->google-auth<2.0dev,>=1.9.0->google-cloud-bigquery[pandas]) (0.4.8)\n",
      "Requirement already satisfied, skipping upgrade: idna<2.9,>=2.5 in c:\\users\\pc\\anaconda3\\lib\\site-packages (from requests<3.0.0dev,>=2.18.0->google-api-core<2.0dev,>=1.15.0->google-cloud-bigquery[pandas]) (2.8)\n",
      "Requirement already satisfied, skipping upgrade: urllib3!=1.25.0,!=1.25.1,<1.26,>=1.21.1 in c:\\users\\pc\\anaconda3\\lib\\site-packages (from requests<3.0.0dev,>=2.18.0->google-api-core<2.0dev,>=1.15.0->google-cloud-bigquery[pandas]) (1.25.8)\n",
      "Requirement already satisfied, skipping upgrade: chardet<3.1.0,>=3.0.2 in c:\\users\\pc\\anaconda3\\lib\\site-packages (from requests<3.0.0dev,>=2.18.0->google-api-core<2.0dev,>=1.15.0->google-cloud-bigquery[pandas]) (3.0.4)\n",
      "Requirement already satisfied, skipping upgrade: certifi>=2017.4.17 in c:\\users\\pc\\anaconda3\\lib\\site-packages (from requests<3.0.0dev,>=2.18.0->google-api-core<2.0dev,>=1.15.0->google-cloud-bigquery[pandas]) (2019.11.28)\n",
      "Note: you may need to restart the kernel to use updated packages.\n"
     ]
    }
   ],
   "source": [
    "pip install --upgrade google-cloud-bigquery[pandas]"
   ]
  },
  {
   "cell_type": "code",
   "execution_count": 3,
   "metadata": {},
   "outputs": [],
   "source": [
    "%load_ext google.cloud.bigquery"
   ]
  },
  {
   "cell_type": "code",
   "execution_count": 4,
   "metadata": {},
   "outputs": [],
   "source": [
    "# set GOOGLE_APPLICATION_CREDENTIALS to serveice account that was created by me\n",
    "import os\n",
    "os.environ[\"GOOGLE_APPLICATION_CREDENTIALS\"]=\"korsunkonserv.json\""
   ]
  },
  {
   "cell_type": "markdown",
   "metadata": {},
   "source": [
    "# Now we can use SQL query directly from jupiter notebook and save it as pandas dataframes. It this query we will investigate connection between stringency index and deaths. We hope to find negative correlation(when stringency index increased deaths have to decrease).\n",
    "Stringency index -nine-point aggregation of the eight containment and closure indicators as well as H1 (public information campaigns). It reports a number between 0 to 100 that reflects the overall stringency of the governments response. This is a measure of how many of the these nine indicators (mostly around social isolation) a government has acted upon, and to what degree."
   ]
  },
  {
   "cell_type": "code",
   "execution_count": 5,
   "metadata": {},
   "outputs": [],
   "source": [
    "%%bigquery str_covid\n",
    "SELECT country_name,stringency_index,confirmed_cases,deaths\n",
    "FROM `bigquery-public-data.covid19_govt_response.oxford_policy_tracker` \n",
    "WHERE date='2020-05-20'\n"
   ]
  },
  {
   "cell_type": "code",
   "execution_count": 6,
   "metadata": {},
   "outputs": [
    {
     "data": {
      "text/html": [
       "<div>\n",
       "<style scoped>\n",
       "    .dataframe tbody tr th:only-of-type {\n",
       "        vertical-align: middle;\n",
       "    }\n",
       "\n",
       "    .dataframe tbody tr th {\n",
       "        vertical-align: top;\n",
       "    }\n",
       "\n",
       "    .dataframe thead th {\n",
       "        text-align: right;\n",
       "    }\n",
       "</style>\n",
       "<table border=\"1\" class=\"dataframe\">\n",
       "  <thead>\n",
       "    <tr style=\"text-align: right;\">\n",
       "      <th></th>\n",
       "      <th>country_name</th>\n",
       "      <th>stringency_index</th>\n",
       "      <th>confirmed_cases</th>\n",
       "      <th>deaths</th>\n",
       "    </tr>\n",
       "  </thead>\n",
       "  <tbody>\n",
       "    <tr>\n",
       "      <th>0</th>\n",
       "      <td>Angola</td>\n",
       "      <td>81.61</td>\n",
       "      <td>50.0</td>\n",
       "      <td>2.0</td>\n",
       "    </tr>\n",
       "    <tr>\n",
       "      <th>1</th>\n",
       "      <td>Albania</td>\n",
       "      <td>88.36</td>\n",
       "      <td>949.0</td>\n",
       "      <td>31.0</td>\n",
       "    </tr>\n",
       "    <tr>\n",
       "      <th>2</th>\n",
       "      <td>United Arab Emirates</td>\n",
       "      <td>77.78</td>\n",
       "      <td>25063.0</td>\n",
       "      <td>227.0</td>\n",
       "    </tr>\n",
       "    <tr>\n",
       "      <th>3</th>\n",
       "      <td>Argentina</td>\n",
       "      <td>91.54</td>\n",
       "      <td>8796.0</td>\n",
       "      <td>393.0</td>\n",
       "    </tr>\n",
       "    <tr>\n",
       "      <th>4</th>\n",
       "      <td>Burundi</td>\n",
       "      <td>22.22</td>\n",
       "      <td>42.0</td>\n",
       "      <td>1.0</td>\n",
       "    </tr>\n",
       "  </tbody>\n",
       "</table>\n",
       "</div>"
      ],
      "text/plain": [
       "           country_name  stringency_index  confirmed_cases  deaths\n",
       "0                Angola             81.61             50.0     2.0\n",
       "1               Albania             88.36            949.0    31.0\n",
       "2  United Arab Emirates             77.78          25063.0   227.0\n",
       "3             Argentina             91.54           8796.0   393.0\n",
       "4               Burundi             22.22             42.0     1.0"
      ]
     },
     "execution_count": 6,
     "metadata": {},
     "output_type": "execute_result"
    }
   ],
   "source": [
    "str_covid.head()"
   ]
  },
  {
   "cell_type": "code",
   "execution_count": 7,
   "metadata": {},
   "outputs": [
    {
     "name": "stdout",
     "output_type": "stream",
     "text": [
      "<class 'pandas.core.frame.DataFrame'>\n",
      "RangeIndex: 166 entries, 0 to 165\n",
      "Data columns (total 4 columns):\n",
      " #   Column            Non-Null Count  Dtype  \n",
      "---  ------            --------------  -----  \n",
      " 0   country_name      166 non-null    object \n",
      " 1   stringency_index  165 non-null    float64\n",
      " 2   confirmed_cases   165 non-null    float64\n",
      " 3   deaths            165 non-null    float64\n",
      "dtypes: float64(3), object(1)\n",
      "memory usage: 5.3+ KB\n"
     ]
    }
   ],
   "source": [
    "# inspect dtypes\n",
    "str_covid.info()"
   ]
  },
  {
   "cell_type": "code",
   "execution_count": 8,
   "metadata": {},
   "outputs": [],
   "source": [
    "#Find rows with Nan\n",
    "is_NaN = str_covid.isnull()\n",
    "row_has_NaN = is_NaN.any(axis=1)\n",
    "rows_with_NaN = str_covid[row_has_NaN]"
   ]
  },
  {
   "cell_type": "code",
   "execution_count": 9,
   "metadata": {},
   "outputs": [
    {
     "name": "stdout",
     "output_type": "stream",
     "text": [
      "        country_name  stringency_index  confirmed_cases  deaths\n",
      "48         Lithuania               NaN           1562.0    60.0\n",
      "113  Solomon Islands             50.41              NaN     NaN\n"
     ]
    }
   ],
   "source": [
    "# It is better to fill nan with zero in case of Solomon Islands, because there are no confirmed cases there. \n",
    "#And we should drop Lithuania,because we don't have  stringency_index for this country,aand it is certanly not zero\n",
    "print(rows_with_NaN)"
   ]
  },
  {
   "cell_type": "code",
   "execution_count": 10,
   "metadata": {},
   "outputs": [],
   "source": [
    "#fill nan with zero\n",
    "str_covid=str_covid.fillna(0)"
   ]
  },
  {
   "cell_type": "code",
   "execution_count": 11,
   "metadata": {},
   "outputs": [],
   "source": [
    "#drop Lithuania\n",
    "str_covid=str_covid.drop(54)"
   ]
  },
  {
   "cell_type": "code",
   "execution_count": 12,
   "metadata": {},
   "outputs": [
    {
     "name": "stdout",
     "output_type": "stream",
     "text": [
      "<class 'pandas.core.frame.DataFrame'>\n",
      "Int64Index: 165 entries, 0 to 165\n",
      "Data columns (total 4 columns):\n",
      " #   Column            Non-Null Count  Dtype  \n",
      "---  ------            --------------  -----  \n",
      " 0   country_name      165 non-null    object \n",
      " 1   stringency_index  165 non-null    float64\n",
      " 2   confirmed_cases   165 non-null    float64\n",
      " 3   deaths            165 non-null    float64\n",
      "dtypes: float64(3), object(1)\n",
      "memory usage: 6.4+ KB\n"
     ]
    }
   ],
   "source": [
    "str_covid.info()"
   ]
  },
  {
   "cell_type": "code",
   "execution_count": 50,
   "metadata": {},
   "outputs": [
    {
     "name": "stderr",
     "output_type": "stream",
     "text": [
      "'c' argument looks like a single numeric RGB or RGBA sequence, which should be avoided as value-mapping will have precedence in case its length matches with 'x' & 'y'.  Please use a 2-D array with a single row if you really want to specify the same RGB or RGBA value for all points.\n"
     ]
    },
    {
     "data": {
      "text/plain": [
       "<matplotlib.axes._subplots.AxesSubplot at 0x258e0f1c448>"
      ]
     },
     "execution_count": 50,
     "metadata": {},
     "output_type": "execute_result"
    },
    {
     "data": {
      "image/png": "[encoded data removed]",
      "text/plain": [
       "<Figure size 576x396 with 1 Axes>"
      ]
     },
     "metadata": {},
     "output_type": "display_data"
    }
   ],
   "source": [
    "str_covid.plot.scatter(x='stringency_index', y='confirmed_cases')"
   ]
  },
  {
   "cell_type": "code",
   "execution_count": 15,
   "metadata": {},
   "outputs": [
    {
     "data": {
      "text/plain": [
       "<seaborn.axisgrid.FacetGrid at 0x1ac932e65c8>"
      ]
     },
     "execution_count": 15,
     "metadata": {},
     "output_type": "execute_result"
    },
    {
     "data": {
      "image/png": "[encoded data removed]",
      "text/plain": [
       "<Figure size 360x360 with 1 Axes>"
      ]
     },
     "metadata": {
      "needs_background": "light"
     },
     "output_type": "display_data"
    }
   ],
   "source": [
    "# Here we cannot see clear correlation between stringency index and confirmed cases\n",
    "ax=sns.lmplot(x='stringency_index', y='confirmed_cases',data=str_covid)\n",
    "ax.set_xlabels('stringency_index')\n",
    "ax.set_ylabels('confirmed_cases')"
   ]
  },
  {
   "cell_type": "code",
   "execution_count": 17,
   "metadata": {},
   "outputs": [
    {
     "data": {
      "text/html": [
       "<div>\n",
       "<style scoped>\n",
       "    .dataframe tbody tr th:only-of-type {\n",
       "        vertical-align: middle;\n",
       "    }\n",
       "\n",
       "    .dataframe tbody tr th {\n",
       "        vertical-align: top;\n",
       "    }\n",
       "\n",
       "    .dataframe thead th {\n",
       "        text-align: right;\n",
       "    }\n",
       "</style>\n",
       "<table border=\"1\" class=\"dataframe\">\n",
       "  <thead>\n",
       "    <tr style=\"text-align: right;\">\n",
       "      <th></th>\n",
       "      <th>stringency_index</th>\n",
       "      <th>confirmed_cases</th>\n",
       "      <th>deaths</th>\n",
       "    </tr>\n",
       "  </thead>\n",
       "  <tbody>\n",
       "    <tr>\n",
       "      <th>stringency_index</th>\n",
       "      <td>1.000000</td>\n",
       "      <td>-0.013132</td>\n",
       "      <td>-0.010627</td>\n",
       "    </tr>\n",
       "    <tr>\n",
       "      <th>confirmed_cases</th>\n",
       "      <td>-0.013132</td>\n",
       "      <td>1.000000</td>\n",
       "      <td>0.930097</td>\n",
       "    </tr>\n",
       "    <tr>\n",
       "      <th>deaths</th>\n",
       "      <td>-0.010627</td>\n",
       "      <td>0.930097</td>\n",
       "      <td>1.000000</td>\n",
       "    </tr>\n",
       "  </tbody>\n",
       "</table>\n",
       "</div>"
      ],
      "text/plain": [
       "                  stringency_index  confirmed_cases    deaths\n",
       "stringency_index          1.000000        -0.013132 -0.010627\n",
       "confirmed_cases          -0.013132         1.000000  0.930097\n",
       "deaths                   -0.010627         0.930097  1.000000"
      ]
     },
     "execution_count": 17,
     "metadata": {},
     "output_type": "execute_result"
    }
   ],
   "source": [
    "str_covid.corr().head()"
   ]
  },
  {
   "cell_type": "code",
   "execution_count": 18,
   "metadata": {},
   "outputs": [
    {
     "data": {
      "image/png": "[encoded data removed]",
      "text/plain": [
       "<Figure size 432x288 with 2 Axes>"
      ]
     },
     "metadata": {
      "needs_background": "light"
     },
     "output_type": "display_data"
    }
   ],
   "source": [
    "#plot correl matrix. Also no correlation. \n",
    "corrMatrix = str_covid.corr()\n",
    "sns.heatmap(corrMatrix, annot=True)\n",
    "plt.show()"
   ]
  },
  {
   "cell_type": "markdown",
   "metadata": {},
   "source": [
    "Generally it dont mean anything because there are real ploblems in counting cases and deaths from covid in different countries. For example in Russia there is suspiciously low deaths rating,same situation in Belarus. I am doing this research mostly in educational purposes(train clustering and SQL)."
   ]
  },
  {
   "cell_type": "code",
   "execution_count": 20,
   "metadata": {},
   "outputs": [],
   "source": [
    "# Now we will use clustering to detrmine groups of countries based on covid situation\n",
    "from pycaret.clustering import *"
   ]
  },
  {
   "cell_type": "code",
   "execution_count": 22,
   "metadata": {},
   "outputs": [
    {
     "name": "stdout",
     "output_type": "stream",
     "text": [
      "\n",
      "Setup Succesfully Completed!\n"
     ]
    },
    {
     "data": {
      "text/html": [
       "<style  type=\"text/css\" >\n",
       "    #T_340ad6e2_9c02_11ea_81bb_b42e996eeb4drow10_col1 {\n",
       "            background-color:  lightgreen;\n",
       "        }</style><table id=\"T_340ad6e2_9c02_11ea_81bb_b42e996eeb4d\" ><thead>    <tr>        <th class=\"blank level0\" ></th>        <th class=\"col_heading level0 col0\" >Description</th>        <th class=\"col_heading level0 col1\" >Value</th>    </tr></thead><tbody>\n",
       "                <tr>\n",
       "                        <th id=\"T_340ad6e2_9c02_11ea_81bb_b42e996eeb4dlevel0_row0\" class=\"row_heading level0 row0\" >0</th>\n",
       "                        <td id=\"T_340ad6e2_9c02_11ea_81bb_b42e996eeb4drow0_col0\" class=\"data row0 col0\" >session_id </td>\n",
       "                        <td id=\"T_340ad6e2_9c02_11ea_81bb_b42e996eeb4drow0_col1\" class=\"data row0 col1\" >1433</td>\n",
       "            </tr>\n",
       "            <tr>\n",
       "                        <th id=\"T_340ad6e2_9c02_11ea_81bb_b42e996eeb4dlevel0_row1\" class=\"row_heading level0 row1\" >1</th>\n",
       "                        <td id=\"T_340ad6e2_9c02_11ea_81bb_b42e996eeb4drow1_col0\" class=\"data row1 col0\" >Original Data </td>\n",
       "                        <td id=\"T_340ad6e2_9c02_11ea_81bb_b42e996eeb4drow1_col1\" class=\"data row1 col1\" >(165, 4)</td>\n",
       "            </tr>\n",
       "            <tr>\n",
       "                        <th id=\"T_340ad6e2_9c02_11ea_81bb_b42e996eeb4dlevel0_row2\" class=\"row_heading level0 row2\" >2</th>\n",
       "                        <td id=\"T_340ad6e2_9c02_11ea_81bb_b42e996eeb4drow2_col0\" class=\"data row2 col0\" >Missing Values </td>\n",
       "                        <td id=\"T_340ad6e2_9c02_11ea_81bb_b42e996eeb4drow2_col1\" class=\"data row2 col1\" >False</td>\n",
       "            </tr>\n",
       "            <tr>\n",
       "                        <th id=\"T_340ad6e2_9c02_11ea_81bb_b42e996eeb4dlevel0_row3\" class=\"row_heading level0 row3\" >3</th>\n",
       "                        <td id=\"T_340ad6e2_9c02_11ea_81bb_b42e996eeb4drow3_col0\" class=\"data row3 col0\" >Numeric Features </td>\n",
       "                        <td id=\"T_340ad6e2_9c02_11ea_81bb_b42e996eeb4drow3_col1\" class=\"data row3 col1\" >3</td>\n",
       "            </tr>\n",
       "            <tr>\n",
       "                        <th id=\"T_340ad6e2_9c02_11ea_81bb_b42e996eeb4dlevel0_row4\" class=\"row_heading level0 row4\" >4</th>\n",
       "                        <td id=\"T_340ad6e2_9c02_11ea_81bb_b42e996eeb4drow4_col0\" class=\"data row4 col0\" >Categorical Features </td>\n",
       "                        <td id=\"T_340ad6e2_9c02_11ea_81bb_b42e996eeb4drow4_col1\" class=\"data row4 col1\" >1</td>\n",
       "            </tr>\n",
       "            <tr>\n",
       "                        <th id=\"T_340ad6e2_9c02_11ea_81bb_b42e996eeb4dlevel0_row5\" class=\"row_heading level0 row5\" >5</th>\n",
       "                        <td id=\"T_340ad6e2_9c02_11ea_81bb_b42e996eeb4drow5_col0\" class=\"data row5 col0\" >Ordinal Features </td>\n",
       "                        <td id=\"T_340ad6e2_9c02_11ea_81bb_b42e996eeb4drow5_col1\" class=\"data row5 col1\" >False</td>\n",
       "            </tr>\n",
       "            <tr>\n",
       "                        <th id=\"T_340ad6e2_9c02_11ea_81bb_b42e996eeb4dlevel0_row6\" class=\"row_heading level0 row6\" >6</th>\n",
       "                        <td id=\"T_340ad6e2_9c02_11ea_81bb_b42e996eeb4drow6_col0\" class=\"data row6 col0\" >High Cardinality Features </td>\n",
       "                        <td id=\"T_340ad6e2_9c02_11ea_81bb_b42e996eeb4drow6_col1\" class=\"data row6 col1\" >False</td>\n",
       "            </tr>\n",
       "            <tr>\n",
       "                        <th id=\"T_340ad6e2_9c02_11ea_81bb_b42e996eeb4dlevel0_row7\" class=\"row_heading level0 row7\" >7</th>\n",
       "                        <td id=\"T_340ad6e2_9c02_11ea_81bb_b42e996eeb4drow7_col0\" class=\"data row7 col0\" >Transformed Data </td>\n",
       "                        <td id=\"T_340ad6e2_9c02_11ea_81bb_b42e996eeb4drow7_col1\" class=\"data row7 col1\" >(165, 168)</td>\n",
       "            </tr>\n",
       "            <tr>\n",
       "                        <th id=\"T_340ad6e2_9c02_11ea_81bb_b42e996eeb4dlevel0_row8\" class=\"row_heading level0 row8\" >8</th>\n",
       "                        <td id=\"T_340ad6e2_9c02_11ea_81bb_b42e996eeb4drow8_col0\" class=\"data row8 col0\" >Numeric Imputer </td>\n",
       "                        <td id=\"T_340ad6e2_9c02_11ea_81bb_b42e996eeb4drow8_col1\" class=\"data row8 col1\" >mean</td>\n",
       "            </tr>\n",
       "            <tr>\n",
       "                        <th id=\"T_340ad6e2_9c02_11ea_81bb_b42e996eeb4dlevel0_row9\" class=\"row_heading level0 row9\" >9</th>\n",
       "                        <td id=\"T_340ad6e2_9c02_11ea_81bb_b42e996eeb4drow9_col0\" class=\"data row9 col0\" >Categorical Imputer </td>\n",
       "                        <td id=\"T_340ad6e2_9c02_11ea_81bb_b42e996eeb4drow9_col1\" class=\"data row9 col1\" >constant</td>\n",
       "            </tr>\n",
       "            <tr>\n",
       "                        <th id=\"T_340ad6e2_9c02_11ea_81bb_b42e996eeb4dlevel0_row10\" class=\"row_heading level0 row10\" >10</th>\n",
       "                        <td id=\"T_340ad6e2_9c02_11ea_81bb_b42e996eeb4drow10_col0\" class=\"data row10 col0\" >Normalize </td>\n",
       "                        <td id=\"T_340ad6e2_9c02_11ea_81bb_b42e996eeb4drow10_col1\" class=\"data row10 col1\" >True</td>\n",
       "            </tr>\n",
       "            <tr>\n",
       "                        <th id=\"T_340ad6e2_9c02_11ea_81bb_b42e996eeb4dlevel0_row11\" class=\"row_heading level0 row11\" >11</th>\n",
       "                        <td id=\"T_340ad6e2_9c02_11ea_81bb_b42e996eeb4drow11_col0\" class=\"data row11 col0\" >Normalize Method </td>\n",
       "                        <td id=\"T_340ad6e2_9c02_11ea_81bb_b42e996eeb4drow11_col1\" class=\"data row11 col1\" >zscore</td>\n",
       "            </tr>\n",
       "            <tr>\n",
       "                        <th id=\"T_340ad6e2_9c02_11ea_81bb_b42e996eeb4dlevel0_row12\" class=\"row_heading level0 row12\" >12</th>\n",
       "                        <td id=\"T_340ad6e2_9c02_11ea_81bb_b42e996eeb4drow12_col0\" class=\"data row12 col0\" >Transformation </td>\n",
       "                        <td id=\"T_340ad6e2_9c02_11ea_81bb_b42e996eeb4drow12_col1\" class=\"data row12 col1\" >False</td>\n",
       "            </tr>\n",
       "            <tr>\n",
       "                        <th id=\"T_340ad6e2_9c02_11ea_81bb_b42e996eeb4dlevel0_row13\" class=\"row_heading level0 row13\" >13</th>\n",
       "                        <td id=\"T_340ad6e2_9c02_11ea_81bb_b42e996eeb4drow13_col0\" class=\"data row13 col0\" >Transformation Method </td>\n",
       "                        <td id=\"T_340ad6e2_9c02_11ea_81bb_b42e996eeb4drow13_col1\" class=\"data row13 col1\" >None</td>\n",
       "            </tr>\n",
       "            <tr>\n",
       "                        <th id=\"T_340ad6e2_9c02_11ea_81bb_b42e996eeb4dlevel0_row14\" class=\"row_heading level0 row14\" >14</th>\n",
       "                        <td id=\"T_340ad6e2_9c02_11ea_81bb_b42e996eeb4drow14_col0\" class=\"data row14 col0\" >PCA </td>\n",
       "                        <td id=\"T_340ad6e2_9c02_11ea_81bb_b42e996eeb4drow14_col1\" class=\"data row14 col1\" >False</td>\n",
       "            </tr>\n",
       "            <tr>\n",
       "                        <th id=\"T_340ad6e2_9c02_11ea_81bb_b42e996eeb4dlevel0_row15\" class=\"row_heading level0 row15\" >15</th>\n",
       "                        <td id=\"T_340ad6e2_9c02_11ea_81bb_b42e996eeb4drow15_col0\" class=\"data row15 col0\" >PCA Method </td>\n",
       "                        <td id=\"T_340ad6e2_9c02_11ea_81bb_b42e996eeb4drow15_col1\" class=\"data row15 col1\" >None</td>\n",
       "            </tr>\n",
       "            <tr>\n",
       "                        <th id=\"T_340ad6e2_9c02_11ea_81bb_b42e996eeb4dlevel0_row16\" class=\"row_heading level0 row16\" >16</th>\n",
       "                        <td id=\"T_340ad6e2_9c02_11ea_81bb_b42e996eeb4drow16_col0\" class=\"data row16 col0\" >PCA components </td>\n",
       "                        <td id=\"T_340ad6e2_9c02_11ea_81bb_b42e996eeb4drow16_col1\" class=\"data row16 col1\" >None</td>\n",
       "            </tr>\n",
       "            <tr>\n",
       "                        <th id=\"T_340ad6e2_9c02_11ea_81bb_b42e996eeb4dlevel0_row17\" class=\"row_heading level0 row17\" >17</th>\n",
       "                        <td id=\"T_340ad6e2_9c02_11ea_81bb_b42e996eeb4drow17_col0\" class=\"data row17 col0\" >Ignore Low Variance </td>\n",
       "                        <td id=\"T_340ad6e2_9c02_11ea_81bb_b42e996eeb4drow17_col1\" class=\"data row17 col1\" >False</td>\n",
       "            </tr>\n",
       "            <tr>\n",
       "                        <th id=\"T_340ad6e2_9c02_11ea_81bb_b42e996eeb4dlevel0_row18\" class=\"row_heading level0 row18\" >18</th>\n",
       "                        <td id=\"T_340ad6e2_9c02_11ea_81bb_b42e996eeb4drow18_col0\" class=\"data row18 col0\" >Combine Rare Levels </td>\n",
       "                        <td id=\"T_340ad6e2_9c02_11ea_81bb_b42e996eeb4drow18_col1\" class=\"data row18 col1\" >False</td>\n",
       "            </tr>\n",
       "            <tr>\n",
       "                        <th id=\"T_340ad6e2_9c02_11ea_81bb_b42e996eeb4dlevel0_row19\" class=\"row_heading level0 row19\" >19</th>\n",
       "                        <td id=\"T_340ad6e2_9c02_11ea_81bb_b42e996eeb4drow19_col0\" class=\"data row19 col0\" >Rare Level Threshold </td>\n",
       "                        <td id=\"T_340ad6e2_9c02_11ea_81bb_b42e996eeb4drow19_col1\" class=\"data row19 col1\" >None</td>\n",
       "            </tr>\n",
       "            <tr>\n",
       "                        <th id=\"T_340ad6e2_9c02_11ea_81bb_b42e996eeb4dlevel0_row20\" class=\"row_heading level0 row20\" >20</th>\n",
       "                        <td id=\"T_340ad6e2_9c02_11ea_81bb_b42e996eeb4drow20_col0\" class=\"data row20 col0\" >Numeric Binning </td>\n",
       "                        <td id=\"T_340ad6e2_9c02_11ea_81bb_b42e996eeb4drow20_col1\" class=\"data row20 col1\" >False</td>\n",
       "            </tr>\n",
       "            <tr>\n",
       "                        <th id=\"T_340ad6e2_9c02_11ea_81bb_b42e996eeb4dlevel0_row21\" class=\"row_heading level0 row21\" >21</th>\n",
       "                        <td id=\"T_340ad6e2_9c02_11ea_81bb_b42e996eeb4drow21_col0\" class=\"data row21 col0\" >Remove Multicollinearity </td>\n",
       "                        <td id=\"T_340ad6e2_9c02_11ea_81bb_b42e996eeb4drow21_col1\" class=\"data row21 col1\" >False</td>\n",
       "            </tr>\n",
       "            <tr>\n",
       "                        <th id=\"T_340ad6e2_9c02_11ea_81bb_b42e996eeb4dlevel0_row22\" class=\"row_heading level0 row22\" >22</th>\n",
       "                        <td id=\"T_340ad6e2_9c02_11ea_81bb_b42e996eeb4drow22_col0\" class=\"data row22 col0\" >Multicollinearity Threshold </td>\n",
       "                        <td id=\"T_340ad6e2_9c02_11ea_81bb_b42e996eeb4drow22_col1\" class=\"data row22 col1\" >None</td>\n",
       "            </tr>\n",
       "            <tr>\n",
       "                        <th id=\"T_340ad6e2_9c02_11ea_81bb_b42e996eeb4dlevel0_row23\" class=\"row_heading level0 row23\" >23</th>\n",
       "                        <td id=\"T_340ad6e2_9c02_11ea_81bb_b42e996eeb4drow23_col0\" class=\"data row23 col0\" >Group Features </td>\n",
       "                        <td id=\"T_340ad6e2_9c02_11ea_81bb_b42e996eeb4drow23_col1\" class=\"data row23 col1\" >False</td>\n",
       "            </tr>\n",
       "    </tbody></table>"
      ],
      "text/plain": [
       "<pandas.io.formats.style.Styler at 0x258d9c9bdc8>"
      ]
     },
     "metadata": {},
     "output_type": "display_data"
    }
   ],
   "source": [
    "clust = setup(str_covid, normalize = True, \n",
    "                                     )"
   ]
  },
  {
   "cell_type": "code",
   "execution_count": 23,
   "metadata": {},
   "outputs": [],
   "source": [
    "# We will use k means clustering\n",
    "kmeans = create_model('kmeans')"
   ]
  },
  {
   "cell_type": "code",
   "execution_count": 24,
   "metadata": {},
   "outputs": [
    {
     "name": "stdout",
     "output_type": "stream",
     "text": [
      "KMeans(algorithm='auto', copy_x=True, init='k-means++', max_iter=300,\n",
      "       n_clusters=4, n_init=10, n_jobs=None, precompute_distances='auto',\n",
      "       random_state=1433, tol=0.0001, verbose=0)\n"
     ]
    }
   ],
   "source": [
    "print(kmeans)"
   ]
  },
  {
   "cell_type": "code",
   "execution_count": 25,
   "metadata": {},
   "outputs": [
    {
     "data": {
      "text/html": [
       "<div>\n",
       "<style scoped>\n",
       "    .dataframe tbody tr th:only-of-type {\n",
       "        vertical-align: middle;\n",
       "    }\n",
       "\n",
       "    .dataframe tbody tr th {\n",
       "        vertical-align: top;\n",
       "    }\n",
       "\n",
       "    .dataframe thead th {\n",
       "        text-align: right;\n",
       "    }\n",
       "</style>\n",
       "<table border=\"1\" class=\"dataframe\">\n",
       "  <thead>\n",
       "    <tr style=\"text-align: right;\">\n",
       "      <th></th>\n",
       "      <th>country_name</th>\n",
       "      <th>stringency_index</th>\n",
       "      <th>confirmed_cases</th>\n",
       "      <th>deaths</th>\n",
       "      <th>Cluster</th>\n",
       "    </tr>\n",
       "  </thead>\n",
       "  <tbody>\n",
       "    <tr>\n",
       "      <th>0</th>\n",
       "      <td>Myanmar</td>\n",
       "      <td>79.24</td>\n",
       "      <td>193.0</td>\n",
       "      <td>6.0</td>\n",
       "      <td>Cluster 1</td>\n",
       "    </tr>\n",
       "    <tr>\n",
       "      <th>1</th>\n",
       "      <td>Seychelles</td>\n",
       "      <td>65.87</td>\n",
       "      <td>11.0</td>\n",
       "      <td>0.0</td>\n",
       "      <td>Cluster 0</td>\n",
       "    </tr>\n",
       "    <tr>\n",
       "      <th>2</th>\n",
       "      <td>Bulgaria</td>\n",
       "      <td>63.89</td>\n",
       "      <td>2292.0</td>\n",
       "      <td>116.0</td>\n",
       "      <td>Cluster 0</td>\n",
       "    </tr>\n",
       "    <tr>\n",
       "      <th>3</th>\n",
       "      <td>Angola</td>\n",
       "      <td>81.61</td>\n",
       "      <td>50.0</td>\n",
       "      <td>2.0</td>\n",
       "      <td>Cluster 1</td>\n",
       "    </tr>\n",
       "    <tr>\n",
       "      <th>4</th>\n",
       "      <td>Albania</td>\n",
       "      <td>88.36</td>\n",
       "      <td>949.0</td>\n",
       "      <td>31.0</td>\n",
       "      <td>Cluster 1</td>\n",
       "    </tr>\n",
       "  </tbody>\n",
       "</table>\n",
       "</div>"
      ],
      "text/plain": [
       "  country_name  stringency_index  confirmed_cases  deaths    Cluster\n",
       "0      Myanmar             79.24            193.0     6.0  Cluster 1\n",
       "1   Seychelles             65.87             11.0     0.0  Cluster 0\n",
       "2     Bulgaria             63.89           2292.0   116.0  Cluster 0\n",
       "3       Angola             81.61             50.0     2.0  Cluster 1\n",
       "4      Albania             88.36            949.0    31.0  Cluster 1"
      ]
     },
     "execution_count": 25,
     "metadata": {},
     "output_type": "execute_result"
    }
   ],
   "source": [
    "kmean_results = assign_model(kmeans)\n",
    "kmean_results.head()"
   ]
  },
  {
   "cell_type": "code",
   "execution_count": 44,
   "metadata": {},
   "outputs": [],
   "source": [
    "cluster3=kmean_results[kmean_results['Cluster']=='Cluster 3']"
   ]
  },
  {
   "cell_type": "code",
   "execution_count": 45,
   "metadata": {},
   "outputs": [
    {
     "data": {
      "text/html": [
       "<div>\n",
       "<style scoped>\n",
       "    .dataframe tbody tr th:only-of-type {\n",
       "        vertical-align: middle;\n",
       "    }\n",
       "\n",
       "    .dataframe tbody tr th {\n",
       "        vertical-align: top;\n",
       "    }\n",
       "\n",
       "    .dataframe thead th {\n",
       "        text-align: right;\n",
       "    }\n",
       "</style>\n",
       "<table border=\"1\" class=\"dataframe\">\n",
       "  <thead>\n",
       "    <tr style=\"text-align: right;\">\n",
       "      <th></th>\n",
       "      <th>country_name</th>\n",
       "      <th>stringency_index</th>\n",
       "      <th>confirmed_cases</th>\n",
       "      <th>deaths</th>\n",
       "      <th>Cluster</th>\n",
       "    </tr>\n",
       "  </thead>\n",
       "  <tbody>\n",
       "    <tr>\n",
       "      <th>33</th>\n",
       "      <td>France</td>\n",
       "      <td>83.46</td>\n",
       "      <td>143427.0</td>\n",
       "      <td>28022.0</td>\n",
       "      <td>Cluster 3</td>\n",
       "    </tr>\n",
       "    <tr>\n",
       "      <th>49</th>\n",
       "      <td>Italy</td>\n",
       "      <td>68.78</td>\n",
       "      <td>226699.0</td>\n",
       "      <td>32169.0</td>\n",
       "      <td>Cluster 3</td>\n",
       "    </tr>\n",
       "    <tr>\n",
       "      <th>105</th>\n",
       "      <td>Brazil</td>\n",
       "      <td>75.15</td>\n",
       "      <td>271628.0</td>\n",
       "      <td>17971.0</td>\n",
       "      <td>Cluster 3</td>\n",
       "    </tr>\n",
       "    <tr>\n",
       "      <th>134</th>\n",
       "      <td>Spain</td>\n",
       "      <td>83.07</td>\n",
       "      <td>232555.0</td>\n",
       "      <td>27888.0</td>\n",
       "      <td>Cluster 3</td>\n",
       "    </tr>\n",
       "    <tr>\n",
       "      <th>136</th>\n",
       "      <td>United Kingdom</td>\n",
       "      <td>73.01</td>\n",
       "      <td>248818.0</td>\n",
       "      <td>35341.0</td>\n",
       "      <td>Cluster 3</td>\n",
       "    </tr>\n",
       "  </tbody>\n",
       "</table>\n",
       "</div>"
      ],
      "text/plain": [
       "       country_name  stringency_index  confirmed_cases   deaths    Cluster\n",
       "33           France             83.46         143427.0  28022.0  Cluster 3\n",
       "49            Italy             68.78         226699.0  32169.0  Cluster 3\n",
       "105          Brazil             75.15         271628.0  17971.0  Cluster 3\n",
       "134           Spain             83.07         232555.0  27888.0  Cluster 3\n",
       "136  United Kingdom             73.01         248818.0  35341.0  Cluster 3"
      ]
     },
     "execution_count": 45,
     "metadata": {},
     "output_type": "execute_result"
    }
   ],
   "source": [
    "cluster3.head()"
   ]
  },
  {
   "cell_type": "code",
   "execution_count": 46,
   "metadata": {},
   "outputs": [
    {
     "data": {
      "text/html": [
       "<div>\n",
       "<style scoped>\n",
       "    .dataframe tbody tr th:only-of-type {\n",
       "        vertical-align: middle;\n",
       "    }\n",
       "\n",
       "    .dataframe tbody tr th {\n",
       "        vertical-align: top;\n",
       "    }\n",
       "\n",
       "    .dataframe thead th {\n",
       "        text-align: right;\n",
       "    }\n",
       "</style>\n",
       "<table border=\"1\" class=\"dataframe\">\n",
       "  <thead>\n",
       "    <tr style=\"text-align: right;\">\n",
       "      <th></th>\n",
       "      <th>country_name</th>\n",
       "      <th>stringency_index</th>\n",
       "      <th>confirmed_cases</th>\n",
       "      <th>deaths</th>\n",
       "      <th>Cluster</th>\n",
       "    </tr>\n",
       "  </thead>\n",
       "  <tbody>\n",
       "    <tr>\n",
       "      <th>0</th>\n",
       "      <td>Myanmar</td>\n",
       "      <td>79.24</td>\n",
       "      <td>193.0</td>\n",
       "      <td>6.0</td>\n",
       "      <td>Cluster 1</td>\n",
       "    </tr>\n",
       "    <tr>\n",
       "      <th>3</th>\n",
       "      <td>Angola</td>\n",
       "      <td>81.61</td>\n",
       "      <td>50.0</td>\n",
       "      <td>2.0</td>\n",
       "      <td>Cluster 1</td>\n",
       "    </tr>\n",
       "    <tr>\n",
       "      <th>4</th>\n",
       "      <td>Albania</td>\n",
       "      <td>88.36</td>\n",
       "      <td>949.0</td>\n",
       "      <td>31.0</td>\n",
       "      <td>Cluster 1</td>\n",
       "    </tr>\n",
       "    <tr>\n",
       "      <th>5</th>\n",
       "      <td>United Arab Emirates</td>\n",
       "      <td>77.78</td>\n",
       "      <td>25063.0</td>\n",
       "      <td>227.0</td>\n",
       "      <td>Cluster 1</td>\n",
       "    </tr>\n",
       "    <tr>\n",
       "      <th>6</th>\n",
       "      <td>Argentina</td>\n",
       "      <td>91.54</td>\n",
       "      <td>8796.0</td>\n",
       "      <td>393.0</td>\n",
       "      <td>Cluster 1</td>\n",
       "    </tr>\n",
       "  </tbody>\n",
       "</table>\n",
       "</div>"
      ],
      "text/plain": [
       "           country_name  stringency_index  confirmed_cases  deaths    Cluster\n",
       "0               Myanmar             79.24            193.0     6.0  Cluster 1\n",
       "3                Angola             81.61             50.0     2.0  Cluster 1\n",
       "4               Albania             88.36            949.0    31.0  Cluster 1\n",
       "5  United Arab Emirates             77.78          25063.0   227.0  Cluster 1\n",
       "6             Argentina             91.54           8796.0   393.0  Cluster 1"
      ]
     },
     "execution_count": 46,
     "metadata": {},
     "output_type": "execute_result"
    }
   ],
   "source": [
    "cluster1=kmean_results[kmean_results['Cluster']=='Cluster 1']\n",
    "cluster1.head()"
   ]
  },
  {
   "cell_type": "code",
   "execution_count": 40,
   "metadata": {},
   "outputs": [
    {
     "data": {
      "text/html": [
       "        <script type=\"text/javascript\">\n",
       "        window.PlotlyConfig = {MathJaxConfig: 'local'};\n",
       "        if (window.MathJax) {MathJax.Hub.Config({SVG: {font: \"STIX-Web\"}});}\n",
       "        if (typeof require !== 'undefined') {\n",
       "        require.undef(\"plotly\");\n",
       "        requirejs.config({\n",
       "            paths: {\n",
       "                'plotly': ['https://cdn.plot.ly/plotly-latest.min']\n",
       "            }\n",
       "        });\n",
       "        require(['plotly'], function(Plotly) {\n",
       "            window._Plotly = Plotly;\n",
       "        });\n",
       "        }\n",
       "        </script>\n",
       "        "
      ]
     },
     "metadata": {},
     "output_type": "display_data"
    },
    {
     "data": {
      "application/vnd.plotly.v1+json": {
       "config": {
        "plotlyServerURL": "https://plot.ly"
       },
       "data": [
        {
         "customdata": [
          [
           193
          ],
          [
           11
          ],
          [
           2292
          ],
          [
           50
          ],
          [
           949
          ],
          [
           25063
          ],
          [
           8796
          ],
          [
           42
          ],
          [
           55791
          ],
          [
           806
          ],
          [
           25121
          ],
          [
           2319
          ],
          [
           31508
          ],
          [
           18
          ],
          [
           125
          ],
          [
           90
          ],
          [
           25
          ],
          [
           79101
          ],
          [
           30535
          ],
          [
           49579
          ],
          [
           84065
          ],
          [
           2153
          ],
          [
           3529
          ],
          [
           1731
          ],
          [
           918
          ],
          [
           8647
          ],
          [
           176007
          ],
          [
           1518
          ],
          [
           13223
          ],
          [
           7377
          ],
          [
           13484
          ],
          [
           1791
          ],
          [
           6399
          ],
          [
           143427
          ],
          [
           1502
          ],
          [
           707
          ],
          [
           6096
          ],
          [
           24
          ],
          [
           2840
          ],
          [
           11
          ],
          [
           2133
          ],
          [
           1055
          ],
          [
           2955
          ],
          [
           3598
          ],
          [
           18496
          ],
          [
           24251
          ],
          [
           124603
          ]
         ],
         "hoverlabel": {
          "namelength": 0
         },
         "hovertemplate": "Cluster=Cluster 0<br>PCA1=%{x}<br>PCA2=%{y}<br>Feature=%{customdata[0]}",
         "legendgroup": "Cluster=Cluster 0",
         "marker": {
          "color": "#636efa",
          "opacity": 0.5,
          "symbol": "circle"
         },
         "mode": "markers",
         "name": "Cluster=Cluster 0",
         "showlegend": true,
         "textposition": "top center",
         "type": "scatter",
         "x": [
          1.0079886097928656,
          -0.2839025219221556,
          -0.23837754935443514,
          -0.2436425570655265,
          -0.27195355755324674,
          -0.27399334396513414,
          -0.26901395703715414,
          -0.28516399621041416,
          -0.2579043574150102,
          -0.30195225680180376,
          -0.23910413801415736,
          -0.17446144854982923,
          -0.23251175744907954,
          -0.28422222956841253,
          -0.18962249919365645,
          -0.22694890440256854,
          -0.26637928103356,
          -0.2898977687991841,
          -0.1423630913043945,
          -0.2728573756224006,
          -0.25725365587515503,
          -0.29906825497532097,
          -0.28967608454645905,
          -0.27586594926096425,
          -0.27742564925656105,
          -0.28046944385187217,
          -0.24807189736728935,
          -0.30396858751554984,
          -0.2777200634912498,
          -0.27666517605905067,
          -0.27780416972387495,
          -0.2673911632407887,
          -0.21315056815471753,
          -0.25663778807043247,
          -0.2873606342788346,
          -0.2252642656842026,
          -0.01019314711243475,
          -0.21844146024557085,
          -0.10426226910101516,
          0.2111074732046491,
          -0.2782385147239431,
          -0.22296403657620759,
          0.6141745449823651,
          -0.2066424475432316,
          -0.27710668868992333,
          -0.3076507367166225,
          0.5445466704043707
         ],
         "xaxis": "x",
         "y": [
          1.5840347771780405,
          1.1024564949634694,
          1.9618119966882868,
          0.5427118050476079,
          1.4427810132606402,
          1.079249529486524,
          0.49732109115078116,
          0.4978415957958325,
          1.8381610402563928,
          0.421023586888722,
          2.140716417394703,
          1.844073970750217,
          0.9064667316560647,
          1.0719716896901252,
          3.744750903542143,
          2.4429039747633485,
          1.5751302645291858,
          0.8082592880707017,
          1.0904672175683432,
          0.5443403526288968,
          0.51977601568274,
          0.6214921177953007,
          0.9243694998819665,
          1.0951330634351493,
          0.9163166814671982,
          0.7223144839400545,
          2.109942332866114,
          0.5372088532938846,
          0.6524072564209205,
          1.2189074830387752,
          0.8072357701873645,
          1.443207634799592,
          3.0940004924332745,
          1.7378339912321823,
          0.7612438937864986,
          2.6756822058869805,
          3.48298874769056,
          0.8990120655767655,
          1.8251343029136806,
          1.6048180724693304,
          1.2424271870302785,
          0.9918446409153655,
          0.394832601869975,
          1.0616704954320457,
          0.4201461980751719,
          0.41300574454371847,
          0.5911085984693557
         ],
         "yaxis": "y"
        },
        {
         "customdata": [
          [
           3611
          ],
          [
           16650
          ],
          [
           226699
          ],
          [
           520
          ],
          [
           1270
          ],
          [
           16764
          ],
          [
           1
          ],
          [
           null
          ],
          [
           3958
          ],
          [
           6340
          ],
          [
           326
          ],
          [
           54346
          ],
          [
           901
          ],
          [
           146
          ],
          [
           81
          ],
          [
           71
          ],
          [
           712
          ],
          [
           914
          ],
          [
           6401
          ],
          [
           25
          ],
          [
           44249
          ],
          [
           402
          ],
          [
           5671
          ],
          [
           99483
          ],
          [
           12942
          ],
          [
           8
          ],
          [
           35606
          ],
          [
           17191
          ],
          [
           308
          ],
          [
           59854
          ],
          [
           2617
          ],
          [
           28794
          ],
          [
           1498
          ],
          [
           1502
          ],
          [
           10733
          ],
          [
           285
          ],
          [
           1495
          ],
          [
           30799
          ],
          [
           208
          ],
          [
           545
          ],
          [
           3034
          ],
          [
           116
          ],
          [
           1044
          ],
          [
           151615
          ],
          [
           509
          ],
          [
           260
          ],
          [
           18876
          ],
          [
           738
          ],
          [
           2880
          ],
          [
           749
          ],
          [
           324
          ],
          [
           167
          ],
          [
           17200
          ],
          [
           772
          ],
          [
           46
          ],
          [
           440
          ],
          [
           21
          ],
          [
           16385
          ],
          [
           271628
          ],
          [
           16935
          ],
          [
           125
          ],
          [
           2805
          ],
          [
           299941
          ],
          [
           0
          ],
          [
           101
          ],
          [
           335
          ],
          [
           649
          ],
          [
           1153
          ],
          [
           534
          ],
          [
           761
          ],
          [
           141
          ],
          [
           882
          ],
          [
           11044
          ],
          [
           11110
          ],
          [
           11
          ],
          [
           7653
          ],
          [
           7068
          ],
          [
           16257
          ],
          [
           3518
          ],
          [
           130
          ],
          [
           7532
          ],
          [
           4481
          ],
          [
           411
          ],
          [
           420
          ],
          [
           1887
          ],
          [
           16
          ],
          [
           34151
          ],
          [
           232555
          ],
          [
           365
          ],
          [
           248818
          ],
          [
           154
          ],
          [
           2232
          ],
          [
           106750
          ],
          [
           1802
          ],
          [
           6969
          ],
          [
           963
          ],
          [
           19
          ],
          [
           954
          ],
          [
           233
          ],
          [
           68
          ],
          [
           1027
          ],
          [
           45
          ],
          [
           7023
          ],
          [
           140
          ],
          [
           332
          ],
          [
           6978
          ],
          [
           8257
          ],
          [
           45898
          ],
          [
           9867
          ],
          [
           19268
          ],
          [
           29432
          ],
          [
           829
          ]
         ],
         "hoverlabel": {
          "namelength": 0
         },
         "hovertemplate": "Cluster=Cluster 1<br>PCA1=%{x}<br>PCA2=%{y}<br>Feature=%{customdata[0]}",
         "legendgroup": "Cluster=Cluster 1",
         "marker": {
          "color": "#EF553B",
          "opacity": 0.5,
          "symbol": "circle"
         },
         "mode": "markers",
         "name": "Cluster=Cluster 1",
         "showlegend": true,
         "textposition": "top center",
         "type": "scatter",
         "x": [
          -0.34364003175721886,
          1.5812266769592633,
          -0.23050282021246934,
          -0.33654525935890317,
          -0.21772209502731113,
          -0.33424176542320516,
          -0.31723693831604055,
          -0.3564167213565941,
          -0.21152200968959334,
          -0.3227893839281144,
          -0.33624117495639627,
          -0.3134048420573727,
          -0.3297025838548444,
          -0.3302077034625549,
          -0.2686953815585604,
          -0.33367139640013277,
          -0.30855896222760454,
          -0.32361974870351157,
          -0.36585169465046713,
          -0.3611029987377235,
          -0.061236315315617185,
          -0.16570989281715406,
          -0.2589434955633651,
          -0.002207656580638679,
          -0.2732512167445349,
          -0.34060340903757325,
          -0.30634405432619555,
          -0.3316177696303065,
          -0.36764227406939,
          -0.32722821056144785,
          -0.3266677103939486,
          -0.35333555072544637,
          -0.2904793792416203,
          0.5373722970893644,
          -0.3107332861594399,
          -0.3230061036200184,
          0.07601786728935389,
          -0.3352285209471923,
          -0.3579111522871766,
          -0.309097903123922,
          -0.3671764871666181,
          -0.31025383559496766,
          -0.32902430687526646,
          -0.30458450639546414,
          -0.3234078724646761,
          -0.3344732010064,
          -0.3413168271923944,
          -0.3205996169689965,
          -0.30927356050634147,
          -0.08743705797976675,
          -0.11205772408469483,
          -0.34642689063653087,
          -0.3539868017999281,
          -0.3352562878822602,
          -0.2923566683334034,
          -0.3430488404565976,
          -0.3578605013915919,
          -0.3369717960558732,
          -0.22280132725064283,
          -0.25158570185044665,
          -0.261287030873237,
          -0.36584025784592933,
          1.3225215254716902,
          -0.327059043142518,
          -0.35628040994348115,
          -0.29887414413673924,
          -0.014019797224038448,
          -0.014515537592272459,
          -0.3290800096512843,
          -0.3144732480503484,
          -0.3322283885907284,
          -0.3476895009136536,
          -0.31213776900926615,
          -0.18837565512301338,
          0.7301252221832525,
          -0.276347230229058,
          -0.17101774385495416,
          -0.34288971340486984,
          -0.3362457306597737,
          -0.3188348245181091,
          -0.22434024405355696,
          -0.3034662987498831,
          -0.3176898526313775,
          -0.20878984491612346,
          -0.35252577742680297,
          0.8506718677244518,
          -0.34022558343962195,
          -0.3598093895940713,
          -0.3130859742472069,
          -0.3389835810581,
          -0.34086646566890855,
          -0.3617936568886723,
          -0.36399135700261975,
          -0.18239283604194453,
          0.009647711428848016,
          -0.31879299423244223,
          -0.13965702494604532,
          -0.22337080369645756,
          -0.15667060463333826,
          -0.3161095510135794,
          -0.32276421812308315,
          -0.271863468664935,
          -0.31854758972566927,
          -0.2902977387628233,
          0.4198663965794147,
          0.4210966657826076,
          -0.34776888787522,
          -0.334540889360713,
          -0.2750443502022403,
          0.3859290380412143,
          -0.36257020607013674,
          -0.31041622498053767
         ],
         "xaxis": "x",
         "y": [
          -1.307633615391989,
          0.13058069055041074,
          -0.8071451278528293,
          -0.42347366122399416,
          -0.03178303235687379,
          -0.33851393984933525,
          0.002811643203762281,
          -0.9582306784976711,
          -0.9245822072914059,
          -0.1524178599676853,
          -0.43169183280901396,
          0.1498814497723617,
          -0.19088075061879142,
          -0.24599170183103983,
          -0.07745460155073244,
          -0.31566166612113666,
          0.2118718432312271,
          -0.6649673703983906,
          -1.3068497533727939,
          -1.2296003815406304,
          -0.10704407942650705,
          -0.7708191119158277,
          -0.3874586823435139,
          -0.42034153312379413,
          0.04763200650057389,
          -0.5705355620914087,
          -1.0760876467907774,
          -0.423638585952431,
          -1.2762941770183454,
          -0.12176340503085202,
          -0.1915764436222698,
          -1.1213809898082259,
          -0.2549572577016502,
          -0.09025422717021106,
          0.31223875182804317,
          -0.06736680098265302,
          -0.648175849089542,
          -0.3461036742085207,
          -1.4625486460279489,
          0.3432671793854754,
          -1.3461007920758736,
          0.2969766952939628,
          -1.3081448786134346,
          -0.6884469434671027,
          -0.6567434470157916,
          -0.5320408925877358,
          -0.6561327817732736,
          -0.22990057115674417,
          0.22715022847404248,
          -0.7583955406893971,
          0.23480751734157237,
          -1.4629558659276056,
          -1.3072603213072462,
          -0.34610274301008526,
          0.040045923854406786,
          -0.5704506290438932,
          -1.1212169006141248,
          -0.6562791471962971,
          -0.807516085030042,
          -0.4352984989621737,
          -1.3497902567205542,
          -1.4622593537922866,
          0.1533849762629694,
          -0.5950350574345944,
          -1.1212715145347074,
          0.2801654775460961,
          -0.23271449387387602,
          0.19387647246742165,
          -0.17624079916118512,
          0.21208122661135517,
          -0.2992915139241418,
          -0.7028321644416022,
          -0.36275528630414383,
          -0.9950666393807216,
          -0.05110129633552159,
          -0.9692524708616568,
          -0.16578095183668468,
          -0.780413446396969,
          -0.38477565939470854,
          -0.29330666091661795,
          -0.4660287444601519,
          -0.3161297494070633,
          0.04915640667854662,
          -1.0020636252145463,
          -0.8727387221810763,
          -0.35615616125419347,
          -0.7570501388593001,
          -1.0742345474476047,
          -0.3239930344445003,
          -0.6644362140018595,
          -0.540028940053434,
          -1.1521646976078765,
          -1.4623291522622528,
          -0.5993030935143934,
          -0.7618377884607055,
          0.07206772613775549,
          -0.12020890030546941,
          -1.14945292119277,
          -0.9262275338350556,
          -0.06761367198235188,
          -0.22337252430695434,
          -1.4654479995643255,
          0.12718543889183437,
          -0.5805013876942137,
          -0.6371673715243,
          -1.3341859752668994,
          -0.9198233631574444,
          -0.3461280336654666,
          -0.0924938283140914,
          -0.12349117379722362,
          -1.1832190047316151,
          -0.595597740971768
         ],
         "yaxis": "y"
        },
        {
         "customdata": [
          [
           570
          ]
         ],
         "hoverlabel": {
          "namelength": 0
         },
         "hovertemplate": "Cluster=Cluster 2<br>PCA1=%{x}<br>PCA2=%{y}<br>Feature=%{customdata[0]}",
         "legendgroup": "Cluster=Cluster 2",
         "marker": {
          "color": "#00cc96",
          "opacity": 0.5,
          "symbol": "circle"
         },
         "mode": "markers",
         "name": "Cluster=Cluster 2",
         "showlegend": true,
         "textposition": "top center",
         "type": "scatter",
         "x": [
          15.686191402042436
         ],
         "xaxis": "x",
         "y": [
          -0.17784688800133305
         ],
         "yaxis": "y"
        },
        {
         "customdata": [
          [
           2591
          ],
          [
           655
          ],
          [
           1467
          ],
          [
           58
          ],
          [
           1528568
          ]
         ],
         "hoverlabel": {
          "namelength": 0
         },
         "hovertemplate": "Cluster=Cluster 3<br>PCA1=%{x}<br>PCA2=%{y}<br>Feature=%{customdata[0]}",
         "legendgroup": "Cluster=Cluster 3",
         "marker": {
          "color": "#ab63fa",
          "opacity": 0.5,
          "symbol": "circle"
         },
         "mode": "markers",
         "name": "Cluster=Cluster 3",
         "showlegend": true,
         "textposition": "top center",
         "type": "scatter",
         "x": [
          2.6527799058085235,
          3.9490744421452857,
          3.229235499798179,
          2.744407215312491,
          3.5759728847684302
         ],
         "xaxis": "x",
         "y": [
          -0.11200698592263819,
          -0.03562073614764292,
          -0.5990247810652476,
          -0.6056803805446932,
          0.22598844144360986
         ],
         "yaxis": "y"
        }
       ],
       "layout": {
        "height": 600,
        "legend": {
         "tracegroupgap": 0
        },
        "margin": {
         "t": 60
        },
        "plot_bgcolor": "rgb(240,240,240)",
        "template": {
         "data": {
          "bar": [
           {
            "error_x": {
             "color": "#2a3f5f"
            },
            "error_y": {
             "color": "#2a3f5f"
            },
            "marker": {
             "line": {
              "color": "#E5ECF6",
              "width": 0.5
             }
            },
            "type": "bar"
           }
          ],
          "barpolar": [
           {
            "marker": {
             "line": {
              "color": "#E5ECF6",
              "width": 0.5
             }
            },
            "type": "barpolar"
           }
          ],
          "carpet": [
           {
            "aaxis": {
             "endlinecolor": "#2a3f5f",
             "gridcolor": "white",
             "linecolor": "white",
             "minorgridcolor": "white",
             "startlinecolor": "#2a3f5f"
            },
            "baxis": {
             "endlinecolor": "#2a3f5f",
             "gridcolor": "white",
             "linecolor": "white",
             "minorgridcolor": "white",
             "startlinecolor": "#2a3f5f"
            },
            "type": "carpet"
           }
          ],
          "choropleth": [
           {
            "colorbar": {
             "outlinewidth": 0,
             "ticks": ""
            },
            "type": "choropleth"
           }
          ],
          "contour": [
           {
            "colorbar": {
             "outlinewidth": 0,
             "ticks": ""
            },
            "colorscale": [
             [
              0,
              "#0d0887"
             ],
             [
              0.1111111111111111,
              "#46039f"
             ],
             [
              0.2222222222222222,
              "#7201a8"
             ],
             [
              0.3333333333333333,
              "#9c179e"
             ],
             [
              0.4444444444444444,
              "#bd3786"
             ],
             [
              0.5555555555555556,
              "#d8576b"
             ],
             [
              0.6666666666666666,
              "#ed7953"
             ],
             [
              0.7777777777777778,
              "#fb9f3a"
             ],
             [
              0.8888888888888888,
              "#fdca26"
             ],
             [
              1,
              "#f0f921"
             ]
            ],
            "type": "contour"
           }
          ],
          "contourcarpet": [
           {
            "colorbar": {
             "outlinewidth": 0,
             "ticks": ""
            },
            "type": "contourcarpet"
           }
          ],
          "heatmap": [
           {
            "colorbar": {
             "outlinewidth": 0,
             "ticks": ""
            },
            "colorscale": [
             [
              0,
              "#0d0887"
             ],
             [
              0.1111111111111111,
              "#46039f"
             ],
             [
              0.2222222222222222,
              "#7201a8"
             ],
             [
              0.3333333333333333,
              "#9c179e"
             ],
             [
              0.4444444444444444,
              "#bd3786"
             ],
             [
              0.5555555555555556,
              "#d8576b"
             ],
             [
              0.6666666666666666,
              "#ed7953"
             ],
             [
              0.7777777777777778,
              "#fb9f3a"
             ],
             [
              0.8888888888888888,
              "#fdca26"
             ],
             [
              1,
              "#f0f921"
             ]
            ],
            "type": "heatmap"
           }
          ],
          "heatmapgl": [
           {
            "colorbar": {
             "outlinewidth": 0,
             "ticks": ""
            },
            "colorscale": [
             [
              0,
              "#0d0887"
             ],
             [
              0.1111111111111111,
              "#46039f"
             ],
             [
              0.2222222222222222,
              "#7201a8"
             ],
             [
              0.3333333333333333,
              "#9c179e"
             ],
             [
              0.4444444444444444,
              "#bd3786"
             ],
             [
              0.5555555555555556,
              "#d8576b"
             ],
             [
              0.6666666666666666,
              "#ed7953"
             ],
             [
              0.7777777777777778,
              "#fb9f3a"
             ],
             [
              0.8888888888888888,
              "#fdca26"
             ],
             [
              1,
              "#f0f921"
             ]
            ],
            "type": "heatmapgl"
           }
          ],
          "histogram": [
           {
            "marker": {
             "colorbar": {
              "outlinewidth": 0,
              "ticks": ""
             }
            },
            "type": "histogram"
           }
          ],
          "histogram2d": [
           {
            "colorbar": {
             "outlinewidth": 0,
             "ticks": ""
            },
            "colorscale": [
             [
              0,
              "#0d0887"
             ],
             [
              0.1111111111111111,
              "#46039f"
             ],
             [
              0.2222222222222222,
              "#7201a8"
             ],
             [
              0.3333333333333333,
              "#9c179e"
             ],
             [
              0.4444444444444444,
              "#bd3786"
             ],
             [
              0.5555555555555556,
              "#d8576b"
             ],
             [
              0.6666666666666666,
              "#ed7953"
             ],
             [
              0.7777777777777778,
              "#fb9f3a"
             ],
             [
              0.8888888888888888,
              "#fdca26"
             ],
             [
              1,
              "#f0f921"
             ]
            ],
            "type": "histogram2d"
           }
          ],
          "histogram2dcontour": [
           {
            "colorbar": {
             "outlinewidth": 0,
             "ticks": ""
            },
            "colorscale": [
             [
              0,
              "#0d0887"
             ],
             [
              0.1111111111111111,
              "#46039f"
             ],
             [
              0.2222222222222222,
              "#7201a8"
             ],
             [
              0.3333333333333333,
              "#9c179e"
             ],
             [
              0.4444444444444444,
              "#bd3786"
             ],
             [
              0.5555555555555556,
              "#d8576b"
             ],
             [
              0.6666666666666666,
              "#ed7953"
             ],
             [
              0.7777777777777778,
              "#fb9f3a"
             ],
             [
              0.8888888888888888,
              "#fdca26"
             ],
             [
              1,
              "#f0f921"
             ]
            ],
            "type": "histogram2dcontour"
           }
          ],
          "mesh3d": [
           {
            "colorbar": {
             "outlinewidth": 0,
             "ticks": ""
            },
            "type": "mesh3d"
           }
          ],
          "parcoords": [
           {
            "line": {
             "colorbar": {
              "outlinewidth": 0,
              "ticks": ""
             }
            },
            "type": "parcoords"
           }
          ],
          "pie": [
           {
            "automargin": true,
            "type": "pie"
           }
          ],
          "scatter": [
           {
            "marker": {
             "colorbar": {
              "outlinewidth": 0,
              "ticks": ""
             }
            },
            "type": "scatter"
           }
          ],
          "scatter3d": [
           {
            "line": {
             "colorbar": {
              "outlinewidth": 0,
              "ticks": ""
             }
            },
            "marker": {
             "colorbar": {
              "outlinewidth": 0,
              "ticks": ""
             }
            },
            "type": "scatter3d"
           }
          ],
          "scattercarpet": [
           {
            "marker": {
             "colorbar": {
              "outlinewidth": 0,
              "ticks": ""
             }
            },
            "type": "scattercarpet"
           }
          ],
          "scattergeo": [
           {
            "marker": {
             "colorbar": {
              "outlinewidth": 0,
              "ticks": ""
             }
            },
            "type": "scattergeo"
           }
          ],
          "scattergl": [
           {
            "marker": {
             "colorbar": {
              "outlinewidth": 0,
              "ticks": ""
             }
            },
            "type": "scattergl"
           }
          ],
          "scattermapbox": [
           {
            "marker": {
             "colorbar": {
              "outlinewidth": 0,
              "ticks": ""
             }
            },
            "type": "scattermapbox"
           }
          ],
          "scatterpolar": [
           {
            "marker": {
             "colorbar": {
              "outlinewidth": 0,
              "ticks": ""
             }
            },
            "type": "scatterpolar"
           }
          ],
          "scatterpolargl": [
           {
            "marker": {
             "colorbar": {
              "outlinewidth": 0,
              "ticks": ""
             }
            },
            "type": "scatterpolargl"
           }
          ],
          "scatterternary": [
           {
            "marker": {
             "colorbar": {
              "outlinewidth": 0,
              "ticks": ""
             }
            },
            "type": "scatterternary"
           }
          ],
          "surface": [
           {
            "colorbar": {
             "outlinewidth": 0,
             "ticks": ""
            },
            "colorscale": [
             [
              0,
              "#0d0887"
             ],
             [
              0.1111111111111111,
              "#46039f"
             ],
             [
              0.2222222222222222,
              "#7201a8"
             ],
             [
              0.3333333333333333,
              "#9c179e"
             ],
             [
              0.4444444444444444,
              "#bd3786"
             ],
             [
              0.5555555555555556,
              "#d8576b"
             ],
             [
              0.6666666666666666,
              "#ed7953"
             ],
             [
              0.7777777777777778,
              "#fb9f3a"
             ],
             [
              0.8888888888888888,
              "#fdca26"
             ],
             [
              1,
              "#f0f921"
             ]
            ],
            "type": "surface"
           }
          ],
          "table": [
           {
            "cells": {
             "fill": {
              "color": "#EBF0F8"
             },
             "line": {
              "color": "white"
             }
            },
            "header": {
             "fill": {
              "color": "#C8D4E3"
             },
             "line": {
              "color": "white"
             }
            },
            "type": "table"
           }
          ]
         },
         "layout": {
          "annotationdefaults": {
           "arrowcolor": "#2a3f5f",
           "arrowhead": 0,
           "arrowwidth": 1
          },
          "coloraxis": {
           "colorbar": {
            "outlinewidth": 0,
            "ticks": ""
           }
          },
          "colorscale": {
           "diverging": [
            [
             0,
             "#8e0152"
            ],
            [
             0.1,
             "#c51b7d"
            ],
            [
             0.2,
             "#de77ae"
            ],
            [
             0.3,
             "#f1b6da"
            ],
            [
             0.4,
             "#fde0ef"
            ],
            [
             0.5,
             "#f7f7f7"
            ],
            [
             0.6,
             "#e6f5d0"
            ],
            [
             0.7,
             "#b8e186"
            ],
            [
             0.8,
             "#7fbc41"
            ],
            [
             0.9,
             "#4d9221"
            ],
            [
             1,
             "#276419"
            ]
           ],
           "sequential": [
            [
             0,
             "#0d0887"
            ],
            [
             0.1111111111111111,
             "#46039f"
            ],
            [
             0.2222222222222222,
             "#7201a8"
            ],
            [
             0.3333333333333333,
             "#9c179e"
            ],
            [
             0.4444444444444444,
             "#bd3786"
            ],
            [
             0.5555555555555556,
             "#d8576b"
            ],
            [
             0.6666666666666666,
             "#ed7953"
            ],
            [
             0.7777777777777778,
             "#fb9f3a"
            ],
            [
             0.8888888888888888,
             "#fdca26"
            ],
            [
             1,
             "#f0f921"
            ]
           ],
           "sequentialminus": [
            [
             0,
             "#0d0887"
            ],
            [
             0.1111111111111111,
             "#46039f"
            ],
            [
             0.2222222222222222,
             "#7201a8"
            ],
            [
             0.3333333333333333,
             "#9c179e"
            ],
            [
             0.4444444444444444,
             "#bd3786"
            ],
            [
             0.5555555555555556,
             "#d8576b"
            ],
            [
             0.6666666666666666,
             "#ed7953"
            ],
            [
             0.7777777777777778,
             "#fb9f3a"
            ],
            [
             0.8888888888888888,
             "#fdca26"
            ],
            [
             1,
             "#f0f921"
            ]
           ]
          },
          "colorway": [
           "#636efa",
           "#EF553B",
           "#00cc96",
           "#ab63fa",
           "#FFA15A",
           "#19d3f3",
           "#FF6692",
           "#B6E880",
           "#FF97FF",
           "#FECB52"
          ],
          "font": {
           "color": "#2a3f5f"
          },
          "geo": {
           "bgcolor": "white",
           "lakecolor": "white",
           "landcolor": "#E5ECF6",
           "showlakes": true,
           "showland": true,
           "subunitcolor": "white"
          },
          "hoverlabel": {
           "align": "left"
          },
          "hovermode": "closest",
          "mapbox": {
           "style": "light"
          },
          "paper_bgcolor": "white",
          "plot_bgcolor": "#E5ECF6",
          "polar": {
           "angularaxis": {
            "gridcolor": "white",
            "linecolor": "white",
            "ticks": ""
           },
           "bgcolor": "#E5ECF6",
           "radialaxis": {
            "gridcolor": "white",
            "linecolor": "white",
            "ticks": ""
           }
          },
          "scene": {
           "xaxis": {
            "backgroundcolor": "#E5ECF6",
            "gridcolor": "white",
            "gridwidth": 2,
            "linecolor": "white",
            "showbackground": true,
            "ticks": "",
            "zerolinecolor": "white"
           },
           "yaxis": {
            "backgroundcolor": "#E5ECF6",
            "gridcolor": "white",
            "gridwidth": 2,
            "linecolor": "white",
            "showbackground": true,
            "ticks": "",
            "zerolinecolor": "white"
           },
           "zaxis": {
            "backgroundcolor": "#E5ECF6",
            "gridcolor": "white",
            "gridwidth": 2,
            "linecolor": "white",
            "showbackground": true,
            "ticks": "",
            "zerolinecolor": "white"
           }
          },
          "shapedefaults": {
           "line": {
            "color": "#2a3f5f"
           }
          },
          "ternary": {
           "aaxis": {
            "gridcolor": "white",
            "linecolor": "white",
            "ticks": ""
           },
           "baxis": {
            "gridcolor": "white",
            "linecolor": "white",
            "ticks": ""
           },
           "bgcolor": "#E5ECF6",
           "caxis": {
            "gridcolor": "white",
            "linecolor": "white",
            "ticks": ""
           }
          },
          "title": {
           "x": 0.05
          },
          "xaxis": {
           "automargin": true,
           "gridcolor": "white",
           "linecolor": "white",
           "ticks": "",
           "title": {
            "standoff": 15
           },
           "zerolinecolor": "white",
           "zerolinewidth": 2
          },
          "yaxis": {
           "automargin": true,
           "gridcolor": "white",
           "linecolor": "white",
           "ticks": "",
           "title": {
            "standoff": 15
           },
           "zerolinecolor": "white",
           "zerolinewidth": 2
          }
         }
        },
        "title": {
         "text": "2D Cluster PCA Plot"
        },
        "xaxis": {
         "anchor": "y",
         "domain": [
          0,
          1
         ],
         "title": {
          "text": "PCA1"
         }
        },
        "yaxis": {
         "anchor": "x",
         "domain": [
          0,
          1
         ],
         "title": {
          "text": "PCA2"
         }
        }
       }
      },
      "text/html": [
       "<div>\n",
       "        \n",
       "        \n",
       "            <div id=\"7128e1bb-b551-4e83-9938-d1f781ad3243\" class=\"plotly-graph-div\" style=\"height:600px; width:100%;\"></div>\n",
       "            <script type=\"text/javascript\">\n",
       "                require([\"plotly\"], function(Plotly) {\n",
       "                    window.PLOTLYENV=window.PLOTLYENV || {};\n",
       "                    \n",
       "                if (document.getElementById(\"7128e1bb-b551-4e83-9938-d1f781ad3243\")) {\n",
       "                    Plotly.newPlot(\n",
       "                        '7128e1bb-b551-4e83-9938-d1f781ad3243',\n",
       "                        [{\"customdata\": [[193.0], [11.0], [2292.0], [50.0], [949.0], [25063.0], [8796.0], [42.0], [55791.0], [806.0], [25121.0], [2319.0], [31508.0], [18.0], [125.0], [90.0], [25.0], [79101.0], [30535.0], [49579.0], [84065.0], [2153.0], [3529.0], [1731.0], [918.0], [8647.0], [176007.0], [1518.0], [13223.0], [7377.0], [13484.0], [1791.0], [6399.0], [143427.0], [1502.0], [707.0], [6096.0], [24.0], [2840.0], [11.0], [2133.0], [1055.0], [2955.0], [3598.0], [18496.0], [24251.0], [124603.0]], \"hoverlabel\": {\"namelength\": 0}, \"hovertemplate\": \"Cluster=Cluster 0<br>PCA1=%{x}<br>PCA2=%{y}<br>Feature=%{customdata[0]}\", \"legendgroup\": \"Cluster=Cluster 0\", \"marker\": {\"color\": \"#636efa\", \"opacity\": 0.5, \"symbol\": \"circle\"}, \"mode\": \"markers\", \"name\": \"Cluster=Cluster 0\", \"showlegend\": true, \"textposition\": \"top center\", \"type\": \"scatter\", \"x\": [1.0079886097928656, -0.2839025219221556, -0.23837754935443514, -0.2436425570655265, -0.27195355755324674, -0.27399334396513414, -0.26901395703715414, -0.28516399621041416, -0.2579043574150102, -0.30195225680180376, -0.23910413801415736, -0.17446144854982923, -0.23251175744907954, -0.28422222956841253, -0.18962249919365645, -0.22694890440256854, -0.26637928103356, -0.2898977687991841, -0.1423630913043945, -0.2728573756224006, -0.25725365587515503, -0.29906825497532097, -0.28967608454645905, -0.27586594926096425, -0.27742564925656105, -0.28046944385187217, -0.24807189736728935, -0.30396858751554984, -0.2777200634912498, -0.27666517605905067, -0.27780416972387495, -0.2673911632407887, -0.21315056815471753, -0.25663778807043247, -0.2873606342788346, -0.2252642656842026, -0.01019314711243475, -0.21844146024557085, -0.10426226910101516, 0.2111074732046491, -0.2782385147239431, -0.22296403657620759, 0.6141745449823651, -0.2066424475432316, -0.27710668868992333, -0.3076507367166225, 0.5445466704043707], \"xaxis\": \"x\", \"y\": [1.5840347771780405, 1.1024564949634694, 1.9618119966882868, 0.5427118050476079, 1.4427810132606402, 1.079249529486524, 0.49732109115078116, 0.4978415957958325, 1.8381610402563928, 0.421023586888722, 2.140716417394703, 1.844073970750217, 0.9064667316560647, 1.0719716896901252, 3.744750903542143, 2.4429039747633485, 1.5751302645291858, 0.8082592880707017, 1.0904672175683432, 0.5443403526288968, 0.51977601568274, 0.6214921177953007, 0.9243694998819665, 1.0951330634351493, 0.9163166814671982, 0.7223144839400545, 2.109942332866114, 0.5372088532938846, 0.6524072564209205, 1.2189074830387752, 0.8072357701873645, 1.443207634799592, 3.0940004924332745, 1.7378339912321823, 0.7612438937864986, 2.6756822058869805, 3.48298874769056, 0.8990120655767655, 1.8251343029136806, 1.6048180724693304, 1.2424271870302785, 0.9918446409153655, 0.394832601869975, 1.0616704954320457, 0.4201461980751719, 0.41300574454371847, 0.5911085984693557], \"yaxis\": \"y\"}, {\"customdata\": [[3611.0], [16650.0], [226699.0], [520.0], [1270.0], [16764.0], [1.0], [null], [3958.0], [6340.0], [326.0], [54346.0], [901.0], [146.0], [81.0], [71.0], [712.0], [914.0], [6401.0], [25.0], [44249.0], [402.0], [5671.0], [99483.0], [12942.0], [8.0], [35606.0], [17191.0], [308.0], [59854.0], [2617.0], [28794.0], [1498.0], [1502.0], [10733.0], [285.0], [1495.0], [30799.0], [208.0], [545.0], [3034.0], [116.0], [1044.0], [151615.0], [509.0], [260.0], [18876.0], [738.0], [2880.0], [749.0], [324.0], [167.0], [17200.0], [772.0], [46.0], [440.0], [21.0], [16385.0], [271628.0], [16935.0], [125.0], [2805.0], [299941.0], [0.0], [101.0], [335.0], [649.0], [1153.0], [534.0], [761.0], [141.0], [882.0], [11044.0], [11110.0], [11.0], [7653.0], [7068.0], [16257.0], [3518.0], [130.0], [7532.0], [4481.0], [411.0], [420.0], [1887.0], [16.0], [34151.0], [232555.0], [365.0], [248818.0], [154.0], [2232.0], [106750.0], [1802.0], [6969.0], [963.0], [19.0], [954.0], [233.0], [68.0], [1027.0], [45.0], [7023.0], [140.0], [332.0], [6978.0], [8257.0], [45898.0], [9867.0], [19268.0], [29432.0], [829.0]], \"hoverlabel\": {\"namelength\": 0}, \"hovertemplate\": \"Cluster=Cluster 1<br>PCA1=%{x}<br>PCA2=%{y}<br>Feature=%{customdata[0]}\", \"legendgroup\": \"Cluster=Cluster 1\", \"marker\": {\"color\": \"#EF553B\", \"opacity\": 0.5, \"symbol\": \"circle\"}, \"mode\": \"markers\", \"name\": \"Cluster=Cluster 1\", \"showlegend\": true, \"textposition\": \"top center\", \"type\": \"scatter\", \"x\": [-0.34364003175721886, 1.5812266769592633, -0.23050282021246934, -0.33654525935890317, -0.21772209502731113, -0.33424176542320516, -0.31723693831604055, -0.3564167213565941, -0.21152200968959334, -0.3227893839281144, -0.33624117495639627, -0.3134048420573727, -0.3297025838548444, -0.3302077034625549, -0.2686953815585604, -0.33367139640013277, -0.30855896222760454, -0.32361974870351157, -0.36585169465046713, -0.3611029987377235, -0.061236315315617185, -0.16570989281715406, -0.2589434955633651, -0.002207656580638679, -0.2732512167445349, -0.34060340903757325, -0.30634405432619555, -0.3316177696303065, -0.36764227406939, -0.32722821056144785, -0.3266677103939486, -0.35333555072544637, -0.2904793792416203, 0.5373722970893644, -0.3107332861594399, -0.3230061036200184, 0.07601786728935389, -0.3352285209471923, -0.3579111522871766, -0.309097903123922, -0.3671764871666181, -0.31025383559496766, -0.32902430687526646, -0.30458450639546414, -0.3234078724646761, -0.3344732010064, -0.3413168271923944, -0.3205996169689965, -0.30927356050634147, -0.08743705797976675, -0.11205772408469483, -0.34642689063653087, -0.3539868017999281, -0.3352562878822602, -0.2923566683334034, -0.3430488404565976, -0.3578605013915919, -0.3369717960558732, -0.22280132725064283, -0.25158570185044665, -0.261287030873237, -0.36584025784592933, 1.3225215254716902, -0.327059043142518, -0.35628040994348115, -0.29887414413673924, -0.014019797224038448, -0.014515537592272459, -0.3290800096512843, -0.3144732480503484, -0.3322283885907284, -0.3476895009136536, -0.31213776900926615, -0.18837565512301338, 0.7301252221832525, -0.276347230229058, -0.17101774385495416, -0.34288971340486984, -0.3362457306597737, -0.3188348245181091, -0.22434024405355696, -0.3034662987498831, -0.3176898526313775, -0.20878984491612346, -0.35252577742680297, 0.8506718677244518, -0.34022558343962195, -0.3598093895940713, -0.3130859742472069, -0.3389835810581, -0.34086646566890855, -0.3617936568886723, -0.36399135700261975, -0.18239283604194453, 0.009647711428848016, -0.31879299423244223, -0.13965702494604532, -0.22337080369645756, -0.15667060463333826, -0.3161095510135794, -0.32276421812308315, -0.271863468664935, -0.31854758972566927, -0.2902977387628233, 0.4198663965794147, 0.4210966657826076, -0.34776888787522, -0.334540889360713, -0.2750443502022403, 0.3859290380412143, -0.36257020607013674, -0.31041622498053767], \"xaxis\": \"x\", \"y\": [-1.307633615391989, 0.13058069055041074, -0.8071451278528293, -0.42347366122399416, -0.03178303235687379, -0.33851393984933525, 0.002811643203762281, -0.9582306784976711, -0.9245822072914059, -0.1524178599676853, -0.43169183280901396, 0.1498814497723617, -0.19088075061879142, -0.24599170183103983, -0.07745460155073244, -0.31566166612113666, 0.2118718432312271, -0.6649673703983906, -1.3068497533727939, -1.2296003815406304, -0.10704407942650705, -0.7708191119158277, -0.3874586823435139, -0.42034153312379413, 0.04763200650057389, -0.5705355620914087, -1.0760876467907774, -0.423638585952431, -1.2762941770183454, -0.12176340503085202, -0.1915764436222698, -1.1213809898082259, -0.2549572577016502, -0.09025422717021106, 0.31223875182804317, -0.06736680098265302, -0.648175849089542, -0.3461036742085207, -1.4625486460279489, 0.3432671793854754, -1.3461007920758736, 0.2969766952939628, -1.3081448786134346, -0.6884469434671027, -0.6567434470157916, -0.5320408925877358, -0.6561327817732736, -0.22990057115674417, 0.22715022847404248, -0.7583955406893971, 0.23480751734157237, -1.4629558659276056, -1.3072603213072462, -0.34610274301008526, 0.040045923854406786, -0.5704506290438932, -1.1212169006141248, -0.6562791471962971, -0.807516085030042, -0.4352984989621737, -1.3497902567205542, -1.4622593537922866, 0.1533849762629694, -0.5950350574345944, -1.1212715145347074, 0.2801654775460961, -0.23271449387387602, 0.19387647246742165, -0.17624079916118512, 0.21208122661135517, -0.2992915139241418, -0.7028321644416022, -0.36275528630414383, -0.9950666393807216, -0.05110129633552159, -0.9692524708616568, -0.16578095183668468, -0.780413446396969, -0.38477565939470854, -0.29330666091661795, -0.4660287444601519, -0.3161297494070633, 0.04915640667854662, -1.0020636252145463, -0.8727387221810763, -0.35615616125419347, -0.7570501388593001, -1.0742345474476047, -0.3239930344445003, -0.6644362140018595, -0.540028940053434, -1.1521646976078765, -1.4623291522622528, -0.5993030935143934, -0.7618377884607055, 0.07206772613775549, -0.12020890030546941, -1.14945292119277, -0.9262275338350556, -0.06761367198235188, -0.22337252430695434, -1.4654479995643255, 0.12718543889183437, -0.5805013876942137, -0.6371673715243, -1.3341859752668994, -0.9198233631574444, -0.3461280336654666, -0.0924938283140914, -0.12349117379722362, -1.1832190047316151, -0.595597740971768], \"yaxis\": \"y\"}, {\"customdata\": [[570.0]], \"hoverlabel\": {\"namelength\": 0}, \"hovertemplate\": \"Cluster=Cluster 2<br>PCA1=%{x}<br>PCA2=%{y}<br>Feature=%{customdata[0]}\", \"legendgroup\": \"Cluster=Cluster 2\", \"marker\": {\"color\": \"#00cc96\", \"opacity\": 0.5, \"symbol\": \"circle\"}, \"mode\": \"markers\", \"name\": \"Cluster=Cluster 2\", \"showlegend\": true, \"textposition\": \"top center\", \"type\": \"scatter\", \"x\": [15.686191402042436], \"xaxis\": \"x\", \"y\": [-0.17784688800133305], \"yaxis\": \"y\"}, {\"customdata\": [[2591.0], [655.0], [1467.0], [58.0], [1528568.0]], \"hoverlabel\": {\"namelength\": 0}, \"hovertemplate\": \"Cluster=Cluster 3<br>PCA1=%{x}<br>PCA2=%{y}<br>Feature=%{customdata[0]}\", \"legendgroup\": \"Cluster=Cluster 3\", \"marker\": {\"color\": \"#ab63fa\", \"opacity\": 0.5, \"symbol\": \"circle\"}, \"mode\": \"markers\", \"name\": \"Cluster=Cluster 3\", \"showlegend\": true, \"textposition\": \"top center\", \"type\": \"scatter\", \"x\": [2.6527799058085235, 3.9490744421452857, 3.229235499798179, 2.744407215312491, 3.5759728847684302], \"xaxis\": \"x\", \"y\": [-0.11200698592263819, -0.03562073614764292, -0.5990247810652476, -0.6056803805446932, 0.22598844144360986], \"yaxis\": \"y\"}],\n",
       "                        {\"height\": 600, \"legend\": {\"tracegroupgap\": 0}, \"margin\": {\"t\": 60}, \"plot_bgcolor\": \"rgb(240,240,240)\", \"template\": {\"data\": {\"bar\": [{\"error_x\": {\"color\": \"#2a3f5f\"}, \"error_y\": {\"color\": \"#2a3f5f\"}, \"marker\": {\"line\": {\"color\": \"#E5ECF6\", \"width\": 0.5}}, \"type\": \"bar\"}], \"barpolar\": [{\"marker\": {\"line\": {\"color\": \"#E5ECF6\", \"width\": 0.5}}, \"type\": \"barpolar\"}], \"carpet\": [{\"aaxis\": {\"endlinecolor\": \"#2a3f5f\", \"gridcolor\": \"white\", \"linecolor\": \"white\", \"minorgridcolor\": \"white\", \"startlinecolor\": \"#2a3f5f\"}, \"baxis\": {\"endlinecolor\": \"#2a3f5f\", \"gridcolor\": \"white\", \"linecolor\": \"white\", \"minorgridcolor\": \"white\", \"startlinecolor\": \"#2a3f5f\"}, \"type\": \"carpet\"}], \"choropleth\": [{\"colorbar\": {\"outlinewidth\": 0, \"ticks\": \"\"}, \"type\": \"choropleth\"}], \"contour\": [{\"colorbar\": {\"outlinewidth\": 0, \"ticks\": \"\"}, \"colorscale\": [[0.0, \"#0d0887\"], [0.1111111111111111, \"#46039f\"], [0.2222222222222222, \"#7201a8\"], [0.3333333333333333, \"#9c179e\"], [0.4444444444444444, \"#bd3786\"], [0.5555555555555556, \"#d8576b\"], [0.6666666666666666, \"#ed7953\"], [0.7777777777777778, \"#fb9f3a\"], [0.8888888888888888, \"#fdca26\"], [1.0, \"#f0f921\"]], \"type\": \"contour\"}], \"contourcarpet\": [{\"colorbar\": {\"outlinewidth\": 0, \"ticks\": \"\"}, \"type\": \"contourcarpet\"}], \"heatmap\": [{\"colorbar\": {\"outlinewidth\": 0, \"ticks\": \"\"}, \"colorscale\": [[0.0, \"#0d0887\"], [0.1111111111111111, \"#46039f\"], [0.2222222222222222, \"#7201a8\"], [0.3333333333333333, \"#9c179e\"], [0.4444444444444444, \"#bd3786\"], [0.5555555555555556, \"#d8576b\"], [0.6666666666666666, \"#ed7953\"], [0.7777777777777778, \"#fb9f3a\"], [0.8888888888888888, \"#fdca26\"], [1.0, \"#f0f921\"]], \"type\": \"heatmap\"}], \"heatmapgl\": [{\"colorbar\": {\"outlinewidth\": 0, \"ticks\": \"\"}, \"colorscale\": [[0.0, \"#0d0887\"], [0.1111111111111111, \"#46039f\"], [0.2222222222222222, \"#7201a8\"], [0.3333333333333333, \"#9c179e\"], [0.4444444444444444, \"#bd3786\"], [0.5555555555555556, \"#d8576b\"], [0.6666666666666666, \"#ed7953\"], [0.7777777777777778, \"#fb9f3a\"], [0.8888888888888888, \"#fdca26\"], [1.0, \"#f0f921\"]], \"type\": \"heatmapgl\"}], \"histogram\": [{\"marker\": {\"colorbar\": {\"outlinewidth\": 0, \"ticks\": \"\"}}, \"type\": \"histogram\"}], \"histogram2d\": [{\"colorbar\": {\"outlinewidth\": 0, \"ticks\": \"\"}, \"colorscale\": [[0.0, \"#0d0887\"], [0.1111111111111111, \"#46039f\"], [0.2222222222222222, \"#7201a8\"], [0.3333333333333333, \"#9c179e\"], [0.4444444444444444, \"#bd3786\"], [0.5555555555555556, \"#d8576b\"], [0.6666666666666666, \"#ed7953\"], [0.7777777777777778, \"#fb9f3a\"], [0.8888888888888888, \"#fdca26\"], [1.0, \"#f0f921\"]], \"type\": \"histogram2d\"}], \"histogram2dcontour\": [{\"colorbar\": {\"outlinewidth\": 0, \"ticks\": \"\"}, \"colorscale\": [[0.0, \"#0d0887\"], [0.1111111111111111, \"#46039f\"], [0.2222222222222222, \"#7201a8\"], [0.3333333333333333, \"#9c179e\"], [0.4444444444444444, \"#bd3786\"], [0.5555555555555556, \"#d8576b\"], [0.6666666666666666, \"#ed7953\"], [0.7777777777777778, \"#fb9f3a\"], [0.8888888888888888, \"#fdca26\"], [1.0, \"#f0f921\"]], \"type\": \"histogram2dcontour\"}], \"mesh3d\": [{\"colorbar\": {\"outlinewidth\": 0, \"ticks\": \"\"}, \"type\": \"mesh3d\"}], \"parcoords\": [{\"line\": {\"colorbar\": {\"outlinewidth\": 0, \"ticks\": \"\"}}, \"type\": \"parcoords\"}], \"pie\": [{\"automargin\": true, \"type\": \"pie\"}], \"scatter\": [{\"marker\": {\"colorbar\": {\"outlinewidth\": 0, \"ticks\": \"\"}}, \"type\": \"scatter\"}], \"scatter3d\": [{\"line\": {\"colorbar\": {\"outlinewidth\": 0, \"ticks\": \"\"}}, \"marker\": {\"colorbar\": {\"outlinewidth\": 0, \"ticks\": \"\"}}, \"type\": \"scatter3d\"}], \"scattercarpet\": [{\"marker\": {\"colorbar\": {\"outlinewidth\": 0, \"ticks\": \"\"}}, \"type\": \"scattercarpet\"}], \"scattergeo\": [{\"marker\": {\"colorbar\": {\"outlinewidth\": 0, \"ticks\": \"\"}}, \"type\": \"scattergeo\"}], \"scattergl\": [{\"marker\": {\"colorbar\": {\"outlinewidth\": 0, \"ticks\": \"\"}}, \"type\": \"scattergl\"}], \"scattermapbox\": [{\"marker\": {\"colorbar\": {\"outlinewidth\": 0, \"ticks\": \"\"}}, \"type\": \"scattermapbox\"}], \"scatterpolar\": [{\"marker\": {\"colorbar\": {\"outlinewidth\": 0, \"ticks\": \"\"}}, \"type\": \"scatterpolar\"}], \"scatterpolargl\": [{\"marker\": {\"colorbar\": {\"outlinewidth\": 0, \"ticks\": \"\"}}, \"type\": \"scatterpolargl\"}], \"scatterternary\": [{\"marker\": {\"colorbar\": {\"outlinewidth\": 0, \"ticks\": \"\"}}, \"type\": \"scatterternary\"}], \"surface\": [{\"colorbar\": {\"outlinewidth\": 0, \"ticks\": \"\"}, \"colorscale\": [[0.0, \"#0d0887\"], [0.1111111111111111, \"#46039f\"], [0.2222222222222222, \"#7201a8\"], [0.3333333333333333, \"#9c179e\"], [0.4444444444444444, \"#bd3786\"], [0.5555555555555556, \"#d8576b\"], [0.6666666666666666, \"#ed7953\"], [0.7777777777777778, \"#fb9f3a\"], [0.8888888888888888, \"#fdca26\"], [1.0, \"#f0f921\"]], \"type\": \"surface\"}], \"table\": [{\"cells\": {\"fill\": {\"color\": \"#EBF0F8\"}, \"line\": {\"color\": \"white\"}}, \"header\": {\"fill\": {\"color\": \"#C8D4E3\"}, \"line\": {\"color\": \"white\"}}, \"type\": \"table\"}]}, \"layout\": {\"annotationdefaults\": {\"arrowcolor\": \"#2a3f5f\", \"arrowhead\": 0, \"arrowwidth\": 1}, \"coloraxis\": {\"colorbar\": {\"outlinewidth\": 0, \"ticks\": \"\"}}, \"colorscale\": {\"diverging\": [[0, \"#8e0152\"], [0.1, \"#c51b7d\"], [0.2, \"#de77ae\"], [0.3, \"#f1b6da\"], [0.4, \"#fde0ef\"], [0.5, \"#f7f7f7\"], [0.6, \"#e6f5d0\"], [0.7, \"#b8e186\"], [0.8, \"#7fbc41\"], [0.9, \"#4d9221\"], [1, \"#276419\"]], \"sequential\": [[0.0, \"#0d0887\"], [0.1111111111111111, \"#46039f\"], [0.2222222222222222, \"#7201a8\"], [0.3333333333333333, \"#9c179e\"], [0.4444444444444444, \"#bd3786\"], [0.5555555555555556, \"#d8576b\"], [0.6666666666666666, \"#ed7953\"], [0.7777777777777778, \"#fb9f3a\"], [0.8888888888888888, \"#fdca26\"], [1.0, \"#f0f921\"]], \"sequentialminus\": [[0.0, \"#0d0887\"], [0.1111111111111111, \"#46039f\"], [0.2222222222222222, \"#7201a8\"], [0.3333333333333333, \"#9c179e\"], [0.4444444444444444, \"#bd3786\"], [0.5555555555555556, \"#d8576b\"], [0.6666666666666666, \"#ed7953\"], [0.7777777777777778, \"#fb9f3a\"], [0.8888888888888888, \"#fdca26\"], [1.0, \"#f0f921\"]]}, \"colorway\": [\"#636efa\", \"#EF553B\", \"#00cc96\", \"#ab63fa\", \"#FFA15A\", \"#19d3f3\", \"#FF6692\", \"#B6E880\", \"#FF97FF\", \"#FECB52\"], \"font\": {\"color\": \"#2a3f5f\"}, \"geo\": {\"bgcolor\": \"white\", \"lakecolor\": \"white\", \"landcolor\": \"#E5ECF6\", \"showlakes\": true, \"showland\": true, \"subunitcolor\": \"white\"}, \"hoverlabel\": {\"align\": \"left\"}, \"hovermode\": \"closest\", \"mapbox\": {\"style\": \"light\"}, \"paper_bgcolor\": \"white\", \"plot_bgcolor\": \"#E5ECF6\", \"polar\": {\"angularaxis\": {\"gridcolor\": \"white\", \"linecolor\": \"white\", \"ticks\": \"\"}, \"bgcolor\": \"#E5ECF6\", \"radialaxis\": {\"gridcolor\": \"white\", \"linecolor\": \"white\", \"ticks\": \"\"}}, \"scene\": {\"xaxis\": {\"backgroundcolor\": \"#E5ECF6\", \"gridcolor\": \"white\", \"gridwidth\": 2, \"linecolor\": \"white\", \"showbackground\": true, \"ticks\": \"\", \"zerolinecolor\": \"white\"}, \"yaxis\": {\"backgroundcolor\": \"#E5ECF6\", \"gridcolor\": \"white\", \"gridwidth\": 2, \"linecolor\": \"white\", \"showbackground\": true, \"ticks\": \"\", \"zerolinecolor\": \"white\"}, \"zaxis\": {\"backgroundcolor\": \"#E5ECF6\", \"gridcolor\": \"white\", \"gridwidth\": 2, \"linecolor\": \"white\", \"showbackground\": true, \"ticks\": \"\", \"zerolinecolor\": \"white\"}}, \"shapedefaults\": {\"line\": {\"color\": \"#2a3f5f\"}}, \"ternary\": {\"aaxis\": {\"gridcolor\": \"white\", \"linecolor\": \"white\", \"ticks\": \"\"}, \"baxis\": {\"gridcolor\": \"white\", \"linecolor\": \"white\", \"ticks\": \"\"}, \"bgcolor\": \"#E5ECF6\", \"caxis\": {\"gridcolor\": \"white\", \"linecolor\": \"white\", \"ticks\": \"\"}}, \"title\": {\"x\": 0.05}, \"xaxis\": {\"automargin\": true, \"gridcolor\": \"white\", \"linecolor\": \"white\", \"ticks\": \"\", \"title\": {\"standoff\": 15}, \"zerolinecolor\": \"white\", \"zerolinewidth\": 2}, \"yaxis\": {\"automargin\": true, \"gridcolor\": \"white\", \"linecolor\": \"white\", \"ticks\": \"\", \"title\": {\"standoff\": 15}, \"zerolinecolor\": \"white\", \"zerolinewidth\": 2}}}, \"title\": {\"text\": \"2D Cluster PCA Plot\"}, \"xaxis\": {\"anchor\": \"y\", \"domain\": [0.0, 1.0], \"title\": {\"text\": \"PCA1\"}}, \"yaxis\": {\"anchor\": \"x\", \"domain\": [0.0, 1.0], \"title\": {\"text\": \"PCA2\"}}},\n",
       "                        {\"responsive\": true}\n",
       "                    ).then(function(){\n",
       "                            \n",
       "var gd = document.getElementById('7128e1bb-b551-4e83-9938-d1f781ad3243');\n",
       "var x = new MutationObserver(function (mutations, observer) {{\n",
       "        var display = window.getComputedStyle(gd).display;\n",
       "        if (!display || display === 'none') {{\n",
       "            console.log([gd, 'removed!']);\n",
       "            Plotly.purge(gd);\n",
       "            observer.disconnect();\n",
       "        }}\n",
       "}});\n",
       "\n",
       "// Listen for the removal of the full notebook cells\n",
       "var notebookContainer = gd.closest('#notebook-container');\n",
       "if (notebookContainer) {{\n",
       "    x.observe(notebookContainer, {childList: true});\n",
       "}}\n",
       "\n",
       "// Listen for the clearing of the current output cell\n",
       "var outputEl = gd.closest('.output');\n",
       "if (outputEl) {{\n",
       "    x.observe(outputEl, {childList: true});\n",
       "}}\n",
       "\n",
       "                        })\n",
       "                };\n",
       "                });\n",
       "            </script>\n",
       "        </div>"
      ]
     },
     "metadata": {},
     "output_type": "display_data"
    }
   ],
   "source": [
    "plot_model(kmeans)"
   ]
  },
  {
   "cell_type": "code",
   "execution_count": 27,
   "metadata": {},
   "outputs": [
    {
     "data": {
      "text/html": [
       "        <script type=\"text/javascript\">\n",
       "        window.PlotlyConfig = {MathJaxConfig: 'local'};\n",
       "        if (window.MathJax) {MathJax.Hub.Config({SVG: {font: \"STIX-Web\"}});}\n",
       "        if (typeof require !== 'undefined') {\n",
       "        require.undef(\"plotly\");\n",
       "        requirejs.config({\n",
       "            paths: {\n",
       "                'plotly': ['https://cdn.plot.ly/plotly-latest.min']\n",
       "            }\n",
       "        });\n",
       "        require(['plotly'], function(Plotly) {\n",
       "            window._Plotly = Plotly;\n",
       "        });\n",
       "        }\n",
       "        </script>\n",
       "        "
      ]
     },
     "metadata": {},
     "output_type": "display_data"
    },
    {
     "data": {
      "image/png": "[encoded data removed]",
      "text/plain": [
       "<Figure size 576x396 with 1 Axes>"
      ]
     },
     "metadata": {},
     "output_type": "display_data"
    }
   ],
   "source": [
    "# 4 clusters \n",
    "plot_model(kmeans, plot = 'elbow')"
   ]
  },
  {
   "cell_type": "code",
   "execution_count": 28,
   "metadata": {},
   "outputs": [
    {
     "data": {
      "text/html": [
       "        <script type=\"text/javascript\">\n",
       "        window.PlotlyConfig = {MathJaxConfig: 'local'};\n",
       "        if (window.MathJax) {MathJax.Hub.Config({SVG: {font: \"STIX-Web\"}});}\n",
       "        if (typeof require !== 'undefined') {\n",
       "        require.undef(\"plotly\");\n",
       "        requirejs.config({\n",
       "            paths: {\n",
       "                'plotly': ['https://cdn.plot.ly/plotly-latest.min']\n",
       "            }\n",
       "        });\n",
       "        require(['plotly'], function(Plotly) {\n",
       "            window._Plotly = Plotly;\n",
       "        });\n",
       "        }\n",
       "        </script>\n",
       "        "
      ]
     },
     "metadata": {},
     "output_type": "display_data"
    },
    {
     "data": {
      "application/vnd.plotly.v1+json": {
       "config": {
        "plotlyServerURL": "https://plot.ly"
       },
       "data": [
        {
         "alignmentgroup": "True",
         "bingroup": "x",
         "hoverlabel": {
          "namelength": 0
         },
         "hovertemplate": "Cluster=%{x}<br>count=%{y}",
         "legendgroup": "Cluster=Cluster 0",
         "marker": {
          "color": "#636efa",
          "opacity": 0.7
         },
         "name": "Cluster=Cluster 0",
         "offsetgroup": "Cluster=Cluster 0",
         "orientation": "v",
         "showlegend": true,
         "type": "histogram",
         "x": [
          "Cluster 0",
          "Cluster 0",
          "Cluster 0",
          "Cluster 0",
          "Cluster 0",
          "Cluster 0",
          "Cluster 0",
          "Cluster 0",
          "Cluster 0",
          "Cluster 0",
          "Cluster 0",
          "Cluster 0",
          "Cluster 0",
          "Cluster 0",
          "Cluster 0",
          "Cluster 0",
          "Cluster 0",
          "Cluster 0",
          "Cluster 0",
          "Cluster 0",
          "Cluster 0",
          "Cluster 0",
          "Cluster 0",
          "Cluster 0",
          "Cluster 0",
          "Cluster 0",
          "Cluster 0",
          "Cluster 0",
          "Cluster 0",
          "Cluster 0",
          "Cluster 0",
          "Cluster 0",
          "Cluster 0",
          "Cluster 0",
          "Cluster 0",
          "Cluster 0",
          "Cluster 0",
          "Cluster 0",
          "Cluster 0",
          "Cluster 0",
          "Cluster 0",
          "Cluster 0",
          "Cluster 0",
          "Cluster 0",
          "Cluster 0",
          "Cluster 0",
          "Cluster 0"
         ],
         "xaxis": "x",
         "yaxis": "y"
        },
        {
         "alignmentgroup": "True",
         "customdata": [
          [
           "Iran",
           47.23,
           124603,
           7119,
           "Cluster 0"
          ],
          [
           "Laos",
           56.22,
           19,
           0,
           "Cluster 0"
          ],
          [
           "Estonia",
           41.54,
           1791,
           64,
           "Cluster 0"
          ],
          [
           "Finland",
           65.74,
           6399,
           301,
           "Cluster 0"
          ],
          [
           "Solomon Islands",
           50.41,
           0,
           0,
           "Cluster 0"
          ],
          [
           "Iceland",
           56.61,
           1802,
           10,
           "Cluster 0"
          ],
          [
           "Ghana",
           66.53,
           6096,
           31,
           "Cluster 0"
          ],
          [
           "Croatia",
           66.53,
           2232,
           96,
           "Cluster 0"
          ],
          [
           "Papua New Guinea",
           43.66,
           8,
           0,
           "Cluster 0"
          ],
          [
           "Hong Kong",
           67.85,
           1055,
           4,
           "Cluster 0"
          ],
          [
           "New Zealand",
           38.49,
           1153,
           21,
           "Cluster 0"
          ],
          [
           "South Korea",
           43.51,
           11110,
           263,
           "Cluster 0"
          ],
          [
           "Hungary",
           59.53,
           3598,
           470,
           "Cluster 0"
          ],
          [
           "Brunei",
           56.74,
           141,
           1,
           "Cluster 0"
          ],
          [
           "Nicaragua",
           11.11,
           25,
           8,
           "Cluster 0"
          ],
          [
           "Niger",
           33.33,
           914,
           55,
           "Cluster 0"
          ],
          [
           "Benin",
           48.15,
           130,
           2,
           "Cluster 0"
          ],
          [
           "Namibia",
           61.24,
           712,
           7,
           "Cluster 0"
          ],
          [
           "Austria",
           56.34,
           16257,
           632,
           "Cluster 0"
          ],
          [
           "Luxembourg",
           65.73,
           3958,
           109,
           "Cluster 0"
          ],
          [
           "Australia",
           66.14,
           7068,
           99,
           "Cluster 0"
          ],
          [
           "Madagascar",
           64.43,
           326,
           2,
           "Cluster 0"
          ],
          [
           "Malawi",
           59.26,
           71,
           3,
           "Cluster 0"
          ],
          [
           "Andorra",
           56.34,
           761,
           51,
           "Cluster 0"
          ],
          [
           "Somalia",
           59.39,
           1502,
           59,
           "Cluster 0"
          ],
          [
           "Senegal",
           62.7,
           2617,
           30,
           "Cluster 0"
          ],
          [
           "Macao",
           39.02,
           45,
           0,
           "Cluster 0"
          ],
          [
           "Seychelles",
           65.87,
           11,
           0,
           "Cluster 0"
          ],
          [
           "Bulgaria",
           63.89,
           2292,
           116,
           "Cluster 0"
          ],
          [
           "Yemen",
           54.23,
           167,
           28,
           "Cluster 0"
          ],
          [
           "Slovenia",
           61.25,
           1467,
           104,
           "Cluster 0"
          ],
          [
           "Tanzania",
           50.4,
           509,
           21,
           "Cluster 0"
          ],
          [
           "Burundi",
           22.22,
           42,
           1,
           "Cluster 0"
          ],
          [
           "Zambia",
           45.37,
           772,
           7,
           "Cluster 0"
          ],
          [
           "Burkina Faso",
           62.04,
           806,
           52,
           "Cluster 0"
          ],
          [
           "Taiwan",
           29.36,
           440,
           7,
           "Cluster 0"
          ],
          [
           "Belarus",
           15.47,
           31508,
           175,
           "Cluster 0"
          ],
          [
           "Czech Republic",
           59.65,
           8647,
           302,
           "Cluster 0"
          ],
          [
           "Japan",
           43.79,
           16385,
           771,
           "Cluster 0"
          ],
          [
           "Sweden",
           47.35,
           30799,
           3743,
           "Cluster 0"
          ],
          [
           "Mozambique",
           53.83,
           146,
           0,
           "Cluster 0"
          ],
          [
           "Norway",
           58.07,
           8257,
           233,
           "Cluster 0"
          ],
          [
           "Canada",
           67.74,
           79101,
           5912,
           "Cluster 0"
          ],
          [
           "Serbia",
           56.87,
           10733,
           234,
           "Cluster 0"
          ],
          [
           "Cameroon",
           67.85,
           3529,
           140,
           "Cluster 0"
          ],
          [
           "Mongolia",
           67.99,
           140,
           0,
           "Cluster 0"
          ],
          [
           "China",
           64.44,
           84065,
           4638,
           "Cluster 0"
          ]
         ],
         "hoverlabel": {
          "namelength": 0
         },
         "hovertemplate": "Cluster=%{customdata[4]}<br>country_name=%{customdata[0]}<br>stringency_index=%{customdata[1]}<br>confirmed_cases=%{customdata[2]}<br>deaths=%{customdata[3]}",
         "legendgroup": "Cluster=Cluster 0",
         "marker": {
          "color": "#636efa"
         },
         "name": "Cluster=Cluster 0",
         "notched": true,
         "offsetgroup": "Cluster=Cluster 0",
         "showlegend": false,
         "type": "box",
         "x": [
          "Cluster 0",
          "Cluster 0",
          "Cluster 0",
          "Cluster 0",
          "Cluster 0",
          "Cluster 0",
          "Cluster 0",
          "Cluster 0",
          "Cluster 0",
          "Cluster 0",
          "Cluster 0",
          "Cluster 0",
          "Cluster 0",
          "Cluster 0",
          "Cluster 0",
          "Cluster 0",
          "Cluster 0",
          "Cluster 0",
          "Cluster 0",
          "Cluster 0",
          "Cluster 0",
          "Cluster 0",
          "Cluster 0",
          "Cluster 0",
          "Cluster 0",
          "Cluster 0",
          "Cluster 0",
          "Cluster 0",
          "Cluster 0",
          "Cluster 0",
          "Cluster 0",
          "Cluster 0",
          "Cluster 0",
          "Cluster 0",
          "Cluster 0",
          "Cluster 0",
          "Cluster 0",
          "Cluster 0",
          "Cluster 0",
          "Cluster 0",
          "Cluster 0",
          "Cluster 0",
          "Cluster 0",
          "Cluster 0",
          "Cluster 0",
          "Cluster 0",
          "Cluster 0"
         ],
         "xaxis": "x2",
         "yaxis": "y2"
        },
        {
         "alignmentgroup": "True",
         "bingroup": "x",
         "hoverlabel": {
          "namelength": 0
         },
         "hovertemplate": "Cluster=%{x}<br>count=%{y}",
         "legendgroup": "Cluster=Cluster 1",
         "marker": {
          "color": "#EF553B",
          "opacity": 0.7
         },
         "name": "Cluster=Cluster 1",
         "offsetgroup": "Cluster=Cluster 1",
         "orientation": "v",
         "showlegend": true,
         "type": "histogram",
         "x": [
          "Cluster 1",
          "Cluster 1",
          "Cluster 1",
          "Cluster 1",
          "Cluster 1",
          "Cluster 1",
          "Cluster 1",
          "Cluster 1",
          "Cluster 1",
          "Cluster 1",
          "Cluster 1",
          "Cluster 1",
          "Cluster 1",
          "Cluster 1",
          "Cluster 1",
          "Cluster 1",
          "Cluster 1",
          "Cluster 1",
          "Cluster 1",
          "Cluster 1",
          "Cluster 1",
          "Cluster 1",
          "Cluster 1",
          "Cluster 1",
          "Cluster 1",
          "Cluster 1",
          "Cluster 1",
          "Cluster 1",
          "Cluster 1",
          "Cluster 1",
          "Cluster 1",
          "Cluster 1",
          "Cluster 1",
          "Cluster 1",
          "Cluster 1",
          "Cluster 1",
          "Cluster 1",
          "Cluster 1",
          "Cluster 1",
          "Cluster 1",
          "Cluster 1",
          "Cluster 1",
          "Cluster 1",
          "Cluster 1",
          "Cluster 1",
          "Cluster 1",
          "Cluster 1",
          "Cluster 1",
          "Cluster 1",
          "Cluster 1",
          "Cluster 1",
          "Cluster 1",
          "Cluster 1",
          "Cluster 1",
          "Cluster 1",
          "Cluster 1",
          "Cluster 1",
          "Cluster 1",
          "Cluster 1",
          "Cluster 1",
          "Cluster 1",
          "Cluster 1",
          "Cluster 1",
          "Cluster 1",
          "Cluster 1",
          "Cluster 1",
          "Cluster 1",
          "Cluster 1",
          "Cluster 1",
          "Cluster 1",
          "Cluster 1",
          "Cluster 1",
          "Cluster 1",
          "Cluster 1",
          "Cluster 1",
          "Cluster 1",
          "Cluster 1",
          "Cluster 1",
          "Cluster 1",
          "Cluster 1",
          "Cluster 1",
          "Cluster 1",
          "Cluster 1",
          "Cluster 1",
          "Cluster 1",
          "Cluster 1",
          "Cluster 1",
          "Cluster 1",
          "Cluster 1",
          "Cluster 1",
          "Cluster 1",
          "Cluster 1",
          "Cluster 1",
          "Cluster 1",
          "Cluster 1",
          "Cluster 1",
          "Cluster 1",
          "Cluster 1",
          "Cluster 1",
          "Cluster 1",
          "Cluster 1",
          "Cluster 1",
          "Cluster 1",
          "Cluster 1",
          "Cluster 1",
          "Cluster 1",
          "Cluster 1",
          "Cluster 1",
          "Cluster 1",
          "Cluster 1",
          "Cluster 1",
          "Cluster 1"
         ],
         "xaxis": "x",
         "yaxis": "y"
        },
        {
         "alignmentgroup": "True",
         "customdata": [
          [
           "Puerto Rico",
           97.35,
           2805,
           124,
           "Cluster 1"
          ],
          [
           "Russia",
           71.71,
           299941,
           2837,
           "Cluster 1"
          ],
          [
           "South Africa",
           88.75,
           17200,
           312,
           "Cluster 1"
          ],
          [
           "Guyana",
           82.27,
           125,
           10,
           "Cluster 1"
          ],
          [
           "Denmark",
           75.52,
           11044,
           551,
           "Cluster 1"
          ],
          [
           "Aruba",
           80.82,
           101,
           3,
           "Cluster 1"
          ],
          [
           "Costa Rica",
           74.99,
           882,
           10,
           "Cluster 1"
          ],
          [
           "Zimbabwe",
           91.4,
           46,
           4,
           "Cluster 1"
          ],
          [
           "Colombia",
           90.74,
           16935,
           613,
           "Cluster 1"
          ],
          [
           "Sierra Leone",
           77.64,
           534,
           33,
           "Cluster 1"
          ],
          [
           "Cape Verde",
           82.41,
           335,
           3,
           "Cluster 1"
          ],
          [
           "Jordan",
           72.48,
           649,
           9,
           "Cluster 1"
          ],
          [
           "Bhutan",
           78.3,
           21,
           0,
           "Cluster 1"
          ],
          [
           "Myanmar",
           79.24,
           193,
           6,
           "Cluster 1"
          ],
          [
           "Afghanistan",
           76.33,
           7653,
           178,
           "Cluster 1"
          ],
          [
           "Syria",
           80.43,
           58,
           3,
           "Cluster 1"
          ],
          [
           "San Marino",
           71.42,
           655,
           41,
           "Cluster 1"
          ],
          [
           "Sudan",
           86.38,
           2591,
           105,
           "Cluster 1"
          ],
          [
           "Palestine",
           97.35,
           570,
           4,
           "Cluster 1"
          ],
          [
           "Paraguay",
           96.03,
           829,
           11,
           "Cluster 1"
          ],
          [
           "Portugal",
           76.71,
           29432,
           1247,
           "Cluster 1"
          ],
          [
           "Poland",
           88.09,
           19268,
           948,
           "Cluster 1"
          ],
          [
           "Panama",
           81.61,
           9867,
           281,
           "Cluster 1"
          ],
          [
           "Pakistan",
           82.02,
           45898,
           985,
           "Cluster 1"
          ],
          [
           "Malaysia",
           74.2,
           6978,
           114,
           "Cluster 1"
          ],
          [
           "Mauritius",
           84.78,
           332,
           10,
           "Cluster 1"
          ],
          [
           "Morocco",
           93.38,
           7023,
           193,
           "Cluster 1"
          ],
          [
           "Sri Lanka",
           82.27,
           1027,
           9,
           "Cluster 1"
          ],
          [
           "Libya",
           96.83,
           68,
           3,
           "Cluster 1"
          ],
          [
           "Suriname",
           77.12,
           11,
           1,
           "Cluster 1"
          ],
          [
           "Liberia",
           78.31,
           233,
           23,
           "Cluster 1"
          ],
          [
           "Kenya",
           94.18,
           963,
           50,
           "Cluster 1"
          ],
          [
           "Kazakhstan",
           79.37,
           6969,
           35,
           "Cluster 1"
          ],
          [
           "India",
           76.07,
           106750,
           3303,
           "Cluster 1"
          ],
          [
           "Guam",
           69.71,
           154,
           5,
           "Cluster 1"
          ],
          [
           "Ethiopia",
           76.19,
           365,
           5,
           "Cluster 1"
          ],
          [
           "Ecuador",
           85.85,
           34151,
           2839,
           "Cluster 1"
          ],
          [
           "Dominica",
           80.95,
           16,
           0,
           "Cluster 1"
          ],
          [
           "Cuba",
           100,
           1887,
           79,
           "Cluster 1"
          ],
          [
           "Vietnam",
           69.18,
           324,
           0,
           "Cluster 1"
          ],
          [
           "Congo",
           98.02,
           420,
           15,
           "Cluster 1"
          ],
          [
           "Central African Republic",
           69.97,
           411,
           0,
           "Cluster 1"
          ],
          [
           "Bolivia",
           97.35,
           4481,
           189,
           "Cluster 1"
          ],
          [
           "Bahrain",
           86.77,
           7532,
           12,
           "Cluster 1"
          ],
          [
           "Azerbaijan",
           86.24,
           3518,
           41,
           "Cluster 1"
          ],
          [
           "Lebanon",
           84.12,
           954,
           26,
           "Cluster 1"
          ],
          [
           "Venezuela",
           86.24,
           749,
           10,
           "Cluster 1"
          ],
          [
           "Slovak Republic",
           78.96,
           1495,
           28,
           "Cluster 1"
          ],
          [
           "Uruguay",
           71.16,
           738,
           20,
           "Cluster 1"
          ],
          [
           "Ireland",
           87.83,
           24251,
           1561,
           "Cluster 1"
          ],
          [
           "Indonesia",
           70.91,
           18496,
           1221,
           "Cluster 1"
          ],
          [
           "Honduras",
           100,
           2955,
           147,
           "Cluster 1"
          ],
          [
           "Guatemala",
           97.35,
           2133,
           43,
           "Cluster 1"
          ],
          [
           "Greenland",
           80.95,
           11,
           0,
           "Cluster 1"
          ],
          [
           "Greece",
           74.34,
           2840,
           165,
           "Cluster 1"
          ],
          [
           "Gambia",
           84.78,
           24,
           1,
           "Cluster 1"
          ],
          [
           "Georgia",
           94.18,
           707,
           12,
           "Cluster 1"
          ],
          [
           "Gabon",
           86.24,
           1502,
           12,
           "Cluster 1"
          ],
          [
           "Egypt",
           88.75,
           13484,
           659,
           "Cluster 1"
          ],
          [
           "Algeria",
           82.42,
           7377,
           561,
           "Cluster 1"
          ],
          [
           "Dominican Republic",
           98.02,
           13223,
           441,
           "Cluster 1"
          ],
          [
           "Djibouti",
           100,
           1518,
           7,
           "Cluster 1"
          ],
          [
           "Germany",
           71.44,
           176007,
           8090,
           "Cluster 1"
          ],
          [
           "Uzbekistan",
           85.19,
           2880,
           13,
           "Cluster 1"
          ],
          [
           "Cyprus",
           94.18,
           918,
           17,
           "Cluster 1"
          ],
          [
           "Cote d'Ivoire",
           70.25,
           2153,
           28,
           "Cluster 1"
          ],
          [
           "Chile",
           78.83,
           49579,
           509,
           "Cluster 1"
          ],
          [
           "Switzerland",
           71.55,
           30535,
           1613,
           "Cluster 1"
          ],
          [
           "Botswana",
           78.05,
           25,
           1,
           "Cluster 1"
          ],
          [
           "Barbados",
           71.42,
           90,
           7,
           "Cluster 1"
          ],
          [
           "Bermuda",
           80.15,
           125,
           9,
           "Cluster 1"
          ],
          [
           "Belize",
           87.04,
           18,
           2,
           "Cluster 1"
          ],
          [
           "Bosnia and Herzegovina",
           81.22,
           2319,
           133,
           "Cluster 1"
          ],
          [
           "Bangladesh",
           91.93,
           25121,
           370,
           "Cluster 1"
          ],
          [
           "Belgium",
           75.26,
           55791,
           9108,
           "Cluster 1"
          ],
          [
           "Argentina",
           91.54,
           8796,
           393,
           "Cluster 1"
          ],
          [
           "United Arab Emirates",
           77.78,
           25063,
           227,
           "Cluster 1"
          ],
          [
           "Albania",
           88.36,
           949,
           31,
           "Cluster 1"
          ],
          [
           "Angola",
           81.61,
           50,
           2,
           "Cluster 1"
          ],
          [
           "Democratic Republic of Congo",
           80.04,
           1731,
           61,
           "Cluster 1"
          ],
          [
           "Israel",
           82.93,
           16650,
           277,
           "Cluster 1"
          ],
          [
           "Iraq",
           80.42,
           3611,
           131,
           "Cluster 1"
          ],
          [
           "Jamaica",
           74.2,
           520,
           9,
           "Cluster 1"
          ],
          [
           "Ukraine",
           92.06,
           18876,
           548,
           "Cluster 1"
          ],
          [
           "Uganda",
           89.94,
           260,
           0,
           "Cluster 1"
          ],
          [
           "Turkey",
           80.42,
           151615,
           4199,
           "Cluster 1"
          ],
          [
           "Tunisia",
           87.96,
           1044,
           47,
           "Cluster 1"
          ],
          [
           "Trinidad and Tobago",
           93.38,
           116,
           8,
           "Cluster 1"
          ],
          [
           "Thailand",
           80.56,
           3034,
           56,
           "Cluster 1"
          ],
          [
           "Chad",
           86.38,
           545,
           56,
           "Cluster 1"
          ],
          [
           "Eswatini",
           84.26,
           208,
           2,
           "Cluster 1"
          ],
          [
           "South Sudan",
           94.71,
           285,
           6,
           "Cluster 1"
          ],
          [
           "El Salvador",
           100,
           1498,
           31,
           "Cluster 1"
          ],
          [
           "Singapore",
           85.18,
           28794,
           22,
           "Cluster 1"
          ],
          [
           "Saudi Arabia",
           87.84,
           59854,
           329,
           "Cluster 1"
          ],
          [
           "Rwanda",
           73.81,
           308,
           0,
           "Cluster 1"
          ],
          [
           "Romania",
           76.98,
           17191,
           1126,
           "Cluster 1"
          ],
          [
           "Philippines",
           94.58,
           12942,
           837,
           "Cluster 1"
          ],
          [
           "Qatar",
           90.74,
           35606,
           15,
           "Cluster 1"
          ],
          [
           "Mali",
           76.19,
           901,
           53,
           "Cluster 1"
          ],
          [
           "Kyrgyz Republic",
           78.85,
           1270,
           14,
           "Cluster 1"
          ],
          [
           "Kuwait",
           100,
           16764,
           121,
           "Cluster 1"
          ],
          [
           "Lesotho",
           72.87,
           1,
           0,
           "Cluster 1"
          ],
          [
           "Moldova",
           84.92,
           6340,
           221,
           "Cluster 1"
          ],
          [
           "Mexico",
           85.45,
           54346,
           5666,
           "Cluster 1"
          ],
          [
           "Peru",
           97.35,
           99483,
           2914,
           "Cluster 1"
          ],
          [
           "Kosovo",
           90.74,
           989,
           29,
           "Cluster 1"
          ],
          [
           "Mauritania",
           80.95,
           81,
           4,
           "Cluster 1"
          ],
          [
           "Nigeria",
           76.59,
           6401,
           192,
           "Cluster 1"
          ],
          [
           "Netherlands",
           76.71,
           44249,
           5715,
           "Cluster 1"
          ],
          [
           "Nepal",
           95.24,
           402,
           2,
           "Cluster 1"
          ],
          [
           "Oman",
           85.19,
           5671,
           27,
           "Cluster 1"
          ]
         ],
         "hoverlabel": {
          "namelength": 0
         },
         "hovertemplate": "Cluster=%{customdata[4]}<br>country_name=%{customdata[0]}<br>stringency_index=%{customdata[1]}<br>confirmed_cases=%{customdata[2]}<br>deaths=%{customdata[3]}",
         "legendgroup": "Cluster=Cluster 1",
         "marker": {
          "color": "#EF553B"
         },
         "name": "Cluster=Cluster 1",
         "notched": true,
         "offsetgroup": "Cluster=Cluster 1",
         "showlegend": false,
         "type": "box",
         "x": [
          "Cluster 1",
          "Cluster 1",
          "Cluster 1",
          "Cluster 1",
          "Cluster 1",
          "Cluster 1",
          "Cluster 1",
          "Cluster 1",
          "Cluster 1",
          "Cluster 1",
          "Cluster 1",
          "Cluster 1",
          "Cluster 1",
          "Cluster 1",
          "Cluster 1",
          "Cluster 1",
          "Cluster 1",
          "Cluster 1",
          "Cluster 1",
          "Cluster 1",
          "Cluster 1",
          "Cluster 1",
          "Cluster 1",
          "Cluster 1",
          "Cluster 1",
          "Cluster 1",
          "Cluster 1",
          "Cluster 1",
          "Cluster 1",
          "Cluster 1",
          "Cluster 1",
          "Cluster 1",
          "Cluster 1",
          "Cluster 1",
          "Cluster 1",
          "Cluster 1",
          "Cluster 1",
          "Cluster 1",
          "Cluster 1",
          "Cluster 1",
          "Cluster 1",
          "Cluster 1",
          "Cluster 1",
          "Cluster 1",
          "Cluster 1",
          "Cluster 1",
          "Cluster 1",
          "Cluster 1",
          "Cluster 1",
          "Cluster 1",
          "Cluster 1",
          "Cluster 1",
          "Cluster 1",
          "Cluster 1",
          "Cluster 1",
          "Cluster 1",
          "Cluster 1",
          "Cluster 1",
          "Cluster 1",
          "Cluster 1",
          "Cluster 1",
          "Cluster 1",
          "Cluster 1",
          "Cluster 1",
          "Cluster 1",
          "Cluster 1",
          "Cluster 1",
          "Cluster 1",
          "Cluster 1",
          "Cluster 1",
          "Cluster 1",
          "Cluster 1",
          "Cluster 1",
          "Cluster 1",
          "Cluster 1",
          "Cluster 1",
          "Cluster 1",
          "Cluster 1",
          "Cluster 1",
          "Cluster 1",
          "Cluster 1",
          "Cluster 1",
          "Cluster 1",
          "Cluster 1",
          "Cluster 1",
          "Cluster 1",
          "Cluster 1",
          "Cluster 1",
          "Cluster 1",
          "Cluster 1",
          "Cluster 1",
          "Cluster 1",
          "Cluster 1",
          "Cluster 1",
          "Cluster 1",
          "Cluster 1",
          "Cluster 1",
          "Cluster 1",
          "Cluster 1",
          "Cluster 1",
          "Cluster 1",
          "Cluster 1",
          "Cluster 1",
          "Cluster 1",
          "Cluster 1",
          "Cluster 1",
          "Cluster 1",
          "Cluster 1",
          "Cluster 1",
          "Cluster 1",
          "Cluster 1",
          "Cluster 1"
         ],
         "xaxis": "x2",
         "yaxis": "y2"
        },
        {
         "alignmentgroup": "True",
         "bingroup": "x",
         "hoverlabel": {
          "namelength": 0
         },
         "hovertemplate": "Cluster=%{x}<br>count=%{y}",
         "legendgroup": "Cluster=Cluster 2",
         "marker": {
          "color": "#00cc96",
          "opacity": 0.7
         },
         "name": "Cluster=Cluster 2",
         "offsetgroup": "Cluster=Cluster 2",
         "orientation": "v",
         "showlegend": true,
         "type": "histogram",
         "x": [
          "Cluster 2"
         ],
         "xaxis": "x",
         "yaxis": "y"
        },
        {
         "alignmentgroup": "True",
         "customdata": [
          [
           "United States",
           68.41,
           1528568,
           91921,
           "Cluster 2"
          ]
         ],
         "hoverlabel": {
          "namelength": 0
         },
         "hovertemplate": "Cluster=%{customdata[4]}<br>country_name=%{customdata[0]}<br>stringency_index=%{customdata[1]}<br>confirmed_cases=%{customdata[2]}<br>deaths=%{customdata[3]}",
         "legendgroup": "Cluster=Cluster 2",
         "marker": {
          "color": "#00cc96"
         },
         "name": "Cluster=Cluster 2",
         "notched": true,
         "offsetgroup": "Cluster=Cluster 2",
         "showlegend": false,
         "type": "box",
         "x": [
          "Cluster 2"
         ],
         "xaxis": "x2",
         "yaxis": "y2"
        },
        {
         "alignmentgroup": "True",
         "bingroup": "x",
         "hoverlabel": {
          "namelength": 0
         },
         "hovertemplate": "Cluster=%{x}<br>count=%{y}",
         "legendgroup": "Cluster=Cluster 3",
         "marker": {
          "color": "#ab63fa",
          "opacity": 0.7
         },
         "name": "Cluster=Cluster 3",
         "offsetgroup": "Cluster=Cluster 3",
         "orientation": "v",
         "showlegend": true,
         "type": "histogram",
         "x": [
          "Cluster 3",
          "Cluster 3",
          "Cluster 3",
          "Cluster 3",
          "Cluster 3"
         ],
         "xaxis": "x",
         "yaxis": "y"
        },
        {
         "alignmentgroup": "True",
         "customdata": [
          [
           "Brazil",
           75.15,
           271628,
           17971,
           "Cluster 3"
          ],
          [
           "United Kingdom",
           73.01,
           248818,
           35341,
           "Cluster 3"
          ],
          [
           "Spain",
           83.07,
           232555,
           27888,
           "Cluster 3"
          ],
          [
           "France",
           83.46,
           143427,
           28022,
           "Cluster 3"
          ],
          [
           "Italy",
           68.78,
           226699,
           32169,
           "Cluster 3"
          ]
         ],
         "hoverlabel": {
          "namelength": 0
         },
         "hovertemplate": "Cluster=%{customdata[4]}<br>country_name=%{customdata[0]}<br>stringency_index=%{customdata[1]}<br>confirmed_cases=%{customdata[2]}<br>deaths=%{customdata[3]}",
         "legendgroup": "Cluster=Cluster 3",
         "marker": {
          "color": "#ab63fa"
         },
         "name": "Cluster=Cluster 3",
         "notched": true,
         "offsetgroup": "Cluster=Cluster 3",
         "showlegend": false,
         "type": "box",
         "x": [
          "Cluster 3",
          "Cluster 3",
          "Cluster 3",
          "Cluster 3",
          "Cluster 3"
         ],
         "xaxis": "x2",
         "yaxis": "y2"
        }
       ],
       "layout": {
        "barmode": "relative",
        "legend": {
         "tracegroupgap": 0
        },
        "margin": {
         "t": 60
        },
        "template": {
         "data": {
          "bar": [
           {
            "error_x": {
             "color": "#2a3f5f"
            },
            "error_y": {
             "color": "#2a3f5f"
            },
            "marker": {
             "line": {
              "color": "#E5ECF6",
              "width": 0.5
             }
            },
            "type": "bar"
           }
          ],
          "barpolar": [
           {
            "marker": {
             "line": {
              "color": "#E5ECF6",
              "width": 0.5
             }
            },
            "type": "barpolar"
           }
          ],
          "carpet": [
           {
            "aaxis": {
             "endlinecolor": "#2a3f5f",
             "gridcolor": "white",
             "linecolor": "white",
             "minorgridcolor": "white",
             "startlinecolor": "#2a3f5f"
            },
            "baxis": {
             "endlinecolor": "#2a3f5f",
             "gridcolor": "white",
             "linecolor": "white",
             "minorgridcolor": "white",
             "startlinecolor": "#2a3f5f"
            },
            "type": "carpet"
           }
          ],
          "choropleth": [
           {
            "colorbar": {
             "outlinewidth": 0,
             "ticks": ""
            },
            "type": "choropleth"
           }
          ],
          "contour": [
           {
            "colorbar": {
             "outlinewidth": 0,
             "ticks": ""
            },
            "colorscale": [
             [
              0,
              "#0d0887"
             ],
             [
              0.1111111111111111,
              "#46039f"
             ],
             [
              0.2222222222222222,
              "#7201a8"
             ],
             [
              0.3333333333333333,
              "#9c179e"
             ],
             [
              0.4444444444444444,
              "#bd3786"
             ],
             [
              0.5555555555555556,
              "#d8576b"
             ],
             [
              0.6666666666666666,
              "#ed7953"
             ],
             [
              0.7777777777777778,
              "#fb9f3a"
             ],
             [
              0.8888888888888888,
              "#fdca26"
             ],
             [
              1,
              "#f0f921"
             ]
            ],
            "type": "contour"
           }
          ],
          "contourcarpet": [
           {
            "colorbar": {
             "outlinewidth": 0,
             "ticks": ""
            },
            "type": "contourcarpet"
           }
          ],
          "heatmap": [
           {
            "colorbar": {
             "outlinewidth": 0,
             "ticks": ""
            },
            "colorscale": [
             [
              0,
              "#0d0887"
             ],
             [
              0.1111111111111111,
              "#46039f"
             ],
             [
              0.2222222222222222,
              "#7201a8"
             ],
             [
              0.3333333333333333,
              "#9c179e"
             ],
             [
              0.4444444444444444,
              "#bd3786"
             ],
             [
              0.5555555555555556,
              "#d8576b"
             ],
             [
              0.6666666666666666,
              "#ed7953"
             ],
             [
              0.7777777777777778,
              "#fb9f3a"
             ],
             [
              0.8888888888888888,
              "#fdca26"
             ],
             [
              1,
              "#f0f921"
             ]
            ],
            "type": "heatmap"
           }
          ],
          "heatmapgl": [
           {
            "colorbar": {
             "outlinewidth": 0,
             "ticks": ""
            },
            "colorscale": [
             [
              0,
              "#0d0887"
             ],
             [
              0.1111111111111111,
              "#46039f"
             ],
             [
              0.2222222222222222,
              "#7201a8"
             ],
             [
              0.3333333333333333,
              "#9c179e"
             ],
             [
              0.4444444444444444,
              "#bd3786"
             ],
             [
              0.5555555555555556,
              "#d8576b"
             ],
             [
              0.6666666666666666,
              "#ed7953"
             ],
             [
              0.7777777777777778,
              "#fb9f3a"
             ],
             [
              0.8888888888888888,
              "#fdca26"
             ],
             [
              1,
              "#f0f921"
             ]
            ],
            "type": "heatmapgl"
           }
          ],
          "histogram": [
           {
            "marker": {
             "colorbar": {
              "outlinewidth": 0,
              "ticks": ""
             }
            },
            "type": "histogram"
           }
          ],
          "histogram2d": [
           {
            "colorbar": {
             "outlinewidth": 0,
             "ticks": ""
            },
            "colorscale": [
             [
              0,
              "#0d0887"
             ],
             [
              0.1111111111111111,
              "#46039f"
             ],
             [
              0.2222222222222222,
              "#7201a8"
             ],
             [
              0.3333333333333333,
              "#9c179e"
             ],
             [
              0.4444444444444444,
              "#bd3786"
             ],
             [
              0.5555555555555556,
              "#d8576b"
             ],
             [
              0.6666666666666666,
              "#ed7953"
             ],
             [
              0.7777777777777778,
              "#fb9f3a"
             ],
             [
              0.8888888888888888,
              "#fdca26"
             ],
             [
              1,
              "#f0f921"
             ]
            ],
            "type": "histogram2d"
           }
          ],
          "histogram2dcontour": [
           {
            "colorbar": {
             "outlinewidth": 0,
             "ticks": ""
            },
            "colorscale": [
             [
              0,
              "#0d0887"
             ],
             [
              0.1111111111111111,
              "#46039f"
             ],
             [
              0.2222222222222222,
              "#7201a8"
             ],
             [
              0.3333333333333333,
              "#9c179e"
             ],
             [
              0.4444444444444444,
              "#bd3786"
             ],
             [
              0.5555555555555556,
              "#d8576b"
             ],
             [
              0.6666666666666666,
              "#ed7953"
             ],
             [
              0.7777777777777778,
              "#fb9f3a"
             ],
             [
              0.8888888888888888,
              "#fdca26"
             ],
             [
              1,
              "#f0f921"
             ]
            ],
            "type": "histogram2dcontour"
           }
          ],
          "mesh3d": [
           {
            "colorbar": {
             "outlinewidth": 0,
             "ticks": ""
            },
            "type": "mesh3d"
           }
          ],
          "parcoords": [
           {
            "line": {
             "colorbar": {
              "outlinewidth": 0,
              "ticks": ""
             }
            },
            "type": "parcoords"
           }
          ],
          "pie": [
           {
            "automargin": true,
            "type": "pie"
           }
          ],
          "scatter": [
           {
            "marker": {
             "colorbar": {
              "outlinewidth": 0,
              "ticks": ""
             }
            },
            "type": "scatter"
           }
          ],
          "scatter3d": [
           {
            "line": {
             "colorbar": {
              "outlinewidth": 0,
              "ticks": ""
             }
            },
            "marker": {
             "colorbar": {
              "outlinewidth": 0,
              "ticks": ""
             }
            },
            "type": "scatter3d"
           }
          ],
          "scattercarpet": [
           {
            "marker": {
             "colorbar": {
              "outlinewidth": 0,
              "ticks": ""
             }
            },
            "type": "scattercarpet"
           }
          ],
          "scattergeo": [
           {
            "marker": {
             "colorbar": {
              "outlinewidth": 0,
              "ticks": ""
             }
            },
            "type": "scattergeo"
           }
          ],
          "scattergl": [
           {
            "marker": {
             "colorbar": {
              "outlinewidth": 0,
              "ticks": ""
             }
            },
            "type": "scattergl"
           }
          ],
          "scattermapbox": [
           {
            "marker": {
             "colorbar": {
              "outlinewidth": 0,
              "ticks": ""
             }
            },
            "type": "scattermapbox"
           }
          ],
          "scatterpolar": [
           {
            "marker": {
             "colorbar": {
              "outlinewidth": 0,
              "ticks": ""
             }
            },
            "type": "scatterpolar"
           }
          ],
          "scatterpolargl": [
           {
            "marker": {
             "colorbar": {
              "outlinewidth": 0,
              "ticks": ""
             }
            },
            "type": "scatterpolargl"
           }
          ],
          "scatterternary": [
           {
            "marker": {
             "colorbar": {
              "outlinewidth": 0,
              "ticks": ""
             }
            },
            "type": "scatterternary"
           }
          ],
          "surface": [
           {
            "colorbar": {
             "outlinewidth": 0,
             "ticks": ""
            },
            "colorscale": [
             [
              0,
              "#0d0887"
             ],
             [
              0.1111111111111111,
              "#46039f"
             ],
             [
              0.2222222222222222,
              "#7201a8"
             ],
             [
              0.3333333333333333,
              "#9c179e"
             ],
             [
              0.4444444444444444,
              "#bd3786"
             ],
             [
              0.5555555555555556,
              "#d8576b"
             ],
             [
              0.6666666666666666,
              "#ed7953"
             ],
             [
              0.7777777777777778,
              "#fb9f3a"
             ],
             [
              0.8888888888888888,
              "#fdca26"
             ],
             [
              1,
              "#f0f921"
             ]
            ],
            "type": "surface"
           }
          ],
          "table": [
           {
            "cells": {
             "fill": {
              "color": "#EBF0F8"
             },
             "line": {
              "color": "white"
             }
            },
            "header": {
             "fill": {
              "color": "#C8D4E3"
             },
             "line": {
              "color": "white"
             }
            },
            "type": "table"
           }
          ]
         },
         "layout": {
          "annotationdefaults": {
           "arrowcolor": "#2a3f5f",
           "arrowhead": 0,
           "arrowwidth": 1
          },
          "coloraxis": {
           "colorbar": {
            "outlinewidth": 0,
            "ticks": ""
           }
          },
          "colorscale": {
           "diverging": [
            [
             0,
             "#8e0152"
            ],
            [
             0.1,
             "#c51b7d"
            ],
            [
             0.2,
             "#de77ae"
            ],
            [
             0.3,
             "#f1b6da"
            ],
            [
             0.4,
             "#fde0ef"
            ],
            [
             0.5,
             "#f7f7f7"
            ],
            [
             0.6,
             "#e6f5d0"
            ],
            [
             0.7,
             "#b8e186"
            ],
            [
             0.8,
             "#7fbc41"
            ],
            [
             0.9,
             "#4d9221"
            ],
            [
             1,
             "#276419"
            ]
           ],
           "sequential": [
            [
             0,
             "#0d0887"
            ],
            [
             0.1111111111111111,
             "#46039f"
            ],
            [
             0.2222222222222222,
             "#7201a8"
            ],
            [
             0.3333333333333333,
             "#9c179e"
            ],
            [
             0.4444444444444444,
             "#bd3786"
            ],
            [
             0.5555555555555556,
             "#d8576b"
            ],
            [
             0.6666666666666666,
             "#ed7953"
            ],
            [
             0.7777777777777778,
             "#fb9f3a"
            ],
            [
             0.8888888888888888,
             "#fdca26"
            ],
            [
             1,
             "#f0f921"
            ]
           ],
           "sequentialminus": [
            [
             0,
             "#0d0887"
            ],
            [
             0.1111111111111111,
             "#46039f"
            ],
            [
             0.2222222222222222,
             "#7201a8"
            ],
            [
             0.3333333333333333,
             "#9c179e"
            ],
            [
             0.4444444444444444,
             "#bd3786"
            ],
            [
             0.5555555555555556,
             "#d8576b"
            ],
            [
             0.6666666666666666,
             "#ed7953"
            ],
            [
             0.7777777777777778,
             "#fb9f3a"
            ],
            [
             0.8888888888888888,
             "#fdca26"
            ],
            [
             1,
             "#f0f921"
            ]
           ]
          },
          "colorway": [
           "#636efa",
           "#EF553B",
           "#00cc96",
           "#ab63fa",
           "#FFA15A",
           "#19d3f3",
           "#FF6692",
           "#B6E880",
           "#FF97FF",
           "#FECB52"
          ],
          "font": {
           "color": "#2a3f5f"
          },
          "geo": {
           "bgcolor": "white",
           "lakecolor": "white",
           "landcolor": "#E5ECF6",
           "showlakes": true,
           "showland": true,
           "subunitcolor": "white"
          },
          "hoverlabel": {
           "align": "left"
          },
          "hovermode": "closest",
          "mapbox": {
           "style": "light"
          },
          "paper_bgcolor": "white",
          "plot_bgcolor": "#E5ECF6",
          "polar": {
           "angularaxis": {
            "gridcolor": "white",
            "linecolor": "white",
            "ticks": ""
           },
           "bgcolor": "#E5ECF6",
           "radialaxis": {
            "gridcolor": "white",
            "linecolor": "white",
            "ticks": ""
           }
          },
          "scene": {
           "xaxis": {
            "backgroundcolor": "#E5ECF6",
            "gridcolor": "white",
            "gridwidth": 2,
            "linecolor": "white",
            "showbackground": true,
            "ticks": "",
            "zerolinecolor": "white"
           },
           "yaxis": {
            "backgroundcolor": "#E5ECF6",
            "gridcolor": "white",
            "gridwidth": 2,
            "linecolor": "white",
            "showbackground": true,
            "ticks": "",
            "zerolinecolor": "white"
           },
           "zaxis": {
            "backgroundcolor": "#E5ECF6",
            "gridcolor": "white",
            "gridwidth": 2,
            "linecolor": "white",
            "showbackground": true,
            "ticks": "",
            "zerolinecolor": "white"
           }
          },
          "shapedefaults": {
           "line": {
            "color": "#2a3f5f"
           }
          },
          "ternary": {
           "aaxis": {
            "gridcolor": "white",
            "linecolor": "white",
            "ticks": ""
           },
           "baxis": {
            "gridcolor": "white",
            "linecolor": "white",
            "ticks": ""
           },
           "bgcolor": "#E5ECF6",
           "caxis": {
            "gridcolor": "white",
            "linecolor": "white",
            "ticks": ""
           }
          },
          "title": {
           "x": 0.05
          },
          "xaxis": {
           "automargin": true,
           "gridcolor": "white",
           "linecolor": "white",
           "ticks": "",
           "title": {
            "standoff": 15
           },
           "zerolinecolor": "white",
           "zerolinewidth": 2
          },
          "yaxis": {
           "automargin": true,
           "gridcolor": "white",
           "linecolor": "white",
           "ticks": "",
           "title": {
            "standoff": 15
           },
           "zerolinecolor": "white",
           "zerolinewidth": 2
          }
         }
        },
        "xaxis": {
         "anchor": "y",
         "categoryarray": [
          "Cluster 0",
          "Cluster 1",
          "Cluster 2",
          "Cluster 3"
         ],
         "categoryorder": "array",
         "domain": [
          0,
          1
         ],
         "title": {
          "text": "Cluster"
         }
        },
        "xaxis2": {
         "anchor": "y2",
         "domain": [
          0,
          1
         ],
         "matches": "x",
         "showgrid": true,
         "showticklabels": false
        },
        "yaxis": {
         "anchor": "x",
         "domain": [
          0,
          0.7326
         ],
         "title": {
          "text": "count"
         }
        },
        "yaxis2": {
         "anchor": "x2",
         "domain": [
          0.7426,
          1
         ],
         "matches": "y2",
         "showgrid": false,
         "showline": false,
         "showticklabels": false,
         "ticks": ""
        }
       }
      },
      "text/html": [
       "<div>\n",
       "        \n",
       "        \n",
       "            <div id=\"95ce8a56-448d-455c-a289-8f2a21bee620\" class=\"plotly-graph-div\" style=\"height:525px; width:100%;\"></div>\n",
       "            <script type=\"text/javascript\">\n",
       "                require([\"plotly\"], function(Plotly) {\n",
       "                    window.PLOTLYENV=window.PLOTLYENV || {};\n",
       "                    \n",
       "                if (document.getElementById(\"95ce8a56-448d-455c-a289-8f2a21bee620\")) {\n",
       "                    Plotly.newPlot(\n",
       "                        '95ce8a56-448d-455c-a289-8f2a21bee620',\n",
       "                        [{\"alignmentgroup\": \"True\", \"bingroup\": \"x\", \"hoverlabel\": {\"namelength\": 0}, \"hovertemplate\": \"Cluster=%{x}<br>count=%{y}\", \"legendgroup\": \"Cluster=Cluster 0\", \"marker\": {\"color\": \"#636efa\", \"opacity\": 0.7}, \"name\": \"Cluster=Cluster 0\", \"offsetgroup\": \"Cluster=Cluster 0\", \"orientation\": \"v\", \"showlegend\": true, \"type\": \"histogram\", \"x\": [\"Cluster 0\", \"Cluster 0\", \"Cluster 0\", \"Cluster 0\", \"Cluster 0\", \"Cluster 0\", \"Cluster 0\", \"Cluster 0\", \"Cluster 0\", \"Cluster 0\", \"Cluster 0\", \"Cluster 0\", \"Cluster 0\", \"Cluster 0\", \"Cluster 0\", \"Cluster 0\", \"Cluster 0\", \"Cluster 0\", \"Cluster 0\", \"Cluster 0\", \"Cluster 0\", \"Cluster 0\", \"Cluster 0\", \"Cluster 0\", \"Cluster 0\", \"Cluster 0\", \"Cluster 0\", \"Cluster 0\", \"Cluster 0\", \"Cluster 0\", \"Cluster 0\", \"Cluster 0\", \"Cluster 0\", \"Cluster 0\", \"Cluster 0\", \"Cluster 0\", \"Cluster 0\", \"Cluster 0\", \"Cluster 0\", \"Cluster 0\", \"Cluster 0\", \"Cluster 0\", \"Cluster 0\", \"Cluster 0\", \"Cluster 0\", \"Cluster 0\", \"Cluster 0\"], \"xaxis\": \"x\", \"yaxis\": \"y\"}, {\"alignmentgroup\": \"True\", \"customdata\": [[\"Iran\", 47.23, 124603.0, 7119.0, \"Cluster 0\"], [\"Laos\", 56.22, 19.0, 0.0, \"Cluster 0\"], [\"Estonia\", 41.54, 1791.0, 64.0, \"Cluster 0\"], [\"Finland\", 65.74, 6399.0, 301.0, \"Cluster 0\"], [\"Solomon Islands\", 50.41, 0.0, 0.0, \"Cluster 0\"], [\"Iceland\", 56.61, 1802.0, 10.0, \"Cluster 0\"], [\"Ghana\", 66.53, 6096.0, 31.0, \"Cluster 0\"], [\"Croatia\", 66.53, 2232.0, 96.0, \"Cluster 0\"], [\"Papua New Guinea\", 43.66, 8.0, 0.0, \"Cluster 0\"], [\"Hong Kong\", 67.85, 1055.0, 4.0, \"Cluster 0\"], [\"New Zealand\", 38.49, 1153.0, 21.0, \"Cluster 0\"], [\"South Korea\", 43.51, 11110.0, 263.0, \"Cluster 0\"], [\"Hungary\", 59.53, 3598.0, 470.0, \"Cluster 0\"], [\"Brunei\", 56.74, 141.0, 1.0, \"Cluster 0\"], [\"Nicaragua\", 11.11, 25.0, 8.0, \"Cluster 0\"], [\"Niger\", 33.33, 914.0, 55.0, \"Cluster 0\"], [\"Benin\", 48.15, 130.0, 2.0, \"Cluster 0\"], [\"Namibia\", 61.24, 712.0, 7.0, \"Cluster 0\"], [\"Austria\", 56.34, 16257.0, 632.0, \"Cluster 0\"], [\"Luxembourg\", 65.73, 3958.0, 109.0, \"Cluster 0\"], [\"Australia\", 66.14, 7068.0, 99.0, \"Cluster 0\"], [\"Madagascar\", 64.43, 326.0, 2.0, \"Cluster 0\"], [\"Malawi\", 59.26, 71.0, 3.0, \"Cluster 0\"], [\"Andorra\", 56.34, 761.0, 51.0, \"Cluster 0\"], [\"Somalia\", 59.39, 1502.0, 59.0, \"Cluster 0\"], [\"Senegal\", 62.7, 2617.0, 30.0, \"Cluster 0\"], [\"Macao\", 39.02, 45.0, 0.0, \"Cluster 0\"], [\"Seychelles\", 65.87, 11.0, 0.0, \"Cluster 0\"], [\"Bulgaria\", 63.89, 2292.0, 116.0, \"Cluster 0\"], [\"Yemen\", 54.23, 167.0, 28.0, \"Cluster 0\"], [\"Slovenia\", 61.25, 1467.0, 104.0, \"Cluster 0\"], [\"Tanzania\", 50.4, 509.0, 21.0, \"Cluster 0\"], [\"Burundi\", 22.22, 42.0, 1.0, \"Cluster 0\"], [\"Zambia\", 45.37, 772.0, 7.0, \"Cluster 0\"], [\"Burkina Faso\", 62.04, 806.0, 52.0, \"Cluster 0\"], [\"Taiwan\", 29.36, 440.0, 7.0, \"Cluster 0\"], [\"Belarus\", 15.47, 31508.0, 175.0, \"Cluster 0\"], [\"Czech Republic\", 59.65, 8647.0, 302.0, \"Cluster 0\"], [\"Japan\", 43.79, 16385.0, 771.0, \"Cluster 0\"], [\"Sweden\", 47.35, 30799.0, 3743.0, \"Cluster 0\"], [\"Mozambique\", 53.83, 146.0, 0.0, \"Cluster 0\"], [\"Norway\", 58.07, 8257.0, 233.0, \"Cluster 0\"], [\"Canada\", 67.74, 79101.0, 5912.0, \"Cluster 0\"], [\"Serbia\", 56.87, 10733.0, 234.0, \"Cluster 0\"], [\"Cameroon\", 67.85, 3529.0, 140.0, \"Cluster 0\"], [\"Mongolia\", 67.99, 140.0, 0.0, \"Cluster 0\"], [\"China\", 64.44, 84065.0, 4638.0, \"Cluster 0\"]], \"hoverlabel\": {\"namelength\": 0}, \"hovertemplate\": \"Cluster=%{customdata[4]}<br>country_name=%{customdata[0]}<br>stringency_index=%{customdata[1]}<br>confirmed_cases=%{customdata[2]}<br>deaths=%{customdata[3]}\", \"legendgroup\": \"Cluster=Cluster 0\", \"marker\": {\"color\": \"#636efa\"}, \"name\": \"Cluster=Cluster 0\", \"notched\": true, \"offsetgroup\": \"Cluster=Cluster 0\", \"showlegend\": false, \"type\": \"box\", \"x\": [\"Cluster 0\", \"Cluster 0\", \"Cluster 0\", \"Cluster 0\", \"Cluster 0\", \"Cluster 0\", \"Cluster 0\", \"Cluster 0\", \"Cluster 0\", \"Cluster 0\", \"Cluster 0\", \"Cluster 0\", \"Cluster 0\", \"Cluster 0\", \"Cluster 0\", \"Cluster 0\", \"Cluster 0\", \"Cluster 0\", \"Cluster 0\", \"Cluster 0\", \"Cluster 0\", \"Cluster 0\", \"Cluster 0\", \"Cluster 0\", \"Cluster 0\", \"Cluster 0\", \"Cluster 0\", \"Cluster 0\", \"Cluster 0\", \"Cluster 0\", \"Cluster 0\", \"Cluster 0\", \"Cluster 0\", \"Cluster 0\", \"Cluster 0\", \"Cluster 0\", \"Cluster 0\", \"Cluster 0\", \"Cluster 0\", \"Cluster 0\", \"Cluster 0\", \"Cluster 0\", \"Cluster 0\", \"Cluster 0\", \"Cluster 0\", \"Cluster 0\", \"Cluster 0\"], \"xaxis\": \"x2\", \"yaxis\": \"y2\"}, {\"alignmentgroup\": \"True\", \"bingroup\": \"x\", \"hoverlabel\": {\"namelength\": 0}, \"hovertemplate\": \"Cluster=%{x}<br>count=%{y}\", \"legendgroup\": \"Cluster=Cluster 1\", \"marker\": {\"color\": \"#EF553B\", \"opacity\": 0.7}, \"name\": \"Cluster=Cluster 1\", \"offsetgroup\": \"Cluster=Cluster 1\", \"orientation\": \"v\", \"showlegend\": true, \"type\": \"histogram\", \"x\": [\"Cluster 1\", \"Cluster 1\", \"Cluster 1\", \"Cluster 1\", \"Cluster 1\", \"Cluster 1\", \"Cluster 1\", \"Cluster 1\", \"Cluster 1\", \"Cluster 1\", \"Cluster 1\", \"Cluster 1\", \"Cluster 1\", \"Cluster 1\", \"Cluster 1\", \"Cluster 1\", \"Cluster 1\", \"Cluster 1\", \"Cluster 1\", \"Cluster 1\", \"Cluster 1\", \"Cluster 1\", \"Cluster 1\", \"Cluster 1\", \"Cluster 1\", \"Cluster 1\", \"Cluster 1\", \"Cluster 1\", \"Cluster 1\", \"Cluster 1\", \"Cluster 1\", \"Cluster 1\", \"Cluster 1\", \"Cluster 1\", \"Cluster 1\", \"Cluster 1\", \"Cluster 1\", \"Cluster 1\", \"Cluster 1\", \"Cluster 1\", \"Cluster 1\", \"Cluster 1\", \"Cluster 1\", \"Cluster 1\", \"Cluster 1\", \"Cluster 1\", \"Cluster 1\", \"Cluster 1\", \"Cluster 1\", \"Cluster 1\", \"Cluster 1\", \"Cluster 1\", \"Cluster 1\", \"Cluster 1\", \"Cluster 1\", \"Cluster 1\", \"Cluster 1\", \"Cluster 1\", \"Cluster 1\", \"Cluster 1\", \"Cluster 1\", \"Cluster 1\", \"Cluster 1\", \"Cluster 1\", \"Cluster 1\", \"Cluster 1\", \"Cluster 1\", \"Cluster 1\", \"Cluster 1\", \"Cluster 1\", \"Cluster 1\", \"Cluster 1\", \"Cluster 1\", \"Cluster 1\", \"Cluster 1\", \"Cluster 1\", \"Cluster 1\", \"Cluster 1\", \"Cluster 1\", \"Cluster 1\", \"Cluster 1\", \"Cluster 1\", \"Cluster 1\", \"Cluster 1\", \"Cluster 1\", \"Cluster 1\", \"Cluster 1\", \"Cluster 1\", \"Cluster 1\", \"Cluster 1\", \"Cluster 1\", \"Cluster 1\", \"Cluster 1\", \"Cluster 1\", \"Cluster 1\", \"Cluster 1\", \"Cluster 1\", \"Cluster 1\", \"Cluster 1\", \"Cluster 1\", \"Cluster 1\", \"Cluster 1\", \"Cluster 1\", \"Cluster 1\", \"Cluster 1\", \"Cluster 1\", \"Cluster 1\", \"Cluster 1\", \"Cluster 1\", \"Cluster 1\", \"Cluster 1\", \"Cluster 1\"], \"xaxis\": \"x\", \"yaxis\": \"y\"}, {\"alignmentgroup\": \"True\", \"customdata\": [[\"Puerto Rico\", 97.35, 2805.0, 124.0, \"Cluster 1\"], [\"Russia\", 71.71, 299941.0, 2837.0, \"Cluster 1\"], [\"South Africa\", 88.75, 17200.0, 312.0, \"Cluster 1\"], [\"Guyana\", 82.27, 125.0, 10.0, \"Cluster 1\"], [\"Denmark\", 75.52, 11044.0, 551.0, \"Cluster 1\"], [\"Aruba\", 80.82, 101.0, 3.0, \"Cluster 1\"], [\"Costa Rica\", 74.99, 882.0, 10.0, \"Cluster 1\"], [\"Zimbabwe\", 91.4, 46.0, 4.0, \"Cluster 1\"], [\"Colombia\", 90.74, 16935.0, 613.0, \"Cluster 1\"], [\"Sierra Leone\", 77.64, 534.0, 33.0, \"Cluster 1\"], [\"Cape Verde\", 82.41, 335.0, 3.0, \"Cluster 1\"], [\"Jordan\", 72.48, 649.0, 9.0, \"Cluster 1\"], [\"Bhutan\", 78.3, 21.0, 0.0, \"Cluster 1\"], [\"Myanmar\", 79.24, 193.0, 6.0, \"Cluster 1\"], [\"Afghanistan\", 76.33, 7653.0, 178.0, \"Cluster 1\"], [\"Syria\", 80.43, 58.0, 3.0, \"Cluster 1\"], [\"San Marino\", 71.42, 655.0, 41.0, \"Cluster 1\"], [\"Sudan\", 86.38, 2591.0, 105.0, \"Cluster 1\"], [\"Palestine\", 97.35, 570.0, 4.0, \"Cluster 1\"], [\"Paraguay\", 96.03, 829.0, 11.0, \"Cluster 1\"], [\"Portugal\", 76.71, 29432.0, 1247.0, \"Cluster 1\"], [\"Poland\", 88.09, 19268.0, 948.0, \"Cluster 1\"], [\"Panama\", 81.61, 9867.0, 281.0, \"Cluster 1\"], [\"Pakistan\", 82.02, 45898.0, 985.0, \"Cluster 1\"], [\"Malaysia\", 74.2, 6978.0, 114.0, \"Cluster 1\"], [\"Mauritius\", 84.78, 332.0, 10.0, \"Cluster 1\"], [\"Morocco\", 93.38, 7023.0, 193.0, \"Cluster 1\"], [\"Sri Lanka\", 82.27, 1027.0, 9.0, \"Cluster 1\"], [\"Libya\", 96.83, 68.0, 3.0, \"Cluster 1\"], [\"Suriname\", 77.12, 11.0, 1.0, \"Cluster 1\"], [\"Liberia\", 78.31, 233.0, 23.0, \"Cluster 1\"], [\"Kenya\", 94.18, 963.0, 50.0, \"Cluster 1\"], [\"Kazakhstan\", 79.37, 6969.0, 35.0, \"Cluster 1\"], [\"India\", 76.07, 106750.0, 3303.0, \"Cluster 1\"], [\"Guam\", 69.71, 154.0, 5.0, \"Cluster 1\"], [\"Ethiopia\", 76.19, 365.0, 5.0, \"Cluster 1\"], [\"Ecuador\", 85.85, 34151.0, 2839.0, \"Cluster 1\"], [\"Dominica\", 80.95, 16.0, 0.0, \"Cluster 1\"], [\"Cuba\", 100.0, 1887.0, 79.0, \"Cluster 1\"], [\"Vietnam\", 69.18, 324.0, 0.0, \"Cluster 1\"], [\"Congo\", 98.02, 420.0, 15.0, \"Cluster 1\"], [\"Central African Republic\", 69.97, 411.0, 0.0, \"Cluster 1\"], [\"Bolivia\", 97.35, 4481.0, 189.0, \"Cluster 1\"], [\"Bahrain\", 86.77, 7532.0, 12.0, \"Cluster 1\"], [\"Azerbaijan\", 86.24, 3518.0, 41.0, \"Cluster 1\"], [\"Lebanon\", 84.12, 954.0, 26.0, \"Cluster 1\"], [\"Venezuela\", 86.24, 749.0, 10.0, \"Cluster 1\"], [\"Slovak Republic\", 78.96, 1495.0, 28.0, \"Cluster 1\"], [\"Uruguay\", 71.16, 738.0, 20.0, \"Cluster 1\"], [\"Ireland\", 87.83, 24251.0, 1561.0, \"Cluster 1\"], [\"Indonesia\", 70.91, 18496.0, 1221.0, \"Cluster 1\"], [\"Honduras\", 100.0, 2955.0, 147.0, \"Cluster 1\"], [\"Guatemala\", 97.35, 2133.0, 43.0, \"Cluster 1\"], [\"Greenland\", 80.95, 11.0, 0.0, \"Cluster 1\"], [\"Greece\", 74.34, 2840.0, 165.0, \"Cluster 1\"], [\"Gambia\", 84.78, 24.0, 1.0, \"Cluster 1\"], [\"Georgia\", 94.18, 707.0, 12.0, \"Cluster 1\"], [\"Gabon\", 86.24, 1502.0, 12.0, \"Cluster 1\"], [\"Egypt\", 88.75, 13484.0, 659.0, \"Cluster 1\"], [\"Algeria\", 82.42, 7377.0, 561.0, \"Cluster 1\"], [\"Dominican Republic\", 98.02, 13223.0, 441.0, \"Cluster 1\"], [\"Djibouti\", 100.0, 1518.0, 7.0, \"Cluster 1\"], [\"Germany\", 71.44, 176007.0, 8090.0, \"Cluster 1\"], [\"Uzbekistan\", 85.19, 2880.0, 13.0, \"Cluster 1\"], [\"Cyprus\", 94.18, 918.0, 17.0, \"Cluster 1\"], [\"Cote d'Ivoire\", 70.25, 2153.0, 28.0, \"Cluster 1\"], [\"Chile\", 78.83, 49579.0, 509.0, \"Cluster 1\"], [\"Switzerland\", 71.55, 30535.0, 1613.0, \"Cluster 1\"], [\"Botswana\", 78.05, 25.0, 1.0, \"Cluster 1\"], [\"Barbados\", 71.42, 90.0, 7.0, \"Cluster 1\"], [\"Bermuda\", 80.15, 125.0, 9.0, \"Cluster 1\"], [\"Belize\", 87.04, 18.0, 2.0, \"Cluster 1\"], [\"Bosnia and Herzegovina\", 81.22, 2319.0, 133.0, \"Cluster 1\"], [\"Bangladesh\", 91.93, 25121.0, 370.0, \"Cluster 1\"], [\"Belgium\", 75.26, 55791.0, 9108.0, \"Cluster 1\"], [\"Argentina\", 91.54, 8796.0, 393.0, \"Cluster 1\"], [\"United Arab Emirates\", 77.78, 25063.0, 227.0, \"Cluster 1\"], [\"Albania\", 88.36, 949.0, 31.0, \"Cluster 1\"], [\"Angola\", 81.61, 50.0, 2.0, \"Cluster 1\"], [\"Democratic Republic of Congo\", 80.04, 1731.0, 61.0, \"Cluster 1\"], [\"Israel\", 82.93, 16650.0, 277.0, \"Cluster 1\"], [\"Iraq\", 80.42, 3611.0, 131.0, \"Cluster 1\"], [\"Jamaica\", 74.2, 520.0, 9.0, \"Cluster 1\"], [\"Ukraine\", 92.06, 18876.0, 548.0, \"Cluster 1\"], [\"Uganda\", 89.94, 260.0, 0.0, \"Cluster 1\"], [\"Turkey\", 80.42, 151615.0, 4199.0, \"Cluster 1\"], [\"Tunisia\", 87.96, 1044.0, 47.0, \"Cluster 1\"], [\"Trinidad and Tobago\", 93.38, 116.0, 8.0, \"Cluster 1\"], [\"Thailand\", 80.56, 3034.0, 56.0, \"Cluster 1\"], [\"Chad\", 86.38, 545.0, 56.0, \"Cluster 1\"], [\"Eswatini\", 84.26, 208.0, 2.0, \"Cluster 1\"], [\"South Sudan\", 94.71, 285.0, 6.0, \"Cluster 1\"], [\"El Salvador\", 100.0, 1498.0, 31.0, \"Cluster 1\"], [\"Singapore\", 85.18, 28794.0, 22.0, \"Cluster 1\"], [\"Saudi Arabia\", 87.84, 59854.0, 329.0, \"Cluster 1\"], [\"Rwanda\", 73.81, 308.0, 0.0, \"Cluster 1\"], [\"Romania\", 76.98, 17191.0, 1126.0, \"Cluster 1\"], [\"Philippines\", 94.58, 12942.0, 837.0, \"Cluster 1\"], [\"Qatar\", 90.74, 35606.0, 15.0, \"Cluster 1\"], [\"Mali\", 76.19, 901.0, 53.0, \"Cluster 1\"], [\"Kyrgyz Republic\", 78.85, 1270.0, 14.0, \"Cluster 1\"], [\"Kuwait\", 100.0, 16764.0, 121.0, \"Cluster 1\"], [\"Lesotho\", 72.87, 1.0, 0.0, \"Cluster 1\"], [\"Moldova\", 84.92, 6340.0, 221.0, \"Cluster 1\"], [\"Mexico\", 85.45, 54346.0, 5666.0, \"Cluster 1\"], [\"Peru\", 97.35, 99483.0, 2914.0, \"Cluster 1\"], [\"Kosovo\", 90.74, 989.0, 29.0, \"Cluster 1\"], [\"Mauritania\", 80.95, 81.0, 4.0, \"Cluster 1\"], [\"Nigeria\", 76.59, 6401.0, 192.0, \"Cluster 1\"], [\"Netherlands\", 76.71, 44249.0, 5715.0, \"Cluster 1\"], [\"Nepal\", 95.24, 402.0, 2.0, \"Cluster 1\"], [\"Oman\", 85.19, 5671.0, 27.0, \"Cluster 1\"]], \"hoverlabel\": {\"namelength\": 0}, \"hovertemplate\": \"Cluster=%{customdata[4]}<br>country_name=%{customdata[0]}<br>stringency_index=%{customdata[1]}<br>confirmed_cases=%{customdata[2]}<br>deaths=%{customdata[3]}\", \"legendgroup\": \"Cluster=Cluster 1\", \"marker\": {\"color\": \"#EF553B\"}, \"name\": \"Cluster=Cluster 1\", \"notched\": true, \"offsetgroup\": \"Cluster=Cluster 1\", \"showlegend\": false, \"type\": \"box\", \"x\": [\"Cluster 1\", \"Cluster 1\", \"Cluster 1\", \"Cluster 1\", \"Cluster 1\", \"Cluster 1\", \"Cluster 1\", \"Cluster 1\", \"Cluster 1\", \"Cluster 1\", \"Cluster 1\", \"Cluster 1\", \"Cluster 1\", \"Cluster 1\", \"Cluster 1\", \"Cluster 1\", \"Cluster 1\", \"Cluster 1\", \"Cluster 1\", \"Cluster 1\", \"Cluster 1\", \"Cluster 1\", \"Cluster 1\", \"Cluster 1\", \"Cluster 1\", \"Cluster 1\", \"Cluster 1\", \"Cluster 1\", \"Cluster 1\", \"Cluster 1\", \"Cluster 1\", \"Cluster 1\", \"Cluster 1\", \"Cluster 1\", \"Cluster 1\", \"Cluster 1\", \"Cluster 1\", \"Cluster 1\", \"Cluster 1\", \"Cluster 1\", \"Cluster 1\", \"Cluster 1\", \"Cluster 1\", \"Cluster 1\", \"Cluster 1\", \"Cluster 1\", \"Cluster 1\", \"Cluster 1\", \"Cluster 1\", \"Cluster 1\", \"Cluster 1\", \"Cluster 1\", \"Cluster 1\", \"Cluster 1\", \"Cluster 1\", \"Cluster 1\", \"Cluster 1\", \"Cluster 1\", \"Cluster 1\", \"Cluster 1\", \"Cluster 1\", \"Cluster 1\", \"Cluster 1\", \"Cluster 1\", \"Cluster 1\", \"Cluster 1\", \"Cluster 1\", \"Cluster 1\", \"Cluster 1\", \"Cluster 1\", \"Cluster 1\", \"Cluster 1\", \"Cluster 1\", \"Cluster 1\", \"Cluster 1\", \"Cluster 1\", \"Cluster 1\", \"Cluster 1\", \"Cluster 1\", \"Cluster 1\", \"Cluster 1\", \"Cluster 1\", \"Cluster 1\", \"Cluster 1\", \"Cluster 1\", \"Cluster 1\", \"Cluster 1\", \"Cluster 1\", \"Cluster 1\", \"Cluster 1\", \"Cluster 1\", \"Cluster 1\", \"Cluster 1\", \"Cluster 1\", \"Cluster 1\", \"Cluster 1\", \"Cluster 1\", \"Cluster 1\", \"Cluster 1\", \"Cluster 1\", \"Cluster 1\", \"Cluster 1\", \"Cluster 1\", \"Cluster 1\", \"Cluster 1\", \"Cluster 1\", \"Cluster 1\", \"Cluster 1\", \"Cluster 1\", \"Cluster 1\", \"Cluster 1\", \"Cluster 1\"], \"xaxis\": \"x2\", \"yaxis\": \"y2\"}, {\"alignmentgroup\": \"True\", \"bingroup\": \"x\", \"hoverlabel\": {\"namelength\": 0}, \"hovertemplate\": \"Cluster=%{x}<br>count=%{y}\", \"legendgroup\": \"Cluster=Cluster 2\", \"marker\": {\"color\": \"#00cc96\", \"opacity\": 0.7}, \"name\": \"Cluster=Cluster 2\", \"offsetgroup\": \"Cluster=Cluster 2\", \"orientation\": \"v\", \"showlegend\": true, \"type\": \"histogram\", \"x\": [\"Cluster 2\"], \"xaxis\": \"x\", \"yaxis\": \"y\"}, {\"alignmentgroup\": \"True\", \"customdata\": [[\"United States\", 68.41, 1528568.0, 91921.0, \"Cluster 2\"]], \"hoverlabel\": {\"namelength\": 0}, \"hovertemplate\": \"Cluster=%{customdata[4]}<br>country_name=%{customdata[0]}<br>stringency_index=%{customdata[1]}<br>confirmed_cases=%{customdata[2]}<br>deaths=%{customdata[3]}\", \"legendgroup\": \"Cluster=Cluster 2\", \"marker\": {\"color\": \"#00cc96\"}, \"name\": \"Cluster=Cluster 2\", \"notched\": true, \"offsetgroup\": \"Cluster=Cluster 2\", \"showlegend\": false, \"type\": \"box\", \"x\": [\"Cluster 2\"], \"xaxis\": \"x2\", \"yaxis\": \"y2\"}, {\"alignmentgroup\": \"True\", \"bingroup\": \"x\", \"hoverlabel\": {\"namelength\": 0}, \"hovertemplate\": \"Cluster=%{x}<br>count=%{y}\", \"legendgroup\": \"Cluster=Cluster 3\", \"marker\": {\"color\": \"#ab63fa\", \"opacity\": 0.7}, \"name\": \"Cluster=Cluster 3\", \"offsetgroup\": \"Cluster=Cluster 3\", \"orientation\": \"v\", \"showlegend\": true, \"type\": \"histogram\", \"x\": [\"Cluster 3\", \"Cluster 3\", \"Cluster 3\", \"Cluster 3\", \"Cluster 3\"], \"xaxis\": \"x\", \"yaxis\": \"y\"}, {\"alignmentgroup\": \"True\", \"customdata\": [[\"Brazil\", 75.15, 271628.0, 17971.0, \"Cluster 3\"], [\"United Kingdom\", 73.01, 248818.0, 35341.0, \"Cluster 3\"], [\"Spain\", 83.07, 232555.0, 27888.0, \"Cluster 3\"], [\"France\", 83.46, 143427.0, 28022.0, \"Cluster 3\"], [\"Italy\", 68.78, 226699.0, 32169.0, \"Cluster 3\"]], \"hoverlabel\": {\"namelength\": 0}, \"hovertemplate\": \"Cluster=%{customdata[4]}<br>country_name=%{customdata[0]}<br>stringency_index=%{customdata[1]}<br>confirmed_cases=%{customdata[2]}<br>deaths=%{customdata[3]}\", \"legendgroup\": \"Cluster=Cluster 3\", \"marker\": {\"color\": \"#ab63fa\"}, \"name\": \"Cluster=Cluster 3\", \"notched\": true, \"offsetgroup\": \"Cluster=Cluster 3\", \"showlegend\": false, \"type\": \"box\", \"x\": [\"Cluster 3\", \"Cluster 3\", \"Cluster 3\", \"Cluster 3\", \"Cluster 3\"], \"xaxis\": \"x2\", \"yaxis\": \"y2\"}],\n",
       "                        {\"barmode\": \"relative\", \"legend\": {\"tracegroupgap\": 0}, \"margin\": {\"t\": 60}, \"template\": {\"data\": {\"bar\": [{\"error_x\": {\"color\": \"#2a3f5f\"}, \"error_y\": {\"color\": \"#2a3f5f\"}, \"marker\": {\"line\": {\"color\": \"#E5ECF6\", \"width\": 0.5}}, \"type\": \"bar\"}], \"barpolar\": [{\"marker\": {\"line\": {\"color\": \"#E5ECF6\", \"width\": 0.5}}, \"type\": \"barpolar\"}], \"carpet\": [{\"aaxis\": {\"endlinecolor\": \"#2a3f5f\", \"gridcolor\": \"white\", \"linecolor\": \"white\", \"minorgridcolor\": \"white\", \"startlinecolor\": \"#2a3f5f\"}, \"baxis\": {\"endlinecolor\": \"#2a3f5f\", \"gridcolor\": \"white\", \"linecolor\": \"white\", \"minorgridcolor\": \"white\", \"startlinecolor\": \"#2a3f5f\"}, \"type\": \"carpet\"}], \"choropleth\": [{\"colorbar\": {\"outlinewidth\": 0, \"ticks\": \"\"}, \"type\": \"choropleth\"}], \"contour\": [{\"colorbar\": {\"outlinewidth\": 0, \"ticks\": \"\"}, \"colorscale\": [[0.0, \"#0d0887\"], [0.1111111111111111, \"#46039f\"], [0.2222222222222222, \"#7201a8\"], [0.3333333333333333, \"#9c179e\"], [0.4444444444444444, \"#bd3786\"], [0.5555555555555556, \"#d8576b\"], [0.6666666666666666, \"#ed7953\"], [0.7777777777777778, \"#fb9f3a\"], [0.8888888888888888, \"#fdca26\"], [1.0, \"#f0f921\"]], \"type\": \"contour\"}], \"contourcarpet\": [{\"colorbar\": {\"outlinewidth\": 0, \"ticks\": \"\"}, \"type\": \"contourcarpet\"}], \"heatmap\": [{\"colorbar\": {\"outlinewidth\": 0, \"ticks\": \"\"}, \"colorscale\": [[0.0, \"#0d0887\"], [0.1111111111111111, \"#46039f\"], [0.2222222222222222, \"#7201a8\"], [0.3333333333333333, \"#9c179e\"], [0.4444444444444444, \"#bd3786\"], [0.5555555555555556, \"#d8576b\"], [0.6666666666666666, \"#ed7953\"], [0.7777777777777778, \"#fb9f3a\"], [0.8888888888888888, \"#fdca26\"], [1.0, \"#f0f921\"]], \"type\": \"heatmap\"}], \"heatmapgl\": [{\"colorbar\": {\"outlinewidth\": 0, \"ticks\": \"\"}, \"colorscale\": [[0.0, \"#0d0887\"], [0.1111111111111111, \"#46039f\"], [0.2222222222222222, \"#7201a8\"], [0.3333333333333333, \"#9c179e\"], [0.4444444444444444, \"#bd3786\"], [0.5555555555555556, \"#d8576b\"], [0.6666666666666666, \"#ed7953\"], [0.7777777777777778, \"#fb9f3a\"], [0.8888888888888888, \"#fdca26\"], [1.0, \"#f0f921\"]], \"type\": \"heatmapgl\"}], \"histogram\": [{\"marker\": {\"colorbar\": {\"outlinewidth\": 0, \"ticks\": \"\"}}, \"type\": \"histogram\"}], \"histogram2d\": [{\"colorbar\": {\"outlinewidth\": 0, \"ticks\": \"\"}, \"colorscale\": [[0.0, \"#0d0887\"], [0.1111111111111111, \"#46039f\"], [0.2222222222222222, \"#7201a8\"], [0.3333333333333333, \"#9c179e\"], [0.4444444444444444, \"#bd3786\"], [0.5555555555555556, \"#d8576b\"], [0.6666666666666666, \"#ed7953\"], [0.7777777777777778, \"#fb9f3a\"], [0.8888888888888888, \"#fdca26\"], [1.0, \"#f0f921\"]], \"type\": \"histogram2d\"}], \"histogram2dcontour\": [{\"colorbar\": {\"outlinewidth\": 0, \"ticks\": \"\"}, \"colorscale\": [[0.0, \"#0d0887\"], [0.1111111111111111, \"#46039f\"], [0.2222222222222222, \"#7201a8\"], [0.3333333333333333, \"#9c179e\"], [0.4444444444444444, \"#bd3786\"], [0.5555555555555556, \"#d8576b\"], [0.6666666666666666, \"#ed7953\"], [0.7777777777777778, \"#fb9f3a\"], [0.8888888888888888, \"#fdca26\"], [1.0, \"#f0f921\"]], \"type\": \"histogram2dcontour\"}], \"mesh3d\": [{\"colorbar\": {\"outlinewidth\": 0, \"ticks\": \"\"}, \"type\": \"mesh3d\"}], \"parcoords\": [{\"line\": {\"colorbar\": {\"outlinewidth\": 0, \"ticks\": \"\"}}, \"type\": \"parcoords\"}], \"pie\": [{\"automargin\": true, \"type\": \"pie\"}], \"scatter\": [{\"marker\": {\"colorbar\": {\"outlinewidth\": 0, \"ticks\": \"\"}}, \"type\": \"scatter\"}], \"scatter3d\": [{\"line\": {\"colorbar\": {\"outlinewidth\": 0, \"ticks\": \"\"}}, \"marker\": {\"colorbar\": {\"outlinewidth\": 0, \"ticks\": \"\"}}, \"type\": \"scatter3d\"}], \"scattercarpet\": [{\"marker\": {\"colorbar\": {\"outlinewidth\": 0, \"ticks\": \"\"}}, \"type\": \"scattercarpet\"}], \"scattergeo\": [{\"marker\": {\"colorbar\": {\"outlinewidth\": 0, \"ticks\": \"\"}}, \"type\": \"scattergeo\"}], \"scattergl\": [{\"marker\": {\"colorbar\": {\"outlinewidth\": 0, \"ticks\": \"\"}}, \"type\": \"scattergl\"}], \"scattermapbox\": [{\"marker\": {\"colorbar\": {\"outlinewidth\": 0, \"ticks\": \"\"}}, \"type\": \"scattermapbox\"}], \"scatterpolar\": [{\"marker\": {\"colorbar\": {\"outlinewidth\": 0, \"ticks\": \"\"}}, \"type\": \"scatterpolar\"}], \"scatterpolargl\": [{\"marker\": {\"colorbar\": {\"outlinewidth\": 0, \"ticks\": \"\"}}, \"type\": \"scatterpolargl\"}], \"scatterternary\": [{\"marker\": {\"colorbar\": {\"outlinewidth\": 0, \"ticks\": \"\"}}, \"type\": \"scatterternary\"}], \"surface\": [{\"colorbar\": {\"outlinewidth\": 0, \"ticks\": \"\"}, \"colorscale\": [[0.0, \"#0d0887\"], [0.1111111111111111, \"#46039f\"], [0.2222222222222222, \"#7201a8\"], [0.3333333333333333, \"#9c179e\"], [0.4444444444444444, \"#bd3786\"], [0.5555555555555556, \"#d8576b\"], [0.6666666666666666, \"#ed7953\"], [0.7777777777777778, \"#fb9f3a\"], [0.8888888888888888, \"#fdca26\"], [1.0, \"#f0f921\"]], \"type\": \"surface\"}], \"table\": [{\"cells\": {\"fill\": {\"color\": \"#EBF0F8\"}, \"line\": {\"color\": \"white\"}}, \"header\": {\"fill\": {\"color\": \"#C8D4E3\"}, \"line\": {\"color\": \"white\"}}, \"type\": \"table\"}]}, \"layout\": {\"annotationdefaults\": {\"arrowcolor\": \"#2a3f5f\", \"arrowhead\": 0, \"arrowwidth\": 1}, \"coloraxis\": {\"colorbar\": {\"outlinewidth\": 0, \"ticks\": \"\"}}, \"colorscale\": {\"diverging\": [[0, \"#8e0152\"], [0.1, \"#c51b7d\"], [0.2, \"#de77ae\"], [0.3, \"#f1b6da\"], [0.4, \"#fde0ef\"], [0.5, \"#f7f7f7\"], [0.6, \"#e6f5d0\"], [0.7, \"#b8e186\"], [0.8, \"#7fbc41\"], [0.9, \"#4d9221\"], [1, \"#276419\"]], \"sequential\": [[0.0, \"#0d0887\"], [0.1111111111111111, \"#46039f\"], [0.2222222222222222, \"#7201a8\"], [0.3333333333333333, \"#9c179e\"], [0.4444444444444444, \"#bd3786\"], [0.5555555555555556, \"#d8576b\"], [0.6666666666666666, \"#ed7953\"], [0.7777777777777778, \"#fb9f3a\"], [0.8888888888888888, \"#fdca26\"], [1.0, \"#f0f921\"]], \"sequentialminus\": [[0.0, \"#0d0887\"], [0.1111111111111111, \"#46039f\"], [0.2222222222222222, \"#7201a8\"], [0.3333333333333333, \"#9c179e\"], [0.4444444444444444, \"#bd3786\"], [0.5555555555555556, \"#d8576b\"], [0.6666666666666666, \"#ed7953\"], [0.7777777777777778, \"#fb9f3a\"], [0.8888888888888888, \"#fdca26\"], [1.0, \"#f0f921\"]]}, \"colorway\": [\"#636efa\", \"#EF553B\", \"#00cc96\", \"#ab63fa\", \"#FFA15A\", \"#19d3f3\", \"#FF6692\", \"#B6E880\", \"#FF97FF\", \"#FECB52\"], \"font\": {\"color\": \"#2a3f5f\"}, \"geo\": {\"bgcolor\": \"white\", \"lakecolor\": \"white\", \"landcolor\": \"#E5ECF6\", \"showlakes\": true, \"showland\": true, \"subunitcolor\": \"white\"}, \"hoverlabel\": {\"align\": \"left\"}, \"hovermode\": \"closest\", \"mapbox\": {\"style\": \"light\"}, \"paper_bgcolor\": \"white\", \"plot_bgcolor\": \"#E5ECF6\", \"polar\": {\"angularaxis\": {\"gridcolor\": \"white\", \"linecolor\": \"white\", \"ticks\": \"\"}, \"bgcolor\": \"#E5ECF6\", \"radialaxis\": {\"gridcolor\": \"white\", \"linecolor\": \"white\", \"ticks\": \"\"}}, \"scene\": {\"xaxis\": {\"backgroundcolor\": \"#E5ECF6\", \"gridcolor\": \"white\", \"gridwidth\": 2, \"linecolor\": \"white\", \"showbackground\": true, \"ticks\": \"\", \"zerolinecolor\": \"white\"}, \"yaxis\": {\"backgroundcolor\": \"#E5ECF6\", \"gridcolor\": \"white\", \"gridwidth\": 2, \"linecolor\": \"white\", \"showbackground\": true, \"ticks\": \"\", \"zerolinecolor\": \"white\"}, \"zaxis\": {\"backgroundcolor\": \"#E5ECF6\", \"gridcolor\": \"white\", \"gridwidth\": 2, \"linecolor\": \"white\", \"showbackground\": true, \"ticks\": \"\", \"zerolinecolor\": \"white\"}}, \"shapedefaults\": {\"line\": {\"color\": \"#2a3f5f\"}}, \"ternary\": {\"aaxis\": {\"gridcolor\": \"white\", \"linecolor\": \"white\", \"ticks\": \"\"}, \"baxis\": {\"gridcolor\": \"white\", \"linecolor\": \"white\", \"ticks\": \"\"}, \"bgcolor\": \"#E5ECF6\", \"caxis\": {\"gridcolor\": \"white\", \"linecolor\": \"white\", \"ticks\": \"\"}}, \"title\": {\"x\": 0.05}, \"xaxis\": {\"automargin\": true, \"gridcolor\": \"white\", \"linecolor\": \"white\", \"ticks\": \"\", \"title\": {\"standoff\": 15}, \"zerolinecolor\": \"white\", \"zerolinewidth\": 2}, \"yaxis\": {\"automargin\": true, \"gridcolor\": \"white\", \"linecolor\": \"white\", \"ticks\": \"\", \"title\": {\"standoff\": 15}, \"zerolinecolor\": \"white\", \"zerolinewidth\": 2}}}, \"xaxis\": {\"anchor\": \"y\", \"categoryarray\": [\"Cluster 0\", \"Cluster 1\", \"Cluster 2\", \"Cluster 3\"], \"categoryorder\": \"array\", \"domain\": [0.0, 1.0], \"title\": {\"text\": \"Cluster\"}}, \"xaxis2\": {\"anchor\": \"y2\", \"domain\": [0.0, 1.0], \"matches\": \"x\", \"showgrid\": true, \"showticklabels\": false}, \"yaxis\": {\"anchor\": \"x\", \"domain\": [0.0, 0.7326], \"title\": {\"text\": \"count\"}}, \"yaxis2\": {\"anchor\": \"x2\", \"domain\": [0.7426, 1.0], \"matches\": \"y2\", \"showgrid\": false, \"showline\": false, \"showticklabels\": false, \"ticks\": \"\"}},\n",
       "                        {\"responsive\": true}\n",
       "                    ).then(function(){\n",
       "                            \n",
       "var gd = document.getElementById('95ce8a56-448d-455c-a289-8f2a21bee620');\n",
       "var x = new MutationObserver(function (mutations, observer) {{\n",
       "        var display = window.getComputedStyle(gd).display;\n",
       "        if (!display || display === 'none') {{\n",
       "            console.log([gd, 'removed!']);\n",
       "            Plotly.purge(gd);\n",
       "            observer.disconnect();\n",
       "        }}\n",
       "}});\n",
       "\n",
       "// Listen for the removal of the full notebook cells\n",
       "var notebookContainer = gd.closest('#notebook-container');\n",
       "if (notebookContainer) {{\n",
       "    x.observe(notebookContainer, {childList: true});\n",
       "}}\n",
       "\n",
       "// Listen for the clearing of the current output cell\n",
       "var outputEl = gd.closest('.output');\n",
       "if (outputEl) {{\n",
       "    x.observe(outputEl, {childList: true});\n",
       "}}\n",
       "\n",
       "                        })\n",
       "                };\n",
       "                });\n",
       "            </script>\n",
       "        </div>"
      ]
     },
     "metadata": {},
     "output_type": "display_data"
    }
   ],
   "source": [
    "#most of countries belong to cluster 1\n",
    "plot_model(kmeans, plot = 'distribution')"
   ]
  },
  {
   "cell_type": "code",
   "execution_count": 29,
   "metadata": {},
   "outputs": [
    {
     "data": {
      "text/html": [
       "        <script type=\"text/javascript\">\n",
       "        window.PlotlyConfig = {MathJaxConfig: 'local'};\n",
       "        if (window.MathJax) {MathJax.Hub.Config({SVG: {font: \"STIX-Web\"}});}\n",
       "        if (typeof require !== 'undefined') {\n",
       "        require.undef(\"plotly\");\n",
       "        requirejs.config({\n",
       "            paths: {\n",
       "                'plotly': ['https://cdn.plot.ly/plotly-latest.min']\n",
       "            }\n",
       "        });\n",
       "        require(['plotly'], function(Plotly) {\n",
       "            window._Plotly = Plotly;\n",
       "        });\n",
       "        }\n",
       "        </script>\n",
       "        "
      ]
     },
     "metadata": {},
     "output_type": "display_data"
    },
    {
     "data": {
      "application/vnd.plotly.v1+json": {
       "config": {
        "plotlyServerURL": "https://plot.ly"
       },
       "data": [
        {
         "alignmentgroup": "True",
         "bingroup": "x",
         "hoverlabel": {
          "namelength": 0
         },
         "hovertemplate": "Cluster=Cluster 0<br>stringency_index=%{x}<br>count=%{y}",
         "legendgroup": "Cluster=Cluster 0",
         "marker": {
          "color": "#636efa",
          "opacity": 0.7
         },
         "name": "Cluster=Cluster 0",
         "offsetgroup": "Cluster=Cluster 0",
         "orientation": "v",
         "showlegend": true,
         "type": "histogram",
         "x": [
          47.23,
          56.22,
          41.54,
          65.74,
          50.41,
          56.61,
          66.53,
          66.53,
          43.66,
          67.85,
          38.49,
          43.51,
          59.53,
          56.74,
          11.11,
          33.33,
          48.15,
          61.24,
          56.34,
          65.73,
          66.14,
          64.43,
          59.26,
          56.34,
          59.39,
          62.7,
          39.02,
          65.87,
          63.89,
          54.23,
          61.25,
          50.4,
          22.22,
          45.37,
          62.04,
          29.36,
          15.47,
          59.65,
          43.79,
          47.35,
          53.83,
          58.07,
          67.74,
          56.87,
          67.85,
          67.99,
          64.44
         ],
         "xaxis": "x",
         "yaxis": "y"
        },
        {
         "alignmentgroup": "True",
         "customdata": [
          [
           "Iran",
           47.23,
           124603,
           7119,
           "Cluster 0"
          ],
          [
           "Laos",
           56.22,
           19,
           0,
           "Cluster 0"
          ],
          [
           "Estonia",
           41.54,
           1791,
           64,
           "Cluster 0"
          ],
          [
           "Finland",
           65.74,
           6399,
           301,
           "Cluster 0"
          ],
          [
           "Solomon Islands",
           50.41,
           0,
           0,
           "Cluster 0"
          ],
          [
           "Iceland",
           56.61,
           1802,
           10,
           "Cluster 0"
          ],
          [
           "Ghana",
           66.53,
           6096,
           31,
           "Cluster 0"
          ],
          [
           "Croatia",
           66.53,
           2232,
           96,
           "Cluster 0"
          ],
          [
           "Papua New Guinea",
           43.66,
           8,
           0,
           "Cluster 0"
          ],
          [
           "Hong Kong",
           67.85,
           1055,
           4,
           "Cluster 0"
          ],
          [
           "New Zealand",
           38.49,
           1153,
           21,
           "Cluster 0"
          ],
          [
           "South Korea",
           43.51,
           11110,
           263,
           "Cluster 0"
          ],
          [
           "Hungary",
           59.53,
           3598,
           470,
           "Cluster 0"
          ],
          [
           "Brunei",
           56.74,
           141,
           1,
           "Cluster 0"
          ],
          [
           "Nicaragua",
           11.11,
           25,
           8,
           "Cluster 0"
          ],
          [
           "Niger",
           33.33,
           914,
           55,
           "Cluster 0"
          ],
          [
           "Benin",
           48.15,
           130,
           2,
           "Cluster 0"
          ],
          [
           "Namibia",
           61.24,
           712,
           7,
           "Cluster 0"
          ],
          [
           "Austria",
           56.34,
           16257,
           632,
           "Cluster 0"
          ],
          [
           "Luxembourg",
           65.73,
           3958,
           109,
           "Cluster 0"
          ],
          [
           "Australia",
           66.14,
           7068,
           99,
           "Cluster 0"
          ],
          [
           "Madagascar",
           64.43,
           326,
           2,
           "Cluster 0"
          ],
          [
           "Malawi",
           59.26,
           71,
           3,
           "Cluster 0"
          ],
          [
           "Andorra",
           56.34,
           761,
           51,
           "Cluster 0"
          ],
          [
           "Somalia",
           59.39,
           1502,
           59,
           "Cluster 0"
          ],
          [
           "Senegal",
           62.7,
           2617,
           30,
           "Cluster 0"
          ],
          [
           "Macao",
           39.02,
           45,
           0,
           "Cluster 0"
          ],
          [
           "Seychelles",
           65.87,
           11,
           0,
           "Cluster 0"
          ],
          [
           "Bulgaria",
           63.89,
           2292,
           116,
           "Cluster 0"
          ],
          [
           "Yemen",
           54.23,
           167,
           28,
           "Cluster 0"
          ],
          [
           "Slovenia",
           61.25,
           1467,
           104,
           "Cluster 0"
          ],
          [
           "Tanzania",
           50.4,
           509,
           21,
           "Cluster 0"
          ],
          [
           "Burundi",
           22.22,
           42,
           1,
           "Cluster 0"
          ],
          [
           "Zambia",
           45.37,
           772,
           7,
           "Cluster 0"
          ],
          [
           "Burkina Faso",
           62.04,
           806,
           52,
           "Cluster 0"
          ],
          [
           "Taiwan",
           29.36,
           440,
           7,
           "Cluster 0"
          ],
          [
           "Belarus",
           15.47,
           31508,
           175,
           "Cluster 0"
          ],
          [
           "Czech Republic",
           59.65,
           8647,
           302,
           "Cluster 0"
          ],
          [
           "Japan",
           43.79,
           16385,
           771,
           "Cluster 0"
          ],
          [
           "Sweden",
           47.35,
           30799,
           3743,
           "Cluster 0"
          ],
          [
           "Mozambique",
           53.83,
           146,
           0,
           "Cluster 0"
          ],
          [
           "Norway",
           58.07,
           8257,
           233,
           "Cluster 0"
          ],
          [
           "Canada",
           67.74,
           79101,
           5912,
           "Cluster 0"
          ],
          [
           "Serbia",
           56.87,
           10733,
           234,
           "Cluster 0"
          ],
          [
           "Cameroon",
           67.85,
           3529,
           140,
           "Cluster 0"
          ],
          [
           "Mongolia",
           67.99,
           140,
           0,
           "Cluster 0"
          ],
          [
           "China",
           64.44,
           84065,
           4638,
           "Cluster 0"
          ]
         ],
         "hoverlabel": {
          "namelength": 0
         },
         "hovertemplate": "Cluster=%{customdata[4]}<br>stringency_index=%{customdata[1]}<br>country_name=%{customdata[0]}<br>confirmed_cases=%{customdata[2]}<br>deaths=%{customdata[3]}",
         "legendgroup": "Cluster=Cluster 0",
         "marker": {
          "color": "#636efa"
         },
         "name": "Cluster=Cluster 0",
         "notched": true,
         "offsetgroup": "Cluster=Cluster 0",
         "showlegend": false,
         "type": "box",
         "x": [
          47.23,
          56.22,
          41.54,
          65.74,
          50.41,
          56.61,
          66.53,
          66.53,
          43.66,
          67.85,
          38.49,
          43.51,
          59.53,
          56.74,
          11.11,
          33.33,
          48.15,
          61.24,
          56.34,
          65.73,
          66.14,
          64.43,
          59.26,
          56.34,
          59.39,
          62.7,
          39.02,
          65.87,
          63.89,
          54.23,
          61.25,
          50.4,
          22.22,
          45.37,
          62.04,
          29.36,
          15.47,
          59.65,
          43.79,
          47.35,
          53.83,
          58.07,
          67.74,
          56.87,
          67.85,
          67.99,
          64.44
         ],
         "xaxis": "x2",
         "yaxis": "y2"
        },
        {
         "alignmentgroup": "True",
         "bingroup": "x",
         "hoverlabel": {
          "namelength": 0
         },
         "hovertemplate": "Cluster=Cluster 1<br>stringency_index=%{x}<br>count=%{y}",
         "legendgroup": "Cluster=Cluster 1",
         "marker": {
          "color": "#EF553B",
          "opacity": 0.7
         },
         "name": "Cluster=Cluster 1",
         "offsetgroup": "Cluster=Cluster 1",
         "orientation": "v",
         "showlegend": true,
         "type": "histogram",
         "x": [
          97.35,
          71.71,
          88.75,
          82.27,
          75.52,
          80.82,
          74.99,
          91.4,
          90.74,
          77.64,
          82.41,
          72.48,
          78.3,
          79.24,
          76.33,
          80.43,
          71.42,
          86.38,
          97.35,
          96.03,
          76.71,
          88.09,
          81.61,
          82.02,
          74.2,
          84.78,
          93.38,
          82.27,
          96.83,
          77.12,
          78.31,
          94.18,
          79.37,
          76.07,
          69.71,
          76.19,
          85.85,
          80.95,
          100,
          69.18,
          98.02,
          69.97,
          97.35,
          86.77,
          86.24,
          84.12,
          86.24,
          78.96,
          71.16,
          87.83,
          70.91,
          100,
          97.35,
          80.95,
          74.34,
          84.78,
          94.18,
          86.24,
          88.75,
          82.42,
          98.02,
          100,
          71.44,
          85.19,
          94.18,
          70.25,
          78.83,
          71.55,
          78.05,
          71.42,
          80.15,
          87.04,
          81.22,
          91.93,
          75.26,
          91.54,
          77.78,
          88.36,
          81.61,
          80.04,
          82.93,
          80.42,
          74.2,
          92.06,
          89.94,
          80.42,
          87.96,
          93.38,
          80.56,
          86.38,
          84.26,
          94.71,
          100,
          85.18,
          87.84,
          73.81,
          76.98,
          94.58,
          90.74,
          76.19,
          78.85,
          100,
          72.87,
          84.92,
          85.45,
          97.35,
          90.74,
          80.95,
          76.59,
          76.71,
          95.24,
          85.19
         ],
         "xaxis": "x",
         "yaxis": "y"
        },
        {
         "alignmentgroup": "True",
         "customdata": [
          [
           "Puerto Rico",
           97.35,
           2805,
           124,
           "Cluster 1"
          ],
          [
           "Russia",
           71.71,
           299941,
           2837,
           "Cluster 1"
          ],
          [
           "South Africa",
           88.75,
           17200,
           312,
           "Cluster 1"
          ],
          [
           "Guyana",
           82.27,
           125,
           10,
           "Cluster 1"
          ],
          [
           "Denmark",
           75.52,
           11044,
           551,
           "Cluster 1"
          ],
          [
           "Aruba",
           80.82,
           101,
           3,
           "Cluster 1"
          ],
          [
           "Costa Rica",
           74.99,
           882,
           10,
           "Cluster 1"
          ],
          [
           "Zimbabwe",
           91.4,
           46,
           4,
           "Cluster 1"
          ],
          [
           "Colombia",
           90.74,
           16935,
           613,
           "Cluster 1"
          ],
          [
           "Sierra Leone",
           77.64,
           534,
           33,
           "Cluster 1"
          ],
          [
           "Cape Verde",
           82.41,
           335,
           3,
           "Cluster 1"
          ],
          [
           "Jordan",
           72.48,
           649,
           9,
           "Cluster 1"
          ],
          [
           "Bhutan",
           78.3,
           21,
           0,
           "Cluster 1"
          ],
          [
           "Myanmar",
           79.24,
           193,
           6,
           "Cluster 1"
          ],
          [
           "Afghanistan",
           76.33,
           7653,
           178,
           "Cluster 1"
          ],
          [
           "Syria",
           80.43,
           58,
           3,
           "Cluster 1"
          ],
          [
           "San Marino",
           71.42,
           655,
           41,
           "Cluster 1"
          ],
          [
           "Sudan",
           86.38,
           2591,
           105,
           "Cluster 1"
          ],
          [
           "Palestine",
           97.35,
           570,
           4,
           "Cluster 1"
          ],
          [
           "Paraguay",
           96.03,
           829,
           11,
           "Cluster 1"
          ],
          [
           "Portugal",
           76.71,
           29432,
           1247,
           "Cluster 1"
          ],
          [
           "Poland",
           88.09,
           19268,
           948,
           "Cluster 1"
          ],
          [
           "Panama",
           81.61,
           9867,
           281,
           "Cluster 1"
          ],
          [
           "Pakistan",
           82.02,
           45898,
           985,
           "Cluster 1"
          ],
          [
           "Malaysia",
           74.2,
           6978,
           114,
           "Cluster 1"
          ],
          [
           "Mauritius",
           84.78,
           332,
           10,
           "Cluster 1"
          ],
          [
           "Morocco",
           93.38,
           7023,
           193,
           "Cluster 1"
          ],
          [
           "Sri Lanka",
           82.27,
           1027,
           9,
           "Cluster 1"
          ],
          [
           "Libya",
           96.83,
           68,
           3,
           "Cluster 1"
          ],
          [
           "Suriname",
           77.12,
           11,
           1,
           "Cluster 1"
          ],
          [
           "Liberia",
           78.31,
           233,
           23,
           "Cluster 1"
          ],
          [
           "Kenya",
           94.18,
           963,
           50,
           "Cluster 1"
          ],
          [
           "Kazakhstan",
           79.37,
           6969,
           35,
           "Cluster 1"
          ],
          [
           "India",
           76.07,
           106750,
           3303,
           "Cluster 1"
          ],
          [
           "Guam",
           69.71,
           154,
           5,
           "Cluster 1"
          ],
          [
           "Ethiopia",
           76.19,
           365,
           5,
           "Cluster 1"
          ],
          [
           "Ecuador",
           85.85,
           34151,
           2839,
           "Cluster 1"
          ],
          [
           "Dominica",
           80.95,
           16,
           0,
           "Cluster 1"
          ],
          [
           "Cuba",
           100,
           1887,
           79,
           "Cluster 1"
          ],
          [
           "Vietnam",
           69.18,
           324,
           0,
           "Cluster 1"
          ],
          [
           "Congo",
           98.02,
           420,
           15,
           "Cluster 1"
          ],
          [
           "Central African Republic",
           69.97,
           411,
           0,
           "Cluster 1"
          ],
          [
           "Bolivia",
           97.35,
           4481,
           189,
           "Cluster 1"
          ],
          [
           "Bahrain",
           86.77,
           7532,
           12,
           "Cluster 1"
          ],
          [
           "Azerbaijan",
           86.24,
           3518,
           41,
           "Cluster 1"
          ],
          [
           "Lebanon",
           84.12,
           954,
           26,
           "Cluster 1"
          ],
          [
           "Venezuela",
           86.24,
           749,
           10,
           "Cluster 1"
          ],
          [
           "Slovak Republic",
           78.96,
           1495,
           28,
           "Cluster 1"
          ],
          [
           "Uruguay",
           71.16,
           738,
           20,
           "Cluster 1"
          ],
          [
           "Ireland",
           87.83,
           24251,
           1561,
           "Cluster 1"
          ],
          [
           "Indonesia",
           70.91,
           18496,
           1221,
           "Cluster 1"
          ],
          [
           "Honduras",
           100,
           2955,
           147,
           "Cluster 1"
          ],
          [
           "Guatemala",
           97.35,
           2133,
           43,
           "Cluster 1"
          ],
          [
           "Greenland",
           80.95,
           11,
           0,
           "Cluster 1"
          ],
          [
           "Greece",
           74.34,
           2840,
           165,
           "Cluster 1"
          ],
          [
           "Gambia",
           84.78,
           24,
           1,
           "Cluster 1"
          ],
          [
           "Georgia",
           94.18,
           707,
           12,
           "Cluster 1"
          ],
          [
           "Gabon",
           86.24,
           1502,
           12,
           "Cluster 1"
          ],
          [
           "Egypt",
           88.75,
           13484,
           659,
           "Cluster 1"
          ],
          [
           "Algeria",
           82.42,
           7377,
           561,
           "Cluster 1"
          ],
          [
           "Dominican Republic",
           98.02,
           13223,
           441,
           "Cluster 1"
          ],
          [
           "Djibouti",
           100,
           1518,
           7,
           "Cluster 1"
          ],
          [
           "Germany",
           71.44,
           176007,
           8090,
           "Cluster 1"
          ],
          [
           "Uzbekistan",
           85.19,
           2880,
           13,
           "Cluster 1"
          ],
          [
           "Cyprus",
           94.18,
           918,
           17,
           "Cluster 1"
          ],
          [
           "Cote d'Ivoire",
           70.25,
           2153,
           28,
           "Cluster 1"
          ],
          [
           "Chile",
           78.83,
           49579,
           509,
           "Cluster 1"
          ],
          [
           "Switzerland",
           71.55,
           30535,
           1613,
           "Cluster 1"
          ],
          [
           "Botswana",
           78.05,
           25,
           1,
           "Cluster 1"
          ],
          [
           "Barbados",
           71.42,
           90,
           7,
           "Cluster 1"
          ],
          [
           "Bermuda",
           80.15,
           125,
           9,
           "Cluster 1"
          ],
          [
           "Belize",
           87.04,
           18,
           2,
           "Cluster 1"
          ],
          [
           "Bosnia and Herzegovina",
           81.22,
           2319,
           133,
           "Cluster 1"
          ],
          [
           "Bangladesh",
           91.93,
           25121,
           370,
           "Cluster 1"
          ],
          [
           "Belgium",
           75.26,
           55791,
           9108,
           "Cluster 1"
          ],
          [
           "Argentina",
           91.54,
           8796,
           393,
           "Cluster 1"
          ],
          [
           "United Arab Emirates",
           77.78,
           25063,
           227,
           "Cluster 1"
          ],
          [
           "Albania",
           88.36,
           949,
           31,
           "Cluster 1"
          ],
          [
           "Angola",
           81.61,
           50,
           2,
           "Cluster 1"
          ],
          [
           "Democratic Republic of Congo",
           80.04,
           1731,
           61,
           "Cluster 1"
          ],
          [
           "Israel",
           82.93,
           16650,
           277,
           "Cluster 1"
          ],
          [
           "Iraq",
           80.42,
           3611,
           131,
           "Cluster 1"
          ],
          [
           "Jamaica",
           74.2,
           520,
           9,
           "Cluster 1"
          ],
          [
           "Ukraine",
           92.06,
           18876,
           548,
           "Cluster 1"
          ],
          [
           "Uganda",
           89.94,
           260,
           0,
           "Cluster 1"
          ],
          [
           "Turkey",
           80.42,
           151615,
           4199,
           "Cluster 1"
          ],
          [
           "Tunisia",
           87.96,
           1044,
           47,
           "Cluster 1"
          ],
          [
           "Trinidad and Tobago",
           93.38,
           116,
           8,
           "Cluster 1"
          ],
          [
           "Thailand",
           80.56,
           3034,
           56,
           "Cluster 1"
          ],
          [
           "Chad",
           86.38,
           545,
           56,
           "Cluster 1"
          ],
          [
           "Eswatini",
           84.26,
           208,
           2,
           "Cluster 1"
          ],
          [
           "South Sudan",
           94.71,
           285,
           6,
           "Cluster 1"
          ],
          [
           "El Salvador",
           100,
           1498,
           31,
           "Cluster 1"
          ],
          [
           "Singapore",
           85.18,
           28794,
           22,
           "Cluster 1"
          ],
          [
           "Saudi Arabia",
           87.84,
           59854,
           329,
           "Cluster 1"
          ],
          [
           "Rwanda",
           73.81,
           308,
           0,
           "Cluster 1"
          ],
          [
           "Romania",
           76.98,
           17191,
           1126,
           "Cluster 1"
          ],
          [
           "Philippines",
           94.58,
           12942,
           837,
           "Cluster 1"
          ],
          [
           "Qatar",
           90.74,
           35606,
           15,
           "Cluster 1"
          ],
          [
           "Mali",
           76.19,
           901,
           53,
           "Cluster 1"
          ],
          [
           "Kyrgyz Republic",
           78.85,
           1270,
           14,
           "Cluster 1"
          ],
          [
           "Kuwait",
           100,
           16764,
           121,
           "Cluster 1"
          ],
          [
           "Lesotho",
           72.87,
           1,
           0,
           "Cluster 1"
          ],
          [
           "Moldova",
           84.92,
           6340,
           221,
           "Cluster 1"
          ],
          [
           "Mexico",
           85.45,
           54346,
           5666,
           "Cluster 1"
          ],
          [
           "Peru",
           97.35,
           99483,
           2914,
           "Cluster 1"
          ],
          [
           "Kosovo",
           90.74,
           989,
           29,
           "Cluster 1"
          ],
          [
           "Mauritania",
           80.95,
           81,
           4,
           "Cluster 1"
          ],
          [
           "Nigeria",
           76.59,
           6401,
           192,
           "Cluster 1"
          ],
          [
           "Netherlands",
           76.71,
           44249,
           5715,
           "Cluster 1"
          ],
          [
           "Nepal",
           95.24,
           402,
           2,
           "Cluster 1"
          ],
          [
           "Oman",
           85.19,
           5671,
           27,
           "Cluster 1"
          ]
         ],
         "hoverlabel": {
          "namelength": 0
         },
         "hovertemplate": "Cluster=%{customdata[4]}<br>stringency_index=%{customdata[1]}<br>country_name=%{customdata[0]}<br>confirmed_cases=%{customdata[2]}<br>deaths=%{customdata[3]}",
         "legendgroup": "Cluster=Cluster 1",
         "marker": {
          "color": "#EF553B"
         },
         "name": "Cluster=Cluster 1",
         "notched": true,
         "offsetgroup": "Cluster=Cluster 1",
         "showlegend": false,
         "type": "box",
         "x": [
          97.35,
          71.71,
          88.75,
          82.27,
          75.52,
          80.82,
          74.99,
          91.4,
          90.74,
          77.64,
          82.41,
          72.48,
          78.3,
          79.24,
          76.33,
          80.43,
          71.42,
          86.38,
          97.35,
          96.03,
          76.71,
          88.09,
          81.61,
          82.02,
          74.2,
          84.78,
          93.38,
          82.27,
          96.83,
          77.12,
          78.31,
          94.18,
          79.37,
          76.07,
          69.71,
          76.19,
          85.85,
          80.95,
          100,
          69.18,
          98.02,
          69.97,
          97.35,
          86.77,
          86.24,
          84.12,
          86.24,
          78.96,
          71.16,
          87.83,
          70.91,
          100,
          97.35,
          80.95,
          74.34,
          84.78,
          94.18,
          86.24,
          88.75,
          82.42,
          98.02,
          100,
          71.44,
          85.19,
          94.18,
          70.25,
          78.83,
          71.55,
          78.05,
          71.42,
          80.15,
          87.04,
          81.22,
          91.93,
          75.26,
          91.54,
          77.78,
          88.36,
          81.61,
          80.04,
          82.93,
          80.42,
          74.2,
          92.06,
          89.94,
          80.42,
          87.96,
          93.38,
          80.56,
          86.38,
          84.26,
          94.71,
          100,
          85.18,
          87.84,
          73.81,
          76.98,
          94.58,
          90.74,
          76.19,
          78.85,
          100,
          72.87,
          84.92,
          85.45,
          97.35,
          90.74,
          80.95,
          76.59,
          76.71,
          95.24,
          85.19
         ],
         "xaxis": "x2",
         "yaxis": "y2"
        },
        {
         "alignmentgroup": "True",
         "bingroup": "x",
         "hoverlabel": {
          "namelength": 0
         },
         "hovertemplate": "Cluster=Cluster 2<br>stringency_index=%{x}<br>count=%{y}",
         "legendgroup": "Cluster=Cluster 2",
         "marker": {
          "color": "#00cc96",
          "opacity": 0.7
         },
         "name": "Cluster=Cluster 2",
         "offsetgroup": "Cluster=Cluster 2",
         "orientation": "v",
         "showlegend": true,
         "type": "histogram",
         "x": [
          68.41
         ],
         "xaxis": "x",
         "yaxis": "y"
        },
        {
         "alignmentgroup": "True",
         "customdata": [
          [
           "United States",
           68.41,
           1528568,
           91921,
           "Cluster 2"
          ]
         ],
         "hoverlabel": {
          "namelength": 0
         },
         "hovertemplate": "Cluster=%{customdata[4]}<br>stringency_index=%{customdata[1]}<br>country_name=%{customdata[0]}<br>confirmed_cases=%{customdata[2]}<br>deaths=%{customdata[3]}",
         "legendgroup": "Cluster=Cluster 2",
         "marker": {
          "color": "#00cc96"
         },
         "name": "Cluster=Cluster 2",
         "notched": true,
         "offsetgroup": "Cluster=Cluster 2",
         "showlegend": false,
         "type": "box",
         "x": [
          68.41
         ],
         "xaxis": "x2",
         "yaxis": "y2"
        },
        {
         "alignmentgroup": "True",
         "bingroup": "x",
         "hoverlabel": {
          "namelength": 0
         },
         "hovertemplate": "Cluster=Cluster 3<br>stringency_index=%{x}<br>count=%{y}",
         "legendgroup": "Cluster=Cluster 3",
         "marker": {
          "color": "#ab63fa",
          "opacity": 0.7
         },
         "name": "Cluster=Cluster 3",
         "offsetgroup": "Cluster=Cluster 3",
         "orientation": "v",
         "showlegend": true,
         "type": "histogram",
         "x": [
          75.15,
          73.01,
          83.07,
          83.46,
          68.78
         ],
         "xaxis": "x",
         "yaxis": "y"
        },
        {
         "alignmentgroup": "True",
         "customdata": [
          [
           "Brazil",
           75.15,
           271628,
           17971,
           "Cluster 3"
          ],
          [
           "United Kingdom",
           73.01,
           248818,
           35341,
           "Cluster 3"
          ],
          [
           "Spain",
           83.07,
           232555,
           27888,
           "Cluster 3"
          ],
          [
           "France",
           83.46,
           143427,
           28022,
           "Cluster 3"
          ],
          [
           "Italy",
           68.78,
           226699,
           32169,
           "Cluster 3"
          ]
         ],
         "hoverlabel": {
          "namelength": 0
         },
         "hovertemplate": "Cluster=%{customdata[4]}<br>stringency_index=%{customdata[1]}<br>country_name=%{customdata[0]}<br>confirmed_cases=%{customdata[2]}<br>deaths=%{customdata[3]}",
         "legendgroup": "Cluster=Cluster 3",
         "marker": {
          "color": "#ab63fa"
         },
         "name": "Cluster=Cluster 3",
         "notched": true,
         "offsetgroup": "Cluster=Cluster 3",
         "showlegend": false,
         "type": "box",
         "x": [
          75.15,
          73.01,
          83.07,
          83.46,
          68.78
         ],
         "xaxis": "x2",
         "yaxis": "y2"
        }
       ],
       "layout": {
        "barmode": "relative",
        "legend": {
         "tracegroupgap": 0
        },
        "margin": {
         "t": 60
        },
        "template": {
         "data": {
          "bar": [
           {
            "error_x": {
             "color": "#2a3f5f"
            },
            "error_y": {
             "color": "#2a3f5f"
            },
            "marker": {
             "line": {
              "color": "#E5ECF6",
              "width": 0.5
             }
            },
            "type": "bar"
           }
          ],
          "barpolar": [
           {
            "marker": {
             "line": {
              "color": "#E5ECF6",
              "width": 0.5
             }
            },
            "type": "barpolar"
           }
          ],
          "carpet": [
           {
            "aaxis": {
             "endlinecolor": "#2a3f5f",
             "gridcolor": "white",
             "linecolor": "white",
             "minorgridcolor": "white",
             "startlinecolor": "#2a3f5f"
            },
            "baxis": {
             "endlinecolor": "#2a3f5f",
             "gridcolor": "white",
             "linecolor": "white",
             "minorgridcolor": "white",
             "startlinecolor": "#2a3f5f"
            },
            "type": "carpet"
           }
          ],
          "choropleth": [
           {
            "colorbar": {
             "outlinewidth": 0,
             "ticks": ""
            },
            "type": "choropleth"
           }
          ],
          "contour": [
           {
            "colorbar": {
             "outlinewidth": 0,
             "ticks": ""
            },
            "colorscale": [
             [
              0,
              "#0d0887"
             ],
             [
              0.1111111111111111,
              "#46039f"
             ],
             [
              0.2222222222222222,
              "#7201a8"
             ],
             [
              0.3333333333333333,
              "#9c179e"
             ],
             [
              0.4444444444444444,
              "#bd3786"
             ],
             [
              0.5555555555555556,
              "#d8576b"
             ],
             [
              0.6666666666666666,
              "#ed7953"
             ],
             [
              0.7777777777777778,
              "#fb9f3a"
             ],
             [
              0.8888888888888888,
              "#fdca26"
             ],
             [
              1,
              "#f0f921"
             ]
            ],
            "type": "contour"
           }
          ],
          "contourcarpet": [
           {
            "colorbar": {
             "outlinewidth": 0,
             "ticks": ""
            },
            "type": "contourcarpet"
           }
          ],
          "heatmap": [
           {
            "colorbar": {
             "outlinewidth": 0,
             "ticks": ""
            },
            "colorscale": [
             [
              0,
              "#0d0887"
             ],
             [
              0.1111111111111111,
              "#46039f"
             ],
             [
              0.2222222222222222,
              "#7201a8"
             ],
             [
              0.3333333333333333,
              "#9c179e"
             ],
             [
              0.4444444444444444,
              "#bd3786"
             ],
             [
              0.5555555555555556,
              "#d8576b"
             ],
             [
              0.6666666666666666,
              "#ed7953"
             ],
             [
              0.7777777777777778,
              "#fb9f3a"
             ],
             [
              0.8888888888888888,
              "#fdca26"
             ],
             [
              1,
              "#f0f921"
             ]
            ],
            "type": "heatmap"
           }
          ],
          "heatmapgl": [
           {
            "colorbar": {
             "outlinewidth": 0,
             "ticks": ""
            },
            "colorscale": [
             [
              0,
              "#0d0887"
             ],
             [
              0.1111111111111111,
              "#46039f"
             ],
             [
              0.2222222222222222,
              "#7201a8"
             ],
             [
              0.3333333333333333,
              "#9c179e"
             ],
             [
              0.4444444444444444,
              "#bd3786"
             ],
             [
              0.5555555555555556,
              "#d8576b"
             ],
             [
              0.6666666666666666,
              "#ed7953"
             ],
             [
              0.7777777777777778,
              "#fb9f3a"
             ],
             [
              0.8888888888888888,
              "#fdca26"
             ],
             [
              1,
              "#f0f921"
             ]
            ],
            "type": "heatmapgl"
           }
          ],
          "histogram": [
           {
            "marker": {
             "colorbar": {
              "outlinewidth": 0,
              "ticks": ""
             }
            },
            "type": "histogram"
           }
          ],
          "histogram2d": [
           {
            "colorbar": {
             "outlinewidth": 0,
             "ticks": ""
            },
            "colorscale": [
             [
              0,
              "#0d0887"
             ],
             [
              0.1111111111111111,
              "#46039f"
             ],
             [
              0.2222222222222222,
              "#7201a8"
             ],
             [
              0.3333333333333333,
              "#9c179e"
             ],
             [
              0.4444444444444444,
              "#bd3786"
             ],
             [
              0.5555555555555556,
              "#d8576b"
             ],
             [
              0.6666666666666666,
              "#ed7953"
             ],
             [
              0.7777777777777778,
              "#fb9f3a"
             ],
             [
              0.8888888888888888,
              "#fdca26"
             ],
             [
              1,
              "#f0f921"
             ]
            ],
            "type": "histogram2d"
           }
          ],
          "histogram2dcontour": [
           {
            "colorbar": {
             "outlinewidth": 0,
             "ticks": ""
            },
            "colorscale": [
             [
              0,
              "#0d0887"
             ],
             [
              0.1111111111111111,
              "#46039f"
             ],
             [
              0.2222222222222222,
              "#7201a8"
             ],
             [
              0.3333333333333333,
              "#9c179e"
             ],
             [
              0.4444444444444444,
              "#bd3786"
             ],
             [
              0.5555555555555556,
              "#d8576b"
             ],
             [
              0.6666666666666666,
              "#ed7953"
             ],
             [
              0.7777777777777778,
              "#fb9f3a"
             ],
             [
              0.8888888888888888,
              "#fdca26"
             ],
             [
              1,
              "#f0f921"
             ]
            ],
            "type": "histogram2dcontour"
           }
          ],
          "mesh3d": [
           {
            "colorbar": {
             "outlinewidth": 0,
             "ticks": ""
            },
            "type": "mesh3d"
           }
          ],
          "parcoords": [
           {
            "line": {
             "colorbar": {
              "outlinewidth": 0,
              "ticks": ""
             }
            },
            "type": "parcoords"
           }
          ],
          "pie": [
           {
            "automargin": true,
            "type": "pie"
           }
          ],
          "scatter": [
           {
            "marker": {
             "colorbar": {
              "outlinewidth": 0,
              "ticks": ""
             }
            },
            "type": "scatter"
           }
          ],
          "scatter3d": [
           {
            "line": {
             "colorbar": {
              "outlinewidth": 0,
              "ticks": ""
             }
            },
            "marker": {
             "colorbar": {
              "outlinewidth": 0,
              "ticks": ""
             }
            },
            "type": "scatter3d"
           }
          ],
          "scattercarpet": [
           {
            "marker": {
             "colorbar": {
              "outlinewidth": 0,
              "ticks": ""
             }
            },
            "type": "scattercarpet"
           }
          ],
          "scattergeo": [
           {
            "marker": {
             "colorbar": {
              "outlinewidth": 0,
              "ticks": ""
             }
            },
            "type": "scattergeo"
           }
          ],
          "scattergl": [
           {
            "marker": {
             "colorbar": {
              "outlinewidth": 0,
              "ticks": ""
             }
            },
            "type": "scattergl"
           }
          ],
          "scattermapbox": [
           {
            "marker": {
             "colorbar": {
              "outlinewidth": 0,
              "ticks": ""
             }
            },
            "type": "scattermapbox"
           }
          ],
          "scatterpolar": [
           {
            "marker": {
             "colorbar": {
              "outlinewidth": 0,
              "ticks": ""
             }
            },
            "type": "scatterpolar"
           }
          ],
          "scatterpolargl": [
           {
            "marker": {
             "colorbar": {
              "outlinewidth": 0,
              "ticks": ""
             }
            },
            "type": "scatterpolargl"
           }
          ],
          "scatterternary": [
           {
            "marker": {
             "colorbar": {
              "outlinewidth": 0,
              "ticks": ""
             }
            },
            "type": "scatterternary"
           }
          ],
          "surface": [
           {
            "colorbar": {
             "outlinewidth": 0,
             "ticks": ""
            },
            "colorscale": [
             [
              0,
              "#0d0887"
             ],
             [
              0.1111111111111111,
              "#46039f"
             ],
             [
              0.2222222222222222,
              "#7201a8"
             ],
             [
              0.3333333333333333,
              "#9c179e"
             ],
             [
              0.4444444444444444,
              "#bd3786"
             ],
             [
              0.5555555555555556,
              "#d8576b"
             ],
             [
              0.6666666666666666,
              "#ed7953"
             ],
             [
              0.7777777777777778,
              "#fb9f3a"
             ],
             [
              0.8888888888888888,
              "#fdca26"
             ],
             [
              1,
              "#f0f921"
             ]
            ],
            "type": "surface"
           }
          ],
          "table": [
           {
            "cells": {
             "fill": {
              "color": "#EBF0F8"
             },
             "line": {
              "color": "white"
             }
            },
            "header": {
             "fill": {
              "color": "#C8D4E3"
             },
             "line": {
              "color": "white"
             }
            },
            "type": "table"
           }
          ]
         },
         "layout": {
          "annotationdefaults": {
           "arrowcolor": "#2a3f5f",
           "arrowhead": 0,
           "arrowwidth": 1
          },
          "coloraxis": {
           "colorbar": {
            "outlinewidth": 0,
            "ticks": ""
           }
          },
          "colorscale": {
           "diverging": [
            [
             0,
             "#8e0152"
            ],
            [
             0.1,
             "#c51b7d"
            ],
            [
             0.2,
             "#de77ae"
            ],
            [
             0.3,
             "#f1b6da"
            ],
            [
             0.4,
             "#fde0ef"
            ],
            [
             0.5,
             "#f7f7f7"
            ],
            [
             0.6,
             "#e6f5d0"
            ],
            [
             0.7,
             "#b8e186"
            ],
            [
             0.8,
             "#7fbc41"
            ],
            [
             0.9,
             "#4d9221"
            ],
            [
             1,
             "#276419"
            ]
           ],
           "sequential": [
            [
             0,
             "#0d0887"
            ],
            [
             0.1111111111111111,
             "#46039f"
            ],
            [
             0.2222222222222222,
             "#7201a8"
            ],
            [
             0.3333333333333333,
             "#9c179e"
            ],
            [
             0.4444444444444444,
             "#bd3786"
            ],
            [
             0.5555555555555556,
             "#d8576b"
            ],
            [
             0.6666666666666666,
             "#ed7953"
            ],
            [
             0.7777777777777778,
             "#fb9f3a"
            ],
            [
             0.8888888888888888,
             "#fdca26"
            ],
            [
             1,
             "#f0f921"
            ]
           ],
           "sequentialminus": [
            [
             0,
             "#0d0887"
            ],
            [
             0.1111111111111111,
             "#46039f"
            ],
            [
             0.2222222222222222,
             "#7201a8"
            ],
            [
             0.3333333333333333,
             "#9c179e"
            ],
            [
             0.4444444444444444,
             "#bd3786"
            ],
            [
             0.5555555555555556,
             "#d8576b"
            ],
            [
             0.6666666666666666,
             "#ed7953"
            ],
            [
             0.7777777777777778,
             "#fb9f3a"
            ],
            [
             0.8888888888888888,
             "#fdca26"
            ],
            [
             1,
             "#f0f921"
            ]
           ]
          },
          "colorway": [
           "#636efa",
           "#EF553B",
           "#00cc96",
           "#ab63fa",
           "#FFA15A",
           "#19d3f3",
           "#FF6692",
           "#B6E880",
           "#FF97FF",
           "#FECB52"
          ],
          "font": {
           "color": "#2a3f5f"
          },
          "geo": {
           "bgcolor": "white",
           "lakecolor": "white",
           "landcolor": "#E5ECF6",
           "showlakes": true,
           "showland": true,
           "subunitcolor": "white"
          },
          "hoverlabel": {
           "align": "left"
          },
          "hovermode": "closest",
          "mapbox": {
           "style": "light"
          },
          "paper_bgcolor": "white",
          "plot_bgcolor": "#E5ECF6",
          "polar": {
           "angularaxis": {
            "gridcolor": "white",
            "linecolor": "white",
            "ticks": ""
           },
           "bgcolor": "#E5ECF6",
           "radialaxis": {
            "gridcolor": "white",
            "linecolor": "white",
            "ticks": ""
           }
          },
          "scene": {
           "xaxis": {
            "backgroundcolor": "#E5ECF6",
            "gridcolor": "white",
            "gridwidth": 2,
            "linecolor": "white",
            "showbackground": true,
            "ticks": "",
            "zerolinecolor": "white"
           },
           "yaxis": {
            "backgroundcolor": "#E5ECF6",
            "gridcolor": "white",
            "gridwidth": 2,
            "linecolor": "white",
            "showbackground": true,
            "ticks": "",
            "zerolinecolor": "white"
           },
           "zaxis": {
            "backgroundcolor": "#E5ECF6",
            "gridcolor": "white",
            "gridwidth": 2,
            "linecolor": "white",
            "showbackground": true,
            "ticks": "",
            "zerolinecolor": "white"
           }
          },
          "shapedefaults": {
           "line": {
            "color": "#2a3f5f"
           }
          },
          "ternary": {
           "aaxis": {
            "gridcolor": "white",
            "linecolor": "white",
            "ticks": ""
           },
           "baxis": {
            "gridcolor": "white",
            "linecolor": "white",
            "ticks": ""
           },
           "bgcolor": "#E5ECF6",
           "caxis": {
            "gridcolor": "white",
            "linecolor": "white",
            "ticks": ""
           }
          },
          "title": {
           "x": 0.05
          },
          "xaxis": {
           "automargin": true,
           "gridcolor": "white",
           "linecolor": "white",
           "ticks": "",
           "title": {
            "standoff": 15
           },
           "zerolinecolor": "white",
           "zerolinewidth": 2
          },
          "yaxis": {
           "automargin": true,
           "gridcolor": "white",
           "linecolor": "white",
           "ticks": "",
           "title": {
            "standoff": 15
           },
           "zerolinecolor": "white",
           "zerolinewidth": 2
          }
         }
        },
        "xaxis": {
         "anchor": "y",
         "domain": [
          0,
          1
         ],
         "title": {
          "text": "stringency_index"
         }
        },
        "xaxis2": {
         "anchor": "y2",
         "domain": [
          0,
          1
         ],
         "matches": "x",
         "showgrid": true,
         "showticklabels": false
        },
        "yaxis": {
         "anchor": "x",
         "domain": [
          0,
          0.7326
         ],
         "title": {
          "text": "count"
         }
        },
        "yaxis2": {
         "anchor": "x2",
         "domain": [
          0.7426,
          1
         ],
         "matches": "y2",
         "showgrid": false,
         "showline": false,
         "showticklabels": false,
         "ticks": ""
        }
       }
      },
      "text/html": [
       "<div>\n",
       "        \n",
       "        \n",
       "            <div id=\"53599658-c20f-403f-b6ce-835bcff986ee\" class=\"plotly-graph-div\" style=\"height:525px; width:100%;\"></div>\n",
       "            <script type=\"text/javascript\">\n",
       "                require([\"plotly\"], function(Plotly) {\n",
       "                    window.PLOTLYENV=window.PLOTLYENV || {};\n",
       "                    \n",
       "                if (document.getElementById(\"53599658-c20f-403f-b6ce-835bcff986ee\")) {\n",
       "                    Plotly.newPlot(\n",
       "                        '53599658-c20f-403f-b6ce-835bcff986ee',\n",
       "                        [{\"alignmentgroup\": \"True\", \"bingroup\": \"x\", \"hoverlabel\": {\"namelength\": 0}, \"hovertemplate\": \"Cluster=Cluster 0<br>stringency_index=%{x}<br>count=%{y}\", \"legendgroup\": \"Cluster=Cluster 0\", \"marker\": {\"color\": \"#636efa\", \"opacity\": 0.7}, \"name\": \"Cluster=Cluster 0\", \"offsetgroup\": \"Cluster=Cluster 0\", \"orientation\": \"v\", \"showlegend\": true, \"type\": \"histogram\", \"x\": [47.23, 56.22, 41.54, 65.74, 50.41, 56.61, 66.53, 66.53, 43.66, 67.85, 38.49, 43.51, 59.53, 56.74, 11.11, 33.33, 48.15, 61.24, 56.34, 65.73, 66.14, 64.43, 59.26, 56.34, 59.39, 62.7, 39.02, 65.87, 63.89, 54.23, 61.25, 50.4, 22.22, 45.37, 62.04, 29.36, 15.47, 59.65, 43.79, 47.35, 53.83, 58.07, 67.74, 56.87, 67.85, 67.99, 64.44], \"xaxis\": \"x\", \"yaxis\": \"y\"}, {\"alignmentgroup\": \"True\", \"customdata\": [[\"Iran\", 47.23, 124603.0, 7119.0, \"Cluster 0\"], [\"Laos\", 56.22, 19.0, 0.0, \"Cluster 0\"], [\"Estonia\", 41.54, 1791.0, 64.0, \"Cluster 0\"], [\"Finland\", 65.74, 6399.0, 301.0, \"Cluster 0\"], [\"Solomon Islands\", 50.41, 0.0, 0.0, \"Cluster 0\"], [\"Iceland\", 56.61, 1802.0, 10.0, \"Cluster 0\"], [\"Ghana\", 66.53, 6096.0, 31.0, \"Cluster 0\"], [\"Croatia\", 66.53, 2232.0, 96.0, \"Cluster 0\"], [\"Papua New Guinea\", 43.66, 8.0, 0.0, \"Cluster 0\"], [\"Hong Kong\", 67.85, 1055.0, 4.0, \"Cluster 0\"], [\"New Zealand\", 38.49, 1153.0, 21.0, \"Cluster 0\"], [\"South Korea\", 43.51, 11110.0, 263.0, \"Cluster 0\"], [\"Hungary\", 59.53, 3598.0, 470.0, \"Cluster 0\"], [\"Brunei\", 56.74, 141.0, 1.0, \"Cluster 0\"], [\"Nicaragua\", 11.11, 25.0, 8.0, \"Cluster 0\"], [\"Niger\", 33.33, 914.0, 55.0, \"Cluster 0\"], [\"Benin\", 48.15, 130.0, 2.0, \"Cluster 0\"], [\"Namibia\", 61.24, 712.0, 7.0, \"Cluster 0\"], [\"Austria\", 56.34, 16257.0, 632.0, \"Cluster 0\"], [\"Luxembourg\", 65.73, 3958.0, 109.0, \"Cluster 0\"], [\"Australia\", 66.14, 7068.0, 99.0, \"Cluster 0\"], [\"Madagascar\", 64.43, 326.0, 2.0, \"Cluster 0\"], [\"Malawi\", 59.26, 71.0, 3.0, \"Cluster 0\"], [\"Andorra\", 56.34, 761.0, 51.0, \"Cluster 0\"], [\"Somalia\", 59.39, 1502.0, 59.0, \"Cluster 0\"], [\"Senegal\", 62.7, 2617.0, 30.0, \"Cluster 0\"], [\"Macao\", 39.02, 45.0, 0.0, \"Cluster 0\"], [\"Seychelles\", 65.87, 11.0, 0.0, \"Cluster 0\"], [\"Bulgaria\", 63.89, 2292.0, 116.0, \"Cluster 0\"], [\"Yemen\", 54.23, 167.0, 28.0, \"Cluster 0\"], [\"Slovenia\", 61.25, 1467.0, 104.0, \"Cluster 0\"], [\"Tanzania\", 50.4, 509.0, 21.0, \"Cluster 0\"], [\"Burundi\", 22.22, 42.0, 1.0, \"Cluster 0\"], [\"Zambia\", 45.37, 772.0, 7.0, \"Cluster 0\"], [\"Burkina Faso\", 62.04, 806.0, 52.0, \"Cluster 0\"], [\"Taiwan\", 29.36, 440.0, 7.0, \"Cluster 0\"], [\"Belarus\", 15.47, 31508.0, 175.0, \"Cluster 0\"], [\"Czech Republic\", 59.65, 8647.0, 302.0, \"Cluster 0\"], [\"Japan\", 43.79, 16385.0, 771.0, \"Cluster 0\"], [\"Sweden\", 47.35, 30799.0, 3743.0, \"Cluster 0\"], [\"Mozambique\", 53.83, 146.0, 0.0, \"Cluster 0\"], [\"Norway\", 58.07, 8257.0, 233.0, \"Cluster 0\"], [\"Canada\", 67.74, 79101.0, 5912.0, \"Cluster 0\"], [\"Serbia\", 56.87, 10733.0, 234.0, \"Cluster 0\"], [\"Cameroon\", 67.85, 3529.0, 140.0, \"Cluster 0\"], [\"Mongolia\", 67.99, 140.0, 0.0, \"Cluster 0\"], [\"China\", 64.44, 84065.0, 4638.0, \"Cluster 0\"]], \"hoverlabel\": {\"namelength\": 0}, \"hovertemplate\": \"Cluster=%{customdata[4]}<br>stringency_index=%{customdata[1]}<br>country_name=%{customdata[0]}<br>confirmed_cases=%{customdata[2]}<br>deaths=%{customdata[3]}\", \"legendgroup\": \"Cluster=Cluster 0\", \"marker\": {\"color\": \"#636efa\"}, \"name\": \"Cluster=Cluster 0\", \"notched\": true, \"offsetgroup\": \"Cluster=Cluster 0\", \"showlegend\": false, \"type\": \"box\", \"x\": [47.23, 56.22, 41.54, 65.74, 50.41, 56.61, 66.53, 66.53, 43.66, 67.85, 38.49, 43.51, 59.53, 56.74, 11.11, 33.33, 48.15, 61.24, 56.34, 65.73, 66.14, 64.43, 59.26, 56.34, 59.39, 62.7, 39.02, 65.87, 63.89, 54.23, 61.25, 50.4, 22.22, 45.37, 62.04, 29.36, 15.47, 59.65, 43.79, 47.35, 53.83, 58.07, 67.74, 56.87, 67.85, 67.99, 64.44], \"xaxis\": \"x2\", \"yaxis\": \"y2\"}, {\"alignmentgroup\": \"True\", \"bingroup\": \"x\", \"hoverlabel\": {\"namelength\": 0}, \"hovertemplate\": \"Cluster=Cluster 1<br>stringency_index=%{x}<br>count=%{y}\", \"legendgroup\": \"Cluster=Cluster 1\", \"marker\": {\"color\": \"#EF553B\", \"opacity\": 0.7}, \"name\": \"Cluster=Cluster 1\", \"offsetgroup\": \"Cluster=Cluster 1\", \"orientation\": \"v\", \"showlegend\": true, \"type\": \"histogram\", \"x\": [97.35, 71.71, 88.75, 82.27, 75.52, 80.82, 74.99, 91.4, 90.74, 77.64, 82.41, 72.48, 78.3, 79.24, 76.33, 80.43, 71.42, 86.38, 97.35, 96.03, 76.71, 88.09, 81.61, 82.02, 74.2, 84.78, 93.38, 82.27, 96.83, 77.12, 78.31, 94.18, 79.37, 76.07, 69.71, 76.19, 85.85, 80.95, 100.0, 69.18, 98.02, 69.97, 97.35, 86.77, 86.24, 84.12, 86.24, 78.96, 71.16, 87.83, 70.91, 100.0, 97.35, 80.95, 74.34, 84.78, 94.18, 86.24, 88.75, 82.42, 98.02, 100.0, 71.44, 85.19, 94.18, 70.25, 78.83, 71.55, 78.05, 71.42, 80.15, 87.04, 81.22, 91.93, 75.26, 91.54, 77.78, 88.36, 81.61, 80.04, 82.93, 80.42, 74.2, 92.06, 89.94, 80.42, 87.96, 93.38, 80.56, 86.38, 84.26, 94.71, 100.0, 85.18, 87.84, 73.81, 76.98, 94.58, 90.74, 76.19, 78.85, 100.0, 72.87, 84.92, 85.45, 97.35, 90.74, 80.95, 76.59, 76.71, 95.24, 85.19], \"xaxis\": \"x\", \"yaxis\": \"y\"}, {\"alignmentgroup\": \"True\", \"customdata\": [[\"Puerto Rico\", 97.35, 2805.0, 124.0, \"Cluster 1\"], [\"Russia\", 71.71, 299941.0, 2837.0, \"Cluster 1\"], [\"South Africa\", 88.75, 17200.0, 312.0, \"Cluster 1\"], [\"Guyana\", 82.27, 125.0, 10.0, \"Cluster 1\"], [\"Denmark\", 75.52, 11044.0, 551.0, \"Cluster 1\"], [\"Aruba\", 80.82, 101.0, 3.0, \"Cluster 1\"], [\"Costa Rica\", 74.99, 882.0, 10.0, \"Cluster 1\"], [\"Zimbabwe\", 91.4, 46.0, 4.0, \"Cluster 1\"], [\"Colombia\", 90.74, 16935.0, 613.0, \"Cluster 1\"], [\"Sierra Leone\", 77.64, 534.0, 33.0, \"Cluster 1\"], [\"Cape Verde\", 82.41, 335.0, 3.0, \"Cluster 1\"], [\"Jordan\", 72.48, 649.0, 9.0, \"Cluster 1\"], [\"Bhutan\", 78.3, 21.0, 0.0, \"Cluster 1\"], [\"Myanmar\", 79.24, 193.0, 6.0, \"Cluster 1\"], [\"Afghanistan\", 76.33, 7653.0, 178.0, \"Cluster 1\"], [\"Syria\", 80.43, 58.0, 3.0, \"Cluster 1\"], [\"San Marino\", 71.42, 655.0, 41.0, \"Cluster 1\"], [\"Sudan\", 86.38, 2591.0, 105.0, \"Cluster 1\"], [\"Palestine\", 97.35, 570.0, 4.0, \"Cluster 1\"], [\"Paraguay\", 96.03, 829.0, 11.0, \"Cluster 1\"], [\"Portugal\", 76.71, 29432.0, 1247.0, \"Cluster 1\"], [\"Poland\", 88.09, 19268.0, 948.0, \"Cluster 1\"], [\"Panama\", 81.61, 9867.0, 281.0, \"Cluster 1\"], [\"Pakistan\", 82.02, 45898.0, 985.0, \"Cluster 1\"], [\"Malaysia\", 74.2, 6978.0, 114.0, \"Cluster 1\"], [\"Mauritius\", 84.78, 332.0, 10.0, \"Cluster 1\"], [\"Morocco\", 93.38, 7023.0, 193.0, \"Cluster 1\"], [\"Sri Lanka\", 82.27, 1027.0, 9.0, \"Cluster 1\"], [\"Libya\", 96.83, 68.0, 3.0, \"Cluster 1\"], [\"Suriname\", 77.12, 11.0, 1.0, \"Cluster 1\"], [\"Liberia\", 78.31, 233.0, 23.0, \"Cluster 1\"], [\"Kenya\", 94.18, 963.0, 50.0, \"Cluster 1\"], [\"Kazakhstan\", 79.37, 6969.0, 35.0, \"Cluster 1\"], [\"India\", 76.07, 106750.0, 3303.0, \"Cluster 1\"], [\"Guam\", 69.71, 154.0, 5.0, \"Cluster 1\"], [\"Ethiopia\", 76.19, 365.0, 5.0, \"Cluster 1\"], [\"Ecuador\", 85.85, 34151.0, 2839.0, \"Cluster 1\"], [\"Dominica\", 80.95, 16.0, 0.0, \"Cluster 1\"], [\"Cuba\", 100.0, 1887.0, 79.0, \"Cluster 1\"], [\"Vietnam\", 69.18, 324.0, 0.0, \"Cluster 1\"], [\"Congo\", 98.02, 420.0, 15.0, \"Cluster 1\"], [\"Central African Republic\", 69.97, 411.0, 0.0, \"Cluster 1\"], [\"Bolivia\", 97.35, 4481.0, 189.0, \"Cluster 1\"], [\"Bahrain\", 86.77, 7532.0, 12.0, \"Cluster 1\"], [\"Azerbaijan\", 86.24, 3518.0, 41.0, \"Cluster 1\"], [\"Lebanon\", 84.12, 954.0, 26.0, \"Cluster 1\"], [\"Venezuela\", 86.24, 749.0, 10.0, \"Cluster 1\"], [\"Slovak Republic\", 78.96, 1495.0, 28.0, \"Cluster 1\"], [\"Uruguay\", 71.16, 738.0, 20.0, \"Cluster 1\"], [\"Ireland\", 87.83, 24251.0, 1561.0, \"Cluster 1\"], [\"Indonesia\", 70.91, 18496.0, 1221.0, \"Cluster 1\"], [\"Honduras\", 100.0, 2955.0, 147.0, \"Cluster 1\"], [\"Guatemala\", 97.35, 2133.0, 43.0, \"Cluster 1\"], [\"Greenland\", 80.95, 11.0, 0.0, \"Cluster 1\"], [\"Greece\", 74.34, 2840.0, 165.0, \"Cluster 1\"], [\"Gambia\", 84.78, 24.0, 1.0, \"Cluster 1\"], [\"Georgia\", 94.18, 707.0, 12.0, \"Cluster 1\"], [\"Gabon\", 86.24, 1502.0, 12.0, \"Cluster 1\"], [\"Egypt\", 88.75, 13484.0, 659.0, \"Cluster 1\"], [\"Algeria\", 82.42, 7377.0, 561.0, \"Cluster 1\"], [\"Dominican Republic\", 98.02, 13223.0, 441.0, \"Cluster 1\"], [\"Djibouti\", 100.0, 1518.0, 7.0, \"Cluster 1\"], [\"Germany\", 71.44, 176007.0, 8090.0, \"Cluster 1\"], [\"Uzbekistan\", 85.19, 2880.0, 13.0, \"Cluster 1\"], [\"Cyprus\", 94.18, 918.0, 17.0, \"Cluster 1\"], [\"Cote d'Ivoire\", 70.25, 2153.0, 28.0, \"Cluster 1\"], [\"Chile\", 78.83, 49579.0, 509.0, \"Cluster 1\"], [\"Switzerland\", 71.55, 30535.0, 1613.0, \"Cluster 1\"], [\"Botswana\", 78.05, 25.0, 1.0, \"Cluster 1\"], [\"Barbados\", 71.42, 90.0, 7.0, \"Cluster 1\"], [\"Bermuda\", 80.15, 125.0, 9.0, \"Cluster 1\"], [\"Belize\", 87.04, 18.0, 2.0, \"Cluster 1\"], [\"Bosnia and Herzegovina\", 81.22, 2319.0, 133.0, \"Cluster 1\"], [\"Bangladesh\", 91.93, 25121.0, 370.0, \"Cluster 1\"], [\"Belgium\", 75.26, 55791.0, 9108.0, \"Cluster 1\"], [\"Argentina\", 91.54, 8796.0, 393.0, \"Cluster 1\"], [\"United Arab Emirates\", 77.78, 25063.0, 227.0, \"Cluster 1\"], [\"Albania\", 88.36, 949.0, 31.0, \"Cluster 1\"], [\"Angola\", 81.61, 50.0, 2.0, \"Cluster 1\"], [\"Democratic Republic of Congo\", 80.04, 1731.0, 61.0, \"Cluster 1\"], [\"Israel\", 82.93, 16650.0, 277.0, \"Cluster 1\"], [\"Iraq\", 80.42, 3611.0, 131.0, \"Cluster 1\"], [\"Jamaica\", 74.2, 520.0, 9.0, \"Cluster 1\"], [\"Ukraine\", 92.06, 18876.0, 548.0, \"Cluster 1\"], [\"Uganda\", 89.94, 260.0, 0.0, \"Cluster 1\"], [\"Turkey\", 80.42, 151615.0, 4199.0, \"Cluster 1\"], [\"Tunisia\", 87.96, 1044.0, 47.0, \"Cluster 1\"], [\"Trinidad and Tobago\", 93.38, 116.0, 8.0, \"Cluster 1\"], [\"Thailand\", 80.56, 3034.0, 56.0, \"Cluster 1\"], [\"Chad\", 86.38, 545.0, 56.0, \"Cluster 1\"], [\"Eswatini\", 84.26, 208.0, 2.0, \"Cluster 1\"], [\"South Sudan\", 94.71, 285.0, 6.0, \"Cluster 1\"], [\"El Salvador\", 100.0, 1498.0, 31.0, \"Cluster 1\"], [\"Singapore\", 85.18, 28794.0, 22.0, \"Cluster 1\"], [\"Saudi Arabia\", 87.84, 59854.0, 329.0, \"Cluster 1\"], [\"Rwanda\", 73.81, 308.0, 0.0, \"Cluster 1\"], [\"Romania\", 76.98, 17191.0, 1126.0, \"Cluster 1\"], [\"Philippines\", 94.58, 12942.0, 837.0, \"Cluster 1\"], [\"Qatar\", 90.74, 35606.0, 15.0, \"Cluster 1\"], [\"Mali\", 76.19, 901.0, 53.0, \"Cluster 1\"], [\"Kyrgyz Republic\", 78.85, 1270.0, 14.0, \"Cluster 1\"], [\"Kuwait\", 100.0, 16764.0, 121.0, \"Cluster 1\"], [\"Lesotho\", 72.87, 1.0, 0.0, \"Cluster 1\"], [\"Moldova\", 84.92, 6340.0, 221.0, \"Cluster 1\"], [\"Mexico\", 85.45, 54346.0, 5666.0, \"Cluster 1\"], [\"Peru\", 97.35, 99483.0, 2914.0, \"Cluster 1\"], [\"Kosovo\", 90.74, 989.0, 29.0, \"Cluster 1\"], [\"Mauritania\", 80.95, 81.0, 4.0, \"Cluster 1\"], [\"Nigeria\", 76.59, 6401.0, 192.0, \"Cluster 1\"], [\"Netherlands\", 76.71, 44249.0, 5715.0, \"Cluster 1\"], [\"Nepal\", 95.24, 402.0, 2.0, \"Cluster 1\"], [\"Oman\", 85.19, 5671.0, 27.0, \"Cluster 1\"]], \"hoverlabel\": {\"namelength\": 0}, \"hovertemplate\": \"Cluster=%{customdata[4]}<br>stringency_index=%{customdata[1]}<br>country_name=%{customdata[0]}<br>confirmed_cases=%{customdata[2]}<br>deaths=%{customdata[3]}\", \"legendgroup\": \"Cluster=Cluster 1\", \"marker\": {\"color\": \"#EF553B\"}, \"name\": \"Cluster=Cluster 1\", \"notched\": true, \"offsetgroup\": \"Cluster=Cluster 1\", \"showlegend\": false, \"type\": \"box\", \"x\": [97.35, 71.71, 88.75, 82.27, 75.52, 80.82, 74.99, 91.4, 90.74, 77.64, 82.41, 72.48, 78.3, 79.24, 76.33, 80.43, 71.42, 86.38, 97.35, 96.03, 76.71, 88.09, 81.61, 82.02, 74.2, 84.78, 93.38, 82.27, 96.83, 77.12, 78.31, 94.18, 79.37, 76.07, 69.71, 76.19, 85.85, 80.95, 100.0, 69.18, 98.02, 69.97, 97.35, 86.77, 86.24, 84.12, 86.24, 78.96, 71.16, 87.83, 70.91, 100.0, 97.35, 80.95, 74.34, 84.78, 94.18, 86.24, 88.75, 82.42, 98.02, 100.0, 71.44, 85.19, 94.18, 70.25, 78.83, 71.55, 78.05, 71.42, 80.15, 87.04, 81.22, 91.93, 75.26, 91.54, 77.78, 88.36, 81.61, 80.04, 82.93, 80.42, 74.2, 92.06, 89.94, 80.42, 87.96, 93.38, 80.56, 86.38, 84.26, 94.71, 100.0, 85.18, 87.84, 73.81, 76.98, 94.58, 90.74, 76.19, 78.85, 100.0, 72.87, 84.92, 85.45, 97.35, 90.74, 80.95, 76.59, 76.71, 95.24, 85.19], \"xaxis\": \"x2\", \"yaxis\": \"y2\"}, {\"alignmentgroup\": \"True\", \"bingroup\": \"x\", \"hoverlabel\": {\"namelength\": 0}, \"hovertemplate\": \"Cluster=Cluster 2<br>stringency_index=%{x}<br>count=%{y}\", \"legendgroup\": \"Cluster=Cluster 2\", \"marker\": {\"color\": \"#00cc96\", \"opacity\": 0.7}, \"name\": \"Cluster=Cluster 2\", \"offsetgroup\": \"Cluster=Cluster 2\", \"orientation\": \"v\", \"showlegend\": true, \"type\": \"histogram\", \"x\": [68.41], \"xaxis\": \"x\", \"yaxis\": \"y\"}, {\"alignmentgroup\": \"True\", \"customdata\": [[\"United States\", 68.41, 1528568.0, 91921.0, \"Cluster 2\"]], \"hoverlabel\": {\"namelength\": 0}, \"hovertemplate\": \"Cluster=%{customdata[4]}<br>stringency_index=%{customdata[1]}<br>country_name=%{customdata[0]}<br>confirmed_cases=%{customdata[2]}<br>deaths=%{customdata[3]}\", \"legendgroup\": \"Cluster=Cluster 2\", \"marker\": {\"color\": \"#00cc96\"}, \"name\": \"Cluster=Cluster 2\", \"notched\": true, \"offsetgroup\": \"Cluster=Cluster 2\", \"showlegend\": false, \"type\": \"box\", \"x\": [68.41], \"xaxis\": \"x2\", \"yaxis\": \"y2\"}, {\"alignmentgroup\": \"True\", \"bingroup\": \"x\", \"hoverlabel\": {\"namelength\": 0}, \"hovertemplate\": \"Cluster=Cluster 3<br>stringency_index=%{x}<br>count=%{y}\", \"legendgroup\": \"Cluster=Cluster 3\", \"marker\": {\"color\": \"#ab63fa\", \"opacity\": 0.7}, \"name\": \"Cluster=Cluster 3\", \"offsetgroup\": \"Cluster=Cluster 3\", \"orientation\": \"v\", \"showlegend\": true, \"type\": \"histogram\", \"x\": [75.15, 73.01, 83.07, 83.46, 68.78], \"xaxis\": \"x\", \"yaxis\": \"y\"}, {\"alignmentgroup\": \"True\", \"customdata\": [[\"Brazil\", 75.15, 271628.0, 17971.0, \"Cluster 3\"], [\"United Kingdom\", 73.01, 248818.0, 35341.0, \"Cluster 3\"], [\"Spain\", 83.07, 232555.0, 27888.0, \"Cluster 3\"], [\"France\", 83.46, 143427.0, 28022.0, \"Cluster 3\"], [\"Italy\", 68.78, 226699.0, 32169.0, \"Cluster 3\"]], \"hoverlabel\": {\"namelength\": 0}, \"hovertemplate\": \"Cluster=%{customdata[4]}<br>stringency_index=%{customdata[1]}<br>country_name=%{customdata[0]}<br>confirmed_cases=%{customdata[2]}<br>deaths=%{customdata[3]}\", \"legendgroup\": \"Cluster=Cluster 3\", \"marker\": {\"color\": \"#ab63fa\"}, \"name\": \"Cluster=Cluster 3\", \"notched\": true, \"offsetgroup\": \"Cluster=Cluster 3\", \"showlegend\": false, \"type\": \"box\", \"x\": [75.15, 73.01, 83.07, 83.46, 68.78], \"xaxis\": \"x2\", \"yaxis\": \"y2\"}],\n",
       "                        {\"barmode\": \"relative\", \"legend\": {\"tracegroupgap\": 0}, \"margin\": {\"t\": 60}, \"template\": {\"data\": {\"bar\": [{\"error_x\": {\"color\": \"#2a3f5f\"}, \"error_y\": {\"color\": \"#2a3f5f\"}, \"marker\": {\"line\": {\"color\": \"#E5ECF6\", \"width\": 0.5}}, \"type\": \"bar\"}], \"barpolar\": [{\"marker\": {\"line\": {\"color\": \"#E5ECF6\", \"width\": 0.5}}, \"type\": \"barpolar\"}], \"carpet\": [{\"aaxis\": {\"endlinecolor\": \"#2a3f5f\", \"gridcolor\": \"white\", \"linecolor\": \"white\", \"minorgridcolor\": \"white\", \"startlinecolor\": \"#2a3f5f\"}, \"baxis\": {\"endlinecolor\": \"#2a3f5f\", \"gridcolor\": \"white\", \"linecolor\": \"white\", \"minorgridcolor\": \"white\", \"startlinecolor\": \"#2a3f5f\"}, \"type\": \"carpet\"}], \"choropleth\": [{\"colorbar\": {\"outlinewidth\": 0, \"ticks\": \"\"}, \"type\": \"choropleth\"}], \"contour\": [{\"colorbar\": {\"outlinewidth\": 0, \"ticks\": \"\"}, \"colorscale\": [[0.0, \"#0d0887\"], [0.1111111111111111, \"#46039f\"], [0.2222222222222222, \"#7201a8\"], [0.3333333333333333, \"#9c179e\"], [0.4444444444444444, \"#bd3786\"], [0.5555555555555556, \"#d8576b\"], [0.6666666666666666, \"#ed7953\"], [0.7777777777777778, \"#fb9f3a\"], [0.8888888888888888, \"#fdca26\"], [1.0, \"#f0f921\"]], \"type\": \"contour\"}], \"contourcarpet\": [{\"colorbar\": {\"outlinewidth\": 0, \"ticks\": \"\"}, \"type\": \"contourcarpet\"}], \"heatmap\": [{\"colorbar\": {\"outlinewidth\": 0, \"ticks\": \"\"}, \"colorscale\": [[0.0, \"#0d0887\"], [0.1111111111111111, \"#46039f\"], [0.2222222222222222, \"#7201a8\"], [0.3333333333333333, \"#9c179e\"], [0.4444444444444444, \"#bd3786\"], [0.5555555555555556, \"#d8576b\"], [0.6666666666666666, \"#ed7953\"], [0.7777777777777778, \"#fb9f3a\"], [0.8888888888888888, \"#fdca26\"], [1.0, \"#f0f921\"]], \"type\": \"heatmap\"}], \"heatmapgl\": [{\"colorbar\": {\"outlinewidth\": 0, \"ticks\": \"\"}, \"colorscale\": [[0.0, \"#0d0887\"], [0.1111111111111111, \"#46039f\"], [0.2222222222222222, \"#7201a8\"], [0.3333333333333333, \"#9c179e\"], [0.4444444444444444, \"#bd3786\"], [0.5555555555555556, \"#d8576b\"], [0.6666666666666666, \"#ed7953\"], [0.7777777777777778, \"#fb9f3a\"], [0.8888888888888888, \"#fdca26\"], [1.0, \"#f0f921\"]], \"type\": \"heatmapgl\"}], \"histogram\": [{\"marker\": {\"colorbar\": {\"outlinewidth\": 0, \"ticks\": \"\"}}, \"type\": \"histogram\"}], \"histogram2d\": [{\"colorbar\": {\"outlinewidth\": 0, \"ticks\": \"\"}, \"colorscale\": [[0.0, \"#0d0887\"], [0.1111111111111111, \"#46039f\"], [0.2222222222222222, \"#7201a8\"], [0.3333333333333333, \"#9c179e\"], [0.4444444444444444, \"#bd3786\"], [0.5555555555555556, \"#d8576b\"], [0.6666666666666666, \"#ed7953\"], [0.7777777777777778, \"#fb9f3a\"], [0.8888888888888888, \"#fdca26\"], [1.0, \"#f0f921\"]], \"type\": \"histogram2d\"}], \"histogram2dcontour\": [{\"colorbar\": {\"outlinewidth\": 0, \"ticks\": \"\"}, \"colorscale\": [[0.0, \"#0d0887\"], [0.1111111111111111, \"#46039f\"], [0.2222222222222222, \"#7201a8\"], [0.3333333333333333, \"#9c179e\"], [0.4444444444444444, \"#bd3786\"], [0.5555555555555556, \"#d8576b\"], [0.6666666666666666, \"#ed7953\"], [0.7777777777777778, \"#fb9f3a\"], [0.8888888888888888, \"#fdca26\"], [1.0, \"#f0f921\"]], \"type\": \"histogram2dcontour\"}], \"mesh3d\": [{\"colorbar\": {\"outlinewidth\": 0, \"ticks\": \"\"}, \"type\": \"mesh3d\"}], \"parcoords\": [{\"line\": {\"colorbar\": {\"outlinewidth\": 0, \"ticks\": \"\"}}, \"type\": \"parcoords\"}], \"pie\": [{\"automargin\": true, \"type\": \"pie\"}], \"scatter\": [{\"marker\": {\"colorbar\": {\"outlinewidth\": 0, \"ticks\": \"\"}}, \"type\": \"scatter\"}], \"scatter3d\": [{\"line\": {\"colorbar\": {\"outlinewidth\": 0, \"ticks\": \"\"}}, \"marker\": {\"colorbar\": {\"outlinewidth\": 0, \"ticks\": \"\"}}, \"type\": \"scatter3d\"}], \"scattercarpet\": [{\"marker\": {\"colorbar\": {\"outlinewidth\": 0, \"ticks\": \"\"}}, \"type\": \"scattercarpet\"}], \"scattergeo\": [{\"marker\": {\"colorbar\": {\"outlinewidth\": 0, \"ticks\": \"\"}}, \"type\": \"scattergeo\"}], \"scattergl\": [{\"marker\": {\"colorbar\": {\"outlinewidth\": 0, \"ticks\": \"\"}}, \"type\": \"scattergl\"}], \"scattermapbox\": [{\"marker\": {\"colorbar\": {\"outlinewidth\": 0, \"ticks\": \"\"}}, \"type\": \"scattermapbox\"}], \"scatterpolar\": [{\"marker\": {\"colorbar\": {\"outlinewidth\": 0, \"ticks\": \"\"}}, \"type\": \"scatterpolar\"}], \"scatterpolargl\": [{\"marker\": {\"colorbar\": {\"outlinewidth\": 0, \"ticks\": \"\"}}, \"type\": \"scatterpolargl\"}], \"scatterternary\": [{\"marker\": {\"colorbar\": {\"outlinewidth\": 0, \"ticks\": \"\"}}, \"type\": \"scatterternary\"}], \"surface\": [{\"colorbar\": {\"outlinewidth\": 0, \"ticks\": \"\"}, \"colorscale\": [[0.0, \"#0d0887\"], [0.1111111111111111, \"#46039f\"], [0.2222222222222222, \"#7201a8\"], [0.3333333333333333, \"#9c179e\"], [0.4444444444444444, \"#bd3786\"], [0.5555555555555556, \"#d8576b\"], [0.6666666666666666, \"#ed7953\"], [0.7777777777777778, \"#fb9f3a\"], [0.8888888888888888, \"#fdca26\"], [1.0, \"#f0f921\"]], \"type\": \"surface\"}], \"table\": [{\"cells\": {\"fill\": {\"color\": \"#EBF0F8\"}, \"line\": {\"color\": \"white\"}}, \"header\": {\"fill\": {\"color\": \"#C8D4E3\"}, \"line\": {\"color\": \"white\"}}, \"type\": \"table\"}]}, \"layout\": {\"annotationdefaults\": {\"arrowcolor\": \"#2a3f5f\", \"arrowhead\": 0, \"arrowwidth\": 1}, \"coloraxis\": {\"colorbar\": {\"outlinewidth\": 0, \"ticks\": \"\"}}, \"colorscale\": {\"diverging\": [[0, \"#8e0152\"], [0.1, \"#c51b7d\"], [0.2, \"#de77ae\"], [0.3, \"#f1b6da\"], [0.4, \"#fde0ef\"], [0.5, \"#f7f7f7\"], [0.6, \"#e6f5d0\"], [0.7, \"#b8e186\"], [0.8, \"#7fbc41\"], [0.9, \"#4d9221\"], [1, \"#276419\"]], \"sequential\": [[0.0, \"#0d0887\"], [0.1111111111111111, \"#46039f\"], [0.2222222222222222, \"#7201a8\"], [0.3333333333333333, \"#9c179e\"], [0.4444444444444444, \"#bd3786\"], [0.5555555555555556, \"#d8576b\"], [0.6666666666666666, \"#ed7953\"], [0.7777777777777778, \"#fb9f3a\"], [0.8888888888888888, \"#fdca26\"], [1.0, \"#f0f921\"]], \"sequentialminus\": [[0.0, \"#0d0887\"], [0.1111111111111111, \"#46039f\"], [0.2222222222222222, \"#7201a8\"], [0.3333333333333333, \"#9c179e\"], [0.4444444444444444, \"#bd3786\"], [0.5555555555555556, \"#d8576b\"], [0.6666666666666666, \"#ed7953\"], [0.7777777777777778, \"#fb9f3a\"], [0.8888888888888888, \"#fdca26\"], [1.0, \"#f0f921\"]]}, \"colorway\": [\"#636efa\", \"#EF553B\", \"#00cc96\", \"#ab63fa\", \"#FFA15A\", \"#19d3f3\", \"#FF6692\", \"#B6E880\", \"#FF97FF\", \"#FECB52\"], \"font\": {\"color\": \"#2a3f5f\"}, \"geo\": {\"bgcolor\": \"white\", \"lakecolor\": \"white\", \"landcolor\": \"#E5ECF6\", \"showlakes\": true, \"showland\": true, \"subunitcolor\": \"white\"}, \"hoverlabel\": {\"align\": \"left\"}, \"hovermode\": \"closest\", \"mapbox\": {\"style\": \"light\"}, \"paper_bgcolor\": \"white\", \"plot_bgcolor\": \"#E5ECF6\", \"polar\": {\"angularaxis\": {\"gridcolor\": \"white\", \"linecolor\": \"white\", \"ticks\": \"\"}, \"bgcolor\": \"#E5ECF6\", \"radialaxis\": {\"gridcolor\": \"white\", \"linecolor\": \"white\", \"ticks\": \"\"}}, \"scene\": {\"xaxis\": {\"backgroundcolor\": \"#E5ECF6\", \"gridcolor\": \"white\", \"gridwidth\": 2, \"linecolor\": \"white\", \"showbackground\": true, \"ticks\": \"\", \"zerolinecolor\": \"white\"}, \"yaxis\": {\"backgroundcolor\": \"#E5ECF6\", \"gridcolor\": \"white\", \"gridwidth\": 2, \"linecolor\": \"white\", \"showbackground\": true, \"ticks\": \"\", \"zerolinecolor\": \"white\"}, \"zaxis\": {\"backgroundcolor\": \"#E5ECF6\", \"gridcolor\": \"white\", \"gridwidth\": 2, \"linecolor\": \"white\", \"showbackground\": true, \"ticks\": \"\", \"zerolinecolor\": \"white\"}}, \"shapedefaults\": {\"line\": {\"color\": \"#2a3f5f\"}}, \"ternary\": {\"aaxis\": {\"gridcolor\": \"white\", \"linecolor\": \"white\", \"ticks\": \"\"}, \"baxis\": {\"gridcolor\": \"white\", \"linecolor\": \"white\", \"ticks\": \"\"}, \"bgcolor\": \"#E5ECF6\", \"caxis\": {\"gridcolor\": \"white\", \"linecolor\": \"white\", \"ticks\": \"\"}}, \"title\": {\"x\": 0.05}, \"xaxis\": {\"automargin\": true, \"gridcolor\": \"white\", \"linecolor\": \"white\", \"ticks\": \"\", \"title\": {\"standoff\": 15}, \"zerolinecolor\": \"white\", \"zerolinewidth\": 2}, \"yaxis\": {\"automargin\": true, \"gridcolor\": \"white\", \"linecolor\": \"white\", \"ticks\": \"\", \"title\": {\"standoff\": 15}, \"zerolinecolor\": \"white\", \"zerolinewidth\": 2}}}, \"xaxis\": {\"anchor\": \"y\", \"domain\": [0.0, 1.0], \"title\": {\"text\": \"stringency_index\"}}, \"xaxis2\": {\"anchor\": \"y2\", \"domain\": [0.0, 1.0], \"matches\": \"x\", \"showgrid\": true, \"showticklabels\": false}, \"yaxis\": {\"anchor\": \"x\", \"domain\": [0.0, 0.7326], \"title\": {\"text\": \"count\"}}, \"yaxis2\": {\"anchor\": \"x2\", \"domain\": [0.7426, 1.0], \"matches\": \"y2\", \"showgrid\": false, \"showline\": false, \"showticklabels\": false, \"ticks\": \"\"}},\n",
       "                        {\"responsive\": true}\n",
       "                    ).then(function(){\n",
       "                            \n",
       "var gd = document.getElementById('53599658-c20f-403f-b6ce-835bcff986ee');\n",
       "var x = new MutationObserver(function (mutations, observer) {{\n",
       "        var display = window.getComputedStyle(gd).display;\n",
       "        if (!display || display === 'none') {{\n",
       "            console.log([gd, 'removed!']);\n",
       "            Plotly.purge(gd);\n",
       "            observer.disconnect();\n",
       "        }}\n",
       "}});\n",
       "\n",
       "// Listen for the removal of the full notebook cells\n",
       "var notebookContainer = gd.closest('#notebook-container');\n",
       "if (notebookContainer) {{\n",
       "    x.observe(notebookContainer, {childList: true});\n",
       "}}\n",
       "\n",
       "// Listen for the clearing of the current output cell\n",
       "var outputEl = gd.closest('.output');\n",
       "if (outputEl) {{\n",
       "    x.observe(outputEl, {childList: true});\n",
       "}}\n",
       "\n",
       "                        })\n",
       "                };\n",
       "                });\n",
       "            </script>\n",
       "        </div>"
      ]
     },
     "metadata": {},
     "output_type": "display_data"
    }
   ],
   "source": [
    "# cluster 1 countries have high stringency_index\n",
    "plot_model(kmeans, plot = 'distribution', feature = 'stringency_index')"
   ]
  },
  {
   "cell_type": "code",
   "execution_count": 42,
   "metadata": {},
   "outputs": [
    {
     "data": {
      "text/html": [
       "        <script type=\"text/javascript\">\n",
       "        window.PlotlyConfig = {MathJaxConfig: 'local'};\n",
       "        if (window.MathJax) {MathJax.Hub.Config({SVG: {font: \"STIX-Web\"}});}\n",
       "        if (typeof require !== 'undefined') {\n",
       "        require.undef(\"plotly\");\n",
       "        requirejs.config({\n",
       "            paths: {\n",
       "                'plotly': ['https://cdn.plot.ly/plotly-latest.min']\n",
       "            }\n",
       "        });\n",
       "        require(['plotly'], function(Plotly) {\n",
       "            window._Plotly = Plotly;\n",
       "        });\n",
       "        }\n",
       "        </script>\n",
       "        "
      ]
     },
     "metadata": {},
     "output_type": "display_data"
    },
    {
     "data": {
      "application/vnd.plotly.v1+json": {
       "config": {
        "plotlyServerURL": "https://plot.ly"
       },
       "data": [
        {
         "alignmentgroup": "True",
         "bingroup": "x",
         "hoverlabel": {
          "namelength": 0
         },
         "hovertemplate": "Cluster=Cluster 0<br>confirmed_cases=%{x}<br>count=%{y}",
         "legendgroup": "Cluster=Cluster 0",
         "marker": {
          "color": "#636efa",
          "opacity": 0.7
         },
         "name": "Cluster=Cluster 0",
         "offsetgroup": "Cluster=Cluster 0",
         "orientation": "v",
         "showlegend": true,
         "type": "histogram",
         "x": [
          124603,
          19,
          1791,
          6399,
          0,
          1802,
          6096,
          2232,
          8,
          1055,
          1153,
          11110,
          3598,
          141,
          25,
          914,
          130,
          712,
          16257,
          3958,
          7068,
          326,
          71,
          761,
          1502,
          2617,
          45,
          11,
          2292,
          167,
          1467,
          509,
          42,
          772,
          806,
          440,
          31508,
          8647,
          16385,
          30799,
          146,
          8257,
          79101,
          10733,
          3529,
          140,
          84065
         ],
         "xaxis": "x",
         "yaxis": "y"
        },
        {
         "alignmentgroup": "True",
         "customdata": [
          [
           "Iran",
           47.23,
           124603,
           7119,
           "Cluster 0"
          ],
          [
           "Laos",
           56.22,
           19,
           0,
           "Cluster 0"
          ],
          [
           "Estonia",
           41.54,
           1791,
           64,
           "Cluster 0"
          ],
          [
           "Finland",
           65.74,
           6399,
           301,
           "Cluster 0"
          ],
          [
           "Solomon Islands",
           50.41,
           0,
           0,
           "Cluster 0"
          ],
          [
           "Iceland",
           56.61,
           1802,
           10,
           "Cluster 0"
          ],
          [
           "Ghana",
           66.53,
           6096,
           31,
           "Cluster 0"
          ],
          [
           "Croatia",
           66.53,
           2232,
           96,
           "Cluster 0"
          ],
          [
           "Papua New Guinea",
           43.66,
           8,
           0,
           "Cluster 0"
          ],
          [
           "Hong Kong",
           67.85,
           1055,
           4,
           "Cluster 0"
          ],
          [
           "New Zealand",
           38.49,
           1153,
           21,
           "Cluster 0"
          ],
          [
           "South Korea",
           43.51,
           11110,
           263,
           "Cluster 0"
          ],
          [
           "Hungary",
           59.53,
           3598,
           470,
           "Cluster 0"
          ],
          [
           "Brunei",
           56.74,
           141,
           1,
           "Cluster 0"
          ],
          [
           "Nicaragua",
           11.11,
           25,
           8,
           "Cluster 0"
          ],
          [
           "Niger",
           33.33,
           914,
           55,
           "Cluster 0"
          ],
          [
           "Benin",
           48.15,
           130,
           2,
           "Cluster 0"
          ],
          [
           "Namibia",
           61.24,
           712,
           7,
           "Cluster 0"
          ],
          [
           "Austria",
           56.34,
           16257,
           632,
           "Cluster 0"
          ],
          [
           "Luxembourg",
           65.73,
           3958,
           109,
           "Cluster 0"
          ],
          [
           "Australia",
           66.14,
           7068,
           99,
           "Cluster 0"
          ],
          [
           "Madagascar",
           64.43,
           326,
           2,
           "Cluster 0"
          ],
          [
           "Malawi",
           59.26,
           71,
           3,
           "Cluster 0"
          ],
          [
           "Andorra",
           56.34,
           761,
           51,
           "Cluster 0"
          ],
          [
           "Somalia",
           59.39,
           1502,
           59,
           "Cluster 0"
          ],
          [
           "Senegal",
           62.7,
           2617,
           30,
           "Cluster 0"
          ],
          [
           "Macao",
           39.02,
           45,
           0,
           "Cluster 0"
          ],
          [
           "Seychelles",
           65.87,
           11,
           0,
           "Cluster 0"
          ],
          [
           "Bulgaria",
           63.89,
           2292,
           116,
           "Cluster 0"
          ],
          [
           "Yemen",
           54.23,
           167,
           28,
           "Cluster 0"
          ],
          [
           "Slovenia",
           61.25,
           1467,
           104,
           "Cluster 0"
          ],
          [
           "Tanzania",
           50.4,
           509,
           21,
           "Cluster 0"
          ],
          [
           "Burundi",
           22.22,
           42,
           1,
           "Cluster 0"
          ],
          [
           "Zambia",
           45.37,
           772,
           7,
           "Cluster 0"
          ],
          [
           "Burkina Faso",
           62.04,
           806,
           52,
           "Cluster 0"
          ],
          [
           "Taiwan",
           29.36,
           440,
           7,
           "Cluster 0"
          ],
          [
           "Belarus",
           15.47,
           31508,
           175,
           "Cluster 0"
          ],
          [
           "Czech Republic",
           59.65,
           8647,
           302,
           "Cluster 0"
          ],
          [
           "Japan",
           43.79,
           16385,
           771,
           "Cluster 0"
          ],
          [
           "Sweden",
           47.35,
           30799,
           3743,
           "Cluster 0"
          ],
          [
           "Mozambique",
           53.83,
           146,
           0,
           "Cluster 0"
          ],
          [
           "Norway",
           58.07,
           8257,
           233,
           "Cluster 0"
          ],
          [
           "Canada",
           67.74,
           79101,
           5912,
           "Cluster 0"
          ],
          [
           "Serbia",
           56.87,
           10733,
           234,
           "Cluster 0"
          ],
          [
           "Cameroon",
           67.85,
           3529,
           140,
           "Cluster 0"
          ],
          [
           "Mongolia",
           67.99,
           140,
           0,
           "Cluster 0"
          ],
          [
           "China",
           64.44,
           84065,
           4638,
           "Cluster 0"
          ]
         ],
         "hoverlabel": {
          "namelength": 0
         },
         "hovertemplate": "Cluster=%{customdata[4]}<br>confirmed_cases=%{customdata[2]}<br>country_name=%{customdata[0]}<br>stringency_index=%{customdata[1]}<br>deaths=%{customdata[3]}",
         "legendgroup": "Cluster=Cluster 0",
         "marker": {
          "color": "#636efa"
         },
         "name": "Cluster=Cluster 0",
         "notched": true,
         "offsetgroup": "Cluster=Cluster 0",
         "showlegend": false,
         "type": "box",
         "x": [
          124603,
          19,
          1791,
          6399,
          0,
          1802,
          6096,
          2232,
          8,
          1055,
          1153,
          11110,
          3598,
          141,
          25,
          914,
          130,
          712,
          16257,
          3958,
          7068,
          326,
          71,
          761,
          1502,
          2617,
          45,
          11,
          2292,
          167,
          1467,
          509,
          42,
          772,
          806,
          440,
          31508,
          8647,
          16385,
          30799,
          146,
          8257,
          79101,
          10733,
          3529,
          140,
          84065
         ],
         "xaxis": "x2",
         "yaxis": "y2"
        },
        {
         "alignmentgroup": "True",
         "bingroup": "x",
         "hoverlabel": {
          "namelength": 0
         },
         "hovertemplate": "Cluster=Cluster 1<br>confirmed_cases=%{x}<br>count=%{y}",
         "legendgroup": "Cluster=Cluster 1",
         "marker": {
          "color": "#EF553B",
          "opacity": 0.7
         },
         "name": "Cluster=Cluster 1",
         "offsetgroup": "Cluster=Cluster 1",
         "orientation": "v",
         "showlegend": true,
         "type": "histogram",
         "x": [
          2805,
          299941,
          17200,
          125,
          11044,
          101,
          882,
          46,
          16935,
          534,
          335,
          649,
          21,
          193,
          7653,
          58,
          655,
          2591,
          570,
          829,
          29432,
          19268,
          9867,
          45898,
          6978,
          332,
          7023,
          1027,
          68,
          11,
          233,
          963,
          6969,
          106750,
          154,
          365,
          34151,
          16,
          1887,
          324,
          420,
          411,
          4481,
          7532,
          3518,
          954,
          749,
          1495,
          738,
          24251,
          18496,
          2955,
          2133,
          11,
          2840,
          24,
          707,
          1502,
          13484,
          7377,
          13223,
          1518,
          176007,
          2880,
          918,
          2153,
          49579,
          30535,
          25,
          90,
          125,
          18,
          2319,
          25121,
          55791,
          8796,
          25063,
          949,
          50,
          1731,
          16650,
          3611,
          520,
          18876,
          260,
          151615,
          1044,
          116,
          3034,
          545,
          208,
          285,
          1498,
          28794,
          59854,
          308,
          17191,
          12942,
          35606,
          901,
          1270,
          16764,
          1,
          6340,
          54346,
          99483,
          989,
          81,
          6401,
          44249,
          402,
          5671
         ],
         "xaxis": "x",
         "yaxis": "y"
        },
        {
         "alignmentgroup": "True",
         "customdata": [
          [
           "Puerto Rico",
           97.35,
           2805,
           124,
           "Cluster 1"
          ],
          [
           "Russia",
           71.71,
           299941,
           2837,
           "Cluster 1"
          ],
          [
           "South Africa",
           88.75,
           17200,
           312,
           "Cluster 1"
          ],
          [
           "Guyana",
           82.27,
           125,
           10,
           "Cluster 1"
          ],
          [
           "Denmark",
           75.52,
           11044,
           551,
           "Cluster 1"
          ],
          [
           "Aruba",
           80.82,
           101,
           3,
           "Cluster 1"
          ],
          [
           "Costa Rica",
           74.99,
           882,
           10,
           "Cluster 1"
          ],
          [
           "Zimbabwe",
           91.4,
           46,
           4,
           "Cluster 1"
          ],
          [
           "Colombia",
           90.74,
           16935,
           613,
           "Cluster 1"
          ],
          [
           "Sierra Leone",
           77.64,
           534,
           33,
           "Cluster 1"
          ],
          [
           "Cape Verde",
           82.41,
           335,
           3,
           "Cluster 1"
          ],
          [
           "Jordan",
           72.48,
           649,
           9,
           "Cluster 1"
          ],
          [
           "Bhutan",
           78.3,
           21,
           0,
           "Cluster 1"
          ],
          [
           "Myanmar",
           79.24,
           193,
           6,
           "Cluster 1"
          ],
          [
           "Afghanistan",
           76.33,
           7653,
           178,
           "Cluster 1"
          ],
          [
           "Syria",
           80.43,
           58,
           3,
           "Cluster 1"
          ],
          [
           "San Marino",
           71.42,
           655,
           41,
           "Cluster 1"
          ],
          [
           "Sudan",
           86.38,
           2591,
           105,
           "Cluster 1"
          ],
          [
           "Palestine",
           97.35,
           570,
           4,
           "Cluster 1"
          ],
          [
           "Paraguay",
           96.03,
           829,
           11,
           "Cluster 1"
          ],
          [
           "Portugal",
           76.71,
           29432,
           1247,
           "Cluster 1"
          ],
          [
           "Poland",
           88.09,
           19268,
           948,
           "Cluster 1"
          ],
          [
           "Panama",
           81.61,
           9867,
           281,
           "Cluster 1"
          ],
          [
           "Pakistan",
           82.02,
           45898,
           985,
           "Cluster 1"
          ],
          [
           "Malaysia",
           74.2,
           6978,
           114,
           "Cluster 1"
          ],
          [
           "Mauritius",
           84.78,
           332,
           10,
           "Cluster 1"
          ],
          [
           "Morocco",
           93.38,
           7023,
           193,
           "Cluster 1"
          ],
          [
           "Sri Lanka",
           82.27,
           1027,
           9,
           "Cluster 1"
          ],
          [
           "Libya",
           96.83,
           68,
           3,
           "Cluster 1"
          ],
          [
           "Suriname",
           77.12,
           11,
           1,
           "Cluster 1"
          ],
          [
           "Liberia",
           78.31,
           233,
           23,
           "Cluster 1"
          ],
          [
           "Kenya",
           94.18,
           963,
           50,
           "Cluster 1"
          ],
          [
           "Kazakhstan",
           79.37,
           6969,
           35,
           "Cluster 1"
          ],
          [
           "India",
           76.07,
           106750,
           3303,
           "Cluster 1"
          ],
          [
           "Guam",
           69.71,
           154,
           5,
           "Cluster 1"
          ],
          [
           "Ethiopia",
           76.19,
           365,
           5,
           "Cluster 1"
          ],
          [
           "Ecuador",
           85.85,
           34151,
           2839,
           "Cluster 1"
          ],
          [
           "Dominica",
           80.95,
           16,
           0,
           "Cluster 1"
          ],
          [
           "Cuba",
           100,
           1887,
           79,
           "Cluster 1"
          ],
          [
           "Vietnam",
           69.18,
           324,
           0,
           "Cluster 1"
          ],
          [
           "Congo",
           98.02,
           420,
           15,
           "Cluster 1"
          ],
          [
           "Central African Republic",
           69.97,
           411,
           0,
           "Cluster 1"
          ],
          [
           "Bolivia",
           97.35,
           4481,
           189,
           "Cluster 1"
          ],
          [
           "Bahrain",
           86.77,
           7532,
           12,
           "Cluster 1"
          ],
          [
           "Azerbaijan",
           86.24,
           3518,
           41,
           "Cluster 1"
          ],
          [
           "Lebanon",
           84.12,
           954,
           26,
           "Cluster 1"
          ],
          [
           "Venezuela",
           86.24,
           749,
           10,
           "Cluster 1"
          ],
          [
           "Slovak Republic",
           78.96,
           1495,
           28,
           "Cluster 1"
          ],
          [
           "Uruguay",
           71.16,
           738,
           20,
           "Cluster 1"
          ],
          [
           "Ireland",
           87.83,
           24251,
           1561,
           "Cluster 1"
          ],
          [
           "Indonesia",
           70.91,
           18496,
           1221,
           "Cluster 1"
          ],
          [
           "Honduras",
           100,
           2955,
           147,
           "Cluster 1"
          ],
          [
           "Guatemala",
           97.35,
           2133,
           43,
           "Cluster 1"
          ],
          [
           "Greenland",
           80.95,
           11,
           0,
           "Cluster 1"
          ],
          [
           "Greece",
           74.34,
           2840,
           165,
           "Cluster 1"
          ],
          [
           "Gambia",
           84.78,
           24,
           1,
           "Cluster 1"
          ],
          [
           "Georgia",
           94.18,
           707,
           12,
           "Cluster 1"
          ],
          [
           "Gabon",
           86.24,
           1502,
           12,
           "Cluster 1"
          ],
          [
           "Egypt",
           88.75,
           13484,
           659,
           "Cluster 1"
          ],
          [
           "Algeria",
           82.42,
           7377,
           561,
           "Cluster 1"
          ],
          [
           "Dominican Republic",
           98.02,
           13223,
           441,
           "Cluster 1"
          ],
          [
           "Djibouti",
           100,
           1518,
           7,
           "Cluster 1"
          ],
          [
           "Germany",
           71.44,
           176007,
           8090,
           "Cluster 1"
          ],
          [
           "Uzbekistan",
           85.19,
           2880,
           13,
           "Cluster 1"
          ],
          [
           "Cyprus",
           94.18,
           918,
           17,
           "Cluster 1"
          ],
          [
           "Cote d'Ivoire",
           70.25,
           2153,
           28,
           "Cluster 1"
          ],
          [
           "Chile",
           78.83,
           49579,
           509,
           "Cluster 1"
          ],
          [
           "Switzerland",
           71.55,
           30535,
           1613,
           "Cluster 1"
          ],
          [
           "Botswana",
           78.05,
           25,
           1,
           "Cluster 1"
          ],
          [
           "Barbados",
           71.42,
           90,
           7,
           "Cluster 1"
          ],
          [
           "Bermuda",
           80.15,
           125,
           9,
           "Cluster 1"
          ],
          [
           "Belize",
           87.04,
           18,
           2,
           "Cluster 1"
          ],
          [
           "Bosnia and Herzegovina",
           81.22,
           2319,
           133,
           "Cluster 1"
          ],
          [
           "Bangladesh",
           91.93,
           25121,
           370,
           "Cluster 1"
          ],
          [
           "Belgium",
           75.26,
           55791,
           9108,
           "Cluster 1"
          ],
          [
           "Argentina",
           91.54,
           8796,
           393,
           "Cluster 1"
          ],
          [
           "United Arab Emirates",
           77.78,
           25063,
           227,
           "Cluster 1"
          ],
          [
           "Albania",
           88.36,
           949,
           31,
           "Cluster 1"
          ],
          [
           "Angola",
           81.61,
           50,
           2,
           "Cluster 1"
          ],
          [
           "Democratic Republic of Congo",
           80.04,
           1731,
           61,
           "Cluster 1"
          ],
          [
           "Israel",
           82.93,
           16650,
           277,
           "Cluster 1"
          ],
          [
           "Iraq",
           80.42,
           3611,
           131,
           "Cluster 1"
          ],
          [
           "Jamaica",
           74.2,
           520,
           9,
           "Cluster 1"
          ],
          [
           "Ukraine",
           92.06,
           18876,
           548,
           "Cluster 1"
          ],
          [
           "Uganda",
           89.94,
           260,
           0,
           "Cluster 1"
          ],
          [
           "Turkey",
           80.42,
           151615,
           4199,
           "Cluster 1"
          ],
          [
           "Tunisia",
           87.96,
           1044,
           47,
           "Cluster 1"
          ],
          [
           "Trinidad and Tobago",
           93.38,
           116,
           8,
           "Cluster 1"
          ],
          [
           "Thailand",
           80.56,
           3034,
           56,
           "Cluster 1"
          ],
          [
           "Chad",
           86.38,
           545,
           56,
           "Cluster 1"
          ],
          [
           "Eswatini",
           84.26,
           208,
           2,
           "Cluster 1"
          ],
          [
           "South Sudan",
           94.71,
           285,
           6,
           "Cluster 1"
          ],
          [
           "El Salvador",
           100,
           1498,
           31,
           "Cluster 1"
          ],
          [
           "Singapore",
           85.18,
           28794,
           22,
           "Cluster 1"
          ],
          [
           "Saudi Arabia",
           87.84,
           59854,
           329,
           "Cluster 1"
          ],
          [
           "Rwanda",
           73.81,
           308,
           0,
           "Cluster 1"
          ],
          [
           "Romania",
           76.98,
           17191,
           1126,
           "Cluster 1"
          ],
          [
           "Philippines",
           94.58,
           12942,
           837,
           "Cluster 1"
          ],
          [
           "Qatar",
           90.74,
           35606,
           15,
           "Cluster 1"
          ],
          [
           "Mali",
           76.19,
           901,
           53,
           "Cluster 1"
          ],
          [
           "Kyrgyz Republic",
           78.85,
           1270,
           14,
           "Cluster 1"
          ],
          [
           "Kuwait",
           100,
           16764,
           121,
           "Cluster 1"
          ],
          [
           "Lesotho",
           72.87,
           1,
           0,
           "Cluster 1"
          ],
          [
           "Moldova",
           84.92,
           6340,
           221,
           "Cluster 1"
          ],
          [
           "Mexico",
           85.45,
           54346,
           5666,
           "Cluster 1"
          ],
          [
           "Peru",
           97.35,
           99483,
           2914,
           "Cluster 1"
          ],
          [
           "Kosovo",
           90.74,
           989,
           29,
           "Cluster 1"
          ],
          [
           "Mauritania",
           80.95,
           81,
           4,
           "Cluster 1"
          ],
          [
           "Nigeria",
           76.59,
           6401,
           192,
           "Cluster 1"
          ],
          [
           "Netherlands",
           76.71,
           44249,
           5715,
           "Cluster 1"
          ],
          [
           "Nepal",
           95.24,
           402,
           2,
           "Cluster 1"
          ],
          [
           "Oman",
           85.19,
           5671,
           27,
           "Cluster 1"
          ]
         ],
         "hoverlabel": {
          "namelength": 0
         },
         "hovertemplate": "Cluster=%{customdata[4]}<br>confirmed_cases=%{customdata[2]}<br>country_name=%{customdata[0]}<br>stringency_index=%{customdata[1]}<br>deaths=%{customdata[3]}",
         "legendgroup": "Cluster=Cluster 1",
         "marker": {
          "color": "#EF553B"
         },
         "name": "Cluster=Cluster 1",
         "notched": true,
         "offsetgroup": "Cluster=Cluster 1",
         "showlegend": false,
         "type": "box",
         "x": [
          2805,
          299941,
          17200,
          125,
          11044,
          101,
          882,
          46,
          16935,
          534,
          335,
          649,
          21,
          193,
          7653,
          58,
          655,
          2591,
          570,
          829,
          29432,
          19268,
          9867,
          45898,
          6978,
          332,
          7023,
          1027,
          68,
          11,
          233,
          963,
          6969,
          106750,
          154,
          365,
          34151,
          16,
          1887,
          324,
          420,
          411,
          4481,
          7532,
          3518,
          954,
          749,
          1495,
          738,
          24251,
          18496,
          2955,
          2133,
          11,
          2840,
          24,
          707,
          1502,
          13484,
          7377,
          13223,
          1518,
          176007,
          2880,
          918,
          2153,
          49579,
          30535,
          25,
          90,
          125,
          18,
          2319,
          25121,
          55791,
          8796,
          25063,
          949,
          50,
          1731,
          16650,
          3611,
          520,
          18876,
          260,
          151615,
          1044,
          116,
          3034,
          545,
          208,
          285,
          1498,
          28794,
          59854,
          308,
          17191,
          12942,
          35606,
          901,
          1270,
          16764,
          1,
          6340,
          54346,
          99483,
          989,
          81,
          6401,
          44249,
          402,
          5671
         ],
         "xaxis": "x2",
         "yaxis": "y2"
        },
        {
         "alignmentgroup": "True",
         "bingroup": "x",
         "hoverlabel": {
          "namelength": 0
         },
         "hovertemplate": "Cluster=Cluster 2<br>confirmed_cases=%{x}<br>count=%{y}",
         "legendgroup": "Cluster=Cluster 2",
         "marker": {
          "color": "#00cc96",
          "opacity": 0.7
         },
         "name": "Cluster=Cluster 2",
         "offsetgroup": "Cluster=Cluster 2",
         "orientation": "v",
         "showlegend": true,
         "type": "histogram",
         "x": [
          1528568
         ],
         "xaxis": "x",
         "yaxis": "y"
        },
        {
         "alignmentgroup": "True",
         "customdata": [
          [
           "United States",
           68.41,
           1528568,
           91921,
           "Cluster 2"
          ]
         ],
         "hoverlabel": {
          "namelength": 0
         },
         "hovertemplate": "Cluster=%{customdata[4]}<br>confirmed_cases=%{customdata[2]}<br>country_name=%{customdata[0]}<br>stringency_index=%{customdata[1]}<br>deaths=%{customdata[3]}",
         "legendgroup": "Cluster=Cluster 2",
         "marker": {
          "color": "#00cc96"
         },
         "name": "Cluster=Cluster 2",
         "notched": true,
         "offsetgroup": "Cluster=Cluster 2",
         "showlegend": false,
         "type": "box",
         "x": [
          1528568
         ],
         "xaxis": "x2",
         "yaxis": "y2"
        },
        {
         "alignmentgroup": "True",
         "bingroup": "x",
         "hoverlabel": {
          "namelength": 0
         },
         "hovertemplate": "Cluster=Cluster 3<br>confirmed_cases=%{x}<br>count=%{y}",
         "legendgroup": "Cluster=Cluster 3",
         "marker": {
          "color": "#ab63fa",
          "opacity": 0.7
         },
         "name": "Cluster=Cluster 3",
         "offsetgroup": "Cluster=Cluster 3",
         "orientation": "v",
         "showlegend": true,
         "type": "histogram",
         "x": [
          271628,
          248818,
          232555,
          143427,
          226699
         ],
         "xaxis": "x",
         "yaxis": "y"
        },
        {
         "alignmentgroup": "True",
         "customdata": [
          [
           "Brazil",
           75.15,
           271628,
           17971,
           "Cluster 3"
          ],
          [
           "United Kingdom",
           73.01,
           248818,
           35341,
           "Cluster 3"
          ],
          [
           "Spain",
           83.07,
           232555,
           27888,
           "Cluster 3"
          ],
          [
           "France",
           83.46,
           143427,
           28022,
           "Cluster 3"
          ],
          [
           "Italy",
           68.78,
           226699,
           32169,
           "Cluster 3"
          ]
         ],
         "hoverlabel": {
          "namelength": 0
         },
         "hovertemplate": "Cluster=%{customdata[4]}<br>confirmed_cases=%{customdata[2]}<br>country_name=%{customdata[0]}<br>stringency_index=%{customdata[1]}<br>deaths=%{customdata[3]}",
         "legendgroup": "Cluster=Cluster 3",
         "marker": {
          "color": "#ab63fa"
         },
         "name": "Cluster=Cluster 3",
         "notched": true,
         "offsetgroup": "Cluster=Cluster 3",
         "showlegend": false,
         "type": "box",
         "x": [
          271628,
          248818,
          232555,
          143427,
          226699
         ],
         "xaxis": "x2",
         "yaxis": "y2"
        }
       ],
       "layout": {
        "barmode": "relative",
        "legend": {
         "tracegroupgap": 0
        },
        "margin": {
         "t": 60
        },
        "template": {
         "data": {
          "bar": [
           {
            "error_x": {
             "color": "#2a3f5f"
            },
            "error_y": {
             "color": "#2a3f5f"
            },
            "marker": {
             "line": {
              "color": "#E5ECF6",
              "width": 0.5
             }
            },
            "type": "bar"
           }
          ],
          "barpolar": [
           {
            "marker": {
             "line": {
              "color": "#E5ECF6",
              "width": 0.5
             }
            },
            "type": "barpolar"
           }
          ],
          "carpet": [
           {
            "aaxis": {
             "endlinecolor": "#2a3f5f",
             "gridcolor": "white",
             "linecolor": "white",
             "minorgridcolor": "white",
             "startlinecolor": "#2a3f5f"
            },
            "baxis": {
             "endlinecolor": "#2a3f5f",
             "gridcolor": "white",
             "linecolor": "white",
             "minorgridcolor": "white",
             "startlinecolor": "#2a3f5f"
            },
            "type": "carpet"
           }
          ],
          "choropleth": [
           {
            "colorbar": {
             "outlinewidth": 0,
             "ticks": ""
            },
            "type": "choropleth"
           }
          ],
          "contour": [
           {
            "colorbar": {
             "outlinewidth": 0,
             "ticks": ""
            },
            "colorscale": [
             [
              0,
              "#0d0887"
             ],
             [
              0.1111111111111111,
              "#46039f"
             ],
             [
              0.2222222222222222,
              "#7201a8"
             ],
             [
              0.3333333333333333,
              "#9c179e"
             ],
             [
              0.4444444444444444,
              "#bd3786"
             ],
             [
              0.5555555555555556,
              "#d8576b"
             ],
             [
              0.6666666666666666,
              "#ed7953"
             ],
             [
              0.7777777777777778,
              "#fb9f3a"
             ],
             [
              0.8888888888888888,
              "#fdca26"
             ],
             [
              1,
              "#f0f921"
             ]
            ],
            "type": "contour"
           }
          ],
          "contourcarpet": [
           {
            "colorbar": {
             "outlinewidth": 0,
             "ticks": ""
            },
            "type": "contourcarpet"
           }
          ],
          "heatmap": [
           {
            "colorbar": {
             "outlinewidth": 0,
             "ticks": ""
            },
            "colorscale": [
             [
              0,
              "#0d0887"
             ],
             [
              0.1111111111111111,
              "#46039f"
             ],
             [
              0.2222222222222222,
              "#7201a8"
             ],
             [
              0.3333333333333333,
              "#9c179e"
             ],
             [
              0.4444444444444444,
              "#bd3786"
             ],
             [
              0.5555555555555556,
              "#d8576b"
             ],
             [
              0.6666666666666666,
              "#ed7953"
             ],
             [
              0.7777777777777778,
              "#fb9f3a"
             ],
             [
              0.8888888888888888,
              "#fdca26"
             ],
             [
              1,
              "#f0f921"
             ]
            ],
            "type": "heatmap"
           }
          ],
          "heatmapgl": [
           {
            "colorbar": {
             "outlinewidth": 0,
             "ticks": ""
            },
            "colorscale": [
             [
              0,
              "#0d0887"
             ],
             [
              0.1111111111111111,
              "#46039f"
             ],
             [
              0.2222222222222222,
              "#7201a8"
             ],
             [
              0.3333333333333333,
              "#9c179e"
             ],
             [
              0.4444444444444444,
              "#bd3786"
             ],
             [
              0.5555555555555556,
              "#d8576b"
             ],
             [
              0.6666666666666666,
              "#ed7953"
             ],
             [
              0.7777777777777778,
              "#fb9f3a"
             ],
             [
              0.8888888888888888,
              "#fdca26"
             ],
             [
              1,
              "#f0f921"
             ]
            ],
            "type": "heatmapgl"
           }
          ],
          "histogram": [
           {
            "marker": {
             "colorbar": {
              "outlinewidth": 0,
              "ticks": ""
             }
            },
            "type": "histogram"
           }
          ],
          "histogram2d": [
           {
            "colorbar": {
             "outlinewidth": 0,
             "ticks": ""
            },
            "colorscale": [
             [
              0,
              "#0d0887"
             ],
             [
              0.1111111111111111,
              "#46039f"
             ],
             [
              0.2222222222222222,
              "#7201a8"
             ],
             [
              0.3333333333333333,
              "#9c179e"
             ],
             [
              0.4444444444444444,
              "#bd3786"
             ],
             [
              0.5555555555555556,
              "#d8576b"
             ],
             [
              0.6666666666666666,
              "#ed7953"
             ],
             [
              0.7777777777777778,
              "#fb9f3a"
             ],
             [
              0.8888888888888888,
              "#fdca26"
             ],
             [
              1,
              "#f0f921"
             ]
            ],
            "type": "histogram2d"
           }
          ],
          "histogram2dcontour": [
           {
            "colorbar": {
             "outlinewidth": 0,
             "ticks": ""
            },
            "colorscale": [
             [
              0,
              "#0d0887"
             ],
             [
              0.1111111111111111,
              "#46039f"
             ],
             [
              0.2222222222222222,
              "#7201a8"
             ],
             [
              0.3333333333333333,
              "#9c179e"
             ],
             [
              0.4444444444444444,
              "#bd3786"
             ],
             [
              0.5555555555555556,
              "#d8576b"
             ],
             [
              0.6666666666666666,
              "#ed7953"
             ],
             [
              0.7777777777777778,
              "#fb9f3a"
             ],
             [
              0.8888888888888888,
              "#fdca26"
             ],
             [
              1,
              "#f0f921"
             ]
            ],
            "type": "histogram2dcontour"
           }
          ],
          "mesh3d": [
           {
            "colorbar": {
             "outlinewidth": 0,
             "ticks": ""
            },
            "type": "mesh3d"
           }
          ],
          "parcoords": [
           {
            "line": {
             "colorbar": {
              "outlinewidth": 0,
              "ticks": ""
             }
            },
            "type": "parcoords"
           }
          ],
          "pie": [
           {
            "automargin": true,
            "type": "pie"
           }
          ],
          "scatter": [
           {
            "marker": {
             "colorbar": {
              "outlinewidth": 0,
              "ticks": ""
             }
            },
            "type": "scatter"
           }
          ],
          "scatter3d": [
           {
            "line": {
             "colorbar": {
              "outlinewidth": 0,
              "ticks": ""
             }
            },
            "marker": {
             "colorbar": {
              "outlinewidth": 0,
              "ticks": ""
             }
            },
            "type": "scatter3d"
           }
          ],
          "scattercarpet": [
           {
            "marker": {
             "colorbar": {
              "outlinewidth": 0,
              "ticks": ""
             }
            },
            "type": "scattercarpet"
           }
          ],
          "scattergeo": [
           {
            "marker": {
             "colorbar": {
              "outlinewidth": 0,
              "ticks": ""
             }
            },
            "type": "scattergeo"
           }
          ],
          "scattergl": [
           {
            "marker": {
             "colorbar": {
              "outlinewidth": 0,
              "ticks": ""
             }
            },
            "type": "scattergl"
           }
          ],
          "scattermapbox": [
           {
            "marker": {
             "colorbar": {
              "outlinewidth": 0,
              "ticks": ""
             }
            },
            "type": "scattermapbox"
           }
          ],
          "scatterpolar": [
           {
            "marker": {
             "colorbar": {
              "outlinewidth": 0,
              "ticks": ""
             }
            },
            "type": "scatterpolar"
           }
          ],
          "scatterpolargl": [
           {
            "marker": {
             "colorbar": {
              "outlinewidth": 0,
              "ticks": ""
             }
            },
            "type": "scatterpolargl"
           }
          ],
          "scatterternary": [
           {
            "marker": {
             "colorbar": {
              "outlinewidth": 0,
              "ticks": ""
             }
            },
            "type": "scatterternary"
           }
          ],
          "surface": [
           {
            "colorbar": {
             "outlinewidth": 0,
             "ticks": ""
            },
            "colorscale": [
             [
              0,
              "#0d0887"
             ],
             [
              0.1111111111111111,
              "#46039f"
             ],
             [
              0.2222222222222222,
              "#7201a8"
             ],
             [
              0.3333333333333333,
              "#9c179e"
             ],
             [
              0.4444444444444444,
              "#bd3786"
             ],
             [
              0.5555555555555556,
              "#d8576b"
             ],
             [
              0.6666666666666666,
              "#ed7953"
             ],
             [
              0.7777777777777778,
              "#fb9f3a"
             ],
             [
              0.8888888888888888,
              "#fdca26"
             ],
             [
              1,
              "#f0f921"
             ]
            ],
            "type": "surface"
           }
          ],
          "table": [
           {
            "cells": {
             "fill": {
              "color": "#EBF0F8"
             },
             "line": {
              "color": "white"
             }
            },
            "header": {
             "fill": {
              "color": "#C8D4E3"
             },
             "line": {
              "color": "white"
             }
            },
            "type": "table"
           }
          ]
         },
         "layout": {
          "annotationdefaults": {
           "arrowcolor": "#2a3f5f",
           "arrowhead": 0,
           "arrowwidth": 1
          },
          "coloraxis": {
           "colorbar": {
            "outlinewidth": 0,
            "ticks": ""
           }
          },
          "colorscale": {
           "diverging": [
            [
             0,
             "#8e0152"
            ],
            [
             0.1,
             "#c51b7d"
            ],
            [
             0.2,
             "#de77ae"
            ],
            [
             0.3,
             "#f1b6da"
            ],
            [
             0.4,
             "#fde0ef"
            ],
            [
             0.5,
             "#f7f7f7"
            ],
            [
             0.6,
             "#e6f5d0"
            ],
            [
             0.7,
             "#b8e186"
            ],
            [
             0.8,
             "#7fbc41"
            ],
            [
             0.9,
             "#4d9221"
            ],
            [
             1,
             "#276419"
            ]
           ],
           "sequential": [
            [
             0,
             "#0d0887"
            ],
            [
             0.1111111111111111,
             "#46039f"
            ],
            [
             0.2222222222222222,
             "#7201a8"
            ],
            [
             0.3333333333333333,
             "#9c179e"
            ],
            [
             0.4444444444444444,
             "#bd3786"
            ],
            [
             0.5555555555555556,
             "#d8576b"
            ],
            [
             0.6666666666666666,
             "#ed7953"
            ],
            [
             0.7777777777777778,
             "#fb9f3a"
            ],
            [
             0.8888888888888888,
             "#fdca26"
            ],
            [
             1,
             "#f0f921"
            ]
           ],
           "sequentialminus": [
            [
             0,
             "#0d0887"
            ],
            [
             0.1111111111111111,
             "#46039f"
            ],
            [
             0.2222222222222222,
             "#7201a8"
            ],
            [
             0.3333333333333333,
             "#9c179e"
            ],
            [
             0.4444444444444444,
             "#bd3786"
            ],
            [
             0.5555555555555556,
             "#d8576b"
            ],
            [
             0.6666666666666666,
             "#ed7953"
            ],
            [
             0.7777777777777778,
             "#fb9f3a"
            ],
            [
             0.8888888888888888,
             "#fdca26"
            ],
            [
             1,
             "#f0f921"
            ]
           ]
          },
          "colorway": [
           "#636efa",
           "#EF553B",
           "#00cc96",
           "#ab63fa",
           "#FFA15A",
           "#19d3f3",
           "#FF6692",
           "#B6E880",
           "#FF97FF",
           "#FECB52"
          ],
          "font": {
           "color": "#2a3f5f"
          },
          "geo": {
           "bgcolor": "white",
           "lakecolor": "white",
           "landcolor": "#E5ECF6",
           "showlakes": true,
           "showland": true,
           "subunitcolor": "white"
          },
          "hoverlabel": {
           "align": "left"
          },
          "hovermode": "closest",
          "mapbox": {
           "style": "light"
          },
          "paper_bgcolor": "white",
          "plot_bgcolor": "#E5ECF6",
          "polar": {
           "angularaxis": {
            "gridcolor": "white",
            "linecolor": "white",
            "ticks": ""
           },
           "bgcolor": "#E5ECF6",
           "radialaxis": {
            "gridcolor": "white",
            "linecolor": "white",
            "ticks": ""
           }
          },
          "scene": {
           "xaxis": {
            "backgroundcolor": "#E5ECF6",
            "gridcolor": "white",
            "gridwidth": 2,
            "linecolor": "white",
            "showbackground": true,
            "ticks": "",
            "zerolinecolor": "white"
           },
           "yaxis": {
            "backgroundcolor": "#E5ECF6",
            "gridcolor": "white",
            "gridwidth": 2,
            "linecolor": "white",
            "showbackground": true,
            "ticks": "",
            "zerolinecolor": "white"
           },
           "zaxis": {
            "backgroundcolor": "#E5ECF6",
            "gridcolor": "white",
            "gridwidth": 2,
            "linecolor": "white",
            "showbackground": true,
            "ticks": "",
            "zerolinecolor": "white"
           }
          },
          "shapedefaults": {
           "line": {
            "color": "#2a3f5f"
           }
          },
          "ternary": {
           "aaxis": {
            "gridcolor": "white",
            "linecolor": "white",
            "ticks": ""
           },
           "baxis": {
            "gridcolor": "white",
            "linecolor": "white",
            "ticks": ""
           },
           "bgcolor": "#E5ECF6",
           "caxis": {
            "gridcolor": "white",
            "linecolor": "white",
            "ticks": ""
           }
          },
          "title": {
           "x": 0.05
          },
          "xaxis": {
           "automargin": true,
           "gridcolor": "white",
           "linecolor": "white",
           "ticks": "",
           "title": {
            "standoff": 15
           },
           "zerolinecolor": "white",
           "zerolinewidth": 2
          },
          "yaxis": {
           "automargin": true,
           "gridcolor": "white",
           "linecolor": "white",
           "ticks": "",
           "title": {
            "standoff": 15
           },
           "zerolinecolor": "white",
           "zerolinewidth": 2
          }
         }
        },
        "xaxis": {
         "anchor": "y",
         "domain": [
          0,
          1
         ],
         "title": {
          "text": "confirmed_cases"
         }
        },
        "xaxis2": {
         "anchor": "y2",
         "domain": [
          0,
          1
         ],
         "matches": "x",
         "showgrid": true,
         "showticklabels": false
        },
        "yaxis": {
         "anchor": "x",
         "domain": [
          0,
          0.7326
         ],
         "title": {
          "text": "count"
         }
        },
        "yaxis2": {
         "anchor": "x2",
         "domain": [
          0.7426,
          1
         ],
         "matches": "y2",
         "showgrid": false,
         "showline": false,
         "showticklabels": false,
         "ticks": ""
        }
       }
      },
      "text/html": [
       "<div>\n",
       "        \n",
       "        \n",
       "            <div id=\"69bf4649-b999-459d-92bb-4ecd8cf942e5\" class=\"plotly-graph-div\" style=\"height:525px; width:100%;\"></div>\n",
       "            <script type=\"text/javascript\">\n",
       "                require([\"plotly\"], function(Plotly) {\n",
       "                    window.PLOTLYENV=window.PLOTLYENV || {};\n",
       "                    \n",
       "                if (document.getElementById(\"69bf4649-b999-459d-92bb-4ecd8cf942e5\")) {\n",
       "                    Plotly.newPlot(\n",
       "                        '69bf4649-b999-459d-92bb-4ecd8cf942e5',\n",
       "                        [{\"alignmentgroup\": \"True\", \"bingroup\": \"x\", \"hoverlabel\": {\"namelength\": 0}, \"hovertemplate\": \"Cluster=Cluster 0<br>confirmed_cases=%{x}<br>count=%{y}\", \"legendgroup\": \"Cluster=Cluster 0\", \"marker\": {\"color\": \"#636efa\", \"opacity\": 0.7}, \"name\": \"Cluster=Cluster 0\", \"offsetgroup\": \"Cluster=Cluster 0\", \"orientation\": \"v\", \"showlegend\": true, \"type\": \"histogram\", \"x\": [124603.0, 19.0, 1791.0, 6399.0, 0.0, 1802.0, 6096.0, 2232.0, 8.0, 1055.0, 1153.0, 11110.0, 3598.0, 141.0, 25.0, 914.0, 130.0, 712.0, 16257.0, 3958.0, 7068.0, 326.0, 71.0, 761.0, 1502.0, 2617.0, 45.0, 11.0, 2292.0, 167.0, 1467.0, 509.0, 42.0, 772.0, 806.0, 440.0, 31508.0, 8647.0, 16385.0, 30799.0, 146.0, 8257.0, 79101.0, 10733.0, 3529.0, 140.0, 84065.0], \"xaxis\": \"x\", \"yaxis\": \"y\"}, {\"alignmentgroup\": \"True\", \"customdata\": [[\"Iran\", 47.23, 124603.0, 7119.0, \"Cluster 0\"], [\"Laos\", 56.22, 19.0, 0.0, \"Cluster 0\"], [\"Estonia\", 41.54, 1791.0, 64.0, \"Cluster 0\"], [\"Finland\", 65.74, 6399.0, 301.0, \"Cluster 0\"], [\"Solomon Islands\", 50.41, 0.0, 0.0, \"Cluster 0\"], [\"Iceland\", 56.61, 1802.0, 10.0, \"Cluster 0\"], [\"Ghana\", 66.53, 6096.0, 31.0, \"Cluster 0\"], [\"Croatia\", 66.53, 2232.0, 96.0, \"Cluster 0\"], [\"Papua New Guinea\", 43.66, 8.0, 0.0, \"Cluster 0\"], [\"Hong Kong\", 67.85, 1055.0, 4.0, \"Cluster 0\"], [\"New Zealand\", 38.49, 1153.0, 21.0, \"Cluster 0\"], [\"South Korea\", 43.51, 11110.0, 263.0, \"Cluster 0\"], [\"Hungary\", 59.53, 3598.0, 470.0, \"Cluster 0\"], [\"Brunei\", 56.74, 141.0, 1.0, \"Cluster 0\"], [\"Nicaragua\", 11.11, 25.0, 8.0, \"Cluster 0\"], [\"Niger\", 33.33, 914.0, 55.0, \"Cluster 0\"], [\"Benin\", 48.15, 130.0, 2.0, \"Cluster 0\"], [\"Namibia\", 61.24, 712.0, 7.0, \"Cluster 0\"], [\"Austria\", 56.34, 16257.0, 632.0, \"Cluster 0\"], [\"Luxembourg\", 65.73, 3958.0, 109.0, \"Cluster 0\"], [\"Australia\", 66.14, 7068.0, 99.0, \"Cluster 0\"], [\"Madagascar\", 64.43, 326.0, 2.0, \"Cluster 0\"], [\"Malawi\", 59.26, 71.0, 3.0, \"Cluster 0\"], [\"Andorra\", 56.34, 761.0, 51.0, \"Cluster 0\"], [\"Somalia\", 59.39, 1502.0, 59.0, \"Cluster 0\"], [\"Senegal\", 62.7, 2617.0, 30.0, \"Cluster 0\"], [\"Macao\", 39.02, 45.0, 0.0, \"Cluster 0\"], [\"Seychelles\", 65.87, 11.0, 0.0, \"Cluster 0\"], [\"Bulgaria\", 63.89, 2292.0, 116.0, \"Cluster 0\"], [\"Yemen\", 54.23, 167.0, 28.0, \"Cluster 0\"], [\"Slovenia\", 61.25, 1467.0, 104.0, \"Cluster 0\"], [\"Tanzania\", 50.4, 509.0, 21.0, \"Cluster 0\"], [\"Burundi\", 22.22, 42.0, 1.0, \"Cluster 0\"], [\"Zambia\", 45.37, 772.0, 7.0, \"Cluster 0\"], [\"Burkina Faso\", 62.04, 806.0, 52.0, \"Cluster 0\"], [\"Taiwan\", 29.36, 440.0, 7.0, \"Cluster 0\"], [\"Belarus\", 15.47, 31508.0, 175.0, \"Cluster 0\"], [\"Czech Republic\", 59.65, 8647.0, 302.0, \"Cluster 0\"], [\"Japan\", 43.79, 16385.0, 771.0, \"Cluster 0\"], [\"Sweden\", 47.35, 30799.0, 3743.0, \"Cluster 0\"], [\"Mozambique\", 53.83, 146.0, 0.0, \"Cluster 0\"], [\"Norway\", 58.07, 8257.0, 233.0, \"Cluster 0\"], [\"Canada\", 67.74, 79101.0, 5912.0, \"Cluster 0\"], [\"Serbia\", 56.87, 10733.0, 234.0, \"Cluster 0\"], [\"Cameroon\", 67.85, 3529.0, 140.0, \"Cluster 0\"], [\"Mongolia\", 67.99, 140.0, 0.0, \"Cluster 0\"], [\"China\", 64.44, 84065.0, 4638.0, \"Cluster 0\"]], \"hoverlabel\": {\"namelength\": 0}, \"hovertemplate\": \"Cluster=%{customdata[4]}<br>confirmed_cases=%{customdata[2]}<br>country_name=%{customdata[0]}<br>stringency_index=%{customdata[1]}<br>deaths=%{customdata[3]}\", \"legendgroup\": \"Cluster=Cluster 0\", \"marker\": {\"color\": \"#636efa\"}, \"name\": \"Cluster=Cluster 0\", \"notched\": true, \"offsetgroup\": \"Cluster=Cluster 0\", \"showlegend\": false, \"type\": \"box\", \"x\": [124603.0, 19.0, 1791.0, 6399.0, 0.0, 1802.0, 6096.0, 2232.0, 8.0, 1055.0, 1153.0, 11110.0, 3598.0, 141.0, 25.0, 914.0, 130.0, 712.0, 16257.0, 3958.0, 7068.0, 326.0, 71.0, 761.0, 1502.0, 2617.0, 45.0, 11.0, 2292.0, 167.0, 1467.0, 509.0, 42.0, 772.0, 806.0, 440.0, 31508.0, 8647.0, 16385.0, 30799.0, 146.0, 8257.0, 79101.0, 10733.0, 3529.0, 140.0, 84065.0], \"xaxis\": \"x2\", \"yaxis\": \"y2\"}, {\"alignmentgroup\": \"True\", \"bingroup\": \"x\", \"hoverlabel\": {\"namelength\": 0}, \"hovertemplate\": \"Cluster=Cluster 1<br>confirmed_cases=%{x}<br>count=%{y}\", \"legendgroup\": \"Cluster=Cluster 1\", \"marker\": {\"color\": \"#EF553B\", \"opacity\": 0.7}, \"name\": \"Cluster=Cluster 1\", \"offsetgroup\": \"Cluster=Cluster 1\", \"orientation\": \"v\", \"showlegend\": true, \"type\": \"histogram\", \"x\": [2805.0, 299941.0, 17200.0, 125.0, 11044.0, 101.0, 882.0, 46.0, 16935.0, 534.0, 335.0, 649.0, 21.0, 193.0, 7653.0, 58.0, 655.0, 2591.0, 570.0, 829.0, 29432.0, 19268.0, 9867.0, 45898.0, 6978.0, 332.0, 7023.0, 1027.0, 68.0, 11.0, 233.0, 963.0, 6969.0, 106750.0, 154.0, 365.0, 34151.0, 16.0, 1887.0, 324.0, 420.0, 411.0, 4481.0, 7532.0, 3518.0, 954.0, 749.0, 1495.0, 738.0, 24251.0, 18496.0, 2955.0, 2133.0, 11.0, 2840.0, 24.0, 707.0, 1502.0, 13484.0, 7377.0, 13223.0, 1518.0, 176007.0, 2880.0, 918.0, 2153.0, 49579.0, 30535.0, 25.0, 90.0, 125.0, 18.0, 2319.0, 25121.0, 55791.0, 8796.0, 25063.0, 949.0, 50.0, 1731.0, 16650.0, 3611.0, 520.0, 18876.0, 260.0, 151615.0, 1044.0, 116.0, 3034.0, 545.0, 208.0, 285.0, 1498.0, 28794.0, 59854.0, 308.0, 17191.0, 12942.0, 35606.0, 901.0, 1270.0, 16764.0, 1.0, 6340.0, 54346.0, 99483.0, 989.0, 81.0, 6401.0, 44249.0, 402.0, 5671.0], \"xaxis\": \"x\", \"yaxis\": \"y\"}, {\"alignmentgroup\": \"True\", \"customdata\": [[\"Puerto Rico\", 97.35, 2805.0, 124.0, \"Cluster 1\"], [\"Russia\", 71.71, 299941.0, 2837.0, \"Cluster 1\"], [\"South Africa\", 88.75, 17200.0, 312.0, \"Cluster 1\"], [\"Guyana\", 82.27, 125.0, 10.0, \"Cluster 1\"], [\"Denmark\", 75.52, 11044.0, 551.0, \"Cluster 1\"], [\"Aruba\", 80.82, 101.0, 3.0, \"Cluster 1\"], [\"Costa Rica\", 74.99, 882.0, 10.0, \"Cluster 1\"], [\"Zimbabwe\", 91.4, 46.0, 4.0, \"Cluster 1\"], [\"Colombia\", 90.74, 16935.0, 613.0, \"Cluster 1\"], [\"Sierra Leone\", 77.64, 534.0, 33.0, \"Cluster 1\"], [\"Cape Verde\", 82.41, 335.0, 3.0, \"Cluster 1\"], [\"Jordan\", 72.48, 649.0, 9.0, \"Cluster 1\"], [\"Bhutan\", 78.3, 21.0, 0.0, \"Cluster 1\"], [\"Myanmar\", 79.24, 193.0, 6.0, \"Cluster 1\"], [\"Afghanistan\", 76.33, 7653.0, 178.0, \"Cluster 1\"], [\"Syria\", 80.43, 58.0, 3.0, \"Cluster 1\"], [\"San Marino\", 71.42, 655.0, 41.0, \"Cluster 1\"], [\"Sudan\", 86.38, 2591.0, 105.0, \"Cluster 1\"], [\"Palestine\", 97.35, 570.0, 4.0, \"Cluster 1\"], [\"Paraguay\", 96.03, 829.0, 11.0, \"Cluster 1\"], [\"Portugal\", 76.71, 29432.0, 1247.0, \"Cluster 1\"], [\"Poland\", 88.09, 19268.0, 948.0, \"Cluster 1\"], [\"Panama\", 81.61, 9867.0, 281.0, \"Cluster 1\"], [\"Pakistan\", 82.02, 45898.0, 985.0, \"Cluster 1\"], [\"Malaysia\", 74.2, 6978.0, 114.0, \"Cluster 1\"], [\"Mauritius\", 84.78, 332.0, 10.0, \"Cluster 1\"], [\"Morocco\", 93.38, 7023.0, 193.0, \"Cluster 1\"], [\"Sri Lanka\", 82.27, 1027.0, 9.0, \"Cluster 1\"], [\"Libya\", 96.83, 68.0, 3.0, \"Cluster 1\"], [\"Suriname\", 77.12, 11.0, 1.0, \"Cluster 1\"], [\"Liberia\", 78.31, 233.0, 23.0, \"Cluster 1\"], [\"Kenya\", 94.18, 963.0, 50.0, \"Cluster 1\"], [\"Kazakhstan\", 79.37, 6969.0, 35.0, \"Cluster 1\"], [\"India\", 76.07, 106750.0, 3303.0, \"Cluster 1\"], [\"Guam\", 69.71, 154.0, 5.0, \"Cluster 1\"], [\"Ethiopia\", 76.19, 365.0, 5.0, \"Cluster 1\"], [\"Ecuador\", 85.85, 34151.0, 2839.0, \"Cluster 1\"], [\"Dominica\", 80.95, 16.0, 0.0, \"Cluster 1\"], [\"Cuba\", 100.0, 1887.0, 79.0, \"Cluster 1\"], [\"Vietnam\", 69.18, 324.0, 0.0, \"Cluster 1\"], [\"Congo\", 98.02, 420.0, 15.0, \"Cluster 1\"], [\"Central African Republic\", 69.97, 411.0, 0.0, \"Cluster 1\"], [\"Bolivia\", 97.35, 4481.0, 189.0, \"Cluster 1\"], [\"Bahrain\", 86.77, 7532.0, 12.0, \"Cluster 1\"], [\"Azerbaijan\", 86.24, 3518.0, 41.0, \"Cluster 1\"], [\"Lebanon\", 84.12, 954.0, 26.0, \"Cluster 1\"], [\"Venezuela\", 86.24, 749.0, 10.0, \"Cluster 1\"], [\"Slovak Republic\", 78.96, 1495.0, 28.0, \"Cluster 1\"], [\"Uruguay\", 71.16, 738.0, 20.0, \"Cluster 1\"], [\"Ireland\", 87.83, 24251.0, 1561.0, \"Cluster 1\"], [\"Indonesia\", 70.91, 18496.0, 1221.0, \"Cluster 1\"], [\"Honduras\", 100.0, 2955.0, 147.0, \"Cluster 1\"], [\"Guatemala\", 97.35, 2133.0, 43.0, \"Cluster 1\"], [\"Greenland\", 80.95, 11.0, 0.0, \"Cluster 1\"], [\"Greece\", 74.34, 2840.0, 165.0, \"Cluster 1\"], [\"Gambia\", 84.78, 24.0, 1.0, \"Cluster 1\"], [\"Georgia\", 94.18, 707.0, 12.0, \"Cluster 1\"], [\"Gabon\", 86.24, 1502.0, 12.0, \"Cluster 1\"], [\"Egypt\", 88.75, 13484.0, 659.0, \"Cluster 1\"], [\"Algeria\", 82.42, 7377.0, 561.0, \"Cluster 1\"], [\"Dominican Republic\", 98.02, 13223.0, 441.0, \"Cluster 1\"], [\"Djibouti\", 100.0, 1518.0, 7.0, \"Cluster 1\"], [\"Germany\", 71.44, 176007.0, 8090.0, \"Cluster 1\"], [\"Uzbekistan\", 85.19, 2880.0, 13.0, \"Cluster 1\"], [\"Cyprus\", 94.18, 918.0, 17.0, \"Cluster 1\"], [\"Cote d'Ivoire\", 70.25, 2153.0, 28.0, \"Cluster 1\"], [\"Chile\", 78.83, 49579.0, 509.0, \"Cluster 1\"], [\"Switzerland\", 71.55, 30535.0, 1613.0, \"Cluster 1\"], [\"Botswana\", 78.05, 25.0, 1.0, \"Cluster 1\"], [\"Barbados\", 71.42, 90.0, 7.0, \"Cluster 1\"], [\"Bermuda\", 80.15, 125.0, 9.0, \"Cluster 1\"], [\"Belize\", 87.04, 18.0, 2.0, \"Cluster 1\"], [\"Bosnia and Herzegovina\", 81.22, 2319.0, 133.0, \"Cluster 1\"], [\"Bangladesh\", 91.93, 25121.0, 370.0, \"Cluster 1\"], [\"Belgium\", 75.26, 55791.0, 9108.0, \"Cluster 1\"], [\"Argentina\", 91.54, 8796.0, 393.0, \"Cluster 1\"], [\"United Arab Emirates\", 77.78, 25063.0, 227.0, \"Cluster 1\"], [\"Albania\", 88.36, 949.0, 31.0, \"Cluster 1\"], [\"Angola\", 81.61, 50.0, 2.0, \"Cluster 1\"], [\"Democratic Republic of Congo\", 80.04, 1731.0, 61.0, \"Cluster 1\"], [\"Israel\", 82.93, 16650.0, 277.0, \"Cluster 1\"], [\"Iraq\", 80.42, 3611.0, 131.0, \"Cluster 1\"], [\"Jamaica\", 74.2, 520.0, 9.0, \"Cluster 1\"], [\"Ukraine\", 92.06, 18876.0, 548.0, \"Cluster 1\"], [\"Uganda\", 89.94, 260.0, 0.0, \"Cluster 1\"], [\"Turkey\", 80.42, 151615.0, 4199.0, \"Cluster 1\"], [\"Tunisia\", 87.96, 1044.0, 47.0, \"Cluster 1\"], [\"Trinidad and Tobago\", 93.38, 116.0, 8.0, \"Cluster 1\"], [\"Thailand\", 80.56, 3034.0, 56.0, \"Cluster 1\"], [\"Chad\", 86.38, 545.0, 56.0, \"Cluster 1\"], [\"Eswatini\", 84.26, 208.0, 2.0, \"Cluster 1\"], [\"South Sudan\", 94.71, 285.0, 6.0, \"Cluster 1\"], [\"El Salvador\", 100.0, 1498.0, 31.0, \"Cluster 1\"], [\"Singapore\", 85.18, 28794.0, 22.0, \"Cluster 1\"], [\"Saudi Arabia\", 87.84, 59854.0, 329.0, \"Cluster 1\"], [\"Rwanda\", 73.81, 308.0, 0.0, \"Cluster 1\"], [\"Romania\", 76.98, 17191.0, 1126.0, \"Cluster 1\"], [\"Philippines\", 94.58, 12942.0, 837.0, \"Cluster 1\"], [\"Qatar\", 90.74, 35606.0, 15.0, \"Cluster 1\"], [\"Mali\", 76.19, 901.0, 53.0, \"Cluster 1\"], [\"Kyrgyz Republic\", 78.85, 1270.0, 14.0, \"Cluster 1\"], [\"Kuwait\", 100.0, 16764.0, 121.0, \"Cluster 1\"], [\"Lesotho\", 72.87, 1.0, 0.0, \"Cluster 1\"], [\"Moldova\", 84.92, 6340.0, 221.0, \"Cluster 1\"], [\"Mexico\", 85.45, 54346.0, 5666.0, \"Cluster 1\"], [\"Peru\", 97.35, 99483.0, 2914.0, \"Cluster 1\"], [\"Kosovo\", 90.74, 989.0, 29.0, \"Cluster 1\"], [\"Mauritania\", 80.95, 81.0, 4.0, \"Cluster 1\"], [\"Nigeria\", 76.59, 6401.0, 192.0, \"Cluster 1\"], [\"Netherlands\", 76.71, 44249.0, 5715.0, \"Cluster 1\"], [\"Nepal\", 95.24, 402.0, 2.0, \"Cluster 1\"], [\"Oman\", 85.19, 5671.0, 27.0, \"Cluster 1\"]], \"hoverlabel\": {\"namelength\": 0}, \"hovertemplate\": \"Cluster=%{customdata[4]}<br>confirmed_cases=%{customdata[2]}<br>country_name=%{customdata[0]}<br>stringency_index=%{customdata[1]}<br>deaths=%{customdata[3]}\", \"legendgroup\": \"Cluster=Cluster 1\", \"marker\": {\"color\": \"#EF553B\"}, \"name\": \"Cluster=Cluster 1\", \"notched\": true, \"offsetgroup\": \"Cluster=Cluster 1\", \"showlegend\": false, \"type\": \"box\", \"x\": [2805.0, 299941.0, 17200.0, 125.0, 11044.0, 101.0, 882.0, 46.0, 16935.0, 534.0, 335.0, 649.0, 21.0, 193.0, 7653.0, 58.0, 655.0, 2591.0, 570.0, 829.0, 29432.0, 19268.0, 9867.0, 45898.0, 6978.0, 332.0, 7023.0, 1027.0, 68.0, 11.0, 233.0, 963.0, 6969.0, 106750.0, 154.0, 365.0, 34151.0, 16.0, 1887.0, 324.0, 420.0, 411.0, 4481.0, 7532.0, 3518.0, 954.0, 749.0, 1495.0, 738.0, 24251.0, 18496.0, 2955.0, 2133.0, 11.0, 2840.0, 24.0, 707.0, 1502.0, 13484.0, 7377.0, 13223.0, 1518.0, 176007.0, 2880.0, 918.0, 2153.0, 49579.0, 30535.0, 25.0, 90.0, 125.0, 18.0, 2319.0, 25121.0, 55791.0, 8796.0, 25063.0, 949.0, 50.0, 1731.0, 16650.0, 3611.0, 520.0, 18876.0, 260.0, 151615.0, 1044.0, 116.0, 3034.0, 545.0, 208.0, 285.0, 1498.0, 28794.0, 59854.0, 308.0, 17191.0, 12942.0, 35606.0, 901.0, 1270.0, 16764.0, 1.0, 6340.0, 54346.0, 99483.0, 989.0, 81.0, 6401.0, 44249.0, 402.0, 5671.0], \"xaxis\": \"x2\", \"yaxis\": \"y2\"}, {\"alignmentgroup\": \"True\", \"bingroup\": \"x\", \"hoverlabel\": {\"namelength\": 0}, \"hovertemplate\": \"Cluster=Cluster 2<br>confirmed_cases=%{x}<br>count=%{y}\", \"legendgroup\": \"Cluster=Cluster 2\", \"marker\": {\"color\": \"#00cc96\", \"opacity\": 0.7}, \"name\": \"Cluster=Cluster 2\", \"offsetgroup\": \"Cluster=Cluster 2\", \"orientation\": \"v\", \"showlegend\": true, \"type\": \"histogram\", \"x\": [1528568.0], \"xaxis\": \"x\", \"yaxis\": \"y\"}, {\"alignmentgroup\": \"True\", \"customdata\": [[\"United States\", 68.41, 1528568.0, 91921.0, \"Cluster 2\"]], \"hoverlabel\": {\"namelength\": 0}, \"hovertemplate\": \"Cluster=%{customdata[4]}<br>confirmed_cases=%{customdata[2]}<br>country_name=%{customdata[0]}<br>stringency_index=%{customdata[1]}<br>deaths=%{customdata[3]}\", \"legendgroup\": \"Cluster=Cluster 2\", \"marker\": {\"color\": \"#00cc96\"}, \"name\": \"Cluster=Cluster 2\", \"notched\": true, \"offsetgroup\": \"Cluster=Cluster 2\", \"showlegend\": false, \"type\": \"box\", \"x\": [1528568.0], \"xaxis\": \"x2\", \"yaxis\": \"y2\"}, {\"alignmentgroup\": \"True\", \"bingroup\": \"x\", \"hoverlabel\": {\"namelength\": 0}, \"hovertemplate\": \"Cluster=Cluster 3<br>confirmed_cases=%{x}<br>count=%{y}\", \"legendgroup\": \"Cluster=Cluster 3\", \"marker\": {\"color\": \"#ab63fa\", \"opacity\": 0.7}, \"name\": \"Cluster=Cluster 3\", \"offsetgroup\": \"Cluster=Cluster 3\", \"orientation\": \"v\", \"showlegend\": true, \"type\": \"histogram\", \"x\": [271628.0, 248818.0, 232555.0, 143427.0, 226699.0], \"xaxis\": \"x\", \"yaxis\": \"y\"}, {\"alignmentgroup\": \"True\", \"customdata\": [[\"Brazil\", 75.15, 271628.0, 17971.0, \"Cluster 3\"], [\"United Kingdom\", 73.01, 248818.0, 35341.0, \"Cluster 3\"], [\"Spain\", 83.07, 232555.0, 27888.0, \"Cluster 3\"], [\"France\", 83.46, 143427.0, 28022.0, \"Cluster 3\"], [\"Italy\", 68.78, 226699.0, 32169.0, \"Cluster 3\"]], \"hoverlabel\": {\"namelength\": 0}, \"hovertemplate\": \"Cluster=%{customdata[4]}<br>confirmed_cases=%{customdata[2]}<br>country_name=%{customdata[0]}<br>stringency_index=%{customdata[1]}<br>deaths=%{customdata[3]}\", \"legendgroup\": \"Cluster=Cluster 3\", \"marker\": {\"color\": \"#ab63fa\"}, \"name\": \"Cluster=Cluster 3\", \"notched\": true, \"offsetgroup\": \"Cluster=Cluster 3\", \"showlegend\": false, \"type\": \"box\", \"x\": [271628.0, 248818.0, 232555.0, 143427.0, 226699.0], \"xaxis\": \"x2\", \"yaxis\": \"y2\"}],\n",
       "                        {\"barmode\": \"relative\", \"legend\": {\"tracegroupgap\": 0}, \"margin\": {\"t\": 60}, \"template\": {\"data\": {\"bar\": [{\"error_x\": {\"color\": \"#2a3f5f\"}, \"error_y\": {\"color\": \"#2a3f5f\"}, \"marker\": {\"line\": {\"color\": \"#E5ECF6\", \"width\": 0.5}}, \"type\": \"bar\"}], \"barpolar\": [{\"marker\": {\"line\": {\"color\": \"#E5ECF6\", \"width\": 0.5}}, \"type\": \"barpolar\"}], \"carpet\": [{\"aaxis\": {\"endlinecolor\": \"#2a3f5f\", \"gridcolor\": \"white\", \"linecolor\": \"white\", \"minorgridcolor\": \"white\", \"startlinecolor\": \"#2a3f5f\"}, \"baxis\": {\"endlinecolor\": \"#2a3f5f\", \"gridcolor\": \"white\", \"linecolor\": \"white\", \"minorgridcolor\": \"white\", \"startlinecolor\": \"#2a3f5f\"}, \"type\": \"carpet\"}], \"choropleth\": [{\"colorbar\": {\"outlinewidth\": 0, \"ticks\": \"\"}, \"type\": \"choropleth\"}], \"contour\": [{\"colorbar\": {\"outlinewidth\": 0, \"ticks\": \"\"}, \"colorscale\": [[0.0, \"#0d0887\"], [0.1111111111111111, \"#46039f\"], [0.2222222222222222, \"#7201a8\"], [0.3333333333333333, \"#9c179e\"], [0.4444444444444444, \"#bd3786\"], [0.5555555555555556, \"#d8576b\"], [0.6666666666666666, \"#ed7953\"], [0.7777777777777778, \"#fb9f3a\"], [0.8888888888888888, \"#fdca26\"], [1.0, \"#f0f921\"]], \"type\": \"contour\"}], \"contourcarpet\": [{\"colorbar\": {\"outlinewidth\": 0, \"ticks\": \"\"}, \"type\": \"contourcarpet\"}], \"heatmap\": [{\"colorbar\": {\"outlinewidth\": 0, \"ticks\": \"\"}, \"colorscale\": [[0.0, \"#0d0887\"], [0.1111111111111111, \"#46039f\"], [0.2222222222222222, \"#7201a8\"], [0.3333333333333333, \"#9c179e\"], [0.4444444444444444, \"#bd3786\"], [0.5555555555555556, \"#d8576b\"], [0.6666666666666666, \"#ed7953\"], [0.7777777777777778, \"#fb9f3a\"], [0.8888888888888888, \"#fdca26\"], [1.0, \"#f0f921\"]], \"type\": \"heatmap\"}], \"heatmapgl\": [{\"colorbar\": {\"outlinewidth\": 0, \"ticks\": \"\"}, \"colorscale\": [[0.0, \"#0d0887\"], [0.1111111111111111, \"#46039f\"], [0.2222222222222222, \"#7201a8\"], [0.3333333333333333, \"#9c179e\"], [0.4444444444444444, \"#bd3786\"], [0.5555555555555556, \"#d8576b\"], [0.6666666666666666, \"#ed7953\"], [0.7777777777777778, \"#fb9f3a\"], [0.8888888888888888, \"#fdca26\"], [1.0, \"#f0f921\"]], \"type\": \"heatmapgl\"}], \"histogram\": [{\"marker\": {\"colorbar\": {\"outlinewidth\": 0, \"ticks\": \"\"}}, \"type\": \"histogram\"}], \"histogram2d\": [{\"colorbar\": {\"outlinewidth\": 0, \"ticks\": \"\"}, \"colorscale\": [[0.0, \"#0d0887\"], [0.1111111111111111, \"#46039f\"], [0.2222222222222222, \"#7201a8\"], [0.3333333333333333, \"#9c179e\"], [0.4444444444444444, \"#bd3786\"], [0.5555555555555556, \"#d8576b\"], [0.6666666666666666, \"#ed7953\"], [0.7777777777777778, \"#fb9f3a\"], [0.8888888888888888, \"#fdca26\"], [1.0, \"#f0f921\"]], \"type\": \"histogram2d\"}], \"histogram2dcontour\": [{\"colorbar\": {\"outlinewidth\": 0, \"ticks\": \"\"}, \"colorscale\": [[0.0, \"#0d0887\"], [0.1111111111111111, \"#46039f\"], [0.2222222222222222, \"#7201a8\"], [0.3333333333333333, \"#9c179e\"], [0.4444444444444444, \"#bd3786\"], [0.5555555555555556, \"#d8576b\"], [0.6666666666666666, \"#ed7953\"], [0.7777777777777778, \"#fb9f3a\"], [0.8888888888888888, \"#fdca26\"], [1.0, \"#f0f921\"]], \"type\": \"histogram2dcontour\"}], \"mesh3d\": [{\"colorbar\": {\"outlinewidth\": 0, \"ticks\": \"\"}, \"type\": \"mesh3d\"}], \"parcoords\": [{\"line\": {\"colorbar\": {\"outlinewidth\": 0, \"ticks\": \"\"}}, \"type\": \"parcoords\"}], \"pie\": [{\"automargin\": true, \"type\": \"pie\"}], \"scatter\": [{\"marker\": {\"colorbar\": {\"outlinewidth\": 0, \"ticks\": \"\"}}, \"type\": \"scatter\"}], \"scatter3d\": [{\"line\": {\"colorbar\": {\"outlinewidth\": 0, \"ticks\": \"\"}}, \"marker\": {\"colorbar\": {\"outlinewidth\": 0, \"ticks\": \"\"}}, \"type\": \"scatter3d\"}], \"scattercarpet\": [{\"marker\": {\"colorbar\": {\"outlinewidth\": 0, \"ticks\": \"\"}}, \"type\": \"scattercarpet\"}], \"scattergeo\": [{\"marker\": {\"colorbar\": {\"outlinewidth\": 0, \"ticks\": \"\"}}, \"type\": \"scattergeo\"}], \"scattergl\": [{\"marker\": {\"colorbar\": {\"outlinewidth\": 0, \"ticks\": \"\"}}, \"type\": \"scattergl\"}], \"scattermapbox\": [{\"marker\": {\"colorbar\": {\"outlinewidth\": 0, \"ticks\": \"\"}}, \"type\": \"scattermapbox\"}], \"scatterpolar\": [{\"marker\": {\"colorbar\": {\"outlinewidth\": 0, \"ticks\": \"\"}}, \"type\": \"scatterpolar\"}], \"scatterpolargl\": [{\"marker\": {\"colorbar\": {\"outlinewidth\": 0, \"ticks\": \"\"}}, \"type\": \"scatterpolargl\"}], \"scatterternary\": [{\"marker\": {\"colorbar\": {\"outlinewidth\": 0, \"ticks\": \"\"}}, \"type\": \"scatterternary\"}], \"surface\": [{\"colorbar\": {\"outlinewidth\": 0, \"ticks\": \"\"}, \"colorscale\": [[0.0, \"#0d0887\"], [0.1111111111111111, \"#46039f\"], [0.2222222222222222, \"#7201a8\"], [0.3333333333333333, \"#9c179e\"], [0.4444444444444444, \"#bd3786\"], [0.5555555555555556, \"#d8576b\"], [0.6666666666666666, \"#ed7953\"], [0.7777777777777778, \"#fb9f3a\"], [0.8888888888888888, \"#fdca26\"], [1.0, \"#f0f921\"]], \"type\": \"surface\"}], \"table\": [{\"cells\": {\"fill\": {\"color\": \"#EBF0F8\"}, \"line\": {\"color\": \"white\"}}, \"header\": {\"fill\": {\"color\": \"#C8D4E3\"}, \"line\": {\"color\": \"white\"}}, \"type\": \"table\"}]}, \"layout\": {\"annotationdefaults\": {\"arrowcolor\": \"#2a3f5f\", \"arrowhead\": 0, \"arrowwidth\": 1}, \"coloraxis\": {\"colorbar\": {\"outlinewidth\": 0, \"ticks\": \"\"}}, \"colorscale\": {\"diverging\": [[0, \"#8e0152\"], [0.1, \"#c51b7d\"], [0.2, \"#de77ae\"], [0.3, \"#f1b6da\"], [0.4, \"#fde0ef\"], [0.5, \"#f7f7f7\"], [0.6, \"#e6f5d0\"], [0.7, \"#b8e186\"], [0.8, \"#7fbc41\"], [0.9, \"#4d9221\"], [1, \"#276419\"]], \"sequential\": [[0.0, \"#0d0887\"], [0.1111111111111111, \"#46039f\"], [0.2222222222222222, \"#7201a8\"], [0.3333333333333333, \"#9c179e\"], [0.4444444444444444, \"#bd3786\"], [0.5555555555555556, \"#d8576b\"], [0.6666666666666666, \"#ed7953\"], [0.7777777777777778, \"#fb9f3a\"], [0.8888888888888888, \"#fdca26\"], [1.0, \"#f0f921\"]], \"sequentialminus\": [[0.0, \"#0d0887\"], [0.1111111111111111, \"#46039f\"], [0.2222222222222222, \"#7201a8\"], [0.3333333333333333, \"#9c179e\"], [0.4444444444444444, \"#bd3786\"], [0.5555555555555556, \"#d8576b\"], [0.6666666666666666, \"#ed7953\"], [0.7777777777777778, \"#fb9f3a\"], [0.8888888888888888, \"#fdca26\"], [1.0, \"#f0f921\"]]}, \"colorway\": [\"#636efa\", \"#EF553B\", \"#00cc96\", \"#ab63fa\", \"#FFA15A\", \"#19d3f3\", \"#FF6692\", \"#B6E880\", \"#FF97FF\", \"#FECB52\"], \"font\": {\"color\": \"#2a3f5f\"}, \"geo\": {\"bgcolor\": \"white\", \"lakecolor\": \"white\", \"landcolor\": \"#E5ECF6\", \"showlakes\": true, \"showland\": true, \"subunitcolor\": \"white\"}, \"hoverlabel\": {\"align\": \"left\"}, \"hovermode\": \"closest\", \"mapbox\": {\"style\": \"light\"}, \"paper_bgcolor\": \"white\", \"plot_bgcolor\": \"#E5ECF6\", \"polar\": {\"angularaxis\": {\"gridcolor\": \"white\", \"linecolor\": \"white\", \"ticks\": \"\"}, \"bgcolor\": \"#E5ECF6\", \"radialaxis\": {\"gridcolor\": \"white\", \"linecolor\": \"white\", \"ticks\": \"\"}}, \"scene\": {\"xaxis\": {\"backgroundcolor\": \"#E5ECF6\", \"gridcolor\": \"white\", \"gridwidth\": 2, \"linecolor\": \"white\", \"showbackground\": true, \"ticks\": \"\", \"zerolinecolor\": \"white\"}, \"yaxis\": {\"backgroundcolor\": \"#E5ECF6\", \"gridcolor\": \"white\", \"gridwidth\": 2, \"linecolor\": \"white\", \"showbackground\": true, \"ticks\": \"\", \"zerolinecolor\": \"white\"}, \"zaxis\": {\"backgroundcolor\": \"#E5ECF6\", \"gridcolor\": \"white\", \"gridwidth\": 2, \"linecolor\": \"white\", \"showbackground\": true, \"ticks\": \"\", \"zerolinecolor\": \"white\"}}, \"shapedefaults\": {\"line\": {\"color\": \"#2a3f5f\"}}, \"ternary\": {\"aaxis\": {\"gridcolor\": \"white\", \"linecolor\": \"white\", \"ticks\": \"\"}, \"baxis\": {\"gridcolor\": \"white\", \"linecolor\": \"white\", \"ticks\": \"\"}, \"bgcolor\": \"#E5ECF6\", \"caxis\": {\"gridcolor\": \"white\", \"linecolor\": \"white\", \"ticks\": \"\"}}, \"title\": {\"x\": 0.05}, \"xaxis\": {\"automargin\": true, \"gridcolor\": \"white\", \"linecolor\": \"white\", \"ticks\": \"\", \"title\": {\"standoff\": 15}, \"zerolinecolor\": \"white\", \"zerolinewidth\": 2}, \"yaxis\": {\"automargin\": true, \"gridcolor\": \"white\", \"linecolor\": \"white\", \"ticks\": \"\", \"title\": {\"standoff\": 15}, \"zerolinecolor\": \"white\", \"zerolinewidth\": 2}}}, \"xaxis\": {\"anchor\": \"y\", \"domain\": [0.0, 1.0], \"title\": {\"text\": \"confirmed_cases\"}}, \"xaxis2\": {\"anchor\": \"y2\", \"domain\": [0.0, 1.0], \"matches\": \"x\", \"showgrid\": true, \"showticklabels\": false}, \"yaxis\": {\"anchor\": \"x\", \"domain\": [0.0, 0.7326], \"title\": {\"text\": \"count\"}}, \"yaxis2\": {\"anchor\": \"x2\", \"domain\": [0.7426, 1.0], \"matches\": \"y2\", \"showgrid\": false, \"showline\": false, \"showticklabels\": false, \"ticks\": \"\"}},\n",
       "                        {\"responsive\": true}\n",
       "                    ).then(function(){\n",
       "                            \n",
       "var gd = document.getElementById('69bf4649-b999-459d-92bb-4ecd8cf942e5');\n",
       "var x = new MutationObserver(function (mutations, observer) {{\n",
       "        var display = window.getComputedStyle(gd).display;\n",
       "        if (!display || display === 'none') {{\n",
       "            console.log([gd, 'removed!']);\n",
       "            Plotly.purge(gd);\n",
       "            observer.disconnect();\n",
       "        }}\n",
       "}});\n",
       "\n",
       "// Listen for the removal of the full notebook cells\n",
       "var notebookContainer = gd.closest('#notebook-container');\n",
       "if (notebookContainer) {{\n",
       "    x.observe(notebookContainer, {childList: true});\n",
       "}}\n",
       "\n",
       "// Listen for the clearing of the current output cell\n",
       "var outputEl = gd.closest('.output');\n",
       "if (outputEl) {{\n",
       "    x.observe(outputEl, {childList: true});\n",
       "}}\n",
       "\n",
       "                        })\n",
       "                };\n",
       "                });\n",
       "            </script>\n",
       "        </div>"
      ]
     },
     "metadata": {},
     "output_type": "display_data"
    }
   ],
   "source": [
    "#Also cluster 1 countries have at general low confirmed_cases compared to cluster 3 countries\n",
    "plot_model(kmeans, plot = 'distribution', feature = 'confirmed_cases')"
   ]
  },
  {
   "cell_type": "code",
   "execution_count": 30,
   "metadata": {},
   "outputs": [
    {
     "data": {
      "text/html": [
       "        <script type=\"text/javascript\">\n",
       "        window.PlotlyConfig = {MathJaxConfig: 'local'};\n",
       "        if (window.MathJax) {MathJax.Hub.Config({SVG: {font: \"STIX-Web\"}});}\n",
       "        if (typeof require !== 'undefined') {\n",
       "        require.undef(\"plotly\");\n",
       "        requirejs.config({\n",
       "            paths: {\n",
       "                'plotly': ['https://cdn.plot.ly/plotly-latest.min']\n",
       "            }\n",
       "        });\n",
       "        require(['plotly'], function(Plotly) {\n",
       "            window._Plotly = Plotly;\n",
       "        });\n",
       "        }\n",
       "        </script>\n",
       "        "
      ]
     },
     "metadata": {},
     "output_type": "display_data"
    },
    {
     "data": {
      "application/vnd.plotly.v1+json": {
       "config": {
        "plotlyServerURL": "https://plot.ly"
       },
       "data": [
        {
         "alignmentgroup": "True",
         "bingroup": "x",
         "hoverlabel": {
          "namelength": 0
         },
         "hovertemplate": "Cluster=Cluster 0<br>country_name=%{x}<br>count=%{y}",
         "legendgroup": "Cluster=Cluster 0",
         "marker": {
          "color": "#636efa",
          "opacity": 0.7
         },
         "name": "Cluster=Cluster 0",
         "offsetgroup": "Cluster=Cluster 0",
         "orientation": "v",
         "showlegend": true,
         "type": "histogram",
         "x": [
          "Iran",
          "Laos",
          "Estonia",
          "Finland",
          "Solomon Islands",
          "Iceland",
          "Ghana",
          "Croatia",
          "Papua New Guinea",
          "Hong Kong",
          "New Zealand",
          "South Korea",
          "Hungary",
          "Brunei",
          "Nicaragua",
          "Niger",
          "Benin",
          "Namibia",
          "Austria",
          "Luxembourg",
          "Australia",
          "Madagascar",
          "Malawi",
          "Andorra",
          "Somalia",
          "Senegal",
          "Macao",
          "Seychelles",
          "Bulgaria",
          "Yemen",
          "Slovenia",
          "Tanzania",
          "Burundi",
          "Zambia",
          "Burkina Faso",
          "Taiwan",
          "Belarus",
          "Czech Republic",
          "Japan",
          "Sweden",
          "Mozambique",
          "Norway",
          "Canada",
          "Serbia",
          "Cameroon",
          "Mongolia",
          "China"
         ],
         "xaxis": "x",
         "yaxis": "y"
        },
        {
         "alignmentgroup": "True",
         "customdata": [
          [
           "Iran",
           47.23,
           124603,
           7119,
           "Cluster 0"
          ],
          [
           "Laos",
           56.22,
           19,
           0,
           "Cluster 0"
          ],
          [
           "Estonia",
           41.54,
           1791,
           64,
           "Cluster 0"
          ],
          [
           "Finland",
           65.74,
           6399,
           301,
           "Cluster 0"
          ],
          [
           "Solomon Islands",
           50.41,
           0,
           0,
           "Cluster 0"
          ],
          [
           "Iceland",
           56.61,
           1802,
           10,
           "Cluster 0"
          ],
          [
           "Ghana",
           66.53,
           6096,
           31,
           "Cluster 0"
          ],
          [
           "Croatia",
           66.53,
           2232,
           96,
           "Cluster 0"
          ],
          [
           "Papua New Guinea",
           43.66,
           8,
           0,
           "Cluster 0"
          ],
          [
           "Hong Kong",
           67.85,
           1055,
           4,
           "Cluster 0"
          ],
          [
           "New Zealand",
           38.49,
           1153,
           21,
           "Cluster 0"
          ],
          [
           "South Korea",
           43.51,
           11110,
           263,
           "Cluster 0"
          ],
          [
           "Hungary",
           59.53,
           3598,
           470,
           "Cluster 0"
          ],
          [
           "Brunei",
           56.74,
           141,
           1,
           "Cluster 0"
          ],
          [
           "Nicaragua",
           11.11,
           25,
           8,
           "Cluster 0"
          ],
          [
           "Niger",
           33.33,
           914,
           55,
           "Cluster 0"
          ],
          [
           "Benin",
           48.15,
           130,
           2,
           "Cluster 0"
          ],
          [
           "Namibia",
           61.24,
           712,
           7,
           "Cluster 0"
          ],
          [
           "Austria",
           56.34,
           16257,
           632,
           "Cluster 0"
          ],
          [
           "Luxembourg",
           65.73,
           3958,
           109,
           "Cluster 0"
          ],
          [
           "Australia",
           66.14,
           7068,
           99,
           "Cluster 0"
          ],
          [
           "Madagascar",
           64.43,
           326,
           2,
           "Cluster 0"
          ],
          [
           "Malawi",
           59.26,
           71,
           3,
           "Cluster 0"
          ],
          [
           "Andorra",
           56.34,
           761,
           51,
           "Cluster 0"
          ],
          [
           "Somalia",
           59.39,
           1502,
           59,
           "Cluster 0"
          ],
          [
           "Senegal",
           62.7,
           2617,
           30,
           "Cluster 0"
          ],
          [
           "Macao",
           39.02,
           45,
           0,
           "Cluster 0"
          ],
          [
           "Seychelles",
           65.87,
           11,
           0,
           "Cluster 0"
          ],
          [
           "Bulgaria",
           63.89,
           2292,
           116,
           "Cluster 0"
          ],
          [
           "Yemen",
           54.23,
           167,
           28,
           "Cluster 0"
          ],
          [
           "Slovenia",
           61.25,
           1467,
           104,
           "Cluster 0"
          ],
          [
           "Tanzania",
           50.4,
           509,
           21,
           "Cluster 0"
          ],
          [
           "Burundi",
           22.22,
           42,
           1,
           "Cluster 0"
          ],
          [
           "Zambia",
           45.37,
           772,
           7,
           "Cluster 0"
          ],
          [
           "Burkina Faso",
           62.04,
           806,
           52,
           "Cluster 0"
          ],
          [
           "Taiwan",
           29.36,
           440,
           7,
           "Cluster 0"
          ],
          [
           "Belarus",
           15.47,
           31508,
           175,
           "Cluster 0"
          ],
          [
           "Czech Republic",
           59.65,
           8647,
           302,
           "Cluster 0"
          ],
          [
           "Japan",
           43.79,
           16385,
           771,
           "Cluster 0"
          ],
          [
           "Sweden",
           47.35,
           30799,
           3743,
           "Cluster 0"
          ],
          [
           "Mozambique",
           53.83,
           146,
           0,
           "Cluster 0"
          ],
          [
           "Norway",
           58.07,
           8257,
           233,
           "Cluster 0"
          ],
          [
           "Canada",
           67.74,
           79101,
           5912,
           "Cluster 0"
          ],
          [
           "Serbia",
           56.87,
           10733,
           234,
           "Cluster 0"
          ],
          [
           "Cameroon",
           67.85,
           3529,
           140,
           "Cluster 0"
          ],
          [
           "Mongolia",
           67.99,
           140,
           0,
           "Cluster 0"
          ],
          [
           "China",
           64.44,
           84065,
           4638,
           "Cluster 0"
          ]
         ],
         "hoverlabel": {
          "namelength": 0
         },
         "hovertemplate": "Cluster=%{customdata[4]}<br>country_name=%{customdata[0]}<br>stringency_index=%{customdata[1]}<br>confirmed_cases=%{customdata[2]}<br>deaths=%{customdata[3]}",
         "legendgroup": "Cluster=Cluster 0",
         "marker": {
          "color": "#636efa"
         },
         "name": "Cluster=Cluster 0",
         "notched": true,
         "offsetgroup": "Cluster=Cluster 0",
         "showlegend": false,
         "type": "box",
         "x": [
          "Iran",
          "Laos",
          "Estonia",
          "Finland",
          "Solomon Islands",
          "Iceland",
          "Ghana",
          "Croatia",
          "Papua New Guinea",
          "Hong Kong",
          "New Zealand",
          "South Korea",
          "Hungary",
          "Brunei",
          "Nicaragua",
          "Niger",
          "Benin",
          "Namibia",
          "Austria",
          "Luxembourg",
          "Australia",
          "Madagascar",
          "Malawi",
          "Andorra",
          "Somalia",
          "Senegal",
          "Macao",
          "Seychelles",
          "Bulgaria",
          "Yemen",
          "Slovenia",
          "Tanzania",
          "Burundi",
          "Zambia",
          "Burkina Faso",
          "Taiwan",
          "Belarus",
          "Czech Republic",
          "Japan",
          "Sweden",
          "Mozambique",
          "Norway",
          "Canada",
          "Serbia",
          "Cameroon",
          "Mongolia",
          "China"
         ],
         "xaxis": "x2",
         "yaxis": "y2"
        },
        {
         "alignmentgroup": "True",
         "bingroup": "x",
         "hoverlabel": {
          "namelength": 0
         },
         "hovertemplate": "Cluster=Cluster 1<br>country_name=%{x}<br>count=%{y}",
         "legendgroup": "Cluster=Cluster 1",
         "marker": {
          "color": "#EF553B",
          "opacity": 0.7
         },
         "name": "Cluster=Cluster 1",
         "offsetgroup": "Cluster=Cluster 1",
         "orientation": "v",
         "showlegend": true,
         "type": "histogram",
         "x": [
          "Puerto Rico",
          "Russia",
          "South Africa",
          "Guyana",
          "Denmark",
          "Aruba",
          "Costa Rica",
          "Zimbabwe",
          "Colombia",
          "Sierra Leone",
          "Cape Verde",
          "Jordan",
          "Bhutan",
          "Myanmar",
          "Afghanistan",
          "Syria",
          "San Marino",
          "Sudan",
          "Palestine",
          "Paraguay",
          "Portugal",
          "Poland",
          "Panama",
          "Pakistan",
          "Malaysia",
          "Mauritius",
          "Morocco",
          "Sri Lanka",
          "Libya",
          "Suriname",
          "Liberia",
          "Kenya",
          "Kazakhstan",
          "India",
          "Guam",
          "Ethiopia",
          "Ecuador",
          "Dominica",
          "Cuba",
          "Vietnam",
          "Congo",
          "Central African Republic",
          "Bolivia",
          "Bahrain",
          "Azerbaijan",
          "Lebanon",
          "Venezuela",
          "Slovak Republic",
          "Uruguay",
          "Ireland",
          "Indonesia",
          "Honduras",
          "Guatemala",
          "Greenland",
          "Greece",
          "Gambia",
          "Georgia",
          "Gabon",
          "Egypt",
          "Algeria",
          "Dominican Republic",
          "Djibouti",
          "Germany",
          "Uzbekistan",
          "Cyprus",
          "Cote d'Ivoire",
          "Chile",
          "Switzerland",
          "Botswana",
          "Barbados",
          "Bermuda",
          "Belize",
          "Bosnia and Herzegovina",
          "Bangladesh",
          "Belgium",
          "Argentina",
          "United Arab Emirates",
          "Albania",
          "Angola",
          "Democratic Republic of Congo",
          "Israel",
          "Iraq",
          "Jamaica",
          "Ukraine",
          "Uganda",
          "Turkey",
          "Tunisia",
          "Trinidad and Tobago",
          "Thailand",
          "Chad",
          "Eswatini",
          "South Sudan",
          "El Salvador",
          "Singapore",
          "Saudi Arabia",
          "Rwanda",
          "Romania",
          "Philippines",
          "Qatar",
          "Mali",
          "Kyrgyz Republic",
          "Kuwait",
          "Lesotho",
          "Moldova",
          "Mexico",
          "Peru",
          "Kosovo",
          "Mauritania",
          "Nigeria",
          "Netherlands",
          "Nepal",
          "Oman"
         ],
         "xaxis": "x",
         "yaxis": "y"
        },
        {
         "alignmentgroup": "True",
         "customdata": [
          [
           "Puerto Rico",
           97.35,
           2805,
           124,
           "Cluster 1"
          ],
          [
           "Russia",
           71.71,
           299941,
           2837,
           "Cluster 1"
          ],
          [
           "South Africa",
           88.75,
           17200,
           312,
           "Cluster 1"
          ],
          [
           "Guyana",
           82.27,
           125,
           10,
           "Cluster 1"
          ],
          [
           "Denmark",
           75.52,
           11044,
           551,
           "Cluster 1"
          ],
          [
           "Aruba",
           80.82,
           101,
           3,
           "Cluster 1"
          ],
          [
           "Costa Rica",
           74.99,
           882,
           10,
           "Cluster 1"
          ],
          [
           "Zimbabwe",
           91.4,
           46,
           4,
           "Cluster 1"
          ],
          [
           "Colombia",
           90.74,
           16935,
           613,
           "Cluster 1"
          ],
          [
           "Sierra Leone",
           77.64,
           534,
           33,
           "Cluster 1"
          ],
          [
           "Cape Verde",
           82.41,
           335,
           3,
           "Cluster 1"
          ],
          [
           "Jordan",
           72.48,
           649,
           9,
           "Cluster 1"
          ],
          [
           "Bhutan",
           78.3,
           21,
           0,
           "Cluster 1"
          ],
          [
           "Myanmar",
           79.24,
           193,
           6,
           "Cluster 1"
          ],
          [
           "Afghanistan",
           76.33,
           7653,
           178,
           "Cluster 1"
          ],
          [
           "Syria",
           80.43,
           58,
           3,
           "Cluster 1"
          ],
          [
           "San Marino",
           71.42,
           655,
           41,
           "Cluster 1"
          ],
          [
           "Sudan",
           86.38,
           2591,
           105,
           "Cluster 1"
          ],
          [
           "Palestine",
           97.35,
           570,
           4,
           "Cluster 1"
          ],
          [
           "Paraguay",
           96.03,
           829,
           11,
           "Cluster 1"
          ],
          [
           "Portugal",
           76.71,
           29432,
           1247,
           "Cluster 1"
          ],
          [
           "Poland",
           88.09,
           19268,
           948,
           "Cluster 1"
          ],
          [
           "Panama",
           81.61,
           9867,
           281,
           "Cluster 1"
          ],
          [
           "Pakistan",
           82.02,
           45898,
           985,
           "Cluster 1"
          ],
          [
           "Malaysia",
           74.2,
           6978,
           114,
           "Cluster 1"
          ],
          [
           "Mauritius",
           84.78,
           332,
           10,
           "Cluster 1"
          ],
          [
           "Morocco",
           93.38,
           7023,
           193,
           "Cluster 1"
          ],
          [
           "Sri Lanka",
           82.27,
           1027,
           9,
           "Cluster 1"
          ],
          [
           "Libya",
           96.83,
           68,
           3,
           "Cluster 1"
          ],
          [
           "Suriname",
           77.12,
           11,
           1,
           "Cluster 1"
          ],
          [
           "Liberia",
           78.31,
           233,
           23,
           "Cluster 1"
          ],
          [
           "Kenya",
           94.18,
           963,
           50,
           "Cluster 1"
          ],
          [
           "Kazakhstan",
           79.37,
           6969,
           35,
           "Cluster 1"
          ],
          [
           "India",
           76.07,
           106750,
           3303,
           "Cluster 1"
          ],
          [
           "Guam",
           69.71,
           154,
           5,
           "Cluster 1"
          ],
          [
           "Ethiopia",
           76.19,
           365,
           5,
           "Cluster 1"
          ],
          [
           "Ecuador",
           85.85,
           34151,
           2839,
           "Cluster 1"
          ],
          [
           "Dominica",
           80.95,
           16,
           0,
           "Cluster 1"
          ],
          [
           "Cuba",
           100,
           1887,
           79,
           "Cluster 1"
          ],
          [
           "Vietnam",
           69.18,
           324,
           0,
           "Cluster 1"
          ],
          [
           "Congo",
           98.02,
           420,
           15,
           "Cluster 1"
          ],
          [
           "Central African Republic",
           69.97,
           411,
           0,
           "Cluster 1"
          ],
          [
           "Bolivia",
           97.35,
           4481,
           189,
           "Cluster 1"
          ],
          [
           "Bahrain",
           86.77,
           7532,
           12,
           "Cluster 1"
          ],
          [
           "Azerbaijan",
           86.24,
           3518,
           41,
           "Cluster 1"
          ],
          [
           "Lebanon",
           84.12,
           954,
           26,
           "Cluster 1"
          ],
          [
           "Venezuela",
           86.24,
           749,
           10,
           "Cluster 1"
          ],
          [
           "Slovak Republic",
           78.96,
           1495,
           28,
           "Cluster 1"
          ],
          [
           "Uruguay",
           71.16,
           738,
           20,
           "Cluster 1"
          ],
          [
           "Ireland",
           87.83,
           24251,
           1561,
           "Cluster 1"
          ],
          [
           "Indonesia",
           70.91,
           18496,
           1221,
           "Cluster 1"
          ],
          [
           "Honduras",
           100,
           2955,
           147,
           "Cluster 1"
          ],
          [
           "Guatemala",
           97.35,
           2133,
           43,
           "Cluster 1"
          ],
          [
           "Greenland",
           80.95,
           11,
           0,
           "Cluster 1"
          ],
          [
           "Greece",
           74.34,
           2840,
           165,
           "Cluster 1"
          ],
          [
           "Gambia",
           84.78,
           24,
           1,
           "Cluster 1"
          ],
          [
           "Georgia",
           94.18,
           707,
           12,
           "Cluster 1"
          ],
          [
           "Gabon",
           86.24,
           1502,
           12,
           "Cluster 1"
          ],
          [
           "Egypt",
           88.75,
           13484,
           659,
           "Cluster 1"
          ],
          [
           "Algeria",
           82.42,
           7377,
           561,
           "Cluster 1"
          ],
          [
           "Dominican Republic",
           98.02,
           13223,
           441,
           "Cluster 1"
          ],
          [
           "Djibouti",
           100,
           1518,
           7,
           "Cluster 1"
          ],
          [
           "Germany",
           71.44,
           176007,
           8090,
           "Cluster 1"
          ],
          [
           "Uzbekistan",
           85.19,
           2880,
           13,
           "Cluster 1"
          ],
          [
           "Cyprus",
           94.18,
           918,
           17,
           "Cluster 1"
          ],
          [
           "Cote d'Ivoire",
           70.25,
           2153,
           28,
           "Cluster 1"
          ],
          [
           "Chile",
           78.83,
           49579,
           509,
           "Cluster 1"
          ],
          [
           "Switzerland",
           71.55,
           30535,
           1613,
           "Cluster 1"
          ],
          [
           "Botswana",
           78.05,
           25,
           1,
           "Cluster 1"
          ],
          [
           "Barbados",
           71.42,
           90,
           7,
           "Cluster 1"
          ],
          [
           "Bermuda",
           80.15,
           125,
           9,
           "Cluster 1"
          ],
          [
           "Belize",
           87.04,
           18,
           2,
           "Cluster 1"
          ],
          [
           "Bosnia and Herzegovina",
           81.22,
           2319,
           133,
           "Cluster 1"
          ],
          [
           "Bangladesh",
           91.93,
           25121,
           370,
           "Cluster 1"
          ],
          [
           "Belgium",
           75.26,
           55791,
           9108,
           "Cluster 1"
          ],
          [
           "Argentina",
           91.54,
           8796,
           393,
           "Cluster 1"
          ],
          [
           "United Arab Emirates",
           77.78,
           25063,
           227,
           "Cluster 1"
          ],
          [
           "Albania",
           88.36,
           949,
           31,
           "Cluster 1"
          ],
          [
           "Angola",
           81.61,
           50,
           2,
           "Cluster 1"
          ],
          [
           "Democratic Republic of Congo",
           80.04,
           1731,
           61,
           "Cluster 1"
          ],
          [
           "Israel",
           82.93,
           16650,
           277,
           "Cluster 1"
          ],
          [
           "Iraq",
           80.42,
           3611,
           131,
           "Cluster 1"
          ],
          [
           "Jamaica",
           74.2,
           520,
           9,
           "Cluster 1"
          ],
          [
           "Ukraine",
           92.06,
           18876,
           548,
           "Cluster 1"
          ],
          [
           "Uganda",
           89.94,
           260,
           0,
           "Cluster 1"
          ],
          [
           "Turkey",
           80.42,
           151615,
           4199,
           "Cluster 1"
          ],
          [
           "Tunisia",
           87.96,
           1044,
           47,
           "Cluster 1"
          ],
          [
           "Trinidad and Tobago",
           93.38,
           116,
           8,
           "Cluster 1"
          ],
          [
           "Thailand",
           80.56,
           3034,
           56,
           "Cluster 1"
          ],
          [
           "Chad",
           86.38,
           545,
           56,
           "Cluster 1"
          ],
          [
           "Eswatini",
           84.26,
           208,
           2,
           "Cluster 1"
          ],
          [
           "South Sudan",
           94.71,
           285,
           6,
           "Cluster 1"
          ],
          [
           "El Salvador",
           100,
           1498,
           31,
           "Cluster 1"
          ],
          [
           "Singapore",
           85.18,
           28794,
           22,
           "Cluster 1"
          ],
          [
           "Saudi Arabia",
           87.84,
           59854,
           329,
           "Cluster 1"
          ],
          [
           "Rwanda",
           73.81,
           308,
           0,
           "Cluster 1"
          ],
          [
           "Romania",
           76.98,
           17191,
           1126,
           "Cluster 1"
          ],
          [
           "Philippines",
           94.58,
           12942,
           837,
           "Cluster 1"
          ],
          [
           "Qatar",
           90.74,
           35606,
           15,
           "Cluster 1"
          ],
          [
           "Mali",
           76.19,
           901,
           53,
           "Cluster 1"
          ],
          [
           "Kyrgyz Republic",
           78.85,
           1270,
           14,
           "Cluster 1"
          ],
          [
           "Kuwait",
           100,
           16764,
           121,
           "Cluster 1"
          ],
          [
           "Lesotho",
           72.87,
           1,
           0,
           "Cluster 1"
          ],
          [
           "Moldova",
           84.92,
           6340,
           221,
           "Cluster 1"
          ],
          [
           "Mexico",
           85.45,
           54346,
           5666,
           "Cluster 1"
          ],
          [
           "Peru",
           97.35,
           99483,
           2914,
           "Cluster 1"
          ],
          [
           "Kosovo",
           90.74,
           989,
           29,
           "Cluster 1"
          ],
          [
           "Mauritania",
           80.95,
           81,
           4,
           "Cluster 1"
          ],
          [
           "Nigeria",
           76.59,
           6401,
           192,
           "Cluster 1"
          ],
          [
           "Netherlands",
           76.71,
           44249,
           5715,
           "Cluster 1"
          ],
          [
           "Nepal",
           95.24,
           402,
           2,
           "Cluster 1"
          ],
          [
           "Oman",
           85.19,
           5671,
           27,
           "Cluster 1"
          ]
         ],
         "hoverlabel": {
          "namelength": 0
         },
         "hovertemplate": "Cluster=%{customdata[4]}<br>country_name=%{customdata[0]}<br>stringency_index=%{customdata[1]}<br>confirmed_cases=%{customdata[2]}<br>deaths=%{customdata[3]}",
         "legendgroup": "Cluster=Cluster 1",
         "marker": {
          "color": "#EF553B"
         },
         "name": "Cluster=Cluster 1",
         "notched": true,
         "offsetgroup": "Cluster=Cluster 1",
         "showlegend": false,
         "type": "box",
         "x": [
          "Puerto Rico",
          "Russia",
          "South Africa",
          "Guyana",
          "Denmark",
          "Aruba",
          "Costa Rica",
          "Zimbabwe",
          "Colombia",
          "Sierra Leone",
          "Cape Verde",
          "Jordan",
          "Bhutan",
          "Myanmar",
          "Afghanistan",
          "Syria",
          "San Marino",
          "Sudan",
          "Palestine",
          "Paraguay",
          "Portugal",
          "Poland",
          "Panama",
          "Pakistan",
          "Malaysia",
          "Mauritius",
          "Morocco",
          "Sri Lanka",
          "Libya",
          "Suriname",
          "Liberia",
          "Kenya",
          "Kazakhstan",
          "India",
          "Guam",
          "Ethiopia",
          "Ecuador",
          "Dominica",
          "Cuba",
          "Vietnam",
          "Congo",
          "Central African Republic",
          "Bolivia",
          "Bahrain",
          "Azerbaijan",
          "Lebanon",
          "Venezuela",
          "Slovak Republic",
          "Uruguay",
          "Ireland",
          "Indonesia",
          "Honduras",
          "Guatemala",
          "Greenland",
          "Greece",
          "Gambia",
          "Georgia",
          "Gabon",
          "Egypt",
          "Algeria",
          "Dominican Republic",
          "Djibouti",
          "Germany",
          "Uzbekistan",
          "Cyprus",
          "Cote d'Ivoire",
          "Chile",
          "Switzerland",
          "Botswana",
          "Barbados",
          "Bermuda",
          "Belize",
          "Bosnia and Herzegovina",
          "Bangladesh",
          "Belgium",
          "Argentina",
          "United Arab Emirates",
          "Albania",
          "Angola",
          "Democratic Republic of Congo",
          "Israel",
          "Iraq",
          "Jamaica",
          "Ukraine",
          "Uganda",
          "Turkey",
          "Tunisia",
          "Trinidad and Tobago",
          "Thailand",
          "Chad",
          "Eswatini",
          "South Sudan",
          "El Salvador",
          "Singapore",
          "Saudi Arabia",
          "Rwanda",
          "Romania",
          "Philippines",
          "Qatar",
          "Mali",
          "Kyrgyz Republic",
          "Kuwait",
          "Lesotho",
          "Moldova",
          "Mexico",
          "Peru",
          "Kosovo",
          "Mauritania",
          "Nigeria",
          "Netherlands",
          "Nepal",
          "Oman"
         ],
         "xaxis": "x2",
         "yaxis": "y2"
        },
        {
         "alignmentgroup": "True",
         "bingroup": "x",
         "hoverlabel": {
          "namelength": 0
         },
         "hovertemplate": "Cluster=Cluster 2<br>country_name=%{x}<br>count=%{y}",
         "legendgroup": "Cluster=Cluster 2",
         "marker": {
          "color": "#00cc96",
          "opacity": 0.7
         },
         "name": "Cluster=Cluster 2",
         "offsetgroup": "Cluster=Cluster 2",
         "orientation": "v",
         "showlegend": true,
         "type": "histogram",
         "x": [
          "United States"
         ],
         "xaxis": "x",
         "yaxis": "y"
        },
        {
         "alignmentgroup": "True",
         "customdata": [
          [
           "United States",
           68.41,
           1528568,
           91921,
           "Cluster 2"
          ]
         ],
         "hoverlabel": {
          "namelength": 0
         },
         "hovertemplate": "Cluster=%{customdata[4]}<br>country_name=%{customdata[0]}<br>stringency_index=%{customdata[1]}<br>confirmed_cases=%{customdata[2]}<br>deaths=%{customdata[3]}",
         "legendgroup": "Cluster=Cluster 2",
         "marker": {
          "color": "#00cc96"
         },
         "name": "Cluster=Cluster 2",
         "notched": true,
         "offsetgroup": "Cluster=Cluster 2",
         "showlegend": false,
         "type": "box",
         "x": [
          "United States"
         ],
         "xaxis": "x2",
         "yaxis": "y2"
        },
        {
         "alignmentgroup": "True",
         "bingroup": "x",
         "hoverlabel": {
          "namelength": 0
         },
         "hovertemplate": "Cluster=Cluster 3<br>country_name=%{x}<br>count=%{y}",
         "legendgroup": "Cluster=Cluster 3",
         "marker": {
          "color": "#ab63fa",
          "opacity": 0.7
         },
         "name": "Cluster=Cluster 3",
         "offsetgroup": "Cluster=Cluster 3",
         "orientation": "v",
         "showlegend": true,
         "type": "histogram",
         "x": [
          "Brazil",
          "United Kingdom",
          "Spain",
          "France",
          "Italy"
         ],
         "xaxis": "x",
         "yaxis": "y"
        },
        {
         "alignmentgroup": "True",
         "customdata": [
          [
           "Brazil",
           75.15,
           271628,
           17971,
           "Cluster 3"
          ],
          [
           "United Kingdom",
           73.01,
           248818,
           35341,
           "Cluster 3"
          ],
          [
           "Spain",
           83.07,
           232555,
           27888,
           "Cluster 3"
          ],
          [
           "France",
           83.46,
           143427,
           28022,
           "Cluster 3"
          ],
          [
           "Italy",
           68.78,
           226699,
           32169,
           "Cluster 3"
          ]
         ],
         "hoverlabel": {
          "namelength": 0
         },
         "hovertemplate": "Cluster=%{customdata[4]}<br>country_name=%{customdata[0]}<br>stringency_index=%{customdata[1]}<br>confirmed_cases=%{customdata[2]}<br>deaths=%{customdata[3]}",
         "legendgroup": "Cluster=Cluster 3",
         "marker": {
          "color": "#ab63fa"
         },
         "name": "Cluster=Cluster 3",
         "notched": true,
         "offsetgroup": "Cluster=Cluster 3",
         "showlegend": false,
         "type": "box",
         "x": [
          "Brazil",
          "United Kingdom",
          "Spain",
          "France",
          "Italy"
         ],
         "xaxis": "x2",
         "yaxis": "y2"
        }
       ],
       "layout": {
        "barmode": "relative",
        "legend": {
         "tracegroupgap": 0
        },
        "margin": {
         "t": 60
        },
        "template": {
         "data": {
          "bar": [
           {
            "error_x": {
             "color": "#2a3f5f"
            },
            "error_y": {
             "color": "#2a3f5f"
            },
            "marker": {
             "line": {
              "color": "#E5ECF6",
              "width": 0.5
             }
            },
            "type": "bar"
           }
          ],
          "barpolar": [
           {
            "marker": {
             "line": {
              "color": "#E5ECF6",
              "width": 0.5
             }
            },
            "type": "barpolar"
           }
          ],
          "carpet": [
           {
            "aaxis": {
             "endlinecolor": "#2a3f5f",
             "gridcolor": "white",
             "linecolor": "white",
             "minorgridcolor": "white",
             "startlinecolor": "#2a3f5f"
            },
            "baxis": {
             "endlinecolor": "#2a3f5f",
             "gridcolor": "white",
             "linecolor": "white",
             "minorgridcolor": "white",
             "startlinecolor": "#2a3f5f"
            },
            "type": "carpet"
           }
          ],
          "choropleth": [
           {
            "colorbar": {
             "outlinewidth": 0,
             "ticks": ""
            },
            "type": "choropleth"
           }
          ],
          "contour": [
           {
            "colorbar": {
             "outlinewidth": 0,
             "ticks": ""
            },
            "colorscale": [
             [
              0,
              "#0d0887"
             ],
             [
              0.1111111111111111,
              "#46039f"
             ],
             [
              0.2222222222222222,
              "#7201a8"
             ],
             [
              0.3333333333333333,
              "#9c179e"
             ],
             [
              0.4444444444444444,
              "#bd3786"
             ],
             [
              0.5555555555555556,
              "#d8576b"
             ],
             [
              0.6666666666666666,
              "#ed7953"
             ],
             [
              0.7777777777777778,
              "#fb9f3a"
             ],
             [
              0.8888888888888888,
              "#fdca26"
             ],
             [
              1,
              "#f0f921"
             ]
            ],
            "type": "contour"
           }
          ],
          "contourcarpet": [
           {
            "colorbar": {
             "outlinewidth": 0,
             "ticks": ""
            },
            "type": "contourcarpet"
           }
          ],
          "heatmap": [
           {
            "colorbar": {
             "outlinewidth": 0,
             "ticks": ""
            },
            "colorscale": [
             [
              0,
              "#0d0887"
             ],
             [
              0.1111111111111111,
              "#46039f"
             ],
             [
              0.2222222222222222,
              "#7201a8"
             ],
             [
              0.3333333333333333,
              "#9c179e"
             ],
             [
              0.4444444444444444,
              "#bd3786"
             ],
             [
              0.5555555555555556,
              "#d8576b"
             ],
             [
              0.6666666666666666,
              "#ed7953"
             ],
             [
              0.7777777777777778,
              "#fb9f3a"
             ],
             [
              0.8888888888888888,
              "#fdca26"
             ],
             [
              1,
              "#f0f921"
             ]
            ],
            "type": "heatmap"
           }
          ],
          "heatmapgl": [
           {
            "colorbar": {
             "outlinewidth": 0,
             "ticks": ""
            },
            "colorscale": [
             [
              0,
              "#0d0887"
             ],
             [
              0.1111111111111111,
              "#46039f"
             ],
             [
              0.2222222222222222,
              "#7201a8"
             ],
             [
              0.3333333333333333,
              "#9c179e"
             ],
             [
              0.4444444444444444,
              "#bd3786"
             ],
             [
              0.5555555555555556,
              "#d8576b"
             ],
             [
              0.6666666666666666,
              "#ed7953"
             ],
             [
              0.7777777777777778,
              "#fb9f3a"
             ],
             [
              0.8888888888888888,
              "#fdca26"
             ],
             [
              1,
              "#f0f921"
             ]
            ],
            "type": "heatmapgl"
           }
          ],
          "histogram": [
           {
            "marker": {
             "colorbar": {
              "outlinewidth": 0,
              "ticks": ""
             }
            },
            "type": "histogram"
           }
          ],
          "histogram2d": [
           {
            "colorbar": {
             "outlinewidth": 0,
             "ticks": ""
            },
            "colorscale": [
             [
              0,
              "#0d0887"
             ],
             [
              0.1111111111111111,
              "#46039f"
             ],
             [
              0.2222222222222222,
              "#7201a8"
             ],
             [
              0.3333333333333333,
              "#9c179e"
             ],
             [
              0.4444444444444444,
              "#bd3786"
             ],
             [
              0.5555555555555556,
              "#d8576b"
             ],
             [
              0.6666666666666666,
              "#ed7953"
             ],
             [
              0.7777777777777778,
              "#fb9f3a"
             ],
             [
              0.8888888888888888,
              "#fdca26"
             ],
             [
              1,
              "#f0f921"
             ]
            ],
            "type": "histogram2d"
           }
          ],
          "histogram2dcontour": [
           {
            "colorbar": {
             "outlinewidth": 0,
             "ticks": ""
            },
            "colorscale": [
             [
              0,
              "#0d0887"
             ],
             [
              0.1111111111111111,
              "#46039f"
             ],
             [
              0.2222222222222222,
              "#7201a8"
             ],
             [
              0.3333333333333333,
              "#9c179e"
             ],
             [
              0.4444444444444444,
              "#bd3786"
             ],
             [
              0.5555555555555556,
              "#d8576b"
             ],
             [
              0.6666666666666666,
              "#ed7953"
             ],
             [
              0.7777777777777778,
              "#fb9f3a"
             ],
             [
              0.8888888888888888,
              "#fdca26"
             ],
             [
              1,
              "#f0f921"
             ]
            ],
            "type": "histogram2dcontour"
           }
          ],
          "mesh3d": [
           {
            "colorbar": {
             "outlinewidth": 0,
             "ticks": ""
            },
            "type": "mesh3d"
           }
          ],
          "parcoords": [
           {
            "line": {
             "colorbar": {
              "outlinewidth": 0,
              "ticks": ""
             }
            },
            "type": "parcoords"
           }
          ],
          "pie": [
           {
            "automargin": true,
            "type": "pie"
           }
          ],
          "scatter": [
           {
            "marker": {
             "colorbar": {
              "outlinewidth": 0,
              "ticks": ""
             }
            },
            "type": "scatter"
           }
          ],
          "scatter3d": [
           {
            "line": {
             "colorbar": {
              "outlinewidth": 0,
              "ticks": ""
             }
            },
            "marker": {
             "colorbar": {
              "outlinewidth": 0,
              "ticks": ""
             }
            },
            "type": "scatter3d"
           }
          ],
          "scattercarpet": [
           {
            "marker": {
             "colorbar": {
              "outlinewidth": 0,
              "ticks": ""
             }
            },
            "type": "scattercarpet"
           }
          ],
          "scattergeo": [
           {
            "marker": {
             "colorbar": {
              "outlinewidth": 0,
              "ticks": ""
             }
            },
            "type": "scattergeo"
           }
          ],
          "scattergl": [
           {
            "marker": {
             "colorbar": {
              "outlinewidth": 0,
              "ticks": ""
             }
            },
            "type": "scattergl"
           }
          ],
          "scattermapbox": [
           {
            "marker": {
             "colorbar": {
              "outlinewidth": 0,
              "ticks": ""
             }
            },
            "type": "scattermapbox"
           }
          ],
          "scatterpolar": [
           {
            "marker": {
             "colorbar": {
              "outlinewidth": 0,
              "ticks": ""
             }
            },
            "type": "scatterpolar"
           }
          ],
          "scatterpolargl": [
           {
            "marker": {
             "colorbar": {
              "outlinewidth": 0,
              "ticks": ""
             }
            },
            "type": "scatterpolargl"
           }
          ],
          "scatterternary": [
           {
            "marker": {
             "colorbar": {
              "outlinewidth": 0,
              "ticks": ""
             }
            },
            "type": "scatterternary"
           }
          ],
          "surface": [
           {
            "colorbar": {
             "outlinewidth": 0,
             "ticks": ""
            },
            "colorscale": [
             [
              0,
              "#0d0887"
             ],
             [
              0.1111111111111111,
              "#46039f"
             ],
             [
              0.2222222222222222,
              "#7201a8"
             ],
             [
              0.3333333333333333,
              "#9c179e"
             ],
             [
              0.4444444444444444,
              "#bd3786"
             ],
             [
              0.5555555555555556,
              "#d8576b"
             ],
             [
              0.6666666666666666,
              "#ed7953"
             ],
             [
              0.7777777777777778,
              "#fb9f3a"
             ],
             [
              0.8888888888888888,
              "#fdca26"
             ],
             [
              1,
              "#f0f921"
             ]
            ],
            "type": "surface"
           }
          ],
          "table": [
           {
            "cells": {
             "fill": {
              "color": "#EBF0F8"
             },
             "line": {
              "color": "white"
             }
            },
            "header": {
             "fill": {
              "color": "#C8D4E3"
             },
             "line": {
              "color": "white"
             }
            },
            "type": "table"
           }
          ]
         },
         "layout": {
          "annotationdefaults": {
           "arrowcolor": "#2a3f5f",
           "arrowhead": 0,
           "arrowwidth": 1
          },
          "coloraxis": {
           "colorbar": {
            "outlinewidth": 0,
            "ticks": ""
           }
          },
          "colorscale": {
           "diverging": [
            [
             0,
             "#8e0152"
            ],
            [
             0.1,
             "#c51b7d"
            ],
            [
             0.2,
             "#de77ae"
            ],
            [
             0.3,
             "#f1b6da"
            ],
            [
             0.4,
             "#fde0ef"
            ],
            [
             0.5,
             "#f7f7f7"
            ],
            [
             0.6,
             "#e6f5d0"
            ],
            [
             0.7,
             "#b8e186"
            ],
            [
             0.8,
             "#7fbc41"
            ],
            [
             0.9,
             "#4d9221"
            ],
            [
             1,
             "#276419"
            ]
           ],
           "sequential": [
            [
             0,
             "#0d0887"
            ],
            [
             0.1111111111111111,
             "#46039f"
            ],
            [
             0.2222222222222222,
             "#7201a8"
            ],
            [
             0.3333333333333333,
             "#9c179e"
            ],
            [
             0.4444444444444444,
             "#bd3786"
            ],
            [
             0.5555555555555556,
             "#d8576b"
            ],
            [
             0.6666666666666666,
             "#ed7953"
            ],
            [
             0.7777777777777778,
             "#fb9f3a"
            ],
            [
             0.8888888888888888,
             "#fdca26"
            ],
            [
             1,
             "#f0f921"
            ]
           ],
           "sequentialminus": [
            [
             0,
             "#0d0887"
            ],
            [
             0.1111111111111111,
             "#46039f"
            ],
            [
             0.2222222222222222,
             "#7201a8"
            ],
            [
             0.3333333333333333,
             "#9c179e"
            ],
            [
             0.4444444444444444,
             "#bd3786"
            ],
            [
             0.5555555555555556,
             "#d8576b"
            ],
            [
             0.6666666666666666,
             "#ed7953"
            ],
            [
             0.7777777777777778,
             "#fb9f3a"
            ],
            [
             0.8888888888888888,
             "#fdca26"
            ],
            [
             1,
             "#f0f921"
            ]
           ]
          },
          "colorway": [
           "#636efa",
           "#EF553B",
           "#00cc96",
           "#ab63fa",
           "#FFA15A",
           "#19d3f3",
           "#FF6692",
           "#B6E880",
           "#FF97FF",
           "#FECB52"
          ],
          "font": {
           "color": "#2a3f5f"
          },
          "geo": {
           "bgcolor": "white",
           "lakecolor": "white",
           "landcolor": "#E5ECF6",
           "showlakes": true,
           "showland": true,
           "subunitcolor": "white"
          },
          "hoverlabel": {
           "align": "left"
          },
          "hovermode": "closest",
          "mapbox": {
           "style": "light"
          },
          "paper_bgcolor": "white",
          "plot_bgcolor": "#E5ECF6",
          "polar": {
           "angularaxis": {
            "gridcolor": "white",
            "linecolor": "white",
            "ticks": ""
           },
           "bgcolor": "#E5ECF6",
           "radialaxis": {
            "gridcolor": "white",
            "linecolor": "white",
            "ticks": ""
           }
          },
          "scene": {
           "xaxis": {
            "backgroundcolor": "#E5ECF6",
            "gridcolor": "white",
            "gridwidth": 2,
            "linecolor": "white",
            "showbackground": true,
            "ticks": "",
            "zerolinecolor": "white"
           },
           "yaxis": {
            "backgroundcolor": "#E5ECF6",
            "gridcolor": "white",
            "gridwidth": 2,
            "linecolor": "white",
            "showbackground": true,
            "ticks": "",
            "zerolinecolor": "white"
           },
           "zaxis": {
            "backgroundcolor": "#E5ECF6",
            "gridcolor": "white",
            "gridwidth": 2,
            "linecolor": "white",
            "showbackground": true,
            "ticks": "",
            "zerolinecolor": "white"
           }
          },
          "shapedefaults": {
           "line": {
            "color": "#2a3f5f"
           }
          },
          "ternary": {
           "aaxis": {
            "gridcolor": "white",
            "linecolor": "white",
            "ticks": ""
           },
           "baxis": {
            "gridcolor": "white",
            "linecolor": "white",
            "ticks": ""
           },
           "bgcolor": "#E5ECF6",
           "caxis": {
            "gridcolor": "white",
            "linecolor": "white",
            "ticks": ""
           }
          },
          "title": {
           "x": 0.05
          },
          "xaxis": {
           "automargin": true,
           "gridcolor": "white",
           "linecolor": "white",
           "ticks": "",
           "title": {
            "standoff": 15
           },
           "zerolinecolor": "white",
           "zerolinewidth": 2
          },
          "yaxis": {
           "automargin": true,
           "gridcolor": "white",
           "linecolor": "white",
           "ticks": "",
           "title": {
            "standoff": 15
           },
           "zerolinecolor": "white",
           "zerolinewidth": 2
          }
         }
        },
        "xaxis": {
         "anchor": "y",
         "domain": [
          0,
          1
         ],
         "title": {
          "text": "country_name"
         }
        },
        "xaxis2": {
         "anchor": "y2",
         "domain": [
          0,
          1
         ],
         "matches": "x",
         "showgrid": true,
         "showticklabels": false
        },
        "yaxis": {
         "anchor": "x",
         "domain": [
          0,
          0.7326
         ],
         "title": {
          "text": "count"
         }
        },
        "yaxis2": {
         "anchor": "x2",
         "domain": [
          0.7426,
          1
         ],
         "matches": "y2",
         "showgrid": false,
         "showline": false,
         "showticklabels": false,
         "ticks": ""
        }
       }
      },
      "text/html": [
       "<div>\n",
       "        \n",
       "        \n",
       "            <div id=\"c02d68c8-e5d2-4c2a-a7e8-4eb4793fed60\" class=\"plotly-graph-div\" style=\"height:525px; width:100%;\"></div>\n",
       "            <script type=\"text/javascript\">\n",
       "                require([\"plotly\"], function(Plotly) {\n",
       "                    window.PLOTLYENV=window.PLOTLYENV || {};\n",
       "                    \n",
       "                if (document.getElementById(\"c02d68c8-e5d2-4c2a-a7e8-4eb4793fed60\")) {\n",
       "                    Plotly.newPlot(\n",
       "                        'c02d68c8-e5d2-4c2a-a7e8-4eb4793fed60',\n",
       "                        [{\"alignmentgroup\": \"True\", \"bingroup\": \"x\", \"hoverlabel\": {\"namelength\": 0}, \"hovertemplate\": \"Cluster=Cluster 0<br>country_name=%{x}<br>count=%{y}\", \"legendgroup\": \"Cluster=Cluster 0\", \"marker\": {\"color\": \"#636efa\", \"opacity\": 0.7}, \"name\": \"Cluster=Cluster 0\", \"offsetgroup\": \"Cluster=Cluster 0\", \"orientation\": \"v\", \"showlegend\": true, \"type\": \"histogram\", \"x\": [\"Iran\", \"Laos\", \"Estonia\", \"Finland\", \"Solomon Islands\", \"Iceland\", \"Ghana\", \"Croatia\", \"Papua New Guinea\", \"Hong Kong\", \"New Zealand\", \"South Korea\", \"Hungary\", \"Brunei\", \"Nicaragua\", \"Niger\", \"Benin\", \"Namibia\", \"Austria\", \"Luxembourg\", \"Australia\", \"Madagascar\", \"Malawi\", \"Andorra\", \"Somalia\", \"Senegal\", \"Macao\", \"Seychelles\", \"Bulgaria\", \"Yemen\", \"Slovenia\", \"Tanzania\", \"Burundi\", \"Zambia\", \"Burkina Faso\", \"Taiwan\", \"Belarus\", \"Czech Republic\", \"Japan\", \"Sweden\", \"Mozambique\", \"Norway\", \"Canada\", \"Serbia\", \"Cameroon\", \"Mongolia\", \"China\"], \"xaxis\": \"x\", \"yaxis\": \"y\"}, {\"alignmentgroup\": \"True\", \"customdata\": [[\"Iran\", 47.23, 124603.0, 7119.0, \"Cluster 0\"], [\"Laos\", 56.22, 19.0, 0.0, \"Cluster 0\"], [\"Estonia\", 41.54, 1791.0, 64.0, \"Cluster 0\"], [\"Finland\", 65.74, 6399.0, 301.0, \"Cluster 0\"], [\"Solomon Islands\", 50.41, 0.0, 0.0, \"Cluster 0\"], [\"Iceland\", 56.61, 1802.0, 10.0, \"Cluster 0\"], [\"Ghana\", 66.53, 6096.0, 31.0, \"Cluster 0\"], [\"Croatia\", 66.53, 2232.0, 96.0, \"Cluster 0\"], [\"Papua New Guinea\", 43.66, 8.0, 0.0, \"Cluster 0\"], [\"Hong Kong\", 67.85, 1055.0, 4.0, \"Cluster 0\"], [\"New Zealand\", 38.49, 1153.0, 21.0, \"Cluster 0\"], [\"South Korea\", 43.51, 11110.0, 263.0, \"Cluster 0\"], [\"Hungary\", 59.53, 3598.0, 470.0, \"Cluster 0\"], [\"Brunei\", 56.74, 141.0, 1.0, \"Cluster 0\"], [\"Nicaragua\", 11.11, 25.0, 8.0, \"Cluster 0\"], [\"Niger\", 33.33, 914.0, 55.0, \"Cluster 0\"], [\"Benin\", 48.15, 130.0, 2.0, \"Cluster 0\"], [\"Namibia\", 61.24, 712.0, 7.0, \"Cluster 0\"], [\"Austria\", 56.34, 16257.0, 632.0, \"Cluster 0\"], [\"Luxembourg\", 65.73, 3958.0, 109.0, \"Cluster 0\"], [\"Australia\", 66.14, 7068.0, 99.0, \"Cluster 0\"], [\"Madagascar\", 64.43, 326.0, 2.0, \"Cluster 0\"], [\"Malawi\", 59.26, 71.0, 3.0, \"Cluster 0\"], [\"Andorra\", 56.34, 761.0, 51.0, \"Cluster 0\"], [\"Somalia\", 59.39, 1502.0, 59.0, \"Cluster 0\"], [\"Senegal\", 62.7, 2617.0, 30.0, \"Cluster 0\"], [\"Macao\", 39.02, 45.0, 0.0, \"Cluster 0\"], [\"Seychelles\", 65.87, 11.0, 0.0, \"Cluster 0\"], [\"Bulgaria\", 63.89, 2292.0, 116.0, \"Cluster 0\"], [\"Yemen\", 54.23, 167.0, 28.0, \"Cluster 0\"], [\"Slovenia\", 61.25, 1467.0, 104.0, \"Cluster 0\"], [\"Tanzania\", 50.4, 509.0, 21.0, \"Cluster 0\"], [\"Burundi\", 22.22, 42.0, 1.0, \"Cluster 0\"], [\"Zambia\", 45.37, 772.0, 7.0, \"Cluster 0\"], [\"Burkina Faso\", 62.04, 806.0, 52.0, \"Cluster 0\"], [\"Taiwan\", 29.36, 440.0, 7.0, \"Cluster 0\"], [\"Belarus\", 15.47, 31508.0, 175.0, \"Cluster 0\"], [\"Czech Republic\", 59.65, 8647.0, 302.0, \"Cluster 0\"], [\"Japan\", 43.79, 16385.0, 771.0, \"Cluster 0\"], [\"Sweden\", 47.35, 30799.0, 3743.0, \"Cluster 0\"], [\"Mozambique\", 53.83, 146.0, 0.0, \"Cluster 0\"], [\"Norway\", 58.07, 8257.0, 233.0, \"Cluster 0\"], [\"Canada\", 67.74, 79101.0, 5912.0, \"Cluster 0\"], [\"Serbia\", 56.87, 10733.0, 234.0, \"Cluster 0\"], [\"Cameroon\", 67.85, 3529.0, 140.0, \"Cluster 0\"], [\"Mongolia\", 67.99, 140.0, 0.0, \"Cluster 0\"], [\"China\", 64.44, 84065.0, 4638.0, \"Cluster 0\"]], \"hoverlabel\": {\"namelength\": 0}, \"hovertemplate\": \"Cluster=%{customdata[4]}<br>country_name=%{customdata[0]}<br>stringency_index=%{customdata[1]}<br>confirmed_cases=%{customdata[2]}<br>deaths=%{customdata[3]}\", \"legendgroup\": \"Cluster=Cluster 0\", \"marker\": {\"color\": \"#636efa\"}, \"name\": \"Cluster=Cluster 0\", \"notched\": true, \"offsetgroup\": \"Cluster=Cluster 0\", \"showlegend\": false, \"type\": \"box\", \"x\": [\"Iran\", \"Laos\", \"Estonia\", \"Finland\", \"Solomon Islands\", \"Iceland\", \"Ghana\", \"Croatia\", \"Papua New Guinea\", \"Hong Kong\", \"New Zealand\", \"South Korea\", \"Hungary\", \"Brunei\", \"Nicaragua\", \"Niger\", \"Benin\", \"Namibia\", \"Austria\", \"Luxembourg\", \"Australia\", \"Madagascar\", \"Malawi\", \"Andorra\", \"Somalia\", \"Senegal\", \"Macao\", \"Seychelles\", \"Bulgaria\", \"Yemen\", \"Slovenia\", \"Tanzania\", \"Burundi\", \"Zambia\", \"Burkina Faso\", \"Taiwan\", \"Belarus\", \"Czech Republic\", \"Japan\", \"Sweden\", \"Mozambique\", \"Norway\", \"Canada\", \"Serbia\", \"Cameroon\", \"Mongolia\", \"China\"], \"xaxis\": \"x2\", \"yaxis\": \"y2\"}, {\"alignmentgroup\": \"True\", \"bingroup\": \"x\", \"hoverlabel\": {\"namelength\": 0}, \"hovertemplate\": \"Cluster=Cluster 1<br>country_name=%{x}<br>count=%{y}\", \"legendgroup\": \"Cluster=Cluster 1\", \"marker\": {\"color\": \"#EF553B\", \"opacity\": 0.7}, \"name\": \"Cluster=Cluster 1\", \"offsetgroup\": \"Cluster=Cluster 1\", \"orientation\": \"v\", \"showlegend\": true, \"type\": \"histogram\", \"x\": [\"Puerto Rico\", \"Russia\", \"South Africa\", \"Guyana\", \"Denmark\", \"Aruba\", \"Costa Rica\", \"Zimbabwe\", \"Colombia\", \"Sierra Leone\", \"Cape Verde\", \"Jordan\", \"Bhutan\", \"Myanmar\", \"Afghanistan\", \"Syria\", \"San Marino\", \"Sudan\", \"Palestine\", \"Paraguay\", \"Portugal\", \"Poland\", \"Panama\", \"Pakistan\", \"Malaysia\", \"Mauritius\", \"Morocco\", \"Sri Lanka\", \"Libya\", \"Suriname\", \"Liberia\", \"Kenya\", \"Kazakhstan\", \"India\", \"Guam\", \"Ethiopia\", \"Ecuador\", \"Dominica\", \"Cuba\", \"Vietnam\", \"Congo\", \"Central African Republic\", \"Bolivia\", \"Bahrain\", \"Azerbaijan\", \"Lebanon\", \"Venezuela\", \"Slovak Republic\", \"Uruguay\", \"Ireland\", \"Indonesia\", \"Honduras\", \"Guatemala\", \"Greenland\", \"Greece\", \"Gambia\", \"Georgia\", \"Gabon\", \"Egypt\", \"Algeria\", \"Dominican Republic\", \"Djibouti\", \"Germany\", \"Uzbekistan\", \"Cyprus\", \"Cote d'Ivoire\", \"Chile\", \"Switzerland\", \"Botswana\", \"Barbados\", \"Bermuda\", \"Belize\", \"Bosnia and Herzegovina\", \"Bangladesh\", \"Belgium\", \"Argentina\", \"United Arab Emirates\", \"Albania\", \"Angola\", \"Democratic Republic of Congo\", \"Israel\", \"Iraq\", \"Jamaica\", \"Ukraine\", \"Uganda\", \"Turkey\", \"Tunisia\", \"Trinidad and Tobago\", \"Thailand\", \"Chad\", \"Eswatini\", \"South Sudan\", \"El Salvador\", \"Singapore\", \"Saudi Arabia\", \"Rwanda\", \"Romania\", \"Philippines\", \"Qatar\", \"Mali\", \"Kyrgyz Republic\", \"Kuwait\", \"Lesotho\", \"Moldova\", \"Mexico\", \"Peru\", \"Kosovo\", \"Mauritania\", \"Nigeria\", \"Netherlands\", \"Nepal\", \"Oman\"], \"xaxis\": \"x\", \"yaxis\": \"y\"}, {\"alignmentgroup\": \"True\", \"customdata\": [[\"Puerto Rico\", 97.35, 2805.0, 124.0, \"Cluster 1\"], [\"Russia\", 71.71, 299941.0, 2837.0, \"Cluster 1\"], [\"South Africa\", 88.75, 17200.0, 312.0, \"Cluster 1\"], [\"Guyana\", 82.27, 125.0, 10.0, \"Cluster 1\"], [\"Denmark\", 75.52, 11044.0, 551.0, \"Cluster 1\"], [\"Aruba\", 80.82, 101.0, 3.0, \"Cluster 1\"], [\"Costa Rica\", 74.99, 882.0, 10.0, \"Cluster 1\"], [\"Zimbabwe\", 91.4, 46.0, 4.0, \"Cluster 1\"], [\"Colombia\", 90.74, 16935.0, 613.0, \"Cluster 1\"], [\"Sierra Leone\", 77.64, 534.0, 33.0, \"Cluster 1\"], [\"Cape Verde\", 82.41, 335.0, 3.0, \"Cluster 1\"], [\"Jordan\", 72.48, 649.0, 9.0, \"Cluster 1\"], [\"Bhutan\", 78.3, 21.0, 0.0, \"Cluster 1\"], [\"Myanmar\", 79.24, 193.0, 6.0, \"Cluster 1\"], [\"Afghanistan\", 76.33, 7653.0, 178.0, \"Cluster 1\"], [\"Syria\", 80.43, 58.0, 3.0, \"Cluster 1\"], [\"San Marino\", 71.42, 655.0, 41.0, \"Cluster 1\"], [\"Sudan\", 86.38, 2591.0, 105.0, \"Cluster 1\"], [\"Palestine\", 97.35, 570.0, 4.0, \"Cluster 1\"], [\"Paraguay\", 96.03, 829.0, 11.0, \"Cluster 1\"], [\"Portugal\", 76.71, 29432.0, 1247.0, \"Cluster 1\"], [\"Poland\", 88.09, 19268.0, 948.0, \"Cluster 1\"], [\"Panama\", 81.61, 9867.0, 281.0, \"Cluster 1\"], [\"Pakistan\", 82.02, 45898.0, 985.0, \"Cluster 1\"], [\"Malaysia\", 74.2, 6978.0, 114.0, \"Cluster 1\"], [\"Mauritius\", 84.78, 332.0, 10.0, \"Cluster 1\"], [\"Morocco\", 93.38, 7023.0, 193.0, \"Cluster 1\"], [\"Sri Lanka\", 82.27, 1027.0, 9.0, \"Cluster 1\"], [\"Libya\", 96.83, 68.0, 3.0, \"Cluster 1\"], [\"Suriname\", 77.12, 11.0, 1.0, \"Cluster 1\"], [\"Liberia\", 78.31, 233.0, 23.0, \"Cluster 1\"], [\"Kenya\", 94.18, 963.0, 50.0, \"Cluster 1\"], [\"Kazakhstan\", 79.37, 6969.0, 35.0, \"Cluster 1\"], [\"India\", 76.07, 106750.0, 3303.0, \"Cluster 1\"], [\"Guam\", 69.71, 154.0, 5.0, \"Cluster 1\"], [\"Ethiopia\", 76.19, 365.0, 5.0, \"Cluster 1\"], [\"Ecuador\", 85.85, 34151.0, 2839.0, \"Cluster 1\"], [\"Dominica\", 80.95, 16.0, 0.0, \"Cluster 1\"], [\"Cuba\", 100.0, 1887.0, 79.0, \"Cluster 1\"], [\"Vietnam\", 69.18, 324.0, 0.0, \"Cluster 1\"], [\"Congo\", 98.02, 420.0, 15.0, \"Cluster 1\"], [\"Central African Republic\", 69.97, 411.0, 0.0, \"Cluster 1\"], [\"Bolivia\", 97.35, 4481.0, 189.0, \"Cluster 1\"], [\"Bahrain\", 86.77, 7532.0, 12.0, \"Cluster 1\"], [\"Azerbaijan\", 86.24, 3518.0, 41.0, \"Cluster 1\"], [\"Lebanon\", 84.12, 954.0, 26.0, \"Cluster 1\"], [\"Venezuela\", 86.24, 749.0, 10.0, \"Cluster 1\"], [\"Slovak Republic\", 78.96, 1495.0, 28.0, \"Cluster 1\"], [\"Uruguay\", 71.16, 738.0, 20.0, \"Cluster 1\"], [\"Ireland\", 87.83, 24251.0, 1561.0, \"Cluster 1\"], [\"Indonesia\", 70.91, 18496.0, 1221.0, \"Cluster 1\"], [\"Honduras\", 100.0, 2955.0, 147.0, \"Cluster 1\"], [\"Guatemala\", 97.35, 2133.0, 43.0, \"Cluster 1\"], [\"Greenland\", 80.95, 11.0, 0.0, \"Cluster 1\"], [\"Greece\", 74.34, 2840.0, 165.0, \"Cluster 1\"], [\"Gambia\", 84.78, 24.0, 1.0, \"Cluster 1\"], [\"Georgia\", 94.18, 707.0, 12.0, \"Cluster 1\"], [\"Gabon\", 86.24, 1502.0, 12.0, \"Cluster 1\"], [\"Egypt\", 88.75, 13484.0, 659.0, \"Cluster 1\"], [\"Algeria\", 82.42, 7377.0, 561.0, \"Cluster 1\"], [\"Dominican Republic\", 98.02, 13223.0, 441.0, \"Cluster 1\"], [\"Djibouti\", 100.0, 1518.0, 7.0, \"Cluster 1\"], [\"Germany\", 71.44, 176007.0, 8090.0, \"Cluster 1\"], [\"Uzbekistan\", 85.19, 2880.0, 13.0, \"Cluster 1\"], [\"Cyprus\", 94.18, 918.0, 17.0, \"Cluster 1\"], [\"Cote d'Ivoire\", 70.25, 2153.0, 28.0, \"Cluster 1\"], [\"Chile\", 78.83, 49579.0, 509.0, \"Cluster 1\"], [\"Switzerland\", 71.55, 30535.0, 1613.0, \"Cluster 1\"], [\"Botswana\", 78.05, 25.0, 1.0, \"Cluster 1\"], [\"Barbados\", 71.42, 90.0, 7.0, \"Cluster 1\"], [\"Bermuda\", 80.15, 125.0, 9.0, \"Cluster 1\"], [\"Belize\", 87.04, 18.0, 2.0, \"Cluster 1\"], [\"Bosnia and Herzegovina\", 81.22, 2319.0, 133.0, \"Cluster 1\"], [\"Bangladesh\", 91.93, 25121.0, 370.0, \"Cluster 1\"], [\"Belgium\", 75.26, 55791.0, 9108.0, \"Cluster 1\"], [\"Argentina\", 91.54, 8796.0, 393.0, \"Cluster 1\"], [\"United Arab Emirates\", 77.78, 25063.0, 227.0, \"Cluster 1\"], [\"Albania\", 88.36, 949.0, 31.0, \"Cluster 1\"], [\"Angola\", 81.61, 50.0, 2.0, \"Cluster 1\"], [\"Democratic Republic of Congo\", 80.04, 1731.0, 61.0, \"Cluster 1\"], [\"Israel\", 82.93, 16650.0, 277.0, \"Cluster 1\"], [\"Iraq\", 80.42, 3611.0, 131.0, \"Cluster 1\"], [\"Jamaica\", 74.2, 520.0, 9.0, \"Cluster 1\"], [\"Ukraine\", 92.06, 18876.0, 548.0, \"Cluster 1\"], [\"Uganda\", 89.94, 260.0, 0.0, \"Cluster 1\"], [\"Turkey\", 80.42, 151615.0, 4199.0, \"Cluster 1\"], [\"Tunisia\", 87.96, 1044.0, 47.0, \"Cluster 1\"], [\"Trinidad and Tobago\", 93.38, 116.0, 8.0, \"Cluster 1\"], [\"Thailand\", 80.56, 3034.0, 56.0, \"Cluster 1\"], [\"Chad\", 86.38, 545.0, 56.0, \"Cluster 1\"], [\"Eswatini\", 84.26, 208.0, 2.0, \"Cluster 1\"], [\"South Sudan\", 94.71, 285.0, 6.0, \"Cluster 1\"], [\"El Salvador\", 100.0, 1498.0, 31.0, \"Cluster 1\"], [\"Singapore\", 85.18, 28794.0, 22.0, \"Cluster 1\"], [\"Saudi Arabia\", 87.84, 59854.0, 329.0, \"Cluster 1\"], [\"Rwanda\", 73.81, 308.0, 0.0, \"Cluster 1\"], [\"Romania\", 76.98, 17191.0, 1126.0, \"Cluster 1\"], [\"Philippines\", 94.58, 12942.0, 837.0, \"Cluster 1\"], [\"Qatar\", 90.74, 35606.0, 15.0, \"Cluster 1\"], [\"Mali\", 76.19, 901.0, 53.0, \"Cluster 1\"], [\"Kyrgyz Republic\", 78.85, 1270.0, 14.0, \"Cluster 1\"], [\"Kuwait\", 100.0, 16764.0, 121.0, \"Cluster 1\"], [\"Lesotho\", 72.87, 1.0, 0.0, \"Cluster 1\"], [\"Moldova\", 84.92, 6340.0, 221.0, \"Cluster 1\"], [\"Mexico\", 85.45, 54346.0, 5666.0, \"Cluster 1\"], [\"Peru\", 97.35, 99483.0, 2914.0, \"Cluster 1\"], [\"Kosovo\", 90.74, 989.0, 29.0, \"Cluster 1\"], [\"Mauritania\", 80.95, 81.0, 4.0, \"Cluster 1\"], [\"Nigeria\", 76.59, 6401.0, 192.0, \"Cluster 1\"], [\"Netherlands\", 76.71, 44249.0, 5715.0, \"Cluster 1\"], [\"Nepal\", 95.24, 402.0, 2.0, \"Cluster 1\"], [\"Oman\", 85.19, 5671.0, 27.0, \"Cluster 1\"]], \"hoverlabel\": {\"namelength\": 0}, \"hovertemplate\": \"Cluster=%{customdata[4]}<br>country_name=%{customdata[0]}<br>stringency_index=%{customdata[1]}<br>confirmed_cases=%{customdata[2]}<br>deaths=%{customdata[3]}\", \"legendgroup\": \"Cluster=Cluster 1\", \"marker\": {\"color\": \"#EF553B\"}, \"name\": \"Cluster=Cluster 1\", \"notched\": true, \"offsetgroup\": \"Cluster=Cluster 1\", \"showlegend\": false, \"type\": \"box\", \"x\": [\"Puerto Rico\", \"Russia\", \"South Africa\", \"Guyana\", \"Denmark\", \"Aruba\", \"Costa Rica\", \"Zimbabwe\", \"Colombia\", \"Sierra Leone\", \"Cape Verde\", \"Jordan\", \"Bhutan\", \"Myanmar\", \"Afghanistan\", \"Syria\", \"San Marino\", \"Sudan\", \"Palestine\", \"Paraguay\", \"Portugal\", \"Poland\", \"Panama\", \"Pakistan\", \"Malaysia\", \"Mauritius\", \"Morocco\", \"Sri Lanka\", \"Libya\", \"Suriname\", \"Liberia\", \"Kenya\", \"Kazakhstan\", \"India\", \"Guam\", \"Ethiopia\", \"Ecuador\", \"Dominica\", \"Cuba\", \"Vietnam\", \"Congo\", \"Central African Republic\", \"Bolivia\", \"Bahrain\", \"Azerbaijan\", \"Lebanon\", \"Venezuela\", \"Slovak Republic\", \"Uruguay\", \"Ireland\", \"Indonesia\", \"Honduras\", \"Guatemala\", \"Greenland\", \"Greece\", \"Gambia\", \"Georgia\", \"Gabon\", \"Egypt\", \"Algeria\", \"Dominican Republic\", \"Djibouti\", \"Germany\", \"Uzbekistan\", \"Cyprus\", \"Cote d'Ivoire\", \"Chile\", \"Switzerland\", \"Botswana\", \"Barbados\", \"Bermuda\", \"Belize\", \"Bosnia and Herzegovina\", \"Bangladesh\", \"Belgium\", \"Argentina\", \"United Arab Emirates\", \"Albania\", \"Angola\", \"Democratic Republic of Congo\", \"Israel\", \"Iraq\", \"Jamaica\", \"Ukraine\", \"Uganda\", \"Turkey\", \"Tunisia\", \"Trinidad and Tobago\", \"Thailand\", \"Chad\", \"Eswatini\", \"South Sudan\", \"El Salvador\", \"Singapore\", \"Saudi Arabia\", \"Rwanda\", \"Romania\", \"Philippines\", \"Qatar\", \"Mali\", \"Kyrgyz Republic\", \"Kuwait\", \"Lesotho\", \"Moldova\", \"Mexico\", \"Peru\", \"Kosovo\", \"Mauritania\", \"Nigeria\", \"Netherlands\", \"Nepal\", \"Oman\"], \"xaxis\": \"x2\", \"yaxis\": \"y2\"}, {\"alignmentgroup\": \"True\", \"bingroup\": \"x\", \"hoverlabel\": {\"namelength\": 0}, \"hovertemplate\": \"Cluster=Cluster 2<br>country_name=%{x}<br>count=%{y}\", \"legendgroup\": \"Cluster=Cluster 2\", \"marker\": {\"color\": \"#00cc96\", \"opacity\": 0.7}, \"name\": \"Cluster=Cluster 2\", \"offsetgroup\": \"Cluster=Cluster 2\", \"orientation\": \"v\", \"showlegend\": true, \"type\": \"histogram\", \"x\": [\"United States\"], \"xaxis\": \"x\", \"yaxis\": \"y\"}, {\"alignmentgroup\": \"True\", \"customdata\": [[\"United States\", 68.41, 1528568.0, 91921.0, \"Cluster 2\"]], \"hoverlabel\": {\"namelength\": 0}, \"hovertemplate\": \"Cluster=%{customdata[4]}<br>country_name=%{customdata[0]}<br>stringency_index=%{customdata[1]}<br>confirmed_cases=%{customdata[2]}<br>deaths=%{customdata[3]}\", \"legendgroup\": \"Cluster=Cluster 2\", \"marker\": {\"color\": \"#00cc96\"}, \"name\": \"Cluster=Cluster 2\", \"notched\": true, \"offsetgroup\": \"Cluster=Cluster 2\", \"showlegend\": false, \"type\": \"box\", \"x\": [\"United States\"], \"xaxis\": \"x2\", \"yaxis\": \"y2\"}, {\"alignmentgroup\": \"True\", \"bingroup\": \"x\", \"hoverlabel\": {\"namelength\": 0}, \"hovertemplate\": \"Cluster=Cluster 3<br>country_name=%{x}<br>count=%{y}\", \"legendgroup\": \"Cluster=Cluster 3\", \"marker\": {\"color\": \"#ab63fa\", \"opacity\": 0.7}, \"name\": \"Cluster=Cluster 3\", \"offsetgroup\": \"Cluster=Cluster 3\", \"orientation\": \"v\", \"showlegend\": true, \"type\": \"histogram\", \"x\": [\"Brazil\", \"United Kingdom\", \"Spain\", \"France\", \"Italy\"], \"xaxis\": \"x\", \"yaxis\": \"y\"}, {\"alignmentgroup\": \"True\", \"customdata\": [[\"Brazil\", 75.15, 271628.0, 17971.0, \"Cluster 3\"], [\"United Kingdom\", 73.01, 248818.0, 35341.0, \"Cluster 3\"], [\"Spain\", 83.07, 232555.0, 27888.0, \"Cluster 3\"], [\"France\", 83.46, 143427.0, 28022.0, \"Cluster 3\"], [\"Italy\", 68.78, 226699.0, 32169.0, \"Cluster 3\"]], \"hoverlabel\": {\"namelength\": 0}, \"hovertemplate\": \"Cluster=%{customdata[4]}<br>country_name=%{customdata[0]}<br>stringency_index=%{customdata[1]}<br>confirmed_cases=%{customdata[2]}<br>deaths=%{customdata[3]}\", \"legendgroup\": \"Cluster=Cluster 3\", \"marker\": {\"color\": \"#ab63fa\"}, \"name\": \"Cluster=Cluster 3\", \"notched\": true, \"offsetgroup\": \"Cluster=Cluster 3\", \"showlegend\": false, \"type\": \"box\", \"x\": [\"Brazil\", \"United Kingdom\", \"Spain\", \"France\", \"Italy\"], \"xaxis\": \"x2\", \"yaxis\": \"y2\"}],\n",
       "                        {\"barmode\": \"relative\", \"legend\": {\"tracegroupgap\": 0}, \"margin\": {\"t\": 60}, \"template\": {\"data\": {\"bar\": [{\"error_x\": {\"color\": \"#2a3f5f\"}, \"error_y\": {\"color\": \"#2a3f5f\"}, \"marker\": {\"line\": {\"color\": \"#E5ECF6\", \"width\": 0.5}}, \"type\": \"bar\"}], \"barpolar\": [{\"marker\": {\"line\": {\"color\": \"#E5ECF6\", \"width\": 0.5}}, \"type\": \"barpolar\"}], \"carpet\": [{\"aaxis\": {\"endlinecolor\": \"#2a3f5f\", \"gridcolor\": \"white\", \"linecolor\": \"white\", \"minorgridcolor\": \"white\", \"startlinecolor\": \"#2a3f5f\"}, \"baxis\": {\"endlinecolor\": \"#2a3f5f\", \"gridcolor\": \"white\", \"linecolor\": \"white\", \"minorgridcolor\": \"white\", \"startlinecolor\": \"#2a3f5f\"}, \"type\": \"carpet\"}], \"choropleth\": [{\"colorbar\": {\"outlinewidth\": 0, \"ticks\": \"\"}, \"type\": \"choropleth\"}], \"contour\": [{\"colorbar\": {\"outlinewidth\": 0, \"ticks\": \"\"}, \"colorscale\": [[0.0, \"#0d0887\"], [0.1111111111111111, \"#46039f\"], [0.2222222222222222, \"#7201a8\"], [0.3333333333333333, \"#9c179e\"], [0.4444444444444444, \"#bd3786\"], [0.5555555555555556, \"#d8576b\"], [0.6666666666666666, \"#ed7953\"], [0.7777777777777778, \"#fb9f3a\"], [0.8888888888888888, \"#fdca26\"], [1.0, \"#f0f921\"]], \"type\": \"contour\"}], \"contourcarpet\": [{\"colorbar\": {\"outlinewidth\": 0, \"ticks\": \"\"}, \"type\": \"contourcarpet\"}], \"heatmap\": [{\"colorbar\": {\"outlinewidth\": 0, \"ticks\": \"\"}, \"colorscale\": [[0.0, \"#0d0887\"], [0.1111111111111111, \"#46039f\"], [0.2222222222222222, \"#7201a8\"], [0.3333333333333333, \"#9c179e\"], [0.4444444444444444, \"#bd3786\"], [0.5555555555555556, \"#d8576b\"], [0.6666666666666666, \"#ed7953\"], [0.7777777777777778, \"#fb9f3a\"], [0.8888888888888888, \"#fdca26\"], [1.0, \"#f0f921\"]], \"type\": \"heatmap\"}], \"heatmapgl\": [{\"colorbar\": {\"outlinewidth\": 0, \"ticks\": \"\"}, \"colorscale\": [[0.0, \"#0d0887\"], [0.1111111111111111, \"#46039f\"], [0.2222222222222222, \"#7201a8\"], [0.3333333333333333, \"#9c179e\"], [0.4444444444444444, \"#bd3786\"], [0.5555555555555556, \"#d8576b\"], [0.6666666666666666, \"#ed7953\"], [0.7777777777777778, \"#fb9f3a\"], [0.8888888888888888, \"#fdca26\"], [1.0, \"#f0f921\"]], \"type\": \"heatmapgl\"}], \"histogram\": [{\"marker\": {\"colorbar\": {\"outlinewidth\": 0, \"ticks\": \"\"}}, \"type\": \"histogram\"}], \"histogram2d\": [{\"colorbar\": {\"outlinewidth\": 0, \"ticks\": \"\"}, \"colorscale\": [[0.0, \"#0d0887\"], [0.1111111111111111, \"#46039f\"], [0.2222222222222222, \"#7201a8\"], [0.3333333333333333, \"#9c179e\"], [0.4444444444444444, \"#bd3786\"], [0.5555555555555556, \"#d8576b\"], [0.6666666666666666, \"#ed7953\"], [0.7777777777777778, \"#fb9f3a\"], [0.8888888888888888, \"#fdca26\"], [1.0, \"#f0f921\"]], \"type\": \"histogram2d\"}], \"histogram2dcontour\": [{\"colorbar\": {\"outlinewidth\": 0, \"ticks\": \"\"}, \"colorscale\": [[0.0, \"#0d0887\"], [0.1111111111111111, \"#46039f\"], [0.2222222222222222, \"#7201a8\"], [0.3333333333333333, \"#9c179e\"], [0.4444444444444444, \"#bd3786\"], [0.5555555555555556, \"#d8576b\"], [0.6666666666666666, \"#ed7953\"], [0.7777777777777778, \"#fb9f3a\"], [0.8888888888888888, \"#fdca26\"], [1.0, \"#f0f921\"]], \"type\": \"histogram2dcontour\"}], \"mesh3d\": [{\"colorbar\": {\"outlinewidth\": 0, \"ticks\": \"\"}, \"type\": \"mesh3d\"}], \"parcoords\": [{\"line\": {\"colorbar\": {\"outlinewidth\": 0, \"ticks\": \"\"}}, \"type\": \"parcoords\"}], \"pie\": [{\"automargin\": true, \"type\": \"pie\"}], \"scatter\": [{\"marker\": {\"colorbar\": {\"outlinewidth\": 0, \"ticks\": \"\"}}, \"type\": \"scatter\"}], \"scatter3d\": [{\"line\": {\"colorbar\": {\"outlinewidth\": 0, \"ticks\": \"\"}}, \"marker\": {\"colorbar\": {\"outlinewidth\": 0, \"ticks\": \"\"}}, \"type\": \"scatter3d\"}], \"scattercarpet\": [{\"marker\": {\"colorbar\": {\"outlinewidth\": 0, \"ticks\": \"\"}}, \"type\": \"scattercarpet\"}], \"scattergeo\": [{\"marker\": {\"colorbar\": {\"outlinewidth\": 0, \"ticks\": \"\"}}, \"type\": \"scattergeo\"}], \"scattergl\": [{\"marker\": {\"colorbar\": {\"outlinewidth\": 0, \"ticks\": \"\"}}, \"type\": \"scattergl\"}], \"scattermapbox\": [{\"marker\": {\"colorbar\": {\"outlinewidth\": 0, \"ticks\": \"\"}}, \"type\": \"scattermapbox\"}], \"scatterpolar\": [{\"marker\": {\"colorbar\": {\"outlinewidth\": 0, \"ticks\": \"\"}}, \"type\": \"scatterpolar\"}], \"scatterpolargl\": [{\"marker\": {\"colorbar\": {\"outlinewidth\": 0, \"ticks\": \"\"}}, \"type\": \"scatterpolargl\"}], \"scatterternary\": [{\"marker\": {\"colorbar\": {\"outlinewidth\": 0, \"ticks\": \"\"}}, \"type\": \"scatterternary\"}], \"surface\": [{\"colorbar\": {\"outlinewidth\": 0, \"ticks\": \"\"}, \"colorscale\": [[0.0, \"#0d0887\"], [0.1111111111111111, \"#46039f\"], [0.2222222222222222, \"#7201a8\"], [0.3333333333333333, \"#9c179e\"], [0.4444444444444444, \"#bd3786\"], [0.5555555555555556, \"#d8576b\"], [0.6666666666666666, \"#ed7953\"], [0.7777777777777778, \"#fb9f3a\"], [0.8888888888888888, \"#fdca26\"], [1.0, \"#f0f921\"]], \"type\": \"surface\"}], \"table\": [{\"cells\": {\"fill\": {\"color\": \"#EBF0F8\"}, \"line\": {\"color\": \"white\"}}, \"header\": {\"fill\": {\"color\": \"#C8D4E3\"}, \"line\": {\"color\": \"white\"}}, \"type\": \"table\"}]}, \"layout\": {\"annotationdefaults\": {\"arrowcolor\": \"#2a3f5f\", \"arrowhead\": 0, \"arrowwidth\": 1}, \"coloraxis\": {\"colorbar\": {\"outlinewidth\": 0, \"ticks\": \"\"}}, \"colorscale\": {\"diverging\": [[0, \"#8e0152\"], [0.1, \"#c51b7d\"], [0.2, \"#de77ae\"], [0.3, \"#f1b6da\"], [0.4, \"#fde0ef\"], [0.5, \"#f7f7f7\"], [0.6, \"#e6f5d0\"], [0.7, \"#b8e186\"], [0.8, \"#7fbc41\"], [0.9, \"#4d9221\"], [1, \"#276419\"]], \"sequential\": [[0.0, \"#0d0887\"], [0.1111111111111111, \"#46039f\"], [0.2222222222222222, \"#7201a8\"], [0.3333333333333333, \"#9c179e\"], [0.4444444444444444, \"#bd3786\"], [0.5555555555555556, \"#d8576b\"], [0.6666666666666666, \"#ed7953\"], [0.7777777777777778, \"#fb9f3a\"], [0.8888888888888888, \"#fdca26\"], [1.0, \"#f0f921\"]], \"sequentialminus\": [[0.0, \"#0d0887\"], [0.1111111111111111, \"#46039f\"], [0.2222222222222222, \"#7201a8\"], [0.3333333333333333, \"#9c179e\"], [0.4444444444444444, \"#bd3786\"], [0.5555555555555556, \"#d8576b\"], [0.6666666666666666, \"#ed7953\"], [0.7777777777777778, \"#fb9f3a\"], [0.8888888888888888, \"#fdca26\"], [1.0, \"#f0f921\"]]}, \"colorway\": [\"#636efa\", \"#EF553B\", \"#00cc96\", \"#ab63fa\", \"#FFA15A\", \"#19d3f3\", \"#FF6692\", \"#B6E880\", \"#FF97FF\", \"#FECB52\"], \"font\": {\"color\": \"#2a3f5f\"}, \"geo\": {\"bgcolor\": \"white\", \"lakecolor\": \"white\", \"landcolor\": \"#E5ECF6\", \"showlakes\": true, \"showland\": true, \"subunitcolor\": \"white\"}, \"hoverlabel\": {\"align\": \"left\"}, \"hovermode\": \"closest\", \"mapbox\": {\"style\": \"light\"}, \"paper_bgcolor\": \"white\", \"plot_bgcolor\": \"#E5ECF6\", \"polar\": {\"angularaxis\": {\"gridcolor\": \"white\", \"linecolor\": \"white\", \"ticks\": \"\"}, \"bgcolor\": \"#E5ECF6\", \"radialaxis\": {\"gridcolor\": \"white\", \"linecolor\": \"white\", \"ticks\": \"\"}}, \"scene\": {\"xaxis\": {\"backgroundcolor\": \"#E5ECF6\", \"gridcolor\": \"white\", \"gridwidth\": 2, \"linecolor\": \"white\", \"showbackground\": true, \"ticks\": \"\", \"zerolinecolor\": \"white\"}, \"yaxis\": {\"backgroundcolor\": \"#E5ECF6\", \"gridcolor\": \"white\", \"gridwidth\": 2, \"linecolor\": \"white\", \"showbackground\": true, \"ticks\": \"\", \"zerolinecolor\": \"white\"}, \"zaxis\": {\"backgroundcolor\": \"#E5ECF6\", \"gridcolor\": \"white\", \"gridwidth\": 2, \"linecolor\": \"white\", \"showbackground\": true, \"ticks\": \"\", \"zerolinecolor\": \"white\"}}, \"shapedefaults\": {\"line\": {\"color\": \"#2a3f5f\"}}, \"ternary\": {\"aaxis\": {\"gridcolor\": \"white\", \"linecolor\": \"white\", \"ticks\": \"\"}, \"baxis\": {\"gridcolor\": \"white\", \"linecolor\": \"white\", \"ticks\": \"\"}, \"bgcolor\": \"#E5ECF6\", \"caxis\": {\"gridcolor\": \"white\", \"linecolor\": \"white\", \"ticks\": \"\"}}, \"title\": {\"x\": 0.05}, \"xaxis\": {\"automargin\": true, \"gridcolor\": \"white\", \"linecolor\": \"white\", \"ticks\": \"\", \"title\": {\"standoff\": 15}, \"zerolinecolor\": \"white\", \"zerolinewidth\": 2}, \"yaxis\": {\"automargin\": true, \"gridcolor\": \"white\", \"linecolor\": \"white\", \"ticks\": \"\", \"title\": {\"standoff\": 15}, \"zerolinecolor\": \"white\", \"zerolinewidth\": 2}}}, \"xaxis\": {\"anchor\": \"y\", \"domain\": [0.0, 1.0], \"title\": {\"text\": \"country_name\"}}, \"xaxis2\": {\"anchor\": \"y2\", \"domain\": [0.0, 1.0], \"matches\": \"x\", \"showgrid\": true, \"showticklabels\": false}, \"yaxis\": {\"anchor\": \"x\", \"domain\": [0.0, 0.7326], \"title\": {\"text\": \"count\"}}, \"yaxis2\": {\"anchor\": \"x2\", \"domain\": [0.7426, 1.0], \"matches\": \"y2\", \"showgrid\": false, \"showline\": false, \"showticklabels\": false, \"ticks\": \"\"}},\n",
       "                        {\"responsive\": true}\n",
       "                    ).then(function(){\n",
       "                            \n",
       "var gd = document.getElementById('c02d68c8-e5d2-4c2a-a7e8-4eb4793fed60');\n",
       "var x = new MutationObserver(function (mutations, observer) {{\n",
       "        var display = window.getComputedStyle(gd).display;\n",
       "        if (!display || display === 'none') {{\n",
       "            console.log([gd, 'removed!']);\n",
       "            Plotly.purge(gd);\n",
       "            observer.disconnect();\n",
       "        }}\n",
       "}});\n",
       "\n",
       "// Listen for the removal of the full notebook cells\n",
       "var notebookContainer = gd.closest('#notebook-container');\n",
       "if (notebookContainer) {{\n",
       "    x.observe(notebookContainer, {childList: true});\n",
       "}}\n",
       "\n",
       "// Listen for the clearing of the current output cell\n",
       "var outputEl = gd.closest('.output');\n",
       "if (outputEl) {{\n",
       "    x.observe(outputEl, {childList: true});\n",
       "}}\n",
       "\n",
       "                        })\n",
       "                };\n",
       "                });\n",
       "            </script>\n",
       "        </div>"
      ]
     },
     "metadata": {},
     "output_type": "display_data"
    }
   ],
   "source": [
    "plot_model(kmeans, plot = 'distribution', feature = 'country_name')"
   ]
  },
  {
   "cell_type": "code",
   "execution_count": 31,
   "metadata": {},
   "outputs": [
    {
     "name": "stdout",
     "output_type": "stream",
     "text": [
      "Help on function plot_model in module pycaret.clustering:\n",
      "\n",
      "plot_model(model, plot='cluster', feature=None, label=False)\n",
      "    Description:\n",
      "    ------------\n",
      "    This function takes a trained model object and returns a plot on the dataset \n",
      "    passed during setup stage. This function internally calls assign_model before \n",
      "    generating a plot.  \n",
      "    \n",
      "        Example:\n",
      "        --------\n",
      "        from pycaret.datasets import get_data\n",
      "        jewellery = get_data('jewellery')\n",
      "        experiment_name = setup(data = jewellery, normalize = True)\n",
      "        kmeans = create_model('kmeans')\n",
      "        \n",
      "        plot_model(kmeans)\n",
      "    \n",
      "        This will return a cluster scatter plot (by default). \n",
      "    \n",
      "    Parameters\n",
      "    ----------\n",
      "    model : object, default = none\n",
      "    A trained model object can be passed. Model must be created using create_model().\n",
      "    \n",
      "    plot : string, default = 'cluster'\n",
      "    Enter abbreviation for type of plot. The current list of plots supported are:\n",
      "    \n",
      "    Name                           Abbreviated String     \n",
      "    ---------                      ------------------     \n",
      "    Cluster PCA Plot (2d)          'cluster'              \n",
      "    Cluster TSnE (3d)              'tsne'\n",
      "    Elbow Plot                     'elbow'\n",
      "    Silhouette Plot                'silhouette'\n",
      "    Distance Plot                  'distance'\n",
      "    Distribution Plot              'distribution'\n",
      "    \n",
      "    feature : string, default = None\n",
      "    Name of feature column for x-axis of when plot = 'distribution'. When plot is\n",
      "    'cluster' or 'tsne' feature column is used as a hoverover tooltip and/or label\n",
      "    when label is set to True. If no feature name is passed in 'cluster' or 'tsne'\n",
      "    by default the first of column of dataset is chosen as hoverover tooltip.\n",
      "    \n",
      "    label : bool, default = False\n",
      "    When set to True, data labels are shown in 'cluster' and 'tsne' plot.\n",
      "    \n",
      "    Returns:\n",
      "    --------\n",
      "    \n",
      "    Visual Plot:  Prints the visual plot. \n",
      "    ------------\n",
      "    \n",
      "    Warnings:\n",
      "    ---------\n",
      "    None\n",
      "\n"
     ]
    }
   ],
   "source": [
    "help(plot_model)"
   ]
  },
  {
   "cell_type": "code",
   "execution_count": 36,
   "metadata": {},
   "outputs": [
    {
     "data": {
      "text/html": [
       "        <script type=\"text/javascript\">\n",
       "        window.PlotlyConfig = {MathJaxConfig: 'local'};\n",
       "        if (window.MathJax) {MathJax.Hub.Config({SVG: {font: \"STIX-Web\"}});}\n",
       "        if (typeof require !== 'undefined') {\n",
       "        require.undef(\"plotly\");\n",
       "        requirejs.config({\n",
       "            paths: {\n",
       "                'plotly': ['https://cdn.plot.ly/plotly-latest.min']\n",
       "            }\n",
       "        });\n",
       "        require(['plotly'], function(Plotly) {\n",
       "            window._Plotly = Plotly;\n",
       "        });\n",
       "        }\n",
       "        </script>\n",
       "        "
      ]
     },
     "metadata": {},
     "output_type": "display_data"
    },
    {
     "data": {
      "application/vnd.plotly.v1+json": {
       "config": {
        "plotlyServerURL": "https://plot.ly"
       },
       "data": [
        {
         "hoverlabel": {
          "namelength": 0
         },
         "hovertemplate": "Cluster=Cluster 0<br>0=%{x}<br>1=%{y}<br>2=%{z}<br>Label=%{text}",
         "legendgroup": "Cluster=Cluster 0",
         "marker": {
          "color": "#636efa",
          "opacity": 0.7,
          "symbol": "circle"
         },
         "mode": "markers+text",
         "name": "Cluster=Cluster 0",
         "scene": "scene",
         "showlegend": true,
         "text": [
          79.24,
          65.87,
          63.89,
          81.61,
          88.36,
          77.78,
          91.54,
          22.22,
          75.26,
          62.04,
          91.93,
          81.22,
          15.47,
          87.04,
          80.15,
          71.42,
          78.05,
          67.74,
          71.55,
          78.83,
          64.44,
          70.25,
          67.85,
          80.04,
          94.18,
          59.65,
          71.44,
          100,
          98.02,
          82.42,
          88.75,
          41.54,
          65.74,
          83.46,
          86.24,
          94.18,
          66.53,
          84.78,
          74.34,
          80.95,
          97.35,
          67.85,
          100,
          59.53,
          70.91,
          87.83,
          47.23
         ],
         "type": "scatter3d",
         "x": [
          -33.0287971496582,
          102.83720397949219,
          137.82337951660156,
          7.568247318267822,
          49.797943115234375,
          86.21956634521484,
          122.22943115234375,
          51.20020294189453,
          83.77760314941406,
          13.271181106567383,
          133.86141967773438,
          136.28045654296875,
          37.30509948730469,
          85.67609405517578,
          184.40286254882812,
          157.60894775390625,
          112.58213806152344,
          -95.43986511230469,
          80.53278350830078,
          0.998307466506958,
          91.77130889892578,
          33.149131774902344,
          11.480031967163086,
          48.49979782104492,
          77.86936950683594,
          30.935935974121094,
          117.64513397216797,
          78.693603515625,
          35.23276138305664,
          90.03414154052734,
          49.52411651611328,
          75.8445053100586,
          191.8829345703125,
          138.18365478515625,
          8.219476699829102,
          156.52581787109375,
          189.52195739746094,
          -47.395240783691406,
          123.59559631347656,
          33.31060791015625,
          47.06755065917969,
          54.69718933105469,
          -42.71314239501953,
          78.4739761352539,
          -13.212132453918457,
          23.361722946166992,
          69.66305541992188
         ],
         "y": [
          -21.36244010925293,
          -34.758602142333984,
          18.328981399536133,
          -88.51058959960938,
          -113.36845397949219,
          -65.39033508300781,
          6.040759563446045,
          -43.777408599853516,
          -142.66319274902344,
          -119.3677749633789,
          -41.36764907836914,
          -80.29228973388672,
          -65.86581420898438,
          -89.62466430664062,
          -50.00559997558594,
          -4.856618881225586,
          28.115100860595703,
          -118.58839416503906,
          -25.50982666015625,
          -128.10105895996094,
          -39.050235748291016,
          -78.35232543945312,
          -45.58726119995117,
          -82.52542877197266,
          -76.2100601196289,
          -14.590986251831055,
          -6.618475914001465,
          12.233782768249512,
          -83.01475524902344,
          -102.47059631347656,
          -48.99834060668945,
          38.61623001098633,
          -7.4784650802612305,
          -71.08309173583984,
          -45.73564910888672,
          -20.394512176513672,
          -36.80691146850586,
          -145.86717224121094,
          -43.12161636352539,
          -153.3529052734375,
          -98.86595916748047,
          -33.9888801574707,
          129.82684326171875,
          -64.82474517822266,
          -87.05229949951172,
          -0.21795772016048431,
          52.681373596191406
         ],
         "z": [
          160.80178833007812,
          16.295757293701172,
          54.66069030761719,
          66.14137268066406,
          11.108824729919434,
          50.77739334106445,
          -2.938662528991699,
          114.43560791015625,
          1.2936313152313232,
          116.93717193603516,
          102.71614837646484,
          74.09393310546875,
          3.123453378677368,
          -13.74023723602295,
          74.47378540039062,
          96.55428314208984,
          105.82408142089844,
          -0.6155819296836853,
          52.72390365600586,
          73.93474578857422,
          -32.583656311035156,
          136.65444946289062,
          69.24893188476562,
          40.56947326660156,
          88.70748138427734,
          49.66627883911133,
          81.4611587524414,
          30.15765953063965,
          94.36886596679688,
          32.66547775268555,
          67.98733520507812,
          131.15411376953125,
          68.58819580078125,
          29.183868408203125,
          113.2936782836914,
          54.70429992675781,
          36.07175827026367,
          16.389423370361328,
          60.91776657104492,
          19.763704299926758,
          -29.733036041259766,
          20.58880043029785,
          -142.35658264160156,
          13.58763599395752,
          111.14010620117188,
          126.1823959350586,
          5.023766994476318
         ]
        },
        {
         "hoverlabel": {
          "namelength": 0
         },
         "hovertemplate": "Cluster=Cluster 1<br>0=%{x}<br>1=%{y}<br>2=%{z}<br>Label=%{text}",
         "legendgroup": "Cluster=Cluster 1",
         "marker": {
          "color": "#EF553B",
          "opacity": 0.7,
          "symbol": "circle"
         },
         "mode": "markers+text",
         "name": "Cluster=Cluster 1",
         "scene": "scene",
         "showlegend": true,
         "text": [
          80.42,
          82.93,
          68.78,
          74.2,
          78.85,
          100,
          72.87,
          null,
          65.73,
          84.92,
          64.43,
          85.45,
          76.19,
          53.83,
          80.95,
          59.26,
          61.24,
          33.33,
          76.59,
          11.11,
          76.71,
          95.24,
          85.19,
          97.35,
          94.58,
          43.66,
          90.74,
          76.98,
          73.81,
          87.84,
          62.7,
          85.18,
          100,
          59.39,
          56.87,
          94.71,
          78.96,
          47.35,
          84.26,
          86.38,
          80.56,
          93.38,
          87.96,
          80.42,
          50.4,
          89.94,
          92.06,
          71.16,
          85.19,
          86.24,
          69.18,
          54.23,
          88.75,
          45.37,
          91.4,
          29.36,
          78.3,
          43.79,
          75.15,
          90.74,
          82.27,
          97.35,
          71.71,
          50.41,
          80.82,
          82.41,
          72.48,
          38.49,
          77.64,
          56.34,
          56.74,
          74.99,
          75.52,
          43.51,
          77.12,
          76.33,
          66.14,
          56.34,
          86.24,
          48.15,
          86.77,
          97.35,
          69.97,
          98.02,
          100,
          80.95,
          85.85,
          83.07,
          76.19,
          73.01,
          69.71,
          66.53,
          76.07,
          56.61,
          79.37,
          94.18,
          56.22,
          84.12,
          78.31,
          96.83,
          82.27,
          39.02,
          93.38,
          67.99,
          84.78,
          74.2,
          58.07,
          82.02,
          81.61,
          88.09,
          76.71,
          96.03
         ],
         "type": "scatter3d",
         "x": [
          -123.41387176513672,
          91.50811004638672,
          -67.29522705078125,
          2.861201047897339,
          -13.797402381896973,
          47.98014831542969,
          -47.96389389038086,
          -133.30194091796875,
          -92.50469207763672,
          129.75466918945312,
          -0.29481950402259827,
          -48.89994430541992,
          -98.6111831665039,
          -112.68209075927734,
          -67.47675323486328,
          102.31999969482422,
          66.56338500976562,
          2.667548656463623,
          -45.82728958129883,
          -101.35690307617188,
          10.218984603881836,
          -39.98203659057617,
          24.212738037109375,
          32.223060607910156,
          -11.978960990905762,
          -41.67869567871094,
          -107.51205444335938,
          -22.06855010986328,
          -70.51518249511719,
          -57.9847526550293,
          -81.48133850097656,
          -66.93190002441406,
          -57.62434005737305,
          71.02411651611328,
          59.1884651184082,
          -14.287239074707031,
          -98.0400390625,
          102.16638946533203,
          71.5233383178711,
          4.098148822784424,
          -89.21492004394531,
          141.48526000976562,
          -13.981947898864746,
          -11.226844787597656,
          -36.527565002441406,
          0.9296419024467468,
          18.38232421875,
          -37.06187438964844,
          -44.03754806518555,
          -109.76194763183594,
          -84.21441650390625,
          -56.42201614379883,
          -33.34177017211914,
          56.464080810546875,
          -34.315555572509766,
          -2.2612295150756836,
          -17.612712860107422,
          -32.380615234375,
          -54.84199142456055,
          -40.584686279296875,
          -89.10868072509766,
          -131.25595092773438,
          105.19094848632812,
          -60.64780807495117,
          -97.04136657714844,
          41.70427322387695,
          36.312808990478516,
          41.98036575317383,
          -97.47001647949219,
          77.71223449707031,
          -65.14002990722656,
          -29.547548294067383,
          5.404537677764893,
          -76.45349884033203,
          80.31322479248047,
          -94.2136001586914,
          -23.435091018676758,
          9.256692886352539,
          20.28888702392578,
          96.4542465209961,
          -66.24362182617188,
          -56.75459289550781,
          -76.68356323242188,
          -115.03511047363281,
          -91.04673767089844,
          98.50130462646484,
          -29.208248138427734,
          -123.46588897705078,
          -38.685543060302734,
          -107.12078094482422,
          12.38165283203125,
          -47.2213134765625,
          -114.99633026123047,
          8.216299057006836,
          31.5458984375,
          -50.916648864746094,
          -83.36174774169922,
          -75.84249877929688,
          -84.06967163085938,
          -54.295780181884766,
          -71.00396728515625,
          -91.21216583251953,
          -24.90481948852539,
          1.3132045269012451,
          59.66954040527344,
          8.3306884765625,
          -33.07789993286133,
          -17.459794998168945,
          -39.285179138183594,
          -96.5571060180664,
          -46.556819915771484,
          -15.68274974822998
         ],
         "y": [
          -0.6863070726394653,
          91.36148834228516,
          63.12803268432617,
          98.73516845703125,
          -34.52724075317383,
          108.26896667480469,
          -34.4364128112793,
          69.4522476196289,
          41.12687683105469,
          -112.83653259277344,
          40.97524642944336,
          -100.16287231445312,
          17.909656524658203,
          -4.8186259269714355,
          164.5304718017578,
          -18.576522827148438,
          -17.47063446044922,
          145.49826049804688,
          7.746726989746094,
          -134.23196411132812,
          -5.239068984985352,
          45.538429260253906,
          72.83036041259766,
          22.434059143066406,
          -101.04822540283203,
          121.53749084472656,
          74.04593658447266,
          71.83073425292969,
          25.87491226196289,
          -24.253639221191406,
          -3.5192527770996094,
          71.75608825683594,
          34.614532470703125,
          62.97032165527344,
          -2.4033567905426025,
          -61.39051818847656,
          -56.75043487548828,
          -154.3433074951172,
          -94.20122528076172,
          3.323855400085449,
          -29.070903778076172,
          -38.48775100708008,
          59.17527770996094,
          80.55005645751953,
          88.76041412353516,
          137.05824279785156,
          110.32134246826172,
          8.396885871887207,
          -54.16788101196289,
          61.86968231201172,
          -72.82767486572266,
          51.45058822631836,
          49.413394927978516,
          -149.6210174560547,
          -65.53327941894531,
          104.86583709716797,
          15.686646461486816,
          148.75961303710938,
          82.88197326660156,
          107.36058044433594,
          0.7402254939079285,
          -14.693325996398926,
          55.71377182006836,
          -104.31400299072266,
          82.84195709228516,
          27.20606231689453,
          46.76978302001953,
          -21.844066619873047,
          -30.103404998779297,
          51.40491485595703,
          -11.23338508605957,
          117.28642272949219,
          -44.53911209106445,
          105.80917358398438,
          13.635384559631348,
          74.96220397949219,
          11.547811508178711,
          110.20386505126953,
          -37.626914978027344,
          -127.51409149169922,
          86.55750274658203,
          42.50598907470703,
          -76.56729888916016,
          109.7632064819336,
          98.52416229248047,
          46.796958923339844,
          106.00020599365234,
          41.022953033447266,
          -45.2140007019043,
          85.70411682128906,
          1.0285755395889282,
          -14.736705780029297,
          20.51140785217285,
          55.612483978271484,
          82.5551986694336,
          -95.14701080322266,
          -51.97747039794922,
          42.88534927368164,
          135.34909057617188,
          -60.45078659057617,
          1.7420077323913574,
          -2.1974687576293945,
          -99.93663787841797,
          68.44674682617188,
          22.997159957885742,
          120.89407348632812,
          -61.11095428466797,
          -4.164945125579834,
          -30.2033634185791,
          15.016183853149414,
          10.772551536560059,
          145.85606384277344
         ],
         "z": [
          -71.52198791503906,
          -31.823740005493164,
          -20.844152450561523,
          75.58128356933594,
          27.084806442260742,
          57.437705993652344,
          69.41403198242188,
          -51.80561828613281,
          -46.167720794677734,
          -21.855588912963867,
          34.609588623046875,
          71.15320587158203,
          28.416902542114258,
          -8.4443359375,
          25.755008697509766,
          -91.19202423095703,
          148.43605041503906,
          -38.9840202331543,
          -167.01499938964844,
          60.17144775390625,
          -0.820582926273346,
          -45.746070861816406,
          44.17326354980469,
          -53.86350631713867,
          -21.981754302978516,
          20.38800811767578,
          -106.26639556884766,
          51.371368408203125,
          -132.92343139648438,
          29.316436767578125,
          57.957096099853516,
          -123.31442260742188,
          20.77364158630371,
          -65.73013305664062,
          99.07200622558594,
          -4.940606117248535,
          -73.66944885253906,
          55.474849700927734,
          -103.29034423828125,
          88.28402709960938,
          -130.34693908691406,
          -30.465625762939453,
          -148.76295471191406,
          -40.78330993652344,
          -5.362737655639648,
          39.96722412109375,
          -19.571182250976562,
          45.857723236083984,
          110.3546371459961,
          -5.05153751373291,
          97.34565734863281,
          -168.5994415283203,
          -110.22267150878906,
          76.68952178955078,
          49.471195220947266,
          15.94247817993164,
          -131.98446655273438,
          -60.367610931396484,
          -52.89512634277344,
          70.6671371459961,
          -99.618408203125,
          -116.05787658691406,
          -34.516845703125,
          -74.56402587890625,
          94.89106750488281,
          77.34986877441406,
          -29.499235153198242,
          -28.028385162353516,
          24.38886260986328,
          60.57740783691406,
          -42.04088592529297,
          -32.30964660644531,
          -61.42588424682617,
          -88.5263671875,
          -37.45866394042969,
          -65.75047302246094,
          -1.106688141822815,
          -63.91122055053711,
          -119.84837341308594,
          97.85453033447266,
          41.158729553222656,
          67.20732879638672,
          44.448184967041016,
          -72.69721221923828,
          -26.421600341796875,
          -71.83771514892578,
          -75.58548736572266,
          -88.8054428100586,
          -58.37998580932617,
          -154.25901794433594,
          -89.19266510009766,
          -127.31522369384766,
          -137.6363525390625,
          -72.28966522216797,
          -103.46539306640625,
          -8.269042015075684,
          -17.03567123413086,
          -91.52240753173828,
          -46.68777847290039,
          13.797155380249023,
          -1.0467324256896973,
          -166.87164306640625,
          27.79916000366211,
          -3.2728631496429443,
          -110.56775665283203,
          -121.98043060302734,
          -116.35259246826172,
          -46.808963775634766,
          -7.1883745193481445,
          109.20612335205078,
          -94.45237731933594,
          -2.0902655124664307
         ]
        },
        {
         "hoverlabel": {
          "namelength": 0
         },
         "hovertemplate": "Cluster=Cluster 2<br>0=%{x}<br>1=%{y}<br>2=%{z}<br>Label=%{text}",
         "legendgroup": "Cluster=Cluster 2",
         "marker": {
          "color": "#00cc96",
          "opacity": 0.7,
          "symbol": "circle"
         },
         "mode": "markers+text",
         "name": "Cluster=Cluster 2",
         "scene": "scene",
         "showlegend": true,
         "text": [
          97.35
         ],
         "type": "scatter3d",
         "x": [
          126.08588409423828
         ],
         "y": [
          84.57623291015625
         ],
         "z": [
          17.812301635742188
         ]
        },
        {
         "hoverlabel": {
          "namelength": 0
         },
         "hovertemplate": "Cluster=Cluster 3<br>0=%{x}<br>1=%{y}<br>2=%{z}<br>Label=%{text}",
         "legendgroup": "Cluster=Cluster 3",
         "marker": {
          "color": "#ab63fa",
          "opacity": 0.7,
          "symbol": "circle"
         },
         "mode": "markers+text",
         "name": "Cluster=Cluster 3",
         "scene": "scene",
         "showlegend": true,
         "text": [
          86.38,
          71.42,
          61.25,
          80.43,
          68.41
         ],
         "type": "scatter3d",
         "x": [
          -144.0887451171875,
          -36.45142364501953,
          -149.8162078857422,
          -8.11343765258789,
          57.331382751464844
         ],
         "y": [
          -13.57078742980957,
          34.14955520629883,
          -41.79587173461914,
          60.41716003417969,
          -44.60415267944336
         ],
         "z": [
          66.56562042236328,
          126.59561920166016,
          40.57941436767578,
          121.48432922363281,
          -79.74867248535156
         ]
        }
       ],
       "layout": {
        "height": 800,
        "legend": {
         "tracegroupgap": 0
        },
        "scene": {
         "domain": {
          "x": [
           0,
           1
          ],
          "y": [
           0,
           1
          ]
         },
         "xaxis": {
          "title": {
           "text": "0"
          }
         },
         "yaxis": {
          "title": {
           "text": "1"
          }
         },
         "zaxis": {
          "title": {
           "text": "2"
          }
         }
        },
        "template": {
         "data": {
          "bar": [
           {
            "error_x": {
             "color": "#2a3f5f"
            },
            "error_y": {
             "color": "#2a3f5f"
            },
            "marker": {
             "line": {
              "color": "#E5ECF6",
              "width": 0.5
             }
            },
            "type": "bar"
           }
          ],
          "barpolar": [
           {
            "marker": {
             "line": {
              "color": "#E5ECF6",
              "width": 0.5
             }
            },
            "type": "barpolar"
           }
          ],
          "carpet": [
           {
            "aaxis": {
             "endlinecolor": "#2a3f5f",
             "gridcolor": "white",
             "linecolor": "white",
             "minorgridcolor": "white",
             "startlinecolor": "#2a3f5f"
            },
            "baxis": {
             "endlinecolor": "#2a3f5f",
             "gridcolor": "white",
             "linecolor": "white",
             "minorgridcolor": "white",
             "startlinecolor": "#2a3f5f"
            },
            "type": "carpet"
           }
          ],
          "choropleth": [
           {
            "colorbar": {
             "outlinewidth": 0,
             "ticks": ""
            },
            "type": "choropleth"
           }
          ],
          "contour": [
           {
            "colorbar": {
             "outlinewidth": 0,
             "ticks": ""
            },
            "colorscale": [
             [
              0,
              "#0d0887"
             ],
             [
              0.1111111111111111,
              "#46039f"
             ],
             [
              0.2222222222222222,
              "#7201a8"
             ],
             [
              0.3333333333333333,
              "#9c179e"
             ],
             [
              0.4444444444444444,
              "#bd3786"
             ],
             [
              0.5555555555555556,
              "#d8576b"
             ],
             [
              0.6666666666666666,
              "#ed7953"
             ],
             [
              0.7777777777777778,
              "#fb9f3a"
             ],
             [
              0.8888888888888888,
              "#fdca26"
             ],
             [
              1,
              "#f0f921"
             ]
            ],
            "type": "contour"
           }
          ],
          "contourcarpet": [
           {
            "colorbar": {
             "outlinewidth": 0,
             "ticks": ""
            },
            "type": "contourcarpet"
           }
          ],
          "heatmap": [
           {
            "colorbar": {
             "outlinewidth": 0,
             "ticks": ""
            },
            "colorscale": [
             [
              0,
              "#0d0887"
             ],
             [
              0.1111111111111111,
              "#46039f"
             ],
             [
              0.2222222222222222,
              "#7201a8"
             ],
             [
              0.3333333333333333,
              "#9c179e"
             ],
             [
              0.4444444444444444,
              "#bd3786"
             ],
             [
              0.5555555555555556,
              "#d8576b"
             ],
             [
              0.6666666666666666,
              "#ed7953"
             ],
             [
              0.7777777777777778,
              "#fb9f3a"
             ],
             [
              0.8888888888888888,
              "#fdca26"
             ],
             [
              1,
              "#f0f921"
             ]
            ],
            "type": "heatmap"
           }
          ],
          "heatmapgl": [
           {
            "colorbar": {
             "outlinewidth": 0,
             "ticks": ""
            },
            "colorscale": [
             [
              0,
              "#0d0887"
             ],
             [
              0.1111111111111111,
              "#46039f"
             ],
             [
              0.2222222222222222,
              "#7201a8"
             ],
             [
              0.3333333333333333,
              "#9c179e"
             ],
             [
              0.4444444444444444,
              "#bd3786"
             ],
             [
              0.5555555555555556,
              "#d8576b"
             ],
             [
              0.6666666666666666,
              "#ed7953"
             ],
             [
              0.7777777777777778,
              "#fb9f3a"
             ],
             [
              0.8888888888888888,
              "#fdca26"
             ],
             [
              1,
              "#f0f921"
             ]
            ],
            "type": "heatmapgl"
           }
          ],
          "histogram": [
           {
            "marker": {
             "colorbar": {
              "outlinewidth": 0,
              "ticks": ""
             }
            },
            "type": "histogram"
           }
          ],
          "histogram2d": [
           {
            "colorbar": {
             "outlinewidth": 0,
             "ticks": ""
            },
            "colorscale": [
             [
              0,
              "#0d0887"
             ],
             [
              0.1111111111111111,
              "#46039f"
             ],
             [
              0.2222222222222222,
              "#7201a8"
             ],
             [
              0.3333333333333333,
              "#9c179e"
             ],
             [
              0.4444444444444444,
              "#bd3786"
             ],
             [
              0.5555555555555556,
              "#d8576b"
             ],
             [
              0.6666666666666666,
              "#ed7953"
             ],
             [
              0.7777777777777778,
              "#fb9f3a"
             ],
             [
              0.8888888888888888,
              "#fdca26"
             ],
             [
              1,
              "#f0f921"
             ]
            ],
            "type": "histogram2d"
           }
          ],
          "histogram2dcontour": [
           {
            "colorbar": {
             "outlinewidth": 0,
             "ticks": ""
            },
            "colorscale": [
             [
              0,
              "#0d0887"
             ],
             [
              0.1111111111111111,
              "#46039f"
             ],
             [
              0.2222222222222222,
              "#7201a8"
             ],
             [
              0.3333333333333333,
              "#9c179e"
             ],
             [
              0.4444444444444444,
              "#bd3786"
             ],
             [
              0.5555555555555556,
              "#d8576b"
             ],
             [
              0.6666666666666666,
              "#ed7953"
             ],
             [
              0.7777777777777778,
              "#fb9f3a"
             ],
             [
              0.8888888888888888,
              "#fdca26"
             ],
             [
              1,
              "#f0f921"
             ]
            ],
            "type": "histogram2dcontour"
           }
          ],
          "mesh3d": [
           {
            "colorbar": {
             "outlinewidth": 0,
             "ticks": ""
            },
            "type": "mesh3d"
           }
          ],
          "parcoords": [
           {
            "line": {
             "colorbar": {
              "outlinewidth": 0,
              "ticks": ""
             }
            },
            "type": "parcoords"
           }
          ],
          "pie": [
           {
            "automargin": true,
            "type": "pie"
           }
          ],
          "scatter": [
           {
            "marker": {
             "colorbar": {
              "outlinewidth": 0,
              "ticks": ""
             }
            },
            "type": "scatter"
           }
          ],
          "scatter3d": [
           {
            "line": {
             "colorbar": {
              "outlinewidth": 0,
              "ticks": ""
             }
            },
            "marker": {
             "colorbar": {
              "outlinewidth": 0,
              "ticks": ""
             }
            },
            "type": "scatter3d"
           }
          ],
          "scattercarpet": [
           {
            "marker": {
             "colorbar": {
              "outlinewidth": 0,
              "ticks": ""
             }
            },
            "type": "scattercarpet"
           }
          ],
          "scattergeo": [
           {
            "marker": {
             "colorbar": {
              "outlinewidth": 0,
              "ticks": ""
             }
            },
            "type": "scattergeo"
           }
          ],
          "scattergl": [
           {
            "marker": {
             "colorbar": {
              "outlinewidth": 0,
              "ticks": ""
             }
            },
            "type": "scattergl"
           }
          ],
          "scattermapbox": [
           {
            "marker": {
             "colorbar": {
              "outlinewidth": 0,
              "ticks": ""
             }
            },
            "type": "scattermapbox"
           }
          ],
          "scatterpolar": [
           {
            "marker": {
             "colorbar": {
              "outlinewidth": 0,
              "ticks": ""
             }
            },
            "type": "scatterpolar"
           }
          ],
          "scatterpolargl": [
           {
            "marker": {
             "colorbar": {
              "outlinewidth": 0,
              "ticks": ""
             }
            },
            "type": "scatterpolargl"
           }
          ],
          "scatterternary": [
           {
            "marker": {
             "colorbar": {
              "outlinewidth": 0,
              "ticks": ""
             }
            },
            "type": "scatterternary"
           }
          ],
          "surface": [
           {
            "colorbar": {
             "outlinewidth": 0,
             "ticks": ""
            },
            "colorscale": [
             [
              0,
              "#0d0887"
             ],
             [
              0.1111111111111111,
              "#46039f"
             ],
             [
              0.2222222222222222,
              "#7201a8"
             ],
             [
              0.3333333333333333,
              "#9c179e"
             ],
             [
              0.4444444444444444,
              "#bd3786"
             ],
             [
              0.5555555555555556,
              "#d8576b"
             ],
             [
              0.6666666666666666,
              "#ed7953"
             ],
             [
              0.7777777777777778,
              "#fb9f3a"
             ],
             [
              0.8888888888888888,
              "#fdca26"
             ],
             [
              1,
              "#f0f921"
             ]
            ],
            "type": "surface"
           }
          ],
          "table": [
           {
            "cells": {
             "fill": {
              "color": "#EBF0F8"
             },
             "line": {
              "color": "white"
             }
            },
            "header": {
             "fill": {
              "color": "#C8D4E3"
             },
             "line": {
              "color": "white"
             }
            },
            "type": "table"
           }
          ]
         },
         "layout": {
          "annotationdefaults": {
           "arrowcolor": "#2a3f5f",
           "arrowhead": 0,
           "arrowwidth": 1
          },
          "coloraxis": {
           "colorbar": {
            "outlinewidth": 0,
            "ticks": ""
           }
          },
          "colorscale": {
           "diverging": [
            [
             0,
             "#8e0152"
            ],
            [
             0.1,
             "#c51b7d"
            ],
            [
             0.2,
             "#de77ae"
            ],
            [
             0.3,
             "#f1b6da"
            ],
            [
             0.4,
             "#fde0ef"
            ],
            [
             0.5,
             "#f7f7f7"
            ],
            [
             0.6,
             "#e6f5d0"
            ],
            [
             0.7,
             "#b8e186"
            ],
            [
             0.8,
             "#7fbc41"
            ],
            [
             0.9,
             "#4d9221"
            ],
            [
             1,
             "#276419"
            ]
           ],
           "sequential": [
            [
             0,
             "#0d0887"
            ],
            [
             0.1111111111111111,
             "#46039f"
            ],
            [
             0.2222222222222222,
             "#7201a8"
            ],
            [
             0.3333333333333333,
             "#9c179e"
            ],
            [
             0.4444444444444444,
             "#bd3786"
            ],
            [
             0.5555555555555556,
             "#d8576b"
            ],
            [
             0.6666666666666666,
             "#ed7953"
            ],
            [
             0.7777777777777778,
             "#fb9f3a"
            ],
            [
             0.8888888888888888,
             "#fdca26"
            ],
            [
             1,
             "#f0f921"
            ]
           ],
           "sequentialminus": [
            [
             0,
             "#0d0887"
            ],
            [
             0.1111111111111111,
             "#46039f"
            ],
            [
             0.2222222222222222,
             "#7201a8"
            ],
            [
             0.3333333333333333,
             "#9c179e"
            ],
            [
             0.4444444444444444,
             "#bd3786"
            ],
            [
             0.5555555555555556,
             "#d8576b"
            ],
            [
             0.6666666666666666,
             "#ed7953"
            ],
            [
             0.7777777777777778,
             "#fb9f3a"
            ],
            [
             0.8888888888888888,
             "#fdca26"
            ],
            [
             1,
             "#f0f921"
            ]
           ]
          },
          "colorway": [
           "#636efa",
           "#EF553B",
           "#00cc96",
           "#ab63fa",
           "#FFA15A",
           "#19d3f3",
           "#FF6692",
           "#B6E880",
           "#FF97FF",
           "#FECB52"
          ],
          "font": {
           "color": "#2a3f5f"
          },
          "geo": {
           "bgcolor": "white",
           "lakecolor": "white",
           "landcolor": "#E5ECF6",
           "showlakes": true,
           "showland": true,
           "subunitcolor": "white"
          },
          "hoverlabel": {
           "align": "left"
          },
          "hovermode": "closest",
          "mapbox": {
           "style": "light"
          },
          "paper_bgcolor": "white",
          "plot_bgcolor": "#E5ECF6",
          "polar": {
           "angularaxis": {
            "gridcolor": "white",
            "linecolor": "white",
            "ticks": ""
           },
           "bgcolor": "#E5ECF6",
           "radialaxis": {
            "gridcolor": "white",
            "linecolor": "white",
            "ticks": ""
           }
          },
          "scene": {
           "xaxis": {
            "backgroundcolor": "#E5ECF6",
            "gridcolor": "white",
            "gridwidth": 2,
            "linecolor": "white",
            "showbackground": true,
            "ticks": "",
            "zerolinecolor": "white"
           },
           "yaxis": {
            "backgroundcolor": "#E5ECF6",
            "gridcolor": "white",
            "gridwidth": 2,
            "linecolor": "white",
            "showbackground": true,
            "ticks": "",
            "zerolinecolor": "white"
           },
           "zaxis": {
            "backgroundcolor": "#E5ECF6",
            "gridcolor": "white",
            "gridwidth": 2,
            "linecolor": "white",
            "showbackground": true,
            "ticks": "",
            "zerolinecolor": "white"
           }
          },
          "shapedefaults": {
           "line": {
            "color": "#2a3f5f"
           }
          },
          "ternary": {
           "aaxis": {
            "gridcolor": "white",
            "linecolor": "white",
            "ticks": ""
           },
           "baxis": {
            "gridcolor": "white",
            "linecolor": "white",
            "ticks": ""
           },
           "bgcolor": "#E5ECF6",
           "caxis": {
            "gridcolor": "white",
            "linecolor": "white",
            "ticks": ""
           }
          },
          "title": {
           "x": 0.05
          },
          "xaxis": {
           "automargin": true,
           "gridcolor": "white",
           "linecolor": "white",
           "ticks": "",
           "title": {
            "standoff": 15
           },
           "zerolinecolor": "white",
           "zerolinewidth": 2
          },
          "yaxis": {
           "automargin": true,
           "gridcolor": "white",
           "linecolor": "white",
           "ticks": "",
           "title": {
            "standoff": 15
           },
           "zerolinecolor": "white",
           "zerolinewidth": 2
          }
         }
        },
        "title": {
         "text": "3d TSNE Plot for Clusters"
        },
        "width": 900
       }
      },
      "text/html": [
       "<div>\n",
       "        \n",
       "        \n",
       "            <div id=\"758a4f03-b578-4ae6-92d6-9847b689f3cc\" class=\"plotly-graph-div\" style=\"height:800px; width:900px;\"></div>\n",
       "            <script type=\"text/javascript\">\n",
       "                require([\"plotly\"], function(Plotly) {\n",
       "                    window.PLOTLYENV=window.PLOTLYENV || {};\n",
       "                    \n",
       "                if (document.getElementById(\"758a4f03-b578-4ae6-92d6-9847b689f3cc\")) {\n",
       "                    Plotly.newPlot(\n",
       "                        '758a4f03-b578-4ae6-92d6-9847b689f3cc',\n",
       "                        [{\"hoverlabel\": {\"namelength\": 0}, \"hovertemplate\": \"Cluster=Cluster 0<br>0=%{x}<br>1=%{y}<br>2=%{z}<br>Label=%{text}\", \"legendgroup\": \"Cluster=Cluster 0\", \"marker\": {\"color\": \"#636efa\", \"opacity\": 0.7, \"symbol\": \"circle\"}, \"mode\": \"markers+text\", \"name\": \"Cluster=Cluster 0\", \"scene\": \"scene\", \"showlegend\": true, \"text\": [79.24, 65.87, 63.89, 81.61, 88.36, 77.78, 91.54, 22.22, 75.26, 62.04, 91.93, 81.22, 15.47, 87.04, 80.15, 71.42, 78.05, 67.74, 71.55, 78.83, 64.44, 70.25, 67.85, 80.04, 94.18, 59.65, 71.44, 100.0, 98.02, 82.42, 88.75, 41.54, 65.74, 83.46, 86.24, 94.18, 66.53, 84.78, 74.34, 80.95, 97.35, 67.85, 100.0, 59.53, 70.91, 87.83, 47.23], \"type\": \"scatter3d\", \"x\": [-33.0287971496582, 102.83720397949219, 137.82337951660156, 7.568247318267822, 49.797943115234375, 86.21956634521484, 122.22943115234375, 51.20020294189453, 83.77760314941406, 13.271181106567383, 133.86141967773438, 136.28045654296875, 37.30509948730469, 85.67609405517578, 184.40286254882812, 157.60894775390625, 112.58213806152344, -95.43986511230469, 80.53278350830078, 0.998307466506958, 91.77130889892578, 33.149131774902344, 11.480031967163086, 48.49979782104492, 77.86936950683594, 30.935935974121094, 117.64513397216797, 78.693603515625, 35.23276138305664, 90.03414154052734, 49.52411651611328, 75.8445053100586, 191.8829345703125, 138.18365478515625, 8.219476699829102, 156.52581787109375, 189.52195739746094, -47.395240783691406, 123.59559631347656, 33.31060791015625, 47.06755065917969, 54.69718933105469, -42.71314239501953, 78.4739761352539, -13.212132453918457, 23.361722946166992, 69.66305541992188], \"y\": [-21.36244010925293, -34.758602142333984, 18.328981399536133, -88.51058959960938, -113.36845397949219, -65.39033508300781, 6.040759563446045, -43.777408599853516, -142.66319274902344, -119.3677749633789, -41.36764907836914, -80.29228973388672, -65.86581420898438, -89.62466430664062, -50.00559997558594, -4.856618881225586, 28.115100860595703, -118.58839416503906, -25.50982666015625, -128.10105895996094, -39.050235748291016, -78.35232543945312, -45.58726119995117, -82.52542877197266, -76.2100601196289, -14.590986251831055, -6.618475914001465, 12.233782768249512, -83.01475524902344, -102.47059631347656, -48.99834060668945, 38.61623001098633, -7.4784650802612305, -71.08309173583984, -45.73564910888672, -20.394512176513672, -36.80691146850586, -145.86717224121094, -43.12161636352539, -153.3529052734375, -98.86595916748047, -33.9888801574707, 129.82684326171875, -64.82474517822266, -87.05229949951172, -0.21795772016048431, 52.681373596191406], \"z\": [160.80178833007812, 16.295757293701172, 54.66069030761719, 66.14137268066406, 11.108824729919434, 50.77739334106445, -2.938662528991699, 114.43560791015625, 1.2936313152313232, 116.93717193603516, 102.71614837646484, 74.09393310546875, 3.123453378677368, -13.74023723602295, 74.47378540039062, 96.55428314208984, 105.82408142089844, -0.6155819296836853, 52.72390365600586, 73.93474578857422, -32.583656311035156, 136.65444946289062, 69.24893188476562, 40.56947326660156, 88.70748138427734, 49.66627883911133, 81.4611587524414, 30.15765953063965, 94.36886596679688, 32.66547775268555, 67.98733520507812, 131.15411376953125, 68.58819580078125, 29.183868408203125, 113.2936782836914, 54.70429992675781, 36.07175827026367, 16.389423370361328, 60.91776657104492, 19.763704299926758, -29.733036041259766, 20.58880043029785, -142.35658264160156, 13.58763599395752, 111.14010620117188, 126.1823959350586, 5.023766994476318]}, {\"hoverlabel\": {\"namelength\": 0}, \"hovertemplate\": \"Cluster=Cluster 1<br>0=%{x}<br>1=%{y}<br>2=%{z}<br>Label=%{text}\", \"legendgroup\": \"Cluster=Cluster 1\", \"marker\": {\"color\": \"#EF553B\", \"opacity\": 0.7, \"symbol\": \"circle\"}, \"mode\": \"markers+text\", \"name\": \"Cluster=Cluster 1\", \"scene\": \"scene\", \"showlegend\": true, \"text\": [80.42, 82.93, 68.78, 74.2, 78.85, 100.0, 72.87, null, 65.73, 84.92, 64.43, 85.45, 76.19, 53.83, 80.95, 59.26, 61.24, 33.33, 76.59, 11.11, 76.71, 95.24, 85.19, 97.35, 94.58, 43.66, 90.74, 76.98, 73.81, 87.84, 62.7, 85.18, 100.0, 59.39, 56.87, 94.71, 78.96, 47.35, 84.26, 86.38, 80.56, 93.38, 87.96, 80.42, 50.4, 89.94, 92.06, 71.16, 85.19, 86.24, 69.18, 54.23, 88.75, 45.37, 91.4, 29.36, 78.3, 43.79, 75.15, 90.74, 82.27, 97.35, 71.71, 50.41, 80.82, 82.41, 72.48, 38.49, 77.64, 56.34, 56.74, 74.99, 75.52, 43.51, 77.12, 76.33, 66.14, 56.34, 86.24, 48.15, 86.77, 97.35, 69.97, 98.02, 100.0, 80.95, 85.85, 83.07, 76.19, 73.01, 69.71, 66.53, 76.07, 56.61, 79.37, 94.18, 56.22, 84.12, 78.31, 96.83, 82.27, 39.02, 93.38, 67.99, 84.78, 74.2, 58.07, 82.02, 81.61, 88.09, 76.71, 96.03], \"type\": \"scatter3d\", \"x\": [-123.41387176513672, 91.50811004638672, -67.29522705078125, 2.861201047897339, -13.797402381896973, 47.98014831542969, -47.96389389038086, -133.30194091796875, -92.50469207763672, 129.75466918945312, -0.29481950402259827, -48.89994430541992, -98.6111831665039, -112.68209075927734, -67.47675323486328, 102.31999969482422, 66.56338500976562, 2.667548656463623, -45.82728958129883, -101.35690307617188, 10.218984603881836, -39.98203659057617, 24.212738037109375, 32.223060607910156, -11.978960990905762, -41.67869567871094, -107.51205444335938, -22.06855010986328, -70.51518249511719, -57.9847526550293, -81.48133850097656, -66.93190002441406, -57.62434005737305, 71.02411651611328, 59.1884651184082, -14.287239074707031, -98.0400390625, 102.16638946533203, 71.5233383178711, 4.098148822784424, -89.21492004394531, 141.48526000976562, -13.981947898864746, -11.226844787597656, -36.527565002441406, 0.9296419024467468, 18.38232421875, -37.06187438964844, -44.03754806518555, -109.76194763183594, -84.21441650390625, -56.42201614379883, -33.34177017211914, 56.464080810546875, -34.315555572509766, -2.2612295150756836, -17.612712860107422, -32.380615234375, -54.84199142456055, -40.584686279296875, -89.10868072509766, -131.25595092773438, 105.19094848632812, -60.64780807495117, -97.04136657714844, 41.70427322387695, 36.312808990478516, 41.98036575317383, -97.47001647949219, 77.71223449707031, -65.14002990722656, -29.547548294067383, 5.404537677764893, -76.45349884033203, 80.31322479248047, -94.2136001586914, -23.435091018676758, 9.256692886352539, 20.28888702392578, 96.4542465209961, -66.24362182617188, -56.75459289550781, -76.68356323242188, -115.03511047363281, -91.04673767089844, 98.50130462646484, -29.208248138427734, -123.46588897705078, -38.685543060302734, -107.12078094482422, 12.38165283203125, -47.2213134765625, -114.99633026123047, 8.216299057006836, 31.5458984375, -50.916648864746094, -83.36174774169922, -75.84249877929688, -84.06967163085938, -54.295780181884766, -71.00396728515625, -91.21216583251953, -24.90481948852539, 1.3132045269012451, 59.66954040527344, 8.3306884765625, -33.07789993286133, -17.459794998168945, -39.285179138183594, -96.5571060180664, -46.556819915771484, -15.68274974822998], \"y\": [-0.6863070726394653, 91.36148834228516, 63.12803268432617, 98.73516845703125, -34.52724075317383, 108.26896667480469, -34.4364128112793, 69.4522476196289, 41.12687683105469, -112.83653259277344, 40.97524642944336, -100.16287231445312, 17.909656524658203, -4.8186259269714355, 164.5304718017578, -18.576522827148438, -17.47063446044922, 145.49826049804688, 7.746726989746094, -134.23196411132812, -5.239068984985352, 45.538429260253906, 72.83036041259766, 22.434059143066406, -101.04822540283203, 121.53749084472656, 74.04593658447266, 71.83073425292969, 25.87491226196289, -24.253639221191406, -3.5192527770996094, 71.75608825683594, 34.614532470703125, 62.97032165527344, -2.4033567905426025, -61.39051818847656, -56.75043487548828, -154.3433074951172, -94.20122528076172, 3.323855400085449, -29.070903778076172, -38.48775100708008, 59.17527770996094, 80.55005645751953, 88.76041412353516, 137.05824279785156, 110.32134246826172, 8.396885871887207, -54.16788101196289, 61.86968231201172, -72.82767486572266, 51.45058822631836, 49.413394927978516, -149.6210174560547, -65.53327941894531, 104.86583709716797, 15.686646461486816, 148.75961303710938, 82.88197326660156, 107.36058044433594, 0.7402254939079285, -14.693325996398926, 55.71377182006836, -104.31400299072266, 82.84195709228516, 27.20606231689453, 46.76978302001953, -21.844066619873047, -30.103404998779297, 51.40491485595703, -11.23338508605957, 117.28642272949219, -44.53911209106445, 105.80917358398438, 13.635384559631348, 74.96220397949219, 11.547811508178711, 110.20386505126953, -37.626914978027344, -127.51409149169922, 86.55750274658203, 42.50598907470703, -76.56729888916016, 109.7632064819336, 98.52416229248047, 46.796958923339844, 106.00020599365234, 41.022953033447266, -45.2140007019043, 85.70411682128906, 1.0285755395889282, -14.736705780029297, 20.51140785217285, 55.612483978271484, 82.5551986694336, -95.14701080322266, -51.97747039794922, 42.88534927368164, 135.34909057617188, -60.45078659057617, 1.7420077323913574, -2.1974687576293945, -99.93663787841797, 68.44674682617188, 22.997159957885742, 120.89407348632812, -61.11095428466797, -4.164945125579834, -30.2033634185791, 15.016183853149414, 10.772551536560059, 145.85606384277344], \"z\": [-71.52198791503906, -31.823740005493164, -20.844152450561523, 75.58128356933594, 27.084806442260742, 57.437705993652344, 69.41403198242188, -51.80561828613281, -46.167720794677734, -21.855588912963867, 34.609588623046875, 71.15320587158203, 28.416902542114258, -8.4443359375, 25.755008697509766, -91.19202423095703, 148.43605041503906, -38.9840202331543, -167.01499938964844, 60.17144775390625, -0.820582926273346, -45.746070861816406, 44.17326354980469, -53.86350631713867, -21.981754302978516, 20.38800811767578, -106.26639556884766, 51.371368408203125, -132.92343139648438, 29.316436767578125, 57.957096099853516, -123.31442260742188, 20.77364158630371, -65.73013305664062, 99.07200622558594, -4.940606117248535, -73.66944885253906, 55.474849700927734, -103.29034423828125, 88.28402709960938, -130.34693908691406, -30.465625762939453, -148.76295471191406, -40.78330993652344, -5.362737655639648, 39.96722412109375, -19.571182250976562, 45.857723236083984, 110.3546371459961, -5.05153751373291, 97.34565734863281, -168.5994415283203, -110.22267150878906, 76.68952178955078, 49.471195220947266, 15.94247817993164, -131.98446655273438, -60.367610931396484, -52.89512634277344, 70.6671371459961, -99.618408203125, -116.05787658691406, -34.516845703125, -74.56402587890625, 94.89106750488281, 77.34986877441406, -29.499235153198242, -28.028385162353516, 24.38886260986328, 60.57740783691406, -42.04088592529297, -32.30964660644531, -61.42588424682617, -88.5263671875, -37.45866394042969, -65.75047302246094, -1.106688141822815, -63.91122055053711, -119.84837341308594, 97.85453033447266, 41.158729553222656, 67.20732879638672, 44.448184967041016, -72.69721221923828, -26.421600341796875, -71.83771514892578, -75.58548736572266, -88.8054428100586, -58.37998580932617, -154.25901794433594, -89.19266510009766, -127.31522369384766, -137.6363525390625, -72.28966522216797, -103.46539306640625, -8.269042015075684, -17.03567123413086, -91.52240753173828, -46.68777847290039, 13.797155380249023, -1.0467324256896973, -166.87164306640625, 27.79916000366211, -3.2728631496429443, -110.56775665283203, -121.98043060302734, -116.35259246826172, -46.808963775634766, -7.1883745193481445, 109.20612335205078, -94.45237731933594, -2.0902655124664307]}, {\"hoverlabel\": {\"namelength\": 0}, \"hovertemplate\": \"Cluster=Cluster 2<br>0=%{x}<br>1=%{y}<br>2=%{z}<br>Label=%{text}\", \"legendgroup\": \"Cluster=Cluster 2\", \"marker\": {\"color\": \"#00cc96\", \"opacity\": 0.7, \"symbol\": \"circle\"}, \"mode\": \"markers+text\", \"name\": \"Cluster=Cluster 2\", \"scene\": \"scene\", \"showlegend\": true, \"text\": [97.35], \"type\": \"scatter3d\", \"x\": [126.08588409423828], \"y\": [84.57623291015625], \"z\": [17.812301635742188]}, {\"hoverlabel\": {\"namelength\": 0}, \"hovertemplate\": \"Cluster=Cluster 3<br>0=%{x}<br>1=%{y}<br>2=%{z}<br>Label=%{text}\", \"legendgroup\": \"Cluster=Cluster 3\", \"marker\": {\"color\": \"#ab63fa\", \"opacity\": 0.7, \"symbol\": \"circle\"}, \"mode\": \"markers+text\", \"name\": \"Cluster=Cluster 3\", \"scene\": \"scene\", \"showlegend\": true, \"text\": [86.38, 71.42, 61.25, 80.43, 68.41], \"type\": \"scatter3d\", \"x\": [-144.0887451171875, -36.45142364501953, -149.8162078857422, -8.11343765258789, 57.331382751464844], \"y\": [-13.57078742980957, 34.14955520629883, -41.79587173461914, 60.41716003417969, -44.60415267944336], \"z\": [66.56562042236328, 126.59561920166016, 40.57941436767578, 121.48432922363281, -79.74867248535156]}],\n",
       "                        {\"height\": 800, \"legend\": {\"tracegroupgap\": 0}, \"scene\": {\"domain\": {\"x\": [0.0, 1.0], \"y\": [0.0, 1.0]}, \"xaxis\": {\"title\": {\"text\": \"0\"}}, \"yaxis\": {\"title\": {\"text\": \"1\"}}, \"zaxis\": {\"title\": {\"text\": \"2\"}}}, \"template\": {\"data\": {\"bar\": [{\"error_x\": {\"color\": \"#2a3f5f\"}, \"error_y\": {\"color\": \"#2a3f5f\"}, \"marker\": {\"line\": {\"color\": \"#E5ECF6\", \"width\": 0.5}}, \"type\": \"bar\"}], \"barpolar\": [{\"marker\": {\"line\": {\"color\": \"#E5ECF6\", \"width\": 0.5}}, \"type\": \"barpolar\"}], \"carpet\": [{\"aaxis\": {\"endlinecolor\": \"#2a3f5f\", \"gridcolor\": \"white\", \"linecolor\": \"white\", \"minorgridcolor\": \"white\", \"startlinecolor\": \"#2a3f5f\"}, \"baxis\": {\"endlinecolor\": \"#2a3f5f\", \"gridcolor\": \"white\", \"linecolor\": \"white\", \"minorgridcolor\": \"white\", \"startlinecolor\": \"#2a3f5f\"}, \"type\": \"carpet\"}], \"choropleth\": [{\"colorbar\": {\"outlinewidth\": 0, \"ticks\": \"\"}, \"type\": \"choropleth\"}], \"contour\": [{\"colorbar\": {\"outlinewidth\": 0, \"ticks\": \"\"}, \"colorscale\": [[0.0, \"#0d0887\"], [0.1111111111111111, \"#46039f\"], [0.2222222222222222, \"#7201a8\"], [0.3333333333333333, \"#9c179e\"], [0.4444444444444444, \"#bd3786\"], [0.5555555555555556, \"#d8576b\"], [0.6666666666666666, \"#ed7953\"], [0.7777777777777778, \"#fb9f3a\"], [0.8888888888888888, \"#fdca26\"], [1.0, \"#f0f921\"]], \"type\": \"contour\"}], \"contourcarpet\": [{\"colorbar\": {\"outlinewidth\": 0, \"ticks\": \"\"}, \"type\": \"contourcarpet\"}], \"heatmap\": [{\"colorbar\": {\"outlinewidth\": 0, \"ticks\": \"\"}, \"colorscale\": [[0.0, \"#0d0887\"], [0.1111111111111111, \"#46039f\"], [0.2222222222222222, \"#7201a8\"], [0.3333333333333333, \"#9c179e\"], [0.4444444444444444, \"#bd3786\"], [0.5555555555555556, \"#d8576b\"], [0.6666666666666666, \"#ed7953\"], [0.7777777777777778, \"#fb9f3a\"], [0.8888888888888888, \"#fdca26\"], [1.0, \"#f0f921\"]], \"type\": \"heatmap\"}], \"heatmapgl\": [{\"colorbar\": {\"outlinewidth\": 0, \"ticks\": \"\"}, \"colorscale\": [[0.0, \"#0d0887\"], [0.1111111111111111, \"#46039f\"], [0.2222222222222222, \"#7201a8\"], [0.3333333333333333, \"#9c179e\"], [0.4444444444444444, \"#bd3786\"], [0.5555555555555556, \"#d8576b\"], [0.6666666666666666, \"#ed7953\"], [0.7777777777777778, \"#fb9f3a\"], [0.8888888888888888, \"#fdca26\"], [1.0, \"#f0f921\"]], \"type\": \"heatmapgl\"}], \"histogram\": [{\"marker\": {\"colorbar\": {\"outlinewidth\": 0, \"ticks\": \"\"}}, \"type\": \"histogram\"}], \"histogram2d\": [{\"colorbar\": {\"outlinewidth\": 0, \"ticks\": \"\"}, \"colorscale\": [[0.0, \"#0d0887\"], [0.1111111111111111, \"#46039f\"], [0.2222222222222222, \"#7201a8\"], [0.3333333333333333, \"#9c179e\"], [0.4444444444444444, \"#bd3786\"], [0.5555555555555556, \"#d8576b\"], [0.6666666666666666, \"#ed7953\"], [0.7777777777777778, \"#fb9f3a\"], [0.8888888888888888, \"#fdca26\"], [1.0, \"#f0f921\"]], \"type\": \"histogram2d\"}], \"histogram2dcontour\": [{\"colorbar\": {\"outlinewidth\": 0, \"ticks\": \"\"}, \"colorscale\": [[0.0, \"#0d0887\"], [0.1111111111111111, \"#46039f\"], [0.2222222222222222, \"#7201a8\"], [0.3333333333333333, \"#9c179e\"], [0.4444444444444444, \"#bd3786\"], [0.5555555555555556, \"#d8576b\"], [0.6666666666666666, \"#ed7953\"], [0.7777777777777778, \"#fb9f3a\"], [0.8888888888888888, \"#fdca26\"], [1.0, \"#f0f921\"]], \"type\": \"histogram2dcontour\"}], \"mesh3d\": [{\"colorbar\": {\"outlinewidth\": 0, \"ticks\": \"\"}, \"type\": \"mesh3d\"}], \"parcoords\": [{\"line\": {\"colorbar\": {\"outlinewidth\": 0, \"ticks\": \"\"}}, \"type\": \"parcoords\"}], \"pie\": [{\"automargin\": true, \"type\": \"pie\"}], \"scatter\": [{\"marker\": {\"colorbar\": {\"outlinewidth\": 0, \"ticks\": \"\"}}, \"type\": \"scatter\"}], \"scatter3d\": [{\"line\": {\"colorbar\": {\"outlinewidth\": 0, \"ticks\": \"\"}}, \"marker\": {\"colorbar\": {\"outlinewidth\": 0, \"ticks\": \"\"}}, \"type\": \"scatter3d\"}], \"scattercarpet\": [{\"marker\": {\"colorbar\": {\"outlinewidth\": 0, \"ticks\": \"\"}}, \"type\": \"scattercarpet\"}], \"scattergeo\": [{\"marker\": {\"colorbar\": {\"outlinewidth\": 0, \"ticks\": \"\"}}, \"type\": \"scattergeo\"}], \"scattergl\": [{\"marker\": {\"colorbar\": {\"outlinewidth\": 0, \"ticks\": \"\"}}, \"type\": \"scattergl\"}], \"scattermapbox\": [{\"marker\": {\"colorbar\": {\"outlinewidth\": 0, \"ticks\": \"\"}}, \"type\": \"scattermapbox\"}], \"scatterpolar\": [{\"marker\": {\"colorbar\": {\"outlinewidth\": 0, \"ticks\": \"\"}}, \"type\": \"scatterpolar\"}], \"scatterpolargl\": [{\"marker\": {\"colorbar\": {\"outlinewidth\": 0, \"ticks\": \"\"}}, \"type\": \"scatterpolargl\"}], \"scatterternary\": [{\"marker\": {\"colorbar\": {\"outlinewidth\": 0, \"ticks\": \"\"}}, \"type\": \"scatterternary\"}], \"surface\": [{\"colorbar\": {\"outlinewidth\": 0, \"ticks\": \"\"}, \"colorscale\": [[0.0, \"#0d0887\"], [0.1111111111111111, \"#46039f\"], [0.2222222222222222, \"#7201a8\"], [0.3333333333333333, \"#9c179e\"], [0.4444444444444444, \"#bd3786\"], [0.5555555555555556, \"#d8576b\"], [0.6666666666666666, \"#ed7953\"], [0.7777777777777778, \"#fb9f3a\"], [0.8888888888888888, \"#fdca26\"], [1.0, \"#f0f921\"]], \"type\": \"surface\"}], \"table\": [{\"cells\": {\"fill\": {\"color\": \"#EBF0F8\"}, \"line\": {\"color\": \"white\"}}, \"header\": {\"fill\": {\"color\": \"#C8D4E3\"}, \"line\": {\"color\": \"white\"}}, \"type\": \"table\"}]}, \"layout\": {\"annotationdefaults\": {\"arrowcolor\": \"#2a3f5f\", \"arrowhead\": 0, \"arrowwidth\": 1}, \"coloraxis\": {\"colorbar\": {\"outlinewidth\": 0, \"ticks\": \"\"}}, \"colorscale\": {\"diverging\": [[0, \"#8e0152\"], [0.1, \"#c51b7d\"], [0.2, \"#de77ae\"], [0.3, \"#f1b6da\"], [0.4, \"#fde0ef\"], [0.5, \"#f7f7f7\"], [0.6, \"#e6f5d0\"], [0.7, \"#b8e186\"], [0.8, \"#7fbc41\"], [0.9, \"#4d9221\"], [1, \"#276419\"]], \"sequential\": [[0.0, \"#0d0887\"], [0.1111111111111111, \"#46039f\"], [0.2222222222222222, \"#7201a8\"], [0.3333333333333333, \"#9c179e\"], [0.4444444444444444, \"#bd3786\"], [0.5555555555555556, \"#d8576b\"], [0.6666666666666666, \"#ed7953\"], [0.7777777777777778, \"#fb9f3a\"], [0.8888888888888888, \"#fdca26\"], [1.0, \"#f0f921\"]], \"sequentialminus\": [[0.0, \"#0d0887\"], [0.1111111111111111, \"#46039f\"], [0.2222222222222222, \"#7201a8\"], [0.3333333333333333, \"#9c179e\"], [0.4444444444444444, \"#bd3786\"], [0.5555555555555556, \"#d8576b\"], [0.6666666666666666, \"#ed7953\"], [0.7777777777777778, \"#fb9f3a\"], [0.8888888888888888, \"#fdca26\"], [1.0, \"#f0f921\"]]}, \"colorway\": [\"#636efa\", \"#EF553B\", \"#00cc96\", \"#ab63fa\", \"#FFA15A\", \"#19d3f3\", \"#FF6692\", \"#B6E880\", \"#FF97FF\", \"#FECB52\"], \"font\": {\"color\": \"#2a3f5f\"}, \"geo\": {\"bgcolor\": \"white\", \"lakecolor\": \"white\", \"landcolor\": \"#E5ECF6\", \"showlakes\": true, \"showland\": true, \"subunitcolor\": \"white\"}, \"hoverlabel\": {\"align\": \"left\"}, \"hovermode\": \"closest\", \"mapbox\": {\"style\": \"light\"}, \"paper_bgcolor\": \"white\", \"plot_bgcolor\": \"#E5ECF6\", \"polar\": {\"angularaxis\": {\"gridcolor\": \"white\", \"linecolor\": \"white\", \"ticks\": \"\"}, \"bgcolor\": \"#E5ECF6\", \"radialaxis\": {\"gridcolor\": \"white\", \"linecolor\": \"white\", \"ticks\": \"\"}}, \"scene\": {\"xaxis\": {\"backgroundcolor\": \"#E5ECF6\", \"gridcolor\": \"white\", \"gridwidth\": 2, \"linecolor\": \"white\", \"showbackground\": true, \"ticks\": \"\", \"zerolinecolor\": \"white\"}, \"yaxis\": {\"backgroundcolor\": \"#E5ECF6\", \"gridcolor\": \"white\", \"gridwidth\": 2, \"linecolor\": \"white\", \"showbackground\": true, \"ticks\": \"\", \"zerolinecolor\": \"white\"}, \"zaxis\": {\"backgroundcolor\": \"#E5ECF6\", \"gridcolor\": \"white\", \"gridwidth\": 2, \"linecolor\": \"white\", \"showbackground\": true, \"ticks\": \"\", \"zerolinecolor\": \"white\"}}, \"shapedefaults\": {\"line\": {\"color\": \"#2a3f5f\"}}, \"ternary\": {\"aaxis\": {\"gridcolor\": \"white\", \"linecolor\": \"white\", \"ticks\": \"\"}, \"baxis\": {\"gridcolor\": \"white\", \"linecolor\": \"white\", \"ticks\": \"\"}, \"bgcolor\": \"#E5ECF6\", \"caxis\": {\"gridcolor\": \"white\", \"linecolor\": \"white\", \"ticks\": \"\"}}, \"title\": {\"x\": 0.05}, \"xaxis\": {\"automargin\": true, \"gridcolor\": \"white\", \"linecolor\": \"white\", \"ticks\": \"\", \"title\": {\"standoff\": 15}, \"zerolinecolor\": \"white\", \"zerolinewidth\": 2}, \"yaxis\": {\"automargin\": true, \"gridcolor\": \"white\", \"linecolor\": \"white\", \"ticks\": \"\", \"title\": {\"standoff\": 15}, \"zerolinecolor\": \"white\", \"zerolinewidth\": 2}}}, \"title\": {\"text\": \"3d TSNE Plot for Clusters\"}, \"width\": 900},\n",
       "                        {\"responsive\": true}\n",
       "                    ).then(function(){\n",
       "                            \n",
       "var gd = document.getElementById('758a4f03-b578-4ae6-92d6-9847b689f3cc');\n",
       "var x = new MutationObserver(function (mutations, observer) {{\n",
       "        var display = window.getComputedStyle(gd).display;\n",
       "        if (!display || display === 'none') {{\n",
       "            console.log([gd, 'removed!']);\n",
       "            Plotly.purge(gd);\n",
       "            observer.disconnect();\n",
       "        }}\n",
       "}});\n",
       "\n",
       "// Listen for the removal of the full notebook cells\n",
       "var notebookContainer = gd.closest('#notebook-container');\n",
       "if (notebookContainer) {{\n",
       "    x.observe(notebookContainer, {childList: true});\n",
       "}}\n",
       "\n",
       "// Listen for the clearing of the current output cell\n",
       "var outputEl = gd.closest('.output');\n",
       "if (outputEl) {{\n",
       "    x.observe(outputEl, {childList: true});\n",
       "}}\n",
       "\n",
       "                        })\n",
       "                };\n",
       "                });\n",
       "            </script>\n",
       "        </div>"
      ]
     },
     "metadata": {},
     "output_type": "display_data"
    }
   ],
   "source": [
    "plot_model(kmeans, plot = 'tsne',label=True,feature = 'stringency_index')"
   ]
  },
  {
   "cell_type": "code",
   "execution_count": 33,
   "metadata": {},
   "outputs": [
    {
     "data": {
      "text/html": [
       "        <script type=\"text/javascript\">\n",
       "        window.PlotlyConfig = {MathJaxConfig: 'local'};\n",
       "        if (window.MathJax) {MathJax.Hub.Config({SVG: {font: \"STIX-Web\"}});}\n",
       "        if (typeof require !== 'undefined') {\n",
       "        require.undef(\"plotly\");\n",
       "        requirejs.config({\n",
       "            paths: {\n",
       "                'plotly': ['https://cdn.plot.ly/plotly-latest.min']\n",
       "            }\n",
       "        });\n",
       "        require(['plotly'], function(Plotly) {\n",
       "            window._Plotly = Plotly;\n",
       "        });\n",
       "        }\n",
       "        </script>\n",
       "        "
      ]
     },
     "metadata": {},
     "output_type": "display_data"
    },
    {
     "data": {
      "image/png": "[encoded data removed]",
      "text/plain": [
       "<Figure size 576x396 with 2 Axes>"
      ]
     },
     "metadata": {},
     "output_type": "display_data"
    }
   ],
   "source": [
    "plot_model(kmeans, plot = 'distance')"
   ]
  },
  {
   "cell_type": "code",
   "execution_count": null,
   "metadata": {},
   "outputs": [],
   "source": []
  }
 ],
 "metadata": {
  "kernelspec": {
   "display_name": "Python 3",
   "language": "python",
   "name": "python3"
  },
  "language_info": {
   "codemirror_mode": {
    "name": "ipython",
    "version": 3
   },
   "file_extension": ".py",
   "mimetype": "text/x-python",
   "name": "python",
   "nbconvert_exporter": "python",
   "pygments_lexer": "ipython3",
   "version": "3.7.6"
  }
 },
 "nbformat": 4,
 "nbformat_minor": 4
}
